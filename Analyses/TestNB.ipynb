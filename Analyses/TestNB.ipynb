{
 "cells": [
  {
   "cell_type": "code",
   "execution_count": 4,
   "metadata": {
    "collapsed": true
   },
   "outputs": [],
   "source": [
    "import sys\n",
    "sys.path.insert(0, r\"C:\\users\\pairwin\\Documents\\Github\\HelperPI\")\n",
    "\n",
    "import HelperPI\n",
    "import seaborn as sbs\n",
    "import pandas as pd\n",
    "import scipy.stats as sts"
   ]
  },
  {
   "cell_type": "code",
   "execution_count": 5,
   "metadata": {},
   "outputs": [
    {
     "name": "stderr",
     "output_type": "stream",
     "text": [
      "INFO:root:Initializing...\n"
     ]
    }
   ],
   "source": [
    "helper = HelperPI.Helper()"
   ]
  },
  {
   "cell_type": "code",
   "execution_count": 9,
   "metadata": {
    "collapsed": true
   },
   "outputs": [],
   "source": [
    "sql = helper.getSQL(r\"C:\\users\\pairwin\\Documents\\GitHub\\IPy_Notebooks\\SQL\\TestSql.sql\")"
   ]
  },
  {
   "cell_type": "code",
   "execution_count": 10,
   "metadata": {},
   "outputs": [
    {
     "name": "stderr",
     "output_type": "stream",
     "text": [
      "INFO:root:Reading data...\n",
      "INFO:root:Data read complete...\n"
     ]
    },
    {
     "name": "stdout",
     "output_type": "stream",
     "text": [
      "             Count Column Type\n",
      "0      FISCAL_YEAR       int64\n",
      "1          REBUYER      object\n",
      "2          FREQ_1X     float64\n",
      "3      FREQ_2XPLUS     float64\n",
      "4            TOTAL     float64\n",
      "5       SPEND_0_25     float64\n",
      "6      SPEND_26_50     float64\n",
      "7     SPEND_51_100     float64\n",
      "8    SPEND_101_250     float64\n",
      "9   SPEND_251_PLUS     float64\n",
      "10      D100BUYERS     float64\n",
      "11      D151BUYERS     float64\n",
      "12      D175BUYERS     float64\n",
      "13      D200BUYERS     float64\n",
      "14      D300BUYERS     float64\n",
      "15      D350BUYERS     float64\n",
      "16      D400BUYERS     float64\n",
      "17      D450BUYERS     float64\n",
      "18      D475BUYERS     float64\n",
      "19      D500BUYERS     float64\n",
      "20      D600BUYERS     float64\n",
      "21      D650BUYERS     float64\n",
      "22      D675BUYERS     float64\n",
      "23      D700BUYERS     float64\n",
      "24      D800BUYERS     float64\n",
      "25      D850BUYERS     float64\n",
      "26      D875BUYERS     float64\n",
      "27      D999BUYERS     float64\n",
      "28      BRANDEDYES     float64\n",
      "29       BRANDEDNO     float64\n"
     ]
    }
   ],
   "source": [
    "data, dtypedf = helper.readData(sql)"
   ]
  },
  {
   "cell_type": "code",
   "execution_count": 11,
   "metadata": {},
   "outputs": [
    {
     "data": {
      "text/html": [
       "<div>\n",
       "<style>\n",
       "    .dataframe thead tr:only-child th {\n",
       "        text-align: right;\n",
       "    }\n",
       "\n",
       "    .dataframe thead th {\n",
       "        text-align: left;\n",
       "    }\n",
       "\n",
       "    .dataframe tbody tr th {\n",
       "        vertical-align: top;\n",
       "    }\n",
       "</style>\n",
       "<table border=\"1\" class=\"dataframe\">\n",
       "  <thead>\n",
       "    <tr style=\"text-align: right;\">\n",
       "      <th></th>\n",
       "      <th>FISCAL_YEAR</th>\n",
       "      <th>REBUYER</th>\n",
       "      <th>FREQ_1X</th>\n",
       "      <th>FREQ_2XPLUS</th>\n",
       "      <th>TOTAL</th>\n",
       "      <th>SPEND_0_25</th>\n",
       "      <th>SPEND_26_50</th>\n",
       "      <th>SPEND_51_100</th>\n",
       "      <th>SPEND_101_250</th>\n",
       "      <th>SPEND_251_PLUS</th>\n",
       "      <th>...</th>\n",
       "      <th>D600BUYERS</th>\n",
       "      <th>D650BUYERS</th>\n",
       "      <th>D675BUYERS</th>\n",
       "      <th>D700BUYERS</th>\n",
       "      <th>D800BUYERS</th>\n",
       "      <th>D850BUYERS</th>\n",
       "      <th>D875BUYERS</th>\n",
       "      <th>D999BUYERS</th>\n",
       "      <th>BRANDEDYES</th>\n",
       "      <th>BRANDEDNO</th>\n",
       "    </tr>\n",
       "  </thead>\n",
       "  <tbody>\n",
       "    <tr>\n",
       "      <th>0</th>\n",
       "      <td>2016</td>\n",
       "      <td>A. YES DIR/RET</td>\n",
       "      <td>26963.0</td>\n",
       "      <td>29357.0</td>\n",
       "      <td>56320.0</td>\n",
       "      <td>3820.0</td>\n",
       "      <td>6982.0</td>\n",
       "      <td>11257.0</td>\n",
       "      <td>16571.0</td>\n",
       "      <td>17690.0</td>\n",
       "      <td>...</td>\n",
       "      <td>12521.0</td>\n",
       "      <td>3492.0</td>\n",
       "      <td>738.0</td>\n",
       "      <td>4197.0</td>\n",
       "      <td>216.0</td>\n",
       "      <td>1136.0</td>\n",
       "      <td>0.0</td>\n",
       "      <td>2651.0</td>\n",
       "      <td>38229.0</td>\n",
       "      <td>46640.0</td>\n",
       "    </tr>\n",
       "    <tr>\n",
       "      <th>1</th>\n",
       "      <td>2016</td>\n",
       "      <td>B. YES DIR ONLY</td>\n",
       "      <td>83394.0</td>\n",
       "      <td>62969.0</td>\n",
       "      <td>146363.0</td>\n",
       "      <td>13963.0</td>\n",
       "      <td>23426.0</td>\n",
       "      <td>34659.0</td>\n",
       "      <td>42062.0</td>\n",
       "      <td>32253.0</td>\n",
       "      <td>...</td>\n",
       "      <td>33045.0</td>\n",
       "      <td>10641.0</td>\n",
       "      <td>1799.0</td>\n",
       "      <td>10023.0</td>\n",
       "      <td>684.0</td>\n",
       "      <td>2699.0</td>\n",
       "      <td>1.0</td>\n",
       "      <td>8995.0</td>\n",
       "      <td>99313.0</td>\n",
       "      <td>113216.0</td>\n",
       "    </tr>\n",
       "    <tr>\n",
       "      <th>2</th>\n",
       "      <td>2016</td>\n",
       "      <td>C. YES RET ONLY</td>\n",
       "      <td>120729.0</td>\n",
       "      <td>39546.0</td>\n",
       "      <td>160275.0</td>\n",
       "      <td>18184.0</td>\n",
       "      <td>29960.0</td>\n",
       "      <td>41325.0</td>\n",
       "      <td>43520.0</td>\n",
       "      <td>27286.0</td>\n",
       "      <td>...</td>\n",
       "      <td>27454.0</td>\n",
       "      <td>8667.0</td>\n",
       "      <td>1655.0</td>\n",
       "      <td>10691.0</td>\n",
       "      <td>481.0</td>\n",
       "      <td>1900.0</td>\n",
       "      <td>0.0</td>\n",
       "      <td>6536.0</td>\n",
       "      <td>89633.0</td>\n",
       "      <td>117430.0</td>\n",
       "    </tr>\n",
       "    <tr>\n",
       "      <th>3</th>\n",
       "      <td>2016</td>\n",
       "      <td>D.NO</td>\n",
       "      <td>1096708.0</td>\n",
       "      <td>172958.0</td>\n",
       "      <td>1269666.0</td>\n",
       "      <td>220539.0</td>\n",
       "      <td>312328.0</td>\n",
       "      <td>351224.0</td>\n",
       "      <td>274359.0</td>\n",
       "      <td>111216.0</td>\n",
       "      <td>...</td>\n",
       "      <td>231923.0</td>\n",
       "      <td>84371.0</td>\n",
       "      <td>16622.0</td>\n",
       "      <td>94106.0</td>\n",
       "      <td>5538.0</td>\n",
       "      <td>13240.0</td>\n",
       "      <td>1.0</td>\n",
       "      <td>94318.0</td>\n",
       "      <td>689830.0</td>\n",
       "      <td>854219.0</td>\n",
       "    </tr>\n",
       "    <tr>\n",
       "      <th>4</th>\n",
       "      <td>2015</td>\n",
       "      <td>A. YES DIR/RET</td>\n",
       "      <td>32753.0</td>\n",
       "      <td>33173.0</td>\n",
       "      <td>65926.0</td>\n",
       "      <td>4463.0</td>\n",
       "      <td>8029.0</td>\n",
       "      <td>13963.0</td>\n",
       "      <td>19673.0</td>\n",
       "      <td>19798.0</td>\n",
       "      <td>...</td>\n",
       "      <td>13577.0</td>\n",
       "      <td>4007.0</td>\n",
       "      <td>703.0</td>\n",
       "      <td>5313.0</td>\n",
       "      <td>331.0</td>\n",
       "      <td>1411.0</td>\n",
       "      <td>0.0</td>\n",
       "      <td>3127.0</td>\n",
       "      <td>44474.0</td>\n",
       "      <td>54471.0</td>\n",
       "    </tr>\n",
       "  </tbody>\n",
       "</table>\n",
       "<p>5 rows × 30 columns</p>\n",
       "</div>"
      ],
      "text/plain": [
       "   FISCAL_YEAR          REBUYER    FREQ_1X  FREQ_2XPLUS      TOTAL  \\\n",
       "0         2016   A. YES DIR/RET    26963.0      29357.0    56320.0   \n",
       "1         2016  B. YES DIR ONLY    83394.0      62969.0   146363.0   \n",
       "2         2016  C. YES RET ONLY   120729.0      39546.0   160275.0   \n",
       "3         2016             D.NO  1096708.0     172958.0  1269666.0   \n",
       "4         2015   A. YES DIR/RET    32753.0      33173.0    65926.0   \n",
       "\n",
       "   SPEND_0_25  SPEND_26_50  SPEND_51_100  SPEND_101_250  SPEND_251_PLUS  \\\n",
       "0      3820.0       6982.0       11257.0        16571.0         17690.0   \n",
       "1     13963.0      23426.0       34659.0        42062.0         32253.0   \n",
       "2     18184.0      29960.0       41325.0        43520.0         27286.0   \n",
       "3    220539.0     312328.0      351224.0       274359.0        111216.0   \n",
       "4      4463.0       8029.0       13963.0        19673.0         19798.0   \n",
       "\n",
       "     ...      D600BUYERS  D650BUYERS  D675BUYERS  D700BUYERS  D800BUYERS  \\\n",
       "0    ...         12521.0      3492.0       738.0      4197.0       216.0   \n",
       "1    ...         33045.0     10641.0      1799.0     10023.0       684.0   \n",
       "2    ...         27454.0      8667.0      1655.0     10691.0       481.0   \n",
       "3    ...        231923.0     84371.0     16622.0     94106.0      5538.0   \n",
       "4    ...         13577.0      4007.0       703.0      5313.0       331.0   \n",
       "\n",
       "   D850BUYERS  D875BUYERS  D999BUYERS  BRANDEDYES  BRANDEDNO  \n",
       "0      1136.0         0.0      2651.0     38229.0    46640.0  \n",
       "1      2699.0         1.0      8995.0     99313.0   113216.0  \n",
       "2      1900.0         0.0      6536.0     89633.0   117430.0  \n",
       "3     13240.0         1.0     94318.0    689830.0   854219.0  \n",
       "4      1411.0         0.0      3127.0     44474.0    54471.0  \n",
       "\n",
       "[5 rows x 30 columns]"
      ]
     },
     "execution_count": 11,
     "metadata": {},
     "output_type": "execute_result"
    }
   ],
   "source": [
    "data.head()"
   ]
  },
  {
   "cell_type": "code",
   "execution_count": 27,
   "metadata": {},
   "outputs": [],
   "source": [
    "%matplotlib inline"
   ]
  },
  {
   "cell_type": "code",
   "execution_count": 29,
   "metadata": {},
   "outputs": [
    {
     "data": {
      "text/plain": [
       "<matplotlib.axes._subplots.AxesSubplot at 0xd5809b0>"
      ]
     },
     "execution_count": 29,
     "metadata": {},
     "output_type": "execute_result"
    },
    {
     "data": {
      "image/png": "[encoded data removed]",
      "text/plain": [
       "<matplotlib.figure.Figure at 0xd3eab70>"
      ]
     },
     "metadata": {},
     "output_type": "display_data"
    }
   ],
   "source": [
    "sbs.barplot(x=\"TOTAL\", y=\"REBUYER\", data=data)"
   ]
  }
 ],
 "metadata": {
  "kernelspec": {
   "display_name": "Python 3",
   "language": "python",
   "name": "python3"
  },
  "language_info": {
   "codemirror_mode": {
    "name": "ipython",
    "version": 3
   },
   "file_extension": ".py",
   "mimetype": "text/x-python",
   "name": "python",
   "nbconvert_exporter": "python",
   "pygments_lexer": "ipython3",
   "version": "3.6.1"
  }
 },
 "nbformat": 4,
 "nbformat_minor": 2
}

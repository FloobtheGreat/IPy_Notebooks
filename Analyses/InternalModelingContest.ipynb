{
 "cells": [
  {
   "cell_type": "code",
   "execution_count": 1,
   "metadata": {},
   "outputs": [
    {
     "name": "stderr",
     "output_type": "stream",
     "text": [
      "C:\\ProgramData\\Anaconda3\\lib\\site-packages\\sklearn\\cross_validation.py:44: DeprecationWarning: This module was deprecated in version 0.18 in favor of the model_selection module into which all the refactored classes and functions are moved. Also note that the interface of the new CV iterators are different from that of this module. This module will be removed in 0.20.\n",
      "  \"This module will be removed in 0.20.\", DeprecationWarning)\n"
     ]
    }
   ],
   "source": [
    "import sys\n",
    "import importlib as imp\n",
    "sys.path.insert(0, r\"C:\\users\\pairwin\\Documents\\Github\\HelperPI\")\n",
    "#sys.path.insert(0, r'/home/pirwin/Git/HelperPI')\n",
    "#imp.reload(HelperPI)\n",
    "import HelperPI\n",
    "import itertools\n",
    "import seaborn as sns\n",
    "import pandas as pd\n",
    "import scipy.stats as stats\n",
    "from scipy.special import inv_boxcox\n",
    "from scipy.stats.distributions import uniform, lognorm\n",
    "import matplotlib.pyplot as plt\n",
    "import matplotlib\n",
    "import statsmodels.formula.api as sts\n",
    "import numpy as np\n",
    "import math\n",
    "import xgboost as xgb\n",
    "from sklearn.ensemble import RandomForestRegressor\n",
    "from sklearn.preprocessing import Imputer, MinMaxScaler\n",
    "from sklearn.model_selection import GridSearchCV, cross_val_score, RandomizedSearchCV\n",
    "from sklearn.externals import joblib\n",
    "from sklearn.preprocessing import StandardScaler, Normalizer, RobustScaler\n",
    "from scipy import interp\n",
    "from sklearn.metrics import r2_score, mean_squared_error, mean_absolute_error\n",
    "from sklearn.linear_model import LinearRegression, LassoLars, HuberRegressor, ElasticNet, Ridge\n",
    "from sklearn.svm import LinearSVR\n",
    "from sklearn.kernel_ridge import KernelRidge\n",
    "from time import time\n",
    "from sklearn.neural_network import MLPRegressor\n",
    "from sklearn.feature_selection import SelectKBest, f_regression\n",
    "import lightgbm as lgbm\n",
    "import tensorflow as tf\n",
    "\n",
    " \n"
   ]
  },
  {
   "cell_type": "code",
   "execution_count": 2,
   "metadata": {},
   "outputs": [
    {
     "name": "stderr",
     "output_type": "stream",
     "text": [
      "INFO:root:Initializing...\n"
     ]
    }
   ],
   "source": [
    "helper = HelperPI.Helper()"
   ]
  },
  {
   "cell_type": "code",
   "execution_count": 3,
   "metadata": {
    "scrolled": true
   },
   "outputs": [
    {
     "name": "stderr",
     "output_type": "stream",
     "text": [
      "INFO:root:Reading data...\n",
      "INFO:root:Data read complete...\n",
      "INFO:root:Read: 80000 rows.\n"
     ]
    },
    {
     "name": "stdout",
     "output_type": "stream",
     "text": [
      "                           Count Column Type\n",
      "0                      LAST_NAME      object\n",
      "1                 ADDRESS_LINE_1      object\n",
      "2                 ADDRESS_LINE_2      object\n",
      "3                      CITY_NAME      object\n",
      "4                     STATE_CODE      object\n",
      "5                   COUNTRY_CODE      object\n",
      "6                            ZIP      object\n",
      "7                        ZIP_EXT      object\n",
      "8                      SALES_R12     float64\n",
      "9                      SALES_R24     float64\n",
      "10                     SALES_R48     float64\n",
      "11                     SALES_RLT     float64\n",
      "12       FISHING_MARINE_SALES_LT     float64\n",
      "13  CAMPING_WATERSPORTS_SALES_LT     float64\n",
      "14    HUNTING_HUNTCLOTH_SALES_LT     float64\n",
      "15             FOOTWEAR_SALES_LT     float64\n",
      "16             SHOOTING_SALES_LT     float64\n",
      "17                 GIFT_SALES_LT     float64\n",
      "18              APPAREL_SALES_LT     float64\n",
      "19                OTHER_SALES_LT     float64\n",
      "20                     VISITS_LT     float64\n",
      "21              FISH_MARINE_PERC     float64\n",
      "22      CAMPING_WATERSPORTS_PERC     float64\n",
      "23                  HUNTING_PERC     float64\n",
      "24                 FOOTWEAR_PERC     float64\n",
      "25                 SHOOTING_PERC     float64\n",
      "26                     GIFT_PERC     float64\n",
      "27                  APPAREL_PERC     float64\n",
      "28                    OTHER_PERC     float64\n",
      "29           DAYS_SINCE_PURCHASE     float64\n",
      "30              DAYS_AS_CUSTOMER     float64\n",
      "31              REWARDS_CUSTOMER       int64\n",
      "32                     YOY_TREND     float64\n",
      "33              SALES_TARGET_N12     float64\n"
     ]
    }
   ],
   "source": [
    "sql = helper.getSQL(path=r'C:\\Users\\pairwin\\Documents\\GitHub\\IPy_Notebooks\\SQL\\Contest_Sql.sql')\n",
    "base, dtypedf = helper.readData(sql)"
   ]
  },
  {
   "cell_type": "code",
   "execution_count": 4,
   "metadata": {},
   "outputs": [
    {
     "data": {
      "text/html": [
       "<div>\n",
       "<style>\n",
       "    .dataframe thead tr:only-child th {\n",
       "        text-align: right;\n",
       "    }\n",
       "\n",
       "    .dataframe thead th {\n",
       "        text-align: left;\n",
       "    }\n",
       "\n",
       "    .dataframe tbody tr th {\n",
       "        vertical-align: top;\n",
       "    }\n",
       "</style>\n",
       "<table border=\"1\" class=\"dataframe\">\n",
       "  <thead>\n",
       "    <tr style=\"text-align: right;\">\n",
       "      <th></th>\n",
       "      <th>SALES_R12</th>\n",
       "      <th>SALES_R24</th>\n",
       "      <th>SALES_R48</th>\n",
       "      <th>SALES_RLT</th>\n",
       "      <th>FISHING_MARINE_SALES_LT</th>\n",
       "      <th>CAMPING_WATERSPORTS_SALES_LT</th>\n",
       "      <th>HUNTING_HUNTCLOTH_SALES_LT</th>\n",
       "      <th>FOOTWEAR_SALES_LT</th>\n",
       "      <th>SHOOTING_SALES_LT</th>\n",
       "      <th>GIFT_SALES_LT</th>\n",
       "      <th>APPAREL_SALES_LT</th>\n",
       "      <th>OTHER_SALES_LT</th>\n",
       "      <th>VISITS_LT</th>\n",
       "      <th>FISH_MARINE_PERC</th>\n",
       "      <th>CAMPING_WATERSPORTS_PERC</th>\n",
       "      <th>HUNTING_PERC</th>\n",
       "      <th>FOOTWEAR_PERC</th>\n",
       "      <th>SHOOTING_PERC</th>\n",
       "      <th>GIFT_PERC</th>\n",
       "      <th>APPAREL_PERC</th>\n",
       "      <th>OTHER_PERC</th>\n",
       "      <th>DAYS_SINCE_PURCHASE</th>\n",
       "      <th>DAYS_AS_CUSTOMER</th>\n",
       "      <th>REWARDS_CUSTOMER</th>\n",
       "      <th>YOY_TREND</th>\n",
       "      <th>SALES_TARGET_N12</th>\n",
       "    </tr>\n",
       "  </thead>\n",
       "  <tbody>\n",
       "    <tr>\n",
       "      <th>count</th>\n",
       "      <td>79918.000000</td>\n",
       "      <td>79918.000000</td>\n",
       "      <td>79918.000000</td>\n",
       "      <td>79918.000000</td>\n",
       "      <td>79918.000000</td>\n",
       "      <td>79918.000000</td>\n",
       "      <td>79918.000000</td>\n",
       "      <td>79918.000000</td>\n",
       "      <td>79918.000000</td>\n",
       "      <td>79918.000000</td>\n",
       "      <td>79918.000000</td>\n",
       "      <td>79918.000000</td>\n",
       "      <td>79918.000000</td>\n",
       "      <td>79884.000000</td>\n",
       "      <td>79884.000000</td>\n",
       "      <td>79884.000000</td>\n",
       "      <td>79884.000000</td>\n",
       "      <td>79884.000000</td>\n",
       "      <td>79884.000000</td>\n",
       "      <td>79884.000000</td>\n",
       "      <td>79884.000000</td>\n",
       "      <td>79884.000000</td>\n",
       "      <td>79884.000000</td>\n",
       "      <td>79918.000000</td>\n",
       "      <td>79918.000000</td>\n",
       "      <td>79918.000000</td>\n",
       "    </tr>\n",
       "    <tr>\n",
       "      <th>mean</th>\n",
       "      <td>83.438211</td>\n",
       "      <td>166.947852</td>\n",
       "      <td>337.299173</td>\n",
       "      <td>673.749302</td>\n",
       "      <td>186.233366</td>\n",
       "      <td>61.712652</td>\n",
       "      <td>136.877422</td>\n",
       "      <td>48.148130</td>\n",
       "      <td>97.079408</td>\n",
       "      <td>32.163692</td>\n",
       "      <td>100.068954</td>\n",
       "      <td>11.465677</td>\n",
       "      <td>6.967704</td>\n",
       "      <td>0.208038</td>\n",
       "      <td>0.102893</td>\n",
       "      <td>0.152598</td>\n",
       "      <td>0.082279</td>\n",
       "      <td>0.111449</td>\n",
       "      <td>0.114539</td>\n",
       "      <td>0.207903</td>\n",
       "      <td>0.020301</td>\n",
       "      <td>940.035364</td>\n",
       "      <td>1988.243328</td>\n",
       "      <td>0.389987</td>\n",
       "      <td>0.065074</td>\n",
       "      <td>56.560954</td>\n",
       "    </tr>\n",
       "    <tr>\n",
       "      <th>std</th>\n",
       "      <td>268.696790</td>\n",
       "      <td>447.460883</td>\n",
       "      <td>790.340124</td>\n",
       "      <td>2067.767806</td>\n",
       "      <td>1233.543211</td>\n",
       "      <td>216.221162</td>\n",
       "      <td>531.486461</td>\n",
       "      <td>166.532271</td>\n",
       "      <td>405.205596</td>\n",
       "      <td>111.094871</td>\n",
       "      <td>291.627383</td>\n",
       "      <td>77.224961</td>\n",
       "      <td>18.934849</td>\n",
       "      <td>0.327831</td>\n",
       "      <td>0.229097</td>\n",
       "      <td>0.270927</td>\n",
       "      <td>0.203322</td>\n",
       "      <td>0.251943</td>\n",
       "      <td>0.250474</td>\n",
       "      <td>0.310039</td>\n",
       "      <td>0.102861</td>\n",
       "      <td>425.711726</td>\n",
       "      <td>1220.294843</td>\n",
       "      <td>0.487750</td>\n",
       "      <td>4.737827</td>\n",
       "      <td>211.668225</td>\n",
       "    </tr>\n",
       "    <tr>\n",
       "      <th>min</th>\n",
       "      <td>0.000000</td>\n",
       "      <td>0.000000</td>\n",
       "      <td>0.030000</td>\n",
       "      <td>0.000000</td>\n",
       "      <td>0.000000</td>\n",
       "      <td>0.000000</td>\n",
       "      <td>0.000000</td>\n",
       "      <td>0.000000</td>\n",
       "      <td>0.000000</td>\n",
       "      <td>0.000000</td>\n",
       "      <td>0.000000</td>\n",
       "      <td>0.000000</td>\n",
       "      <td>0.000000</td>\n",
       "      <td>0.000000</td>\n",
       "      <td>0.000000</td>\n",
       "      <td>0.000000</td>\n",
       "      <td>0.000000</td>\n",
       "      <td>0.000000</td>\n",
       "      <td>0.000000</td>\n",
       "      <td>0.000000</td>\n",
       "      <td>0.000000</td>\n",
       "      <td>365.000000</td>\n",
       "      <td>365.000000</td>\n",
       "      <td>0.000000</td>\n",
       "      <td>-1.000000</td>\n",
       "      <td>0.000000</td>\n",
       "    </tr>\n",
       "    <tr>\n",
       "      <th>25%</th>\n",
       "      <td>0.000000</td>\n",
       "      <td>0.000000</td>\n",
       "      <td>35.960000</td>\n",
       "      <td>49.255000</td>\n",
       "      <td>0.000000</td>\n",
       "      <td>0.000000</td>\n",
       "      <td>0.000000</td>\n",
       "      <td>0.000000</td>\n",
       "      <td>0.000000</td>\n",
       "      <td>0.000000</td>\n",
       "      <td>0.000000</td>\n",
       "      <td>0.000000</td>\n",
       "      <td>1.000000</td>\n",
       "      <td>0.000000</td>\n",
       "      <td>0.000000</td>\n",
       "      <td>0.000000</td>\n",
       "      <td>0.000000</td>\n",
       "      <td>0.000000</td>\n",
       "      <td>0.000000</td>\n",
       "      <td>0.000000</td>\n",
       "      <td>0.000000</td>\n",
       "      <td>557.000000</td>\n",
       "      <td>1012.000000</td>\n",
       "      <td>0.000000</td>\n",
       "      <td>-0.903597</td>\n",
       "      <td>0.000000</td>\n",
       "    </tr>\n",
       "    <tr>\n",
       "      <th>50%</th>\n",
       "      <td>0.000000</td>\n",
       "      <td>29.990000</td>\n",
       "      <td>96.970000</td>\n",
       "      <td>149.075000</td>\n",
       "      <td>0.000000</td>\n",
       "      <td>0.000000</td>\n",
       "      <td>0.000000</td>\n",
       "      <td>0.000000</td>\n",
       "      <td>0.000000</td>\n",
       "      <td>1.690000</td>\n",
       "      <td>10.000000</td>\n",
       "      <td>0.000000</td>\n",
       "      <td>2.000000</td>\n",
       "      <td>0.000000</td>\n",
       "      <td>0.000000</td>\n",
       "      <td>0.000000</td>\n",
       "      <td>0.000000</td>\n",
       "      <td>0.000000</td>\n",
       "      <td>0.005261</td>\n",
       "      <td>0.029226</td>\n",
       "      <td>0.000000</td>\n",
       "      <td>868.000000</td>\n",
       "      <td>1588.000000</td>\n",
       "      <td>0.000000</td>\n",
       "      <td>0.000000</td>\n",
       "      <td>0.000000</td>\n",
       "    </tr>\n",
       "    <tr>\n",
       "      <th>75%</th>\n",
       "      <td>55.910000</td>\n",
       "      <td>136.970000</td>\n",
       "      <td>282.677500</td>\n",
       "      <td>518.905000</td>\n",
       "      <td>74.960000</td>\n",
       "      <td>32.450000</td>\n",
       "      <td>59.960000</td>\n",
       "      <td>29.950000</td>\n",
       "      <td>22.990000</td>\n",
       "      <td>20.640000</td>\n",
       "      <td>79.990000</td>\n",
       "      <td>0.000000</td>\n",
       "      <td>6.000000</td>\n",
       "      <td>0.319631</td>\n",
       "      <td>0.076829</td>\n",
       "      <td>0.195071</td>\n",
       "      <td>0.047959</td>\n",
       "      <td>0.051825</td>\n",
       "      <td>0.080616</td>\n",
       "      <td>0.307714</td>\n",
       "      <td>0.000000</td>\n",
       "      <td>1281.250000</td>\n",
       "      <td>2995.000000</td>\n",
       "      <td>1.000000</td>\n",
       "      <td>0.000000</td>\n",
       "      <td>0.000000</td>\n",
       "    </tr>\n",
       "    <tr>\n",
       "      <th>max</th>\n",
       "      <td>15636.140000</td>\n",
       "      <td>15636.140000</td>\n",
       "      <td>19812.140000</td>\n",
       "      <td>301392.880000</td>\n",
       "      <td>259267.240000</td>\n",
       "      <td>26007.220000</td>\n",
       "      <td>23464.960000</td>\n",
       "      <td>23373.420000</td>\n",
       "      <td>18372.980000</td>\n",
       "      <td>4299.950000</td>\n",
       "      <td>12876.770000</td>\n",
       "      <td>11112.750000</td>\n",
       "      <td>990.000000</td>\n",
       "      <td>1.000000</td>\n",
       "      <td>1.000000</td>\n",
       "      <td>1.000000</td>\n",
       "      <td>1.000000</td>\n",
       "      <td>1.000000</td>\n",
       "      <td>1.000000</td>\n",
       "      <td>1.000000</td>\n",
       "      <td>1.000000</td>\n",
       "      <td>4247.000000</td>\n",
       "      <td>4357.000000</td>\n",
       "      <td>1.000000</td>\n",
       "      <td>565.919463</td>\n",
       "      <td>3261.230000</td>\n",
       "    </tr>\n",
       "  </tbody>\n",
       "</table>\n",
       "</div>"
      ],
      "text/plain": [
       "          SALES_R12     SALES_R24     SALES_R48      SALES_RLT  \\\n",
       "count  79918.000000  79918.000000  79918.000000   79918.000000   \n",
       "mean      83.438211    166.947852    337.299173     673.749302   \n",
       "std      268.696790    447.460883    790.340124    2067.767806   \n",
       "min        0.000000      0.000000      0.030000       0.000000   \n",
       "25%        0.000000      0.000000     35.960000      49.255000   \n",
       "50%        0.000000     29.990000     96.970000     149.075000   \n",
       "75%       55.910000    136.970000    282.677500     518.905000   \n",
       "max    15636.140000  15636.140000  19812.140000  301392.880000   \n",
       "\n",
       "       FISHING_MARINE_SALES_LT  CAMPING_WATERSPORTS_SALES_LT  \\\n",
       "count             79918.000000                  79918.000000   \n",
       "mean                186.233366                     61.712652   \n",
       "std                1233.543211                    216.221162   \n",
       "min                   0.000000                      0.000000   \n",
       "25%                   0.000000                      0.000000   \n",
       "50%                   0.000000                      0.000000   \n",
       "75%                  74.960000                     32.450000   \n",
       "max              259267.240000                  26007.220000   \n",
       "\n",
       "       HUNTING_HUNTCLOTH_SALES_LT  FOOTWEAR_SALES_LT  SHOOTING_SALES_LT  \\\n",
       "count                79918.000000       79918.000000       79918.000000   \n",
       "mean                   136.877422          48.148130          97.079408   \n",
       "std                    531.486461         166.532271         405.205596   \n",
       "min                      0.000000           0.000000           0.000000   \n",
       "25%                      0.000000           0.000000           0.000000   \n",
       "50%                      0.000000           0.000000           0.000000   \n",
       "75%                     59.960000          29.950000          22.990000   \n",
       "max                  23464.960000       23373.420000       18372.980000   \n",
       "\n",
       "       GIFT_SALES_LT  APPAREL_SALES_LT  OTHER_SALES_LT     VISITS_LT  \\\n",
       "count   79918.000000      79918.000000    79918.000000  79918.000000   \n",
       "mean       32.163692        100.068954       11.465677      6.967704   \n",
       "std       111.094871        291.627383       77.224961     18.934849   \n",
       "min         0.000000          0.000000        0.000000      0.000000   \n",
       "25%         0.000000          0.000000        0.000000      1.000000   \n",
       "50%         1.690000         10.000000        0.000000      2.000000   \n",
       "75%        20.640000         79.990000        0.000000      6.000000   \n",
       "max      4299.950000      12876.770000    11112.750000    990.000000   \n",
       "\n",
       "       FISH_MARINE_PERC  CAMPING_WATERSPORTS_PERC  HUNTING_PERC  \\\n",
       "count      79884.000000              79884.000000  79884.000000   \n",
       "mean           0.208038                  0.102893      0.152598   \n",
       "std            0.327831                  0.229097      0.270927   \n",
       "min            0.000000                  0.000000      0.000000   \n",
       "25%            0.000000                  0.000000      0.000000   \n",
       "50%            0.000000                  0.000000      0.000000   \n",
       "75%            0.319631                  0.076829      0.195071   \n",
       "max            1.000000                  1.000000      1.000000   \n",
       "\n",
       "       FOOTWEAR_PERC  SHOOTING_PERC     GIFT_PERC  APPAREL_PERC    OTHER_PERC  \\\n",
       "count   79884.000000   79884.000000  79884.000000  79884.000000  79884.000000   \n",
       "mean        0.082279       0.111449      0.114539      0.207903      0.020301   \n",
       "std         0.203322       0.251943      0.250474      0.310039      0.102861   \n",
       "min         0.000000       0.000000      0.000000      0.000000      0.000000   \n",
       "25%         0.000000       0.000000      0.000000      0.000000      0.000000   \n",
       "50%         0.000000       0.000000      0.005261      0.029226      0.000000   \n",
       "75%         0.047959       0.051825      0.080616      0.307714      0.000000   \n",
       "max         1.000000       1.000000      1.000000      1.000000      1.000000   \n",
       "\n",
       "       DAYS_SINCE_PURCHASE  DAYS_AS_CUSTOMER  REWARDS_CUSTOMER     YOY_TREND  \\\n",
       "count         79884.000000      79884.000000      79918.000000  79918.000000   \n",
       "mean            940.035364       1988.243328          0.389987      0.065074   \n",
       "std             425.711726       1220.294843          0.487750      4.737827   \n",
       "min             365.000000        365.000000          0.000000     -1.000000   \n",
       "25%             557.000000       1012.000000          0.000000     -0.903597   \n",
       "50%             868.000000       1588.000000          0.000000      0.000000   \n",
       "75%            1281.250000       2995.000000          1.000000      0.000000   \n",
       "max            4247.000000       4357.000000          1.000000    565.919463   \n",
       "\n",
       "       SALES_TARGET_N12  \n",
       "count      79918.000000  \n",
       "mean          56.560954  \n",
       "std          211.668225  \n",
       "min            0.000000  \n",
       "25%            0.000000  \n",
       "50%            0.000000  \n",
       "75%            0.000000  \n",
       "max         3261.230000  "
      ]
     },
     "execution_count": 4,
     "metadata": {},
     "output_type": "execute_result"
    }
   ],
   "source": [
    "mean = np.mean(base['SALES_TARGET_N12'])\n",
    "std = np.std(base['SALES_TARGET_N12'])\n",
    "mean, std\n",
    "\n",
    "base = base[base['SALES_TARGET_N12'] < mean+std*10]\n",
    "\n",
    "#base['SALES_TARGET_N12_CBRT'], lmda = stats.boxcox(base['SALES_TARGET_N12'])\n",
    "base.describe()"
   ]
  },
  {
   "cell_type": "code",
   "execution_count": 5,
   "metadata": {
    "collapsed": true
   },
   "outputs": [],
   "source": [
    "# plt.hist(base['SALES_TARGET_N12_CBRT'], bins=20)\n",
    "# plt.show()\n",
    "# print(lmda)"
   ]
  },
  {
   "cell_type": "code",
   "execution_count": 6,
   "metadata": {},
   "outputs": [
    {
     "data": {
      "text/plain": [
       "count    79918.000000\n",
       "mean        56.560954\n",
       "std        211.668225\n",
       "min          0.000000\n",
       "25%          0.000000\n",
       "50%          0.000000\n",
       "75%          0.000000\n",
       "max       3261.230000\n",
       "Name: SALES_TARGET_N12, dtype: float64"
      ]
     },
     "execution_count": 6,
     "metadata": {},
     "output_type": "execute_result"
    }
   ],
   "source": [
    "base['SALES_TARGET_N12'].describe()"
   ]
  },
  {
   "cell_type": "code",
   "execution_count": 7,
   "metadata": {
    "collapsed": true
   },
   "outputs": [],
   "source": [
    "collist = ['SALES_R12','SALES_R24','SALES_R48','SALES_RLT','FISHING_MARINE_SALES_LT','CAMPING_WATERSPORTS_SALES_LT',\n",
    "         'HUNTING_HUNTCLOTH_SALES_LT','FOOTWEAR_SALES_LT','SHOOTING_SALES_LT','GIFT_SALES_LT','APPAREL_SALES_LT',\n",
    "         'OTHER_SALES_LT','VISITS_LT','FISH_MARINE_PERC','CAMPING_WATERSPORTS_PERC','HUNTING_PERC','FOOTWEAR_PERC',\n",
    "         'SHOOTING_PERC','GIFT_PERC','APPAREL_PERC','OTHER_PERC','DAYS_SINCE_PURCHASE','DAYS_AS_CUSTOMER','REWARDS_CUSTOMER',\n",
    "         'YOY_TREND','SALES_TARGET_N12']\n",
    "collist_X = ['SALES_R12','SALES_R24','SALES_R48','SALES_RLT','FISHING_MARINE_SALES_LT','CAMPING_WATERSPORTS_SALES_LT',\n",
    "         'HUNTING_HUNTCLOTH_SALES_LT','FOOTWEAR_SALES_LT','SHOOTING_SALES_LT','GIFT_SALES_LT','APPAREL_SALES_LT',\n",
    "         'OTHER_SALES_LT','VISITS_LT','FISH_MARINE_PERC','CAMPING_WATERSPORTS_PERC','HUNTING_PERC','FOOTWEAR_PERC',\n",
    "         'SHOOTING_PERC','GIFT_PERC','APPAREL_PERC','OTHER_PERC','DAYS_SINCE_PURCHASE','DAYS_AS_CUSTOMER','REWARDS_CUSTOMER',\n",
    "         'YOY_TREND']\n",
    "#collist_y = ['SALES_TARGET_N12_CBRT']\n",
    "collist_y = ['SALES_TARGET_N12']"
   ]
  },
  {
   "cell_type": "code",
   "execution_count": 8,
   "metadata": {},
   "outputs": [
    {
     "name": "stdout",
     "output_type": "stream",
     "text": [
      "(31967, 26) (31967, 26) (15984, 26)\n"
     ]
    },
    {
     "name": "stderr",
     "output_type": "stream",
     "text": [
      "C:\\ProgramData\\Anaconda3\\lib\\site-packages\\scipy\\stats\\stats.py:5277: RuntimeWarning: invalid value encountered in less\n",
      "  x = np.where(x < 1.0, x, 1.0)  # if x > 1 then return 1.0\n"
     ]
    }
   ],
   "source": [
    "train, test = helper.splitData(base[collist], .8)\n",
    "\n",
    "train, val = helper.splitData(train, 0.5)\n",
    "\n",
    "print(train.shape, val.shape, test.shape)\n",
    "\n",
    "train_X = train[collist_X]\n",
    "\n",
    "train_y = train[collist_y].as_matrix().ravel()\n",
    "val_X = val[collist_X]\n",
    "val_y = val[collist_y].as_matrix().ravel()\n",
    "test_X = test[collist_X]\n",
    "test_y = test[collist_y].as_matrix().ravel()\n",
    "\n",
    "\n",
    "interactions = helper.find_iteractions(train_X, train_y)\n",
    "interactions.to_csv('interactions.csv')"
   ]
  },
  {
   "cell_type": "code",
   "execution_count": 9,
   "metadata": {},
   "outputs": [
    {
     "data": {
      "image/png": "[encoded data removed]",
      "text/plain": [
       "<matplotlib.figure.Figure at 0x1f747160>"
      ]
     },
     "metadata": {},
     "output_type": "display_data"
    }
   ],
   "source": [
    "plt.hist(train_y, bins = 10)\n",
    "plt.show()"
   ]
  },
  {
   "cell_type": "code",
   "execution_count": 10,
   "metadata": {
    "collapsed": true
   },
   "outputs": [],
   "source": [
    "collist_X = ['SALES_R12','SALES_R24','SALES_R48','SALES_RLT','FISHING_MARINE_SALES_LT','CAMPING_WATERSPORTS_SALES_LT',\n",
    "         'HUNTING_HUNTCLOTH_SALES_LT','FOOTWEAR_SALES_LT','SHOOTING_SALES_LT','GIFT_SALES_LT','APPAREL_SALES_LT',\n",
    "         'OTHER_SALES_LT','VISITS_LT','FISH_MARINE_PERC','CAMPING_WATERSPORTS_PERC','HUNTING_PERC','FOOTWEAR_PERC',\n",
    "         'SHOOTING_PERC','GIFT_PERC','APPAREL_PERC','OTHER_PERC','DAYS_SINCE_PURCHASE','DAYS_AS_CUSTOMER','REWARDS_CUSTOMER',\n",
    "         'YOY_TREND', 'SALES_R12*REWARDS_CUSTOMER']\n",
    "\n",
    "train_X['SALES_R12*REWARDS_CUSTOMER'] = train_X['SALES_R12']*train_X['REWARDS_CUSTOMER']\n",
    "val_X['SALES_R12*REWARDS_CUSTOMER'] = val_X['SALES_R12']*val_X['REWARDS_CUSTOMER']\n",
    "test_X['SALES_R12*REWARDS_CUSTOMER'] = test_X['SALES_R12']*test_X['REWARDS_CUSTOMER']\n",
    "\n",
    "imr = Imputer(missing_values='NaN',strategy='median',axis=0)\n",
    "imr = imr.fit(train_X)\n",
    "\n",
    "train_X = pd.DataFrame(imr.transform(train_X.values), columns = collist_X)\n",
    "val_X = pd.DataFrame(imr.transform(val_X.values), columns = collist_X)\n",
    "test_X = pd.DataFrame(imr.transform(test_X.values), columns = collist_X)\n",
    "\n",
    "stdsc = StandardScaler()\n",
    "stdsc.fit(train_X)\n",
    "\n",
    "train_X = pd.DataFrame(stdsc.transform(train_X.values), columns = collist_X)\n",
    "val_X = pd.DataFrame(stdsc.transform(val_X.values), columns = collist_X)\n",
    "test_X = pd.DataFrame(stdsc.transform(test_X.values), columns = collist_X)\n",
    "\n",
    "for var in collist_X:\n",
    "    name = var + '_cbrt'\n",
    "    train_X[name] = np.cbrt(train_X[var])\n",
    "    val_X[name] = np.cbrt(val_X[var])\n",
    "    test_X[name] = np.cbrt(test_X[var])\n",
    "    name = var + '_sq'\n",
    "    train_X[name] = np.power(train_X[var], 2)\n",
    "    val_X[name] = np.power(val_X[var], 2)\n",
    "    test_X[name] = np.power(test_X[var], 2)\n",
    "   \n",
    "    \n",
    "collist_X_expanded = train_X.columns.values\n"
   ]
  },
  {
   "cell_type": "code",
   "execution_count": 11,
   "metadata": {
    "collapsed": true
   },
   "outputs": [],
   "source": [
    "collist_X_expanded = collist_X_expanded.tolist()"
   ]
  },
  {
   "cell_type": "code",
   "execution_count": 12,
   "metadata": {},
   "outputs": [
    {
     "data": {
      "text/html": [
       "<div>\n",
       "<style>\n",
       "    .dataframe thead tr:only-child th {\n",
       "        text-align: right;\n",
       "    }\n",
       "\n",
       "    .dataframe thead th {\n",
       "        text-align: left;\n",
       "    }\n",
       "\n",
       "    .dataframe tbody tr th {\n",
       "        vertical-align: top;\n",
       "    }\n",
       "</style>\n",
       "<table border=\"1\" class=\"dataframe\">\n",
       "  <thead>\n",
       "    <tr style=\"text-align: right;\">\n",
       "      <th></th>\n",
       "      <th>column_name</th>\n",
       "      <th>missing_count</th>\n",
       "      <th>missing_ratio</th>\n",
       "    </tr>\n",
       "  </thead>\n",
       "  <tbody>\n",
       "  </tbody>\n",
       "</table>\n",
       "</div>"
      ],
      "text/plain": [
       "Empty DataFrame\n",
       "Columns: [column_name, missing_count, missing_ratio]\n",
       "Index: []"
      ]
     },
     "execution_count": 12,
     "metadata": {},
     "output_type": "execute_result"
    }
   ],
   "source": [
    "missing_df = train_X.isnull().sum(axis=0).reset_index()\n",
    "missing_df.columns = ['column_name', 'missing_count']\n",
    "missing_df['missing_ratio'] = missing_df['missing_count'] / train_X.shape[0]\n",
    "missing_df.loc[missing_df['missing_ratio']>0.01]\n",
    "\n"
   ]
  },
  {
   "cell_type": "code",
   "execution_count": null,
   "metadata": {
    "collapsed": true
   },
   "outputs": [],
   "source": []
  },
  {
   "cell_type": "code",
   "execution_count": 13,
   "metadata": {},
   "outputs": [
    {
     "name": "stdout",
     "output_type": "stream",
     "text": [
      "Anderson-Darling: 8338.378815627788 Critical Value: 0.787 \n",
      "train_y is not normally distributed\n"
     ]
    },
    {
     "data": {
      "image/png": "[encoded data removed]",
      "text/plain": [
       "<matplotlib.figure.Figure at 0x2083fd30>"
      ]
     },
     "metadata": {},
     "output_type": "display_data"
    }
   ],
   "source": [
    "stat, cv, sig = stats.anderson(train_y, 'norm')\n",
    "print('Anderson-Darling: {} Critical Value: {} '.format(stat, cv[2]))\n",
    "if stat > cv[2]:\n",
    "    print('train_y is not normally distributed')\n",
    "else:\n",
    "    print('train_y is normally distributed')\n",
    "plt.hist(train_y, bins=25)\n",
    "plt.show()"
   ]
  },
  {
   "cell_type": "code",
   "execution_count": 14,
   "metadata": {
    "scrolled": false
   },
   "outputs": [
    {
     "name": "stdout",
     "output_type": "stream",
     "text": [
      "                                      APPAREL_PERC Corr Coef:   -0.04 - pval:  0.0000\n",
      "                                 APPAREL_PERC_cbrt Corr Coef:   -0.03 - pval:  0.0000\n",
      "                                   APPAREL_PERC_sq Corr Coef:   -0.09 - pval:  0.0000\n",
      "                                  APPAREL_SALES_LT Corr Coef:    0.33 - pval:  0.0000\n",
      "                             APPAREL_SALES_LT_cbrt Corr Coef:     0.3 - pval:  0.0000\n",
      "                               APPAREL_SALES_LT_sq Corr Coef:    0.18 - pval:  0.0000\n",
      "                          CAMPING_WATERSPORTS_PERC Corr Coef:   -0.01 - pval:  0.0192\n",
      "                     CAMPING_WATERSPORTS_PERC_cbrt Corr Coef:    0.03 - pval:  0.0000\n",
      "                       CAMPING_WATERSPORTS_PERC_sq Corr Coef:   -0.05 - pval:  0.0000\n",
      "                      CAMPING_WATERSPORTS_SALES_LT Corr Coef:    0.27 - pval:  0.0000\n",
      "                 CAMPING_WATERSPORTS_SALES_LT_cbrt Corr Coef:    0.31 - pval:  0.0000\n",
      "                   CAMPING_WATERSPORTS_SALES_LT_sq Corr Coef:    0.02 - pval:  0.0004\n",
      "                                  DAYS_AS_CUSTOMER Corr Coef:    0.17 - pval:  0.0000\n",
      "                             DAYS_AS_CUSTOMER_cbrt Corr Coef:    0.16 - pval:  0.0000\n",
      "                               DAYS_AS_CUSTOMER_sq Corr Coef:    0.17 - pval:  0.0000\n",
      "                               DAYS_SINCE_PURCHASE Corr Coef:   -0.24 - pval:  0.0000\n",
      "                          DAYS_SINCE_PURCHASE_cbrt Corr Coef:   -0.22 - pval:  0.0000\n",
      "                            DAYS_SINCE_PURCHASE_sq Corr Coef:    0.07 - pval:  0.0000\n",
      "                                  FISH_MARINE_PERC Corr Coef:    0.06 - pval:  0.0000\n",
      "                             FISH_MARINE_PERC_cbrt Corr Coef:    0.09 - pval:  0.0000\n",
      "                               FISH_MARINE_PERC_sq Corr Coef:   -0.02 - pval:  0.0000\n",
      "                           FISHING_MARINE_SALES_LT Corr Coef:    0.18 - pval:  0.0000\n",
      "                      FISHING_MARINE_SALES_LT_cbrt Corr Coef:    0.36 - pval:  0.0000\n",
      "                        FISHING_MARINE_SALES_LT_sq Corr Coef:    0.04 - pval:  0.0000\n",
      "                                     FOOTWEAR_PERC Corr Coef:   -0.01 - pval:  0.0701\n",
      "                                FOOTWEAR_PERC_cbrt Corr Coef:    0.05 - pval:  0.0000\n",
      "                                  FOOTWEAR_PERC_sq Corr Coef:   -0.05 - pval:  0.0000\n",
      "                                 FOOTWEAR_SALES_LT Corr Coef:    0.34 - pval:  0.0000\n",
      "                            FOOTWEAR_SALES_LT_cbrt Corr Coef:     0.3 - pval:  0.0000\n",
      "                              FOOTWEAR_SALES_LT_sq Corr Coef:    0.11 - pval:  0.0000\n",
      "                                         GIFT_PERC Corr Coef:   -0.06 - pval:  0.0000\n",
      "                                    GIFT_PERC_cbrt Corr Coef:   -0.06 - pval:  0.0000\n",
      "                                      GIFT_PERC_sq Corr Coef:   -0.07 - pval:  0.0000\n",
      "                                     GIFT_SALES_LT Corr Coef:    0.27 - pval:  0.0000\n",
      "                                GIFT_SALES_LT_cbrt Corr Coef:    0.29 - pval:  0.0000\n",
      "                                  GIFT_SALES_LT_sq Corr Coef:    0.09 - pval:  0.0000\n",
      "                        HUNTING_HUNTCLOTH_SALES_LT Corr Coef:    0.34 - pval:  0.0000\n",
      "                   HUNTING_HUNTCLOTH_SALES_LT_cbrt Corr Coef:    0.32 - pval:  0.0000\n",
      "                     HUNTING_HUNTCLOTH_SALES_LT_sq Corr Coef:    0.22 - pval:  0.0000\n",
      "                                      HUNTING_PERC Corr Coef:    0.04 - pval:  0.0000\n",
      "                                 HUNTING_PERC_cbrt Corr Coef:    0.08 - pval:  0.0000\n",
      "                                   HUNTING_PERC_sq Corr Coef:   -0.04 - pval:  0.0000\n",
      "                                        OTHER_PERC Corr Coef:   -0.01 - pval:  0.0234\n",
      "                                   OTHER_PERC_cbrt Corr Coef:    0.05 - pval:  0.0000\n",
      "                                     OTHER_PERC_sq Corr Coef:   -0.03 - pval:  0.0000\n",
      "                                    OTHER_SALES_LT Corr Coef:     0.2 - pval:  0.0000\n",
      "                               OTHER_SALES_LT_cbrt Corr Coef:    0.24 - pval:  0.0000\n",
      "                                 OTHER_SALES_LT_sq Corr Coef:    0.11 - pval:  0.0000\n",
      "                                  REWARDS_CUSTOMER Corr Coef:    0.26 - pval:  0.0000\n",
      "                             REWARDS_CUSTOMER_cbrt Corr Coef:    0.26 - pval:  0.0000\n",
      "                               REWARDS_CUSTOMER_sq Corr Coef:    0.26 - pval:  0.0000\n",
      "                                         SALES_R12 Corr Coef:    0.49 - pval:  0.0000\n",
      "                        SALES_R12*REWARDS_CUSTOMER Corr Coef:    0.49 - pval:  0.0000\n",
      "                   SALES_R12*REWARDS_CUSTOMER_cbrt Corr Coef:    0.48 - pval:  0.0000\n",
      "                     SALES_R12*REWARDS_CUSTOMER_sq Corr Coef:    0.19 - pval:  0.0000\n",
      "                                    SALES_R12_cbrt Corr Coef:    0.44 - pval:  0.0000\n",
      "                                      SALES_R12_sq Corr Coef:    0.19 - pval:  0.0000\n",
      "                                         SALES_R24 Corr Coef:    0.54 - pval:  0.0000\n",
      "                                    SALES_R24_cbrt Corr Coef:    0.45 - pval:  0.0000\n",
      "                                      SALES_R24_sq Corr Coef:    0.31 - pval:  0.0000\n",
      "                                         SALES_R48 Corr Coef:    0.54 - pval:  0.0000\n",
      "                                    SALES_R48_cbrt Corr Coef:    0.44 - pval:  0.0000\n",
      "                                      SALES_R48_sq Corr Coef:    0.38 - pval:  0.0000\n",
      "                                         SALES_RLT Corr Coef:    0.35 - pval:  0.0000\n",
      "                                    SALES_RLT_cbrt Corr Coef:    0.42 - pval:  0.0000\n",
      "                                      SALES_RLT_sq Corr Coef:    0.05 - pval:  0.0000\n",
      "                                     SHOOTING_PERC Corr Coef:    0.03 - pval:  0.0000\n",
      "                                SHOOTING_PERC_cbrt Corr Coef:    0.08 - pval:  0.0000\n",
      "                                  SHOOTING_PERC_sq Corr Coef:   -0.02 - pval:  0.0000\n",
      "                                 SHOOTING_SALES_LT Corr Coef:    0.28 - pval:  0.0000\n",
      "                            SHOOTING_SALES_LT_cbrt Corr Coef:    0.29 - pval:  0.0000\n",
      "                              SHOOTING_SALES_LT_sq Corr Coef:    0.14 - pval:  0.0000\n",
      "                                         VISITS_LT Corr Coef:    0.37 - pval:  0.0000\n",
      "                                    VISITS_LT_cbrt Corr Coef:    0.39 - pval:  0.0000\n",
      "                                      VISITS_LT_sq Corr Coef:    0.11 - pval:  0.0000\n",
      "                                         YOY_TREND Corr Coef:    0.07 - pval:  0.0000\n",
      "                                    YOY_TREND_cbrt Corr Coef:    0.19 - pval:  0.0000\n",
      "                                      YOY_TREND_sq Corr Coef:    0.01 - pval:  0.1019\n"
     ]
    }
   ],
   "source": [
    "matplotlib.rcParams['figure.figsize'] = (5,2)\n",
    "\n",
    "#collist_X_expanded.remove('VISITS_LT_sqrt')\n",
    "#collist_X_expanded.remove('YOY_TREND_log')\n",
    "\n",
    "\n",
    "train_X = train_X[collist_X_expanded]\n",
    "\n",
    "collist_X_expanded = sorted(collist_X_expanded, key=str.lower)\n",
    "\n",
    "\n",
    "\n",
    "for var in collist_X_expanded: \n",
    "    vardf = train_X[var]\n",
    "    #print(vardf.head())\n",
    "    coef, pval = stats.pearsonr(vardf.as_matrix(), train_y)\n",
    "    print('%50s Corr Coef: %7s - pval:  %.4f' % (var, str(round(coef,2)), pval))\n",
    "    #plt.hist(train_X[var], bins = 100)\n",
    "    #plt.show()\n",
    "    \n",
    "matplotlib.rcParams['figure.figsize'] = (11,8)"
   ]
  },
  {
   "cell_type": "code",
   "execution_count": 15,
   "metadata": {
    "collapsed": true
   },
   "outputs": [],
   "source": [
    "collist_X_expanded = ['APPAREL_SALES_LT','CAMPING_WATERSPORTS_SALES_LT_cbrt','DAYS_AS_CUSTOMER','DAYS_SINCE_PURCHASE',\n",
    "                      'FISHING_MARINE_SALES_LT_cbrt','FOOTWEAR_SALES_LT_cbrt','GIFT_SALES_LT_cbrt',\n",
    "                      'HUNTING_HUNTCLOTH_SALES_LT_cbrt','OTHER_SALES_LT_cbrt','REWARDS_CUSTOMER','SALES_R12',\n",
    "                      'SALES_R12*REWARDS_CUSTOMER','SALES_R24','SALES_RLT_cbrt','SHOOTING_SALES_LT_cbrt','VISITS_LT_cbrt',\n",
    "                      'YOY_TREND_cbrt']\n",
    "train_X = train_X[collist_X_expanded]"
   ]
  },
  {
   "cell_type": "code",
   "execution_count": 16,
   "metadata": {
    "scrolled": false
   },
   "outputs": [
    {
     "data": {
      "image/png": "[encoded data removed]",
      "text/plain": [
       "<matplotlib.figure.Figure at 0x253c3198>"
      ]
     },
     "metadata": {},
     "output_type": "display_data"
    }
   ],
   "source": [
    "feat_labels = np.asarray(collist_X_expanded)\n",
    "\n",
    "forests = RandomForestRegressor(n_estimators=100,\n",
    "                                random_state=0,\n",
    "                                n_jobs=-1)\n",
    "forests.fit(train_X, train_y)\n",
    "importances = forests.feature_importances_\n",
    "indices = np.argsort(importances)[::-1]\n",
    "# for f in range(train_X2.shape[1]):\n",
    "#     print(\"%2d) %-*s %f\" % (f + 1, 30, feat_labels[indices[f]],\n",
    "#                                       importances[indices[f]]))\n",
    "    \n",
    "plt.title('Feature Importance')\n",
    "plt.bar(range(train_X.shape[1]), importances[indices], color='lightblue', align='center')\n",
    "plt.xticks(range(train_X.shape[1]), feat_labels[indices], rotation=90)\n",
    "plt.xlim([-1, train_X.shape[1]])\n",
    "plt.tight_layout()\n",
    "plt.show()"
   ]
  },
  {
   "cell_type": "code",
   "execution_count": 17,
   "metadata": {},
   "outputs": [
    {
     "data": {
      "text/plain": [
       "array(['APPAREL_SALES_LT', 'CAMPING_WATERSPORTS_SALES_LT_cbrt',\n",
       "       'DAYS_SINCE_PURCHASE', 'FISHING_MARINE_SALES_LT_cbrt',\n",
       "       'FOOTWEAR_SALES_LT_cbrt', 'GIFT_SALES_LT_cbrt',\n",
       "       'HUNTING_HUNTCLOTH_SALES_LT_cbrt', 'OTHER_SALES_LT_cbrt',\n",
       "       'REWARDS_CUSTOMER', 'SALES_R12', 'SALES_R12*REWARDS_CUSTOMER',\n",
       "       'SALES_R24', 'SALES_RLT_cbrt', 'SHOOTING_SALES_LT_cbrt',\n",
       "       'VISITS_LT_cbrt'],\n",
       "      dtype='<U33')"
      ]
     },
     "execution_count": 17,
     "metadata": {},
     "output_type": "execute_result"
    }
   ],
   "source": [
    "slct = SelectKBest(f_regression, k=15)\n",
    "slct.fit(train_X, train_y)\n",
    "selected = slct.get_support()\n",
    "feat_labels2 = feat_labels[selected]\n",
    "feat_labels2"
   ]
  },
  {
   "cell_type": "markdown",
   "metadata": {},
   "source": [
    "### Calculate Feature Correlations and VIF scores"
   ]
  },
  {
   "cell_type": "code",
   "execution_count": 18,
   "metadata": {
    "scrolled": false
   },
   "outputs": [
    {
     "name": "stdout",
     "output_type": "stream",
     "text": [
      "    VIF Factor                            feature\n",
      "10    4.159704                          SALES_R24\n",
      "9     3.516673         SALES_R12*REWARDS_CUSTOMER\n",
      "6     2.482795    HUNTING_HUNTCLOTH_SALES_LT_cbrt\n",
      "3     2.132884       FISHING_MARINE_SALES_LT_cbrt\n",
      "1     2.126428  CAMPING_WATERSPORTS_SALES_LT_cbrt\n",
      "4     2.059896             FOOTWEAR_SALES_LT_cbrt\n",
      "11    2.045911             SHOOTING_SALES_LT_cbrt\n",
      "5     2.043540                 GIFT_SALES_LT_cbrt\n",
      "7     1.943284                OTHER_SALES_LT_cbrt\n",
      "0     1.464372                   APPAREL_SALES_LT\n",
      "8     1.312990                   REWARDS_CUSTOMER\n",
      "2     1.175343                DAYS_SINCE_PURCHASE\n"
     ]
    },
    {
     "data": {
      "image/png": "[encoded data removed]",
      "text/plain": [
       "<matplotlib.figure.Figure at 0x1bca24e0>"
      ]
     },
     "metadata": {},
     "output_type": "display_data"
    }
   ],
   "source": [
    "collist_X2 = ['APPAREL_SALES_LT', 'CAMPING_WATERSPORTS_SALES_LT_cbrt',\n",
    "       'DAYS_SINCE_PURCHASE', 'FISHING_MARINE_SALES_LT_cbrt',\n",
    "       'FOOTWEAR_SALES_LT_cbrt', 'GIFT_SALES_LT_cbrt',\n",
    "       'HUNTING_HUNTCLOTH_SALES_LT_cbrt', 'OTHER_SALES_LT_cbrt',\n",
    "       'REWARDS_CUSTOMER', 'SALES_R12*REWARDS_CUSTOMER',\n",
    "       'SALES_R24', 'SHOOTING_SALES_LT_cbrt']\n",
    "\n",
    "#collist_X2 = feat_labels2.tolist()\n",
    "\n",
    "train_X2 = train_X[collist_X2]\n",
    "    \n",
    "corr = train_X2.corr()\n",
    "\n",
    "# Generate a mask for the upper triangle\n",
    "mask = np.zeros_like(corr, dtype=np.bool)\n",
    "mask[np.triu_indices_from(mask)] = True\n",
    "\n",
    "# Set up the matplotlib figure\n",
    "f, ax = plt.subplots(figsize=(11, 9))\n",
    "\n",
    "# Generate a custom diverging colormap\n",
    "cmap = sns.diverging_palette(250, 10, as_cmap=True)\n",
    "\n",
    "# Draw the heatmap with the mask and correct aspect ratio\n",
    "sns.heatmap(corr,  cmap=cmap, vmax=.99, center=0,\n",
    "            square=True, linewidths=.5, cbar_kws={\"shrink\": .5})\n",
    "\n",
    "\n",
    "print(helper.calc_VIFs(train_X2))"
   ]
  },
  {
   "cell_type": "code",
   "execution_count": 21,
   "metadata": {},
   "outputs": [
    {
     "name": "stdout",
     "output_type": "stream",
     "text": [
      "                            OLS Regression Results                            \n",
      "==============================================================================\n",
      "Dep. Variable:                      y   R-squared:                       0.319\n",
      "Model:                            OLS   Adj. R-squared:                  0.318\n",
      "Method:                 Least Squares   F-statistic:                     1245.\n",
      "Date:                Wed, 06 Dec 2017   Prob (F-statistic):               0.00\n",
      "Time:                        11:34:08   Log-Likelihood:            -2.1185e+05\n",
      "No. Observations:               31967   AIC:                         4.237e+05\n",
      "Df Residuals:                   31955   BIC:                         4.238e+05\n",
      "Df Model:                          12                                         \n",
      "Covariance Type:            nonrobust                                         \n",
      "=====================================================================================================\n",
      "                                        coef    std err          t      P>|t|      [0.025      0.975]\n",
      "-----------------------------------------------------------------------------------------------------\n",
      "APPAREL_SALES_LT                     30.4939      1.237     24.645      0.000      28.069      32.919\n",
      "CAMPING_WATERSPORTS_SALES_LT_cbrt    -9.4538      2.205     -4.288      0.000     -13.775      -5.133\n",
      "DAYS_SINCE_PURCHASE                 -10.8695      1.109     -9.805      0.000     -13.042      -8.697\n",
      "FISHING_MARINE_SALES_LT_cbrt         -4.1416      2.907     -1.425      0.154      -9.840       1.556\n",
      "FOOTWEAR_SALES_LT_cbrt                0.1065      1.998      0.053      0.957      -3.810       4.023\n",
      "GIFT_SALES_LT_cbrt                   -1.6222      2.116     -0.767      0.443      -5.769       2.525\n",
      "HUNTING_HUNTCLOTH_SALES_LT_cbrt      -1.0079      2.375     -0.424      0.671      -5.662       3.647\n",
      "OTHER_SALES_LT_cbrt                 -32.6792      2.290    -14.270      0.000     -37.168     -28.190\n",
      "REWARDS_CUSTOMER                     21.1625      1.172     18.063      0.000      18.866      23.459\n",
      "SALES_R12*REWARDS_CUSTOMER           23.1937      1.917     12.096      0.000      19.435      26.952\n",
      "SALES_R24                            86.1591      2.085     41.315      0.000      82.072      90.247\n",
      "SHOOTING_SALES_LT_cbrt              -25.7643      2.182    -11.808      0.000     -30.041     -21.488\n",
      "==============================================================================\n",
      "Omnibus:                    34596.514   Durbin-Watson:                   1.949\n",
      "Prob(Omnibus):                  0.000   Jarque-Bera (JB):          4852013.065\n",
      "Skew:                           5.315   Prob(JB):                         0.00\n",
      "Kurtosis:                      62.412   Cond. No.                         5.60\n",
      "==============================================================================\n",
      "\n",
      "Warnings:\n",
      "[1] Standard Errors assume that the covariance matrix of the errors is correctly specified.\n"
     ]
    }
   ],
   "source": [
    "import statsmodels.api as sm\n",
    "\n",
    "mod = sm.OLS(train_y, train_X2)\n",
    "res = mod.fit()\n",
    "print(res.summary())\n",
    "\n",
    "\n"
   ]
  },
  {
   "cell_type": "code",
   "execution_count": null,
   "metadata": {
    "collapsed": true
   },
   "outputs": [],
   "source": []
  },
  {
   "cell_type": "code",
   "execution_count": 19,
   "metadata": {},
   "outputs": [
    {
     "name": "stdout",
     "output_type": "stream",
     "text": [
      "Parameter search took 910.70 seconds for 200 candidate parameter settings.\n",
      "Best Mean validation score: -29125.531 (std: 702.243)\n",
      "Parameters: {'colsample_bytree': 0.74915841630954527, 'gamma': 2.1412920263740451, 'learning_rate': 0.027130928644970832, 'max_depth': 5, 'min_child_weight': 2, 'objective': 'reg:linear', 'reg_alpha': 0.15951002508544501, 'reg_lambda': 0.50005212839215185, 'subsample': 0.6491608918977928}\n"
     ]
    }
   ],
   "source": [
    "param_test1 = {\n",
    "     'learning_rate':uniform(0.01,0.09),\n",
    "     'max_depth':list(range(5,20)),\n",
    "     'min_child_weight':list(range(1,10)),\n",
    "     'colsample_bytree': uniform(0.5,0.4),\n",
    "     'subsample': uniform(0.5,0.4),\n",
    "     'reg_alpha': uniform(0.1, 0.9),\n",
    "     'reg_lambda': uniform(0.1, 0.9),\n",
    "     'objective':['reg:linear'],\n",
    "     'gamma':lognorm(0.1, 1.0)\n",
    "}\n",
    "\n",
    "\n",
    "gsearch1 = RandomizedSearchCV(estimator = xgb.XGBRegressor(), \n",
    "                              param_distributions = param_test1, \n",
    "                              scoring='neg_mean_squared_error',\n",
    "                              n_jobs=-1,\n",
    "                              n_iter=200,\n",
    "                              cv=5)\n",
    "start = time()\n",
    "gsearch1.fit(train_X2.values, train_y)\n",
    "\n",
    "print(\"Parameter search took %.2f seconds for %d candidate parameter settings.\"\n",
    "      % (time() - start, len(gsearch1.cv_results_['params'])))\n",
    "\n",
    "helper.report(gsearch1)    "
   ]
  },
  {
   "cell_type": "code",
   "execution_count": 24,
   "metadata": {
    "scrolled": true
   },
   "outputs": [
    {
     "name": "stdout",
     "output_type": "stream",
     "text": [
      "[0]\tvalidation_0-rmse:198.499\tvalidation_1-rmse:193.019\tvalidation_2-rmse:188.309\n",
      "Multiple eval metrics have been passed: 'validation_2-rmse' will be used for early stopping.\n",
      "\n",
      "Will train until validation_2-rmse hasn't improved in 100 rounds.\n",
      "[1]\tvalidation_0-rmse:195.823\tvalidation_1-rmse:190.582\tvalidation_2-rmse:186.02\n",
      "[2]\tvalidation_0-rmse:193.321\tvalidation_1-rmse:188.314\tvalidation_2-rmse:183.868\n",
      "[3]\tvalidation_0-rmse:190.841\tvalidation_1-rmse:186.104\tvalidation_2-rmse:181.808\n",
      "[4]\tvalidation_0-rmse:188.65\tvalidation_1-rmse:184.107\tvalidation_2-rmse:179.946\n",
      "[5]\tvalidation_0-rmse:186.441\tvalidation_1-rmse:182.162\tvalidation_2-rmse:178.072\n",
      "[6]\tvalidation_0-rmse:184.306\tvalidation_1-rmse:180.334\tvalidation_2-rmse:176.399\n",
      "[7]\tvalidation_0-rmse:182.282\tvalidation_1-rmse:178.534\tvalidation_2-rmse:174.724\n",
      "[8]\tvalidation_0-rmse:180.555\tvalidation_1-rmse:177.042\tvalidation_2-rmse:173.329\n",
      "[9]\tvalidation_0-rmse:178.726\tvalidation_1-rmse:175.526\tvalidation_2-rmse:171.829\n",
      "[10]\tvalidation_0-rmse:176.984\tvalidation_1-rmse:174.063\tvalidation_2-rmse:170.435\n",
      "[11]\tvalidation_0-rmse:175.424\tvalidation_1-rmse:172.734\tvalidation_2-rmse:169.149\n",
      "[12]\tvalidation_0-rmse:173.856\tvalidation_1-rmse:171.439\tvalidation_2-rmse:167.903\n",
      "[13]\tvalidation_0-rmse:172.326\tvalidation_1-rmse:170.199\tvalidation_2-rmse:166.786\n",
      "[14]\tvalidation_0-rmse:170.922\tvalidation_1-rmse:169.056\tvalidation_2-rmse:165.76\n",
      "[15]\tvalidation_0-rmse:169.529\tvalidation_1-rmse:167.95\tvalidation_2-rmse:164.789\n",
      "[16]\tvalidation_0-rmse:168.328\tvalidation_1-rmse:166.97\tvalidation_2-rmse:163.882\n",
      "[17]\tvalidation_0-rmse:167.127\tvalidation_1-rmse:165.984\tvalidation_2-rmse:162.966\n",
      "[18]\tvalidation_0-rmse:165.981\tvalidation_1-rmse:165.121\tvalidation_2-rmse:162.201\n",
      "[19]\tvalidation_0-rmse:164.871\tvalidation_1-rmse:164.293\tvalidation_2-rmse:161.438\n",
      "[20]\tvalidation_0-rmse:163.807\tvalidation_1-rmse:163.533\tvalidation_2-rmse:160.728\n",
      "[21]\tvalidation_0-rmse:162.844\tvalidation_1-rmse:162.81\tvalidation_2-rmse:160.013\n",
      "[22]\tvalidation_0-rmse:161.862\tvalidation_1-rmse:162.178\tvalidation_2-rmse:159.349\n",
      "[23]\tvalidation_0-rmse:161.041\tvalidation_1-rmse:161.559\tvalidation_2-rmse:158.765\n",
      "[24]\tvalidation_0-rmse:160.158\tvalidation_1-rmse:160.901\tvalidation_2-rmse:158.155\n",
      "[25]\tvalidation_0-rmse:159.385\tvalidation_1-rmse:160.415\tvalidation_2-rmse:157.655\n",
      "[26]\tvalidation_0-rmse:158.638\tvalidation_1-rmse:159.907\tvalidation_2-rmse:157.179\n",
      "[27]\tvalidation_0-rmse:157.908\tvalidation_1-rmse:159.439\tvalidation_2-rmse:156.686\n",
      "[28]\tvalidation_0-rmse:157.19\tvalidation_1-rmse:158.98\tvalidation_2-rmse:156.189\n",
      "[29]\tvalidation_0-rmse:156.521\tvalidation_1-rmse:158.55\tvalidation_2-rmse:155.772\n",
      "[30]\tvalidation_0-rmse:155.916\tvalidation_1-rmse:158.168\tvalidation_2-rmse:155.383\n",
      "[31]\tvalidation_0-rmse:155.366\tvalidation_1-rmse:157.851\tvalidation_2-rmse:154.996\n",
      "[32]\tvalidation_0-rmse:154.767\tvalidation_1-rmse:157.511\tvalidation_2-rmse:154.676\n",
      "[33]\tvalidation_0-rmse:154.205\tvalidation_1-rmse:157.199\tvalidation_2-rmse:154.301\n",
      "[34]\tvalidation_0-rmse:153.659\tvalidation_1-rmse:156.885\tvalidation_2-rmse:153.968\n",
      "[35]\tvalidation_0-rmse:153.21\tvalidation_1-rmse:156.654\tvalidation_2-rmse:153.767\n",
      "[36]\tvalidation_0-rmse:152.726\tvalidation_1-rmse:156.425\tvalidation_2-rmse:153.5\n",
      "[37]\tvalidation_0-rmse:152.288\tvalidation_1-rmse:156.214\tvalidation_2-rmse:153.274\n",
      "[38]\tvalidation_0-rmse:151.875\tvalidation_1-rmse:156.024\tvalidation_2-rmse:153.094\n",
      "[39]\tvalidation_0-rmse:151.483\tvalidation_1-rmse:155.849\tvalidation_2-rmse:152.897\n",
      "[40]\tvalidation_0-rmse:151.174\tvalidation_1-rmse:155.687\tvalidation_2-rmse:152.781\n",
      "[41]\tvalidation_0-rmse:150.767\tvalidation_1-rmse:155.536\tvalidation_2-rmse:152.621\n",
      "[42]\tvalidation_0-rmse:150.4\tvalidation_1-rmse:155.403\tvalidation_2-rmse:152.424\n",
      "[43]\tvalidation_0-rmse:150.032\tvalidation_1-rmse:155.247\tvalidation_2-rmse:152.288\n",
      "[44]\tvalidation_0-rmse:149.707\tvalidation_1-rmse:155.129\tvalidation_2-rmse:152.17\n",
      "[45]\tvalidation_0-rmse:149.369\tvalidation_1-rmse:155.017\tvalidation_2-rmse:152.09\n",
      "[46]\tvalidation_0-rmse:148.996\tvalidation_1-rmse:154.905\tvalidation_2-rmse:151.953\n",
      "[47]\tvalidation_0-rmse:148.709\tvalidation_1-rmse:154.791\tvalidation_2-rmse:151.848\n",
      "[48]\tvalidation_0-rmse:148.413\tvalidation_1-rmse:154.692\tvalidation_2-rmse:151.778\n",
      "[49]\tvalidation_0-rmse:148.169\tvalidation_1-rmse:154.603\tvalidation_2-rmse:151.695\n",
      "[50]\tvalidation_0-rmse:147.872\tvalidation_1-rmse:154.554\tvalidation_2-rmse:151.574\n",
      "[51]\tvalidation_0-rmse:147.612\tvalidation_1-rmse:154.523\tvalidation_2-rmse:151.585\n",
      "[52]\tvalidation_0-rmse:147.383\tvalidation_1-rmse:154.454\tvalidation_2-rmse:151.466\n",
      "[53]\tvalidation_0-rmse:147.166\tvalidation_1-rmse:154.409\tvalidation_2-rmse:151.455\n",
      "[54]\tvalidation_0-rmse:146.985\tvalidation_1-rmse:154.366\tvalidation_2-rmse:151.405\n",
      "[55]\tvalidation_0-rmse:146.768\tvalidation_1-rmse:154.324\tvalidation_2-rmse:151.3\n",
      "[56]\tvalidation_0-rmse:146.55\tvalidation_1-rmse:154.329\tvalidation_2-rmse:151.347\n",
      "[57]\tvalidation_0-rmse:146.326\tvalidation_1-rmse:154.298\tvalidation_2-rmse:151.293\n",
      "[58]\tvalidation_0-rmse:146.128\tvalidation_1-rmse:154.294\tvalidation_2-rmse:151.229\n",
      "[59]\tvalidation_0-rmse:145.957\tvalidation_1-rmse:154.244\tvalidation_2-rmse:151.189\n",
      "[60]\tvalidation_0-rmse:145.776\tvalidation_1-rmse:154.196\tvalidation_2-rmse:151.169\n",
      "[61]\tvalidation_0-rmse:145.548\tvalidation_1-rmse:154.205\tvalidation_2-rmse:151.133\n",
      "[62]\tvalidation_0-rmse:145.33\tvalidation_1-rmse:154.129\tvalidation_2-rmse:151.039\n",
      "[63]\tvalidation_0-rmse:145.131\tvalidation_1-rmse:154.134\tvalidation_2-rmse:151.032\n",
      "[64]\tvalidation_0-rmse:144.948\tvalidation_1-rmse:154.131\tvalidation_2-rmse:150.979\n",
      "[65]\tvalidation_0-rmse:144.773\tvalidation_1-rmse:154.155\tvalidation_2-rmse:150.984\n",
      "[66]\tvalidation_0-rmse:144.633\tvalidation_1-rmse:154.145\tvalidation_2-rmse:150.985\n",
      "[67]\tvalidation_0-rmse:144.463\tvalidation_1-rmse:154.127\tvalidation_2-rmse:151.017\n",
      "[68]\tvalidation_0-rmse:144.354\tvalidation_1-rmse:154.13\tvalidation_2-rmse:151.002\n",
      "[69]\tvalidation_0-rmse:144.257\tvalidation_1-rmse:154.111\tvalidation_2-rmse:150.977\n",
      "[70]\tvalidation_0-rmse:144.112\tvalidation_1-rmse:154.098\tvalidation_2-rmse:150.986\n",
      "[71]\tvalidation_0-rmse:144.004\tvalidation_1-rmse:154.082\tvalidation_2-rmse:150.992\n",
      "[72]\tvalidation_0-rmse:143.877\tvalidation_1-rmse:154.069\tvalidation_2-rmse:150.972\n",
      "[73]\tvalidation_0-rmse:143.715\tvalidation_1-rmse:154.069\tvalidation_2-rmse:150.999\n",
      "[74]\tvalidation_0-rmse:143.578\tvalidation_1-rmse:154.07\tvalidation_2-rmse:151.005\n",
      "[75]\tvalidation_0-rmse:143.399\tvalidation_1-rmse:154.07\tvalidation_2-rmse:151.026\n",
      "[76]\tvalidation_0-rmse:143.273\tvalidation_1-rmse:154.095\tvalidation_2-rmse:150.995\n",
      "[77]\tvalidation_0-rmse:143.202\tvalidation_1-rmse:154.087\tvalidation_2-rmse:150.976\n",
      "[78]\tvalidation_0-rmse:142.995\tvalidation_1-rmse:154.074\tvalidation_2-rmse:150.942\n",
      "[79]\tvalidation_0-rmse:142.893\tvalidation_1-rmse:154.092\tvalidation_2-rmse:150.945\n",
      "[80]\tvalidation_0-rmse:142.798\tvalidation_1-rmse:154.116\tvalidation_2-rmse:150.958\n",
      "[81]\tvalidation_0-rmse:142.666\tvalidation_1-rmse:154.119\tvalidation_2-rmse:150.975\n",
      "[82]\tvalidation_0-rmse:142.561\tvalidation_1-rmse:154.119\tvalidation_2-rmse:150.953\n",
      "[83]\tvalidation_0-rmse:142.472\tvalidation_1-rmse:154.122\tvalidation_2-rmse:150.94\n"
     ]
    }
   ],
   "source": [
    "\n",
    "tuned_model = xgb.XGBRegressor( \n",
    "                        learning_rate = 0.035,\n",
    "                        n_estimators = 84,\n",
    "                        max_depth = 5,\n",
    "                        min_child_weight = 7,\n",
    "                        subsample = 0.66,\n",
    "                        colsample_bytree = 0.83,\n",
    "                        objective = 'reg:linear',\n",
    "                        reg_alpha= 0.6360,\n",
    "                        reg_lambda = 0.5957,\n",
    "                        gamma = 1.9392,\n",
    "                        seed = 27)\n",
    "xgbmodel = tuned_model.fit(train_X2.values, train_y, \n",
    "                 eval_set=[(train_X2.values, train_y), (val_X[collist_X2].values, val_y), (test_X[collist_X2].values, test_y)], \n",
    "                 eval_metric='rmse',\n",
    "                 early_stopping_rounds=100,                 \n",
    "                 verbose=True)\n",
    "\n",
    "# fig, ax = plt.subplots(figsize=(12,18))\n",
    "# xgb.plot_importance(xgbmodel, height=0.8, ax=ax)\n",
    "# plt.show()"
   ]
  },
  {
   "cell_type": "code",
   "execution_count": 25,
   "metadata": {
    "scrolled": false
   },
   "outputs": [
    {
     "name": "stdout",
     "output_type": "stream",
     "text": [
      "The model is trained on the full development set.\n",
      "The scores are computed on the full evaluation set.\n",
      "\n",
      "R2 Train: 0.460036382575\n",
      "RMSE Train: 142.47207215577004\n",
      "RMSE Val: 154.12162836319126\n",
      "RMSE Test: 150.94000762574947\n",
      "MAE Train: 56.216003563\n",
      "MAE Val: 59.300729884\n",
      "MAE Test: 58.4513111489\n"
     ]
    }
   ],
   "source": [
    "print(\"The model is trained on the full development set.\")\n",
    "print(\"The scores are computed on the full evaluation set.\")\n",
    "print()\n",
    "y_true3, y_pred3 = train_y, xgbmodel.predict(train_X[collist_X2].values)\n",
    "y_true, y_pred = val_y, xgbmodel.predict(val_X[collist_X2].values)\n",
    "y_true2, y_pred2 = test_y, xgbmodel.predict(test_X[collist_X2].values)\n",
    "print('R2 Train: ' + str(r2_score(y_true3, y_pred3)))\n",
    "rmse = math.sqrt(mean_squared_error(y_true3, y_pred3))\n",
    "print('RMSE Train: ' + str(rmse))\n",
    "rmse = math.sqrt(mean_squared_error(y_true, y_pred))\n",
    "print('RMSE Val: ' + str(rmse))\n",
    "rmse = math.sqrt(mean_squared_error(y_true2, y_pred2))\n",
    "print('RMSE Test: ' + str(rmse))\n",
    "\n",
    "rmse = mean_absolute_error(y_true3, y_pred3)\n",
    "print('MAE Train: ' + str(rmse))\n",
    "rmse = mean_absolute_error(y_true, y_pred)\n",
    "print('MAE Val: ' + str(rmse))\n",
    "rmse = mean_absolute_error(y_true2, y_pred2)\n",
    "print('MAE Test: ' + str(rmse))"
   ]
  },
  {
   "cell_type": "code",
   "execution_count": 26,
   "metadata": {},
   "outputs": [
    {
     "data": {
      "image/png": "[encoded data removed]",
      "text/plain": [
       "<matplotlib.figure.Figure at 0x236a9a20>"
      ]
     },
     "metadata": {},
     "output_type": "display_data"
    }
   ],
   "source": [
    "plotdata = pd.DataFrame({'true':y_true.tolist(),'pred':y_pred.tolist()})\n",
    "plotdata['resid'] = plotdata['pred']-plotdata['true']\n",
    "plotdata['stdresid'] = plotdata['resid']/np.std(plotdata['resid'])\n",
    "\n",
    "plt.plot(plotdata['stdresid'], '.', alpha = 0.5, color='black')\n",
    "plt.axhline(y=0, color = 'green')\n",
    "plt.axhline(y=2, color = 'blue', linestyle='--')\n",
    "plt.axhline(y=-2, color = 'blue', linestyle='--')\n",
    "plt.axhline(y=3, color = 'red', linestyle='--')\n",
    "plt.axhline(y=-3, color = 'red', linestyle='--')\n",
    "\n",
    "plt.title('Standardized Residuals')\n",
    "plt.ylabel('Standard Deviations')\n",
    "plt.xlabel('Observation Number')\n",
    "plt.show()"
   ]
  },
  {
   "cell_type": "code",
   "execution_count": 27,
   "metadata": {},
   "outputs": [
    {
     "name": "stdout",
     "output_type": "stream",
     "text": [
      "Parameter search took 303.88 seconds for 200 candidate parameter settings.\n",
      "Best Mean validation score: -26551.174 (std: 2654.345)\n",
      "Parameters: {'boosting_type': 'gbdt', 'colsample_bytree': 0.9348195085465445, 'learning_rate': 0.098159025800079014, 'max_depth': 6, 'min_child_weight': 0.38508759989028229, 'min_split_gain': 0.80846661451749824, 'num_leaves': 27, 'objective': None, 'reg_alpha': 9.7371847416400108, 'reg_lambda': 6.6741140600825721, 'silent': True, 'subsample': 0.96639663600070069}\n"
     ]
    }
   ],
   "source": [
    "param_test1 = {\n",
    "     'boosting_type':['dart','gbdt'],\n",
    "     'num_leaves':list(range(10,40)),\n",
    "     'max_depth':[-1,1,2,3,4,5,6,7,8,9,10,11,12,13,14,15],\n",
    "     'objective':[None, 'regression','regression_l1'],\n",
    "     'min_split_gain':uniform(0.0, 1.0),\n",
    "     'min_child_weight':uniform(0.0, 1.0),\n",
    "     'subsample':uniform(0.1, 0.9),\n",
    "     'colsample_bytree':uniform(0.1, 0.9),\n",
    "     'reg_alpha': uniform(0.0, 10.0),\n",
    "     'reg_lambda': uniform(0.0, 10.0),\n",
    "     'learning_rate':uniform(0.01,0.09),\n",
    "     'silent':[True]\n",
    "}\n",
    "\n",
    "\n",
    "gsearch1 = RandomizedSearchCV(estimator = lgbm.LGBMRegressor(), \n",
    "                              param_distributions = param_test1, \n",
    "                              scoring='neg_mean_squared_error',\n",
    "                              n_jobs=-1,\n",
    "                              n_iter=200,\n",
    "                              cv=5)\n",
    "start = time()\n",
    "gsearch1.fit(train_X2.values, train_y)\n",
    "\n",
    "print(\"Parameter search took %.2f seconds for %d candidate parameter settings.\"\n",
    "      % (time() - start, len(gsearch1.cv_results_['params'])))\n",
    "\n",
    "helper.report(gsearch1)   "
   ]
  },
  {
   "cell_type": "code",
   "execution_count": 30,
   "metadata": {
    "scrolled": true
   },
   "outputs": [
    {
     "name": "stdout",
     "output_type": "stream",
     "text": [
      "[1]\tvalid_0's rmse: 193.227\tvalid_1's rmse: 187.795\tvalid_2's rmse: 183.262\n",
      "Training until validation scores don't improve for 100 rounds.\n",
      "[2]\tvalid_0's rmse: 192.58\tvalid_1's rmse: 187.186\tvalid_2's rmse: 182.71\n",
      "[3]\tvalid_0's rmse: 191.937\tvalid_1's rmse: 186.586\tvalid_2's rmse: 182.161\n",
      "[4]\tvalid_0's rmse: 191.324\tvalid_1's rmse: 186.006\tvalid_2's rmse: 181.615\n",
      "[5]\tvalid_0's rmse: 190.702\tvalid_1's rmse: 185.424\tvalid_2's rmse: 181.08\n",
      "[6]\tvalid_0's rmse: 190.088\tvalid_1's rmse: 184.85\tvalid_2's rmse: 180.557\n",
      "[7]\tvalid_0's rmse: 189.485\tvalid_1's rmse: 184.282\tvalid_2's rmse: 180.041\n",
      "[8]\tvalid_0's rmse: 188.91\tvalid_1's rmse: 183.756\tvalid_2's rmse: 179.542\n",
      "[9]\tvalid_0's rmse: 188.323\tvalid_1's rmse: 183.222\tvalid_2's rmse: 179.051\n",
      "[10]\tvalid_0's rmse: 187.741\tvalid_1's rmse: 182.685\tvalid_2's rmse: 178.56\n",
      "[11]\tvalid_0's rmse: 187.173\tvalid_1's rmse: 182.16\tvalid_2's rmse: 178.08\n",
      "[12]\tvalid_0's rmse: 186.613\tvalid_1's rmse: 181.643\tvalid_2's rmse: 177.605\n",
      "[13]\tvalid_0's rmse: 186.076\tvalid_1's rmse: 181.157\tvalid_2's rmse: 177.143\n",
      "[14]\tvalid_0's rmse: 185.528\tvalid_1's rmse: 180.654\tvalid_2's rmse: 176.685\n",
      "[15]\tvalid_0's rmse: 184.992\tvalid_1's rmse: 180.159\tvalid_2's rmse: 176.231\n",
      "[16]\tvalid_0's rmse: 184.457\tvalid_1's rmse: 179.681\tvalid_2's rmse: 175.783\n",
      "[17]\tvalid_0's rmse: 183.932\tvalid_1's rmse: 179.194\tvalid_2's rmse: 175.344\n",
      "[18]\tvalid_0's rmse: 183.434\tvalid_1's rmse: 178.744\tvalid_2's rmse: 174.918\n",
      "[19]\tvalid_0's rmse: 182.925\tvalid_1's rmse: 178.278\tvalid_2's rmse: 174.49\n",
      "[20]\tvalid_0's rmse: 182.423\tvalid_1's rmse: 177.814\tvalid_2's rmse: 174.071\n",
      "[21]\tvalid_0's rmse: 181.926\tvalid_1's rmse: 177.37\tvalid_2's rmse: 173.657\n",
      "[22]\tvalid_0's rmse: 181.439\tvalid_1's rmse: 176.934\tvalid_2's rmse: 173.259\n",
      "[23]\tvalid_0's rmse: 180.962\tvalid_1's rmse: 176.505\tvalid_2's rmse: 172.865\n",
      "[24]\tvalid_0's rmse: 180.477\tvalid_1's rmse: 176.076\tvalid_2's rmse: 172.468\n",
      "[25]\tvalid_0's rmse: 180.021\tvalid_1's rmse: 175.664\tvalid_2's rmse: 172.069\n",
      "[26]\tvalid_0's rmse: 179.565\tvalid_1's rmse: 175.261\tvalid_2's rmse: 171.693\n",
      "[27]\tvalid_0's rmse: 179.113\tvalid_1's rmse: 174.851\tvalid_2's rmse: 171.327\n",
      "[28]\tvalid_0's rmse: 178.669\tvalid_1's rmse: 174.454\tvalid_2's rmse: 170.965\n",
      "[29]\tvalid_0's rmse: 178.238\tvalid_1's rmse: 174.068\tvalid_2's rmse: 170.598\n",
      "[30]\tvalid_0's rmse: 177.811\tvalid_1's rmse: 173.688\tvalid_2's rmse: 170.253\n",
      "[31]\tvalid_0's rmse: 177.383\tvalid_1's rmse: 173.292\tvalid_2's rmse: 169.898\n",
      "[32]\tvalid_0's rmse: 176.963\tvalid_1's rmse: 172.916\tvalid_2's rmse: 169.553\n",
      "[33]\tvalid_0's rmse: 176.546\tvalid_1's rmse: 172.537\tvalid_2's rmse: 169.219\n",
      "[34]\tvalid_0's rmse: 176.14\tvalid_1's rmse: 172.17\tvalid_2's rmse: 168.902\n",
      "[35]\tvalid_0's rmse: 175.741\tvalid_1's rmse: 171.814\tvalid_2's rmse: 168.581\n",
      "[36]\tvalid_0's rmse: 175.34\tvalid_1's rmse: 171.457\tvalid_2's rmse: 168.247\n",
      "[37]\tvalid_0's rmse: 174.95\tvalid_1's rmse: 171.122\tvalid_2's rmse: 167.926\n",
      "[38]\tvalid_0's rmse: 174.568\tvalid_1's rmse: 170.787\tvalid_2's rmse: 167.609\n",
      "[39]\tvalid_0's rmse: 174.178\tvalid_1's rmse: 170.462\tvalid_2's rmse: 167.293\n",
      "[40]\tvalid_0's rmse: 173.805\tvalid_1's rmse: 170.138\tvalid_2's rmse: 166.979\n",
      "[41]\tvalid_0's rmse: 173.445\tvalid_1's rmse: 169.838\tvalid_2's rmse: 166.696\n",
      "[42]\tvalid_0's rmse: 173.08\tvalid_1's rmse: 169.522\tvalid_2's rmse: 166.398\n",
      "[43]\tvalid_0's rmse: 172.724\tvalid_1's rmse: 169.21\tvalid_2's rmse: 166.109\n",
      "[44]\tvalid_0's rmse: 172.368\tvalid_1's rmse: 168.9\tvalid_2's rmse: 165.825\n",
      "[45]\tvalid_0's rmse: 172.015\tvalid_1's rmse: 168.606\tvalid_2's rmse: 165.547\n",
      "[46]\tvalid_0's rmse: 171.673\tvalid_1's rmse: 168.315\tvalid_2's rmse: 165.286\n",
      "[47]\tvalid_0's rmse: 171.333\tvalid_1's rmse: 168.033\tvalid_2's rmse: 165.008\n",
      "[48]\tvalid_0's rmse: 170.997\tvalid_1's rmse: 167.764\tvalid_2's rmse: 164.748\n",
      "[49]\tvalid_0's rmse: 170.664\tvalid_1's rmse: 167.484\tvalid_2's rmse: 164.487\n",
      "[50]\tvalid_0's rmse: 170.344\tvalid_1's rmse: 167.217\tvalid_2's rmse: 164.239\n",
      "[51]\tvalid_0's rmse: 170.028\tvalid_1's rmse: 166.942\tvalid_2's rmse: 164.006\n",
      "[52]\tvalid_0's rmse: 169.71\tvalid_1's rmse: 166.68\tvalid_2's rmse: 163.768\n",
      "[53]\tvalid_0's rmse: 169.396\tvalid_1's rmse: 166.41\tvalid_2's rmse: 163.527\n",
      "[54]\tvalid_0's rmse: 169.087\tvalid_1's rmse: 166.156\tvalid_2's rmse: 163.3\n",
      "[55]\tvalid_0's rmse: 168.786\tvalid_1's rmse: 165.902\tvalid_2's rmse: 163.079\n",
      "[56]\tvalid_0's rmse: 168.486\tvalid_1's rmse: 165.646\tvalid_2's rmse: 162.851\n",
      "[57]\tvalid_0's rmse: 168.18\tvalid_1's rmse: 165.413\tvalid_2's rmse: 162.618\n",
      "[58]\tvalid_0's rmse: 167.888\tvalid_1's rmse: 165.168\tvalid_2's rmse: 162.402\n",
      "[59]\tvalid_0's rmse: 167.598\tvalid_1's rmse: 164.93\tvalid_2's rmse: 162.166\n",
      "[60]\tvalid_0's rmse: 167.309\tvalid_1's rmse: 164.703\tvalid_2's rmse: 161.94\n",
      "[61]\tvalid_0's rmse: 167.031\tvalid_1's rmse: 164.47\tvalid_2's rmse: 161.724\n",
      "[62]\tvalid_0's rmse: 166.752\tvalid_1's rmse: 164.246\tvalid_2's rmse: 161.512\n",
      "[63]\tvalid_0's rmse: 166.476\tvalid_1's rmse: 164.027\tvalid_2's rmse: 161.316\n",
      "[64]\tvalid_0's rmse: 166.21\tvalid_1's rmse: 163.821\tvalid_2's rmse: 161.113\n",
      "[65]\tvalid_0's rmse: 165.947\tvalid_1's rmse: 163.629\tvalid_2's rmse: 160.926\n",
      "[66]\tvalid_0's rmse: 165.689\tvalid_1's rmse: 163.422\tvalid_2's rmse: 160.727\n",
      "[67]\tvalid_0's rmse: 165.426\tvalid_1's rmse: 163.22\tvalid_2's rmse: 160.533\n",
      "[68]\tvalid_0's rmse: 165.172\tvalid_1's rmse: 163.021\tvalid_2's rmse: 160.345\n",
      "[69]\tvalid_0's rmse: 164.921\tvalid_1's rmse: 162.827\tvalid_2's rmse: 160.17\n",
      "[70]\tvalid_0's rmse: 164.668\tvalid_1's rmse: 162.628\tvalid_2's rmse: 159.996\n",
      "[71]\tvalid_0's rmse: 164.416\tvalid_1's rmse: 162.433\tvalid_2's rmse: 159.812\n",
      "[72]\tvalid_0's rmse: 164.172\tvalid_1's rmse: 162.246\tvalid_2's rmse: 159.636\n",
      "[73]\tvalid_0's rmse: 163.934\tvalid_1's rmse: 162.079\tvalid_2's rmse: 159.469\n",
      "[74]\tvalid_0's rmse: 163.695\tvalid_1's rmse: 161.899\tvalid_2's rmse: 159.31\n",
      "[75]\tvalid_0's rmse: 163.464\tvalid_1's rmse: 161.727\tvalid_2's rmse: 159.149\n",
      "[76]\tvalid_0's rmse: 163.234\tvalid_1's rmse: 161.556\tvalid_2's rmse: 158.988\n",
      "[77]\tvalid_0's rmse: 163.008\tvalid_1's rmse: 161.392\tvalid_2's rmse: 158.819\n",
      "[78]\tvalid_0's rmse: 162.776\tvalid_1's rmse: 161.226\tvalid_2's rmse: 158.659\n",
      "[79]\tvalid_0's rmse: 162.565\tvalid_1's rmse: 161.067\tvalid_2's rmse: 158.504\n",
      "[80]\tvalid_0's rmse: 162.348\tvalid_1's rmse: 160.911\tvalid_2's rmse: 158.356\n",
      "[81]\tvalid_0's rmse: 162.129\tvalid_1's rmse: 160.752\tvalid_2's rmse: 158.203\n",
      "[82]\tvalid_0's rmse: 161.923\tvalid_1's rmse: 160.594\tvalid_2's rmse: 158.045\n",
      "[83]\tvalid_0's rmse: 161.716\tvalid_1's rmse: 160.443\tvalid_2's rmse: 157.906\n",
      "[84]\tvalid_0's rmse: 161.514\tvalid_1's rmse: 160.29\tvalid_2's rmse: 157.756\n",
      "[85]\tvalid_0's rmse: 161.311\tvalid_1's rmse: 160.144\tvalid_2's rmse: 157.625\n",
      "[86]\tvalid_0's rmse: 161.116\tvalid_1's rmse: 159.999\tvalid_2's rmse: 157.482\n",
      "[87]\tvalid_0's rmse: 160.922\tvalid_1's rmse: 159.874\tvalid_2's rmse: 157.36\n",
      "[88]\tvalid_0's rmse: 160.721\tvalid_1's rmse: 159.731\tvalid_2's rmse: 157.218\n",
      "[89]\tvalid_0's rmse: 160.534\tvalid_1's rmse: 159.603\tvalid_2's rmse: 157.101\n",
      "[90]\tvalid_0's rmse: 160.339\tvalid_1's rmse: 159.468\tvalid_2's rmse: 156.982\n",
      "[91]\tvalid_0's rmse: 160.153\tvalid_1's rmse: 159.339\tvalid_2's rmse: 156.856\n",
      "[92]\tvalid_0's rmse: 159.971\tvalid_1's rmse: 159.213\tvalid_2's rmse: 156.729\n",
      "[93]\tvalid_0's rmse: 159.798\tvalid_1's rmse: 159.097\tvalid_2's rmse: 156.612\n",
      "[94]\tvalid_0's rmse: 159.609\tvalid_1's rmse: 158.97\tvalid_2's rmse: 156.49\n",
      "[95]\tvalid_0's rmse: 159.428\tvalid_1's rmse: 158.853\tvalid_2's rmse: 156.369\n",
      "[96]\tvalid_0's rmse: 159.253\tvalid_1's rmse: 158.734\tvalid_2's rmse: 156.257\n",
      "[97]\tvalid_0's rmse: 159.08\tvalid_1's rmse: 158.617\tvalid_2's rmse: 156.128\n",
      "[98]\tvalid_0's rmse: 158.907\tvalid_1's rmse: 158.502\tvalid_2's rmse: 156.012\n",
      "[99]\tvalid_0's rmse: 158.736\tvalid_1's rmse: 158.39\tvalid_2's rmse: 155.902\n",
      "[100]\tvalid_0's rmse: 158.571\tvalid_1's rmse: 158.272\tvalid_2's rmse: 155.8\n",
      "[101]\tvalid_0's rmse: 158.403\tvalid_1's rmse: 158.168\tvalid_2's rmse: 155.692\n",
      "[102]\tvalid_0's rmse: 158.231\tvalid_1's rmse: 158.071\tvalid_2's rmse: 155.589\n",
      "[103]\tvalid_0's rmse: 158.068\tvalid_1's rmse: 157.975\tvalid_2's rmse: 155.492\n",
      "[104]\tvalid_0's rmse: 157.91\tvalid_1's rmse: 157.868\tvalid_2's rmse: 155.4\n",
      "[105]\tvalid_0's rmse: 157.751\tvalid_1's rmse: 157.768\tvalid_2's rmse: 155.295\n",
      "[106]\tvalid_0's rmse: 157.597\tvalid_1's rmse: 157.665\tvalid_2's rmse: 155.19\n",
      "[107]\tvalid_0's rmse: 157.439\tvalid_1's rmse: 157.567\tvalid_2's rmse: 155.093\n",
      "[108]\tvalid_0's rmse: 157.292\tvalid_1's rmse: 157.476\tvalid_2's rmse: 155.003\n",
      "[109]\tvalid_0's rmse: 157.136\tvalid_1's rmse: 157.389\tvalid_2's rmse: 154.91\n",
      "[110]\tvalid_0's rmse: 156.994\tvalid_1's rmse: 157.298\tvalid_2's rmse: 154.811\n",
      "[111]\tvalid_0's rmse: 156.845\tvalid_1's rmse: 157.199\tvalid_2's rmse: 154.716\n",
      "[112]\tvalid_0's rmse: 156.705\tvalid_1's rmse: 157.114\tvalid_2's rmse: 154.628\n",
      "[113]\tvalid_0's rmse: 156.564\tvalid_1's rmse: 157.023\tvalid_2's rmse: 154.547\n",
      "[114]\tvalid_0's rmse: 156.426\tvalid_1's rmse: 156.943\tvalid_2's rmse: 154.465\n",
      "[115]\tvalid_0's rmse: 156.285\tvalid_1's rmse: 156.86\tvalid_2's rmse: 154.386\n",
      "[116]\tvalid_0's rmse: 156.152\tvalid_1's rmse: 156.781\tvalid_2's rmse: 154.309\n",
      "[117]\tvalid_0's rmse: 156.016\tvalid_1's rmse: 156.702\tvalid_2's rmse: 154.233\n",
      "[118]\tvalid_0's rmse: 155.88\tvalid_1's rmse: 156.62\tvalid_2's rmse: 154.17\n",
      "[119]\tvalid_0's rmse: 155.742\tvalid_1's rmse: 156.537\tvalid_2's rmse: 154.09\n",
      "[120]\tvalid_0's rmse: 155.61\tvalid_1's rmse: 156.465\tvalid_2's rmse: 154.023\n",
      "[121]\tvalid_0's rmse: 155.481\tvalid_1's rmse: 156.393\tvalid_2's rmse: 153.952\n",
      "[122]\tvalid_0's rmse: 155.349\tvalid_1's rmse: 156.313\tvalid_2's rmse: 153.876\n",
      "[123]\tvalid_0's rmse: 155.224\tvalid_1's rmse: 156.243\tvalid_2's rmse: 153.807\n",
      "[124]\tvalid_0's rmse: 155.098\tvalid_1's rmse: 156.173\tvalid_2's rmse: 153.741\n",
      "[125]\tvalid_0's rmse: 154.972\tvalid_1's rmse: 156.104\tvalid_2's rmse: 153.687\n",
      "[126]\tvalid_0's rmse: 154.845\tvalid_1's rmse: 156.038\tvalid_2's rmse: 153.616\n",
      "[127]\tvalid_0's rmse: 154.726\tvalid_1's rmse: 155.979\tvalid_2's rmse: 153.567\n",
      "[128]\tvalid_0's rmse: 154.604\tvalid_1's rmse: 155.914\tvalid_2's rmse: 153.508\n",
      "[129]\tvalid_0's rmse: 154.48\tvalid_1's rmse: 155.858\tvalid_2's rmse: 153.443\n",
      "[130]\tvalid_0's rmse: 154.366\tvalid_1's rmse: 155.802\tvalid_2's rmse: 153.377\n",
      "[131]\tvalid_0's rmse: 154.25\tvalid_1's rmse: 155.739\tvalid_2's rmse: 153.306\n",
      "[132]\tvalid_0's rmse: 154.131\tvalid_1's rmse: 155.679\tvalid_2's rmse: 153.249\n",
      "[133]\tvalid_0's rmse: 154.01\tvalid_1's rmse: 155.619\tvalid_2's rmse: 153.18\n",
      "[134]\tvalid_0's rmse: 153.9\tvalid_1's rmse: 155.564\tvalid_2's rmse: 153.134\n",
      "[135]\tvalid_0's rmse: 153.791\tvalid_1's rmse: 155.514\tvalid_2's rmse: 153.092\n",
      "[136]\tvalid_0's rmse: 153.684\tvalid_1's rmse: 155.456\tvalid_2's rmse: 153.042\n",
      "[137]\tvalid_0's rmse: 153.568\tvalid_1's rmse: 155.397\tvalid_2's rmse: 152.988\n",
      "[138]\tvalid_0's rmse: 153.466\tvalid_1's rmse: 155.34\tvalid_2's rmse: 152.927\n",
      "[139]\tvalid_0's rmse: 153.363\tvalid_1's rmse: 155.29\tvalid_2's rmse: 152.871\n",
      "[140]\tvalid_0's rmse: 153.252\tvalid_1's rmse: 155.244\tvalid_2's rmse: 152.821\n",
      "[141]\tvalid_0's rmse: 153.155\tvalid_1's rmse: 155.202\tvalid_2's rmse: 152.767\n",
      "[142]\tvalid_0's rmse: 153.053\tvalid_1's rmse: 155.151\tvalid_2's rmse: 152.716\n",
      "[143]\tvalid_0's rmse: 152.95\tvalid_1's rmse: 155.105\tvalid_2's rmse: 152.671\n",
      "[144]\tvalid_0's rmse: 152.837\tvalid_1's rmse: 155.055\tvalid_2's rmse: 152.617\n",
      "[145]\tvalid_0's rmse: 152.74\tvalid_1's rmse: 155.007\tvalid_2's rmse: 152.572\n",
      "[146]\tvalid_0's rmse: 152.634\tvalid_1's rmse: 154.959\tvalid_2's rmse: 152.52\n",
      "[147]\tvalid_0's rmse: 152.53\tvalid_1's rmse: 154.915\tvalid_2's rmse: 152.475\n",
      "[148]\tvalid_0's rmse: 152.428\tvalid_1's rmse: 154.873\tvalid_2's rmse: 152.431\n",
      "[149]\tvalid_0's rmse: 152.333\tvalid_1's rmse: 154.835\tvalid_2's rmse: 152.397\n"
     ]
    },
    {
     "name": "stdout",
     "output_type": "stream",
     "text": [
      "[150]\tvalid_0's rmse: 152.239\tvalid_1's rmse: 154.802\tvalid_2's rmse: 152.353\n",
      "[151]\tvalid_0's rmse: 152.144\tvalid_1's rmse: 154.762\tvalid_2's rmse: 152.316\n",
      "[152]\tvalid_0's rmse: 152.052\tvalid_1's rmse: 154.721\tvalid_2's rmse: 152.274\n",
      "[153]\tvalid_0's rmse: 151.951\tvalid_1's rmse: 154.681\tvalid_2's rmse: 152.226\n",
      "[154]\tvalid_0's rmse: 151.855\tvalid_1's rmse: 154.642\tvalid_2's rmse: 152.187\n",
      "[155]\tvalid_0's rmse: 151.758\tvalid_1's rmse: 154.607\tvalid_2's rmse: 152.152\n",
      "[156]\tvalid_0's rmse: 151.668\tvalid_1's rmse: 154.57\tvalid_2's rmse: 152.113\n",
      "[157]\tvalid_0's rmse: 151.589\tvalid_1's rmse: 154.54\tvalid_2's rmse: 152.071\n",
      "[158]\tvalid_0's rmse: 151.495\tvalid_1's rmse: 154.5\tvalid_2's rmse: 152.027\n",
      "[159]\tvalid_0's rmse: 151.403\tvalid_1's rmse: 154.465\tvalid_2's rmse: 151.981\n",
      "[160]\tvalid_0's rmse: 151.312\tvalid_1's rmse: 154.438\tvalid_2's rmse: 151.939\n",
      "[161]\tvalid_0's rmse: 151.224\tvalid_1's rmse: 154.407\tvalid_2's rmse: 151.91\n",
      "[162]\tvalid_0's rmse: 151.133\tvalid_1's rmse: 154.38\tvalid_2's rmse: 151.866\n",
      "[163]\tvalid_0's rmse: 151.041\tvalid_1's rmse: 154.348\tvalid_2's rmse: 151.832\n",
      "[164]\tvalid_0's rmse: 150.955\tvalid_1's rmse: 154.323\tvalid_2's rmse: 151.791\n",
      "[165]\tvalid_0's rmse: 150.865\tvalid_1's rmse: 154.294\tvalid_2's rmse: 151.762\n",
      "[166]\tvalid_0's rmse: 150.781\tvalid_1's rmse: 154.27\tvalid_2's rmse: 151.735\n",
      "[167]\tvalid_0's rmse: 150.697\tvalid_1's rmse: 154.244\tvalid_2's rmse: 151.7\n",
      "[168]\tvalid_0's rmse: 150.616\tvalid_1's rmse: 154.21\tvalid_2's rmse: 151.667\n",
      "[169]\tvalid_0's rmse: 150.531\tvalid_1's rmse: 154.182\tvalid_2's rmse: 151.627\n",
      "[170]\tvalid_0's rmse: 150.451\tvalid_1's rmse: 154.156\tvalid_2's rmse: 151.592\n",
      "[171]\tvalid_0's rmse: 150.377\tvalid_1's rmse: 154.132\tvalid_2's rmse: 151.559\n",
      "[172]\tvalid_0's rmse: 150.299\tvalid_1's rmse: 154.107\tvalid_2's rmse: 151.536\n",
      "[173]\tvalid_0's rmse: 150.223\tvalid_1's rmse: 154.082\tvalid_2's rmse: 151.517\n",
      "[174]\tvalid_0's rmse: 150.144\tvalid_1's rmse: 154.049\tvalid_2's rmse: 151.49\n",
      "[175]\tvalid_0's rmse: 150.076\tvalid_1's rmse: 154.025\tvalid_2's rmse: 151.461\n",
      "[176]\tvalid_0's rmse: 150.001\tvalid_1's rmse: 154.004\tvalid_2's rmse: 151.43\n",
      "[177]\tvalid_0's rmse: 149.928\tvalid_1's rmse: 153.983\tvalid_2's rmse: 151.393\n",
      "[178]\tvalid_0's rmse: 149.85\tvalid_1's rmse: 153.961\tvalid_2's rmse: 151.365\n",
      "[179]\tvalid_0's rmse: 149.78\tvalid_1's rmse: 153.941\tvalid_2's rmse: 151.331\n",
      "[180]\tvalid_0's rmse: 149.702\tvalid_1's rmse: 153.926\tvalid_2's rmse: 151.314\n",
      "[181]\tvalid_0's rmse: 149.627\tvalid_1's rmse: 153.906\tvalid_2's rmse: 151.3\n",
      "[182]\tvalid_0's rmse: 149.555\tvalid_1's rmse: 153.882\tvalid_2's rmse: 151.27\n",
      "[183]\tvalid_0's rmse: 149.48\tvalid_1's rmse: 153.862\tvalid_2's rmse: 151.244\n",
      "[184]\tvalid_0's rmse: 149.403\tvalid_1's rmse: 153.844\tvalid_2's rmse: 151.22\n",
      "[185]\tvalid_0's rmse: 149.322\tvalid_1's rmse: 153.828\tvalid_2's rmse: 151.199\n",
      "[186]\tvalid_0's rmse: 149.244\tvalid_1's rmse: 153.808\tvalid_2's rmse: 151.175\n",
      "[187]\tvalid_0's rmse: 149.17\tvalid_1's rmse: 153.789\tvalid_2's rmse: 151.153\n",
      "[188]\tvalid_0's rmse: 149.095\tvalid_1's rmse: 153.775\tvalid_2's rmse: 151.122\n",
      "[189]\tvalid_0's rmse: 149.027\tvalid_1's rmse: 153.755\tvalid_2's rmse: 151.094\n",
      "[190]\tvalid_0's rmse: 148.958\tvalid_1's rmse: 153.74\tvalid_2's rmse: 151.069\n",
      "[191]\tvalid_0's rmse: 148.884\tvalid_1's rmse: 153.721\tvalid_2's rmse: 151.047\n",
      "[192]\tvalid_0's rmse: 148.817\tvalid_1's rmse: 153.707\tvalid_2's rmse: 151.036\n",
      "[193]\tvalid_0's rmse: 148.753\tvalid_1's rmse: 153.692\tvalid_2's rmse: 151.024\n",
      "[194]\tvalid_0's rmse: 148.69\tvalid_1's rmse: 153.683\tvalid_2's rmse: 151.017\n",
      "[195]\tvalid_0's rmse: 148.617\tvalid_1's rmse: 153.664\tvalid_2's rmse: 150.996\n",
      "[196]\tvalid_0's rmse: 148.557\tvalid_1's rmse: 153.649\tvalid_2's rmse: 150.982\n",
      "[197]\tvalid_0's rmse: 148.495\tvalid_1's rmse: 153.636\tvalid_2's rmse: 150.96\n",
      "[198]\tvalid_0's rmse: 148.427\tvalid_1's rmse: 153.618\tvalid_2's rmse: 150.944\n",
      "[199]\tvalid_0's rmse: 148.356\tvalid_1's rmse: 153.608\tvalid_2's rmse: 150.932\n",
      "[200]\tvalid_0's rmse: 148.294\tvalid_1's rmse: 153.596\tvalid_2's rmse: 150.918\n",
      "[201]\tvalid_0's rmse: 148.224\tvalid_1's rmse: 153.578\tvalid_2's rmse: 150.893\n",
      "[202]\tvalid_0's rmse: 148.163\tvalid_1's rmse: 153.568\tvalid_2's rmse: 150.877\n",
      "[203]\tvalid_0's rmse: 148.098\tvalid_1's rmse: 153.559\tvalid_2's rmse: 150.865\n",
      "[204]\tvalid_0's rmse: 148.033\tvalid_1's rmse: 153.552\tvalid_2's rmse: 150.85\n",
      "[205]\tvalid_0's rmse: 147.974\tvalid_1's rmse: 153.54\tvalid_2's rmse: 150.834\n",
      "[206]\tvalid_0's rmse: 147.909\tvalid_1's rmse: 153.526\tvalid_2's rmse: 150.829\n",
      "[207]\tvalid_0's rmse: 147.851\tvalid_1's rmse: 153.521\tvalid_2's rmse: 150.814\n",
      "[208]\tvalid_0's rmse: 147.788\tvalid_1's rmse: 153.518\tvalid_2's rmse: 150.809\n",
      "[209]\tvalid_0's rmse: 147.732\tvalid_1's rmse: 153.512\tvalid_2's rmse: 150.793\n",
      "[210]\tvalid_0's rmse: 147.669\tvalid_1's rmse: 153.498\tvalid_2's rmse: 150.777\n",
      "[211]\tvalid_0's rmse: 147.611\tvalid_1's rmse: 153.491\tvalid_2's rmse: 150.767\n",
      "[212]\tvalid_0's rmse: 147.55\tvalid_1's rmse: 153.48\tvalid_2's rmse: 150.744\n",
      "[213]\tvalid_0's rmse: 147.493\tvalid_1's rmse: 153.462\tvalid_2's rmse: 150.726\n",
      "[214]\tvalid_0's rmse: 147.434\tvalid_1's rmse: 153.452\tvalid_2's rmse: 150.717\n",
      "[215]\tvalid_0's rmse: 147.375\tvalid_1's rmse: 153.45\tvalid_2's rmse: 150.711\n",
      "[216]\tvalid_0's rmse: 147.313\tvalid_1's rmse: 153.44\tvalid_2's rmse: 150.699\n",
      "[217]\tvalid_0's rmse: 147.253\tvalid_1's rmse: 153.434\tvalid_2's rmse: 150.686\n",
      "[218]\tvalid_0's rmse: 147.2\tvalid_1's rmse: 153.427\tvalid_2's rmse: 150.672\n",
      "[219]\tvalid_0's rmse: 147.139\tvalid_1's rmse: 153.416\tvalid_2's rmse: 150.661\n",
      "[220]\tvalid_0's rmse: 147.079\tvalid_1's rmse: 153.406\tvalid_2's rmse: 150.647\n",
      "[221]\tvalid_0's rmse: 147.02\tvalid_1's rmse: 153.393\tvalid_2's rmse: 150.641\n",
      "[222]\tvalid_0's rmse: 146.963\tvalid_1's rmse: 153.39\tvalid_2's rmse: 150.637\n",
      "[223]\tvalid_0's rmse: 146.907\tvalid_1's rmse: 153.388\tvalid_2's rmse: 150.628\n",
      "[224]\tvalid_0's rmse: 146.855\tvalid_1's rmse: 153.384\tvalid_2's rmse: 150.609\n",
      "[225]\tvalid_0's rmse: 146.799\tvalid_1's rmse: 153.378\tvalid_2's rmse: 150.609\n",
      "[226]\tvalid_0's rmse: 146.744\tvalid_1's rmse: 153.371\tvalid_2's rmse: 150.595\n",
      "[227]\tvalid_0's rmse: 146.686\tvalid_1's rmse: 153.358\tvalid_2's rmse: 150.588\n",
      "[228]\tvalid_0's rmse: 146.635\tvalid_1's rmse: 153.363\tvalid_2's rmse: 150.58\n",
      "[229]\tvalid_0's rmse: 146.572\tvalid_1's rmse: 153.355\tvalid_2's rmse: 150.57\n",
      "[230]\tvalid_0's rmse: 146.523\tvalid_1's rmse: 153.349\tvalid_2's rmse: 150.568\n",
      "[231]\tvalid_0's rmse: 146.467\tvalid_1's rmse: 153.347\tvalid_2's rmse: 150.553\n",
      "[232]\tvalid_0's rmse: 146.415\tvalid_1's rmse: 153.344\tvalid_2's rmse: 150.551\n",
      "[233]\tvalid_0's rmse: 146.361\tvalid_1's rmse: 153.342\tvalid_2's rmse: 150.535\n",
      "[234]\tvalid_0's rmse: 146.306\tvalid_1's rmse: 153.335\tvalid_2's rmse: 150.519\n",
      "[235]\tvalid_0's rmse: 146.255\tvalid_1's rmse: 153.337\tvalid_2's rmse: 150.505\n",
      "[236]\tvalid_0's rmse: 146.199\tvalid_1's rmse: 153.33\tvalid_2's rmse: 150.494\n",
      "[237]\tvalid_0's rmse: 146.144\tvalid_1's rmse: 153.321\tvalid_2's rmse: 150.49\n",
      "[238]\tvalid_0's rmse: 146.1\tvalid_1's rmse: 153.323\tvalid_2's rmse: 150.485\n",
      "[239]\tvalid_0's rmse: 146.047\tvalid_1's rmse: 153.318\tvalid_2's rmse: 150.47\n",
      "[240]\tvalid_0's rmse: 145.995\tvalid_1's rmse: 153.317\tvalid_2's rmse: 150.473\n",
      "[241]\tvalid_0's rmse: 145.942\tvalid_1's rmse: 153.313\tvalid_2's rmse: 150.463\n",
      "[242]\tvalid_0's rmse: 145.894\tvalid_1's rmse: 153.309\tvalid_2's rmse: 150.449\n",
      "[243]\tvalid_0's rmse: 145.843\tvalid_1's rmse: 153.307\tvalid_2's rmse: 150.441\n",
      "[244]\tvalid_0's rmse: 145.796\tvalid_1's rmse: 153.308\tvalid_2's rmse: 150.426\n",
      "[245]\tvalid_0's rmse: 145.742\tvalid_1's rmse: 153.307\tvalid_2's rmse: 150.419\n",
      "[246]\tvalid_0's rmse: 145.689\tvalid_1's rmse: 153.302\tvalid_2's rmse: 150.404\n",
      "[247]\tvalid_0's rmse: 145.642\tvalid_1's rmse: 153.305\tvalid_2's rmse: 150.392\n",
      "[248]\tvalid_0's rmse: 145.589\tvalid_1's rmse: 153.301\tvalid_2's rmse: 150.386\n",
      "[249]\tvalid_0's rmse: 145.539\tvalid_1's rmse: 153.3\tvalid_2's rmse: 150.382\n",
      "[250]\tvalid_0's rmse: 145.485\tvalid_1's rmse: 153.299\tvalid_2's rmse: 150.37\n",
      "[251]\tvalid_0's rmse: 145.438\tvalid_1's rmse: 153.3\tvalid_2's rmse: 150.37\n",
      "[252]\tvalid_0's rmse: 145.386\tvalid_1's rmse: 153.297\tvalid_2's rmse: 150.366\n",
      "[253]\tvalid_0's rmse: 145.336\tvalid_1's rmse: 153.299\tvalid_2's rmse: 150.362\n",
      "[254]\tvalid_0's rmse: 145.285\tvalid_1's rmse: 153.302\tvalid_2's rmse: 150.356\n",
      "[255]\tvalid_0's rmse: 145.24\tvalid_1's rmse: 153.295\tvalid_2's rmse: 150.353\n",
      "[256]\tvalid_0's rmse: 145.198\tvalid_1's rmse: 153.291\tvalid_2's rmse: 150.345\n"
     ]
    },
    {
     "name": "stdout",
     "output_type": "stream",
     "text": [
      "[257]\tvalid_0's rmse: 145.149\tvalid_1's rmse: 153.29\tvalid_2's rmse: 150.339\n",
      "[258]\tvalid_0's rmse: 145.102\tvalid_1's rmse: 153.294\tvalid_2's rmse: 150.338\n",
      "[259]\tvalid_0's rmse: 145.059\tvalid_1's rmse: 153.296\tvalid_2's rmse: 150.329\n",
      "[260]\tvalid_0's rmse: 145.014\tvalid_1's rmse: 153.292\tvalid_2's rmse: 150.325\n",
      "[261]\tvalid_0's rmse: 144.966\tvalid_1's rmse: 153.292\tvalid_2's rmse: 150.322\n",
      "[262]\tvalid_0's rmse: 144.917\tvalid_1's rmse: 153.287\tvalid_2's rmse: 150.319\n",
      "[263]\tvalid_0's rmse: 144.873\tvalid_1's rmse: 153.291\tvalid_2's rmse: 150.313\n"
     ]
    },
    {
     "data": {
      "text/plain": [
       "LGBMRegressor(boosting_type='gbdt', colsample_bytree=0.9348,\n",
       "       learning_rate=0.01, max_bin=255, max_depth=6, min_child_samples=10,\n",
       "       min_child_weight=0.3851, min_split_gain=0.8085, n_estimators=263,\n",
       "       n_jobs=-1, num_leaves=27, objective=None, random_state=0,\n",
       "       reg_alpha=9.7372, reg_lambda=6.6741, silent=True, subsample=0.9664,\n",
       "       subsample_for_bin=50000, subsample_freq=1)"
      ]
     },
     "execution_count": 30,
     "metadata": {},
     "output_type": "execute_result"
    }
   ],
   "source": [
    "lgbmmodel = lgbm.LGBMRegressor( \n",
    "                        boosting_type='gbdt',\n",
    "                        colsample_bytree=0.9348,\n",
    "                        learning_rate=0.01,\n",
    "                        max_depth=6, \n",
    "                        min_child_weight=0.3851,\n",
    "                        min_split_gain=0.8085,\n",
    "                        num_leaves=27,\n",
    "                        objective=None,\n",
    "                        reg_alpha=9.7372,\n",
    "                        reg_lambda=6.6741,\n",
    "                        subsample=0.9664,\n",
    "                        n_estimators=263)\n",
    "lgbmmodel.fit(train_X2.values, train_y, \n",
    "                 eval_set=[(train_X2.values, train_y), (val_X[collist_X2].values, val_y), (test_X[collist_X2].values, test_y)], \n",
    "                 eval_metric='rmse',\n",
    "                 early_stopping_rounds=100,                 \n",
    "                 verbose=True)"
   ]
  },
  {
   "cell_type": "code",
   "execution_count": 72,
   "metadata": {},
   "outputs": [
    {
     "name": "stdout",
     "output_type": "stream",
     "text": [
      "The model is trained on the full development set.\n",
      "The scores are computed on the full evaluation set.\n",
      "\n",
      "R2 Train: 0.441687465798\n",
      "RMSE Train: 144.8725754292381\n",
      "RMSE Val: 153.2910242796636\n",
      "RMSE Test: 150.31320485939884\n",
      "MAE Train: 59.2165665915\n",
      "MAE Val: 61.4960366472\n",
      "MAE Test: 60.6210510944\n"
     ]
    }
   ],
   "source": [
    "print(\"The model is trained on the full development set.\")\n",
    "print(\"The scores are computed on the full evaluation set.\")\n",
    "print()\n",
    "y_true3, y_pred3 = train_y, lgbmmodel.predict(train_X[collist_X2].values)\n",
    "y_true, y_pred = val_y, lgbmmodel.predict(val_X[collist_X2].values)\n",
    "y_true2, y_pred2 = test_y, lgbmmodel.predict(test_X[collist_X2].values)\n",
    "print('R2 Train: ' + str(r2_score(y_true3, y_pred3)))\n",
    "rmse = math.sqrt(mean_squared_error(y_true3, y_pred3))\n",
    "print('RMSE Train: ' + str(rmse))\n",
    "rmse = math.sqrt(mean_squared_error(y_true, y_pred))\n",
    "print('RMSE Val: ' + str(rmse))\n",
    "rmse = math.sqrt(mean_squared_error(y_true2, y_pred2))\n",
    "print('RMSE Test: ' + str(rmse))\n",
    "\n",
    "rmse = mean_absolute_error(y_true3, y_pred3)\n",
    "print('MAE Train: ' + str(rmse))\n",
    "rmse = mean_absolute_error(y_true, y_pred)\n",
    "print('MAE Val: ' + str(rmse))\n",
    "rmse = mean_absolute_error(y_true2, y_pred2)\n",
    "print('MAE Test: ' + str(rmse))\n"
   ]
  },
  {
   "cell_type": "code",
   "execution_count": 32,
   "metadata": {},
   "outputs": [
    {
     "data": {
      "image/png": "[encoded data removed]",
      "text/plain": [
       "<matplotlib.figure.Figure at 0x22d380b8>"
      ]
     },
     "metadata": {},
     "output_type": "display_data"
    }
   ],
   "source": [
    "plotdata = pd.DataFrame({'true':y_true.tolist(),'pred':y_pred.tolist()})\n",
    "plotdata['resid'] = plotdata['pred']-plotdata['true']\n",
    "plotdata['stdresid'] = plotdata['resid']/np.std(plotdata['resid'])\n",
    "\n",
    "plt.plot(plotdata['stdresid'], '.', alpha = 0.5, color='black')\n",
    "plt.axhline(y=0, color = 'green')\n",
    "plt.axhline(y=2, color = 'blue', linestyle='--')\n",
    "plt.axhline(y=-2, color = 'blue', linestyle='--')\n",
    "plt.axhline(y=3, color = 'red', linestyle='--')\n",
    "plt.axhline(y=-3, color = 'red', linestyle='--')\n",
    "\n",
    "plt.title('Standardized Residuals')\n",
    "plt.ylabel('Standard Deviations')\n",
    "plt.xlabel('Observation Number')\n",
    "plt.show()"
   ]
  },
  {
   "cell_type": "code",
   "execution_count": 34,
   "metadata": {},
   "outputs": [
    {
     "data": {
      "text/plain": [
       "(12,)"
      ]
     },
     "execution_count": 34,
     "metadata": {},
     "output_type": "execute_result"
    }
   ],
   "source": [
    "train_X2.shape[1:]"
   ]
  },
  {
   "cell_type": "code",
   "execution_count": 115,
   "metadata": {
    "scrolled": true
   },
   "outputs": [
    {
     "name": "stdout",
     "output_type": "stream",
     "text": [
      "INFO:tensorflow:Using default config.\n"
     ]
    },
    {
     "name": "stderr",
     "output_type": "stream",
     "text": [
      "INFO:tensorflow:Using default config.\n"
     ]
    },
    {
     "name": "stdout",
     "output_type": "stream",
     "text": [
      "WARNING:tensorflow:Using temporary folder as model directory: C:\\Temp\\tmpvkizmml2\n"
     ]
    },
    {
     "name": "stderr",
     "output_type": "stream",
     "text": [
      "WARNING:tensorflow:Using temporary folder as model directory: C:\\Temp\\tmpvkizmml2\n"
     ]
    },
    {
     "name": "stdout",
     "output_type": "stream",
     "text": [
      "INFO:tensorflow:Using config: {'_model_dir': 'C:\\\\Temp\\\\tmpvkizmml2', '_tf_random_seed': None, '_save_summary_steps': 100, '_save_checkpoints_steps': None, '_save_checkpoints_secs': 600, '_session_config': None, '_keep_checkpoint_max': 5, '_keep_checkpoint_every_n_hours': 10000, '_log_step_count_steps': 100, '_service': None, '_cluster_spec': <tensorflow.python.training.server_lib.ClusterSpec object at 0x0000000026220FD0>, '_task_type': 'worker', '_task_id': 0, '_master': '', '_is_chief': True, '_num_ps_replicas': 0, '_num_worker_replicas': 1}\n"
     ]
    },
    {
     "name": "stderr",
     "output_type": "stream",
     "text": [
      "INFO:tensorflow:Using config: {'_model_dir': 'C:\\\\Temp\\\\tmpvkizmml2', '_tf_random_seed': None, '_save_summary_steps': 100, '_save_checkpoints_steps': None, '_save_checkpoints_secs': 600, '_session_config': None, '_keep_checkpoint_max': 5, '_keep_checkpoint_every_n_hours': 10000, '_log_step_count_steps': 100, '_service': None, '_cluster_spec': <tensorflow.python.training.server_lib.ClusterSpec object at 0x0000000026220FD0>, '_task_type': 'worker', '_task_id': 0, '_master': '', '_is_chief': True, '_num_ps_replicas': 0, '_num_worker_replicas': 1}\n"
     ]
    },
    {
     "name": "stdout",
     "output_type": "stream",
     "text": [
      "INFO:tensorflow:Create CheckpointSaverHook.\n"
     ]
    },
    {
     "name": "stderr",
     "output_type": "stream",
     "text": [
      "INFO:tensorflow:Create CheckpointSaverHook.\n"
     ]
    },
    {
     "name": "stdout",
     "output_type": "stream",
     "text": [
      "INFO:tensorflow:Saving checkpoints for 1 into C:\\Temp\\tmpvkizmml2\\model.ckpt.\n"
     ]
    },
    {
     "name": "stderr",
     "output_type": "stream",
     "text": [
      "INFO:tensorflow:Saving checkpoints for 1 into C:\\Temp\\tmpvkizmml2\\model.ckpt.\n"
     ]
    },
    {
     "name": "stdout",
     "output_type": "stream",
     "text": [
      "INFO:tensorflow:loss = 2.17237e+07, step = 1\n"
     ]
    },
    {
     "name": "stderr",
     "output_type": "stream",
     "text": [
      "INFO:tensorflow:loss = 2.17237e+07, step = 1\n"
     ]
    },
    {
     "name": "stdout",
     "output_type": "stream",
     "text": [
      "INFO:tensorflow:global_step/sec: 250\n"
     ]
    },
    {
     "name": "stderr",
     "output_type": "stream",
     "text": [
      "INFO:tensorflow:global_step/sec: 250\n"
     ]
    },
    {
     "name": "stdout",
     "output_type": "stream",
     "text": [
      "INFO:tensorflow:loss = 3.9901e+07, step = 101 (0.402 sec)\n"
     ]
    },
    {
     "name": "stderr",
     "output_type": "stream",
     "text": [
      "INFO:tensorflow:loss = 3.9901e+07, step = 101 (0.402 sec)\n"
     ]
    },
    {
     "name": "stdout",
     "output_type": "stream",
     "text": [
      "INFO:tensorflow:global_step/sec: 259.067\n"
     ]
    },
    {
     "name": "stderr",
     "output_type": "stream",
     "text": [
      "INFO:tensorflow:global_step/sec: 259.067\n"
     ]
    },
    {
     "name": "stdout",
     "output_type": "stream",
     "text": [
      "INFO:tensorflow:loss = 1.52165e+07, step = 201 (0.387 sec)\n"
     ]
    },
    {
     "name": "stderr",
     "output_type": "stream",
     "text": [
      "INFO:tensorflow:loss = 1.52165e+07, step = 201 (0.387 sec)\n"
     ]
    },
    {
     "name": "stdout",
     "output_type": "stream",
     "text": [
      "INFO:tensorflow:global_step/sec: 227.273\n"
     ]
    },
    {
     "name": "stderr",
     "output_type": "stream",
     "text": [
      "INFO:tensorflow:global_step/sec: 227.273\n"
     ]
    },
    {
     "name": "stdout",
     "output_type": "stream",
     "text": [
      "INFO:tensorflow:loss = 2.33861e+07, step = 301 (0.441 sec)\n"
     ]
    },
    {
     "name": "stderr",
     "output_type": "stream",
     "text": [
      "INFO:tensorflow:loss = 2.33861e+07, step = 301 (0.441 sec)\n"
     ]
    },
    {
     "name": "stdout",
     "output_type": "stream",
     "text": [
      "INFO:tensorflow:global_step/sec: 222.717\n"
     ]
    },
    {
     "name": "stderr",
     "output_type": "stream",
     "text": [
      "INFO:tensorflow:global_step/sec: 222.717\n"
     ]
    },
    {
     "name": "stdout",
     "output_type": "stream",
     "text": [
      "INFO:tensorflow:loss = 2.15171e+07, step = 401 (0.449 sec)\n"
     ]
    },
    {
     "name": "stderr",
     "output_type": "stream",
     "text": [
      "INFO:tensorflow:loss = 2.15171e+07, step = 401 (0.449 sec)\n"
     ]
    },
    {
     "name": "stdout",
     "output_type": "stream",
     "text": [
      "INFO:tensorflow:global_step/sec: 220.264\n"
     ]
    },
    {
     "name": "stderr",
     "output_type": "stream",
     "text": [
      "INFO:tensorflow:global_step/sec: 220.264\n"
     ]
    },
    {
     "name": "stdout",
     "output_type": "stream",
     "text": [
      "INFO:tensorflow:loss = 1.72044e+07, step = 501 (0.455 sec)\n"
     ]
    },
    {
     "name": "stderr",
     "output_type": "stream",
     "text": [
      "INFO:tensorflow:loss = 1.72044e+07, step = 501 (0.455 sec)\n"
     ]
    },
    {
     "name": "stdout",
     "output_type": "stream",
     "text": [
      "INFO:tensorflow:global_step/sec: 209.644\n"
     ]
    },
    {
     "name": "stderr",
     "output_type": "stream",
     "text": [
      "INFO:tensorflow:global_step/sec: 209.644\n"
     ]
    },
    {
     "name": "stdout",
     "output_type": "stream",
     "text": [
      "INFO:tensorflow:loss = 2.81847e+07, step = 601 (0.476 sec)\n"
     ]
    },
    {
     "name": "stderr",
     "output_type": "stream",
     "text": [
      "INFO:tensorflow:loss = 2.81847e+07, step = 601 (0.476 sec)\n"
     ]
    },
    {
     "name": "stdout",
     "output_type": "stream",
     "text": [
      "INFO:tensorflow:global_step/sec: 234.192\n"
     ]
    },
    {
     "name": "stderr",
     "output_type": "stream",
     "text": [
      "INFO:tensorflow:global_step/sec: 234.192\n"
     ]
    },
    {
     "name": "stdout",
     "output_type": "stream",
     "text": [
      "INFO:tensorflow:loss = 1.87219e+07, step = 701 (0.426 sec)\n"
     ]
    },
    {
     "name": "stderr",
     "output_type": "stream",
     "text": [
      "INFO:tensorflow:loss = 1.87219e+07, step = 701 (0.426 sec)\n"
     ]
    },
    {
     "name": "stdout",
     "output_type": "stream",
     "text": [
      "INFO:tensorflow:global_step/sec: 245.098\n"
     ]
    },
    {
     "name": "stderr",
     "output_type": "stream",
     "text": [
      "INFO:tensorflow:global_step/sec: 245.098\n"
     ]
    },
    {
     "name": "stdout",
     "output_type": "stream",
     "text": [
      "INFO:tensorflow:loss = 2.07112e+07, step = 801 (0.408 sec)\n"
     ]
    },
    {
     "name": "stderr",
     "output_type": "stream",
     "text": [
      "INFO:tensorflow:loss = 2.07112e+07, step = 801 (0.408 sec)\n"
     ]
    },
    {
     "name": "stdout",
     "output_type": "stream",
     "text": [
      "INFO:tensorflow:global_step/sec: 217.865\n"
     ]
    },
    {
     "name": "stderr",
     "output_type": "stream",
     "text": [
      "INFO:tensorflow:global_step/sec: 217.865\n"
     ]
    },
    {
     "name": "stdout",
     "output_type": "stream",
     "text": [
      "INFO:tensorflow:loss = 3.83267e+07, step = 901 (0.459 sec)\n"
     ]
    },
    {
     "name": "stderr",
     "output_type": "stream",
     "text": [
      "INFO:tensorflow:loss = 3.83267e+07, step = 901 (0.459 sec)\n"
     ]
    },
    {
     "name": "stdout",
     "output_type": "stream",
     "text": [
      "INFO:tensorflow:global_step/sec: 242.131\n"
     ]
    },
    {
     "name": "stderr",
     "output_type": "stream",
     "text": [
      "INFO:tensorflow:global_step/sec: 242.131\n"
     ]
    },
    {
     "name": "stdout",
     "output_type": "stream",
     "text": [
      "INFO:tensorflow:loss = 2.20991e+07, step = 1001 (0.413 sec)\n"
     ]
    },
    {
     "name": "stderr",
     "output_type": "stream",
     "text": [
      "INFO:tensorflow:loss = 2.20991e+07, step = 1001 (0.413 sec)\n"
     ]
    },
    {
     "name": "stdout",
     "output_type": "stream",
     "text": [
      "INFO:tensorflow:global_step/sec: 230.947\n"
     ]
    },
    {
     "name": "stderr",
     "output_type": "stream",
     "text": [
      "INFO:tensorflow:global_step/sec: 230.947\n"
     ]
    },
    {
     "name": "stdout",
     "output_type": "stream",
     "text": [
      "INFO:tensorflow:loss = 1.98671e+07, step = 1101 (0.442 sec)\n"
     ]
    },
    {
     "name": "stderr",
     "output_type": "stream",
     "text": [
      "INFO:tensorflow:loss = 1.98671e+07, step = 1101 (0.442 sec)\n"
     ]
    },
    {
     "name": "stdout",
     "output_type": "stream",
     "text": [
      "INFO:tensorflow:global_step/sec: 220.751\n"
     ]
    },
    {
     "name": "stderr",
     "output_type": "stream",
     "text": [
      "INFO:tensorflow:global_step/sec: 220.751\n"
     ]
    },
    {
     "name": "stdout",
     "output_type": "stream",
     "text": [
      "INFO:tensorflow:loss = 2.67226e+07, step = 1201 (0.444 sec)\n"
     ]
    },
    {
     "name": "stderr",
     "output_type": "stream",
     "text": [
      "INFO:tensorflow:loss = 2.67226e+07, step = 1201 (0.444 sec)\n"
     ]
    },
    {
     "name": "stdout",
     "output_type": "stream",
     "text": [
      "INFO:tensorflow:global_step/sec: 237.53\n"
     ]
    },
    {
     "name": "stderr",
     "output_type": "stream",
     "text": [
      "INFO:tensorflow:global_step/sec: 237.53\n"
     ]
    },
    {
     "name": "stdout",
     "output_type": "stream",
     "text": [
      "INFO:tensorflow:loss = 1.40596e+07, step = 1301 (0.421 sec)\n"
     ]
    },
    {
     "name": "stderr",
     "output_type": "stream",
     "text": [
      "INFO:tensorflow:loss = 1.40596e+07, step = 1301 (0.421 sec)\n"
     ]
    },
    {
     "name": "stdout",
     "output_type": "stream",
     "text": [
      "INFO:tensorflow:global_step/sec: 280.899\n"
     ]
    },
    {
     "name": "stderr",
     "output_type": "stream",
     "text": [
      "INFO:tensorflow:global_step/sec: 280.899\n"
     ]
    },
    {
     "name": "stdout",
     "output_type": "stream",
     "text": [
      "INFO:tensorflow:loss = 3.96883e+07, step = 1401 (0.355 sec)\n"
     ]
    },
    {
     "name": "stderr",
     "output_type": "stream",
     "text": [
      "INFO:tensorflow:loss = 3.96883e+07, step = 1401 (0.355 sec)\n"
     ]
    },
    {
     "name": "stdout",
     "output_type": "stream",
     "text": [
      "INFO:tensorflow:global_step/sec: 272.479\n"
     ]
    },
    {
     "name": "stderr",
     "output_type": "stream",
     "text": [
      "INFO:tensorflow:global_step/sec: 272.479\n"
     ]
    },
    {
     "name": "stdout",
     "output_type": "stream",
     "text": [
      "INFO:tensorflow:loss = 2.24481e+07, step = 1501 (0.367 sec)\n"
     ]
    },
    {
     "name": "stderr",
     "output_type": "stream",
     "text": [
      "INFO:tensorflow:loss = 2.24481e+07, step = 1501 (0.367 sec)\n"
     ]
    },
    {
     "name": "stdout",
     "output_type": "stream",
     "text": [
      "INFO:tensorflow:global_step/sec: 274.725\n"
     ]
    },
    {
     "name": "stderr",
     "output_type": "stream",
     "text": [
      "INFO:tensorflow:global_step/sec: 274.725\n"
     ]
    },
    {
     "name": "stdout",
     "output_type": "stream",
     "text": [
      "INFO:tensorflow:loss = 2.10841e+07, step = 1601 (0.364 sec)\n"
     ]
    },
    {
     "name": "stderr",
     "output_type": "stream",
     "text": [
      "INFO:tensorflow:loss = 2.10841e+07, step = 1601 (0.364 sec)\n"
     ]
    },
    {
     "name": "stdout",
     "output_type": "stream",
     "text": [
      "INFO:tensorflow:global_step/sec: 278.551\n"
     ]
    },
    {
     "name": "stderr",
     "output_type": "stream",
     "text": [
      "INFO:tensorflow:global_step/sec: 278.551\n"
     ]
    },
    {
     "name": "stdout",
     "output_type": "stream",
     "text": [
      "INFO:tensorflow:loss = 3.41267e+07, step = 1701 (0.360 sec)\n"
     ]
    },
    {
     "name": "stderr",
     "output_type": "stream",
     "text": [
      "INFO:tensorflow:loss = 3.41267e+07, step = 1701 (0.360 sec)\n"
     ]
    },
    {
     "name": "stdout",
     "output_type": "stream",
     "text": [
      "INFO:tensorflow:global_step/sec: 275.482\n"
     ]
    },
    {
     "name": "stderr",
     "output_type": "stream",
     "text": [
      "INFO:tensorflow:global_step/sec: 275.482\n"
     ]
    },
    {
     "name": "stdout",
     "output_type": "stream",
     "text": [
      "INFO:tensorflow:loss = 3.00805e+07, step = 1801 (0.362 sec)\n"
     ]
    },
    {
     "name": "stderr",
     "output_type": "stream",
     "text": [
      "INFO:tensorflow:loss = 3.00805e+07, step = 1801 (0.362 sec)\n"
     ]
    },
    {
     "name": "stdout",
     "output_type": "stream",
     "text": [
      "INFO:tensorflow:global_step/sec: 277.778\n"
     ]
    },
    {
     "name": "stderr",
     "output_type": "stream",
     "text": [
      "INFO:tensorflow:global_step/sec: 277.778\n"
     ]
    },
    {
     "name": "stdout",
     "output_type": "stream",
     "text": [
      "INFO:tensorflow:loss = 2.78741e+07, step = 1901 (0.360 sec)\n"
     ]
    },
    {
     "name": "stderr",
     "output_type": "stream",
     "text": [
      "INFO:tensorflow:loss = 2.78741e+07, step = 1901 (0.360 sec)\n"
     ]
    },
    {
     "name": "stdout",
     "output_type": "stream",
     "text": [
      "INFO:tensorflow:global_step/sec: 277.778\n"
     ]
    },
    {
     "name": "stderr",
     "output_type": "stream",
     "text": [
      "INFO:tensorflow:global_step/sec: 277.778\n"
     ]
    },
    {
     "name": "stdout",
     "output_type": "stream",
     "text": [
      "INFO:tensorflow:loss = 2.13256e+07, step = 2001 (0.360 sec)\n"
     ]
    },
    {
     "name": "stderr",
     "output_type": "stream",
     "text": [
      "INFO:tensorflow:loss = 2.13256e+07, step = 2001 (0.360 sec)\n"
     ]
    },
    {
     "name": "stdout",
     "output_type": "stream",
     "text": [
      "INFO:tensorflow:global_step/sec: 276.243\n"
     ]
    },
    {
     "name": "stderr",
     "output_type": "stream",
     "text": [
      "INFO:tensorflow:global_step/sec: 276.243\n"
     ]
    },
    {
     "name": "stdout",
     "output_type": "stream",
     "text": [
      "INFO:tensorflow:loss = 1.52639e+07, step = 2101 (0.362 sec)\n"
     ]
    },
    {
     "name": "stderr",
     "output_type": "stream",
     "text": [
      "INFO:tensorflow:loss = 1.52639e+07, step = 2101 (0.362 sec)\n"
     ]
    },
    {
     "name": "stdout",
     "output_type": "stream",
     "text": [
      "INFO:tensorflow:global_step/sec: 257.069\n"
     ]
    },
    {
     "name": "stderr",
     "output_type": "stream",
     "text": [
      "INFO:tensorflow:global_step/sec: 257.069\n"
     ]
    },
    {
     "name": "stdout",
     "output_type": "stream",
     "text": [
      "INFO:tensorflow:loss = 2.43512e+07, step = 2201 (0.389 sec)\n"
     ]
    },
    {
     "name": "stderr",
     "output_type": "stream",
     "text": [
      "INFO:tensorflow:loss = 2.43512e+07, step = 2201 (0.389 sec)\n"
     ]
    },
    {
     "name": "stdout",
     "output_type": "stream",
     "text": [
      "INFO:tensorflow:global_step/sec: 276.243\n"
     ]
    },
    {
     "name": "stderr",
     "output_type": "stream",
     "text": [
      "INFO:tensorflow:global_step/sec: 276.243\n"
     ]
    },
    {
     "name": "stdout",
     "output_type": "stream",
     "text": [
      "INFO:tensorflow:loss = 2.3566e+07, step = 2301 (0.362 sec)\n"
     ]
    },
    {
     "name": "stderr",
     "output_type": "stream",
     "text": [
      "INFO:tensorflow:loss = 2.3566e+07, step = 2301 (0.362 sec)\n"
     ]
    },
    {
     "name": "stdout",
     "output_type": "stream",
     "text": [
      "INFO:tensorflow:global_step/sec: 277.008\n"
     ]
    },
    {
     "name": "stderr",
     "output_type": "stream",
     "text": [
      "INFO:tensorflow:global_step/sec: 277.008\n"
     ]
    },
    {
     "name": "stdout",
     "output_type": "stream",
     "text": [
      "INFO:tensorflow:loss = 3.96292e+07, step = 2401 (0.361 sec)\n"
     ]
    },
    {
     "name": "stderr",
     "output_type": "stream",
     "text": [
      "INFO:tensorflow:loss = 3.96292e+07, step = 2401 (0.361 sec)\n"
     ]
    },
    {
     "name": "stdout",
     "output_type": "stream",
     "text": [
      "INFO:tensorflow:global_step/sec: 277.008\n"
     ]
    },
    {
     "name": "stderr",
     "output_type": "stream",
     "text": [
      "INFO:tensorflow:global_step/sec: 277.008\n"
     ]
    },
    {
     "name": "stdout",
     "output_type": "stream",
     "text": [
      "INFO:tensorflow:loss = 1.8715e+07, step = 2501 (0.361 sec)\n"
     ]
    },
    {
     "name": "stderr",
     "output_type": "stream",
     "text": [
      "INFO:tensorflow:loss = 1.8715e+07, step = 2501 (0.361 sec)\n"
     ]
    },
    {
     "name": "stdout",
     "output_type": "stream",
     "text": [
      "INFO:tensorflow:global_step/sec: 276.243\n"
     ]
    },
    {
     "name": "stderr",
     "output_type": "stream",
     "text": [
      "INFO:tensorflow:global_step/sec: 276.243\n"
     ]
    },
    {
     "name": "stdout",
     "output_type": "stream",
     "text": [
      "INFO:tensorflow:loss = 3.48558e+07, step = 2601 (0.363 sec)\n"
     ]
    },
    {
     "name": "stderr",
     "output_type": "stream",
     "text": [
      "INFO:tensorflow:loss = 3.48558e+07, step = 2601 (0.363 sec)\n"
     ]
    },
    {
     "name": "stdout",
     "output_type": "stream",
     "text": [
      "INFO:tensorflow:global_step/sec: 276.243\n"
     ]
    },
    {
     "name": "stderr",
     "output_type": "stream",
     "text": [
      "INFO:tensorflow:global_step/sec: 276.243\n"
     ]
    },
    {
     "name": "stdout",
     "output_type": "stream",
     "text": [
      "INFO:tensorflow:loss = 2.98282e+07, step = 2701 (0.361 sec)\n"
     ]
    },
    {
     "name": "stderr",
     "output_type": "stream",
     "text": [
      "INFO:tensorflow:loss = 2.98282e+07, step = 2701 (0.361 sec)\n"
     ]
    },
    {
     "name": "stdout",
     "output_type": "stream",
     "text": [
      "INFO:tensorflow:global_step/sec: 278.551\n"
     ]
    },
    {
     "name": "stderr",
     "output_type": "stream",
     "text": [
      "INFO:tensorflow:global_step/sec: 278.551\n"
     ]
    },
    {
     "name": "stdout",
     "output_type": "stream",
     "text": [
      "INFO:tensorflow:loss = 1.85979e+07, step = 2801 (0.360 sec)\n"
     ]
    },
    {
     "name": "stderr",
     "output_type": "stream",
     "text": [
      "INFO:tensorflow:loss = 1.85979e+07, step = 2801 (0.360 sec)\n"
     ]
    },
    {
     "name": "stdout",
     "output_type": "stream",
     "text": [
      "INFO:tensorflow:global_step/sec: 274.725\n"
     ]
    },
    {
     "name": "stderr",
     "output_type": "stream",
     "text": [
      "INFO:tensorflow:global_step/sec: 274.725\n"
     ]
    },
    {
     "name": "stdout",
     "output_type": "stream",
     "text": [
      "INFO:tensorflow:loss = 2.12092e+07, step = 2901 (0.363 sec)\n"
     ]
    },
    {
     "name": "stderr",
     "output_type": "stream",
     "text": [
      "INFO:tensorflow:loss = 2.12092e+07, step = 2901 (0.363 sec)\n"
     ]
    },
    {
     "name": "stdout",
     "output_type": "stream",
     "text": [
      "INFO:tensorflow:global_step/sec: 276.243\n"
     ]
    },
    {
     "name": "stderr",
     "output_type": "stream",
     "text": [
      "INFO:tensorflow:global_step/sec: 276.243\n"
     ]
    },
    {
     "name": "stdout",
     "output_type": "stream",
     "text": [
      "INFO:tensorflow:loss = 2.74941e+07, step = 3001 (0.363 sec)\n"
     ]
    },
    {
     "name": "stderr",
     "output_type": "stream",
     "text": [
      "INFO:tensorflow:loss = 2.74941e+07, step = 3001 (0.363 sec)\n"
     ]
    },
    {
     "name": "stdout",
     "output_type": "stream",
     "text": [
      "INFO:tensorflow:global_step/sec: 270.27\n"
     ]
    },
    {
     "name": "stderr",
     "output_type": "stream",
     "text": [
      "INFO:tensorflow:global_step/sec: 270.27\n"
     ]
    },
    {
     "name": "stdout",
     "output_type": "stream",
     "text": [
      "INFO:tensorflow:loss = 1.90924e+07, step = 3101 (0.369 sec)\n"
     ]
    },
    {
     "name": "stderr",
     "output_type": "stream",
     "text": [
      "INFO:tensorflow:loss = 1.90924e+07, step = 3101 (0.369 sec)\n"
     ]
    },
    {
     "name": "stdout",
     "output_type": "stream",
     "text": [
      "INFO:tensorflow:global_step/sec: 275.482\n"
     ]
    },
    {
     "name": "stderr",
     "output_type": "stream",
     "text": [
      "INFO:tensorflow:global_step/sec: 275.482\n"
     ]
    },
    {
     "name": "stdout",
     "output_type": "stream",
     "text": [
      "INFO:tensorflow:loss = 3.24869e+07, step = 3201 (0.363 sec)\n"
     ]
    },
    {
     "name": "stderr",
     "output_type": "stream",
     "text": [
      "INFO:tensorflow:loss = 3.24869e+07, step = 3201 (0.363 sec)\n"
     ]
    },
    {
     "name": "stdout",
     "output_type": "stream",
     "text": [
      "INFO:tensorflow:global_step/sec: 278.552\n"
     ]
    },
    {
     "name": "stderr",
     "output_type": "stream",
     "text": [
      "INFO:tensorflow:global_step/sec: 278.552\n"
     ]
    },
    {
     "name": "stdout",
     "output_type": "stream",
     "text": [
      "INFO:tensorflow:loss = 2.28157e+07, step = 3301 (0.359 sec)\n"
     ]
    },
    {
     "name": "stderr",
     "output_type": "stream",
     "text": [
      "INFO:tensorflow:loss = 2.28157e+07, step = 3301 (0.359 sec)\n"
     ]
    },
    {
     "name": "stdout",
     "output_type": "stream",
     "text": [
      "INFO:tensorflow:global_step/sec: 267.38\n"
     ]
    },
    {
     "name": "stderr",
     "output_type": "stream",
     "text": [
      "INFO:tensorflow:global_step/sec: 267.38\n"
     ]
    },
    {
     "name": "stdout",
     "output_type": "stream",
     "text": [
      "INFO:tensorflow:loss = 2.51416e+07, step = 3401 (0.376 sec)\n"
     ]
    },
    {
     "name": "stderr",
     "output_type": "stream",
     "text": [
      "INFO:tensorflow:loss = 2.51416e+07, step = 3401 (0.376 sec)\n"
     ]
    },
    {
     "name": "stdout",
     "output_type": "stream",
     "text": [
      "INFO:tensorflow:global_step/sec: 222.222\n"
     ]
    },
    {
     "name": "stderr",
     "output_type": "stream",
     "text": [
      "INFO:tensorflow:global_step/sec: 222.222\n"
     ]
    },
    {
     "name": "stdout",
     "output_type": "stream",
     "text": [
      "INFO:tensorflow:loss = 2.00824e+07, step = 3501 (0.449 sec)\n"
     ]
    },
    {
     "name": "stderr",
     "output_type": "stream",
     "text": [
      "INFO:tensorflow:loss = 2.00824e+07, step = 3501 (0.449 sec)\n"
     ]
    },
    {
     "name": "stdout",
     "output_type": "stream",
     "text": [
      "INFO:tensorflow:global_step/sec: 273.972\n"
     ]
    },
    {
     "name": "stderr",
     "output_type": "stream",
     "text": [
      "INFO:tensorflow:global_step/sec: 273.972\n"
     ]
    },
    {
     "name": "stdout",
     "output_type": "stream",
     "text": [
      "INFO:tensorflow:loss = 2.06591e+07, step = 3601 (0.364 sec)\n"
     ]
    },
    {
     "name": "stderr",
     "output_type": "stream",
     "text": [
      "INFO:tensorflow:loss = 2.06591e+07, step = 3601 (0.364 sec)\n"
     ]
    },
    {
     "name": "stdout",
     "output_type": "stream",
     "text": [
      "INFO:tensorflow:global_step/sec: 277.778\n"
     ]
    },
    {
     "name": "stderr",
     "output_type": "stream",
     "text": [
      "INFO:tensorflow:global_step/sec: 277.778\n"
     ]
    },
    {
     "name": "stdout",
     "output_type": "stream",
     "text": [
      "INFO:tensorflow:loss = 3.74172e+07, step = 3701 (0.361 sec)\n"
     ]
    },
    {
     "name": "stderr",
     "output_type": "stream",
     "text": [
      "INFO:tensorflow:loss = 3.74172e+07, step = 3701 (0.361 sec)\n"
     ]
    },
    {
     "name": "stdout",
     "output_type": "stream",
     "text": [
      "INFO:tensorflow:global_step/sec: 278.552\n"
     ]
    },
    {
     "name": "stderr",
     "output_type": "stream",
     "text": [
      "INFO:tensorflow:global_step/sec: 278.552\n"
     ]
    },
    {
     "name": "stdout",
     "output_type": "stream",
     "text": [
      "INFO:tensorflow:loss = 2.23628e+07, step = 3801 (0.358 sec)\n"
     ]
    },
    {
     "name": "stderr",
     "output_type": "stream",
     "text": [
      "INFO:tensorflow:loss = 2.23628e+07, step = 3801 (0.358 sec)\n"
     ]
    },
    {
     "name": "stdout",
     "output_type": "stream",
     "text": [
      "INFO:tensorflow:global_step/sec: 278.552\n"
     ]
    },
    {
     "name": "stderr",
     "output_type": "stream",
     "text": [
      "INFO:tensorflow:global_step/sec: 278.552\n"
     ]
    },
    {
     "name": "stdout",
     "output_type": "stream",
     "text": [
      "INFO:tensorflow:loss = 2.82732e+07, step = 3901 (0.360 sec)\n"
     ]
    },
    {
     "name": "stderr",
     "output_type": "stream",
     "text": [
      "INFO:tensorflow:loss = 2.82732e+07, step = 3901 (0.360 sec)\n"
     ]
    },
    {
     "name": "stdout",
     "output_type": "stream",
     "text": [
      "INFO:tensorflow:global_step/sec: 263.852\n"
     ]
    },
    {
     "name": "stderr",
     "output_type": "stream",
     "text": [
      "INFO:tensorflow:global_step/sec: 263.852\n"
     ]
    },
    {
     "name": "stdout",
     "output_type": "stream",
     "text": [
      "INFO:tensorflow:loss = 3.07963e+07, step = 4001 (0.379 sec)\n"
     ]
    },
    {
     "name": "stderr",
     "output_type": "stream",
     "text": [
      "INFO:tensorflow:loss = 3.07963e+07, step = 4001 (0.379 sec)\n"
     ]
    },
    {
     "name": "stdout",
     "output_type": "stream",
     "text": [
      "INFO:tensorflow:global_step/sec: 272.479\n"
     ]
    },
    {
     "name": "stderr",
     "output_type": "stream",
     "text": [
      "INFO:tensorflow:global_step/sec: 272.479\n"
     ]
    },
    {
     "name": "stdout",
     "output_type": "stream",
     "text": [
      "INFO:tensorflow:loss = 2.42828e+07, step = 4101 (0.367 sec)\n"
     ]
    },
    {
     "name": "stderr",
     "output_type": "stream",
     "text": [
      "INFO:tensorflow:loss = 2.42828e+07, step = 4101 (0.367 sec)\n"
     ]
    },
    {
     "name": "stdout",
     "output_type": "stream",
     "text": [
      "INFO:tensorflow:global_step/sec: 275.482\n"
     ]
    },
    {
     "name": "stderr",
     "output_type": "stream",
     "text": [
      "INFO:tensorflow:global_step/sec: 275.482\n"
     ]
    },
    {
     "name": "stdout",
     "output_type": "stream",
     "text": [
      "INFO:tensorflow:loss = 2.70048e+07, step = 4201 (0.362 sec)\n"
     ]
    },
    {
     "name": "stderr",
     "output_type": "stream",
     "text": [
      "INFO:tensorflow:loss = 2.70048e+07, step = 4201 (0.362 sec)\n"
     ]
    },
    {
     "name": "stdout",
     "output_type": "stream",
     "text": [
      "INFO:tensorflow:global_step/sec: 280.112\n"
     ]
    },
    {
     "name": "stderr",
     "output_type": "stream",
     "text": [
      "INFO:tensorflow:global_step/sec: 280.112\n"
     ]
    },
    {
     "name": "stdout",
     "output_type": "stream",
     "text": [
      "INFO:tensorflow:loss = 2.27345e+07, step = 4301 (0.358 sec)\n"
     ]
    },
    {
     "name": "stderr",
     "output_type": "stream",
     "text": [
      "INFO:tensorflow:loss = 2.27345e+07, step = 4301 (0.358 sec)\n"
     ]
    },
    {
     "name": "stdout",
     "output_type": "stream",
     "text": [
      "INFO:tensorflow:global_step/sec: 277.008\n"
     ]
    },
    {
     "name": "stderr",
     "output_type": "stream",
     "text": [
      "INFO:tensorflow:global_step/sec: 277.008\n"
     ]
    },
    {
     "name": "stdout",
     "output_type": "stream",
     "text": [
      "INFO:tensorflow:loss = 1.46387e+07, step = 4401 (0.360 sec)\n"
     ]
    },
    {
     "name": "stderr",
     "output_type": "stream",
     "text": [
      "INFO:tensorflow:loss = 1.46387e+07, step = 4401 (0.360 sec)\n"
     ]
    },
    {
     "name": "stdout",
     "output_type": "stream",
     "text": [
      "INFO:tensorflow:global_step/sec: 250.626\n"
     ]
    },
    {
     "name": "stderr",
     "output_type": "stream",
     "text": [
      "INFO:tensorflow:global_step/sec: 250.626\n"
     ]
    },
    {
     "name": "stdout",
     "output_type": "stream",
     "text": [
      "INFO:tensorflow:loss = 2.49215e+07, step = 4501 (0.404 sec)\n"
     ]
    },
    {
     "name": "stderr",
     "output_type": "stream",
     "text": [
      "INFO:tensorflow:loss = 2.49215e+07, step = 4501 (0.404 sec)\n"
     ]
    },
    {
     "name": "stdout",
     "output_type": "stream",
     "text": [
      "INFO:tensorflow:global_step/sec: 262.467\n"
     ]
    },
    {
     "name": "stderr",
     "output_type": "stream",
     "text": [
      "INFO:tensorflow:global_step/sec: 262.467\n"
     ]
    },
    {
     "name": "stdout",
     "output_type": "stream",
     "text": [
      "INFO:tensorflow:loss = 2.85076e+07, step = 4601 (0.376 sec)\n"
     ]
    },
    {
     "name": "stderr",
     "output_type": "stream",
     "text": [
      "INFO:tensorflow:loss = 2.85076e+07, step = 4601 (0.376 sec)\n"
     ]
    },
    {
     "name": "stdout",
     "output_type": "stream",
     "text": [
      "INFO:tensorflow:global_step/sec: 280.899\n"
     ]
    },
    {
     "name": "stderr",
     "output_type": "stream",
     "text": [
      "INFO:tensorflow:global_step/sec: 280.899\n"
     ]
    },
    {
     "name": "stdout",
     "output_type": "stream",
     "text": [
      "INFO:tensorflow:loss = 3.0017e+07, step = 4701 (0.356 sec)\n"
     ]
    },
    {
     "name": "stderr",
     "output_type": "stream",
     "text": [
      "INFO:tensorflow:loss = 3.0017e+07, step = 4701 (0.356 sec)\n"
     ]
    },
    {
     "name": "stdout",
     "output_type": "stream",
     "text": [
      "INFO:tensorflow:global_step/sec: 274.725\n"
     ]
    },
    {
     "name": "stderr",
     "output_type": "stream",
     "text": [
      "INFO:tensorflow:global_step/sec: 274.725\n"
     ]
    },
    {
     "name": "stdout",
     "output_type": "stream",
     "text": [
      "INFO:tensorflow:loss = 1.86923e+07, step = 4801 (0.365 sec)\n"
     ]
    },
    {
     "name": "stderr",
     "output_type": "stream",
     "text": [
      "INFO:tensorflow:loss = 1.86923e+07, step = 4801 (0.365 sec)\n"
     ]
    },
    {
     "name": "stdout",
     "output_type": "stream",
     "text": [
      "INFO:tensorflow:global_step/sec: 261.78\n"
     ]
    },
    {
     "name": "stderr",
     "output_type": "stream",
     "text": [
      "INFO:tensorflow:global_step/sec: 261.78\n"
     ]
    },
    {
     "name": "stdout",
     "output_type": "stream",
     "text": [
      "INFO:tensorflow:loss = 2.88355e+07, step = 4901 (0.381 sec)\n"
     ]
    },
    {
     "name": "stderr",
     "output_type": "stream",
     "text": [
      "INFO:tensorflow:loss = 2.88355e+07, step = 4901 (0.381 sec)\n"
     ]
    },
    {
     "name": "stdout",
     "output_type": "stream",
     "text": [
      "INFO:tensorflow:global_step/sec: 276.243\n"
     ]
    },
    {
     "name": "stderr",
     "output_type": "stream",
     "text": [
      "INFO:tensorflow:global_step/sec: 276.243\n"
     ]
    },
    {
     "name": "stdout",
     "output_type": "stream",
     "text": [
      "INFO:tensorflow:loss = 2.49691e+07, step = 5001 (0.363 sec)\n"
     ]
    },
    {
     "name": "stderr",
     "output_type": "stream",
     "text": [
      "INFO:tensorflow:loss = 2.49691e+07, step = 5001 (0.363 sec)\n"
     ]
    },
    {
     "name": "stdout",
     "output_type": "stream",
     "text": [
      "INFO:tensorflow:global_step/sec: 277.008\n"
     ]
    },
    {
     "name": "stderr",
     "output_type": "stream",
     "text": [
      "INFO:tensorflow:global_step/sec: 277.008\n"
     ]
    },
    {
     "name": "stdout",
     "output_type": "stream",
     "text": [
      "INFO:tensorflow:loss = 1.93622e+07, step = 5101 (0.361 sec)\n"
     ]
    },
    {
     "name": "stderr",
     "output_type": "stream",
     "text": [
      "INFO:tensorflow:loss = 1.93622e+07, step = 5101 (0.361 sec)\n"
     ]
    },
    {
     "name": "stdout",
     "output_type": "stream",
     "text": [
      "INFO:tensorflow:global_step/sec: 265.252\n"
     ]
    },
    {
     "name": "stderr",
     "output_type": "stream",
     "text": [
      "INFO:tensorflow:global_step/sec: 265.252\n"
     ]
    },
    {
     "name": "stdout",
     "output_type": "stream",
     "text": [
      "INFO:tensorflow:loss = 2.31269e+07, step = 5201 (0.376 sec)\n"
     ]
    },
    {
     "name": "stderr",
     "output_type": "stream",
     "text": [
      "INFO:tensorflow:loss = 2.31269e+07, step = 5201 (0.376 sec)\n"
     ]
    },
    {
     "name": "stdout",
     "output_type": "stream",
     "text": [
      "INFO:tensorflow:global_step/sec: 275.482\n"
     ]
    },
    {
     "name": "stderr",
     "output_type": "stream",
     "text": [
      "INFO:tensorflow:global_step/sec: 275.482\n"
     ]
    },
    {
     "name": "stdout",
     "output_type": "stream",
     "text": [
      "INFO:tensorflow:loss = 3.72366e+07, step = 5301 (0.364 sec)\n"
     ]
    },
    {
     "name": "stderr",
     "output_type": "stream",
     "text": [
      "INFO:tensorflow:loss = 3.72366e+07, step = 5301 (0.364 sec)\n"
     ]
    },
    {
     "name": "stdout",
     "output_type": "stream",
     "text": [
      "INFO:tensorflow:global_step/sec: 277.008\n"
     ]
    },
    {
     "name": "stderr",
     "output_type": "stream",
     "text": [
      "INFO:tensorflow:global_step/sec: 277.008\n"
     ]
    },
    {
     "name": "stdout",
     "output_type": "stream",
     "text": [
      "INFO:tensorflow:loss = 1.28024e+07, step = 5401 (0.360 sec)\n"
     ]
    },
    {
     "name": "stderr",
     "output_type": "stream",
     "text": [
      "INFO:tensorflow:loss = 1.28024e+07, step = 5401 (0.360 sec)\n"
     ]
    },
    {
     "name": "stdout",
     "output_type": "stream",
     "text": [
      "INFO:tensorflow:global_step/sec: 277.778\n"
     ]
    },
    {
     "name": "stderr",
     "output_type": "stream",
     "text": [
      "INFO:tensorflow:global_step/sec: 277.778\n"
     ]
    },
    {
     "name": "stdout",
     "output_type": "stream",
     "text": [
      "INFO:tensorflow:loss = 3.87096e+07, step = 5501 (0.360 sec)\n"
     ]
    },
    {
     "name": "stderr",
     "output_type": "stream",
     "text": [
      "INFO:tensorflow:loss = 3.87096e+07, step = 5501 (0.360 sec)\n"
     ]
    },
    {
     "name": "stdout",
     "output_type": "stream",
     "text": [
      "INFO:tensorflow:global_step/sec: 272.48\n"
     ]
    },
    {
     "name": "stderr",
     "output_type": "stream",
     "text": [
      "INFO:tensorflow:global_step/sec: 272.48\n"
     ]
    },
    {
     "name": "stdout",
     "output_type": "stream",
     "text": [
      "INFO:tensorflow:loss = 1.54835e+07, step = 5601 (0.368 sec)\n"
     ]
    },
    {
     "name": "stderr",
     "output_type": "stream",
     "text": [
      "INFO:tensorflow:loss = 1.54835e+07, step = 5601 (0.368 sec)\n"
     ]
    },
    {
     "name": "stdout",
     "output_type": "stream",
     "text": [
      "INFO:tensorflow:global_step/sec: 273.973\n"
     ]
    },
    {
     "name": "stderr",
     "output_type": "stream",
     "text": [
      "INFO:tensorflow:global_step/sec: 273.973\n"
     ]
    },
    {
     "name": "stdout",
     "output_type": "stream",
     "text": [
      "INFO:tensorflow:loss = 2.37251e+07, step = 5701 (0.365 sec)\n"
     ]
    },
    {
     "name": "stderr",
     "output_type": "stream",
     "text": [
      "INFO:tensorflow:loss = 2.37251e+07, step = 5701 (0.365 sec)\n"
     ]
    },
    {
     "name": "stdout",
     "output_type": "stream",
     "text": [
      "INFO:tensorflow:global_step/sec: 240.964\n"
     ]
    },
    {
     "name": "stderr",
     "output_type": "stream",
     "text": [
      "INFO:tensorflow:global_step/sec: 240.964\n"
     ]
    },
    {
     "name": "stdout",
     "output_type": "stream",
     "text": [
      "INFO:tensorflow:loss = 2.22642e+07, step = 5801 (0.414 sec)\n"
     ]
    },
    {
     "name": "stderr",
     "output_type": "stream",
     "text": [
      "INFO:tensorflow:loss = 2.22642e+07, step = 5801 (0.414 sec)\n"
     ]
    },
    {
     "name": "stdout",
     "output_type": "stream",
     "text": [
      "INFO:tensorflow:global_step/sec: 260.417\n"
     ]
    },
    {
     "name": "stderr",
     "output_type": "stream",
     "text": [
      "INFO:tensorflow:global_step/sec: 260.417\n"
     ]
    },
    {
     "name": "stdout",
     "output_type": "stream",
     "text": [
      "INFO:tensorflow:loss = 2.20231e+07, step = 5901 (0.384 sec)\n"
     ]
    },
    {
     "name": "stderr",
     "output_type": "stream",
     "text": [
      "INFO:tensorflow:loss = 2.20231e+07, step = 5901 (0.384 sec)\n"
     ]
    },
    {
     "name": "stdout",
     "output_type": "stream",
     "text": [
      "INFO:tensorflow:global_step/sec: 276.243\n"
     ]
    },
    {
     "name": "stderr",
     "output_type": "stream",
     "text": [
      "INFO:tensorflow:global_step/sec: 276.243\n"
     ]
    },
    {
     "name": "stdout",
     "output_type": "stream",
     "text": [
      "INFO:tensorflow:loss = 2.55678e+07, step = 6001 (0.362 sec)\n"
     ]
    },
    {
     "name": "stderr",
     "output_type": "stream",
     "text": [
      "INFO:tensorflow:loss = 2.55678e+07, step = 6001 (0.362 sec)\n"
     ]
    },
    {
     "name": "stdout",
     "output_type": "stream",
     "text": [
      "INFO:tensorflow:global_step/sec: 246.914\n"
     ]
    },
    {
     "name": "stderr",
     "output_type": "stream",
     "text": [
      "INFO:tensorflow:global_step/sec: 246.914\n"
     ]
    },
    {
     "name": "stdout",
     "output_type": "stream",
     "text": [
      "INFO:tensorflow:loss = 2.93417e+07, step = 6101 (0.406 sec)\n"
     ]
    },
    {
     "name": "stderr",
     "output_type": "stream",
     "text": [
      "INFO:tensorflow:loss = 2.93417e+07, step = 6101 (0.406 sec)\n"
     ]
    },
    {
     "name": "stdout",
     "output_type": "stream",
     "text": [
      "INFO:tensorflow:global_step/sec: 220.751\n"
     ]
    },
    {
     "name": "stderr",
     "output_type": "stream",
     "text": [
      "INFO:tensorflow:global_step/sec: 220.751\n"
     ]
    },
    {
     "name": "stdout",
     "output_type": "stream",
     "text": [
      "INFO:tensorflow:loss = 1.91025e+07, step = 6201 (0.454 sec)\n"
     ]
    },
    {
     "name": "stderr",
     "output_type": "stream",
     "text": [
      "INFO:tensorflow:loss = 1.91025e+07, step = 6201 (0.454 sec)\n"
     ]
    },
    {
     "name": "stdout",
     "output_type": "stream",
     "text": [
      "INFO:tensorflow:global_step/sec: 233.645\n"
     ]
    },
    {
     "name": "stderr",
     "output_type": "stream",
     "text": [
      "INFO:tensorflow:global_step/sec: 233.645\n"
     ]
    },
    {
     "name": "stdout",
     "output_type": "stream",
     "text": [
      "INFO:tensorflow:loss = 3.70234e+07, step = 6301 (0.428 sec)\n"
     ]
    },
    {
     "name": "stderr",
     "output_type": "stream",
     "text": [
      "INFO:tensorflow:loss = 3.70234e+07, step = 6301 (0.428 sec)\n"
     ]
    },
    {
     "name": "stdout",
     "output_type": "stream",
     "text": [
      "INFO:tensorflow:global_step/sec: 225.225\n"
     ]
    },
    {
     "name": "stderr",
     "output_type": "stream",
     "text": [
      "INFO:tensorflow:global_step/sec: 225.225\n"
     ]
    },
    {
     "name": "stdout",
     "output_type": "stream",
     "text": [
      "INFO:tensorflow:loss = 2.2369e+07, step = 6401 (0.445 sec)\n"
     ]
    },
    {
     "name": "stderr",
     "output_type": "stream",
     "text": [
      "INFO:tensorflow:loss = 2.2369e+07, step = 6401 (0.445 sec)\n"
     ]
    },
    {
     "name": "stdout",
     "output_type": "stream",
     "text": [
      "INFO:tensorflow:global_step/sec: 234.192\n"
     ]
    },
    {
     "name": "stderr",
     "output_type": "stream",
     "text": [
      "INFO:tensorflow:global_step/sec: 234.192\n"
     ]
    },
    {
     "name": "stdout",
     "output_type": "stream",
     "text": [
      "INFO:tensorflow:loss = 2.65045e+07, step = 6501 (0.425 sec)\n"
     ]
    },
    {
     "name": "stderr",
     "output_type": "stream",
     "text": [
      "INFO:tensorflow:loss = 2.65045e+07, step = 6501 (0.425 sec)\n"
     ]
    },
    {
     "name": "stdout",
     "output_type": "stream",
     "text": [
      "INFO:tensorflow:global_step/sec: 229.358\n"
     ]
    },
    {
     "name": "stderr",
     "output_type": "stream",
     "text": [
      "INFO:tensorflow:global_step/sec: 229.358\n"
     ]
    },
    {
     "name": "stdout",
     "output_type": "stream",
     "text": [
      "INFO:tensorflow:loss = 2.66477e+07, step = 6601 (0.436 sec)\n"
     ]
    },
    {
     "name": "stderr",
     "output_type": "stream",
     "text": [
      "INFO:tensorflow:loss = 2.66477e+07, step = 6601 (0.436 sec)\n"
     ]
    },
    {
     "name": "stdout",
     "output_type": "stream",
     "text": [
      "INFO:tensorflow:global_step/sec: 247.525\n"
     ]
    },
    {
     "name": "stderr",
     "output_type": "stream",
     "text": [
      "INFO:tensorflow:global_step/sec: 247.525\n"
     ]
    },
    {
     "name": "stdout",
     "output_type": "stream",
     "text": [
      "INFO:tensorflow:loss = 1.81186e+07, step = 6701 (0.405 sec)\n"
     ]
    },
    {
     "name": "stderr",
     "output_type": "stream",
     "text": [
      "INFO:tensorflow:loss = 1.81186e+07, step = 6701 (0.405 sec)\n"
     ]
    },
    {
     "name": "stdout",
     "output_type": "stream",
     "text": [
      "INFO:tensorflow:global_step/sec: 250\n"
     ]
    },
    {
     "name": "stderr",
     "output_type": "stream",
     "text": [
      "INFO:tensorflow:global_step/sec: 250\n"
     ]
    },
    {
     "name": "stdout",
     "output_type": "stream",
     "text": [
      "INFO:tensorflow:loss = 2.18504e+07, step = 6801 (0.399 sec)\n"
     ]
    },
    {
     "name": "stderr",
     "output_type": "stream",
     "text": [
      "INFO:tensorflow:loss = 2.18504e+07, step = 6801 (0.399 sec)\n"
     ]
    },
    {
     "name": "stdout",
     "output_type": "stream",
     "text": [
      "INFO:tensorflow:global_step/sec: 274.725\n"
     ]
    },
    {
     "name": "stderr",
     "output_type": "stream",
     "text": [
      "INFO:tensorflow:global_step/sec: 274.725\n"
     ]
    },
    {
     "name": "stdout",
     "output_type": "stream",
     "text": [
      "INFO:tensorflow:loss = 1.94485e+07, step = 6901 (0.363 sec)\n"
     ]
    },
    {
     "name": "stderr",
     "output_type": "stream",
     "text": [
      "INFO:tensorflow:loss = 1.94485e+07, step = 6901 (0.363 sec)\n"
     ]
    },
    {
     "name": "stdout",
     "output_type": "stream",
     "text": [
      "INFO:tensorflow:global_step/sec: 277.008\n"
     ]
    },
    {
     "name": "stderr",
     "output_type": "stream",
     "text": [
      "INFO:tensorflow:global_step/sec: 277.008\n"
     ]
    },
    {
     "name": "stdout",
     "output_type": "stream",
     "text": [
      "INFO:tensorflow:loss = 2.31658e+07, step = 7001 (0.361 sec)\n"
     ]
    },
    {
     "name": "stderr",
     "output_type": "stream",
     "text": [
      "INFO:tensorflow:loss = 2.31658e+07, step = 7001 (0.361 sec)\n"
     ]
    },
    {
     "name": "stdout",
     "output_type": "stream",
     "text": [
      "INFO:tensorflow:global_step/sec: 274.725\n"
     ]
    },
    {
     "name": "stderr",
     "output_type": "stream",
     "text": [
      "INFO:tensorflow:global_step/sec: 274.725\n"
     ]
    },
    {
     "name": "stdout",
     "output_type": "stream",
     "text": [
      "INFO:tensorflow:loss = 2.3843e+07, step = 7101 (0.365 sec)\n"
     ]
    },
    {
     "name": "stderr",
     "output_type": "stream",
     "text": [
      "INFO:tensorflow:loss = 2.3843e+07, step = 7101 (0.365 sec)\n"
     ]
    },
    {
     "name": "stdout",
     "output_type": "stream",
     "text": [
      "INFO:tensorflow:global_step/sec: 270.27\n"
     ]
    },
    {
     "name": "stderr",
     "output_type": "stream",
     "text": [
      "INFO:tensorflow:global_step/sec: 270.27\n"
     ]
    },
    {
     "name": "stdout",
     "output_type": "stream",
     "text": [
      "INFO:tensorflow:loss = 2.43407e+07, step = 7201 (0.370 sec)\n"
     ]
    },
    {
     "name": "stderr",
     "output_type": "stream",
     "text": [
      "INFO:tensorflow:loss = 2.43407e+07, step = 7201 (0.370 sec)\n"
     ]
    },
    {
     "name": "stdout",
     "output_type": "stream",
     "text": [
      "INFO:tensorflow:global_step/sec: 274.725\n"
     ]
    },
    {
     "name": "stderr",
     "output_type": "stream",
     "text": [
      "INFO:tensorflow:global_step/sec: 274.725\n"
     ]
    },
    {
     "name": "stdout",
     "output_type": "stream",
     "text": [
      "INFO:tensorflow:loss = 2.43623e+07, step = 7301 (0.363 sec)\n"
     ]
    },
    {
     "name": "stderr",
     "output_type": "stream",
     "text": [
      "INFO:tensorflow:loss = 2.43623e+07, step = 7301 (0.363 sec)\n"
     ]
    },
    {
     "name": "stdout",
     "output_type": "stream",
     "text": [
      "INFO:tensorflow:global_step/sec: 273.973\n"
     ]
    },
    {
     "name": "stderr",
     "output_type": "stream",
     "text": [
      "INFO:tensorflow:global_step/sec: 273.973\n"
     ]
    },
    {
     "name": "stdout",
     "output_type": "stream",
     "text": [
      "INFO:tensorflow:loss = 1.91661e+07, step = 7401 (0.366 sec)\n"
     ]
    },
    {
     "name": "stderr",
     "output_type": "stream",
     "text": [
      "INFO:tensorflow:loss = 1.91661e+07, step = 7401 (0.366 sec)\n"
     ]
    },
    {
     "name": "stdout",
     "output_type": "stream",
     "text": [
      "INFO:tensorflow:global_step/sec: 230.947\n"
     ]
    },
    {
     "name": "stderr",
     "output_type": "stream",
     "text": [
      "INFO:tensorflow:global_step/sec: 230.947\n"
     ]
    },
    {
     "name": "stdout",
     "output_type": "stream",
     "text": [
      "INFO:tensorflow:loss = 2.23543e+07, step = 7501 (0.439 sec)\n"
     ]
    },
    {
     "name": "stderr",
     "output_type": "stream",
     "text": [
      "INFO:tensorflow:loss = 2.23543e+07, step = 7501 (0.439 sec)\n"
     ]
    },
    {
     "name": "stdout",
     "output_type": "stream",
     "text": [
      "INFO:tensorflow:global_step/sec: 248.139\n"
     ]
    },
    {
     "name": "stderr",
     "output_type": "stream",
     "text": [
      "INFO:tensorflow:global_step/sec: 248.139\n"
     ]
    },
    {
     "name": "stdout",
     "output_type": "stream",
     "text": [
      "INFO:tensorflow:loss = 2.03542e+07, step = 7601 (0.397 sec)\n"
     ]
    },
    {
     "name": "stderr",
     "output_type": "stream",
     "text": [
      "INFO:tensorflow:loss = 2.03542e+07, step = 7601 (0.397 sec)\n"
     ]
    },
    {
     "name": "stdout",
     "output_type": "stream",
     "text": [
      "INFO:tensorflow:global_step/sec: 273.973\n"
     ]
    },
    {
     "name": "stderr",
     "output_type": "stream",
     "text": [
      "INFO:tensorflow:global_step/sec: 273.973\n"
     ]
    },
    {
     "name": "stdout",
     "output_type": "stream",
     "text": [
      "INFO:tensorflow:loss = 2.00789e+07, step = 7701 (0.365 sec)\n"
     ]
    },
    {
     "name": "stderr",
     "output_type": "stream",
     "text": [
      "INFO:tensorflow:loss = 2.00789e+07, step = 7701 (0.365 sec)\n"
     ]
    },
    {
     "name": "stdout",
     "output_type": "stream",
     "text": [
      "INFO:tensorflow:global_step/sec: 268.817\n"
     ]
    },
    {
     "name": "stderr",
     "output_type": "stream",
     "text": [
      "INFO:tensorflow:global_step/sec: 268.817\n"
     ]
    },
    {
     "name": "stdout",
     "output_type": "stream",
     "text": [
      "INFO:tensorflow:loss = 3.36335e+07, step = 7801 (0.372 sec)\n"
     ]
    },
    {
     "name": "stderr",
     "output_type": "stream",
     "text": [
      "INFO:tensorflow:loss = 3.36335e+07, step = 7801 (0.372 sec)\n"
     ]
    },
    {
     "name": "stdout",
     "output_type": "stream",
     "text": [
      "INFO:tensorflow:global_step/sec: 274.725\n"
     ]
    },
    {
     "name": "stderr",
     "output_type": "stream",
     "text": [
      "INFO:tensorflow:global_step/sec: 274.725\n"
     ]
    },
    {
     "name": "stdout",
     "output_type": "stream",
     "text": [
      "INFO:tensorflow:loss = 1.8552e+07, step = 7901 (0.365 sec)\n"
     ]
    },
    {
     "name": "stderr",
     "output_type": "stream",
     "text": [
      "INFO:tensorflow:loss = 1.8552e+07, step = 7901 (0.365 sec)\n"
     ]
    },
    {
     "name": "stdout",
     "output_type": "stream",
     "text": [
      "INFO:tensorflow:global_step/sec: 246.305\n"
     ]
    },
    {
     "name": "stderr",
     "output_type": "stream",
     "text": [
      "INFO:tensorflow:global_step/sec: 246.305\n"
     ]
    },
    {
     "name": "stdout",
     "output_type": "stream",
     "text": [
      "INFO:tensorflow:loss = 2.70365e+07, step = 8001 (0.405 sec)\n"
     ]
    },
    {
     "name": "stderr",
     "output_type": "stream",
     "text": [
      "INFO:tensorflow:loss = 2.70365e+07, step = 8001 (0.405 sec)\n"
     ]
    },
    {
     "name": "stdout",
     "output_type": "stream",
     "text": [
      "INFO:tensorflow:global_step/sec: 258.398\n"
     ]
    },
    {
     "name": "stderr",
     "output_type": "stream",
     "text": [
      "INFO:tensorflow:global_step/sec: 258.398\n"
     ]
    },
    {
     "name": "stdout",
     "output_type": "stream",
     "text": [
      "INFO:tensorflow:loss = 1.55835e+07, step = 8101 (0.391 sec)\n"
     ]
    },
    {
     "name": "stderr",
     "output_type": "stream",
     "text": [
      "INFO:tensorflow:loss = 1.55835e+07, step = 8101 (0.391 sec)\n"
     ]
    },
    {
     "name": "stdout",
     "output_type": "stream",
     "text": [
      "INFO:tensorflow:global_step/sec: 212.766\n"
     ]
    },
    {
     "name": "stderr",
     "output_type": "stream",
     "text": [
      "INFO:tensorflow:global_step/sec: 212.766\n"
     ]
    },
    {
     "name": "stdout",
     "output_type": "stream",
     "text": [
      "INFO:tensorflow:loss = 1.97096e+07, step = 8201 (0.470 sec)\n"
     ]
    },
    {
     "name": "stderr",
     "output_type": "stream",
     "text": [
      "INFO:tensorflow:loss = 1.97096e+07, step = 8201 (0.470 sec)\n"
     ]
    },
    {
     "name": "stdout",
     "output_type": "stream",
     "text": [
      "INFO:tensorflow:global_step/sec: 263.852\n"
     ]
    },
    {
     "name": "stderr",
     "output_type": "stream",
     "text": [
      "INFO:tensorflow:global_step/sec: 263.852\n"
     ]
    },
    {
     "name": "stdout",
     "output_type": "stream",
     "text": [
      "INFO:tensorflow:loss = 2.84483e+07, step = 8301 (0.375 sec)\n"
     ]
    },
    {
     "name": "stderr",
     "output_type": "stream",
     "text": [
      "INFO:tensorflow:loss = 2.84483e+07, step = 8301 (0.375 sec)\n"
     ]
    },
    {
     "name": "stdout",
     "output_type": "stream",
     "text": [
      "INFO:tensorflow:global_step/sec: 273.224\n"
     ]
    },
    {
     "name": "stderr",
     "output_type": "stream",
     "text": [
      "INFO:tensorflow:global_step/sec: 273.224\n"
     ]
    },
    {
     "name": "stdout",
     "output_type": "stream",
     "text": [
      "INFO:tensorflow:loss = 2.79337e+07, step = 8401 (0.365 sec)\n"
     ]
    },
    {
     "name": "stderr",
     "output_type": "stream",
     "text": [
      "INFO:tensorflow:loss = 2.79337e+07, step = 8401 (0.365 sec)\n"
     ]
    },
    {
     "name": "stdout",
     "output_type": "stream",
     "text": [
      "INFO:tensorflow:global_step/sec: 259.74\n"
     ]
    },
    {
     "name": "stderr",
     "output_type": "stream",
     "text": [
      "INFO:tensorflow:global_step/sec: 259.74\n"
     ]
    },
    {
     "name": "stdout",
     "output_type": "stream",
     "text": [
      "INFO:tensorflow:loss = 1.99942e+07, step = 8501 (0.387 sec)\n"
     ]
    },
    {
     "name": "stderr",
     "output_type": "stream",
     "text": [
      "INFO:tensorflow:loss = 1.99942e+07, step = 8501 (0.387 sec)\n"
     ]
    },
    {
     "name": "stdout",
     "output_type": "stream",
     "text": [
      "INFO:tensorflow:global_step/sec: 258.398\n"
     ]
    },
    {
     "name": "stderr",
     "output_type": "stream",
     "text": [
      "INFO:tensorflow:global_step/sec: 258.398\n"
     ]
    },
    {
     "name": "stdout",
     "output_type": "stream",
     "text": [
      "INFO:tensorflow:loss = 4.70071e+07, step = 8601 (0.385 sec)\n"
     ]
    },
    {
     "name": "stderr",
     "output_type": "stream",
     "text": [
      "INFO:tensorflow:loss = 4.70071e+07, step = 8601 (0.385 sec)\n"
     ]
    },
    {
     "name": "stdout",
     "output_type": "stream",
     "text": [
      "INFO:tensorflow:global_step/sec: 271.739\n"
     ]
    },
    {
     "name": "stderr",
     "output_type": "stream",
     "text": [
      "INFO:tensorflow:global_step/sec: 271.739\n"
     ]
    },
    {
     "name": "stdout",
     "output_type": "stream",
     "text": [
      "INFO:tensorflow:loss = 1.98996e+07, step = 8701 (0.370 sec)\n"
     ]
    },
    {
     "name": "stderr",
     "output_type": "stream",
     "text": [
      "INFO:tensorflow:loss = 1.98996e+07, step = 8701 (0.370 sec)\n"
     ]
    },
    {
     "name": "stdout",
     "output_type": "stream",
     "text": [
      "INFO:tensorflow:global_step/sec: 261.097\n"
     ]
    },
    {
     "name": "stderr",
     "output_type": "stream",
     "text": [
      "INFO:tensorflow:global_step/sec: 261.097\n"
     ]
    },
    {
     "name": "stdout",
     "output_type": "stream",
     "text": [
      "INFO:tensorflow:loss = 3.25359e+07, step = 8801 (0.382 sec)\n"
     ]
    },
    {
     "name": "stderr",
     "output_type": "stream",
     "text": [
      "INFO:tensorflow:loss = 3.25359e+07, step = 8801 (0.382 sec)\n"
     ]
    },
    {
     "name": "stdout",
     "output_type": "stream",
     "text": [
      "INFO:tensorflow:global_step/sec: 279.33\n"
     ]
    },
    {
     "name": "stderr",
     "output_type": "stream",
     "text": [
      "INFO:tensorflow:global_step/sec: 279.33\n"
     ]
    },
    {
     "name": "stdout",
     "output_type": "stream",
     "text": [
      "INFO:tensorflow:loss = 2.34409e+07, step = 8901 (0.359 sec)\n"
     ]
    },
    {
     "name": "stderr",
     "output_type": "stream",
     "text": [
      "INFO:tensorflow:loss = 2.34409e+07, step = 8901 (0.359 sec)\n"
     ]
    },
    {
     "name": "stdout",
     "output_type": "stream",
     "text": [
      "INFO:tensorflow:global_step/sec: 271.003\n"
     ]
    },
    {
     "name": "stderr",
     "output_type": "stream",
     "text": [
      "INFO:tensorflow:global_step/sec: 271.003\n"
     ]
    },
    {
     "name": "stdout",
     "output_type": "stream",
     "text": [
      "INFO:tensorflow:loss = 2.20603e+07, step = 9001 (0.382 sec)\n"
     ]
    },
    {
     "name": "stderr",
     "output_type": "stream",
     "text": [
      "INFO:tensorflow:loss = 2.20603e+07, step = 9001 (0.382 sec)\n"
     ]
    },
    {
     "name": "stdout",
     "output_type": "stream",
     "text": [
      "INFO:tensorflow:global_step/sec: 263.852\n"
     ]
    },
    {
     "name": "stderr",
     "output_type": "stream",
     "text": [
      "INFO:tensorflow:global_step/sec: 263.852\n"
     ]
    },
    {
     "name": "stdout",
     "output_type": "stream",
     "text": [
      "INFO:tensorflow:loss = 2.40414e+07, step = 9101 (0.364 sec)\n"
     ]
    },
    {
     "name": "stderr",
     "output_type": "stream",
     "text": [
      "INFO:tensorflow:loss = 2.40414e+07, step = 9101 (0.364 sec)\n"
     ]
    },
    {
     "name": "stdout",
     "output_type": "stream",
     "text": [
      "INFO:tensorflow:global_step/sec: 277.008\n"
     ]
    },
    {
     "name": "stderr",
     "output_type": "stream",
     "text": [
      "INFO:tensorflow:global_step/sec: 277.008\n"
     ]
    },
    {
     "name": "stdout",
     "output_type": "stream",
     "text": [
      "INFO:tensorflow:loss = 1.44761e+07, step = 9201 (0.362 sec)\n"
     ]
    },
    {
     "name": "stderr",
     "output_type": "stream",
     "text": [
      "INFO:tensorflow:loss = 1.44761e+07, step = 9201 (0.362 sec)\n"
     ]
    },
    {
     "name": "stdout",
     "output_type": "stream",
     "text": [
      "INFO:tensorflow:global_step/sec: 278.552\n"
     ]
    },
    {
     "name": "stderr",
     "output_type": "stream",
     "text": [
      "INFO:tensorflow:global_step/sec: 278.552\n"
     ]
    },
    {
     "name": "stdout",
     "output_type": "stream",
     "text": [
      "INFO:tensorflow:loss = 2.49829e+07, step = 9301 (0.359 sec)\n"
     ]
    },
    {
     "name": "stderr",
     "output_type": "stream",
     "text": [
      "INFO:tensorflow:loss = 2.49829e+07, step = 9301 (0.359 sec)\n"
     ]
    },
    {
     "name": "stdout",
     "output_type": "stream",
     "text": [
      "INFO:tensorflow:global_step/sec: 277.778\n"
     ]
    },
    {
     "name": "stderr",
     "output_type": "stream",
     "text": [
      "INFO:tensorflow:global_step/sec: 277.778\n"
     ]
    },
    {
     "name": "stdout",
     "output_type": "stream",
     "text": [
      "INFO:tensorflow:loss = 2.81725e+07, step = 9401 (0.360 sec)\n"
     ]
    },
    {
     "name": "stderr",
     "output_type": "stream",
     "text": [
      "INFO:tensorflow:loss = 2.81725e+07, step = 9401 (0.360 sec)\n"
     ]
    },
    {
     "name": "stdout",
     "output_type": "stream",
     "text": [
      "INFO:tensorflow:global_step/sec: 275.482\n"
     ]
    },
    {
     "name": "stderr",
     "output_type": "stream",
     "text": [
      "INFO:tensorflow:global_step/sec: 275.482\n"
     ]
    },
    {
     "name": "stdout",
     "output_type": "stream",
     "text": [
      "INFO:tensorflow:loss = 2.73259e+07, step = 9501 (0.363 sec)\n"
     ]
    },
    {
     "name": "stderr",
     "output_type": "stream",
     "text": [
      "INFO:tensorflow:loss = 2.73259e+07, step = 9501 (0.363 sec)\n"
     ]
    },
    {
     "name": "stdout",
     "output_type": "stream",
     "text": [
      "INFO:tensorflow:global_step/sec: 277.778\n"
     ]
    },
    {
     "name": "stderr",
     "output_type": "stream",
     "text": [
      "INFO:tensorflow:global_step/sec: 277.778\n"
     ]
    },
    {
     "name": "stdout",
     "output_type": "stream",
     "text": [
      "INFO:tensorflow:loss = 2.24378e+07, step = 9601 (0.359 sec)\n"
     ]
    },
    {
     "name": "stderr",
     "output_type": "stream",
     "text": [
      "INFO:tensorflow:loss = 2.24378e+07, step = 9601 (0.359 sec)\n"
     ]
    },
    {
     "name": "stdout",
     "output_type": "stream",
     "text": [
      "INFO:tensorflow:global_step/sec: 275.482\n"
     ]
    },
    {
     "name": "stderr",
     "output_type": "stream",
     "text": [
      "INFO:tensorflow:global_step/sec: 275.482\n"
     ]
    },
    {
     "name": "stdout",
     "output_type": "stream",
     "text": [
      "INFO:tensorflow:loss = 1.86621e+07, step = 9701 (0.363 sec)\n"
     ]
    },
    {
     "name": "stderr",
     "output_type": "stream",
     "text": [
      "INFO:tensorflow:loss = 1.86621e+07, step = 9701 (0.363 sec)\n"
     ]
    },
    {
     "name": "stdout",
     "output_type": "stream",
     "text": [
      "INFO:tensorflow:global_step/sec: 273.224\n"
     ]
    },
    {
     "name": "stderr",
     "output_type": "stream",
     "text": [
      "INFO:tensorflow:global_step/sec: 273.224\n"
     ]
    },
    {
     "name": "stdout",
     "output_type": "stream",
     "text": [
      "INFO:tensorflow:loss = 2.102e+07, step = 9801 (0.367 sec)\n"
     ]
    },
    {
     "name": "stderr",
     "output_type": "stream",
     "text": [
      "INFO:tensorflow:loss = 2.102e+07, step = 9801 (0.367 sec)\n"
     ]
    },
    {
     "name": "stdout",
     "output_type": "stream",
     "text": [
      "INFO:tensorflow:global_step/sec: 278.552\n"
     ]
    },
    {
     "name": "stderr",
     "output_type": "stream",
     "text": [
      "INFO:tensorflow:global_step/sec: 278.552\n"
     ]
    },
    {
     "name": "stdout",
     "output_type": "stream",
     "text": [
      "INFO:tensorflow:loss = 3.09588e+07, step = 9901 (0.359 sec)\n"
     ]
    },
    {
     "name": "stderr",
     "output_type": "stream",
     "text": [
      "INFO:tensorflow:loss = 3.09588e+07, step = 9901 (0.359 sec)\n"
     ]
    },
    {
     "name": "stdout",
     "output_type": "stream",
     "text": [
      "INFO:tensorflow:Saving checkpoints for 10000 into C:\\Temp\\tmpvkizmml2\\model.ckpt.\n"
     ]
    },
    {
     "name": "stderr",
     "output_type": "stream",
     "text": [
      "INFO:tensorflow:Saving checkpoints for 10000 into C:\\Temp\\tmpvkizmml2\\model.ckpt.\n"
     ]
    },
    {
     "name": "stdout",
     "output_type": "stream",
     "text": [
      "INFO:tensorflow:Loss for final step: 2.12053e+07.\n"
     ]
    },
    {
     "name": "stderr",
     "output_type": "stream",
     "text": [
      "INFO:tensorflow:Loss for final step: 2.12053e+07.\n"
     ]
    },
    {
     "data": {
      "text/plain": [
       "<tensorflow.python.estimator.canned.dnn.DNNRegressor at 0x26220e80>"
      ]
     },
     "execution_count": 115,
     "metadata": {},
     "output_type": "execute_result"
    }
   ],
   "source": [
    "## TENSORFLOW\n",
    "\n",
    "feature_columns = [tf.feature_column.numeric_column('x', shape=train_X2.shape[1:])]\n",
    "\n",
    "regressor = tf.estimator.DNNRegressor(\n",
    "    feature_columns = feature_columns, \n",
    "    hidden_units=[12,8,4])\n",
    "\n",
    "train_input_fn = tf.estimator.inputs.numpy_input_fn(x={'x': train_X2.values}, y=train_y, batch_size=1000, num_epochs=None,shuffle=True)\n",
    "regressor.train(input_fn= train_input_fn, \n",
    "                steps=10000)\n"
   ]
  },
  {
   "cell_type": "code",
   "execution_count": 116,
   "metadata": {
    "scrolled": true
   },
   "outputs": [
    {
     "name": "stdout",
     "output_type": "stream",
     "text": [
      "INFO:tensorflow:Restoring parameters from C:\\Temp\\tmpvkizmml2\\model.ckpt-10000\n"
     ]
    },
    {
     "name": "stderr",
     "output_type": "stream",
     "text": [
      "INFO:tensorflow:Restoring parameters from C:\\Temp\\tmpvkizmml2\\model.ckpt-10000\n"
     ]
    },
    {
     "name": "stdout",
     "output_type": "stream",
     "text": [
      "INFO:tensorflow:Starting evaluation at 2017-11-27-22:44:32\n"
     ]
    },
    {
     "name": "stderr",
     "output_type": "stream",
     "text": [
      "INFO:tensorflow:Starting evaluation at 2017-11-27-22:44:32\n"
     ]
    },
    {
     "name": "stdout",
     "output_type": "stream",
     "text": [
      "INFO:tensorflow:Restoring parameters from C:\\Temp\\tmpvkizmml2\\model.ckpt-10000\n"
     ]
    },
    {
     "name": "stderr",
     "output_type": "stream",
     "text": [
      "INFO:tensorflow:Restoring parameters from C:\\Temp\\tmpvkizmml2\\model.ckpt-10000\n"
     ]
    },
    {
     "name": "stdout",
     "output_type": "stream",
     "text": [
      "INFO:tensorflow:Finished evaluation at 2017-11-27-22:44:33\n"
     ]
    },
    {
     "name": "stderr",
     "output_type": "stream",
     "text": [
      "INFO:tensorflow:Finished evaluation at 2017-11-27-22:44:33\n"
     ]
    },
    {
     "name": "stdout",
     "output_type": "stream",
     "text": [
      "INFO:tensorflow:Saving dict for global step 10000: average_loss = 23848.1, global_step = 10000, loss = 3.04807e+06\n"
     ]
    },
    {
     "name": "stderr",
     "output_type": "stream",
     "text": [
      "INFO:tensorflow:Saving dict for global step 10000: average_loss = 23848.1, global_step = 10000, loss = 3.04807e+06\n"
     ]
    },
    {
     "name": "stdout",
     "output_type": "stream",
     "text": [
      "INFO:tensorflow:Restoring parameters from C:\\Temp\\tmpvkizmml2\\model.ckpt-10000\n"
     ]
    },
    {
     "name": "stderr",
     "output_type": "stream",
     "text": [
      "INFO:tensorflow:Restoring parameters from C:\\Temp\\tmpvkizmml2\\model.ckpt-10000\n"
     ]
    },
    {
     "name": "stdout",
     "output_type": "stream",
     "text": [
      "INFO:tensorflow:Starting evaluation at 2017-11-27-22:44:35\n"
     ]
    },
    {
     "name": "stderr",
     "output_type": "stream",
     "text": [
      "INFO:tensorflow:Starting evaluation at 2017-11-27-22:44:35\n"
     ]
    },
    {
     "name": "stdout",
     "output_type": "stream",
     "text": [
      "INFO:tensorflow:Restoring parameters from C:\\Temp\\tmpvkizmml2\\model.ckpt-10000\n"
     ]
    },
    {
     "name": "stderr",
     "output_type": "stream",
     "text": [
      "INFO:tensorflow:Restoring parameters from C:\\Temp\\tmpvkizmml2\\model.ckpt-10000\n"
     ]
    },
    {
     "name": "stdout",
     "output_type": "stream",
     "text": [
      "INFO:tensorflow:Finished evaluation at 2017-11-27-22:44:35\n"
     ]
    },
    {
     "name": "stderr",
     "output_type": "stream",
     "text": [
      "INFO:tensorflow:Finished evaluation at 2017-11-27-22:44:35\n"
     ]
    },
    {
     "name": "stdout",
     "output_type": "stream",
     "text": [
      "INFO:tensorflow:Saving dict for global step 10000: average_loss = 23821.7, global_step = 10000, loss = 3.04479e+06\n"
     ]
    },
    {
     "name": "stderr",
     "output_type": "stream",
     "text": [
      "INFO:tensorflow:Saving dict for global step 10000: average_loss = 23821.7, global_step = 10000, loss = 3.04479e+06\n"
     ]
    },
    {
     "name": "stdout",
     "output_type": "stream",
     "text": [
      "INFO:tensorflow:Restoring parameters from C:\\Temp\\tmpvkizmml2\\model.ckpt-10000\n"
     ]
    },
    {
     "name": "stderr",
     "output_type": "stream",
     "text": [
      "INFO:tensorflow:Restoring parameters from C:\\Temp\\tmpvkizmml2\\model.ckpt-10000\n"
     ]
    },
    {
     "name": "stdout",
     "output_type": "stream",
     "text": [
      "INFO:tensorflow:Starting evaluation at 2017-11-27-22:44:37\n"
     ]
    },
    {
     "name": "stderr",
     "output_type": "stream",
     "text": [
      "INFO:tensorflow:Starting evaluation at 2017-11-27-22:44:37\n"
     ]
    },
    {
     "name": "stdout",
     "output_type": "stream",
     "text": [
      "INFO:tensorflow:Restoring parameters from C:\\Temp\\tmpvkizmml2\\model.ckpt-10000\n"
     ]
    },
    {
     "name": "stderr",
     "output_type": "stream",
     "text": [
      "INFO:tensorflow:Restoring parameters from C:\\Temp\\tmpvkizmml2\\model.ckpt-10000\n"
     ]
    },
    {
     "name": "stdout",
     "output_type": "stream",
     "text": [
      "INFO:tensorflow:Finished evaluation at 2017-11-27-22:44:37\n"
     ]
    },
    {
     "name": "stderr",
     "output_type": "stream",
     "text": [
      "INFO:tensorflow:Finished evaluation at 2017-11-27-22:44:37\n"
     ]
    },
    {
     "name": "stdout",
     "output_type": "stream",
     "text": [
      "INFO:tensorflow:Saving dict for global step 10000: average_loss = 22743.4, global_step = 10000, loss = 2.90698e+06\n"
     ]
    },
    {
     "name": "stderr",
     "output_type": "stream",
     "text": [
      "INFO:tensorflow:Saving dict for global step 10000: average_loss = 22743.4, global_step = 10000, loss = 2.90698e+06\n"
     ]
    }
   ],
   "source": [
    "\n",
    "\n",
    "#Train SET\n",
    "# x_transformed = scaler.transform(x_test)\n",
    "test_input_fn = tf.estimator.inputs.numpy_input_fn(\n",
    "  x={'x': train_X2.values}, y=train_y, num_epochs=1, shuffle=False)\n",
    "predictions = regressor.predict(input_fn=test_input_fn)\n",
    "y_predicted = np.array(list(p['predictions'] for p in predictions))\n",
    "y_predicted = y_predicted.reshape(train_y.shape)\n",
    "\n",
    "# Score with sklearn.\n",
    "score_sklearn = mean_squared_error(y_predicted, train_y)\n",
    "#print('MSE (sklearn): {0:f}'.format(score_sklearn))\n",
    "\n",
    "# Score with tensorflow.\n",
    "scores = regressor.evaluate(input_fn=test_input_fn)\n",
    "#print('MSE (tensorflow): {0:f}'.format(scores['average_loss']))\n",
    "\n",
    "\n",
    "rmse1 = math.sqrt(mean_squared_error(train_y, y_predicted))\n",
    "mae1 = mean_absolute_error(train_y, y_predicted)\n",
    "\n",
    "#VALIDATION SET\n",
    "# x_transformed = scaler.transform(x_test)\n",
    "test_input_fn = tf.estimator.inputs.numpy_input_fn(\n",
    "  x={'x': val_X[collist_X2].values}, y=val_y, num_epochs=1, shuffle=False)\n",
    "predictions = regressor.predict(input_fn=test_input_fn)\n",
    "y_predicted = np.array(list(p['predictions'] for p in predictions))\n",
    "y_predicted = y_predicted.reshape(val_y.shape)\n",
    "\n",
    "# Score with sklearn.\n",
    "score_sklearn = mean_squared_error(y_predicted, val_y)\n",
    "#print('MSE (sklearn): {0:f}'.format(score_sklearn))\n",
    "\n",
    "# Score with tensorflow.\n",
    "scores = regressor.evaluate(input_fn=test_input_fn)\n",
    "#print('MSE (tensorflow): {0:f}'.format(scores['average_loss']))\n",
    "\n",
    "\n",
    "rmse2 = math.sqrt(mean_squared_error(val_y, y_predicted))\n",
    "mae2 = mean_absolute_error(val_y, y_predicted)\n",
    "\n",
    "\n",
    "#TESTING SET\n",
    "test_input_fn = tf.estimator.inputs.numpy_input_fn(\n",
    "  x={'x': test_X[collist_X2].values}, y=test_y, num_epochs=1, shuffle=False)\n",
    "predictions = regressor.predict(input_fn=test_input_fn)\n",
    "y_predicted = np.array(list(p['predictions'] for p in predictions))\n",
    "y_predicted = y_predicted.reshape(test_y.shape)\n",
    "\n",
    "# Score with sklearn.\n",
    "score_sklearn = mean_squared_error(y_predicted, test_y)\n",
    "\n",
    "\n",
    "# Score with tensorflow.\n",
    "scores = regressor.evaluate(input_fn=test_input_fn)\n",
    "\n",
    "# print('MSE (tensorflow): {0:f}'.format(scores['average_loss']))\n",
    "# print('MSE (sklearn): {0:f}'.format(score_sklearn))\n",
    "     \n",
    "rmse3 = math.sqrt(mean_squared_error(test_y, y_predicted))\n",
    "mae3 = mean_absolute_error(test_y, y_predicted)"
   ]
  },
  {
   "cell_type": "code",
   "execution_count": 117,
   "metadata": {},
   "outputs": [
    {
     "name": "stdout",
     "output_type": "stream",
     "text": [
      "RMSE train: 154.42832741207457\n",
      "RMSE Val: 154.3428152465263\n",
      "RMSE test: 150.80931586385358\n",
      "MAE train: 60.0430356973\n",
      "MAE Val: 60.1534579351\n",
      "MAE test: 59.1625482367\n"
     ]
    }
   ],
   "source": [
    "print('RMSE train: ' + str(rmse1))\n",
    "print('RMSE Val: ' + str(rmse2))\n",
    "print('RMSE test: ' + str(rmse3))\n",
    "print('MAE train: ' + str(mae1))\n",
    "print('MAE Val: ' + str(mae2))\n",
    "print('MAE test: ' + str(mae3))"
   ]
  },
  {
   "cell_type": "code",
   "execution_count": 36,
   "metadata": {},
   "outputs": [
    {
     "data": {
      "image/png": "[encoded data removed]",
      "text/plain": [
       "<matplotlib.figure.Figure at 0x23476518>"
      ]
     },
     "metadata": {},
     "output_type": "display_data"
    },
    {
     "name": "stdout",
     "output_type": "stream",
     "text": [
      "Anderson-Darling: 2696.1925915097527 Critical Value: 0.787 \n"
     ]
    },
    {
     "data": {
      "image/png": "[encoded data removed]",
      "text/plain": [
       "<matplotlib.figure.Figure at 0x22877518>"
      ]
     },
     "metadata": {},
     "output_type": "display_data"
    }
   ],
   "source": [
    "tfmodel = regressor\n",
    "testing = pd.DataFrame({'true':test_y, 'pred':y_predicted})\n",
    "\n",
    "testing['resid'] = testing['pred']-testing['true']\n",
    "testing['stdresid'] = testing['resid']/np.std(testing['resid'])\n",
    "\n",
    "plt.plot(testing['stdresid'], '.', alpha = 0.5, color='black')\n",
    "plt.axhline(y=0, color = 'green')\n",
    "plt.axhline(y=2, color = 'blue', linestyle='--')\n",
    "plt.axhline(y=-2, color = 'blue', linestyle='--')\n",
    "plt.axhline(y=3, color = 'red', linestyle='--')\n",
    "plt.axhline(y=-3, color = 'red', linestyle='--')\n",
    "\n",
    "plt.title('Standardized Residuals')\n",
    "plt.ylabel('Standard Deviations')\n",
    "plt.xlabel('Observation Number')\n",
    "plt.show()\n",
    "\n",
    "stat, cv, sig = stats.anderson(testing['stdresid'], 'norm')\n",
    "print('Anderson-Darling: {} Critical Value: {} '.format(stat, cv[2]))\n",
    "\n",
    "plt.hist(testing['stdresid'], bins=25)\n",
    "plt.show()"
   ]
  },
  {
   "cell_type": "code",
   "execution_count": 37,
   "metadata": {},
   "outputs": [
    {
     "name": "stdout",
     "output_type": "stream",
     "text": [
      "Parameter search took 76.24 seconds for 500 candidate parameter settings.\n",
      "Best Mean validation score: -25231.788 (std: 0.115)\n",
      "Parameters: {'alpha': 10.092814352446377}\n"
     ]
    }
   ],
   "source": [
    "param_test1 = {\n",
    "     'alpha': uniform(0.1, 10.0)\n",
    "}\n",
    "\n",
    "\n",
    "clf = RandomizedSearchCV(estimator = Ridge(), \n",
    "                              param_distributions = param_test1, \n",
    "                              scoring='neg_mean_squared_error',\n",
    "                              n_jobs=-1,\n",
    "                              n_iter=500)\n",
    "start = time()\n",
    "clf.fit(train_X2.values, train_y)\n",
    "\n",
    "print(\"Parameter search took %.2f seconds for %d candidate parameter settings.\"\n",
    "      % (time() - start, len(clf.cv_results_['params'])))\n",
    "\n",
    "helper.report(clf)    \n",
    "\n",
    "\n"
   ]
  },
  {
   "cell_type": "code",
   "execution_count": 38,
   "metadata": {},
   "outputs": [
    {
     "data": {
      "text/plain": [
       "Ridge(alpha=10.09, copy_X=True, fit_intercept=True, max_iter=None,\n",
       "   normalize=False, random_state=None, solver='auto', tol=0.001)"
      ]
     },
     "execution_count": 38,
     "metadata": {},
     "output_type": "execute_result"
    }
   ],
   "source": [
    "ridgemodel = Ridge(alpha = 10.09)\n",
    "ridgemodel.fit(train_X2.values, train_y)"
   ]
  },
  {
   "cell_type": "code",
   "execution_count": 80,
   "metadata": {},
   "outputs": [
    {
     "name": "stdout",
     "output_type": "stream",
     "text": [
      "\n",
      "The model is trained on the full development set.\n",
      "The scores are computed on the full evaluation set.\n",
      "\n",
      "R2 Train: 0.333809306077\n",
      "RMSE Train: 158.25111280437181\n",
      "RMSE Val: 157.64455659974615\n",
      "RMSE Test: 153.37822976346325\n",
      "MAE Train: 63.6672432848\n",
      "MAE Val: 63.3021609518\n",
      "MAE Test: 62.4280129351\n"
     ]
    }
   ],
   "source": [
    "print()\n",
    "print(\"The model is trained on the full development set.\")\n",
    "print(\"The scores are computed on the full evaluation set.\")\n",
    "print()\n",
    "y_true3, y_pred3 = train_y, ridgemodel.predict(train_X2.values)\n",
    "y_true, y_pred = val_y, ridgemodel.predict(val_X[collist_X2].values)\n",
    "y_true2, y_pred2 = test_y, ridgemodel.predict(test_X[collist_X2].values)\n",
    "print('R2 Train: ' + str(r2_score(y_true3, y_pred3)))\n",
    "rmse = math.sqrt(mean_squared_error(y_true3, y_pred3))\n",
    "print('RMSE Train: ' + str(rmse))\n",
    "rmse = math.sqrt(mean_squared_error(y_true, y_pred))\n",
    "print('RMSE Val: ' + str(rmse))\n",
    "rmse = math.sqrt(mean_squared_error(y_true2, y_pred2))\n",
    "print('RMSE Test: ' + str(rmse))\n",
    "\n",
    "rmse = mean_absolute_error(y_true3, y_pred3)\n",
    "print('MAE Train: ' + str(rmse))\n",
    "rmse = mean_absolute_error(y_true, y_pred)\n",
    "print('MAE Val: ' + str(rmse))\n",
    "rmse = mean_absolute_error(y_true2, y_pred2)\n",
    "print('MAE Test: ' + str(rmse))\n"
   ]
  },
  {
   "cell_type": "code",
   "execution_count": 40,
   "metadata": {},
   "outputs": [
    {
     "name": "stdout",
     "output_type": "stream",
     "text": [
      "Parameter search took 81.76 seconds for 300 candidate parameter settings.\n",
      "Best Mean validation score: -25213.032 (std: 1940.687)\n",
      "Parameters: {'alpha': 0.12359447399106541, 'l1_ratio': 0.46245871132626071, 'selection': 'random'}\n"
     ]
    }
   ],
   "source": [
    "param_test1 = {\n",
    "     'alpha': uniform(0.1, 10.0),\n",
    "     'l1_ratio':uniform(0.1, 0.9),\n",
    "     'selection':['random']\n",
    "}\n",
    "\n",
    "\n",
    "clf = RandomizedSearchCV(estimator = ElasticNet(), \n",
    "                              param_distributions = param_test1, \n",
    "                              scoring='neg_mean_squared_error',\n",
    "                              n_jobs=3,\n",
    "                              n_iter=300)\n",
    "start = time()\n",
    "clf.fit(train_X2.values, train_y)\n",
    "\n",
    "print(\"Parameter search took %.2f seconds for %d candidate parameter settings.\"\n",
    "      % (time() - start, len(clf.cv_results_['params'])))\n",
    "\n",
    "helper.report(clf)    \n"
   ]
  },
  {
   "cell_type": "code",
   "execution_count": 42,
   "metadata": {},
   "outputs": [
    {
     "data": {
      "text/plain": [
       "ElasticNet(alpha=0.1236, copy_X=True, fit_intercept=True, l1_ratio=0.4625,\n",
       "      max_iter=1000, normalize=False, positive=False, precompute=False,\n",
       "      random_state=None, selection='random', tol=0.0001, warm_start=False)"
      ]
     },
     "execution_count": 42,
     "metadata": {},
     "output_type": "execute_result"
    }
   ],
   "source": [
    "elasticmodel = ElasticNet(alpha = 0.1236, l1_ratio=0.4625, selection = 'random')\n",
    "elasticmodel.fit(train_X2.values, train_y)"
   ]
  },
  {
   "cell_type": "code",
   "execution_count": 81,
   "metadata": {},
   "outputs": [
    {
     "name": "stdout",
     "output_type": "stream",
     "text": [
      "\n",
      "The model is trained on the full development set.\n",
      "The scores are computed on the full evaluation set.\n",
      "\n",
      "R2 Train: 0.333282448383\n",
      "RMSE Train: 158.31367697638356\n",
      "RMSE Val: 157.52517419999643\n",
      "RMSE Test: 153.28482118162066\n",
      "MAE Train: 63.8423961338\n",
      "MAE Val: 63.4360191197\n",
      "MAE Test: 62.5598970238\n"
     ]
    }
   ],
   "source": [
    "print()\n",
    "print(\"The model is trained on the full development set.\")\n",
    "print(\"The scores are computed on the full evaluation set.\")\n",
    "print()\n",
    "y_true3, y_pred3 = train_y, elasticmodel.predict(train_X2.values)\n",
    "y_true, y_pred = val_y, elasticmodel.predict(val_X[collist_X2].values)\n",
    "y_true2, y_pred2 = test_y, elasticmodel.predict(test_X[collist_X2].values)\n",
    "print('R2 Train: ' + str(r2_score(y_true3, y_pred3)))\n",
    "rmse = math.sqrt(mean_squared_error(y_true3, y_pred3))\n",
    "print('RMSE Train: ' + str(rmse))\n",
    "rmse = math.sqrt(mean_squared_error(y_true, y_pred))\n",
    "print('RMSE Val: ' + str(rmse))\n",
    "rmse = math.sqrt(mean_squared_error(y_true2, y_pred2))\n",
    "print('RMSE Test: ' + str(rmse))\n",
    "\n",
    "rmse = mean_absolute_error(y_true3, y_pred3)\n",
    "print('MAE Train: ' + str(rmse))\n",
    "rmse = mean_absolute_error(y_true, y_pred)\n",
    "print('MAE Val: ' + str(rmse))\n",
    "rmse = mean_absolute_error(y_true2, y_pred2)\n",
    "print('MAE Test: ' + str(rmse))\n"
   ]
  },
  {
   "cell_type": "code",
   "execution_count": 44,
   "metadata": {},
   "outputs": [
    {
     "name": "stdout",
     "output_type": "stream",
     "text": [
      "Parameter search took 572.14 seconds for 100 candidate parameter settings.\n",
      "Best Mean validation score: -24786.649 (std: 2466.700)\n",
      "Parameters: {'activation': 'relu', 'alpha': 0.1476185055791519, 'beta_1': 0.12677777487204644, 'beta_2': 0.40210268320395159, 'early_stopping': True, 'hidden_layer_sizes': (28, 14), 'learning_rate_init': 0.01, 'shuffle': True}\n"
     ]
    }
   ],
   "source": [
    "param_test1 = {\n",
    "     'alpha':uniform(0.0,1.0),\n",
    "     'activation':['identity','logistic','tanh','relu'],\n",
    "     'beta_1':uniform(0.0, 1.0),\n",
    "     'beta_2':uniform(0.0, 1.0),\n",
    "     'early_stopping':[True],\n",
    "     'shuffle':[True],\n",
    "     'hidden_layer_sizes':[(28, 14)],\n",
    "     'learning_rate_init':[0.01, 0.001]\n",
    "}\n",
    "\n",
    "\n",
    "clf = RandomizedSearchCV(estimator = MLPRegressor(), \n",
    "                              param_distributions = param_test1, \n",
    "                              scoring='neg_mean_squared_error',\n",
    "                              n_jobs=3,\n",
    "                              n_iter=100)\n",
    "start = time()\n",
    "clf.fit(train_X2.values, train_y)\n",
    "\n",
    "print(\"Parameter search took %.2f seconds for %d candidate parameter settings.\"\n",
    "      % (time() - start, len(clf.cv_results_['params'])))\n",
    "\n",
    "helper.report(clf)    \n"
   ]
  },
  {
   "cell_type": "code",
   "execution_count": 45,
   "metadata": {},
   "outputs": [
    {
     "data": {
      "text/plain": [
       "MLPRegressor(activation='relu', alpha=0.1476185055791519, batch_size='auto',\n",
       "       beta_1=0.12677777487204644, beta_2=0.40210268320395159,\n",
       "       early_stopping=True, epsilon=1e-08, hidden_layer_sizes=(28, 14),\n",
       "       learning_rate='constant', learning_rate_init=0.01, max_iter=200,\n",
       "       momentum=0.9, nesterovs_momentum=True, power_t=0.5,\n",
       "       random_state=None, shuffle=True, solver='adam', tol=0.0001,\n",
       "       validation_fraction=0.1, verbose=False, warm_start=False)"
      ]
     },
     "execution_count": 45,
     "metadata": {},
     "output_type": "execute_result"
    }
   ],
   "source": [
    "pms = clf.best_params_\n",
    "\n",
    "\n",
    "mlpmodel = MLPRegressor(activation=pms['activation'],\n",
    "                        alpha=pms['alpha'],\n",
    "                        beta_1=pms['beta_1'],\n",
    "                        beta_2=pms['beta_2'],\n",
    "                        early_stopping=pms['early_stopping'],\n",
    "                        hidden_layer_sizes=pms['hidden_layer_sizes'],\n",
    "                        learning_rate_init=pms['learning_rate_init'],\n",
    "                        shuffle=pms['shuffle'])\n",
    "mlpmodel.fit(train_X2.values, train_y)"
   ]
  },
  {
   "cell_type": "code",
   "execution_count": 82,
   "metadata": {},
   "outputs": [
    {
     "name": "stdout",
     "output_type": "stream",
     "text": [
      "\n",
      "The model is trained on the full development set.\n",
      "The scores are computed on the full evaluation set.\n",
      "\n",
      "R2 Train: 0.357498459727\n",
      "RMSE Train: 155.41201034492877\n",
      "RMSE Val: 154.70088015584173\n",
      "RMSE Test: 151.14029007613064\n",
      "MAE Train: 60.4556172303\n",
      "MAE Val: 60.2606065929\n",
      "MAE Test: 59.3082337787\n"
     ]
    }
   ],
   "source": [
    "print()\n",
    "print(\"The model is trained on the full development set.\")\n",
    "print(\"The scores are computed on the full evaluation set.\")\n",
    "print()\n",
    "y_true3, y_pred3 = train_y, mlpmodel.predict(train_X2.values)\n",
    "y_true, y_pred = val_y, mlpmodel.predict(val_X[collist_X2].values)\n",
    "y_true2, y_pred2 = test_y, mlpmodel.predict(test_X[collist_X2].values)\n",
    "print('R2 Train: ' + str(r2_score(y_true3, y_pred3)))\n",
    "rmse = math.sqrt(mean_squared_error(y_true3, y_pred3))\n",
    "print('RMSE Train: ' + str(rmse))\n",
    "rmse = math.sqrt(mean_squared_error(y_true, y_pred))\n",
    "print('RMSE Val: ' + str(rmse))\n",
    "rmse = math.sqrt(mean_squared_error(y_true2, y_pred2))\n",
    "print('RMSE Test: ' + str(rmse))\n",
    "\n",
    "rmse = mean_absolute_error(y_true3, y_pred3)\n",
    "print('MAE Train: ' + str(rmse))\n",
    "rmse = mean_absolute_error(y_true, y_pred)\n",
    "print('MAE Val: ' + str(rmse))\n",
    "rmse = mean_absolute_error(y_true2, y_pred2)\n",
    "print('MAE Test: ' + str(rmse))\n"
   ]
  },
  {
   "cell_type": "code",
   "execution_count": 47,
   "metadata": {},
   "outputs": [
    {
     "name": "stderr",
     "output_type": "stream",
     "text": [
      "C:\\ProgramData\\Anaconda3\\lib\\site-packages\\sklearn\\neural_network\\multilayer_perceptron.py:563: ConvergenceWarning: Stochastic Optimizer: Maximum iterations reached and the optimization hasn't converged yet.\n",
      "  % (), ConvergenceWarning)\n"
     ]
    }
   ],
   "source": [
    "nnet_res = list()\n",
    "\n",
    "for i in range(1, 31):\n",
    "    \n",
    "    mlpmodel = MLPRegressor(hidden_layer_sizes=(i,))\n",
    "    mlpmodel.fit(train_X2.values, train_y)\n",
    "\n",
    "    y_true, y_pred = val_y, mlpmodel.predict(val_X[collist_X2].values)\n",
    "\n",
    "    #print('R2 Train: ' + str(r2_score(y_true3, y_pred3)))\n",
    "    rmse = math.sqrt(mean_squared_error(y_true, y_pred))\n",
    "    nnet_res.append(rmse)\n",
    "    \n",
    "\n"
   ]
  },
  {
   "cell_type": "code",
   "execution_count": 48,
   "metadata": {},
   "outputs": [
    {
     "data": {
      "image/png": "[encoded data removed]",
      "text/plain": [
       "<matplotlib.figure.Figure at 0x2413b5c0>"
      ]
     },
     "metadata": {},
     "output_type": "display_data"
    }
   ],
   "source": [
    "x=np.array(range(1,31))\n",
    "y = np.array(nnet_res)\n",
    "plt.plot(x, y)\n",
    "plt.show()"
   ]
  },
  {
   "cell_type": "code",
   "execution_count": 49,
   "metadata": {},
   "outputs": [
    {
     "name": "stdout",
     "output_type": "stream",
     "text": [
      "Parameter search took 411.26 seconds for 200 candidate parameter settings.\n",
      "Best Mean validation score: -25194.894 (std: 2564.296)\n",
      "Parameters: {'C': 0.50939769946983404, 'epsilon': 0.75070706427464995, 'loss': 'squared_epsilon_insensitive'}\n"
     ]
    }
   ],
   "source": [
    "param_test1 = {\n",
    "     'C':uniform(0.0,1.0),\n",
    "     'epsilon': uniform(0.0, 1.0),\n",
    "     'loss':['squared_epsilon_insensitive', 'epsilon_insensitive']\n",
    "}\n",
    "\n",
    "\n",
    "clf = RandomizedSearchCV(estimator = LinearSVR(), \n",
    "                              param_distributions = param_test1, \n",
    "                              scoring='neg_mean_squared_error',\n",
    "                              n_jobs=3,\n",
    "                              n_iter=200)\n",
    "start = time()\n",
    "clf.fit(train_X2.values, train_y)\n",
    "\n",
    "print(\"Parameter search took %.2f seconds for %d candidate parameter settings.\"\n",
    "      % (time() - start, len(clf.cv_results_['params'])))\n",
    "\n",
    "helper.report(clf)    \n"
   ]
  },
  {
   "cell_type": "code",
   "execution_count": 52,
   "metadata": {},
   "outputs": [
    {
     "data": {
      "text/plain": [
       "LinearSVR(C=0.509, dual=True, epsilon=0.7507, fit_intercept=True,\n",
       "     intercept_scaling=1.0, loss='squared_epsilon_insensitive',\n",
       "     max_iter=1000, random_state=None, tol=0.0001, verbose=0)"
      ]
     },
     "execution_count": 52,
     "metadata": {},
     "output_type": "execute_result"
    }
   ],
   "source": [
    "lsvrmodel = LinearSVR(C=0.509, epsilon=0.7507, loss='squared_epsilon_insensitive')\n",
    "lsvrmodel.fit(train_X2.values, train_y)"
   ]
  },
  {
   "cell_type": "code",
   "execution_count": 83,
   "metadata": {},
   "outputs": [
    {
     "name": "stdout",
     "output_type": "stream",
     "text": [
      "\n",
      "The model is trained on the full development set.\n",
      "The scores are computed on the full evaluation set.\n",
      "\n",
      "R2 Train: 0.33338470807\n",
      "RMSE Train: 158.3015356072202\n",
      "RMSE Val: 157.77842836718017\n",
      "RMSE Test: 153.60546993395184\n",
      "MAE Train: 63.6716509825\n",
      "MAE Val: 63.3336464049\n",
      "MAE Test: 62.5152695831\n"
     ]
    }
   ],
   "source": [
    "print()\n",
    "print(\"The model is trained on the full development set.\")\n",
    "print(\"The scores are computed on the full evaluation set.\")\n",
    "print()\n",
    "y_true3, y_pred3 = train_y, lsvrmodel.predict(train_X2.values)\n",
    "y_true, y_pred = val_y, lsvrmodel.predict(val_X[collist_X2].values)\n",
    "y_true2, y_pred2 = test_y, lsvrmodel.predict(test_X[collist_X2].values)\n",
    "print('R2 Train: ' + str(r2_score(y_true3, y_pred3)))\n",
    "rmse = math.sqrt(mean_squared_error(y_true3, y_pred3))\n",
    "print('RMSE Train: ' + str(rmse))\n",
    "rmse = math.sqrt(mean_squared_error(y_true, y_pred))\n",
    "print('RMSE Val: ' + str(rmse))\n",
    "rmse = math.sqrt(mean_squared_error(y_true2, y_pred2))\n",
    "print('RMSE Test: ' + str(rmse))\n",
    "\n",
    "rmse = mean_absolute_error(y_true3, y_pred3)\n",
    "print('MAE Train: ' + str(rmse))\n",
    "rmse = mean_absolute_error(y_true, y_pred)\n",
    "print('MAE Val: ' + str(rmse))\n",
    "rmse = mean_absolute_error(y_true2, y_pred2)\n",
    "print('MAE Test: ' + str(rmse))\n"
   ]
  },
  {
   "cell_type": "code",
   "execution_count": 54,
   "metadata": {},
   "outputs": [
    {
     "name": "stdout",
     "output_type": "stream",
     "text": [
      "INFO:tensorflow:Restoring parameters from C:\\Temp\\tmpkq4z6wc7\\model.ckpt-10000\n"
     ]
    },
    {
     "name": "stderr",
     "output_type": "stream",
     "text": [
      "INFO:tensorflow:Restoring parameters from C:\\Temp\\tmpkq4z6wc7\\model.ckpt-10000\n"
     ]
    },
    {
     "name": "stdout",
     "output_type": "stream",
     "text": [
      "INFO:tensorflow:Restoring parameters from C:\\Temp\\tmpkq4z6wc7\\model.ckpt-10000\n"
     ]
    },
    {
     "name": "stderr",
     "output_type": "stream",
     "text": [
      "INFO:tensorflow:Restoring parameters from C:\\Temp\\tmpkq4z6wc7\\model.ckpt-10000\n"
     ]
    }
   ],
   "source": [
    "test_input_fn = tf.estimator.inputs.numpy_input_fn(\n",
    "  x={'x': val_X[collist_X2].values}, y=val_y, num_epochs=1, shuffle=False)\n",
    "predictions = regressor.predict(input_fn=test_input_fn)\n",
    "y_predicted = np.array(list(p['predictions'] for p in predictions))\n",
    "tfpred = y_predicted.reshape(val_y.shape)\n",
    "\n",
    "\n",
    "test_input_fn = tf.estimator.inputs.numpy_input_fn(\n",
    "  x={'x': test_X[collist_X2].values}, y=test_y, num_epochs=1, shuffle=False)\n",
    "predictions = regressor.predict(input_fn=test_input_fn)\n",
    "y_predicted = np.array(list(p['predictions'] for p in predictions))\n",
    "tf_test = y_predicted.reshape(test_y.shape)\n",
    "\n",
    "\n",
    "xgbpred = xgbmodel.predict(val_X[collist_X2].values)\n",
    "elasticpred = elasticmodel.predict(val_X[collist_X2].values)\n",
    "lassopred = ridgemodel.predict(val_X[collist_X2].values)\n",
    "mlppred = mlpmodel.predict(val_X[collist_X2].values)\n",
    "lsvrpred = lsvrmodel.predict(val_X[collist_X2].values)\n",
    "lgbmpred = lgbmmodel.predict(val_X[collist_X2].values)\n",
    "\n",
    "resarray = np.array([val_y, xgbpred, elasticpred, lassopred, mlppred, lsvrpred, lgbmpred, tfpred], np.float64)\n",
    "\n",
    "xgb_test = xgbmodel.predict(test_X[collist_X2].values)\n",
    "elastic_test = elasticmodel.predict(test_X[collist_X2].values)\n",
    "lasso_test = ridgemodel.predict(test_X[collist_X2].values)\n",
    "mlp_test = mlpmodel.predict(test_X[collist_X2].values)\n",
    "lsvr_test = lsvrmodel.predict(test_X[collist_X2].values)\n",
    "lgbm_test = lgbmmodel.predict(test_X[collist_X2].values)\n",
    "\n",
    "res_test = np.array([test_y, xgb_test, elastic_test, lasso_test, mlp_test, lsvr_test, lgbm_test, tf_test], np.float64)\n",
    "\n",
    "result = pd.DataFrame(resarray.transpose(), columns = ['true_y','xgbpred', 'elasticpred','ridgepred', 'mlppred','lsvrpred','lgbmpred','tfpred'])\n",
    "result_test = pd.DataFrame(res_test.transpose(), columns = ['true_y','xgbpred', 'elasticpred','ridgepred','mlppred','lsvrpred','lgbmpred','tfpred'])\n",
    "\n",
    "\n",
    "ensX = result[['xgbpred', 'elasticpred','ridgepred','mlppred','lsvrpred','lgbmpred','tfpred']].values\n",
    "ensy = result[['true_y']].values\n",
    "\n",
    "finX = result_test[['xgbpred', 'elasticpred','ridgepred','mlppred','lsvrpred','lgbmpred','tfpred']].values\n",
    "finy = result_test[['true_y']].values"
   ]
  },
  {
   "cell_type": "code",
   "execution_count": 55,
   "metadata": {},
   "outputs": [
    {
     "data": {
      "text/html": [
       "<div>\n",
       "<style>\n",
       "    .dataframe thead tr:only-child th {\n",
       "        text-align: right;\n",
       "    }\n",
       "\n",
       "    .dataframe thead th {\n",
       "        text-align: left;\n",
       "    }\n",
       "\n",
       "    .dataframe tbody tr th {\n",
       "        vertical-align: top;\n",
       "    }\n",
       "</style>\n",
       "<table border=\"1\" class=\"dataframe\">\n",
       "  <thead>\n",
       "    <tr style=\"text-align: right;\">\n",
       "      <th></th>\n",
       "      <th>true_y</th>\n",
       "      <th>xgbpred</th>\n",
       "      <th>elasticpred</th>\n",
       "      <th>ridgepred</th>\n",
       "      <th>mlppred</th>\n",
       "      <th>lsvrpred</th>\n",
       "      <th>lgbmpred</th>\n",
       "      <th>tfpred</th>\n",
       "      <th>avg</th>\n",
       "      <th>std</th>\n",
       "    </tr>\n",
       "  </thead>\n",
       "  <tbody>\n",
       "    <tr>\n",
       "      <th>0</th>\n",
       "      <td>34.12</td>\n",
       "      <td>8.595943</td>\n",
       "      <td>12.066313</td>\n",
       "      <td>11.508841</td>\n",
       "      <td>11.893818</td>\n",
       "      <td>10.776601</td>\n",
       "      <td>12.818974</td>\n",
       "      <td>11.944002</td>\n",
       "      <td>11.372070</td>\n",
       "      <td>1.369611</td>\n",
       "    </tr>\n",
       "    <tr>\n",
       "      <th>1</th>\n",
       "      <td>0.00</td>\n",
       "      <td>8.843944</td>\n",
       "      <td>7.258428</td>\n",
       "      <td>6.888712</td>\n",
       "      <td>6.731425</td>\n",
       "      <td>6.376538</td>\n",
       "      <td>12.860172</td>\n",
       "      <td>6.628863</td>\n",
       "      <td>7.941155</td>\n",
       "      <td>2.317293</td>\n",
       "    </tr>\n",
       "    <tr>\n",
       "      <th>2</th>\n",
       "      <td>0.00</td>\n",
       "      <td>42.690308</td>\n",
       "      <td>62.506416</td>\n",
       "      <td>70.133828</td>\n",
       "      <td>70.315541</td>\n",
       "      <td>68.985746</td>\n",
       "      <td>40.651147</td>\n",
       "      <td>53.928410</td>\n",
       "      <td>58.458771</td>\n",
       "      <td>12.847637</td>\n",
       "    </tr>\n",
       "    <tr>\n",
       "      <th>3</th>\n",
       "      <td>205.89</td>\n",
       "      <td>80.726143</td>\n",
       "      <td>92.394083</td>\n",
       "      <td>88.346699</td>\n",
       "      <td>105.072617</td>\n",
       "      <td>86.535356</td>\n",
       "      <td>84.211439</td>\n",
       "      <td>120.914124</td>\n",
       "      <td>94.028637</td>\n",
       "      <td>14.196467</td>\n",
       "    </tr>\n",
       "    <tr>\n",
       "      <th>4</th>\n",
       "      <td>0.00</td>\n",
       "      <td>11.209170</td>\n",
       "      <td>20.464955</td>\n",
       "      <td>19.729260</td>\n",
       "      <td>18.063179</td>\n",
       "      <td>19.385743</td>\n",
       "      <td>15.541121</td>\n",
       "      <td>11.119654</td>\n",
       "      <td>16.501869</td>\n",
       "      <td>3.974512</td>\n",
       "    </tr>\n",
       "  </tbody>\n",
       "</table>\n",
       "</div>"
      ],
      "text/plain": [
       "   true_y    xgbpred  elasticpred  ridgepred     mlppred   lsvrpred  \\\n",
       "0   34.12   8.595943    12.066313  11.508841   11.893818  10.776601   \n",
       "1    0.00   8.843944     7.258428   6.888712    6.731425   6.376538   \n",
       "2    0.00  42.690308    62.506416  70.133828   70.315541  68.985746   \n",
       "3  205.89  80.726143    92.394083  88.346699  105.072617  86.535356   \n",
       "4    0.00  11.209170    20.464955  19.729260   18.063179  19.385743   \n",
       "\n",
       "    lgbmpred      tfpred        avg        std  \n",
       "0  12.818974   11.944002  11.372070   1.369611  \n",
       "1  12.860172    6.628863   7.941155   2.317293  \n",
       "2  40.651147   53.928410  58.458771  12.847637  \n",
       "3  84.211439  120.914124  94.028637  14.196467  \n",
       "4  15.541121   11.119654  16.501869   3.974512  "
      ]
     },
     "execution_count": 55,
     "metadata": {},
     "output_type": "execute_result"
    }
   ],
   "source": [
    "result_test['avg'] = (result_test['xgbpred']+result_test['elasticpred']+result_test['ridgepred']+result_test['mlppred']+result_test['lsvrpred']+result_test['lgbmpred']+result_test['tfpred'])/7\n",
    "result_test['std'] = result_test[['xgbpred','elasticpred','ridgepred','mlppred','lsvrpred','lgbmpred','tfpred']].std(axis=1)\n",
    "result_test.head()"
   ]
  },
  {
   "cell_type": "code",
   "execution_count": 56,
   "metadata": {},
   "outputs": [
    {
     "name": "stdout",
     "output_type": "stream",
     "text": [
      "R2 Train: 0.326250907913\n",
      "RMSE Train: 150.85501675076466\n"
     ]
    }
   ],
   "source": [
    "result_test2 = result_test.sort_values(by='true_y').reset_index()\n",
    "\n",
    "print('R2 Train: ' + str(r2_score(result_test2['true_y'],result_test2['avg'])))\n",
    "rmse = math.sqrt(mean_squared_error(result_test2['true_y'],result_test2['avg']))\n",
    "print('RMSE Train: ' + str(rmse))"
   ]
  },
  {
   "cell_type": "code",
   "execution_count": 57,
   "metadata": {},
   "outputs": [
    {
     "data": {
      "image/png": "[encoded data removed]",
      "text/plain": [
       "<matplotlib.figure.Figure at 0x2aca4e80>"
      ]
     },
     "metadata": {},
     "output_type": "display_data"
    }
   ],
   "source": [
    "plt.plot(result_test2['true_y'])\n",
    "plt.plot(result_test2['avg'], alpha=0.5)\n",
    "plt.show()"
   ]
  },
  {
   "cell_type": "code",
   "execution_count": 58,
   "metadata": {},
   "outputs": [
    {
     "name": "stdout",
     "output_type": "stream",
     "text": [
      "xgbpred\n"
     ]
    },
    {
     "data": {
      "image/png": "[encoded data removed]",
      "text/plain": [
       "<matplotlib.figure.Figure at 0x251a92e8>"
      ]
     },
     "metadata": {},
     "output_type": "display_data"
    },
    {
     "name": "stdout",
     "output_type": "stream",
     "text": [
      "elasticpred\n"
     ]
    },
    {
     "data": {
      "image/png": "[encoded data removed]",
      "text/plain": [
       "<matplotlib.figure.Figure at 0x28045a58>"
      ]
     },
     "metadata": {},
     "output_type": "display_data"
    },
    {
     "name": "stdout",
     "output_type": "stream",
     "text": [
      "ridgepred\n"
     ]
    },
    {
     "data": {
      "image/png": "[encoded data removed]",
      "text/plain": [
       "<matplotlib.figure.Figure at 0x256dcf28>"
      ]
     },
     "metadata": {},
     "output_type": "display_data"
    },
    {
     "name": "stdout",
     "output_type": "stream",
     "text": [
      "mlppred\n"
     ]
    },
    {
     "data": {
      "image/png": "[encoded data removed]",
      "text/plain": [
       "<matplotlib.figure.Figure at 0x2d0c9c88>"
      ]
     },
     "metadata": {},
     "output_type": "display_data"
    },
    {
     "name": "stdout",
     "output_type": "stream",
     "text": [
      "lsvrpred\n"
     ]
    },
    {
     "data": {
      "image/png": "[encoded data removed]",
      "text/plain": [
       "<matplotlib.figure.Figure at 0x2ab32470>"
      ]
     },
     "metadata": {},
     "output_type": "display_data"
    },
    {
     "name": "stdout",
     "output_type": "stream",
     "text": [
      "lgbmpred\n"
     ]
    },
    {
     "data": {
      "image/png": "[encoded data removed]",
      "text/plain": [
       "<matplotlib.figure.Figure at 0x256dca58>"
      ]
     },
     "metadata": {},
     "output_type": "display_data"
    },
    {
     "name": "stdout",
     "output_type": "stream",
     "text": [
      "tfpred\n"
     ]
    },
    {
     "data": {
      "image/png": "[encoded data removed]",
      "text/plain": [
       "<matplotlib.figure.Figure at 0x22d38668>"
      ]
     },
     "metadata": {},
     "output_type": "display_data"
    }
   ],
   "source": [
    "matplotlib.rcParams['figure.figsize'] = (5,4)\n",
    "lst = ['xgbpred', 'elasticpred','ridgepred','mlppred','lsvrpred','lgbmpred','tfpred']\n",
    "\n",
    "for var in range(len(lst)):\n",
    "    print(lst[var])\n",
    "    plt.hist(ensX[:, var], bins = 100)\n",
    "    plt.show()\n",
    "    \n",
    "    \n",
    "    \n",
    "matplotlib.rcParams['figure.figsize'] = (11,8)"
   ]
  },
  {
   "cell_type": "code",
   "execution_count": 59,
   "metadata": {},
   "outputs": [
    {
     "name": "stdout",
     "output_type": "stream",
     "text": [
      "[0]\tvalidation_0-rmse:190.011\n",
      "Will train until validation_0-rmse hasn't improved in [50] rounds.\n",
      "[1]\tvalidation_0-rmse:189.292\n",
      "[2]\tvalidation_0-rmse:188.586\n",
      "[3]\tvalidation_0-rmse:187.897\n",
      "[4]\tvalidation_0-rmse:187.243\n",
      "[5]\tvalidation_0-rmse:186.594\n",
      "[6]\tvalidation_0-rmse:185.923\n",
      "[7]\tvalidation_0-rmse:185.271\n",
      "[8]\tvalidation_0-rmse:184.623\n",
      "[9]\tvalidation_0-rmse:184\n",
      "[10]\tvalidation_0-rmse:183.406\n",
      "[11]\tvalidation_0-rmse:182.8\n",
      "[12]\tvalidation_0-rmse:182.193\n",
      "[13]\tvalidation_0-rmse:181.605\n",
      "[14]\tvalidation_0-rmse:181.016\n",
      "[15]\tvalidation_0-rmse:180.479\n",
      "[16]\tvalidation_0-rmse:179.932\n",
      "[17]\tvalidation_0-rmse:179.37\n",
      "[18]\tvalidation_0-rmse:178.848\n",
      "[19]\tvalidation_0-rmse:178.324\n",
      "[20]\tvalidation_0-rmse:177.808\n",
      "[21]\tvalidation_0-rmse:177.313\n",
      "[22]\tvalidation_0-rmse:176.816\n",
      "[23]\tvalidation_0-rmse:176.347\n",
      "[24]\tvalidation_0-rmse:175.846\n",
      "[25]\tvalidation_0-rmse:175.359\n",
      "[26]\tvalidation_0-rmse:174.891\n",
      "[27]\tvalidation_0-rmse:174.423\n",
      "[28]\tvalidation_0-rmse:173.957\n",
      "[29]\tvalidation_0-rmse:173.514\n",
      "[30]\tvalidation_0-rmse:173.075\n",
      "[31]\tvalidation_0-rmse:172.656\n",
      "[32]\tvalidation_0-rmse:172.228\n",
      "[33]\tvalidation_0-rmse:171.799\n",
      "[34]\tvalidation_0-rmse:171.401\n",
      "[35]\tvalidation_0-rmse:170.994\n",
      "[36]\tvalidation_0-rmse:170.607\n",
      "[37]\tvalidation_0-rmse:170.234\n",
      "[38]\tvalidation_0-rmse:169.845\n",
      "[39]\tvalidation_0-rmse:169.483\n",
      "[40]\tvalidation_0-rmse:169.141\n",
      "[41]\tvalidation_0-rmse:168.786\n",
      "[42]\tvalidation_0-rmse:168.441\n",
      "[43]\tvalidation_0-rmse:168.095\n",
      "[44]\tvalidation_0-rmse:167.75\n",
      "[45]\tvalidation_0-rmse:167.433\n",
      "[46]\tvalidation_0-rmse:167.109\n",
      "[47]\tvalidation_0-rmse:166.771\n",
      "[48]\tvalidation_0-rmse:166.47\n",
      "[49]\tvalidation_0-rmse:166.154\n",
      "[50]\tvalidation_0-rmse:165.851\n",
      "[51]\tvalidation_0-rmse:165.549\n",
      "[52]\tvalidation_0-rmse:165.259\n",
      "[53]\tvalidation_0-rmse:164.943\n",
      "[54]\tvalidation_0-rmse:164.685\n",
      "[55]\tvalidation_0-rmse:164.408\n",
      "[56]\tvalidation_0-rmse:164.146\n",
      "[57]\tvalidation_0-rmse:163.871\n",
      "[58]\tvalidation_0-rmse:163.603\n",
      "[59]\tvalidation_0-rmse:163.367\n",
      "[60]\tvalidation_0-rmse:163.105\n",
      "[61]\tvalidation_0-rmse:162.856\n",
      "[62]\tvalidation_0-rmse:162.613\n",
      "[63]\tvalidation_0-rmse:162.375\n",
      "[64]\tvalidation_0-rmse:162.146\n",
      "[65]\tvalidation_0-rmse:161.912\n",
      "[66]\tvalidation_0-rmse:161.674\n",
      "[67]\tvalidation_0-rmse:161.439\n",
      "[68]\tvalidation_0-rmse:161.21\n",
      "[69]\tvalidation_0-rmse:160.999\n",
      "[70]\tvalidation_0-rmse:160.778\n",
      "[71]\tvalidation_0-rmse:160.586\n",
      "[72]\tvalidation_0-rmse:160.382\n",
      "[73]\tvalidation_0-rmse:160.187\n",
      "[74]\tvalidation_0-rmse:159.993\n",
      "[75]\tvalidation_0-rmse:159.787\n",
      "[76]\tvalidation_0-rmse:159.605\n",
      "[77]\tvalidation_0-rmse:159.418\n",
      "[78]\tvalidation_0-rmse:159.227\n",
      "[79]\tvalidation_0-rmse:159.057\n",
      "[80]\tvalidation_0-rmse:158.876\n",
      "[81]\tvalidation_0-rmse:158.709\n",
      "[82]\tvalidation_0-rmse:158.545\n",
      "[83]\tvalidation_0-rmse:158.382\n",
      "[84]\tvalidation_0-rmse:158.233\n",
      "[85]\tvalidation_0-rmse:158.083\n",
      "[86]\tvalidation_0-rmse:157.923\n",
      "[87]\tvalidation_0-rmse:157.76\n",
      "[88]\tvalidation_0-rmse:157.595\n",
      "[89]\tvalidation_0-rmse:157.443\n",
      "[90]\tvalidation_0-rmse:157.307\n",
      "[91]\tvalidation_0-rmse:157.185\n",
      "[92]\tvalidation_0-rmse:157.059\n",
      "[93]\tvalidation_0-rmse:156.933\n",
      "[94]\tvalidation_0-rmse:156.805\n",
      "[95]\tvalidation_0-rmse:156.687\n",
      "[96]\tvalidation_0-rmse:156.556\n",
      "[97]\tvalidation_0-rmse:156.423\n",
      "[98]\tvalidation_0-rmse:156.314\n",
      "[99]\tvalidation_0-rmse:156.206\n",
      "Parameter search took 642.39 seconds for 100 candidate parameter settings.\n",
      "Best Mean validation score: -25599.359 (std: 289.884)\n",
      "Parameters: {'colsample_bytree': 0.81392609944154359, 'gamma': 0.20910082043397249, 'learning_rate': 0.01, 'max_depth': 5, 'min_child_weight': 8, 'objective': 'reg:linear', 'reg_alpha': 0.92282151697469328, 'reg_lambda': 0.10264817666420244, 'subsample': 0.62160997697276321}\n"
     ]
    }
   ],
   "source": [
    "param_test1 = {\n",
    "     'learning_rate':[0.01],\n",
    "     'max_depth':list(range(5,20)),\n",
    "     'min_child_weight':list(range(1,10)),\n",
    "     'colsample_bytree': uniform(0.5,0.4),\n",
    "     'subsample': uniform(0.5,0.4),\n",
    "     'reg_alpha': uniform(0.1, 0.9),\n",
    "     'reg_lambda': uniform(0.1, 0.9),\n",
    "     'objective':['reg:linear'],\n",
    "     'gamma': uniform(0.1,0.9)\n",
    "}\n",
    "\n",
    "fit_params = {\n",
    "    'early_stopping_rounds':[50],\n",
    "    'eval_set':[(finX, finy)],\n",
    "    'eval_metric':['rmse']\n",
    "}\n",
    "\n",
    "\n",
    "gsearch1 = RandomizedSearchCV(estimator = xgb.XGBRegressor(), \n",
    "                              param_distributions = param_test1, \n",
    "                              scoring='neg_mean_squared_error',\n",
    "                              n_jobs=-1,\n",
    "                              n_iter=100,\n",
    "                              cv=5,\n",
    "                              fit_params = fit_params)\n",
    "start = time()\n",
    "gsearch1.fit(ensX, ensy,\n",
    "            )\n",
    "\n",
    "print(\"Parameter search took %.2f seconds for %d candidate parameter settings.\"\n",
    "      % (time() - start, len(gsearch1.cv_results_['params'])))\n",
    "\n",
    "helper.report(gsearch1)    "
   ]
  },
  {
   "cell_type": "code",
   "execution_count": 60,
   "metadata": {},
   "outputs": [
    {
     "data": {
      "text/plain": [
       "{'colsample_bytree': 0.81392609944154359,\n",
       " 'gamma': 0.20910082043397249,\n",
       " 'learning_rate': 0.01,\n",
       " 'max_depth': 5,\n",
       " 'min_child_weight': 8,\n",
       " 'objective': 'reg:linear',\n",
       " 'reg_alpha': 0.92282151697469328,\n",
       " 'reg_lambda': 0.10264817666420244,\n",
       " 'subsample': 0.62160997697276321}"
      ]
     },
     "execution_count": 60,
     "metadata": {},
     "output_type": "execute_result"
    }
   ],
   "source": [
    "mp = gsearch1.best_params_\n",
    "mp"
   ]
  },
  {
   "cell_type": "code",
   "execution_count": 63,
   "metadata": {
    "scrolled": true
   },
   "outputs": [
    {
     "name": "stdout",
     "output_type": "stream",
     "text": [
      "[0]\tvalidation_0-rmse:190.025\n",
      "Will train until validation_0-rmse hasn't improved in 100 rounds.\n",
      "[1]\tvalidation_0-rmse:189.35\n",
      "[2]\tvalidation_0-rmse:188.675\n",
      "[3]\tvalidation_0-rmse:187.966\n",
      "[4]\tvalidation_0-rmse:187.291\n",
      "[5]\tvalidation_0-rmse:186.624\n",
      "[6]\tvalidation_0-rmse:185.967\n",
      "[7]\tvalidation_0-rmse:185.297\n",
      "[8]\tvalidation_0-rmse:184.65\n",
      "[9]\tvalidation_0-rmse:184.027\n",
      "[10]\tvalidation_0-rmse:183.445\n",
      "[11]\tvalidation_0-rmse:182.872\n",
      "[12]\tvalidation_0-rmse:182.274\n",
      "[13]\tvalidation_0-rmse:181.697\n",
      "[14]\tvalidation_0-rmse:181.081\n",
      "[15]\tvalidation_0-rmse:180.523\n",
      "[16]\tvalidation_0-rmse:179.95\n",
      "[17]\tvalidation_0-rmse:179.416\n",
      "[18]\tvalidation_0-rmse:178.855\n",
      "[19]\tvalidation_0-rmse:178.349\n",
      "[20]\tvalidation_0-rmse:177.846\n",
      "[21]\tvalidation_0-rmse:177.345\n",
      "[22]\tvalidation_0-rmse:176.849\n",
      "[23]\tvalidation_0-rmse:176.363\n",
      "[24]\tvalidation_0-rmse:175.899\n",
      "[25]\tvalidation_0-rmse:175.413\n",
      "[26]\tvalidation_0-rmse:174.958\n",
      "[27]\tvalidation_0-rmse:174.493\n",
      "[28]\tvalidation_0-rmse:174.064\n",
      "[29]\tvalidation_0-rmse:173.638\n",
      "[30]\tvalidation_0-rmse:173.233\n",
      "[31]\tvalidation_0-rmse:172.797\n",
      "[32]\tvalidation_0-rmse:172.366\n",
      "[33]\tvalidation_0-rmse:171.95\n",
      "[34]\tvalidation_0-rmse:171.548\n",
      "[35]\tvalidation_0-rmse:171.165\n",
      "[36]\tvalidation_0-rmse:170.795\n",
      "[37]\tvalidation_0-rmse:170.418\n",
      "[38]\tvalidation_0-rmse:170.01\n",
      "[39]\tvalidation_0-rmse:169.624\n",
      "[40]\tvalidation_0-rmse:169.276\n",
      "[41]\tvalidation_0-rmse:168.936\n",
      "[42]\tvalidation_0-rmse:168.587\n",
      "[43]\tvalidation_0-rmse:168.242\n",
      "[44]\tvalidation_0-rmse:167.926\n",
      "[45]\tvalidation_0-rmse:167.571\n",
      "[46]\tvalidation_0-rmse:167.239\n",
      "[47]\tvalidation_0-rmse:166.913\n",
      "[48]\tvalidation_0-rmse:166.604\n",
      "[49]\tvalidation_0-rmse:166.301\n",
      "[50]\tvalidation_0-rmse:165.994\n",
      "[51]\tvalidation_0-rmse:165.69\n",
      "[52]\tvalidation_0-rmse:165.39\n",
      "[53]\tvalidation_0-rmse:165.087\n",
      "[54]\tvalidation_0-rmse:164.814\n",
      "[55]\tvalidation_0-rmse:164.534\n",
      "[56]\tvalidation_0-rmse:164.258\n",
      "[57]\tvalidation_0-rmse:163.985\n",
      "[58]\tvalidation_0-rmse:163.722\n",
      "[59]\tvalidation_0-rmse:163.462\n",
      "[60]\tvalidation_0-rmse:163.191\n",
      "[61]\tvalidation_0-rmse:162.932\n",
      "[62]\tvalidation_0-rmse:162.676\n",
      "[63]\tvalidation_0-rmse:162.441\n",
      "[64]\tvalidation_0-rmse:162.215\n",
      "[65]\tvalidation_0-rmse:161.995\n",
      "[66]\tvalidation_0-rmse:161.735\n",
      "[67]\tvalidation_0-rmse:161.517\n",
      "[68]\tvalidation_0-rmse:161.307\n",
      "[69]\tvalidation_0-rmse:161.098\n",
      "[70]\tvalidation_0-rmse:160.887\n",
      "[71]\tvalidation_0-rmse:160.701\n",
      "[72]\tvalidation_0-rmse:160.509\n",
      "[73]\tvalidation_0-rmse:160.31\n",
      "[74]\tvalidation_0-rmse:160.123\n",
      "[75]\tvalidation_0-rmse:159.924\n",
      "[76]\tvalidation_0-rmse:159.745\n",
      "[77]\tvalidation_0-rmse:159.557\n",
      "[78]\tvalidation_0-rmse:159.38\n",
      "[79]\tvalidation_0-rmse:159.198\n",
      "[80]\tvalidation_0-rmse:159.007\n",
      "[81]\tvalidation_0-rmse:158.847\n",
      "[82]\tvalidation_0-rmse:158.683\n",
      "[83]\tvalidation_0-rmse:158.514\n",
      "[84]\tvalidation_0-rmse:158.377\n",
      "[85]\tvalidation_0-rmse:158.23\n",
      "[86]\tvalidation_0-rmse:158.086\n",
      "[87]\tvalidation_0-rmse:157.935\n",
      "[88]\tvalidation_0-rmse:157.781\n",
      "[89]\tvalidation_0-rmse:157.632\n",
      "[90]\tvalidation_0-rmse:157.49\n",
      "[91]\tvalidation_0-rmse:157.345\n",
      "[92]\tvalidation_0-rmse:157.21\n",
      "[93]\tvalidation_0-rmse:157.075\n",
      "[94]\tvalidation_0-rmse:156.935\n",
      "[95]\tvalidation_0-rmse:156.807\n",
      "[96]\tvalidation_0-rmse:156.685\n",
      "[97]\tvalidation_0-rmse:156.578\n",
      "[98]\tvalidation_0-rmse:156.463\n",
      "[99]\tvalidation_0-rmse:156.348\n",
      "[100]\tvalidation_0-rmse:156.234\n",
      "[101]\tvalidation_0-rmse:156.106\n",
      "[102]\tvalidation_0-rmse:155.993\n",
      "[103]\tvalidation_0-rmse:155.872\n",
      "[104]\tvalidation_0-rmse:155.765\n",
      "[105]\tvalidation_0-rmse:155.652\n",
      "[106]\tvalidation_0-rmse:155.526\n",
      "[107]\tvalidation_0-rmse:155.419\n",
      "[108]\tvalidation_0-rmse:155.322\n",
      "[109]\tvalidation_0-rmse:155.237\n",
      "[110]\tvalidation_0-rmse:155.134\n",
      "[111]\tvalidation_0-rmse:155.055\n",
      "[112]\tvalidation_0-rmse:154.957\n",
      "[113]\tvalidation_0-rmse:154.856\n",
      "[114]\tvalidation_0-rmse:154.784\n",
      "[115]\tvalidation_0-rmse:154.695\n",
      "[116]\tvalidation_0-rmse:154.612\n",
      "[117]\tvalidation_0-rmse:154.519\n",
      "[118]\tvalidation_0-rmse:154.436\n",
      "[119]\tvalidation_0-rmse:154.349\n",
      "[120]\tvalidation_0-rmse:154.268\n",
      "[121]\tvalidation_0-rmse:154.171\n",
      "[122]\tvalidation_0-rmse:154.092\n",
      "[123]\tvalidation_0-rmse:154.012\n",
      "[124]\tvalidation_0-rmse:153.941\n",
      "[125]\tvalidation_0-rmse:153.857\n",
      "[126]\tvalidation_0-rmse:153.784\n",
      "[127]\tvalidation_0-rmse:153.717\n",
      "[128]\tvalidation_0-rmse:153.649\n",
      "[129]\tvalidation_0-rmse:153.589\n",
      "[130]\tvalidation_0-rmse:153.524\n",
      "[131]\tvalidation_0-rmse:153.46\n",
      "[132]\tvalidation_0-rmse:153.378\n",
      "[133]\tvalidation_0-rmse:153.309\n",
      "[134]\tvalidation_0-rmse:153.247\n",
      "[135]\tvalidation_0-rmse:153.198\n",
      "[136]\tvalidation_0-rmse:153.139\n",
      "[137]\tvalidation_0-rmse:153.085\n",
      "[138]\tvalidation_0-rmse:153.046\n",
      "[139]\tvalidation_0-rmse:152.987\n",
      "[140]\tvalidation_0-rmse:152.936\n",
      "[141]\tvalidation_0-rmse:152.886\n",
      "[142]\tvalidation_0-rmse:152.851\n",
      "[143]\tvalidation_0-rmse:152.798\n",
      "[144]\tvalidation_0-rmse:152.757\n",
      "[145]\tvalidation_0-rmse:152.706\n",
      "[146]\tvalidation_0-rmse:152.661\n",
      "[147]\tvalidation_0-rmse:152.614\n",
      "[148]\tvalidation_0-rmse:152.576\n",
      "[149]\tvalidation_0-rmse:152.534\n",
      "[150]\tvalidation_0-rmse:152.479\n",
      "[151]\tvalidation_0-rmse:152.428\n",
      "[152]\tvalidation_0-rmse:152.388\n",
      "[153]\tvalidation_0-rmse:152.355\n",
      "[154]\tvalidation_0-rmse:152.32\n",
      "[155]\tvalidation_0-rmse:152.281\n",
      "[156]\tvalidation_0-rmse:152.236\n",
      "[157]\tvalidation_0-rmse:152.202\n",
      "[158]\tvalidation_0-rmse:152.157\n",
      "[159]\tvalidation_0-rmse:152.117\n",
      "[160]\tvalidation_0-rmse:152.083\n",
      "[161]\tvalidation_0-rmse:152.04\n",
      "[162]\tvalidation_0-rmse:151.996\n",
      "[163]\tvalidation_0-rmse:151.962\n",
      "[164]\tvalidation_0-rmse:151.923\n",
      "[165]\tvalidation_0-rmse:151.891\n",
      "[166]\tvalidation_0-rmse:151.857\n",
      "[167]\tvalidation_0-rmse:151.817\n",
      "[168]\tvalidation_0-rmse:151.789\n",
      "[169]\tvalidation_0-rmse:151.759\n",
      "[170]\tvalidation_0-rmse:151.73\n",
      "[171]\tvalidation_0-rmse:151.698\n",
      "[172]\tvalidation_0-rmse:151.657\n",
      "[173]\tvalidation_0-rmse:151.624\n",
      "[174]\tvalidation_0-rmse:151.607\n",
      "[175]\tvalidation_0-rmse:151.566\n",
      "[176]\tvalidation_0-rmse:151.535\n",
      "[177]\tvalidation_0-rmse:151.519\n",
      "[178]\tvalidation_0-rmse:151.488\n",
      "[179]\tvalidation_0-rmse:151.457\n",
      "[180]\tvalidation_0-rmse:151.438\n",
      "[181]\tvalidation_0-rmse:151.422\n",
      "[182]\tvalidation_0-rmse:151.404\n",
      "[183]\tvalidation_0-rmse:151.392\n",
      "[184]\tvalidation_0-rmse:151.372\n",
      "[185]\tvalidation_0-rmse:151.355\n",
      "[186]\tvalidation_0-rmse:151.33\n",
      "[187]\tvalidation_0-rmse:151.304\n",
      "[188]\tvalidation_0-rmse:151.29\n",
      "[189]\tvalidation_0-rmse:151.249\n",
      "[190]\tvalidation_0-rmse:151.227\n",
      "[191]\tvalidation_0-rmse:151.21\n",
      "[192]\tvalidation_0-rmse:151.195\n",
      "[193]\tvalidation_0-rmse:151.179\n",
      "[194]\tvalidation_0-rmse:151.169\n",
      "[195]\tvalidation_0-rmse:151.151\n",
      "[196]\tvalidation_0-rmse:151.133\n",
      "[197]\tvalidation_0-rmse:151.116\n",
      "[198]\tvalidation_0-rmse:151.104\n",
      "[199]\tvalidation_0-rmse:151.091\n",
      "[200]\tvalidation_0-rmse:151.076\n",
      "[201]\tvalidation_0-rmse:151.065\n",
      "[202]\tvalidation_0-rmse:151.054\n",
      "[203]\tvalidation_0-rmse:151.042\n",
      "[204]\tvalidation_0-rmse:151.032\n",
      "[205]\tvalidation_0-rmse:151.024\n",
      "[206]\tvalidation_0-rmse:151.022\n",
      "[207]\tvalidation_0-rmse:151.011\n",
      "[208]\tvalidation_0-rmse:151.002\n",
      "[209]\tvalidation_0-rmse:150.993\n",
      "[210]\tvalidation_0-rmse:150.971\n",
      "[211]\tvalidation_0-rmse:150.948\n",
      "[212]\tvalidation_0-rmse:150.935\n",
      "[213]\tvalidation_0-rmse:150.925\n",
      "[214]\tvalidation_0-rmse:150.909\n",
      "[215]\tvalidation_0-rmse:150.906\n",
      "[216]\tvalidation_0-rmse:150.895\n",
      "[217]\tvalidation_0-rmse:150.882\n",
      "[218]\tvalidation_0-rmse:150.881\n",
      "[219]\tvalidation_0-rmse:150.86\n",
      "[220]\tvalidation_0-rmse:150.865\n",
      "[221]\tvalidation_0-rmse:150.862\n",
      "[222]\tvalidation_0-rmse:150.87\n",
      "[223]\tvalidation_0-rmse:150.853\n",
      "[224]\tvalidation_0-rmse:150.849\n",
      "[225]\tvalidation_0-rmse:150.842\n",
      "[226]\tvalidation_0-rmse:150.832\n",
      "[227]\tvalidation_0-rmse:150.829\n",
      "[228]\tvalidation_0-rmse:150.825\n",
      "[229]\tvalidation_0-rmse:150.823\n",
      "[230]\tvalidation_0-rmse:150.81\n",
      "[231]\tvalidation_0-rmse:150.799\n",
      "[232]\tvalidation_0-rmse:150.786\n",
      "[233]\tvalidation_0-rmse:150.774\n",
      "[234]\tvalidation_0-rmse:150.776\n",
      "[235]\tvalidation_0-rmse:150.773\n",
      "[236]\tvalidation_0-rmse:150.76\n",
      "[237]\tvalidation_0-rmse:150.75\n",
      "[238]\tvalidation_0-rmse:150.739\n",
      "[239]\tvalidation_0-rmse:150.736\n",
      "[240]\tvalidation_0-rmse:150.731\n",
      "[241]\tvalidation_0-rmse:150.727\n",
      "[242]\tvalidation_0-rmse:150.728\n",
      "[243]\tvalidation_0-rmse:150.73\n",
      "[244]\tvalidation_0-rmse:150.732\n",
      "[245]\tvalidation_0-rmse:150.727\n",
      "[246]\tvalidation_0-rmse:150.723\n",
      "[247]\tvalidation_0-rmse:150.721\n",
      "[248]\tvalidation_0-rmse:150.736\n",
      "[249]\tvalidation_0-rmse:150.719\n",
      "[250]\tvalidation_0-rmse:150.714\n",
      "[251]\tvalidation_0-rmse:150.707\n",
      "[252]\tvalidation_0-rmse:150.698\n",
      "[253]\tvalidation_0-rmse:150.691\n",
      "[254]\tvalidation_0-rmse:150.683\n",
      "[255]\tvalidation_0-rmse:150.669\n",
      "[256]\tvalidation_0-rmse:150.672\n",
      "[257]\tvalidation_0-rmse:150.669\n",
      "[258]\tvalidation_0-rmse:150.664\n"
     ]
    },
    {
     "name": "stdout",
     "output_type": "stream",
     "text": [
      "[259]\tvalidation_0-rmse:150.652\n",
      "[260]\tvalidation_0-rmse:150.651\n",
      "[261]\tvalidation_0-rmse:150.658\n",
      "[262]\tvalidation_0-rmse:150.655\n",
      "[263]\tvalidation_0-rmse:150.65\n",
      "[264]\tvalidation_0-rmse:150.645\n",
      "[265]\tvalidation_0-rmse:150.642\n",
      "[266]\tvalidation_0-rmse:150.63\n",
      "[267]\tvalidation_0-rmse:150.635\n",
      "[268]\tvalidation_0-rmse:150.633\n",
      "[269]\tvalidation_0-rmse:150.622\n",
      "[270]\tvalidation_0-rmse:150.605\n",
      "[271]\tvalidation_0-rmse:150.611\n",
      "[272]\tvalidation_0-rmse:150.605\n",
      "[273]\tvalidation_0-rmse:150.622\n",
      "[274]\tvalidation_0-rmse:150.622\n",
      "[275]\tvalidation_0-rmse:150.633\n",
      "[276]\tvalidation_0-rmse:150.639\n",
      "[277]\tvalidation_0-rmse:150.631\n",
      "[278]\tvalidation_0-rmse:150.631\n",
      "[279]\tvalidation_0-rmse:150.632\n",
      "[280]\tvalidation_0-rmse:150.631\n",
      "[281]\tvalidation_0-rmse:150.635\n",
      "[282]\tvalidation_0-rmse:150.628\n",
      "[283]\tvalidation_0-rmse:150.625\n",
      "[284]\tvalidation_0-rmse:150.629\n",
      "[285]\tvalidation_0-rmse:150.63\n",
      "[286]\tvalidation_0-rmse:150.625\n",
      "[287]\tvalidation_0-rmse:150.624\n",
      "[288]\tvalidation_0-rmse:150.625\n",
      "[289]\tvalidation_0-rmse:150.627\n",
      "[290]\tvalidation_0-rmse:150.633\n",
      "[291]\tvalidation_0-rmse:150.632\n",
      "[292]\tvalidation_0-rmse:150.632\n",
      "[293]\tvalidation_0-rmse:150.627\n",
      "[294]\tvalidation_0-rmse:150.614\n",
      "[295]\tvalidation_0-rmse:150.612\n",
      "[296]\tvalidation_0-rmse:150.613\n",
      "[297]\tvalidation_0-rmse:150.611\n",
      "[298]\tvalidation_0-rmse:150.608\n",
      "[299]\tvalidation_0-rmse:150.608\n",
      "[300]\tvalidation_0-rmse:150.609\n",
      "[301]\tvalidation_0-rmse:150.61\n",
      "[302]\tvalidation_0-rmse:150.609\n",
      "[303]\tvalidation_0-rmse:150.612\n",
      "[304]\tvalidation_0-rmse:150.607\n",
      "[305]\tvalidation_0-rmse:150.605\n",
      "[306]\tvalidation_0-rmse:150.594\n",
      "[307]\tvalidation_0-rmse:150.593\n",
      "[308]\tvalidation_0-rmse:150.587\n",
      "[309]\tvalidation_0-rmse:150.591\n",
      "[310]\tvalidation_0-rmse:150.59\n",
      "[311]\tvalidation_0-rmse:150.593\n",
      "[312]\tvalidation_0-rmse:150.602\n",
      "[313]\tvalidation_0-rmse:150.599\n",
      "[314]\tvalidation_0-rmse:150.61\n",
      "[315]\tvalidation_0-rmse:150.61\n",
      "[316]\tvalidation_0-rmse:150.607\n",
      "[317]\tvalidation_0-rmse:150.613\n",
      "[318]\tvalidation_0-rmse:150.613\n",
      "[319]\tvalidation_0-rmse:150.612\n",
      "[320]\tvalidation_0-rmse:150.607\n",
      "[321]\tvalidation_0-rmse:150.608\n",
      "[322]\tvalidation_0-rmse:150.608\n",
      "[323]\tvalidation_0-rmse:150.601\n",
      "[324]\tvalidation_0-rmse:150.6\n",
      "[325]\tvalidation_0-rmse:150.601\n",
      "[326]\tvalidation_0-rmse:150.598\n",
      "[327]\tvalidation_0-rmse:150.596\n",
      "[328]\tvalidation_0-rmse:150.595\n",
      "[329]\tvalidation_0-rmse:150.597\n",
      "[330]\tvalidation_0-rmse:150.592\n",
      "[331]\tvalidation_0-rmse:150.593\n",
      "[332]\tvalidation_0-rmse:150.59\n",
      "[333]\tvalidation_0-rmse:150.583\n",
      "[334]\tvalidation_0-rmse:150.583\n",
      "[335]\tvalidation_0-rmse:150.582\n",
      "[336]\tvalidation_0-rmse:150.581\n",
      "336 150.581207\n"
     ]
    }
   ],
   "source": [
    "#max_depth = 10\n",
    "#min_child_weight = 1\n",
    "#colsample_bytree = 0.7\n",
    "#subsample = 1.0\n",
    "\n",
    "metaxgb = xgb.XGBRegressor( \n",
    "                        learning_rate = mp['learning_rate'],\n",
    "                        n_estimators = 337,\n",
    "                        max_depth = mp['max_depth'],\n",
    "                        min_child_weight = mp['min_child_weight'],\n",
    "                        subsample = mp['subsample'],\n",
    "                        colsample_bytree = mp['colsample_bytree'],\n",
    "                        objective = mp['objective'],\n",
    "                        reg_alpha= mp['reg_alpha'],\n",
    "                        reg_lambda = mp['reg_lambda'],\n",
    "                        gamma = mp['gamma'],\n",
    "                        seed = 27)\n",
    "metaxgb.fit(ensX, ensy, \n",
    "                 eval_set=[(finX, finy)], \n",
    "                 eval_metric='rmse',\n",
    "                 early_stopping_rounds=100,                 \n",
    "                 verbose=True)\n",
    "\n",
    "print(metaxgb.best_iteration, metaxgb.best_score)"
   ]
  },
  {
   "cell_type": "code",
   "execution_count": 64,
   "metadata": {
    "scrolled": true
   },
   "outputs": [
    {
     "name": "stdout",
     "output_type": "stream",
     "text": [
      "R2 Train: 0.412312843778\n",
      "RMSE Train: 144.432012891898\n",
      "MAE Train:  56.454434269\n",
      "RMSE Val: 150.581211546606\n",
      "MAE Val:  58.057102528\n"
     ]
    }
   ],
   "source": [
    "y_true, y_pred = ensy, metaxgb.predict(ensX)\n",
    "y_true2, y_pred2 = finy, metaxgb.predict(finX)\n",
    "# y_true = inv_boxcox(y_true, lmda)\n",
    "# y_pred = inv_boxcox(y_pred, lmda)\n",
    "# y_true2 = inv_boxcox(y_true2, lmda)\n",
    "# y_pred2 = inv_boxcox(y_pred2, lmda)\n",
    "print('R2 Train: ' + str(r2_score(y_true, y_pred)))\n",
    "rmse = math.sqrt(mean_squared_error(y_true, y_pred))\n",
    "print('RMSE Train: ' + str(rmse))\n",
    "mae = mean_absolute_error(y_true, y_pred)\n",
    "print('MAE Train: ', mae)\n",
    "rmse = math.sqrt(mean_squared_error(y_true2, y_pred2))\n",
    "print('RMSE Val: ' + str(rmse))\n",
    "mae = mean_absolute_error(y_true2, y_pred2)\n",
    "print('MAE Val: ', mae)\n",
    "\n",
    "\n",
    "\n",
    "testing = pd.DataFrame({'true':y_true2[:,0], 'pred':y_pred2})\n"
   ]
  },
  {
   "cell_type": "code",
   "execution_count": 65,
   "metadata": {},
   "outputs": [
    {
     "data": {
      "image/png": "[encoded data removed]",
      "text/plain": [
       "<matplotlib.figure.Figure at 0x2ab30668>"
      ]
     },
     "metadata": {},
     "output_type": "display_data"
    },
    {
     "name": "stdout",
     "output_type": "stream",
     "text": [
      "Anderson-Darling: 2814.9712349766924 Critical Value: 0.787 \n"
     ]
    },
    {
     "data": {
      "image/png": "[encoded data removed]",
      "text/plain": [
       "<matplotlib.figure.Figure at 0x2a2175f8>"
      ]
     },
     "metadata": {},
     "output_type": "display_data"
    }
   ],
   "source": [
    "\n",
    "testing['resid'] = testing['pred']-testing['true']\n",
    "testing['stdresid'] = testing['resid']/np.std(testing['resid'])\n",
    "\n",
    "plt.plot(testing['stdresid'], '.', alpha = 0.5, color='black')\n",
    "plt.axhline(y=0, color = 'green')\n",
    "plt.axhline(y=2, color = 'blue', linestyle='--')\n",
    "plt.axhline(y=-2, color = 'blue', linestyle='--')\n",
    "plt.axhline(y=3, color = 'red', linestyle='--')\n",
    "plt.axhline(y=-3, color = 'red', linestyle='--')\n",
    "\n",
    "plt.title('Standardized Residuals')\n",
    "plt.ylabel('Standard Deviations')\n",
    "plt.xlabel('Observation Number')\n",
    "plt.show()\n",
    "\n",
    "stat, cv, sig = stats.anderson(testing['stdresid'], 'norm')\n",
    "print('Anderson-Darling: {} Critical Value: {} '.format(stat, cv[2]))\n",
    "\n",
    "plt.hist(testing['stdresid'], bins=25)\n",
    "plt.show()\n"
   ]
  },
  {
   "cell_type": "code",
   "execution_count": 66,
   "metadata": {},
   "outputs": [
    {
     "data": {
      "text/plain": [
       "((31953,), (31954,), (15977,))"
      ]
     },
     "execution_count": 66,
     "metadata": {},
     "output_type": "execute_result"
    }
   ],
   "source": [
    "train_y.shape, val_y.shape, test_y.shape"
   ]
  },
  {
   "cell_type": "code",
   "execution_count": 68,
   "metadata": {
    "collapsed": true
   },
   "outputs": [],
   "source": [
    "testing['decile'] = pd.qcut(testing['pred'], 10, labels=False)\n",
    "testing.to_csv('predictiontesting.csv')                        "
   ]
  },
  {
   "cell_type": "code",
   "execution_count": 70,
   "metadata": {},
   "outputs": [
    {
     "data": {
      "text/html": [
       "<div>\n",
       "<style>\n",
       "    .dataframe thead tr:only-child th {\n",
       "        text-align: right;\n",
       "    }\n",
       "\n",
       "    .dataframe thead th {\n",
       "        text-align: left;\n",
       "    }\n",
       "\n",
       "    .dataframe tbody tr th {\n",
       "        vertical-align: top;\n",
       "    }\n",
       "</style>\n",
       "<table border=\"1\" class=\"dataframe\">\n",
       "  <thead>\n",
       "    <tr style=\"text-align: right;\">\n",
       "      <th></th>\n",
       "      <th>pred</th>\n",
       "      <th>true</th>\n",
       "      <th>resid</th>\n",
       "      <th>stdresid</th>\n",
       "      <th>decile</th>\n",
       "    </tr>\n",
       "  </thead>\n",
       "  <tbody>\n",
       "    <tr>\n",
       "      <th>0</th>\n",
       "      <td>7.348564</td>\n",
       "      <td>34.12</td>\n",
       "      <td>-26.771436</td>\n",
       "      <td>-0.177793</td>\n",
       "      <td>2</td>\n",
       "    </tr>\n",
       "    <tr>\n",
       "      <th>1</th>\n",
       "      <td>6.790408</td>\n",
       "      <td>0.00</td>\n",
       "      <td>6.790408</td>\n",
       "      <td>0.045096</td>\n",
       "      <td>1</td>\n",
       "    </tr>\n",
       "    <tr>\n",
       "      <th>2</th>\n",
       "      <td>52.349049</td>\n",
       "      <td>0.00</td>\n",
       "      <td>52.349049</td>\n",
       "      <td>0.347658</td>\n",
       "      <td>7</td>\n",
       "    </tr>\n",
       "    <tr>\n",
       "      <th>3</th>\n",
       "      <td>81.302559</td>\n",
       "      <td>205.89</td>\n",
       "      <td>-124.587441</td>\n",
       "      <td>-0.827404</td>\n",
       "      <td>8</td>\n",
       "    </tr>\n",
       "    <tr>\n",
       "      <th>4</th>\n",
       "      <td>11.762297</td>\n",
       "      <td>0.00</td>\n",
       "      <td>11.762297</td>\n",
       "      <td>0.078115</td>\n",
       "      <td>4</td>\n",
       "    </tr>\n",
       "  </tbody>\n",
       "</table>\n",
       "</div>"
      ],
      "text/plain": [
       "        pred    true       resid  stdresid  decile\n",
       "0   7.348564   34.12  -26.771436 -0.177793       2\n",
       "1   6.790408    0.00    6.790408  0.045096       1\n",
       "2  52.349049    0.00   52.349049  0.347658       7\n",
       "3  81.302559  205.89 -124.587441 -0.827404       8\n",
       "4  11.762297    0.00   11.762297  0.078115       4"
      ]
     },
     "execution_count": 70,
     "metadata": {},
     "output_type": "execute_result"
    }
   ],
   "source": [
    "testing.head()"
   ]
  },
  {
   "cell_type": "code",
   "execution_count": 71,
   "metadata": {},
   "outputs": [
    {
     "data": {
      "text/plain": [
       "<function matplotlib.pyplot.show>"
      ]
     },
     "execution_count": 71,
     "metadata": {},
     "output_type": "execute_result"
    },
    {
     "data": {
      "image/png": "[encoded data removed]",
      "text/plain": [
       "<matplotlib.figure.Figure at 0x24be6da0>"
      ]
     },
     "metadata": {},
     "output_type": "display_data"
    }
   ],
   "source": [
    "plt.scatter(x=testing['pred'], y=testing['true'], )\n",
    "plt.show"
   ]
  }
 ],
 "metadata": {
  "kernelspec": {
   "display_name": "Python 3",
   "language": "python",
   "name": "python3"
  },
  "language_info": {
   "codemirror_mode": {
    "name": "ipython",
    "version": 3
   },
   "file_extension": ".py",
   "mimetype": "text/x-python",
   "name": "python",
   "nbconvert_exporter": "python",
   "pygments_lexer": "ipython3",
   "version": "3.7.6"
  }
 },
 "nbformat": 4,
 "nbformat_minor": 2
}

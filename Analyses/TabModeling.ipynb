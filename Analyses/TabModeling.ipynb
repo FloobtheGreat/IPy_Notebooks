{
 "cells": [
  {
   "cell_type": "code",
   "execution_count": 54,
   "metadata": {},
   "outputs": [],
   "source": [
    "import sys\n",
    "sys.path.insert(0, r\"C:\\users\\pairwin\\Documents\\Github\\HelperPI\")\n",
    "#sys.path.insert(0, r'/home/pirwin/Git/HelperPI')\n",
    "import itertools\n",
    "import HelperPI\n",
    "import seaborn as sns\n",
    "import pandas as pd\n",
    "import scipy.stats as stats\n",
    "import matplotlib.pyplot as plt\n",
    "import statsmodels.formula.api as sts\n",
    "import numpy as np\n",
    "import xgboost as xgb\n",
    "from sklearn.metrics import accuracy_score, confusion_matrix, roc_curve, auc, roc_auc_score, recall_score\n",
    "from sklearn.metrics import f1_score, matthews_corrcoef, make_scorer, classification_report, log_loss\n",
    "from sklearn.preprocessing import Imputer\n",
    "from sklearn.model_selection import GridSearchCV\n",
    "from sklearn.linear_model import LogisticRegression, SGDClassifier\n",
    "from sklearn.neighbors import KNeighborsClassifier\n",
    "from sklearn.neural_network import MLPClassifier\n",
    "from sklearn.svm import LinearSVC, SVC\n",
    "from sklearn.calibration import CalibratedClassifierCV\n",
    "from sklearn.externals import joblib\n",
    "from imblearn.over_sampling import SMOTE\n",
    "from sklearn.ensemble import RandomForestClassifier, ExtraTreesClassifier\n",
    "from sklearn.preprocessing import StandardScaler\n",
    "from sklearn.model_selection import StratifiedKFold\n",
    "from sklearn.gaussian_process import GaussianProcessClassifier\n",
    "from sklearn.gaussian_process.kernels import RBF\n",
    "from sklearn.naive_bayes import GaussianNB\n",
    "\n",
    "%matplotlib inline\n",
    "\n",
    "pd.options.mode.chained_assignment = None\n",
    "pd.options.display.max_columns = 999"
   ]
  },
  {
   "cell_type": "code",
   "execution_count": 3,
   "metadata": {
    "collapsed": true
   },
   "outputs": [],
   "source": [
    "def plot_confusion_matrix(cm, classes,\n",
    "                          normalize=False,\n",
    "                          title='Confusion matrix',\n",
    "                          cmap=plt.cm.Blues):\n",
    "    \"\"\"\n",
    "    This function prints and plots the confusion matrix.\n",
    "    Normalization can be applied by setting `normalize=True`.\n",
    "    \"\"\"\n",
    "    if normalize:\n",
    "        cm = cm.astype('float') / cm.sum(axis=1)[:, np.newaxis]\n",
    "        print(\"Normalized confusion matrix\")\n",
    "    else:\n",
    "        print('Confusion matrix, without normalization')\n",
    "\n",
    "    print(cm)\n",
    "\n",
    "    plt.imshow(cm, interpolation='nearest', cmap=cmap)\n",
    "    plt.title(title)\n",
    "    plt.colorbar()\n",
    "    tick_marks = np.arange(len(classes))\n",
    "    plt.xticks(tick_marks, classes, rotation=45)\n",
    "    plt.yticks(tick_marks, classes)\n",
    "\n",
    "    fmt = '.2f' if normalize else 'd'\n",
    "    thresh = cm.max() / 2.\n",
    "    for i, j in itertools.product(range(cm.shape[0]), range(cm.shape[1])):\n",
    "        plt.text(j, i, format(cm[i, j], fmt),\n",
    "                 horizontalalignment=\"center\",\n",
    "                 color=\"white\" if cm[i, j] > thresh else \"black\")\n",
    "\n",
    "    plt.tight_layout()\n",
    "    plt.ylabel('True label')\n",
    "    plt.xlabel('Predicted label')"
   ]
  },
  {
   "cell_type": "code",
   "execution_count": 4,
   "metadata": {},
   "outputs": [
    {
     "name": "stderr",
     "output_type": "stream",
     "text": [
      "INFO:root:Initializing...\n"
     ]
    }
   ],
   "source": [
    "helper = HelperPI.Helper()"
   ]
  },
  {
   "cell_type": "code",
   "execution_count": 5,
   "metadata": {
    "collapsed": true
   },
   "outputs": [],
   "source": [
    "#sql = helper.getSQL(r\"C:\\users\\pairwin\\Documents\\GitHub\\IPy_Notebooks\\SQL\\TAB_MODELING.sql\")"
   ]
  },
  {
   "cell_type": "code",
   "execution_count": 6,
   "metadata": {},
   "outputs": [
    {
     "name": "stderr",
     "output_type": "stream",
     "text": [
      "INFO:root:Getting data types...\n"
     ]
    },
    {
     "name": "stdout",
     "output_type": "stream",
     "text": [
      "                  Count     Column Type\n",
      "0            DATE_VALUE  datetime64[ns]\n",
      "1                RECORD          object\n",
      "2            MEDHINC_CY         float64\n",
      "3             MEDAGE_CY         float64\n",
      "4            CLOSEST_BP         float64\n",
      "5           CLOSEST_CAB         float64\n",
      "6     MALES_IN_HOUSHOLD           int64\n",
      "7   FEMALES_IN_HOUSHOLD           int64\n",
      "8      REWARDS_CUSTOMER           int64\n",
      "9      DAYS_AS_CUSTOMER           int64\n",
      "10   TOTAL_TRANSACTIONS           int64\n",
      "11     REW_TRANSACTIONS           int64\n",
      "12          TOTAL_SPEND         float64\n",
      "13  DAYS_SINCE_PURCHASE           int64\n",
      "14     TARGET_VALUE12MO         float64\n",
      "15  TARGET_PURCH_NEXT15           int64\n",
      "16       DAYS_BTW_PURCH         float64\n"
     ]
    }
   ],
   "source": [
    "#base, dtypesdf = helper.readData(sql)\n",
    "base = pd.read_csv(r'C:\\users\\pairwin\\Documents\\GitHub\\IPy_Notebooks\\SQL\\tab_model.csv', parse_dates=['DATE_VALUE'])\n",
    "#base = pd.read_csv(r'/home/pirwin/Git/IPy_Notebooks/SQL/tab_model.csv',parse_dates=['DATE_VALUE'])\n",
    "base['DAYS_BTW_PURCH'] = base['DAYS_AS_CUSTOMER']/base['TOTAL_TRANSACTIONS']\n",
    "dtypes = helper.getDtypes(base)"
   ]
  },
  {
   "cell_type": "markdown",
   "metadata": {},
   "source": [
    "### Imputing missing then Splitting the data for train and test using helper application"
   ]
  },
  {
   "cell_type": "code",
   "execution_count": 7,
   "metadata": {
    "collapsed": true
   },
   "outputs": [],
   "source": [
    "collist = ['MEDHINC_CY','MEDAGE_CY','CLOSEST_BP','MALES_IN_HOUSHOLD','FEMALES_IN_HOUSHOLD','REWARDS_CUSTOMER',\n",
    "          'DAYS_AS_CUSTOMER','TOTAL_TRANSACTIONS','REW_TRANSACTIONS','TOTAL_SPEND','DAYS_SINCE_PURCHASE',\n",
    "          'DAYS_BTW_PURCH']\n",
    "X = base[collist]\n",
    "y = base['TARGET_PURCH_NEXT15']\n"
   ]
  },
  {
   "cell_type": "markdown",
   "metadata": {},
   "source": [
    "### Determination of missing values"
   ]
  },
  {
   "cell_type": "code",
   "execution_count": 8,
   "metadata": {},
   "outputs": [
    {
     "data": {
      "text/html": [
       "<div>\n",
       "<style>\n",
       "    .dataframe thead tr:only-child th {\n",
       "        text-align: right;\n",
       "    }\n",
       "\n",
       "    .dataframe thead th {\n",
       "        text-align: left;\n",
       "    }\n",
       "\n",
       "    .dataframe tbody tr th {\n",
       "        vertical-align: top;\n",
       "    }\n",
       "</style>\n",
       "<table border=\"1\" class=\"dataframe\">\n",
       "  <thead>\n",
       "    <tr style=\"text-align: right;\">\n",
       "      <th></th>\n",
       "      <th>column_name</th>\n",
       "      <th>missing_count</th>\n",
       "      <th>missing_ratio</th>\n",
       "    </tr>\n",
       "  </thead>\n",
       "  <tbody>\n",
       "    <tr>\n",
       "      <th>0</th>\n",
       "      <td>MEDHINC_CY</td>\n",
       "      <td>3792</td>\n",
       "      <td>0.03792</td>\n",
       "    </tr>\n",
       "    <tr>\n",
       "      <th>1</th>\n",
       "      <td>MEDAGE_CY</td>\n",
       "      <td>3792</td>\n",
       "      <td>0.03792</td>\n",
       "    </tr>\n",
       "  </tbody>\n",
       "</table>\n",
       "</div>"
      ],
      "text/plain": [
       "  column_name  missing_count  missing_ratio\n",
       "0  MEDHINC_CY           3792        0.03792\n",
       "1   MEDAGE_CY           3792        0.03792"
      ]
     },
     "execution_count": 8,
     "metadata": {},
     "output_type": "execute_result"
    }
   ],
   "source": [
    "missing_df = X.isnull().sum(axis=0).reset_index()\n",
    "missing_df.columns = ['column_name', 'missing_count']\n",
    "missing_df['missing_ratio'] = missing_df['missing_count'] / X.shape[0]\n",
    "missing_df.loc[missing_df['missing_ratio']>0.01]"
   ]
  },
  {
   "cell_type": "code",
   "execution_count": 9,
   "metadata": {},
   "outputs": [
    {
     "name": "stdout",
     "output_type": "stream",
     "text": [
      "MEDHINC_CY Coef: -0.01  pval:  0.1072\n",
      "MEDAGE_CY Coef: 0.03  pval:  0.0000\n",
      "CLOSEST_BP Coef: -0.01  pval:  0.0001\n",
      "MALES_IN_HOUSHOLD Coef: 0.18  pval:  0.0000\n",
      "FEMALES_IN_HOUSHOLD Coef: 0.04  pval:  0.0000\n",
      "REWARDS_CUSTOMER Coef: 0.34  pval:  0.0000\n",
      "DAYS_AS_CUSTOMER Coef: 0.06  pval:  0.0000\n",
      "TOTAL_TRANSACTIONS Coef: 0.30  pval:  0.0000\n",
      "REW_TRANSACTIONS Coef: 0.27  pval:  0.0000\n",
      "TOTAL_SPEND Coef: 0.36  pval:  0.0000\n",
      "DAYS_SINCE_PURCHASE Coef: -0.38  pval:  0.0000\n",
      "DAYS_BTW_PURCH Coef: -0.34  pval:  0.0000\n"
     ]
    },
    {
     "data": {
      "text/plain": [
       "<matplotlib.axes._subplots.AxesSubplot at 0xd1fe470>"
      ]
     },
     "execution_count": 9,
     "metadata": {},
     "output_type": "execute_result"
    },
    {
     "data": {
      "image/png": "[encoded data removed]",
      "text/plain": [
       "<matplotlib.figure.Figure at 0xd202eb8>"
      ]
     },
     "metadata": {},
     "output_type": "display_data"
    }
   ],
   "source": [
    "\n",
    "imr = Imputer(missing_values='NaN',strategy='median',axis=0)\n",
    "imr = imr.fit(X)\n",
    "imputed_data = pd.DataFrame(imr.transform(X.values), columns = collist)\n",
    "\n",
    "for var in collist:\n",
    "    coef, pval = stats.pearsonr(imputed_data[var].as_matrix(), y.as_matrix())\n",
    "    \n",
    "    print(var + ' Coef: %.2f  pval:  %.4f' % (coef, pval))\n",
    "\n",
    "\n",
    "collist2 = ['MEDAGE_CY','CLOSEST_BP','MALES_IN_HOUSHOLD','REWARDS_CUSTOMER',\n",
    "          'DAYS_AS_CUSTOMER','TOTAL_SPEND','DAYS_SINCE_PURCHASE']\n",
    "\n",
    "imputed_data2 = imputed_data[collist2]\n",
    "    \n",
    "corr = imputed_data2.corr()\n",
    "\n",
    "# Generate a mask for the upper triangle\n",
    "mask = np.zeros_like(corr, dtype=np.bool)\n",
    "mask[np.triu_indices_from(mask)] = True\n",
    "\n",
    "# Set up the matplotlib figure\n",
    "f, ax = plt.subplots(figsize=(11, 9))\n",
    "\n",
    "# Generate a custom diverging colormap\n",
    "cmap = sns.diverging_palette(220, 10, as_cmap=True)\n",
    "\n",
    "# Draw the heatmap with the mask and correct aspect ratio\n",
    "sns.heatmap(corr, mask=mask, cmap=cmap, vmax=.99, center=0,\n",
    "            square=True, linewidths=.5, cbar_kws={\"shrink\": .5})\n",
    "\n",
    "\n",
    "    \n",
    "\n"
   ]
  },
  {
   "cell_type": "code",
   "execution_count": 10,
   "metadata": {
    "collapsed": true
   },
   "outputs": [],
   "source": [
    "train_X, test_X, train_y, test_y = helper.splitData2(imputed_data2, y, 0.3)\n",
    "\n",
    "train_X = pd.DataFrame(train_X, columns=collist2)\n",
    "test_X = pd.DataFrame(test_X, columns=collist2)"
   ]
  },
  {
   "cell_type": "code",
   "execution_count": 11,
   "metadata": {},
   "outputs": [
    {
     "data": {
      "text/html": [
       "<div>\n",
       "<style>\n",
       "    .dataframe thead tr:only-child th {\n",
       "        text-align: right;\n",
       "    }\n",
       "\n",
       "    .dataframe thead th {\n",
       "        text-align: left;\n",
       "    }\n",
       "\n",
       "    .dataframe tbody tr th {\n",
       "        vertical-align: top;\n",
       "    }\n",
       "</style>\n",
       "<table border=\"1\" class=\"dataframe\">\n",
       "  <thead>\n",
       "    <tr style=\"text-align: right;\">\n",
       "      <th></th>\n",
       "      <th>MEDAGE_CY</th>\n",
       "      <th>CLOSEST_BP</th>\n",
       "      <th>MALES_IN_HOUSHOLD</th>\n",
       "      <th>REWARDS_CUSTOMER</th>\n",
       "      <th>DAYS_AS_CUSTOMER</th>\n",
       "      <th>TOTAL_SPEND</th>\n",
       "      <th>DAYS_SINCE_PURCHASE</th>\n",
       "    </tr>\n",
       "  </thead>\n",
       "  <tbody>\n",
       "    <tr>\n",
       "      <th>42865</th>\n",
       "      <td>32.0</td>\n",
       "      <td>5.93</td>\n",
       "      <td>1.0</td>\n",
       "      <td>0.0</td>\n",
       "      <td>1634.0</td>\n",
       "      <td>299.99</td>\n",
       "      <td>571.0</td>\n",
       "    </tr>\n",
       "    <tr>\n",
       "      <th>91446</th>\n",
       "      <td>37.0</td>\n",
       "      <td>29.71</td>\n",
       "      <td>1.0</td>\n",
       "      <td>1.0</td>\n",
       "      <td>3821.0</td>\n",
       "      <td>3121.45</td>\n",
       "      <td>205.0</td>\n",
       "    </tr>\n",
       "    <tr>\n",
       "      <th>66374</th>\n",
       "      <td>33.0</td>\n",
       "      <td>13.47</td>\n",
       "      <td>1.0</td>\n",
       "      <td>1.0</td>\n",
       "      <td>351.0</td>\n",
       "      <td>192.85</td>\n",
       "      <td>66.0</td>\n",
       "    </tr>\n",
       "    <tr>\n",
       "      <th>79106</th>\n",
       "      <td>34.0</td>\n",
       "      <td>19.09</td>\n",
       "      <td>0.0</td>\n",
       "      <td>0.0</td>\n",
       "      <td>3195.0</td>\n",
       "      <td>155.81</td>\n",
       "      <td>2063.0</td>\n",
       "    </tr>\n",
       "    <tr>\n",
       "      <th>13404</th>\n",
       "      <td>39.0</td>\n",
       "      <td>52.51</td>\n",
       "      <td>1.0</td>\n",
       "      <td>1.0</td>\n",
       "      <td>3383.0</td>\n",
       "      <td>1060.54</td>\n",
       "      <td>649.0</td>\n",
       "    </tr>\n",
       "  </tbody>\n",
       "</table>\n",
       "</div>"
      ],
      "text/plain": [
       "       MEDAGE_CY  CLOSEST_BP  MALES_IN_HOUSHOLD  REWARDS_CUSTOMER  \\\n",
       "42865       32.0        5.93                1.0               0.0   \n",
       "91446       37.0       29.71                1.0               1.0   \n",
       "66374       33.0       13.47                1.0               1.0   \n",
       "79106       34.0       19.09                0.0               0.0   \n",
       "13404       39.0       52.51                1.0               1.0   \n",
       "\n",
       "       DAYS_AS_CUSTOMER  TOTAL_SPEND  DAYS_SINCE_PURCHASE  \n",
       "42865            1634.0       299.99                571.0  \n",
       "91446            3821.0      3121.45                205.0  \n",
       "66374             351.0       192.85                 66.0  \n",
       "79106            3195.0       155.81               2063.0  \n",
       "13404            3383.0      1060.54                649.0  "
      ]
     },
     "execution_count": 11,
     "metadata": {},
     "output_type": "execute_result"
    }
   ],
   "source": [
    "train_X.head()"
   ]
  },
  {
   "cell_type": "code",
   "execution_count": 12,
   "metadata": {
    "collapsed": true
   },
   "outputs": [],
   "source": [
    "#sns.pairplot(train_X)\n",
    "#sns.plt.savefig('Scattermatrix.png')\n",
    "#plt.show()"
   ]
  },
  {
   "cell_type": "code",
   "execution_count": 13,
   "metadata": {},
   "outputs": [
    {
     "name": "stderr",
     "output_type": "stream",
     "text": [
      "INFO:imblearn.base:Compute classes statistics ...\n",
      "INFO:imblearn.base:2 classes detected: Counter({0: 56734, 1: 13266})\n",
      "INFO:imblearn.base:Generated 43468 new samples ...\n"
     ]
    }
   ],
   "source": [
    "\n",
    "stdsc = StandardScaler()\n",
    "train_X_std = pd.DataFrame(stdsc.fit_transform(train_X), columns=collist2)\n",
    "test_X_std = pd.DataFrame(stdsc.fit_transform(test_X), columns=collist2)\n",
    "\n",
    "sm = SMOTE(random_state=123, ratio=1.0)\n",
    "train_X_std_res, train_y_res = sm.fit_sample(train_X_std, train_y)\n",
    "\n",
    "#train_X_std_res = pd.DataFrame(train_X_std_res, columns = collist2)\n",
    "#train_y_res = pd.DataFrame(train_y_res)\n",
    "\n",
    "#sns.pairplot(train_X_std)\n",
    "#sns.plt.savefig('Scattermatrix.png')\n",
    "#plt.show()"
   ]
  },
  {
   "cell_type": "code",
   "execution_count": 14,
   "metadata": {},
   "outputs": [
    {
     "name": "stdout",
     "output_type": "stream",
     "text": [
      "13266 70000\n",
      "\n"
     ]
    }
   ],
   "source": [
    "print(sum(train_y), len(train_y))\n",
    "print()"
   ]
  },
  {
   "cell_type": "code",
   "execution_count": 15,
   "metadata": {},
   "outputs": [
    {
     "data": {
      "text/plain": [
       "(5663, 30000)"
      ]
     },
     "execution_count": 15,
     "metadata": {},
     "output_type": "execute_result"
    }
   ],
   "source": [
    "sum(test_y), len(test_y)"
   ]
  },
  {
   "cell_type": "code",
   "execution_count": 16,
   "metadata": {
    "scrolled": false
   },
   "outputs": [
    {
     "name": "stdout",
     "output_type": "stream",
     "text": [
      " 1) DAYS_SINCE_PURCHASE            0.338979\n",
      " 2) TOTAL_SPEND                    0.217151\n",
      " 3) DAYS_AS_CUSTOMER               0.133841\n",
      " 4) CLOSEST_BP                     0.119028\n",
      " 5) MEDAGE_CY                      0.102959\n",
      " 6) REWARDS_CUSTOMER               0.064600\n",
      " 7) MALES_IN_HOUSHOLD              0.023442\n"
     ]
    },
    {
     "data": {
      "image/png": "[encoded data removed]",
      "text/plain": [
       "<matplotlib.figure.Figure at 0xe3f40f0>"
      ]
     },
     "metadata": {},
     "output_type": "display_data"
    }
   ],
   "source": [
    "from sklearn.ensemble import RandomForestClassifier\n",
    "\n",
    "feat_labels = np.asarray(collist2)\n",
    "\n",
    "forests = RandomForestClassifier(n_estimators=300,\n",
    "                                random_state=0,\n",
    "                                n_jobs=-1)\n",
    "forests.fit(train_X_std_res, train_y_res)\n",
    "importances = forests.feature_importances_\n",
    "indices = np.argsort(importances)[::-1]\n",
    "for f in range(train_X_std_res.shape[1]):\n",
    "    print(\"%2d) %-*s %f\" % (f + 1, 30, feat_labels[indices[f]],\n",
    "                                      importances[indices[f]]))\n",
    "    \n",
    "plt.title('Feature Importance')\n",
    "plt.bar(range(train_X_std_res.shape[1]), importances[indices], color='lightblue', align='center')\n",
    "plt.xticks(range(train_X_std_res.shape[1]), feat_labels[indices], rotation=90)\n",
    "plt.xlim([-1, train_X_std_res.shape[1]])\n",
    "plt.tight_layout()\n",
    "plt.show()"
   ]
  },
  {
   "cell_type": "markdown",
   "metadata": {},
   "source": [
    "### Parameter Tuning Version"
   ]
  },
  {
   "cell_type": "code",
   "execution_count": 17,
   "metadata": {
    "collapsed": true
   },
   "outputs": [],
   "source": [
    "def modelfit(alg, dtrain, dlabels, feature_names, useTrainCV=True, cv_folds=5, early_stopping_rounds=50):\n",
    "\n",
    "    if useTrainCV:\n",
    "        xgb_param = alg.get_xgb_params()\n",
    "        xgtrain = xgb.DMatrix(dtrain.values, label=dlabels.values, feature_names = feature_names)\n",
    "        cvresult = xgb.cv(xgb_param, xgtrain, num_boost_round=alg.get_params()['n_estimators'], nfold=cv_folds,\n",
    "                          metrics='auc', early_stopping_rounds=early_stopping_rounds, verbose_eval=False)\n",
    "        alg.set_params(n_estimators=cvresult.shape[0])\n",
    "\n",
    "    alg.fit(dtrain, dlabels, eval_metric='auc')\n",
    "\n",
    "    dtrain_predictions = alg.predict(dtrain)\n",
    "    dtrain_predprob = alg.predict_proba(dtrain)[:,1]\n",
    "\n",
    "    #Print model report:\n",
    "    print(\"\\nModel Report\")\n",
    "    print(\"Accuracy : %.4g\" % accuracy_score(dlabels.values, dtrain_predictions))\n",
    "    print(\"AUC Score (Train): %f\" % roc_auc_score(dlabels.values, dtrain_predprob))\n",
    "\n",
    "    feat_imp = pd.Series(alg.booster().get_fscore()).sort_values(ascending=False)\n",
    "    feat_imp.plot(kind='bar', title='Feature Importances')\n",
    "    plt.ylabel('Feature Importance Score')\n",
    "    \n",
    "    \n",
    "    "
   ]
  },
  {
   "cell_type": "code",
   "execution_count": 25,
   "metadata": {
    "scrolled": false
   },
   "outputs": [
    {
     "name": "stdout",
     "output_type": "stream",
     "text": [
      "\n",
      "Model Report\n",
      "Accuracy : 0.8702\n",
      "AUC Score (Train): 0.888145\n"
     ]
    },
    {
     "data": {
      "image/png": "[encoded data removed]",
      "text/plain": [
       "<matplotlib.figure.Figure at 0x7f8b9e3dca58>"
      ]
     },
     "metadata": {},
     "output_type": "display_data"
    }
   ],
   "source": [
    "xgb1 = xgb.XGBClassifier(\n",
    "    learning_rate = 0.07,\n",
    "    n_estimators = 1000,\n",
    "    max_depth = 5,\n",
    "    min_child_weight = 1,\n",
    "    gamma = 0,\n",
    "    subsample = 0.7,\n",
    "    colsample_bytree = 0.7,\n",
    "    objective = 'binary:logistic',\n",
    "    scale_pos_weight = 1,\n",
    "    seed = 27)\n",
    "\n",
    "modelfit(xgb1, train_X_std, train_y, collist2)"
   ]
  },
  {
   "cell_type": "code",
   "execution_count": 26,
   "metadata": {},
   "outputs": [
    {
     "data": {
      "text/plain": [
       "make_scorer(roc_auc_score, average=weighted)"
      ]
     },
     "execution_count": 26,
     "metadata": {},
     "output_type": "execute_result"
    }
   ],
   "source": [
    "auc_weighted = make_scorer(roc_auc_score, average='weighted')\n",
    "auc_weighted"
   ]
  },
  {
   "cell_type": "code",
   "execution_count": 27,
   "metadata": {},
   "outputs": [
    {
     "name": "stderr",
     "output_type": "stream",
     "text": [
      "/home/pirwin/.local/lib/python3.5/site-packages/sklearn/model_selection/_search.py:747: DeprecationWarning: The grid_scores_ attribute was deprecated in version 0.18 in favor of the more elaborate cv_results_ attribute. The grid_scores_ attribute will not be available from 0.20\n",
      "  DeprecationWarning)\n"
     ]
    },
    {
     "data": {
      "text/plain": [
       "([mean: 0.82882, std: 0.02583, params: {'min_child_weight': 1, 'max_depth': 3},\n",
       "  mean: 0.82867, std: 0.02572, params: {'min_child_weight': 3, 'max_depth': 3},\n",
       "  mean: 0.82854, std: 0.02577, params: {'min_child_weight': 5, 'max_depth': 3},\n",
       "  mean: 0.84933, std: 0.03858, params: {'min_child_weight': 1, 'max_depth': 5},\n",
       "  mean: 0.84964, std: 0.03840, params: {'min_child_weight': 3, 'max_depth': 5},\n",
       "  mean: 0.84929, std: 0.03892, params: {'min_child_weight': 5, 'max_depth': 5},\n",
       "  mean: 0.85801, std: 0.04460, params: {'min_child_weight': 1, 'max_depth': 7},\n",
       "  mean: 0.85716, std: 0.04428, params: {'min_child_weight': 3, 'max_depth': 7},\n",
       "  mean: 0.85721, std: 0.04409, params: {'min_child_weight': 5, 'max_depth': 7},\n",
       "  mean: 0.86387, std: 0.04740, params: {'min_child_weight': 1, 'max_depth': 9},\n",
       "  mean: 0.86321, std: 0.04671, params: {'min_child_weight': 3, 'max_depth': 9},\n",
       "  mean: 0.86186, std: 0.04743, params: {'min_child_weight': 5, 'max_depth': 9},\n",
       "  mean: 0.86880, std: 0.04954, params: {'min_child_weight': 1, 'max_depth': 11},\n",
       "  mean: 0.86654, std: 0.04939, params: {'min_child_weight': 3, 'max_depth': 11},\n",
       "  mean: 0.86662, std: 0.04837, params: {'min_child_weight': 5, 'max_depth': 11}],\n",
       " {'max_depth': 11, 'min_child_weight': 1},\n",
       " 0.86880049349766131)"
      ]
     },
     "execution_count": 27,
     "metadata": {},
     "output_type": "execute_result"
    }
   ],
   "source": [
    "param_test1 = {\n",
    "    'max_depth':list(range(3,12,2)),\n",
    "    'min_child_weight':list(range(1,6,2))\n",
    "}\n",
    "\n",
    "gsearch1 = GridSearchCV(estimator = xgb.XGBClassifier( learning_rate =0.1, n_estimators=140, max_depth=5,\n",
    "     min_child_weight=1, gamma=0, subsample=0.7, colsample_bytree=0.7,\n",
    "     objective= 'binary:logistic', nthread=4, scale_pos_weight=1, seed=27),\n",
    "     param_grid = param_test1, scoring=auc_weighted, iid=False, cv=5)\n",
    "\n",
    "gsearch1.fit(train_X_std_res, train_y_res)\n",
    "\n",
    "gsearch1.grid_scores_, gsearch1.best_params_, gsearch1.best_score_"
   ]
  },
  {
   "cell_type": "code",
   "execution_count": 32,
   "metadata": {},
   "outputs": [
    {
     "name": "stderr",
     "output_type": "stream",
     "text": [
      "/home/pirwin/.local/lib/python3.5/site-packages/sklearn/model_selection/_search.py:747: DeprecationWarning: The grid_scores_ attribute was deprecated in version 0.18 in favor of the more elaborate cv_results_ attribute. The grid_scores_ attribute will not be available from 0.20\n",
      "  DeprecationWarning)\n"
     ]
    },
    {
     "data": {
      "text/plain": [
       "([mean: 0.86371, std: 0.04778, params: {'min_child_weight': 0, 'max_depth': 9},\n",
       "  mean: 0.86387, std: 0.04740, params: {'min_child_weight': 1, 'max_depth': 9},\n",
       "  mean: 0.86326, std: 0.04760, params: {'min_child_weight': 2, 'max_depth': 9},\n",
       "  mean: 0.86682, std: 0.04827, params: {'min_child_weight': 0, 'max_depth': 10},\n",
       "  mean: 0.86644, std: 0.04772, params: {'min_child_weight': 1, 'max_depth': 10},\n",
       "  mean: 0.86566, std: 0.04869, params: {'min_child_weight': 2, 'max_depth': 10},\n",
       "  mean: 0.86892, std: 0.04861, params: {'min_child_weight': 0, 'max_depth': 11},\n",
       "  mean: 0.86880, std: 0.04954, params: {'min_child_weight': 1, 'max_depth': 11},\n",
       "  mean: 0.86775, std: 0.04906, params: {'min_child_weight': 2, 'max_depth': 11},\n",
       "  mean: 0.87118, std: 0.04826, params: {'min_child_weight': 0, 'max_depth': 12},\n",
       "  mean: 0.87006, std: 0.04958, params: {'min_child_weight': 1, 'max_depth': 12},\n",
       "  mean: 0.86897, std: 0.05030, params: {'min_child_weight': 2, 'max_depth': 12}],\n",
       " {'max_depth': 12, 'min_child_weight': 0},\n",
       " 0.87118001978234749)"
      ]
     },
     "execution_count": 32,
     "metadata": {},
     "output_type": "execute_result"
    }
   ],
   "source": [
    "#max_depth = 11\n",
    "#min_child_weight = 1\n",
    "\n",
    "\n",
    "param_test2 = {\n",
    "    'max_depth': [9, 10,11,12],\n",
    "    'min_child_weight':[0,1,2]\n",
    "}\n",
    "\n",
    "gsearch2 = GridSearchCV(estimator = xgb.XGBClassifier( learning_rate =0.1, n_estimators=140, max_depth=11,\n",
    "     min_child_weight=1, gamma=0, subsample=0.7, colsample_bytree=0.7,\n",
    "     objective= 'binary:logistic', nthread=4, scale_pos_weight=1, seed=27),\n",
    "     param_grid = param_test2, scoring=auc_weighted, iid=False, cv=5)\n",
    "\n",
    "gsearch2.fit(train_X_std_res, train_y_res)\n",
    "\n",
    "gsearch2.grid_scores_, gsearch2.best_params_, gsearch2.best_score_"
   ]
  },
  {
   "cell_type": "code",
   "execution_count": 33,
   "metadata": {},
   "outputs": [
    {
     "name": "stderr",
     "output_type": "stream",
     "text": [
      "/home/pirwin/.local/lib/python3.5/site-packages/sklearn/model_selection/_search.py:747: DeprecationWarning: The grid_scores_ attribute was deprecated in version 0.18 in favor of the more elaborate cv_results_ attribute. The grid_scores_ attribute will not be available from 0.20\n",
      "  DeprecationWarning)\n"
     ]
    },
    {
     "data": {
      "text/plain": [
       "([mean: 0.87118, std: 0.04826, params: {'gamma': 0.0},\n",
       "  mean: 0.87129, std: 0.04914, params: {'gamma': 0.1},\n",
       "  mean: 0.87065, std: 0.04847, params: {'gamma': 0.2},\n",
       "  mean: 0.87099, std: 0.04936, params: {'gamma': 0.3},\n",
       "  mean: 0.87139, std: 0.04972, params: {'gamma': 0.4}],\n",
       " {'gamma': 0.4},\n",
       " 0.87139156982300148)"
      ]
     },
     "execution_count": 33,
     "metadata": {},
     "output_type": "execute_result"
    }
   ],
   "source": [
    "#max_depth = 12\n",
    "#min_child_weight = 0\n",
    "\n",
    "\n",
    "param_test3 = {\n",
    "    'gamma':[i/10.0 for i in range(0,5)]\n",
    "}\n",
    "\n",
    "gsearch3 = GridSearchCV(estimator = xgb.XGBClassifier( learning_rate =0.1, n_estimators=140, max_depth=12,\n",
    "     min_child_weight=0, gamma=0, subsample=0.7, colsample_bytree=0.7,\n",
    "     objective= 'binary:logistic', nthread=4, scale_pos_weight=1, seed=27),\n",
    "     param_grid = param_test3, scoring=auc_weighted, iid=False, cv=5)\n",
    "\n",
    "gsearch3.fit(train_X_std_res, train_y_res)\n",
    "\n",
    "gsearch3.grid_scores_, gsearch3.best_params_, gsearch3.best_score_"
   ]
  },
  {
   "cell_type": "code",
   "execution_count": 34,
   "metadata": {},
   "outputs": [
    {
     "name": "stderr",
     "output_type": "stream",
     "text": [
      "/home/pirwin/.local/lib/python3.5/site-packages/sklearn/model_selection/_search.py:747: DeprecationWarning: The grid_scores_ attribute was deprecated in version 0.18 in favor of the more elaborate cv_results_ attribute. The grid_scores_ attribute will not be available from 0.20\n",
      "  DeprecationWarning)\n"
     ]
    },
    {
     "data": {
      "text/plain": [
       "([mean: 0.87092, std: 0.04919, params: {'gamma': 0.35},\n",
       "  mean: 0.87139, std: 0.04972, params: {'gamma': 0.4},\n",
       "  mean: 0.87125, std: 0.04918, params: {'gamma': 0.45}],\n",
       " {'gamma': 0.4},\n",
       " 0.87139156982300148)"
      ]
     },
     "execution_count": 34,
     "metadata": {},
     "output_type": "execute_result"
    }
   ],
   "source": [
    "#max_depth = 12\n",
    "#min_child_weight = 0\n",
    "\n",
    "\n",
    "param_test4 = {\n",
    "    'gamma':[0.35, 0.4, 0.45]\n",
    "}\n",
    "\n",
    "gsearch4 = GridSearchCV(estimator = xgb.XGBClassifier( learning_rate =0.1, n_estimators=140, max_depth=12,\n",
    "     min_child_weight=0, gamma=0, subsample=0.7, colsample_bytree=0.7,\n",
    "     objective= 'binary:logistic', nthread=4, scale_pos_weight=1, seed=27),\n",
    "     param_grid = param_test4, scoring=auc_weighted, iid=False, cv=5)\n",
    "\n",
    "gsearch4.fit(train_X_std_res, train_y_res)\n",
    "\n",
    "gsearch4.grid_scores_, gsearch4.best_params_, gsearch4.best_score_"
   ]
  },
  {
   "cell_type": "code",
   "execution_count": 35,
   "metadata": {
    "scrolled": true
   },
   "outputs": [
    {
     "name": "stderr",
     "output_type": "stream",
     "text": [
      "/home/pirwin/.local/lib/python3.5/site-packages/sklearn/model_selection/_search.py:747: DeprecationWarning: The grid_scores_ attribute was deprecated in version 0.18 in favor of the more elaborate cv_results_ attribute. The grid_scores_ attribute will not be available from 0.20\n",
      "  DeprecationWarning)\n"
     ]
    },
    {
     "data": {
      "text/plain": [
       "([mean: 0.86458, std: 0.05116, params: {'colsample_bytree': 0.5, 'subsample': 0.5},\n",
       "  mean: 0.86505, std: 0.05201, params: {'colsample_bytree': 0.5, 'subsample': 0.6},\n",
       "  mean: 0.86681, std: 0.05185, params: {'colsample_bytree': 0.5, 'subsample': 0.7},\n",
       "  mean: 0.86704, std: 0.05163, params: {'colsample_bytree': 0.5, 'subsample': 0.8},\n",
       "  mean: 0.86744, std: 0.05230, params: {'colsample_bytree': 0.5, 'subsample': 0.9},\n",
       "  mean: 0.86753, std: 0.05300, params: {'colsample_bytree': 0.5, 'subsample': 1.0},\n",
       "  mean: 0.86911, std: 0.04760, params: {'colsample_bytree': 0.6, 'subsample': 0.5},\n",
       "  mean: 0.87114, std: 0.04859, params: {'colsample_bytree': 0.6, 'subsample': 0.6},\n",
       "  mean: 0.87139, std: 0.04972, params: {'colsample_bytree': 0.6, 'subsample': 0.7},\n",
       "  mean: 0.87200, std: 0.04900, params: {'colsample_bytree': 0.6, 'subsample': 0.8},\n",
       "  mean: 0.87264, std: 0.04920, params: {'colsample_bytree': 0.6, 'subsample': 0.9},\n",
       "  mean: 0.87300, std: 0.05026, params: {'colsample_bytree': 0.6, 'subsample': 1.0},\n",
       "  mean: 0.86911, std: 0.04760, params: {'colsample_bytree': 0.7, 'subsample': 0.5},\n",
       "  mean: 0.87114, std: 0.04859, params: {'colsample_bytree': 0.7, 'subsample': 0.6},\n",
       "  mean: 0.87139, std: 0.04972, params: {'colsample_bytree': 0.7, 'subsample': 0.7},\n",
       "  mean: 0.87200, std: 0.04900, params: {'colsample_bytree': 0.7, 'subsample': 0.8},\n",
       "  mean: 0.87264, std: 0.04920, params: {'colsample_bytree': 0.7, 'subsample': 0.9},\n",
       "  mean: 0.87300, std: 0.05026, params: {'colsample_bytree': 0.7, 'subsample': 1.0},\n",
       "  mean: 0.87233, std: 0.04639, params: {'colsample_bytree': 0.8, 'subsample': 0.5},\n",
       "  mean: 0.87345, std: 0.04639, params: {'colsample_bytree': 0.8, 'subsample': 0.6},\n",
       "  mean: 0.87467, std: 0.04637, params: {'colsample_bytree': 0.8, 'subsample': 0.7},\n",
       "  mean: 0.87433, std: 0.04696, params: {'colsample_bytree': 0.8, 'subsample': 0.8},\n",
       "  mean: 0.87611, std: 0.04722, params: {'colsample_bytree': 0.8, 'subsample': 0.9},\n",
       "  mean: 0.87521, std: 0.04849, params: {'colsample_bytree': 0.8, 'subsample': 1.0},\n",
       "  mean: 0.87328, std: 0.04682, params: {'colsample_bytree': 0.9, 'subsample': 0.5},\n",
       "  mean: 0.87486, std: 0.04714, params: {'colsample_bytree': 0.9, 'subsample': 0.6},\n",
       "  mean: 0.87601, std: 0.04705, params: {'colsample_bytree': 0.9, 'subsample': 0.7},\n",
       "  mean: 0.87612, std: 0.04675, params: {'colsample_bytree': 0.9, 'subsample': 0.8},\n",
       "  mean: 0.87698, std: 0.04624, params: {'colsample_bytree': 0.9, 'subsample': 0.9},\n",
       "  mean: 0.87649, std: 0.04659, params: {'colsample_bytree': 0.9, 'subsample': 1.0},\n",
       "  mean: 0.87494, std: 0.04429, params: {'colsample_bytree': 1.0, 'subsample': 0.5},\n",
       "  mean: 0.87619, std: 0.04484, params: {'colsample_bytree': 1.0, 'subsample': 0.6},\n",
       "  mean: 0.87632, std: 0.04622, params: {'colsample_bytree': 1.0, 'subsample': 0.7},\n",
       "  mean: 0.87801, std: 0.04597, params: {'colsample_bytree': 1.0, 'subsample': 0.8},\n",
       "  mean: 0.87755, std: 0.04577, params: {'colsample_bytree': 1.0, 'subsample': 0.9},\n",
       "  mean: 0.87658, std: 0.04545, params: {'colsample_bytree': 1.0, 'subsample': 1.0}],\n",
       " {'colsample_bytree': 1.0, 'subsample': 0.8},\n",
       " 0.87801014628656271)"
      ]
     },
     "execution_count": 35,
     "metadata": {},
     "output_type": "execute_result"
    }
   ],
   "source": [
    "#max_depth = 12\n",
    "#min_child_weight = 0\n",
    "#gamma = 0.4\n",
    "\n",
    "param_test4 = {\n",
    "     'subsample':[i/10.0 for i in range(5,11)],\n",
    "     'colsample_bytree':[i/10.0 for i in range(5,11)],\n",
    "}\n",
    "\n",
    "gsearch4 = GridSearchCV(estimator = xgb.XGBClassifier( learning_rate =0.1, n_estimators=140, max_depth=12,\n",
    "     min_child_weight=0, gamma=0.4, subsample=0.7, colsample_bytree=0.7,\n",
    "     objective= 'binary:logistic', nthread=4, scale_pos_weight=1, seed=27),\n",
    "     param_grid = param_test4, scoring=auc_weighted, iid=False, cv=5)\n",
    "\n",
    "gsearch4.fit(train_X_std_res, train_y_res)\n",
    "\n",
    "gsearch4.grid_scores_, gsearch4.best_params_, gsearch4.best_score_"
   ]
  },
  {
   "cell_type": "code",
   "execution_count": 36,
   "metadata": {},
   "outputs": [
    {
     "name": "stderr",
     "output_type": "stream",
     "text": [
      "/home/pirwin/.local/lib/python3.5/site-packages/sklearn/model_selection/_search.py:747: DeprecationWarning: The grid_scores_ attribute was deprecated in version 0.18 in favor of the more elaborate cv_results_ attribute. The grid_scores_ attribute will not be available from 0.20\n",
      "  DeprecationWarning)\n"
     ]
    },
    {
     "data": {
      "text/plain": [
       "([mean: 0.87618, std: 0.04704, params: {'colsample_bytree': 0.9, 'subsample': 0.75},\n",
       "  mean: 0.87612, std: 0.04675, params: {'colsample_bytree': 0.9, 'subsample': 0.8},\n",
       "  mean: 0.87711, std: 0.04677, params: {'colsample_bytree': 0.9, 'subsample': 0.85},\n",
       "  mean: 0.87618, std: 0.04704, params: {'colsample_bytree': 0.95, 'subsample': 0.75},\n",
       "  mean: 0.87612, std: 0.04675, params: {'colsample_bytree': 0.95, 'subsample': 0.8},\n",
       "  mean: 0.87711, std: 0.04677, params: {'colsample_bytree': 0.95, 'subsample': 0.85},\n",
       "  mean: 0.87744, std: 0.04483, params: {'colsample_bytree': 1.0, 'subsample': 0.75},\n",
       "  mean: 0.87801, std: 0.04597, params: {'colsample_bytree': 1.0, 'subsample': 0.8},\n",
       "  mean: 0.87754, std: 0.04541, params: {'colsample_bytree': 1.0, 'subsample': 0.85}],\n",
       " {'colsample_bytree': 1.0, 'subsample': 0.8},\n",
       " 0.87801014628656271)"
      ]
     },
     "execution_count": 36,
     "metadata": {},
     "output_type": "execute_result"
    }
   ],
   "source": [
    "#max_depth = 12\n",
    "#min_child_weight = 0\n",
    "#gamma = 0.4\n",
    "#subsample = 0.8\n",
    "#colsample_bytree = 1.0\n",
    "\n",
    "param_test5 = {\n",
    "     'subsample':[0.75, 0.8, 0.85],\n",
    "     'colsample_bytree':[0.9, 0.95, 1.0],\n",
    "}\n",
    "\n",
    "gsearch5 = GridSearchCV(estimator = xgb.XGBClassifier( learning_rate =0.1, n_estimators=140, max_depth=12,\n",
    "     min_child_weight=0, gamma=0.4, subsample=0.7, colsample_bytree=0.7,\n",
    "     objective= 'binary:logistic', nthread=4, scale_pos_weight=1, seed=27),\n",
    "     param_grid = param_test5, scoring=auc_weighted, iid=False, cv=5)\n",
    "\n",
    "gsearch5.fit(train_X_std_res, train_y_res)\n",
    "\n",
    "gsearch5.grid_scores_, gsearch5.best_params_, gsearch5.best_score_"
   ]
  },
  {
   "cell_type": "code",
   "execution_count": 37,
   "metadata": {},
   "outputs": [
    {
     "name": "stderr",
     "output_type": "stream",
     "text": [
      "/home/pirwin/.local/lib/python3.5/site-packages/sklearn/model_selection/_search.py:747: DeprecationWarning: The grid_scores_ attribute was deprecated in version 0.18 in favor of the more elaborate cv_results_ attribute. The grid_scores_ attribute will not be available from 0.20\n",
      "  DeprecationWarning)\n"
     ]
    },
    {
     "data": {
      "text/plain": [
       "([mean: 0.87804, std: 0.04590, params: {'reg_alpha': 1e-05},\n",
       "  mean: 0.87822, std: 0.04614, params: {'reg_alpha': 0.01},\n",
       "  mean: 0.87745, std: 0.04644, params: {'reg_alpha': 0.1},\n",
       "  mean: 0.87702, std: 0.04644, params: {'reg_alpha': 1},\n",
       "  mean: 0.83490, std: 0.03181, params: {'reg_alpha': 100}],\n",
       " {'reg_alpha': 0.01},\n",
       " 0.87822164661579971)"
      ]
     },
     "execution_count": 37,
     "metadata": {},
     "output_type": "execute_result"
    }
   ],
   "source": [
    "#max_depth = 12\n",
    "#min_child_weight = 0\n",
    "#gamma = 0.4\n",
    "#subsample = 0.8\n",
    "#colsample_bytree = 1.0\n",
    "\n",
    "param_test6 = {\n",
    "    'reg_alpha':[1e-5, 1e-2, 0.1, 1, 100]\n",
    "}\n",
    "\n",
    "gsearch6 = GridSearchCV(estimator = xgb.XGBClassifier( learning_rate =0.1, n_estimators=140, max_depth=12,\n",
    "     min_child_weight=0, gamma=0.4, subsample=0.8, colsample_bytree=1.0,\n",
    "     objective= 'binary:logistic', nthread=4, scale_pos_weight=1, seed=27),\n",
    "     param_grid = param_test6, scoring=auc_weighted, iid=False, cv=5)\n",
    "\n",
    "gsearch6.fit(train_X_std_res, train_y_res)\n",
    "\n",
    "gsearch6.grid_scores_, gsearch6.best_params_, gsearch6.best_score_"
   ]
  },
  {
   "cell_type": "code",
   "execution_count": 39,
   "metadata": {},
   "outputs": [
    {
     "name": "stderr",
     "output_type": "stream",
     "text": [
      "/home/pirwin/.local/lib/python3.5/site-packages/sklearn/preprocessing/label.py:95: DataConversionWarning: A column-vector y was passed when a 1d array was expected. Please change the shape of y to (n_samples, ), for example using ravel().\n",
      "  y = column_or_1d(y, warn=True)\n",
      "/home/pirwin/.local/lib/python3.5/site-packages/sklearn/preprocessing/label.py:128: DataConversionWarning: A column-vector y was passed when a 1d array was expected. Please change the shape of y to (n_samples, ), for example using ravel().\n",
      "  y = column_or_1d(y, warn=True)\n"
     ]
    },
    {
     "name": "stdout",
     "output_type": "stream",
     "text": [
      "\n",
      "Model Report\n",
      "Accuracy : 0.9429\n",
      "AUC Score (Train): 0.988900\n"
     ]
    },
    {
     "data": {
      "image/png": "[encoded data removed]",
      "text/plain": [
       "<matplotlib.figure.Figure at 0x7f8b9e26ceb8>"
      ]
     },
     "metadata": {},
     "output_type": "display_data"
    }
   ],
   "source": [
    "xgb3 = xgb.XGBClassifier(\n",
    "    learning_rate = 0.01,\n",
    "    n_estimators = 1000,\n",
    "    max_depth = 12,\n",
    "    min_child_weight = 0,\n",
    "    gamma = 0.4,\n",
    "    subsample = 0.9,\n",
    "    colsample_bytree = 1.0,\n",
    "    objective = 'binary:logistic',\n",
    "    scale_pos_weight = 1,\n",
    "    reg_alpha=0.01,\n",
    "    seed = 27)\n",
    "\n",
    "modelfit(xgb3, pd.DataFrame(train_X_std_res, columns=collist2), pd.DataFrame(train_y_res), collist2)"
   ]
  },
  {
   "cell_type": "code",
   "execution_count": 18,
   "metadata": {
    "scrolled": true
   },
   "outputs": [
    {
     "name": "stdout",
     "output_type": "stream",
     "text": [
      "[0]\tvalidation_0-auc:0.909785\tvalidation_1-auc:0.829908\n",
      "Multiple eval metrics have been passed: 'validation_1-auc' will be used for early stopping.\n",
      "\n",
      "Will train until validation_1-auc hasn't improved in 100 rounds.\n",
      "[1]\tvalidation_0-auc:0.915809\tvalidation_1-auc:0.839568\n",
      "[2]\tvalidation_0-auc:0.918009\tvalidation_1-auc:0.843355\n",
      "[3]\tvalidation_0-auc:0.919976\tvalidation_1-auc:0.846606\n",
      "[4]\tvalidation_0-auc:0.920609\tvalidation_1-auc:0.84767\n",
      "[5]\tvalidation_0-auc:0.921588\tvalidation_1-auc:0.848454\n",
      "[6]\tvalidation_0-auc:0.922108\tvalidation_1-auc:0.849572\n",
      "[7]\tvalidation_0-auc:0.923017\tvalidation_1-auc:0.849019\n",
      "[8]\tvalidation_0-auc:0.923604\tvalidation_1-auc:0.850445\n",
      "[9]\tvalidation_0-auc:0.923839\tvalidation_1-auc:0.850271\n",
      "[10]\tvalidation_0-auc:0.924321\tvalidation_1-auc:0.850814\n",
      "[11]\tvalidation_0-auc:0.924399\tvalidation_1-auc:0.851254\n",
      "[12]\tvalidation_0-auc:0.924547\tvalidation_1-auc:0.851349\n",
      "[13]\tvalidation_0-auc:0.92489\tvalidation_1-auc:0.8517\n",
      "[14]\tvalidation_0-auc:0.925225\tvalidation_1-auc:0.851852\n",
      "[15]\tvalidation_0-auc:0.925319\tvalidation_1-auc:0.851697\n",
      "[16]\tvalidation_0-auc:0.925471\tvalidation_1-auc:0.851581\n",
      "[17]\tvalidation_0-auc:0.925816\tvalidation_1-auc:0.852398\n",
      "[18]\tvalidation_0-auc:0.925956\tvalidation_1-auc:0.853208\n",
      "[19]\tvalidation_0-auc:0.926077\tvalidation_1-auc:0.853156\n",
      "[20]\tvalidation_0-auc:0.926359\tvalidation_1-auc:0.853199\n",
      "[21]\tvalidation_0-auc:0.92652\tvalidation_1-auc:0.853711\n",
      "[22]\tvalidation_0-auc:0.926718\tvalidation_1-auc:0.853635\n",
      "[23]\tvalidation_0-auc:0.9269\tvalidation_1-auc:0.854149\n",
      "[24]\tvalidation_0-auc:0.927205\tvalidation_1-auc:0.854365\n",
      "[25]\tvalidation_0-auc:0.927553\tvalidation_1-auc:0.854489\n",
      "[26]\tvalidation_0-auc:0.927796\tvalidation_1-auc:0.854359\n",
      "[27]\tvalidation_0-auc:0.928075\tvalidation_1-auc:0.854652\n",
      "[28]\tvalidation_0-auc:0.92826\tvalidation_1-auc:0.854679\n",
      "[29]\tvalidation_0-auc:0.928482\tvalidation_1-auc:0.854762\n",
      "[30]\tvalidation_0-auc:0.928632\tvalidation_1-auc:0.854706\n",
      "[31]\tvalidation_0-auc:0.928834\tvalidation_1-auc:0.85479\n",
      "[32]\tvalidation_0-auc:0.928931\tvalidation_1-auc:0.854894\n",
      "[33]\tvalidation_0-auc:0.929188\tvalidation_1-auc:0.855182\n",
      "[34]\tvalidation_0-auc:0.929396\tvalidation_1-auc:0.85545\n",
      "[35]\tvalidation_0-auc:0.929626\tvalidation_1-auc:0.855444\n",
      "[36]\tvalidation_0-auc:0.929897\tvalidation_1-auc:0.855097\n",
      "[37]\tvalidation_0-auc:0.930087\tvalidation_1-auc:0.855259\n",
      "[38]\tvalidation_0-auc:0.930293\tvalidation_1-auc:0.855518\n",
      "[39]\tvalidation_0-auc:0.930435\tvalidation_1-auc:0.855631\n",
      "[40]\tvalidation_0-auc:0.930666\tvalidation_1-auc:0.855591\n",
      "[41]\tvalidation_0-auc:0.930798\tvalidation_1-auc:0.855875\n",
      "[42]\tvalidation_0-auc:0.931017\tvalidation_1-auc:0.856135\n",
      "[43]\tvalidation_0-auc:0.931143\tvalidation_1-auc:0.856411\n",
      "[44]\tvalidation_0-auc:0.931357\tvalidation_1-auc:0.856256\n",
      "[45]\tvalidation_0-auc:0.931503\tvalidation_1-auc:0.856178\n",
      "[46]\tvalidation_0-auc:0.931743\tvalidation_1-auc:0.856229\n",
      "[47]\tvalidation_0-auc:0.93189\tvalidation_1-auc:0.856392\n",
      "[48]\tvalidation_0-auc:0.932107\tvalidation_1-auc:0.856527\n",
      "[49]\tvalidation_0-auc:0.932301\tvalidation_1-auc:0.856662\n",
      "[50]\tvalidation_0-auc:0.932506\tvalidation_1-auc:0.856812\n",
      "[51]\tvalidation_0-auc:0.932676\tvalidation_1-auc:0.85698\n",
      "[52]\tvalidation_0-auc:0.932883\tvalidation_1-auc:0.85703\n",
      "[53]\tvalidation_0-auc:0.933124\tvalidation_1-auc:0.857002\n",
      "[54]\tvalidation_0-auc:0.933283\tvalidation_1-auc:0.85704\n",
      "[55]\tvalidation_0-auc:0.933469\tvalidation_1-auc:0.85713\n",
      "[56]\tvalidation_0-auc:0.933592\tvalidation_1-auc:0.857066\n",
      "[57]\tvalidation_0-auc:0.933753\tvalidation_1-auc:0.857098\n",
      "[58]\tvalidation_0-auc:0.933898\tvalidation_1-auc:0.857162\n",
      "[59]\tvalidation_0-auc:0.934048\tvalidation_1-auc:0.857312\n",
      "[60]\tvalidation_0-auc:0.934208\tvalidation_1-auc:0.857301\n",
      "[61]\tvalidation_0-auc:0.934337\tvalidation_1-auc:0.857249\n",
      "[62]\tvalidation_0-auc:0.9345\tvalidation_1-auc:0.857115\n",
      "[63]\tvalidation_0-auc:0.934642\tvalidation_1-auc:0.857254\n",
      "[64]\tvalidation_0-auc:0.934794\tvalidation_1-auc:0.857119\n",
      "[65]\tvalidation_0-auc:0.934964\tvalidation_1-auc:0.857086\n",
      "[66]\tvalidation_0-auc:0.935186\tvalidation_1-auc:0.857195\n",
      "[67]\tvalidation_0-auc:0.935344\tvalidation_1-auc:0.857163\n",
      "[68]\tvalidation_0-auc:0.93547\tvalidation_1-auc:0.857052\n",
      "[69]\tvalidation_0-auc:0.935612\tvalidation_1-auc:0.857138\n",
      "[70]\tvalidation_0-auc:0.935798\tvalidation_1-auc:0.857163\n",
      "[71]\tvalidation_0-auc:0.935972\tvalidation_1-auc:0.857019\n",
      "[72]\tvalidation_0-auc:0.936206\tvalidation_1-auc:0.857048\n",
      "[73]\tvalidation_0-auc:0.936331\tvalidation_1-auc:0.857113\n",
      "[74]\tvalidation_0-auc:0.936475\tvalidation_1-auc:0.857182\n",
      "[75]\tvalidation_0-auc:0.936729\tvalidation_1-auc:0.857146\n",
      "[76]\tvalidation_0-auc:0.936943\tvalidation_1-auc:0.857113\n",
      "[77]\tvalidation_0-auc:0.937106\tvalidation_1-auc:0.857078\n",
      "[78]\tvalidation_0-auc:0.937313\tvalidation_1-auc:0.857121\n",
      "[79]\tvalidation_0-auc:0.937526\tvalidation_1-auc:0.857132\n",
      "[80]\tvalidation_0-auc:0.937767\tvalidation_1-auc:0.857228\n",
      "[81]\tvalidation_0-auc:0.937967\tvalidation_1-auc:0.857209\n",
      "[82]\tvalidation_0-auc:0.938154\tvalidation_1-auc:0.857095\n",
      "[83]\tvalidation_0-auc:0.938278\tvalidation_1-auc:0.857117\n",
      "[84]\tvalidation_0-auc:0.938452\tvalidation_1-auc:0.857194\n",
      "[85]\tvalidation_0-auc:0.938612\tvalidation_1-auc:0.857303\n",
      "[86]\tvalidation_0-auc:0.938779\tvalidation_1-auc:0.85735\n",
      "[87]\tvalidation_0-auc:0.938945\tvalidation_1-auc:0.857326\n",
      "[88]\tvalidation_0-auc:0.939137\tvalidation_1-auc:0.857334\n",
      "[89]\tvalidation_0-auc:0.93937\tvalidation_1-auc:0.857454\n",
      "[90]\tvalidation_0-auc:0.939541\tvalidation_1-auc:0.857394\n",
      "[91]\tvalidation_0-auc:0.939662\tvalidation_1-auc:0.857443\n",
      "[92]\tvalidation_0-auc:0.939824\tvalidation_1-auc:0.857412\n",
      "[93]\tvalidation_0-auc:0.939995\tvalidation_1-auc:0.857204\n",
      "[94]\tvalidation_0-auc:0.940241\tvalidation_1-auc:0.856972\n",
      "[95]\tvalidation_0-auc:0.940382\tvalidation_1-auc:0.856728\n",
      "[96]\tvalidation_0-auc:0.940534\tvalidation_1-auc:0.85678\n",
      "[97]\tvalidation_0-auc:0.940726\tvalidation_1-auc:0.85685\n",
      "[98]\tvalidation_0-auc:0.94089\tvalidation_1-auc:0.856785\n",
      "[99]\tvalidation_0-auc:0.941023\tvalidation_1-auc:0.856938\n",
      "[100]\tvalidation_0-auc:0.941168\tvalidation_1-auc:0.856897\n",
      "[101]\tvalidation_0-auc:0.941336\tvalidation_1-auc:0.856885\n",
      "[102]\tvalidation_0-auc:0.941512\tvalidation_1-auc:0.856827\n",
      "[103]\tvalidation_0-auc:0.941659\tvalidation_1-auc:0.856877\n",
      "[104]\tvalidation_0-auc:0.941842\tvalidation_1-auc:0.856859\n",
      "[105]\tvalidation_0-auc:0.942021\tvalidation_1-auc:0.856643\n",
      "[106]\tvalidation_0-auc:0.942141\tvalidation_1-auc:0.856574\n",
      "[107]\tvalidation_0-auc:0.942284\tvalidation_1-auc:0.856361\n",
      "[108]\tvalidation_0-auc:0.942427\tvalidation_1-auc:0.856188\n",
      "[109]\tvalidation_0-auc:0.942572\tvalidation_1-auc:0.856193\n",
      "[110]\tvalidation_0-auc:0.942748\tvalidation_1-auc:0.856193\n",
      "[111]\tvalidation_0-auc:0.942908\tvalidation_1-auc:0.856007\n",
      "[112]\tvalidation_0-auc:0.943061\tvalidation_1-auc:0.855969\n",
      "[113]\tvalidation_0-auc:0.943179\tvalidation_1-auc:0.855931\n",
      "[114]\tvalidation_0-auc:0.943329\tvalidation_1-auc:0.855964\n",
      "[115]\tvalidation_0-auc:0.943507\tvalidation_1-auc:0.85578\n",
      "[116]\tvalidation_0-auc:0.943678\tvalidation_1-auc:0.855835\n",
      "[117]\tvalidation_0-auc:0.943868\tvalidation_1-auc:0.855888\n",
      "[118]\tvalidation_0-auc:0.944044\tvalidation_1-auc:0.855666\n",
      "[119]\tvalidation_0-auc:0.944148\tvalidation_1-auc:0.855748\n",
      "[120]\tvalidation_0-auc:0.944289\tvalidation_1-auc:0.855558\n",
      "[121]\tvalidation_0-auc:0.944499\tvalidation_1-auc:0.855375\n",
      "[122]\tvalidation_0-auc:0.94464\tvalidation_1-auc:0.855334\n",
      "[123]\tvalidation_0-auc:0.944776\tvalidation_1-auc:0.855059\n",
      "[124]\tvalidation_0-auc:0.944915\tvalidation_1-auc:0.855097\n",
      "[125]\tvalidation_0-auc:0.945101\tvalidation_1-auc:0.854862\n",
      "[126]\tvalidation_0-auc:0.945234\tvalidation_1-auc:0.854795\n",
      "[127]\tvalidation_0-auc:0.945399\tvalidation_1-auc:0.854881\n",
      "[128]\tvalidation_0-auc:0.945588\tvalidation_1-auc:0.854835\n",
      "[129]\tvalidation_0-auc:0.945736\tvalidation_1-auc:0.854648\n",
      "[130]\tvalidation_0-auc:0.945866\tvalidation_1-auc:0.854634\n",
      "[131]\tvalidation_0-auc:0.945974\tvalidation_1-auc:0.85471\n",
      "[132]\tvalidation_0-auc:0.946162\tvalidation_1-auc:0.854591\n",
      "[133]\tvalidation_0-auc:0.94633\tvalidation_1-auc:0.854666\n",
      "[134]\tvalidation_0-auc:0.946454\tvalidation_1-auc:0.854724\n",
      "[135]\tvalidation_0-auc:0.946603\tvalidation_1-auc:0.854669\n",
      "[136]\tvalidation_0-auc:0.946731\tvalidation_1-auc:0.85476\n",
      "[137]\tvalidation_0-auc:0.946941\tvalidation_1-auc:0.85475\n",
      "[138]\tvalidation_0-auc:0.94709\tvalidation_1-auc:0.854851\n",
      "[139]\tvalidation_0-auc:0.947222\tvalidation_1-auc:0.854931\n",
      "[140]\tvalidation_0-auc:0.947371\tvalidation_1-auc:0.855018\n"
     ]
    },
    {
     "name": "stdout",
     "output_type": "stream",
     "text": [
      "[141]\tvalidation_0-auc:0.947519\tvalidation_1-auc:0.854849\n",
      "[142]\tvalidation_0-auc:0.947692\tvalidation_1-auc:0.854752\n",
      "[143]\tvalidation_0-auc:0.947873\tvalidation_1-auc:0.854809\n",
      "[144]\tvalidation_0-auc:0.948013\tvalidation_1-auc:0.854819\n",
      "[145]\tvalidation_0-auc:0.948153\tvalidation_1-auc:0.854591\n",
      "[146]\tvalidation_0-auc:0.948289\tvalidation_1-auc:0.854593\n",
      "[147]\tvalidation_0-auc:0.9484\tvalidation_1-auc:0.854615\n",
      "[148]\tvalidation_0-auc:0.948508\tvalidation_1-auc:0.85461\n",
      "[149]\tvalidation_0-auc:0.948627\tvalidation_1-auc:0.854618\n",
      "[150]\tvalidation_0-auc:0.948724\tvalidation_1-auc:0.854663\n",
      "[151]\tvalidation_0-auc:0.948848\tvalidation_1-auc:0.854738\n",
      "[152]\tvalidation_0-auc:0.948988\tvalidation_1-auc:0.854855\n",
      "[153]\tvalidation_0-auc:0.949132\tvalidation_1-auc:0.854661\n",
      "[154]\tvalidation_0-auc:0.949242\tvalidation_1-auc:0.854762\n",
      "[155]\tvalidation_0-auc:0.949444\tvalidation_1-auc:0.854814\n",
      "[156]\tvalidation_0-auc:0.949558\tvalidation_1-auc:0.854892\n",
      "[157]\tvalidation_0-auc:0.949665\tvalidation_1-auc:0.854959\n",
      "[158]\tvalidation_0-auc:0.94981\tvalidation_1-auc:0.855052\n",
      "[159]\tvalidation_0-auc:0.949911\tvalidation_1-auc:0.855125\n",
      "[160]\tvalidation_0-auc:0.950032\tvalidation_1-auc:0.855209\n",
      "[161]\tvalidation_0-auc:0.950176\tvalidation_1-auc:0.855013\n",
      "[162]\tvalidation_0-auc:0.950289\tvalidation_1-auc:0.854909\n",
      "[163]\tvalidation_0-auc:0.950382\tvalidation_1-auc:0.854673\n",
      "[164]\tvalidation_0-auc:0.950494\tvalidation_1-auc:0.854722\n",
      "[165]\tvalidation_0-auc:0.950623\tvalidation_1-auc:0.854764\n",
      "[166]\tvalidation_0-auc:0.950741\tvalidation_1-auc:0.854851\n",
      "[167]\tvalidation_0-auc:0.950898\tvalidation_1-auc:0.854648\n",
      "[168]\tvalidation_0-auc:0.951024\tvalidation_1-auc:0.854578\n",
      "[169]\tvalidation_0-auc:0.951184\tvalidation_1-auc:0.854459\n",
      "[170]\tvalidation_0-auc:0.951324\tvalidation_1-auc:0.85447\n",
      "[171]\tvalidation_0-auc:0.951437\tvalidation_1-auc:0.8545\n",
      "[172]\tvalidation_0-auc:0.951569\tvalidation_1-auc:0.854236\n",
      "[173]\tvalidation_0-auc:0.951699\tvalidation_1-auc:0.854299\n",
      "[174]\tvalidation_0-auc:0.951777\tvalidation_1-auc:0.854358\n",
      "[175]\tvalidation_0-auc:0.951921\tvalidation_1-auc:0.854348\n",
      "[176]\tvalidation_0-auc:0.952066\tvalidation_1-auc:0.85412\n",
      "[177]\tvalidation_0-auc:0.952152\tvalidation_1-auc:0.854219\n",
      "[178]\tvalidation_0-auc:0.952293\tvalidation_1-auc:0.854265\n",
      "[179]\tvalidation_0-auc:0.952433\tvalidation_1-auc:0.854344\n",
      "[180]\tvalidation_0-auc:0.952546\tvalidation_1-auc:0.854381\n",
      "[181]\tvalidation_0-auc:0.952655\tvalidation_1-auc:0.854409\n",
      "[182]\tvalidation_0-auc:0.952774\tvalidation_1-auc:0.854244\n",
      "[183]\tvalidation_0-auc:0.952913\tvalidation_1-auc:0.854275\n",
      "[184]\tvalidation_0-auc:0.953047\tvalidation_1-auc:0.854131\n",
      "[185]\tvalidation_0-auc:0.953152\tvalidation_1-auc:0.854231\n",
      "[186]\tvalidation_0-auc:0.953313\tvalidation_1-auc:0.854315\n",
      "[187]\tvalidation_0-auc:0.953441\tvalidation_1-auc:0.854363\n",
      "[188]\tvalidation_0-auc:0.953583\tvalidation_1-auc:0.854296\n",
      "[189]\tvalidation_0-auc:0.953729\tvalidation_1-auc:0.854281\n",
      "Stopping. Best iteration:\n",
      "[89]\tvalidation_0-auc:0.93937\tvalidation_1-auc:0.857454\n",
      "\n"
     ]
    }
   ],
   "source": [
    "\n",
    "tuned_model = xgb.XGBClassifier(learning_rate = 0.01,\n",
    "                        n_estimators = 1000,\n",
    "                        max_depth = 12,\n",
    "                        min_child_weight = 0,\n",
    "                        gamma = 0.4,\n",
    "                        subsample = 0.9,\n",
    "                        colsample_bytree = 1.0,\n",
    "                        objective = 'binary:logistic',\n",
    "                        scale_pos_weight = 1,\n",
    "                        reg_alpha= 0.01,\n",
    "                        seed = 27)\n",
    "xgbmodel = tuned_model.fit(train_X_std_res, train_y_res, \n",
    "                 eval_set=[(train_X_std_res, train_y_res), (test_X_std.values, test_y)], \n",
    "                 eval_metric='auc',\n",
    "                 early_stopping_rounds=100,                 \n",
    "                 verbose=True)\n",
    "\n",
    "#fig, ax = plt.subplots(figsize=(12,18))\n",
    "#xgb.plot_importance(xgbmodel, height=0.8, ax=ax)\n",
    "#plt.show()"
   ]
  },
  {
   "cell_type": "code",
   "execution_count": 19,
   "metadata": {},
   "outputs": [
    {
     "name": "stdout",
     "output_type": "stream",
     "text": [
      "Accuracy: 77.65%\n"
     ]
    },
    {
     "data": {
      "image/png": "[encoded data removed]",
      "text/plain": [
       "<matplotlib.figure.Figure at 0xe337ba8>"
      ]
     },
     "metadata": {},
     "output_type": "display_data"
    }
   ],
   "source": [
    "pred_y = xgbmodel.predict(test_X_std.values)\n",
    "\n",
    "accuracy = accuracy_score(test_y, pred_y)\n",
    "print(\"Accuracy: %.2f%%\" % (accuracy * 100.0))\n",
    "\n",
    "#conmat = confusion_matrix(y_test, predictions)\n",
    "#print(conmat)\n",
    "#plt.figure()\n",
    "#helper.plot_confusion_matrix(conmat,classes = np.array(['0','1']), title='Confusion Matrix, no Normalization')\n",
    "\n",
    "fpr, tpr, _ = roc_curve(test_y, pred_y)\n",
    "roc_auc = auc(fpr, tpr)\n",
    "\n",
    "plt.title('Receiver Operating Characteristic')\n",
    "plt.plot(fpr, tpr, 'b', label = 'AUC = %0.2f' % roc_auc)\n",
    "plt.legend(loc = 'lower right')\n",
    "plt.plot([0, 1], [0, 1],'r--')\n",
    "plt.xlim([0, 1])\n",
    "plt.ylim([0, 1])\n",
    "plt.ylabel('True Positive Rate')\n",
    "plt.xlabel('False Positive Rate')\n",
    "plt.show()"
   ]
  },
  {
   "cell_type": "code",
   "execution_count": null,
   "metadata": {
    "collapsed": true
   },
   "outputs": [],
   "source": []
  },
  {
   "cell_type": "markdown",
   "metadata": {},
   "source": [
    "###  Alternate Parameter tuning - only for fast running algorithms"
   ]
  },
  {
   "cell_type": "code",
   "execution_count": 20,
   "metadata": {
    "scrolled": true
   },
   "outputs": [
    {
     "name": "stdout",
     "output_type": "stream",
     "text": [
      "# Tuning hyper-parameters for roc_auc\n",
      "\n",
      "Best parameters set found on development set:\n",
      "\n",
      "{'C': 1000, 'dual': False}\n",
      "\n",
      "Grid scores on development set:\n",
      "\n",
      "0.856 (+/-0.004) for {'C': 1000, 'dual': False}\n",
      "0.856 (+/-0.004) for {'C': 100, 'dual': False}\n",
      "0.856 (+/-0.004) for {'C': 10, 'dual': False}\n",
      "0.856 (+/-0.004) for {'C': 1, 'dual': False}\n",
      "0.856 (+/-0.004) for {'C': 0.1, 'dual': False}\n",
      "0.856 (+/-0.004) for {'C': 0.01, 'dual': False}\n",
      "0.856 (+/-0.004) for {'C': 0.001, 'dual': False}\n",
      "\n",
      "Detailed classification report:\n",
      "\n",
      "The model is trained on the full development set.\n",
      "The scores are computed on the full evaluation set.\n",
      "\n",
      "             precision    recall  f1-score   support\n",
      "\n",
      "          0       0.94      0.76      0.84     24337\n",
      "          1       0.44      0.80      0.57      5663\n",
      "\n",
      "avg / total       0.85      0.77      0.79     30000\n",
      "\n",
      "\n"
     ]
    }
   ],
   "source": [
    "\n",
    "tuned_parameters = [{\n",
    "    'C': [1000, 100, 10, 1, .1, .01, .001],\n",
    "    'dual': [False]\n",
    "}]\n",
    "\n",
    "scores = ['roc_auc']\n",
    "\n",
    "for score in scores:\n",
    "    print(\"# Tuning hyper-parameters for %s\" % score)\n",
    "    print()\n",
    "\n",
    "    clf = GridSearchCV(LinearSVC(), tuned_parameters, cv=5,\n",
    "                       scoring='%s' % score)\n",
    "    clf.fit(train_X_std_res, train_y_res)\n",
    "\n",
    "    print(\"Best parameters set found on development set:\")\n",
    "    print()\n",
    "    print(clf.best_params_)\n",
    "    print()\n",
    "    print(\"Grid scores on development set:\")\n",
    "    print()\n",
    "    means = clf.cv_results_['mean_test_score']\n",
    "    stds = clf.cv_results_['std_test_score']\n",
    "    for mean, std, params in zip(means, stds, clf.cv_results_['params']):\n",
    "        print(\"%0.3f (+/-%0.03f) for %r\"\n",
    "              % (mean, std * 2, params))\n",
    "    print()\n",
    "\n",
    "    print(\"Detailed classification report:\")\n",
    "    print()\n",
    "    print(\"The model is trained on the full development set.\")\n",
    "    print(\"The scores are computed on the full evaluation set.\")\n",
    "    print()\n",
    "    y_true, y_pred = test_y, clf.predict(test_X_std)\n",
    "    print(classification_report(y_true, y_pred))\n",
    "    print()"
   ]
  },
  {
   "cell_type": "code",
   "execution_count": 21,
   "metadata": {},
   "outputs": [
    {
     "name": "stdout",
     "output_type": "stream",
     "text": [
      "             precision    recall  f1-score   support\n",
      "\n",
      "          0       0.94      0.77      0.85     24337\n",
      "          1       0.44      0.79      0.57      5663\n",
      "\n",
      "avg / total       0.85      0.77      0.79     30000\n",
      "\n",
      "Accuracy: 77.33%\n"
     ]
    },
    {
     "data": {
      "image/png": "[encoded data removed]",
      "text/plain": [
       "<matplotlib.figure.Figure at 0xe3eee48>"
      ]
     },
     "metadata": {},
     "output_type": "display_data"
    }
   ],
   "source": [
    "svm = LinearSVC(C=1000,dual=False)\n",
    "\n",
    "clf = CalibratedClassifierCV(svm, method='sigmoid', cv=5)\n",
    "\n",
    "svcmodel = clf.fit(train_X_std_res, train_y_res)\n",
    "\n",
    "print(classification_report(test_y, svcmodel.predict(test_X_std)))\n",
    "\n",
    "\n",
    "# evaluate predictions\n",
    "accuracy = accuracy_score(test_y, svcmodel.predict(test_X_std))\n",
    "print(\"Accuracy: %.2f%%\" % (accuracy * 100.0))\n",
    "\n",
    "#conmat = confusion_matrix(y_test, predictions)\n",
    "#print(conmat)\n",
    "#plt.figure()\n",
    "#helper.plot_confusion_matrix(conmat,classes = np.array(['0','1']), title='Confusion Matrix, no Normalization')\n",
    "\n",
    "fpr, tpr, _ = roc_curve(test_y, svcmodel.predict(test_X_std))\n",
    "roc_auc = auc(fpr, tpr)\n",
    "\n",
    "plt.title('Receiver Operating Characteristic')\n",
    "plt.plot(fpr, tpr, 'b', label = 'AUC = %0.2f' % roc_auc)\n",
    "plt.legend(loc = 'lower right')\n",
    "plt.plot([0, 1], [0, 1],'r--')\n",
    "plt.xlim([0, 1])\n",
    "plt.ylim([0, 1])\n",
    "plt.ylabel('True Positive Rate')\n",
    "plt.xlabel('False Positive Rate')\n",
    "plt.show()"
   ]
  },
  {
   "cell_type": "code",
   "execution_count": 23,
   "metadata": {},
   "outputs": [
    {
     "name": "stdout",
     "output_type": "stream",
     "text": [
      "# Tuning hyper-parameters for recall_weighted\n",
      "\n",
      "Best parameters set found on development set:\n",
      "\n",
      "{'C': 1000, 'dual': False, 'solver': 'liblinear'}\n",
      "\n",
      "Grid scores on development set:\n",
      "\n",
      "0.785 (+/-0.005) for {'C': 1000, 'dual': False, 'solver': 'liblinear'}\n",
      "0.785 (+/-0.005) for {'C': 1000, 'dual': False, 'solver': 'sag'}\n",
      "0.785 (+/-0.005) for {'C': 100, 'dual': False, 'solver': 'liblinear'}\n",
      "0.785 (+/-0.005) for {'C': 100, 'dual': False, 'solver': 'sag'}\n",
      "0.785 (+/-0.005) for {'C': 10, 'dual': False, 'solver': 'liblinear'}\n",
      "0.785 (+/-0.005) for {'C': 10, 'dual': False, 'solver': 'sag'}\n",
      "0.785 (+/-0.005) for {'C': 1, 'dual': False, 'solver': 'liblinear'}\n",
      "0.785 (+/-0.005) for {'C': 1, 'dual': False, 'solver': 'sag'}\n",
      "0.785 (+/-0.005) for {'C': 0.1, 'dual': False, 'solver': 'liblinear'}\n",
      "0.785 (+/-0.005) for {'C': 0.1, 'dual': False, 'solver': 'sag'}\n",
      "0.785 (+/-0.005) for {'C': 0.01, 'dual': False, 'solver': 'liblinear'}\n",
      "0.785 (+/-0.005) for {'C': 0.01, 'dual': False, 'solver': 'sag'}\n",
      "0.782 (+/-0.005) for {'C': 0.001, 'dual': False, 'solver': 'liblinear'}\n",
      "0.782 (+/-0.004) for {'C': 0.001, 'dual': False, 'solver': 'sag'}\n",
      "\n",
      "Detailed classification report:\n",
      "\n",
      "The model is trained on the full development set.\n",
      "The scores are computed on the full evaluation set.\n",
      "\n",
      "             precision    recall  f1-score   support\n",
      "\n",
      "          0       0.94      0.77      0.85     24337\n",
      "          1       0.44      0.81      0.57      5663\n",
      "\n",
      "avg / total       0.85      0.77      0.79     30000\n",
      "\n",
      "\n",
      "# Tuning hyper-parameters for roc_auc\n",
      "\n",
      "Best parameters set found on development set:\n",
      "\n",
      "{'C': 100, 'dual': False, 'solver': 'sag'}\n",
      "\n",
      "Grid scores on development set:\n",
      "\n",
      "0.860 (+/-0.005) for {'C': 1000, 'dual': False, 'solver': 'liblinear'}\n",
      "0.860 (+/-0.005) for {'C': 1000, 'dual': False, 'solver': 'sag'}\n",
      "0.860 (+/-0.005) for {'C': 100, 'dual': False, 'solver': 'liblinear'}\n",
      "0.860 (+/-0.005) for {'C': 100, 'dual': False, 'solver': 'sag'}\n",
      "0.860 (+/-0.005) for {'C': 10, 'dual': False, 'solver': 'liblinear'}\n",
      "0.860 (+/-0.005) for {'C': 10, 'dual': False, 'solver': 'sag'}\n",
      "0.860 (+/-0.005) for {'C': 1, 'dual': False, 'solver': 'liblinear'}\n",
      "0.860 (+/-0.005) for {'C': 1, 'dual': False, 'solver': 'sag'}\n",
      "0.860 (+/-0.005) for {'C': 0.1, 'dual': False, 'solver': 'liblinear'}\n",
      "0.860 (+/-0.005) for {'C': 0.1, 'dual': False, 'solver': 'sag'}\n",
      "0.860 (+/-0.005) for {'C': 0.01, 'dual': False, 'solver': 'liblinear'}\n",
      "0.860 (+/-0.005) for {'C': 0.01, 'dual': False, 'solver': 'sag'}\n",
      "0.858 (+/-0.005) for {'C': 0.001, 'dual': False, 'solver': 'liblinear'}\n",
      "0.858 (+/-0.005) for {'C': 0.001, 'dual': False, 'solver': 'sag'}\n",
      "\n",
      "Detailed classification report:\n",
      "\n",
      "The model is trained on the full development set.\n",
      "The scores are computed on the full evaluation set.\n",
      "\n",
      "             precision    recall  f1-score   support\n",
      "\n",
      "          0       0.94      0.77      0.85     24337\n",
      "          1       0.44      0.81      0.57      5663\n",
      "\n",
      "avg / total       0.85      0.77      0.79     30000\n",
      "\n",
      "\n"
     ]
    }
   ],
   "source": [
    "tuned_parameters = [{\n",
    "    'C': [1000, 100, 10, 1, .1, .01, .001],\n",
    "    'dual':[False],\n",
    "    'solver': ['liblinear','sag']\n",
    "}]\n",
    "\n",
    "scores = ['recall_weighted', 'roc_auc']\n",
    "\n",
    "for score in scores:\n",
    "    print(\"# Tuning hyper-parameters for %s\" % score)\n",
    "    print()\n",
    "\n",
    "    clf = GridSearchCV(LogisticRegression(), tuned_parameters, cv=5,\n",
    "                       scoring='%s' % score)\n",
    "    clf.fit(train_X_std_res, train_y_res)\n",
    "\n",
    "    print(\"Best parameters set found on development set:\")\n",
    "    print()\n",
    "    print(clf.best_params_)\n",
    "    print()\n",
    "    print(\"Grid scores on development set:\")\n",
    "    print()\n",
    "    means = clf.cv_results_['mean_test_score']\n",
    "    stds = clf.cv_results_['std_test_score']\n",
    "    for mean, std, params in zip(means, stds, clf.cv_results_['params']):\n",
    "        print(\"%0.3f (+/-%0.03f) for %r\"\n",
    "              % (mean, std * 2, params))\n",
    "    print()\n",
    "\n",
    "    print(\"Detailed classification report:\")\n",
    "    print()\n",
    "    print(\"The model is trained on the full development set.\")\n",
    "    print(\"The scores are computed on the full evaluation set.\")\n",
    "    print()\n",
    "    y_true, y_pred = test_y, clf.predict(test_X_std)\n",
    "    print(classification_report(y_true, y_pred))\n",
    "    print()"
   ]
  },
  {
   "cell_type": "code",
   "execution_count": 24,
   "metadata": {},
   "outputs": [
    {
     "name": "stdout",
     "output_type": "stream",
     "text": [
      "             precision    recall  f1-score   support\n",
      "\n",
      "          0       0.94      0.77      0.85     24337\n",
      "          1       0.44      0.81      0.57      5663\n",
      "\n",
      "avg / total       0.85      0.77      0.79     30000\n",
      "\n",
      "Accuracy: 77.31%\n"
     ]
    },
    {
     "data": {
      "image/png": "[encoded data removed]",
      "text/plain": [
       "<matplotlib.figure.Figure at 0xe431a20>"
      ]
     },
     "metadata": {},
     "output_type": "display_data"
    }
   ],
   "source": [
    "\n",
    "log = LogisticRegression(C=100,dual=False, solver='sag')\n",
    "\n",
    "logmodel = log.fit(train_X_std_res, train_y_res)\n",
    "\n",
    "print(classification_report(test_y, logmodel.predict(test_X_std.values)))\n",
    "\n",
    "\n",
    "# evaluate predictions\n",
    "accuracy = accuracy_score(test_y,logmodel.predict(test_X_std.values))\n",
    "print(\"Accuracy: %.2f%%\" % (accuracy * 100.0))\n",
    "\n",
    "#conmat = confusion_matrix(y_test, predictions)\n",
    "#print(conmat)\n",
    "#plt.figure()\n",
    "#helper.plot_confusion_matrix(conmat,classes = np.array(['0','1']), title='Confusion Matrix, no Normalization')\n",
    "\n",
    "fpr, tpr, _ = roc_curve(test_y, logmodel.predict(test_X_std.values))\n",
    "roc_auc = auc(fpr, tpr)\n",
    "\n",
    "plt.title('Receiver Operating Characteristic')\n",
    "plt.plot(fpr, tpr, 'b', label = 'AUC = %0.2f' % roc_auc)\n",
    "plt.legend(loc = 'lower right')\n",
    "plt.plot([0, 1], [0, 1],'r--')\n",
    "plt.xlim([0, 1])\n",
    "plt.ylim([0, 1])\n",
    "plt.ylabel('True Positive Rate')\n",
    "plt.xlabel('False Positive Rate')\n",
    "plt.show()"
   ]
  },
  {
   "cell_type": "code",
   "execution_count": 26,
   "metadata": {},
   "outputs": [
    {
     "name": "stdout",
     "output_type": "stream",
     "text": [
      "# Tuning hyper-parameters for roc_auc\n",
      "\n",
      "Best parameters set found on development set:\n",
      "\n",
      "{'loss': 'log'}\n",
      "\n",
      "Grid scores on development set:\n",
      "\n",
      "0.848 (+/-0.010) for {'loss': 'hinge'}\n",
      "0.855 (+/-0.003) for {'loss': 'log'}\n",
      "\n",
      "Detailed classification report:\n",
      "\n",
      "The model is trained on the full development set.\n",
      "The scores are computed on the full evaluation set.\n",
      "\n",
      "             precision    recall  f1-score   support\n",
      "\n",
      "          0       0.95      0.73      0.83     24337\n",
      "          1       0.42      0.84      0.56      5663\n",
      "\n",
      "avg / total       0.85      0.75      0.78     30000\n",
      "\n",
      "\n"
     ]
    }
   ],
   "source": [
    "tuned_parameters = [{\n",
    "    'loss':['hinge','log'],\n",
    "    \n",
    "}]\n",
    "\n",
    "scores = ['roc_auc']\n",
    "\n",
    "for score in scores:\n",
    "    print(\"# Tuning hyper-parameters for %s\" % score)\n",
    "    print()\n",
    "\n",
    "    clf = GridSearchCV(SGDClassifier(), tuned_parameters, cv=5,\n",
    "                       scoring='%s' % score)\n",
    "    clf.fit(train_X_std_res, train_y_res)\n",
    "\n",
    "    print(\"Best parameters set found on development set:\")\n",
    "    print()\n",
    "    print(clf.best_params_)\n",
    "    print()\n",
    "    print(\"Grid scores on development set:\")\n",
    "    print()\n",
    "    means = clf.cv_results_['mean_test_score']\n",
    "    stds = clf.cv_results_['std_test_score']\n",
    "    for mean, std, params in zip(means, stds, clf.cv_results_['params']):\n",
    "        print(\"%0.3f (+/-%0.03f) for %r\"\n",
    "              % (mean, std * 2, params))\n",
    "    print()\n",
    "\n",
    "    print(\"Detailed classification report:\")\n",
    "    print()\n",
    "    print(\"The model is trained on the full development set.\")\n",
    "    print(\"The scores are computed on the full evaluation set.\")\n",
    "    print()\n",
    "    y_true, y_pred = test_y, clf.predict(test_X_std)\n",
    "    print(classification_report(y_true, y_pred))\n",
    "    print()"
   ]
  },
  {
   "cell_type": "code",
   "execution_count": 27,
   "metadata": {},
   "outputs": [
    {
     "name": "stdout",
     "output_type": "stream",
     "text": [
      "             precision    recall  f1-score   support\n",
      "\n",
      "          0       0.94      0.77      0.85     24337\n",
      "          1       0.45      0.81      0.58      5663\n",
      "\n",
      "avg / total       0.85      0.78      0.80     30000\n",
      "\n",
      "Accuracy: 77.31%\n"
     ]
    },
    {
     "data": {
      "image/png": "[encoded data removed]",
      "text/plain": [
       "<matplotlib.figure.Figure at 0xe5075c0>"
      ]
     },
     "metadata": {},
     "output_type": "display_data"
    }
   ],
   "source": [
    "\n",
    "sgd =SGDClassifier(loss='log')\n",
    "\n",
    "sgdmodel = sgd.fit(train_X_std_res, train_y_res)\n",
    "\n",
    "print(classification_report(test_y, sgdmodel.predict(test_X_std.values)))\n",
    "\n",
    "\n",
    "# evaluate predictions\n",
    "accuracy = accuracy_score(test_y,logmodel.predict(test_X_std.values))\n",
    "print(\"Accuracy: %.2f%%\" % (accuracy * 100.0))\n",
    "\n",
    "#conmat = confusion_matrix(y_test, predictions)\n",
    "#print(conmat)\n",
    "#plt.figure()\n",
    "#helper.plot_confusion_matrix(conmat,classes = np.array(['0','1']), title='Confusion Matrix, no Normalization')\n",
    "\n",
    "fpr, tpr, _ = roc_curve(test_y, sgdmodel.predict(test_X_std.values))\n",
    "roc_auc = auc(fpr, tpr)\n",
    "\n",
    "plt.title('Receiver Operating Characteristic')\n",
    "plt.plot(fpr, tpr, 'b', label = 'AUC = %0.2f' % roc_auc)\n",
    "plt.legend(loc = 'lower right')\n",
    "plt.plot([0, 1], [0, 1],'r--')\n",
    "plt.xlim([0, 1])\n",
    "plt.ylim([0, 1])\n",
    "plt.ylabel('True Positive Rate')\n",
    "plt.xlabel('False Positive Rate')\n",
    "plt.show()"
   ]
  },
  {
   "cell_type": "code",
   "execution_count": 31,
   "metadata": {},
   "outputs": [
    {
     "name": "stdout",
     "output_type": "stream",
     "text": [
      "# Tuning hyper-parameters for roc_auc\n",
      "\n",
      "Best parameters set found on development set:\n",
      "\n",
      "{'algorithm': 'auto', 'n_jobs': -1, 'n_neighbors': 8, 'weights': 'distance'}\n",
      "\n",
      "Grid scores on development set:\n",
      "\n",
      "0.922 (+/-0.014) for {'algorithm': 'auto', 'n_jobs': -1, 'n_neighbors': 7, 'weights': 'uniform'}\n",
      "0.944 (+/-0.009) for {'algorithm': 'auto', 'n_jobs': -1, 'n_neighbors': 7, 'weights': 'distance'}\n",
      "0.920 (+/-0.015) for {'algorithm': 'auto', 'n_jobs': -1, 'n_neighbors': 8, 'weights': 'uniform'}\n",
      "0.945 (+/-0.009) for {'algorithm': 'auto', 'n_jobs': -1, 'n_neighbors': 8, 'weights': 'distance'}\n",
      "0.918 (+/-0.016) for {'algorithm': 'auto', 'n_jobs': -1, 'n_neighbors': 9, 'weights': 'uniform'}\n",
      "0.945 (+/-0.009) for {'algorithm': 'auto', 'n_jobs': -1, 'n_neighbors': 9, 'weights': 'distance'}\n",
      "\n",
      "Detailed classification report:\n",
      "\n",
      "The model is trained on the full development set.\n",
      "The scores are computed on the full evaluation set.\n",
      "\n",
      "             precision    recall  f1-score   support\n",
      "\n",
      "          0       0.92      0.78      0.84     24337\n",
      "          1       0.43      0.71      0.53      5663\n",
      "\n",
      "avg / total       0.83      0.77      0.78     30000\n",
      "\n",
      "\n"
     ]
    }
   ],
   "source": [
    "tuned_parameters = [{\n",
    "    'n_neighbors':[7,8,9],\n",
    "    'weights' : ['uniform','distance'],\n",
    "    'algorithm': ['auto'],\n",
    "    'n_jobs': [-1]\n",
    "    \n",
    "}]\n",
    "\n",
    "scores = ['roc_auc']\n",
    "\n",
    "for score in scores:\n",
    "    print(\"# Tuning hyper-parameters for %s\" % score)\n",
    "    print()\n",
    "\n",
    "    clf = GridSearchCV(KNeighborsClassifier(), tuned_parameters, cv=5,\n",
    "                       scoring='%s' % score)\n",
    "    clf.fit(train_X_std_res, train_y_res)\n",
    "\n",
    "    print(\"Best parameters set found on development set:\")\n",
    "    print()\n",
    "    print(clf.best_params_)\n",
    "    print()\n",
    "    print(\"Grid scores on development set:\")\n",
    "    print()\n",
    "    means = clf.cv_results_['mean_test_score']\n",
    "    stds = clf.cv_results_['std_test_score']\n",
    "    for mean, std, params in zip(means, stds, clf.cv_results_['params']):\n",
    "        print(\"%0.3f (+/-%0.03f) for %r\"\n",
    "              % (mean, std * 2, params))\n",
    "    print()\n",
    "\n",
    "    print(\"Detailed classification report:\")\n",
    "    print()\n",
    "    print(\"The model is trained on the full development set.\")\n",
    "    print(\"The scores are computed on the full evaluation set.\")\n",
    "    print()\n",
    "    y_true, y_pred = test_y, clf.predict(test_X_std)\n",
    "    print(classification_report(y_true, y_pred))\n",
    "    print()"
   ]
  },
  {
   "cell_type": "code",
   "execution_count": 32,
   "metadata": {},
   "outputs": [
    {
     "name": "stdout",
     "output_type": "stream",
     "text": [
      "             precision    recall  f1-score   support\n",
      "\n",
      "          0       0.92      0.78      0.84     24337\n",
      "          1       0.43      0.71      0.53      5663\n",
      "\n",
      "avg / total       0.83      0.77      0.78     30000\n",
      "\n",
      "Accuracy: 76.57%\n"
     ]
    },
    {
     "data": {
      "image/png": "[encoded data removed]",
      "text/plain": [
       "<matplotlib.figure.Figure at 0x11ec5a58>"
      ]
     },
     "metadata": {},
     "output_type": "display_data"
    }
   ],
   "source": [
    "\n",
    "KNN =KNeighborsClassifier(algorithm='auto',n_jobs=-1, weights='distance',n_neighbors=8)\n",
    "\n",
    "knnmodel = KNN.fit(train_X_std_res, train_y_res)\n",
    "\n",
    "print(classification_report(test_y, knnmodel.predict(test_X_std.values)))\n",
    "\n",
    "\n",
    "# evaluate predictions\n",
    "accuracy = accuracy_score(test_y, knnmodel.predict(test_X_std.values))\n",
    "print(\"Accuracy: %.2f%%\" % (accuracy * 100.0))\n",
    "\n",
    "#conmat = confusion_matrix(y_test, predictions)\n",
    "#print(conmat)\n",
    "#plt.figure()\n",
    "#helper.plot_confusion_matrix(conmat,classes = np.array(['0','1']), title='Confusion Matrix, no Normalization')\n",
    "\n",
    "fpr, tpr, _ = roc_curve(test_y, knnmodel.predict(test_X_std.values))\n",
    "roc_auc = auc(fpr, tpr)\n",
    "\n",
    "plt.title('Receiver Operating Characteristic')\n",
    "plt.plot(fpr, tpr, 'b', label = 'AUC = %0.2f' % roc_auc)\n",
    "plt.legend(loc = 'lower right')\n",
    "plt.plot([0, 1], [0, 1],'r--')\n",
    "plt.xlim([0, 1])\n",
    "plt.ylim([0, 1])\n",
    "plt.ylabel('True Positive Rate')\n",
    "plt.xlabel('False Positive Rate')\n",
    "plt.show()"
   ]
  },
  {
   "cell_type": "code",
   "execution_count": 38,
   "metadata": {},
   "outputs": [
    {
     "name": "stdout",
     "output_type": "stream",
     "text": [
      "# Tuning hyper-parameters for roc_auc\n",
      "\n",
      "Best parameters set found on development set:\n",
      "\n",
      "{'criterion': 'entropy', 'n_estimators': 100}\n",
      "\n",
      "Grid scores on development set:\n",
      "\n",
      "0.906 (+/-0.021) for {'criterion': 'gini', 'n_estimators': 5}\n",
      "0.925 (+/-0.017) for {'criterion': 'gini', 'n_estimators': 10}\n",
      "0.933 (+/-0.019) for {'criterion': 'gini', 'n_estimators': 15}\n",
      "0.936 (+/-0.019) for {'criterion': 'gini', 'n_estimators': 20}\n",
      "0.944 (+/-0.018) for {'criterion': 'gini', 'n_estimators': 100}\n",
      "0.907 (+/-0.020) for {'criterion': 'entropy', 'n_estimators': 5}\n",
      "0.925 (+/-0.018) for {'criterion': 'entropy', 'n_estimators': 10}\n",
      "0.934 (+/-0.021) for {'criterion': 'entropy', 'n_estimators': 15}\n",
      "0.936 (+/-0.021) for {'criterion': 'entropy', 'n_estimators': 20}\n",
      "0.944 (+/-0.019) for {'criterion': 'entropy', 'n_estimators': 100}\n",
      "\n",
      "Detailed classification report:\n",
      "\n",
      "The model is trained on the full development set.\n",
      "The scores are computed on the full evaluation set.\n",
      "\n",
      "             precision    recall  f1-score   support\n",
      "\n",
      "          0       0.92      0.85      0.88     24337\n",
      "          1       0.51      0.70      0.59      5663\n",
      "\n",
      "avg / total       0.85      0.82      0.83     30000\n",
      "\n",
      "\n"
     ]
    }
   ],
   "source": [
    "tuned_parameters = [{\n",
    "    'n_estimators':[5, 10, 15, 20, 100],\n",
    "    'criterion':['gini','entropy'],    \n",
    "}]\n",
    "\n",
    "scores = ['roc_auc']\n",
    "\n",
    "for score in scores:\n",
    "    print(\"# Tuning hyper-parameters for %s\" % score)\n",
    "    print()\n",
    "\n",
    "    clf = GridSearchCV(RandomForestClassifier(), tuned_parameters, cv=5,\n",
    "                       scoring='%s' % score)\n",
    "    clf.fit(train_X_std_res, train_y_res)\n",
    "\n",
    "    print(\"Best parameters set found on development set:\")\n",
    "    print()\n",
    "    print(clf.best_params_)\n",
    "    print()\n",
    "    print(\"Grid scores on development set:\")\n",
    "    print()\n",
    "    means = clf.cv_results_['mean_test_score']\n",
    "    stds = clf.cv_results_['std_test_score']\n",
    "    for mean, std, params in zip(means, stds, clf.cv_results_['params']):\n",
    "        print(\"%0.3f (+/-%0.03f) for %r\"\n",
    "              % (mean, std * 2, params))\n",
    "    print()\n",
    "\n",
    "    print(\"Detailed classification report:\")\n",
    "    print()\n",
    "    print(\"The model is trained on the full development set.\")\n",
    "    print(\"The scores are computed on the full evaluation set.\")\n",
    "    print()\n",
    "    y_true, y_pred = test_y, clf.predict(test_X_std)\n",
    "    print(classification_report(y_true, y_pred))\n",
    "    print()"
   ]
  },
  {
   "cell_type": "code",
   "execution_count": 39,
   "metadata": {},
   "outputs": [
    {
     "name": "stdout",
     "output_type": "stream",
     "text": [
      "             precision    recall  f1-score   support\n",
      "\n",
      "          0       0.92      0.85      0.88     24337\n",
      "          1       0.51      0.70      0.59      5663\n",
      "\n",
      "avg / total       0.85      0.82      0.83     30000\n",
      "\n",
      "Accuracy: 81.89%\n"
     ]
    },
    {
     "data": {
      "image/png": "[encoded data removed]",
      "text/plain": [
       "<matplotlib.figure.Figure at 0x13470b38>"
      ]
     },
     "metadata": {},
     "output_type": "display_data"
    }
   ],
   "source": [
    "\n",
    "RF =RandomForestClassifier(criterion='entropy', n_estimators=100)\n",
    "\n",
    "rfmodel = RF.fit(train_X_std_res, train_y_res)\n",
    "\n",
    "print(classification_report(test_y, rfmodel.predict(test_X_std.values)))\n",
    "\n",
    "\n",
    "# evaluate predictions\n",
    "accuracy = accuracy_score(test_y, rfmodel.predict(test_X_std.values))\n",
    "print(\"Accuracy: %.2f%%\" % (accuracy * 100.0))\n",
    "\n",
    "#conmat = confusion_matrix(y_test, predictions)\n",
    "#print(conmat)\n",
    "#plt.figure()\n",
    "#helper.plot_confusion_matrix(conmat,classes = np.array(['0','1']), title='Confusion Matrix, no Normalization')\n",
    "\n",
    "fpr, tpr, _ = roc_curve(test_y, rfmodel.predict(test_X_std.values))\n",
    "roc_auc = auc(fpr, tpr)\n",
    "\n",
    "plt.title('Receiver Operating Characteristic')\n",
    "plt.plot(fpr, tpr, 'b', label = 'AUC = %0.2f' % roc_auc)\n",
    "plt.legend(loc = 'lower right')\n",
    "plt.plot([0, 1], [0, 1],'r--')\n",
    "plt.xlim([0, 1])\n",
    "plt.ylim([0, 1])\n",
    "plt.ylabel('True Positive Rate')\n",
    "plt.xlabel('False Positive Rate')\n",
    "plt.show()"
   ]
  },
  {
   "cell_type": "code",
   "execution_count": 40,
   "metadata": {},
   "outputs": [
    {
     "name": "stdout",
     "output_type": "stream",
     "text": [
      "# Tuning hyper-parameters for roc_auc\n",
      "\n",
      "Best parameters set found on development set:\n",
      "\n",
      "{'criterion': 'entropy', 'n_estimators': 100}\n",
      "\n",
      "Grid scores on development set:\n",
      "\n",
      "0.918 (+/-0.007) for {'criterion': 'gini', 'n_estimators': 5}\n",
      "0.938 (+/-0.004) for {'criterion': 'gini', 'n_estimators': 10}\n",
      "0.943 (+/-0.007) for {'criterion': 'gini', 'n_estimators': 15}\n",
      "0.947 (+/-0.004) for {'criterion': 'gini', 'n_estimators': 20}\n",
      "0.954 (+/-0.005) for {'criterion': 'gini', 'n_estimators': 100}\n",
      "0.920 (+/-0.005) for {'criterion': 'entropy', 'n_estimators': 5}\n",
      "0.939 (+/-0.004) for {'criterion': 'entropy', 'n_estimators': 10}\n",
      "0.944 (+/-0.006) for {'criterion': 'entropy', 'n_estimators': 15}\n",
      "0.948 (+/-0.007) for {'criterion': 'entropy', 'n_estimators': 20}\n",
      "0.955 (+/-0.006) for {'criterion': 'entropy', 'n_estimators': 100}\n",
      "\n",
      "Detailed classification report:\n",
      "\n",
      "The model is trained on the full development set.\n",
      "The scores are computed on the full evaluation set.\n",
      "\n",
      "             precision    recall  f1-score   support\n",
      "\n",
      "          0       0.92      0.86      0.89     24337\n",
      "          1       0.53      0.69      0.60      5663\n",
      "\n",
      "avg / total       0.85      0.82      0.83     30000\n",
      "\n",
      "\n"
     ]
    }
   ],
   "source": [
    "tuned_parameters = [{\n",
    "    'n_estimators':[5, 10, 15, 20,100],\n",
    "    'criterion':['gini','entropy'],    \n",
    "}]\n",
    "\n",
    "scores = ['roc_auc']\n",
    "\n",
    "for score in scores:\n",
    "    print(\"# Tuning hyper-parameters for %s\" % score)\n",
    "    print()\n",
    "\n",
    "    clf = GridSearchCV(ExtraTreesClassifier(), tuned_parameters, cv=5,\n",
    "                       scoring='%s' % score)\n",
    "    clf.fit(train_X_std_res, train_y_res)\n",
    "\n",
    "    print(\"Best parameters set found on development set:\")\n",
    "    print()\n",
    "    print(clf.best_params_)\n",
    "    print()\n",
    "    print(\"Grid scores on development set:\")\n",
    "    print()\n",
    "    means = clf.cv_results_['mean_test_score']\n",
    "    stds = clf.cv_results_['std_test_score']\n",
    "    for mean, std, params in zip(means, stds, clf.cv_results_['params']):\n",
    "        print(\"%0.3f (+/-%0.03f) for %r\"\n",
    "              % (mean, std * 2, params))\n",
    "    print()\n",
    "\n",
    "    print(\"Detailed classification report:\")\n",
    "    print()\n",
    "    print(\"The model is trained on the full development set.\")\n",
    "    print(\"The scores are computed on the full evaluation set.\")\n",
    "    print()\n",
    "    y_true, y_pred = test_y, clf.predict(test_X_std)\n",
    "    print(classification_report(y_true, y_pred))\n",
    "    print()"
   ]
  },
  {
   "cell_type": "code",
   "execution_count": 41,
   "metadata": {},
   "outputs": [
    {
     "name": "stdout",
     "output_type": "stream",
     "text": [
      "             precision    recall  f1-score   support\n",
      "\n",
      "          0       0.92      0.85      0.88     24337\n",
      "          1       0.51      0.70      0.59      5663\n",
      "\n",
      "avg / total       0.85      0.82      0.83     30000\n",
      "\n",
      "Accuracy: 82.43%\n"
     ]
    },
    {
     "data": {
      "image/png": "[encoded data removed]",
      "text/plain": [
       "<matplotlib.figure.Figure at 0x13443ef0>"
      ]
     },
     "metadata": {},
     "output_type": "display_data"
    }
   ],
   "source": [
    "\n",
    "ET = ExtraTreesClassifier(criterion='entropy', n_estimators=100)\n",
    "\n",
    "etmodel = ET.fit(train_X_std_res, train_y_res)\n",
    "\n",
    "print(classification_report(test_y, rfmodel.predict(test_X_std.values)))\n",
    "\n",
    "\n",
    "# evaluate predictions\n",
    "accuracy = accuracy_score(test_y, etmodel.predict(test_X_std.values))\n",
    "print(\"Accuracy: %.2f%%\" % (accuracy * 100.0))\n",
    "\n",
    "#conmat = confusion_matrix(y_test, predictions)\n",
    "#print(conmat)\n",
    "#plt.figure()\n",
    "#helper.plot_confusion_matrix(conmat,classes = np.array(['0','1']), title='Confusion Matrix, no Normalization')\n",
    "\n",
    "fpr, tpr, _ = roc_curve(test_y, etmodel.predict(test_X_std.values))\n",
    "roc_auc = auc(fpr, tpr)\n",
    "\n",
    "plt.title('Receiver Operating Characteristic')\n",
    "plt.plot(fpr, tpr, 'b', label = 'AUC = %0.2f' % roc_auc)\n",
    "plt.legend(loc = 'lower right')\n",
    "plt.plot([0, 1], [0, 1],'r--')\n",
    "plt.xlim([0, 1])\n",
    "plt.ylim([0, 1])\n",
    "plt.ylabel('True Positive Rate')\n",
    "plt.xlabel('False Positive Rate')\n",
    "plt.show()"
   ]
  },
  {
   "cell_type": "code",
   "execution_count": 43,
   "metadata": {},
   "outputs": [
    {
     "data": {
      "text/plain": [
       "(113468, 30000)"
      ]
     },
     "execution_count": 43,
     "metadata": {},
     "output_type": "execute_result"
    }
   ],
   "source": [
    "sgdpred = sgdmodel.predict(train_X_std_res)\n",
    "xgbpred = xgbmodel.predict(train_X_std_res)\n",
    "logpred = logmodel.predict(train_X_std_res)\n",
    "etpred = etmodel.predict(train_X_std_res)\n",
    "rfpred = rfmodel.predict(train_X_std_res)\n",
    "resarray = np.array([train_y_res, xgbpred, sgdpred, logpred, etpred, rfpred], np.int32)\n",
    "\n",
    "sgd_test = sgdmodel.predict(test_X_std.values)\n",
    "xgb_test = xgbmodel.predict(test_X_std.values)\n",
    "log_test = logmodel.predict(test_X_std.values)\n",
    "et_test = etmodel.predict(test_X_std.values)\n",
    "rf_test = rfmodel.predict(test_X_std.values)\n",
    "res_test = np.array([test_y, xgb_test, sgd_test, log_test, et_test, rf_test], np.int32)\n",
    "\n",
    "result = pd.DataFrame(resarray.transpose(), columns = ['true_y','xgbpred', 'sgdpred', 'logpred', 'etpred','rfpred'])\n",
    "result_test = pd.DataFrame(res_test.transpose(), columns = ['true_y','xgbpred', 'sgdpred', 'logpred','etpred','rfpred'])\n",
    "len(result), len(result_test)"
   ]
  },
  {
   "cell_type": "code",
   "execution_count": 44,
   "metadata": {
    "scrolled": true
   },
   "outputs": [
    {
     "data": {
      "text/html": [
       "<div>\n",
       "<style>\n",
       "    .dataframe thead tr:only-child th {\n",
       "        text-align: right;\n",
       "    }\n",
       "\n",
       "    .dataframe thead th {\n",
       "        text-align: left;\n",
       "    }\n",
       "\n",
       "    .dataframe tbody tr th {\n",
       "        vertical-align: top;\n",
       "    }\n",
       "</style>\n",
       "<table border=\"1\" class=\"dataframe\">\n",
       "  <thead>\n",
       "    <tr style=\"text-align: right;\">\n",
       "      <th></th>\n",
       "      <th>true_y</th>\n",
       "      <th>xgbpred</th>\n",
       "      <th>sgdpred</th>\n",
       "      <th>logpred</th>\n",
       "      <th>etpred</th>\n",
       "      <th>rfpred</th>\n",
       "    </tr>\n",
       "  </thead>\n",
       "  <tbody>\n",
       "    <tr>\n",
       "      <th>true_y</th>\n",
       "      <td>1.000000</td>\n",
       "      <td>0.458058</td>\n",
       "      <td>0.475184</td>\n",
       "      <td>0.470995</td>\n",
       "      <td>0.495183</td>\n",
       "      <td>0.491533</td>\n",
       "    </tr>\n",
       "    <tr>\n",
       "      <th>xgbpred</th>\n",
       "      <td>0.458058</td>\n",
       "      <td>1.000000</td>\n",
       "      <td>0.736698</td>\n",
       "      <td>0.723657</td>\n",
       "      <td>0.752890</td>\n",
       "      <td>0.798158</td>\n",
       "    </tr>\n",
       "    <tr>\n",
       "      <th>sgdpred</th>\n",
       "      <td>0.475184</td>\n",
       "      <td>0.736698</td>\n",
       "      <td>1.000000</td>\n",
       "      <td>0.947285</td>\n",
       "      <td>0.723111</td>\n",
       "      <td>0.721658</td>\n",
       "    </tr>\n",
       "    <tr>\n",
       "      <th>logpred</th>\n",
       "      <td>0.470995</td>\n",
       "      <td>0.723657</td>\n",
       "      <td>0.947285</td>\n",
       "      <td>1.000000</td>\n",
       "      <td>0.710721</td>\n",
       "      <td>0.709452</td>\n",
       "    </tr>\n",
       "    <tr>\n",
       "      <th>etpred</th>\n",
       "      <td>0.495183</td>\n",
       "      <td>0.752890</td>\n",
       "      <td>0.723111</td>\n",
       "      <td>0.710721</td>\n",
       "      <td>1.000000</td>\n",
       "      <td>0.854742</td>\n",
       "    </tr>\n",
       "    <tr>\n",
       "      <th>rfpred</th>\n",
       "      <td>0.491533</td>\n",
       "      <td>0.798158</td>\n",
       "      <td>0.721658</td>\n",
       "      <td>0.709452</td>\n",
       "      <td>0.854742</td>\n",
       "      <td>1.000000</td>\n",
       "    </tr>\n",
       "  </tbody>\n",
       "</table>\n",
       "</div>"
      ],
      "text/plain": [
       "           true_y   xgbpred   sgdpred   logpred    etpred    rfpred\n",
       "true_y   1.000000  0.458058  0.475184  0.470995  0.495183  0.491533\n",
       "xgbpred  0.458058  1.000000  0.736698  0.723657  0.752890  0.798158\n",
       "sgdpred  0.475184  0.736698  1.000000  0.947285  0.723111  0.721658\n",
       "logpred  0.470995  0.723657  0.947285  1.000000  0.710721  0.709452\n",
       "etpred   0.495183  0.752890  0.723111  0.710721  1.000000  0.854742\n",
       "rfpred   0.491533  0.798158  0.721658  0.709452  0.854742  1.000000"
      ]
     },
     "execution_count": 44,
     "metadata": {},
     "output_type": "execute_result"
    }
   ],
   "source": [
    "result_test.corr()"
   ]
  },
  {
   "cell_type": "code",
   "execution_count": 46,
   "metadata": {},
   "outputs": [
    {
     "data": {
      "text/plain": [
       "(113468, 113468, 113468, 113468)"
      ]
     },
     "execution_count": 46,
     "metadata": {},
     "output_type": "execute_result"
    }
   ],
   "source": [
    "len(sgdpred), len(xgbpred), len(logpred), len(train_y_res)\n"
   ]
  },
  {
   "cell_type": "code",
   "execution_count": 196,
   "metadata": {},
   "outputs": [
    {
     "data": {
      "text/plain": [
       "(50000, 50000, 50000, 50000)"
      ]
     },
     "execution_count": 196,
     "metadata": {},
     "output_type": "execute_result"
    }
   ],
   "source": [
    "len(svc_test), len(xgb_test), len(log_test), len(test_y)"
   ]
  },
  {
   "cell_type": "code",
   "execution_count": 34,
   "metadata": {},
   "outputs": [
    {
     "name": "stderr",
     "output_type": "stream",
     "text": [
      "/home/pirwin/.local/lib/python3.5/site-packages/sklearn/utils/validation.py:547: DataConversionWarning: A column-vector y was passed when a 1d array was expected. Please change the shape of y to (n_samples, ), for example using ravel().\n",
      "  y = column_or_1d(y, warn=True)\n"
     ]
    },
    {
     "data": {
      "text/plain": [
       "LogisticRegression(C=1, class_weight=None, dual=False, fit_intercept=True,\n",
       "          intercept_scaling=1, max_iter=100, multi_class='ovr', n_jobs=1,\n",
       "          penalty='l2', random_state=None, solver='saga', tol=0.0001,\n",
       "          verbose=0, warm_start=False)"
      ]
     },
     "execution_count": 34,
     "metadata": {},
     "output_type": "execute_result"
    }
   ],
   "source": [
    "ensemble = LogisticRegression(C=1, dual=False, solver='saga')\n",
    "ensemble.fit(result[['sgdpred','xgbpred','logpred']].values, result[['true_y']].values)\n",
    "\n"
   ]
  },
  {
   "cell_type": "code",
   "execution_count": 200,
   "metadata": {
    "scrolled": false
   },
   "outputs": [
    {
     "data": {
      "text/html": [
       "<div>\n",
       "<style>\n",
       "    .dataframe thead tr:only-child th {\n",
       "        text-align: right;\n",
       "    }\n",
       "\n",
       "    .dataframe thead th {\n",
       "        text-align: left;\n",
       "    }\n",
       "\n",
       "    .dataframe tbody tr th {\n",
       "        vertical-align: top;\n",
       "    }\n",
       "</style>\n",
       "<table border=\"1\" class=\"dataframe\">\n",
       "  <thead>\n",
       "    <tr style=\"text-align: right;\">\n",
       "      <th></th>\n",
       "      <th>true_y</th>\n",
       "      <th>svcpred</th>\n",
       "      <th>xgbpred</th>\n",
       "      <th>logpred</th>\n",
       "    </tr>\n",
       "  </thead>\n",
       "  <tbody>\n",
       "    <tr>\n",
       "      <th>true_y</th>\n",
       "      <td>1.000000</td>\n",
       "      <td>0.571013</td>\n",
       "      <td>0.713594</td>\n",
       "      <td>0.580690</td>\n",
       "    </tr>\n",
       "    <tr>\n",
       "      <th>svcpred</th>\n",
       "      <td>0.571013</td>\n",
       "      <td>1.000000</td>\n",
       "      <td>0.784586</td>\n",
       "      <td>0.947088</td>\n",
       "    </tr>\n",
       "    <tr>\n",
       "      <th>xgbpred</th>\n",
       "      <td>0.713594</td>\n",
       "      <td>0.784586</td>\n",
       "      <td>1.000000</td>\n",
       "      <td>0.806292</td>\n",
       "    </tr>\n",
       "    <tr>\n",
       "      <th>logpred</th>\n",
       "      <td>0.580690</td>\n",
       "      <td>0.947088</td>\n",
       "      <td>0.806292</td>\n",
       "      <td>1.000000</td>\n",
       "    </tr>\n",
       "  </tbody>\n",
       "</table>\n",
       "</div>"
      ],
      "text/plain": [
       "           true_y   svcpred   xgbpred   logpred\n",
       "true_y   1.000000  0.571013  0.713594  0.580690\n",
       "svcpred  0.571013  1.000000  0.784586  0.947088\n",
       "xgbpred  0.713594  0.784586  1.000000  0.806292\n",
       "logpred  0.580690  0.947088  0.806292  1.000000"
      ]
     },
     "execution_count": 200,
     "metadata": {},
     "output_type": "execute_result"
    }
   ],
   "source": [
    "result.corr()"
   ]
  },
  {
   "cell_type": "code",
   "execution_count": 35,
   "metadata": {},
   "outputs": [
    {
     "name": "stdout",
     "output_type": "stream",
     "text": [
      "Accuracy: 77.65%\n",
      "             precision    recall  f1-score   support\n",
      "\n",
      "          0       0.94      0.78      0.85     24337\n",
      "          1       0.45      0.77      0.57      5663\n",
      "\n",
      "avg / total       0.84      0.78      0.80     30000\n",
      "\n"
     ]
    },
    {
     "data": {
      "image/png": "[encoded data removed]",
      "text/plain": [
       "<matplotlib.figure.Figure at 0x7fed11ccef28>"
      ]
     },
     "metadata": {},
     "output_type": "display_data"
    }
   ],
   "source": [
    "# evaluate predictions\n",
    "accuracy = accuracy_score(result_test['true_y'].values, ensemble.predict(result_test[['sgdpred','xgbpred','logpred']].values))\n",
    "print(\"Accuracy: %.2f%%\" % (accuracy * 100.0))\n",
    "\n",
    "#conmat = confusion_matrix(y_test, predictions)\n",
    "#print(conmat)\n",
    "#plt.figure()\n",
    "#helper.plot_confusion_matrix(conmat,classes = np.array(['0','1']), title='Confusion Matrix, no Normalization')\n",
    "\n",
    "print(classification_report(result_test['true_y'].values, ensemble.predict(result_test[['sgdpred','xgbpred','logpred']].values)))\n",
    "\n",
    "fpr, tpr, _ = roc_curve(result_test['true_y'].values, ensemble.predict(result_test[['sgdpred','xgbpred','logpred']].values))\n",
    "roc_auc = auc(fpr, tpr)\n",
    "\n",
    "plt.title('Receiver Operating Characteristic')\n",
    "plt.plot(fpr, tpr, 'b', label = 'AUC = %0.2f' % roc_auc)\n",
    "plt.legend(loc = 'lower right')\n",
    "plt.plot([0, 1], [0, 1],'r--')\n",
    "plt.xlim([0, 1])\n",
    "plt.ylim([0, 1])\n",
    "plt.ylabel('True Positive Rate')\n",
    "plt.xlabel('False Positive Rate')\n",
    "plt.show()"
   ]
  },
  {
   "cell_type": "code",
   "execution_count": 203,
   "metadata": {},
   "outputs": [
    {
     "data": {
      "text/plain": [
       "array([[31603,  8926],\n",
       "       [ 2091,  7380]])"
      ]
     },
     "execution_count": 203,
     "metadata": {},
     "output_type": "execute_result"
    }
   ],
   "source": [
    "confusion_matrix(result_test['true_y'].values, ensemble.predict(result_test[['svcpred','xgbpred','logpred']].values))\n"
   ]
  },
  {
   "cell_type": "code",
   "execution_count": 361,
   "metadata": {},
   "outputs": [
    {
     "data": {
      "text/plain": [
       "['C:\\\\users\\\\pairwin\\\\Documents\\\\GitHub\\\\IPy_Notebooks\\\\Analyses\\\\tabmodel_impute.pkl']"
      ]
     },
     "execution_count": 361,
     "metadata": {},
     "output_type": "execute_result"
    }
   ],
   "source": [
    "joblib.dump(knnmodel, r'C:\\users\\pairwin\\Documents\\GitHub\\IPy_Notebooks\\Analyses\\tabmodelsvc.pkl')\n",
    "joblib.dump(xgbmodel, r'C:\\users\\pairwin\\Documents\\GitHub\\IPy_Notebooks\\Analyses\\tabmodelxgb.pkl')\n",
    "joblib.dump(logmodel, r'C:\\users\\pairwin\\Documents\\GitHub\\IPy_Notebooks\\Analyses\\tabmodellog.pkl')\n",
    "joblib.dump(ensemble, r'C:\\users\\pairwin\\Documents\\GitHub\\IPy_Notebooks\\Analyses\\tabmodelensemble.pkl')\n",
    "joblib.dump(imr, r'C:\\users\\pairwin\\Documents\\GitHub\\IPy_Notebooks\\Analyses\\tabmodel_impute.pkl')"
   ]
  },
  {
   "cell_type": "code",
   "execution_count": 48,
   "metadata": {
    "collapsed": true
   },
   "outputs": [],
   "source": [
    "def decide(prob):\n",
    "    if prob >= .5:\n",
    "        return 1\n",
    "    else:\n",
    "        return 0"
   ]
  },
  {
   "cell_type": "code",
   "execution_count": 49,
   "metadata": {},
   "outputs": [
    {
     "name": "stderr",
     "output_type": "stream",
     "text": [
      "INFO:imblearn.base:Compute classes statistics ...\n",
      "INFO:imblearn.base:2 classes detected: Counter({0: 64814, 1: 15186})\n",
      "INFO:imblearn.base:Generated 49628 new samples ...\n"
     ]
    },
    {
     "name": "stdout",
     "output_type": "stream",
     "text": [
      "129628 20000 129628 20000\n",
      "<class 'numpy.ndarray'> <class 'numpy.ndarray'> <class 'numpy.ndarray'> <class 'numpy.ndarray'>\n"
     ]
    }
   ],
   "source": [
    "np.random.seed(0)\n",
    "\n",
    "n_folds = 10\n",
    "verbose = True\n",
    "shuffle = False\n",
    "\n",
    "X = X[collist2]\n",
    "\n",
    "X2, hold_X, y2, hold_y = helper.splitData2(X.values, np.array(y), 0.2)\n",
    "\n",
    "\n",
    "imr = Imputer(missing_values='NaN',strategy='median',axis=0)\n",
    "imr = imr.fit(X2)\n",
    "X_imp = pd.DataFrame(imr.transform(X2), columns = collist2)\n",
    "hold_X_imp = pd.DataFrame(imr.transform(hold_X), columns = collist2)\n",
    "\n",
    "\n",
    "X_scaled = stdsc.fit_transform(X_imp)\n",
    "hold_X_scaled = stdsc.fit_transform(hold_X_imp)\n",
    "\n",
    "\n",
    "\n",
    "sm = SMOTE(random_state=123, ratio=1.0)\n",
    "X3, y3 = sm.fit_sample(X_scaled, y2)\n",
    "\n",
    "\n",
    "skf = StratifiedKFold(n_folds)\n",
    "print(len(X3), len(hold_X_scaled), len(y3), len(hold_y))\n",
    "print(type(X3), type(hold_X_scaled), type(y3), type(hold_y))"
   ]
  },
  {
   "cell_type": "code",
   "execution_count": 61,
   "metadata": {},
   "outputs": [],
   "source": [
    "svm = LinearSVC(C=.1,dual=False)\n",
    "\n",
    "clfs = [KNeighborsClassifier(algorithm='auto',n_jobs=-1, weights='distance',n_neighbors=8),\n",
    "        RandomForestClassifier(criterion='entropy', n_estimators=100),\n",
    "        ExtraTreesClassifier(criterion='entropy', n_estimators=100),\n",
    "        xgb.XGBClassifier(learning_rate = 0.01,\n",
    "                        n_estimators = 1000,\n",
    "                        max_depth = 12,\n",
    "                        min_child_weight = 0,\n",
    "                        gamma = 0.4,\n",
    "                        subsample = 0.9,\n",
    "                        colsample_bytree = 1.0,\n",
    "                        objective = 'binary:logistic',\n",
    "                        scale_pos_weight = 1,\n",
    "                        reg_alpha= 0.01,\n",
    "                        seed = 27)]\n",
    "#        SGDClassifier(loss='log'),\n",
    "#        LogisticRegression(C=100, dual=False, solver='sag')]\n"
   ]
  },
  {
   "cell_type": "code",
   "execution_count": 62,
   "metadata": {},
   "outputs": [
    {
     "data": {
      "text/plain": [
       "((129628, 3), (20000, 3))"
      ]
     },
     "execution_count": 62,
     "metadata": {},
     "output_type": "execute_result"
    }
   ],
   "source": [
    "dataset_blend_train = np.zeros((X3.shape[0], len(clfs)))\n",
    "dataset_blend_test = np.zeros((hold_X_scaled.shape[0], len(clfs)))\n",
    "dataset_blend_train.shape, dataset_blend_test.shape"
   ]
  },
  {
   "cell_type": "code",
   "execution_count": 65,
   "metadata": {
    "scrolled": false
   },
   "outputs": [
    {
     "name": "stdout",
     "output_type": "stream",
     "text": [
      "0 KNeighborsClassifier(algorithm='auto', leaf_size=30, metric='minkowski',\n",
      "           metric_params=None, n_jobs=-1, n_neighbors=8, p=2,\n",
      "           weights='distance')\n",
      "Fold: 0\n",
      "Fold: 1\n",
      "Fold: 2\n",
      "Fold: 3\n",
      "Fold: 4\n",
      "Fold: 5\n",
      "Fold: 6\n",
      "Fold: 7\n",
      "Fold: 8\n",
      "Fold: 9\n",
      "\n",
      "Blending.\n",
      "Accuracy: 83.2650%\n",
      "Log loss: 0.3996\n",
      "MCC: 0.4884\n",
      "             precision    recall  f1-score   support\n",
      "\n",
      "          0       0.91      0.88      0.89     16257\n",
      "          1       0.54      0.64      0.59      3743\n",
      "\n",
      "avg / total       0.85      0.83      0.84     20000\n",
      "\n",
      "\n",
      "\n",
      "1 RandomForestClassifier(bootstrap=True, class_weight=None, criterion='entropy',\n",
      "            max_depth=None, max_features='auto', max_leaf_nodes=None,\n",
      "            min_impurity_split=1e-07, min_samples_leaf=1,\n",
      "            min_samples_split=2, min_weight_fraction_leaf=0.0,\n",
      "            n_estimators=100, n_jobs=1, oob_score=False, random_state=None,\n",
      "            verbose=0, warm_start=False)\n",
      "Fold: 0\n",
      "Fold: 1\n",
      "Fold: 2\n",
      "Fold: 3\n",
      "Fold: 4\n",
      "Fold: 5\n",
      "Fold: 6\n",
      "Fold: 7\n",
      "Fold: 8\n",
      "Fold: 9\n",
      "\n",
      "Blending.\n",
      "Accuracy: 83.2550%\n",
      "Log loss: 0.3995\n",
      "MCC: 0.4883\n",
      "             precision    recall  f1-score   support\n",
      "\n",
      "          0       0.91      0.88      0.89     16257\n",
      "          1       0.54      0.64      0.59      3743\n",
      "\n",
      "avg / total       0.85      0.83      0.84     20000\n",
      "\n",
      "\n",
      "\n",
      "2 ExtraTreesClassifier(bootstrap=False, class_weight=None, criterion='entropy',\n",
      "           max_depth=None, max_features='auto', max_leaf_nodes=None,\n",
      "           min_impurity_split=1e-07, min_samples_leaf=1,\n",
      "           min_samples_split=2, min_weight_fraction_leaf=0.0,\n",
      "           n_estimators=100, n_jobs=1, oob_score=False, random_state=None,\n",
      "           verbose=0, warm_start=False)\n",
      "Fold: 0\n",
      "Fold: 1\n",
      "Fold: 2\n",
      "Fold: 3\n",
      "Fold: 4\n",
      "Fold: 5\n",
      "Fold: 6\n",
      "Fold: 7\n",
      "Fold: 8\n",
      "Fold: 9\n",
      "\n",
      "Blending.\n",
      "Accuracy: 83.2550%\n",
      "Log loss: 0.3992\n",
      "MCC: 0.4887\n",
      "             precision    recall  f1-score   support\n",
      "\n",
      "          0       0.91      0.88      0.89     16257\n",
      "          1       0.54      0.64      0.59      3743\n",
      "\n",
      "avg / total       0.85      0.83      0.84     20000\n",
      "\n",
      "\n",
      "\n"
     ]
    }
   ],
   "source": [
    "for j, clf in enumerate(clfs):\n",
    "    print(j, clf)\n",
    "    dataset_blend_test_j = np.zeros((hold_X_scaled.shape[0], skf.get_n_splits()))\n",
    "    fold = 0\n",
    "    for train, test in skf.split(X3, y3):        \n",
    "        print(\"Fold: \" + str(fold))\n",
    "        X_train = X3[train]\n",
    "        y_train = y3[train]\n",
    "        X_test = X3[test]\n",
    "        y_test = y3[test]\n",
    "        clf.fit(X_train, y_train)\n",
    "        y_submission = clf.predict_proba(X_test)[:, 1]\n",
    "        dataset_blend_train[test, j] = y_submission\n",
    "        dataset_blend_test_j[:, fold] = clf.predict_proba(hold_X_scaled)[:, 1]\n",
    "        dataset_blend_test[:, j] = dataset_blend_test_j.mean(1)\n",
    "        fold += 1\n",
    "        \n",
    "    if j == 1:\n",
    "        knnmodel = clf\n",
    "    elif j == 2:\n",
    "        rfmodel = clf\n",
    "    elif j == 3:\n",
    "        etmodel = clf\n",
    "    elif j == 4:\n",
    "        xgbmodel = clf\n",
    "        \n",
    "    print()\n",
    "    print(\"Blending.\")\n",
    "    clf = LogisticRegression(solver='sag')\n",
    "    clf.fit(dataset_blend_train, y3)\n",
    "    y_submission = clf.predict_proba(dataset_blend_test)[:, 1]\n",
    "    \n",
    "    accuracy = accuracy_score(hold_y, np.array([decide(yi) for yi in y_submission]))\n",
    "    logloss = log_loss(hold_y, clf.predict_proba(dataset_blend_test))\n",
    "    mcc = matthews_corrcoef(hold_y, np.array([decide(yi) for yi in y_submission]))\n",
    "    print(\"Accuracy: %.4f%%\" % (accuracy * 100.0))\n",
    "    print(\"Log loss: %.4f\" % logloss)\n",
    "    print(\"MCC: %.4f\" % mcc)\n",
    "    print(classification_report(hold_y, np.array([decide(yi) for yi in y_submission])))\n",
    "    print()\n",
    "    print()\n",
    "metamodel = clf"
   ]
  },
  {
   "cell_type": "code",
   "execution_count": 66,
   "metadata": {},
   "outputs": [
    {
     "name": "stdout",
     "output_type": "stream",
     "text": [
      "Accuracy: 83.2550%\n",
      "Log loss: 0.3992\n",
      "MCC: 0.4887\n",
      "             precision    recall  f1-score   support\n",
      "\n",
      "          0       0.91      0.88      0.89     16257\n",
      "          1       0.54      0.64      0.59      3743\n",
      "\n",
      "avg / total       0.85      0.83      0.84     20000\n",
      "\n"
     ]
    },
    {
     "data": {
      "image/png": "[encoded data removed]",
      "text/plain": [
       "<matplotlib.figure.Figure at 0x133d5048>"
      ]
     },
     "metadata": {},
     "output_type": "display_data"
    }
   ],
   "source": [
    "accuracy = accuracy_score(hold_y, np.array([decide(yi) for yi in y_submission]))\n",
    "logloss = log_loss(hold_y, clf.predict_proba(dataset_blend_test))\n",
    "mcc = matthews_corrcoef(hold_y, np.array([decide(yi) for yi in y_submission]))\n",
    "print(\"Accuracy: %.4f%%\" % (accuracy * 100.0))\n",
    "print(\"Log loss: %.4f\" % logloss)\n",
    "print(\"MCC: %.4f\" % mcc)\n",
    "\n",
    "print(classification_report(hold_y, np.array([decide(yi) for yi in y_submission])))\n",
    "\n",
    "fpr, tpr, _ = roc_curve(hold_y, np.array([decide(yi) for yi in y_submission]))\n",
    "roc_auc = auc(fpr, tpr)\n",
    "\n",
    "plt.title('Receiver Operating Characteristic')\n",
    "plt.plot(fpr, tpr, 'b', label = 'AUC = %0.2f' % roc_auc)\n",
    "plt.legend(loc = 'lower right')\n",
    "plt.plot([0, 1], [0, 1],'r--')\n",
    "plt.xlim([0, 1])\n",
    "plt.ylim([0, 1])\n",
    "plt.ylabel('True Positive Rate')\n",
    "plt.xlabel('False Positive Rate')\n",
    "plt.show()\n",
    "\n"
   ]
  },
  {
   "cell_type": "code",
   "execution_count": 68,
   "metadata": {},
   "outputs": [
    {
     "data": {
      "text/plain": [
       "['C:\\\\users\\\\pairwin\\\\Documents\\\\GitHub\\\\IPy_Notebooks\\\\Analyses\\\\tabmodel_impute.pkl']"
      ]
     },
     "execution_count": 68,
     "metadata": {},
     "output_type": "execute_result"
    }
   ],
   "source": [
    "joblib.dump(knnmodel, r'C:\\users\\pairwin\\Documents\\GitHub\\IPy_Notebooks\\Analyses\\tabmodelknn.pkl')\n",
    "joblib.dump(rfmodel, r'C:\\users\\pairwin\\Documents\\GitHub\\IPy_Notebooks\\Analyses\\tabmodelrf.pkl')\n",
    "joblib.dump(etmodel, r'C:\\users\\pairwin\\Documents\\GitHub\\IPy_Notebooks\\Analyses\\tabmodelet.pkl')\n",
    "joblib.dump(xgbmodel, r'C:\\users\\pairwin\\Documents\\GitHub\\IPy_Notebooks\\Analyses\\tabmodelxgb.pkl')\n",
    "joblib.dump(metamodel, r'C:\\users\\pairwin\\Documents\\GitHub\\IPy_Notebooks\\Analyses\\tabmodelmeta.pkl')\n",
    "joblib.dump(imr, r'C:\\users\\pairwin\\Documents\\GitHub\\IPy_Notebooks\\Analyses\\tabmodel_impute.pkl')"
   ]
  },
  {
   "cell_type": "code",
   "execution_count": null,
   "metadata": {
    "collapsed": true
   },
   "outputs": [],
   "source": []
  }
 ],
 "metadata": {
  "kernelspec": {
   "display_name": "Python 3",
   "language": "python",
   "name": "python3"
  },
  "language_info": {
   "codemirror_mode": {
    "name": "ipython",
    "version": 3
   },
   "file_extension": ".py",
   "mimetype": "text/x-python",
   "name": "python",
   "nbconvert_exporter": "python",
   "pygments_lexer": "ipython3",
   "version": "3.6.1"
  }
 },
 "nbformat": 4,
 "nbformat_minor": 2
}

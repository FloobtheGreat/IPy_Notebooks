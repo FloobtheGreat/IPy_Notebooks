{
 "cells": [
  {
   "cell_type": "code",
   "execution_count": 120,
   "metadata": {
    "collapsed": false
   },
   "outputs": [],
   "source": [
    "import sys\n",
    "#sys.path.insert(0, r\"C:\\users\\pairwin\\Documents\\Github\\HelperPI\")\n",
    "sys.path.insert(0, r'/home/pirwin/Git/HelperPI')\n",
    "\n",
    "import HelperPI\n",
    "import seaborn as sns\n",
    "import pandas as pd\n",
    "import scipy.stats as stats\n",
    "import matplotlib.pyplot as plt\n",
    "import statsmodels.formula.api as sts\n",
    "import numpy as np\n",
    "import xgboost as xgb\n",
    "from sklearn.metrics import accuracy_score, confusion_matrix, roc_curve, auc, roc_auc_score\n",
    "from sklearn.metrics import f1_score, matthews_corrcoef, make_scorer, classification_report\n",
    "from sklearn.preprocessing import Imputer\n",
    "from sklearn.model_selection import GridSearchCV\n",
    "from sklearn.linear_model import LogisticRegression\n",
    "from sklearn.neighbors import KNeighborsClassifier\n",
    "from sklearn.svm import LinearSVC\n",
    "\n",
    "%matplotlib inline\n",
    "\n",
    "pd.options.mode.chained_assignment = None\n",
    "pd.options.display.max_columns = 999"
   ]
  },
  {
   "cell_type": "code",
   "execution_count": 2,
   "metadata": {
    "collapsed": false
   },
   "outputs": [
    {
     "name": "stderr",
     "output_type": "stream",
     "text": [
      "INFO:root:Initializing...\n"
     ]
    }
   ],
   "source": [
    "helper = HelperPI.Helper()"
   ]
  },
  {
   "cell_type": "code",
   "execution_count": 4,
   "metadata": {
    "collapsed": true
   },
   "outputs": [],
   "source": [
    "#sql = helper.getSQL(r\"C:\\users\\pairwin\\Documents\\GitHub\\IPy_Notebooks\\SQL\\TAB_MODELING.sql\")"
   ]
  },
  {
   "cell_type": "code",
   "execution_count": 105,
   "metadata": {
    "collapsed": false
   },
   "outputs": [
    {
     "name": "stderr",
     "output_type": "stream",
     "text": [
      "INFO:root:Getting data types...\n"
     ]
    },
    {
     "name": "stdout",
     "output_type": "stream",
     "text": [
      "                  Count     Column Type\n",
      "0            DATE_VALUE  datetime64[ns]\n",
      "1                RECORD          object\n",
      "2            MEDHINC_CY         float64\n",
      "3             MEDAGE_CY         float64\n",
      "4            CLOSEST_BP         float64\n",
      "5           CLOSEST_CAB         float64\n",
      "6     MALES_IN_HOUSHOLD           int64\n",
      "7   FEMALES_IN_HOUSHOLD           int64\n",
      "8      REWARDS_CUSTOMER           int64\n",
      "9      DAYS_AS_CUSTOMER           int64\n",
      "10   TOTAL_TRANSACTIONS           int64\n",
      "11     REW_TRANSACTIONS           int64\n",
      "12          TOTAL_SPEND         float64\n",
      "13  DAYS_SINCE_PURCHASE           int64\n",
      "14     TARGET_VALUE12MO         float64\n",
      "15  TARGET_PURCH_NEXT15           int64\n",
      "16       DAYS_BTW_PURCH         float64\n"
     ]
    }
   ],
   "source": [
    "#base, dtypesdf = helper.readData(sql)\n",
    "#base = pd.read_csv(r'C:\\users\\pairwin\\Documents\\GitHub\\IPy_Notebooks\\SQL\\tab_model.csv', parse_dates=['DATE_VALUE'])\n",
    "base = pd.read_csv(r'/home/pirwin/Git/IPy_Notebooks/SQL/tab_model.csv',parse_dates=['DATE_VALUE'])\n",
    "base['DAYS_BTW_PURCH'] = base['DAYS_AS_CUSTOMER']/base['TOTAL_TRANSACTIONS']\n",
    "dtypes = helper.getDtypes(base)"
   ]
  },
  {
   "cell_type": "markdown",
   "metadata": {},
   "source": [
    "### Imputing missing then Splitting the data for train and test using helper application"
   ]
  },
  {
   "cell_type": "code",
   "execution_count": 107,
   "metadata": {
    "collapsed": false
   },
   "outputs": [],
   "source": [
    "collist = ['MEDHINC_CY','MEDAGE_CY','CLOSEST_BP','MALES_IN_HOUSHOLD','FEMALES_IN_HOUSHOLD','REWARDS_CUSTOMER',\n",
    "          'DAYS_AS_CUSTOMER','TOTAL_TRANSACTIONS','REW_TRANSACTIONS','TOTAL_SPEND','DAYS_SINCE_PURCHASE',\n",
    "          'DAYS_BTW_PURCH']\n",
    "X = base[collist]\n",
    "y = base['TARGET_PURCH_NEXT15']\n"
   ]
  },
  {
   "cell_type": "markdown",
   "metadata": {},
   "source": [
    "### Determination of missing values"
   ]
  },
  {
   "cell_type": "code",
   "execution_count": 108,
   "metadata": {
    "collapsed": false
   },
   "outputs": [
    {
     "data": {
      "text/html": [
       "<div>\n",
       "<style>\n",
       "    .dataframe thead tr:only-child th {\n",
       "        text-align: right;\n",
       "    }\n",
       "\n",
       "    .dataframe thead th {\n",
       "        text-align: left;\n",
       "    }\n",
       "\n",
       "    .dataframe tbody tr th {\n",
       "        vertical-align: top;\n",
       "    }\n",
       "</style>\n",
       "<table border=\"1\" class=\"dataframe\">\n",
       "  <thead>\n",
       "    <tr style=\"text-align: right;\">\n",
       "      <th></th>\n",
       "      <th>column_name</th>\n",
       "      <th>missing_count</th>\n",
       "      <th>missing_ratio</th>\n",
       "    </tr>\n",
       "  </thead>\n",
       "  <tbody>\n",
       "    <tr>\n",
       "      <th>0</th>\n",
       "      <td>MEDHINC_CY</td>\n",
       "      <td>3792</td>\n",
       "      <td>0.03792</td>\n",
       "    </tr>\n",
       "    <tr>\n",
       "      <th>1</th>\n",
       "      <td>MEDAGE_CY</td>\n",
       "      <td>3792</td>\n",
       "      <td>0.03792</td>\n",
       "    </tr>\n",
       "  </tbody>\n",
       "</table>\n",
       "</div>"
      ],
      "text/plain": [
       "  column_name  missing_count  missing_ratio\n",
       "0  MEDHINC_CY           3792        0.03792\n",
       "1   MEDAGE_CY           3792        0.03792"
      ]
     },
     "execution_count": 108,
     "metadata": {},
     "output_type": "execute_result"
    }
   ],
   "source": [
    "missing_df = X.isnull().sum(axis=0).reset_index()\n",
    "missing_df.columns = ['column_name', 'missing_count']\n",
    "missing_df['missing_ratio'] = missing_df['missing_count'] / X.shape[0]\n",
    "missing_df.loc[missing_df['missing_ratio']>0.01]"
   ]
  },
  {
   "cell_type": "code",
   "execution_count": 112,
   "metadata": {
    "collapsed": false
   },
   "outputs": [
    {
     "name": "stdout",
     "output_type": "stream",
     "text": [
      "MEDHINC_CY Coef: -0.01  pval:  0.1072\n",
      "MEDAGE_CY Coef: 0.03  pval:  0.0000\n",
      "CLOSEST_BP Coef: -0.01  pval:  0.0001\n",
      "MALES_IN_HOUSHOLD Coef: 0.18  pval:  0.0000\n",
      "FEMALES_IN_HOUSHOLD Coef: 0.04  pval:  0.0000\n",
      "REWARDS_CUSTOMER Coef: 0.34  pval:  0.0000\n",
      "DAYS_AS_CUSTOMER Coef: 0.06  pval:  0.0000\n",
      "TOTAL_TRANSACTIONS Coef: 0.30  pval:  0.0000\n",
      "REW_TRANSACTIONS Coef: 0.27  pval:  0.0000\n",
      "TOTAL_SPEND Coef: 0.36  pval:  0.0000\n",
      "DAYS_SINCE_PURCHASE Coef: -0.38  pval:  0.0000\n",
      "DAYS_BTW_PURCH Coef: -0.34  pval:  0.0000\n"
     ]
    },
    {
     "data": {
      "text/plain": [
       "<matplotlib.axes._subplots.AxesSubplot at 0x7f798b60ca20>"
      ]
     },
     "execution_count": 112,
     "metadata": {},
     "output_type": "execute_result"
    },
    {
     "data": {
      "image/png": "[encoded data removed]",
      "text/plain": [
       "<matplotlib.figure.Figure at 0x7f7988081358>"
      ]
     },
     "metadata": {},
     "output_type": "display_data"
    }
   ],
   "source": [
    "\n",
    "imr = Imputer(missing_values='NaN',strategy='median',axis=0)\n",
    "imr = imr.fit(X)\n",
    "imputed_data = pd.DataFrame(imr.transform(X.values), columns = collist)\n",
    "\n",
    "for var in collist:\n",
    "    coef, pval = stats.pearsonr(imputed_data[var].as_matrix(), y.as_matrix())\n",
    "    \n",
    "    print(var + ' Coef: %.2f  pval:  %.4f' % (coef, pval))\n",
    "\n",
    "\n",
    "collist2 = ['MEDAGE_CY','CLOSEST_BP','MALES_IN_HOUSHOLD','FEMALES_IN_HOUSHOLD','REWARDS_CUSTOMER',\n",
    "          'DAYS_AS_CUSTOMER','TOTAL_SPEND','DAYS_SINCE_PURCHASE']\n",
    "\n",
    "imputed_data2 = imputed_data[collist2]\n",
    "    \n",
    "corr = imputed_data2.corr()\n",
    "\n",
    "# Generate a mask for the upper triangle\n",
    "mask = np.zeros_like(corr, dtype=np.bool)\n",
    "mask[np.triu_indices_from(mask)] = True\n",
    "\n",
    "# Set up the matplotlib figure\n",
    "f, ax = plt.subplots(figsize=(11, 9))\n",
    "\n",
    "# Generate a custom diverging colormap\n",
    "cmap = sns.diverging_palette(220, 10, as_cmap=True)\n",
    "\n",
    "# Draw the heatmap with the mask and correct aspect ratio\n",
    "sns.heatmap(corr, mask=mask, cmap=cmap, vmax=.99, center=0,\n",
    "            square=True, linewidths=.5, cbar_kws={\"shrink\": .5})\n",
    "\n",
    "\n",
    "    \n",
    "\n"
   ]
  },
  {
   "cell_type": "code",
   "execution_count": 113,
   "metadata": {
    "collapsed": false
   },
   "outputs": [],
   "source": [
    "train_X, test_X, train_y, test_y = helper.splitData2(imputed_data2, y, 0.5)\n",
    "\n",
    "train_X = pd.DataFrame(train_X, columns=collist2)\n",
    "test_X = pd.DataFrame(test_X, columns=collist2)"
   ]
  },
  {
   "cell_type": "code",
   "execution_count": 114,
   "metadata": {
    "collapsed": false
   },
   "outputs": [
    {
     "data": {
      "text/html": [
       "<div>\n",
       "<style>\n",
       "    .dataframe thead tr:only-child th {\n",
       "        text-align: right;\n",
       "    }\n",
       "\n",
       "    .dataframe thead th {\n",
       "        text-align: left;\n",
       "    }\n",
       "\n",
       "    .dataframe tbody tr th {\n",
       "        vertical-align: top;\n",
       "    }\n",
       "</style>\n",
       "<table border=\"1\" class=\"dataframe\">\n",
       "  <thead>\n",
       "    <tr style=\"text-align: right;\">\n",
       "      <th></th>\n",
       "      <th>MEDAGE_CY</th>\n",
       "      <th>CLOSEST_BP</th>\n",
       "      <th>MALES_IN_HOUSHOLD</th>\n",
       "      <th>FEMALES_IN_HOUSHOLD</th>\n",
       "      <th>REWARDS_CUSTOMER</th>\n",
       "      <th>DAYS_AS_CUSTOMER</th>\n",
       "      <th>TOTAL_SPEND</th>\n",
       "      <th>DAYS_SINCE_PURCHASE</th>\n",
       "    </tr>\n",
       "  </thead>\n",
       "  <tbody>\n",
       "    <tr>\n",
       "      <th>24341</th>\n",
       "      <td>40.0</td>\n",
       "      <td>3.99</td>\n",
       "      <td>0.0</td>\n",
       "      <td>1.0</td>\n",
       "      <td>1.0</td>\n",
       "      <td>1045.0</td>\n",
       "      <td>104.94</td>\n",
       "      <td>726.0</td>\n",
       "    </tr>\n",
       "    <tr>\n",
       "      <th>67534</th>\n",
       "      <td>42.0</td>\n",
       "      <td>8.99</td>\n",
       "      <td>1.0</td>\n",
       "      <td>0.0</td>\n",
       "      <td>1.0</td>\n",
       "      <td>3747.0</td>\n",
       "      <td>1397.47</td>\n",
       "      <td>199.0</td>\n",
       "    </tr>\n",
       "    <tr>\n",
       "      <th>35080</th>\n",
       "      <td>47.0</td>\n",
       "      <td>64.42</td>\n",
       "      <td>0.0</td>\n",
       "      <td>0.0</td>\n",
       "      <td>0.0</td>\n",
       "      <td>1655.0</td>\n",
       "      <td>233.75</td>\n",
       "      <td>1166.0</td>\n",
       "    </tr>\n",
       "    <tr>\n",
       "      <th>4828</th>\n",
       "      <td>42.0</td>\n",
       "      <td>11.81</td>\n",
       "      <td>0.0</td>\n",
       "      <td>0.0</td>\n",
       "      <td>0.0</td>\n",
       "      <td>945.0</td>\n",
       "      <td>144.19</td>\n",
       "      <td>92.0</td>\n",
       "    </tr>\n",
       "    <tr>\n",
       "      <th>59259</th>\n",
       "      <td>43.0</td>\n",
       "      <td>92.59</td>\n",
       "      <td>1.0</td>\n",
       "      <td>0.0</td>\n",
       "      <td>1.0</td>\n",
       "      <td>2668.0</td>\n",
       "      <td>870.94</td>\n",
       "      <td>2005.0</td>\n",
       "    </tr>\n",
       "  </tbody>\n",
       "</table>\n",
       "</div>"
      ],
      "text/plain": [
       "       MEDAGE_CY  CLOSEST_BP  MALES_IN_HOUSHOLD  FEMALES_IN_HOUSHOLD  \\\n",
       "24341       40.0        3.99                0.0                  1.0   \n",
       "67534       42.0        8.99                1.0                  0.0   \n",
       "35080       47.0       64.42                0.0                  0.0   \n",
       "4828        42.0       11.81                0.0                  0.0   \n",
       "59259       43.0       92.59                1.0                  0.0   \n",
       "\n",
       "       REWARDS_CUSTOMER  DAYS_AS_CUSTOMER  TOTAL_SPEND  DAYS_SINCE_PURCHASE  \n",
       "24341               1.0            1045.0       104.94                726.0  \n",
       "67534               1.0            3747.0      1397.47                199.0  \n",
       "35080               0.0            1655.0       233.75               1166.0  \n",
       "4828                0.0             945.0       144.19                 92.0  \n",
       "59259               1.0            2668.0       870.94               2005.0  "
      ]
     },
     "execution_count": 114,
     "metadata": {},
     "output_type": "execute_result"
    }
   ],
   "source": [
    "train_X.head()"
   ]
  },
  {
   "cell_type": "code",
   "execution_count": 76,
   "metadata": {
    "collapsed": false
   },
   "outputs": [],
   "source": [
    "#sns.pairplot(train_X)\n",
    "#sns.plt.savefig('Scattermatrix.png')\n",
    "#plt.show()"
   ]
  },
  {
   "cell_type": "code",
   "execution_count": 115,
   "metadata": {
    "collapsed": true
   },
   "outputs": [],
   "source": [
    "from sklearn.preprocessing import StandardScaler\n",
    "stdsc = StandardScaler()\n",
    "train_X_std = pd.DataFrame(stdsc.fit_transform(train_X), columns=collist2)\n",
    "test_X_std = pd.DataFrame(stdsc.fit_transform(test_X), columns=collist2)\n",
    "\n",
    "#sns.pairplot(train_X_std)\n",
    "#sns.plt.savefig('Scattermatrix.png')\n",
    "#plt.show()"
   ]
  },
  {
   "cell_type": "code",
   "execution_count": 116,
   "metadata": {
    "collapsed": false,
    "scrolled": false
   },
   "outputs": [
    {
     "name": "stdout",
     "output_type": "stream",
     "text": [
      " 1) DAYS_SINCE_PURCHASE            0.314658\n",
      " 2) TOTAL_SPEND                    0.242769\n",
      " 3) DAYS_AS_CUSTOMER               0.141366\n",
      " 4) CLOSEST_BP                     0.133599\n",
      " 5) MEDAGE_CY                      0.084542\n",
      " 6) REWARDS_CUSTOMER               0.044171\n",
      " 7) MALES_IN_HOUSHOLD              0.022201\n",
      " 8) FEMALES_IN_HOUSHOLD            0.016694\n"
     ]
    },
    {
     "data": {
      "image/png": "[encoded data removed]",
      "text/plain": [
       "<matplotlib.figure.Figure at 0x7f798bbcd2b0>"
      ]
     },
     "metadata": {},
     "output_type": "display_data"
    }
   ],
   "source": [
    "from sklearn.ensemble import RandomForestClassifier\n",
    "\n",
    "feat_labels = np.asarray(collist2)\n",
    "\n",
    "forests = RandomForestClassifier(n_estimators=100,\n",
    "                                random_state=0,\n",
    "                                n_jobs=-1)\n",
    "forests.fit(train_X_std, train_y)\n",
    "importances = forests.feature_importances_\n",
    "indices = np.argsort(importances)[::-1]\n",
    "for f in range(train_X_std.shape[1]):\n",
    "    print(\"%2d) %-*s %f\" % (f + 1, 30, feat_labels[indices[f]],\n",
    "                                      importances[indices[f]]))\n",
    "    \n",
    "plt.title('Feature Importance')\n",
    "plt.bar(range(train_X_std.shape[1]), importances[indices], color='lightblue', align='center')\n",
    "plt.xticks(range(train_X_std.shape[1]), feat_labels[indices], rotation=90)\n",
    "plt.xlim([-1, train_X_std.shape[1]])\n",
    "plt.tight_layout()\n",
    "plt.show()"
   ]
  },
  {
   "cell_type": "markdown",
   "metadata": {},
   "source": [
    "### XGBoost Model"
   ]
  },
  {
   "cell_type": "code",
   "execution_count": null,
   "metadata": {
    "collapsed": true,
    "scrolled": true
   },
   "outputs": [],
   "source": [
    "import xgboost as xgb\n",
    "\n",
    "xgb_params = {\n",
    "    'booster': 'gbtree',\n",
    "    'eta': 0.05,\n",
    "    'max_depth': 10,\n",
    "    'subsample': 0.7,\n",
    "    'colsample_bytree': 0.7,\n",
    "    'objective': 'binary:logistic',\n",
    "    'silent': 0,\n",
    "    'seed' : 0,\n",
    "    'eval_metric':'error',\n",
    "    'max_delta_step' : 1\n",
    "}\n",
    "dtrain = xgb.DMatrix(train_X_std, train_y, feature_names=train_X.columns.values)\n",
    "d_test = xgb.DMatrix(test_X_std, test_y, feature_names=test_X.columns.values)\n",
    "model = xgb.train(xgb_params, dtrain, evals=[(d_test, \"eval\")], \n",
    "                  num_boost_round=1000, early_stopping_rounds=100)\n",
    "\n",
    "\n",
    "\n",
    "fig, ax = plt.subplots(figsize=(12,18))\n",
    "xgb.plot_importance(model, height=0.8, ax=ax)\n",
    "plt.show()"
   ]
  },
  {
   "cell_type": "code",
   "execution_count": null,
   "metadata": {
    "collapsed": true
   },
   "outputs": [],
   "source": []
  },
  {
   "cell_type": "markdown",
   "metadata": {},
   "source": [
    "### Sklearn API version"
   ]
  },
  {
   "cell_type": "code",
   "execution_count": 78,
   "metadata": {
    "collapsed": false,
    "scrolled": true
   },
   "outputs": [
    {
     "name": "stdout",
     "output_type": "stream",
     "text": [
      "[0]\tvalidation_0-auc:0.695977\tvalidation_1-auc:0.656847\n",
      "Multiple eval metrics have been passed: 'validation_1-auc' will be used for early stopping.\n",
      "\n",
      "Will train until validation_1-auc hasn't improved in 100 rounds.\n",
      "[1]\tvalidation_0-auc:0.712627\tvalidation_1-auc:0.696714\n",
      "[2]\tvalidation_0-auc:0.744594\tvalidation_1-auc:0.729023\n",
      "[3]\tvalidation_0-auc:0.745812\tvalidation_1-auc:0.730556\n",
      "[4]\tvalidation_0-auc:0.753942\tvalidation_1-auc:0.737286\n",
      "[5]\tvalidation_0-auc:0.755626\tvalidation_1-auc:0.740743\n",
      "[6]\tvalidation_0-auc:0.757644\tvalidation_1-auc:0.743096\n",
      "[7]\tvalidation_0-auc:0.765514\tvalidation_1-auc:0.749565\n",
      "[8]\tvalidation_0-auc:0.769941\tvalidation_1-auc:0.75363\n",
      "[9]\tvalidation_0-auc:0.770702\tvalidation_1-auc:0.754407\n",
      "[10]\tvalidation_0-auc:0.771863\tvalidation_1-auc:0.755843\n",
      "[11]\tvalidation_0-auc:0.776344\tvalidation_1-auc:0.758401\n",
      "[12]\tvalidation_0-auc:0.782737\tvalidation_1-auc:0.76224\n",
      "[13]\tvalidation_0-auc:0.784175\tvalidation_1-auc:0.764536\n",
      "[14]\tvalidation_0-auc:0.784538\tvalidation_1-auc:0.76473\n",
      "[15]\tvalidation_0-auc:0.795742\tvalidation_1-auc:0.776859\n",
      "[16]\tvalidation_0-auc:0.7974\tvalidation_1-auc:0.777779\n",
      "[17]\tvalidation_0-auc:0.797769\tvalidation_1-auc:0.778906\n",
      "[18]\tvalidation_0-auc:0.80866\tvalidation_1-auc:0.798565\n",
      "[19]\tvalidation_0-auc:0.81015\tvalidation_1-auc:0.799575\n",
      "[20]\tvalidation_0-auc:0.812504\tvalidation_1-auc:0.801333\n",
      "[21]\tvalidation_0-auc:0.815686\tvalidation_1-auc:0.803571\n",
      "[22]\tvalidation_0-auc:0.817238\tvalidation_1-auc:0.80491\n",
      "[23]\tvalidation_0-auc:0.8229\tvalidation_1-auc:0.808606\n",
      "[24]\tvalidation_0-auc:0.824551\tvalidation_1-auc:0.810903\n",
      "[25]\tvalidation_0-auc:0.833884\tvalidation_1-auc:0.823908\n",
      "[26]\tvalidation_0-auc:0.835322\tvalidation_1-auc:0.824124\n",
      "[27]\tvalidation_0-auc:0.841757\tvalidation_1-auc:0.829378\n",
      "[28]\tvalidation_0-auc:0.842741\tvalidation_1-auc:0.830485\n",
      "[29]\tvalidation_0-auc:0.844181\tvalidation_1-auc:0.833709\n",
      "[30]\tvalidation_0-auc:0.845149\tvalidation_1-auc:0.834254\n",
      "[31]\tvalidation_0-auc:0.846328\tvalidation_1-auc:0.834296\n",
      "[32]\tvalidation_0-auc:0.847749\tvalidation_1-auc:0.835379\n",
      "[33]\tvalidation_0-auc:0.849041\tvalidation_1-auc:0.835556\n",
      "[34]\tvalidation_0-auc:0.850782\tvalidation_1-auc:0.836177\n",
      "[35]\tvalidation_0-auc:0.852859\tvalidation_1-auc:0.83773\n",
      "[36]\tvalidation_0-auc:0.853362\tvalidation_1-auc:0.837942\n",
      "[37]\tvalidation_0-auc:0.855097\tvalidation_1-auc:0.838711\n",
      "[38]\tvalidation_0-auc:0.856515\tvalidation_1-auc:0.840882\n",
      "[39]\tvalidation_0-auc:0.856851\tvalidation_1-auc:0.841083\n",
      "[40]\tvalidation_0-auc:0.857943\tvalidation_1-auc:0.841879\n",
      "[41]\tvalidation_0-auc:0.858974\tvalidation_1-auc:0.842067\n",
      "[42]\tvalidation_0-auc:0.859784\tvalidation_1-auc:0.842433\n",
      "[43]\tvalidation_0-auc:0.860133\tvalidation_1-auc:0.842692\n",
      "[44]\tvalidation_0-auc:0.864886\tvalidation_1-auc:0.84734\n",
      "[45]\tvalidation_0-auc:0.865209\tvalidation_1-auc:0.847711\n",
      "[46]\tvalidation_0-auc:0.865672\tvalidation_1-auc:0.847818\n",
      "[47]\tvalidation_0-auc:0.865768\tvalidation_1-auc:0.848\n",
      "[48]\tvalidation_0-auc:0.865936\tvalidation_1-auc:0.848125\n",
      "[49]\tvalidation_0-auc:0.866127\tvalidation_1-auc:0.848218\n",
      "[50]\tvalidation_0-auc:0.869831\tvalidation_1-auc:0.851075\n",
      "[51]\tvalidation_0-auc:0.871926\tvalidation_1-auc:0.853443\n",
      "[52]\tvalidation_0-auc:0.873842\tvalidation_1-auc:0.855274\n",
      "[53]\tvalidation_0-auc:0.875028\tvalidation_1-auc:0.857076\n",
      "[54]\tvalidation_0-auc:0.875796\tvalidation_1-auc:0.857409\n",
      "[55]\tvalidation_0-auc:0.876863\tvalidation_1-auc:0.857664\n",
      "[56]\tvalidation_0-auc:0.877376\tvalidation_1-auc:0.857925\n",
      "[57]\tvalidation_0-auc:0.878124\tvalidation_1-auc:0.857932\n",
      "[58]\tvalidation_0-auc:0.881449\tvalidation_1-auc:0.860111\n",
      "[59]\tvalidation_0-auc:0.882809\tvalidation_1-auc:0.860706\n",
      "[60]\tvalidation_0-auc:0.884031\tvalidation_1-auc:0.861539\n",
      "[61]\tvalidation_0-auc:0.886272\tvalidation_1-auc:0.862382\n",
      "[62]\tvalidation_0-auc:0.887253\tvalidation_1-auc:0.863228\n",
      "[63]\tvalidation_0-auc:0.887558\tvalidation_1-auc:0.863565\n",
      "[64]\tvalidation_0-auc:0.888194\tvalidation_1-auc:0.864035\n",
      "[65]\tvalidation_0-auc:0.889109\tvalidation_1-auc:0.864416\n",
      "[66]\tvalidation_0-auc:0.88976\tvalidation_1-auc:0.864897\n",
      "[67]\tvalidation_0-auc:0.889859\tvalidation_1-auc:0.864954\n",
      "[68]\tvalidation_0-auc:0.890809\tvalidation_1-auc:0.865696\n",
      "[69]\tvalidation_0-auc:0.891191\tvalidation_1-auc:0.86573\n",
      "[70]\tvalidation_0-auc:0.891711\tvalidation_1-auc:0.865782\n",
      "[71]\tvalidation_0-auc:0.892575\tvalidation_1-auc:0.866399\n",
      "[72]\tvalidation_0-auc:0.892784\tvalidation_1-auc:0.866502\n",
      "[73]\tvalidation_0-auc:0.893931\tvalidation_1-auc:0.86768\n",
      "[74]\tvalidation_0-auc:0.895754\tvalidation_1-auc:0.868959\n",
      "[75]\tvalidation_0-auc:0.895936\tvalidation_1-auc:0.868865\n",
      "[76]\tvalidation_0-auc:0.896132\tvalidation_1-auc:0.869043\n",
      "[77]\tvalidation_0-auc:0.896402\tvalidation_1-auc:0.869134\n",
      "[78]\tvalidation_0-auc:0.8969\tvalidation_1-auc:0.869542\n",
      "[79]\tvalidation_0-auc:0.897279\tvalidation_1-auc:0.869708\n",
      "[80]\tvalidation_0-auc:0.89799\tvalidation_1-auc:0.869228\n",
      "[81]\tvalidation_0-auc:0.897991\tvalidation_1-auc:0.869335\n",
      "[82]\tvalidation_0-auc:0.89838\tvalidation_1-auc:0.86982\n",
      "[83]\tvalidation_0-auc:0.899005\tvalidation_1-auc:0.870182\n",
      "[84]\tvalidation_0-auc:0.899888\tvalidation_1-auc:0.870678\n",
      "[85]\tvalidation_0-auc:0.900086\tvalidation_1-auc:0.871\n",
      "[86]\tvalidation_0-auc:0.900393\tvalidation_1-auc:0.870948\n",
      "[87]\tvalidation_0-auc:0.900408\tvalidation_1-auc:0.870893\n",
      "[88]\tvalidation_0-auc:0.900881\tvalidation_1-auc:0.871112\n",
      "[89]\tvalidation_0-auc:0.901301\tvalidation_1-auc:0.871219\n",
      "[90]\tvalidation_0-auc:0.901632\tvalidation_1-auc:0.871458\n",
      "[91]\tvalidation_0-auc:0.902514\tvalidation_1-auc:0.871314\n",
      "[92]\tvalidation_0-auc:0.902707\tvalidation_1-auc:0.871447\n",
      "[93]\tvalidation_0-auc:0.902868\tvalidation_1-auc:0.871369\n",
      "[94]\tvalidation_0-auc:0.903105\tvalidation_1-auc:0.871521\n",
      "[95]\tvalidation_0-auc:0.90321\tvalidation_1-auc:0.871297\n",
      "[96]\tvalidation_0-auc:0.903456\tvalidation_1-auc:0.871366\n",
      "[97]\tvalidation_0-auc:0.903624\tvalidation_1-auc:0.871476\n",
      "[98]\tvalidation_0-auc:0.903839\tvalidation_1-auc:0.871459\n",
      "[99]\tvalidation_0-auc:0.90416\tvalidation_1-auc:0.871591\n"
     ]
    },
    {
     "data": {
      "image/png": "[encoded data removed]",
      "text/plain": [
       "<matplotlib.figure.Figure at 0x7f798b447588>"
      ]
     },
     "metadata": {},
     "output_type": "display_data"
    }
   ],
   "source": [
    "mod = xgb.XGBClassifier(max_depth=8, subsample=0.7, colsample_bytree=0.7, objective='binary:logistic', learning_rate=0.05, \n",
    "                       max_delta_step=0.5, seed=0)\n",
    "fitted = mod.fit(train_X_std, train_y, \n",
    "                 eval_set=[(train_X_std, train_y), (test_X_std, test_y)], \n",
    "                 eval_metric='auc',\n",
    "                 early_stopping_rounds=100,\n",
    "                 verbose=True)\n",
    "\n",
    "fig, ax = plt.subplots(figsize=(12,18))\n",
    "xgb.plot_importance(fitted, height=0.8, ax=ax)\n",
    "plt.show()"
   ]
  },
  {
   "cell_type": "markdown",
   "metadata": {},
   "source": [
    "### Confusion matrix and ROC Curve"
   ]
  },
  {
   "cell_type": "code",
   "execution_count": 79,
   "metadata": {
    "collapsed": false
   },
   "outputs": [
    {
     "name": "stdout",
     "output_type": "stream",
     "text": [
      "Accuracy: 86.50%\n"
     ]
    },
    {
     "data": {
      "image/png": "[encoded data removed]",
      "text/plain": [
       "<matplotlib.figure.Figure at 0x7f79847ce6d8>"
      ]
     },
     "metadata": {},
     "output_type": "display_data"
    },
    {
     "name": "stdout",
     "output_type": "stream",
     "text": [
      "             precision    recall  f1-score   support\n",
      "\n",
      "          0       0.89      0.95      0.92     40529\n",
      "          1       0.71      0.49      0.58      9471\n",
      "\n",
      "avg / total       0.85      0.87      0.85     50000\n",
      "\n"
     ]
    }
   ],
   "source": [
    "#from sklearn.metrics import accuracy_score, confusion_matrix, roc_curve, auc\n",
    "pred_y = fitted.predict(test_X_std)\n",
    "\n",
    "\n",
    "\n",
    "\n",
    "predictions = [round(value) for value in pred_y]\n",
    "# evaluate predictions\n",
    "accuracy = accuracy_score(test_y, pred_y)\n",
    "print(\"Accuracy: %.2f%%\" % (accuracy * 100.0))\n",
    "\n",
    "#conmat = confusion_matrix(y_test, predictions)\n",
    "#print(conmat)\n",
    "#plt.figure()\n",
    "#helper.plot_confusion_matrix(conmat,classes = np.array(['0','1']), title='Confusion Matrix, no Normalization')\n",
    "\n",
    "fpr, tpr, _ = roc_curve(test_y, predictions)\n",
    "roc_auc = auc(fpr, tpr)\n",
    "\n",
    "plt.title('Receiver Operating Characteristic')\n",
    "plt.plot(fpr, tpr, 'b', label = 'AUC = %0.2f' % roc_auc)\n",
    "plt.legend(loc = 'lower right')\n",
    "plt.plot([0, 1], [0, 1],'r--')\n",
    "plt.xlim([0, 1])\n",
    "plt.ylim([0, 1])\n",
    "plt.ylabel('True Positive Rate')\n",
    "plt.xlabel('False Positive Rate')\n",
    "plt.show()\n",
    "\n",
    "print(classification_report(test_y, predictions))\n"
   ]
  },
  {
   "cell_type": "markdown",
   "metadata": {},
   "source": [
    "### Parameter Tuning Version"
   ]
  },
  {
   "cell_type": "code",
   "execution_count": null,
   "metadata": {
    "collapsed": true
   },
   "outputs": [],
   "source": [
    "def modelfit(alg, dtrain, dlabels, feature_names, useTrainCV=True, cv_folds=5, early_stopping_rounds=50):\n",
    "\n",
    "    if useTrainCV:\n",
    "        xgb_param = alg.get_xgb_params()\n",
    "        xgtrain = xgb.DMatrix(dtrain.values, label=dlabels.values, feature_names = feature_names)\n",
    "        cvresult = xgb.cv(xgb_param, xgtrain, num_boost_round=alg.get_params()['n_estimators'], nfold=cv_folds,\n",
    "                          metrics='auc', early_stopping_rounds=early_stopping_rounds, verbose_eval=False)\n",
    "        alg.set_params(n_estimators=cvresult.shape[0])\n",
    "\n",
    "    alg.fit(dtrain, dlabels, eval_metric='auc')\n",
    "\n",
    "    dtrain_predictions = alg.predict(dtrain)\n",
    "    dtrain_predprob = alg.predict_proba(dtrain)[:,1]\n",
    "\n",
    "    #Print model report:\n",
    "    print(\"\\nModel Report\")\n",
    "    print(\"Accuracy : %.4g\" % accuracy_score(dlabels.values, dtrain_predictions))\n",
    "    print(\"AUC Score (Train): %f\" % roc_auc_score(dlabels.values, dtrain_predprob))\n",
    "\n",
    "    feat_imp = pd.Series(alg.booster().get_fscore()).sort_values(ascending=False)\n",
    "    feat_imp.plot(kind='bar', title='Feature Importances')\n",
    "    plt.ylabel('Feature Importance Score')\n",
    "    \n",
    "    \n",
    "    "
   ]
  },
  {
   "cell_type": "code",
   "execution_count": null,
   "metadata": {
    "collapsed": true,
    "scrolled": false
   },
   "outputs": [],
   "source": [
    "xgb1 = xgb.XGBClassifier(\n",
    "    learning_rate = 0.07,\n",
    "    n_estimators = 1000,\n",
    "    max_depth = 5,\n",
    "    min_child_weight = 1,\n",
    "    gamma = 0,\n",
    "    subsample = 0.7,\n",
    "    colsample_bytree = 0.7,\n",
    "    objective = 'binary:logistic',\n",
    "    scale_pos_weight = 1,\n",
    "    seed = 27)\n",
    "\n",
    "modelfit(xgb1, train_X_std, train_y, collist)"
   ]
  },
  {
   "cell_type": "code",
   "execution_count": 82,
   "metadata": {
    "collapsed": false
   },
   "outputs": [
    {
     "data": {
      "text/plain": [
       "make_scorer(roc_auc_score, average=weighted)"
      ]
     },
     "execution_count": 82,
     "metadata": {},
     "output_type": "execute_result"
    }
   ],
   "source": [
    "auc_weighted = make_scorer(roc_auc_score, average='weighted')\n",
    "auc_weighted"
   ]
  },
  {
   "cell_type": "code",
   "execution_count": null,
   "metadata": {
    "collapsed": true
   },
   "outputs": [],
   "source": [
    "param_test1 = {\n",
    "    'max_depth':list(range(3,10,2)),\n",
    "    'min_child_weight':list(range(1,6,2))\n",
    "}\n",
    "\n",
    "gsearch1 = GridSearchCV(estimator = xgb.XGBClassifier( learning_rate =0.1, n_estimators=300, max_depth=5,\n",
    "     min_child_weight=1, gamma=0, subsample=0.7, colsample_bytree=0.7,\n",
    "     objective= 'binary:logistic', nthread=4, scale_pos_weight=1, seed=27),\n",
    "     param_grid = param_test1, scoring='f1', iid=False, cv=5)\n",
    "\n",
    "gsearch1.fit(train_X.values, train_y.values)\n",
    "\n",
    "gsearch1.grid_scores_, gsearch1.best_params_, gsearch1.best_score_"
   ]
  },
  {
   "cell_type": "code",
   "execution_count": null,
   "metadata": {
    "collapsed": true
   },
   "outputs": [],
   "source": [
    "# max_depth = 5\n",
    "\n",
    "param_test2 = {\n",
    "    'min_child_weight':[2,3,4,5],\n",
    "    'max_depth':[2,3,4,5]\n",
    "}\n",
    "\n",
    "gsearch2 = GridSearchCV(estimator = xgb.XGBClassifier( learning_rate =0.07, n_estimators=300, max_depth=4,\n",
    "     min_child_weight=4, gamma=0, subsample=0.7, colsample_bytree=0.7,\n",
    "     objective= 'binary:logistic', nthread=4, scale_pos_weight=1, seed=27),\n",
    "     param_grid = param_test2, scoring ='f1', iid=False, cv=5)\n",
    "\n",
    "gsearch2.fit(train_X.values, train_y.values)\n",
    "\n",
    "gsearch2.grid_scores_, gsearch2.best_params_, gsearch2.best_score_"
   ]
  },
  {
   "cell_type": "code",
   "execution_count": null,
   "metadata": {
    "collapsed": true
   },
   "outputs": [],
   "source": [
    "#max_depth = 4\n",
    "#min_child_weight = 4\n",
    "\n",
    "param_test3 = {\n",
    "    'gamma':[i/10.0 for i in range(0, 5)]\n",
    "}\n",
    "\n",
    "gsearch3 = GridSearchCV(estimator = xgb.XGBClassifier( learning_rate =0.07, n_estimators=300, max_depth=4,\n",
    "     min_child_weight=4, gamma=0, subsample=0.7, colsample_bytree=0.7,\n",
    "     objective= 'binary:logistic', nthread=4, scale_pos_weight=1, seed=27),\n",
    "     param_grid = param_test3, scoring = 'f1', iid=False, cv=5)\n",
    "\n",
    "gsearch3.fit(train_X.values, train_y.values)\n",
    "\n",
    "gsearch3.grid_scores_, gsearch3.best_params_, gsearch3.best_score_"
   ]
  },
  {
   "cell_type": "code",
   "execution_count": null,
   "metadata": {
    "collapsed": true
   },
   "outputs": [],
   "source": [
    "xgb2 = xgb.XGBClassifier(\n",
    "    learning_rate = 0.07,\n",
    "    n_estimators = 1000,\n",
    "    max_depth = 4,\n",
    "    min_child_weight = 4,\n",
    "    gamma = 0.4,\n",
    "    subsample = 0.7,\n",
    "    colsample_bytree = 0.7,\n",
    "    objective = 'binary:logistic',\n",
    "    scale_pos_weight = 1,\n",
    "    seed = 27)\n",
    "\n",
    "modelfit(xgb2, train_X_std, train_y, collist)\n",
    "\n",
    "\n"
   ]
  },
  {
   "cell_type": "code",
   "execution_count": null,
   "metadata": {
    "collapsed": true
   },
   "outputs": [],
   "source": [
    "#max_depth = 4\n",
    "#min_child_weight = 4\n",
    "#gamma = 0.4\n",
    "\n",
    "param_test4 = {\n",
    "    'subsample':[i/10.0 for i in range(3, 10)],\n",
    "    'colsample_bytree':[i/10.0 for i in range(4, 10)]\n",
    "}\n",
    "\n",
    "gsearch4 = GridSearchCV(estimator = xgb.XGBClassifier( learning_rate =0.07, n_estimators=140, max_depth=4,\n",
    "     min_child_weight=4, gamma=0.4, subsample=0.7, colsample_bytree=0.7,\n",
    "     objective= 'binary:logistic', scale_pos_weight=1, seed=27),\n",
    "     param_grid = param_test4, scoring = 'f1', iid=False, cv=5)\n",
    "\n",
    "gsearch4.fit(train_X.values, train_y.values)\n",
    "\n",
    "gsearch4.grid_scores_, gsearch4.best_params_, gsearch4.best_score_"
   ]
  },
  {
   "cell_type": "code",
   "execution_count": null,
   "metadata": {
    "collapsed": true,
    "scrolled": true
   },
   "outputs": [],
   "source": [
    "#max_depth = 4\n",
    "#min_child_weight = 4\n",
    "#gamma = 0.4\n",
    "#subsample = 0.4\n",
    "#colsample_bytree = 0.5\n",
    "\n",
    "param_test5 = {\n",
    "\n",
    "    'colsample_bytree':[i/100.0 for i in range(30, 65, 5)],\n",
    "    'subsample':[i/100 for i in range(30,65,5)]\n",
    "}\n",
    "\n",
    "gsearch5 = GridSearchCV(estimator = xgb.XGBClassifier( learning_rate =0.07, n_estimators=140, max_depth=4,\n",
    "     min_child_weight=4, gamma=0.4, subsample=0.4, colsample_bytree=0.5,\n",
    "     objective= 'binary:logistic', scale_pos_weight=1, seed=27),\n",
    "     param_grid = param_test5, scoring = 'f1', iid=False, cv=5)\n",
    "\n",
    "gsearch5.fit(train_X.values, train_y.values)\n",
    "\n",
    "gsearch5.grid_scores_, gsearch5.best_params_, gsearch5.best_score_"
   ]
  },
  {
   "cell_type": "code",
   "execution_count": null,
   "metadata": {
    "collapsed": true
   },
   "outputs": [],
   "source": [
    "#max_depth = 4\n",
    "#min_child_weight = 4\n",
    "#gamma = 0.4\n",
    "#subsample = 0.4\n",
    "#colsample_bytree = 0.5\n",
    "\n",
    "param_test6 = {\n",
    "    'reg_alpha':[1e-5, 1e-2, 0.1, 1, 100]\n",
    "}\n",
    "\n",
    "gsearch6 = GridSearchCV(estimator = xgb.XGBClassifier( learning_rate =0.07, n_estimators=300, max_depth=4,\n",
    "     min_child_weight=4, gamma=0.4, subsample=0.4, colsample_bytree=0.5,\n",
    "     objective= 'binary:logistic', scale_pos_weight=1, seed=27),\n",
    "     param_grid = param_test6, scoring = 'f1', iid=False, cv=5)\n",
    "\n",
    "gsearch6.fit(train_X.values, train_y.values)\n",
    "\n",
    "gsearch6.grid_scores_, gsearch6.best_params_, gsearch6.best_score_"
   ]
  },
  {
   "cell_type": "code",
   "execution_count": null,
   "metadata": {
    "collapsed": true
   },
   "outputs": [],
   "source": [
    "#max_depth = 4\n",
    "#min_child_weight = 4\n",
    "#gamma = 0.4\n",
    "#subsample = 0.4\n",
    "#colsample_bytree = 0.5\n",
    "#reg_alpha = 100\n",
    "\n",
    "param_test7 = {\n",
    "    'reg_alpha':[80, 90, 100, 110, 120, 130, 140]\n",
    "}\n",
    "\n",
    "gsearch7 = GridSearchCV(estimator = xgb.XGBClassifier( learning_rate =0.07, n_estimators=300, max_depth=4,\n",
    "     min_child_weight=4, gamma=0.4, subsample=0.4, colsample_bytree=0.5,\n",
    "     objective= 'binary:logistic', scale_pos_weight=1, seed=27),\n",
    "     param_grid = param_test7, scoring = 'f1', iid=False, cv=5)\n",
    "\n",
    "gsearch7.fit(train_X.values, train_y.values)\n",
    "\n",
    "gsearch7.grid_scores_, gsearch7.best_params_, gsearch7.best_score_"
   ]
  },
  {
   "cell_type": "code",
   "execution_count": null,
   "metadata": {
    "collapsed": true
   },
   "outputs": [],
   "source": [
    "xgb3 = xgb.XGBClassifier(\n",
    "    learning_rate = 0.01,\n",
    "    n_estimators = 1000,\n",
    "    max_depth = 4,\n",
    "    min_child_weight = 4,\n",
    "    gamma = 0.4,\n",
    "    subsample = 0.4,\n",
    "    colsample_bytree = 0.55,\n",
    "    objective = 'binary:logistic',\n",
    "    scale_pos_weight = 1,\n",
    "    reg_alpha=100,\n",
    "    seed = 27)\n",
    "\n",
    "modelfit(xgb3, train_X_std, train_y, collist)"
   ]
  },
  {
   "cell_type": "code",
   "execution_count": null,
   "metadata": {
    "collapsed": true
   },
   "outputs": [],
   "source": [
    "tuned_model = xgb.XGBClassifier(learning_rate = 0.01,\n",
    "                        n_estimators = 1000,\n",
    "                        max_depth = 4,\n",
    "                        min_child_weight = 4,\n",
    "                        gamma = 0.4,\n",
    "                        subsample = 0.4,\n",
    "                        colsample_bytree = 0.5,\n",
    "                        objective = 'binary:logistic',\n",
    "                        scale_pos_weight = 1,\n",
    "                        reg_alpha=100,\n",
    "                        seed = 27)\n",
    "fitted = tuned_model.fit(train_X_std, train_y, \n",
    "                 eval_set=[(train_X_std, train_y), (test_X_std, test_y)], \n",
    "                 eval_metric='error',\n",
    "                 early_stopping_rounds=50,\n",
    "                 verbose=True)\n",
    "\n",
    "fig, ax = plt.subplots(figsize=(12,18))\n",
    "xgb.plot_importance(fitted, height=0.8, ax=ax)\n",
    "plt.show()"
   ]
  },
  {
   "cell_type": "code",
   "execution_count": null,
   "metadata": {
    "collapsed": true
   },
   "outputs": [],
   "source": [
    "pred_y = fitted.predict(test_X_std)\n",
    "\n",
    "predictions = [round(value) for value in pred_y]\n",
    "# evaluate predictions\n",
    "accuracy = accuracy_score(test_y, predictions)\n",
    "print(\"Accuracy: %.2f%%\" % (accuracy * 100.0))\n",
    "\n",
    "#conmat = confusion_matrix(y_test, predictions)\n",
    "#print(conmat)\n",
    "#plt.figure()\n",
    "#helper.plot_confusion_matrix(conmat,classes = np.array(['0','1']), title='Confusion Matrix, no Normalization')\n",
    "\n",
    "fpr, tpr, _ = roc_curve(test_y, predictions)\n",
    "roc_auc = auc(fpr, tpr)\n",
    "\n",
    "plt.title('Receiver Operating Characteristic')\n",
    "plt.plot(fpr, tpr, 'b', label = 'AUC = %0.2f' % roc_auc)\n",
    "plt.legend(loc = 'lower right')\n",
    "plt.plot([0, 1], [0, 1],'r--')\n",
    "plt.xlim([0, 1])\n",
    "plt.ylim([0, 1])\n",
    "plt.ylabel('True Positive Rate')\n",
    "plt.xlabel('False Positive Rate')\n",
    "plt.show()"
   ]
  },
  {
   "cell_type": "markdown",
   "metadata": {},
   "source": [
    "###  Alternate Parameter tuning - only for fast running algorithms"
   ]
  },
  {
   "cell_type": "code",
   "execution_count": 125,
   "metadata": {
    "collapsed": false,
    "scrolled": true
   },
   "outputs": [
    {
     "name": "stdout",
     "output_type": "stream",
     "text": [
      "# Tuning hyper-parameters for roc_auc\n",
      "\n",
      "Best parameters set found on development set:\n",
      "\n",
      "{'class_weight': 'balanced', 'dual': False, 'C': 10}\n",
      "\n",
      "Grid scores on development set:\n",
      "\n",
      "0.859 (+/-0.012) for {'class_weight': 'balanced', 'dual': False, 'C': 10}\n",
      "0.859 (+/-0.012) for {'class_weight': 'balanced', 'dual': False, 'C': 1}\n",
      "0.859 (+/-0.012) for {'class_weight': 'balanced', 'dual': False, 'C': 0.1}\n",
      "0.859 (+/-0.012) for {'class_weight': 'balanced', 'dual': False, 'C': 0.01}\n",
      "0.858 (+/-0.012) for {'class_weight': 'balanced', 'dual': False, 'C': 0.001}\n",
      "\n",
      "Detailed classification report:\n",
      "\n",
      "The model is trained on the full development set.\n",
      "The scores are computed on the full evaluation set.\n",
      "\n",
      "             precision    recall  f1-score   support\n",
      "\n",
      "          0       0.94      0.76      0.84     40529\n",
      "          1       0.44      0.79      0.56      9471\n",
      "\n",
      "avg / total       0.84      0.77      0.79     50000\n",
      "\n",
      "\n"
     ]
    }
   ],
   "source": [
    "\n",
    "tuned_parameters = [{\n",
    "    'C': [10, 1, .1, .01, .001],\n",
    "    'dual':[False],\n",
    "    'class_weight':['balanced']\n",
    "}]\n",
    "\n",
    "scores = ['roc_auc']\n",
    "\n",
    "for score in scores:\n",
    "    print(\"# Tuning hyper-parameters for %s\" % score)\n",
    "    print()\n",
    "\n",
    "    clf = GridSearchCV(LinearSVC(), tuned_parameters, cv=5,\n",
    "                       scoring='%s' % score)\n",
    "    clf.fit(train_X_std, train_y)\n",
    "\n",
    "    print(\"Best parameters set found on development set:\")\n",
    "    print()\n",
    "    print(clf.best_params_)\n",
    "    print()\n",
    "    print(\"Grid scores on development set:\")\n",
    "    print()\n",
    "    means = clf.cv_results_['mean_test_score']\n",
    "    stds = clf.cv_results_['std_test_score']\n",
    "    for mean, std, params in zip(means, stds, clf.cv_results_['params']):\n",
    "        print(\"%0.3f (+/-%0.03f) for %r\"\n",
    "              % (mean, std * 2, params))\n",
    "    print()\n",
    "\n",
    "    print(\"Detailed classification report:\")\n",
    "    print()\n",
    "    print(\"The model is trained on the full development set.\")\n",
    "    print(\"The scores are computed on the full evaluation set.\")\n",
    "    print()\n",
    "    y_true, y_pred = test_y, clf.predict(test_X_std)\n",
    "    print(classification_report(y_true, y_pred))\n",
    "    print()"
   ]
  },
  {
   "cell_type": "code",
   "execution_count": 126,
   "metadata": {
    "collapsed": false
   },
   "outputs": [
    {
     "name": "stdout",
     "output_type": "stream",
     "text": [
      "             precision    recall  f1-score   support\n",
      "\n",
      "          0       0.94      0.76      0.84     40529\n",
      "          1       0.44      0.79      0.56      9471\n",
      "\n",
      "avg / total       0.84      0.77      0.79     50000\n",
      "\n",
      "Accuracy: 76.87%\n"
     ]
    },
    {
     "data": {
      "image/png": "[encoded data removed]",
      "text/plain": [
       "<matplotlib.figure.Figure at 0x7f798bc4fef0>"
      ]
     },
     "metadata": {},
     "output_type": "display_data"
    }
   ],
   "source": [
    "mod = LinearSVC(C=1, class_weight='balanced',dual=False)\n",
    "\n",
    "model = mod.fit(train_X_std, train_y)\n",
    "\n",
    "predicted = model.predict(test_X_std)\n",
    "\n",
    "print(classification_report(test_y, predicted))\n",
    "\n",
    "\n",
    "# evaluate predictions\n",
    "accuracy = accuracy_score(test_y, predicted)\n",
    "print(\"Accuracy: %.2f%%\" % (accuracy * 100.0))\n",
    "\n",
    "#conmat = confusion_matrix(y_test, predictions)\n",
    "#print(conmat)\n",
    "#plt.figure()\n",
    "#helper.plot_confusion_matrix(conmat,classes = np.array(['0','1']), title='Confusion Matrix, no Normalization')\n",
    "\n",
    "fpr, tpr, _ = roc_curve(test_y, predicted)\n",
    "roc_auc = auc(fpr, tpr)\n",
    "\n",
    "plt.title('Receiver Operating Characteristic')\n",
    "plt.plot(fpr, tpr, 'b', label = 'AUC = %0.2f' % roc_auc)\n",
    "plt.legend(loc = 'lower right')\n",
    "plt.plot([0, 1], [0, 1],'r--')\n",
    "plt.xlim([0, 1])\n",
    "plt.ylim([0, 1])\n",
    "plt.ylabel('True Positive Rate')\n",
    "plt.xlabel('False Positive Rate')\n",
    "plt.show()"
   ]
  },
  {
   "cell_type": "markdown",
   "metadata": {},
   "source": [
    "### sklearn mlpclassifier"
   ]
  },
  {
   "cell_type": "code",
   "execution_count": null,
   "metadata": {
    "collapsed": true
   },
   "outputs": [],
   "source": [
    "from sklearn.neural_network import MLPClassifier"
   ]
  },
  {
   "cell_type": "code",
   "execution_count": null,
   "metadata": {
    "collapsed": true,
    "scrolled": true
   },
   "outputs": [],
   "source": [
    "\n",
    "clf = MLPClassifier(activation='logistic', early_stopping=True, learning_rate='adaptive', learning_rate_init=.0001, \n",
    "                    verbose=True, validation_fraction=0.1)\n",
    "clf.fit(train_X_std, train_y)"
   ]
  },
  {
   "cell_type": "code",
   "execution_count": null,
   "metadata": {
    "collapsed": true
   },
   "outputs": [],
   "source": [
    "pred_y = clf.predict(test_X_std)\n",
    "\n",
    "accuracy = accuracy_score(test_y, pred_y)\n",
    "print(\"Accuracy: %.2f%%\" % (accuracy * 100.0))\n",
    "\n",
    "\n",
    "fpr, tpr, _ = roc_curve(test_y, pred_y)\n",
    "roc_auc = auc(fpr, tpr)\n",
    "\n",
    "plt.title('Receiver Operating Characteristic')\n",
    "plt.plot(fpr, tpr, 'b', label = 'AUC = %0.2f' % roc_auc)\n",
    "plt.legend(loc = 'lower right')\n",
    "plt.plot([0, 1], [0, 1],'r--')\n",
    "plt.xlim([0, 1])\n",
    "plt.ylim([0, 1])\n",
    "plt.ylabel('True Positive Rate')\n",
    "plt.xlabel('False Positive Rate')\n",
    "plt.show()"
   ]
  },
  {
   "cell_type": "code",
   "execution_count": null,
   "metadata": {
    "collapsed": true
   },
   "outputs": [],
   "source": [
    "clf.predict_proba(test_X_std)"
   ]
  },
  {
   "cell_type": "code",
   "execution_count": null,
   "metadata": {
    "collapsed": true
   },
   "outputs": [],
   "source": [
    "np.all(np.isfinite(test_X))"
   ]
  },
  {
   "cell_type": "code",
   "execution_count": null,
   "metadata": {
    "collapsed": true
   },
   "outputs": [],
   "source": [
    "np.any(np.isnan(test_X))"
   ]
  },
  {
   "cell_type": "code",
   "execution_count": null,
   "metadata": {
    "collapsed": true
   },
   "outputs": [],
   "source": []
  },
  {
   "cell_type": "code",
   "execution_count": null,
   "metadata": {
    "collapsed": true
   },
   "outputs": [],
   "source": []
  }
 ],
 "metadata": {
  "kernelspec": {
   "display_name": "Python 3",
   "language": "python",
   "name": "python3"
  },
  "language_info": {
   "codemirror_mode": {
    "name": "ipython",
    "version": 3
   },
   "file_extension": ".py",
   "mimetype": "text/x-python",
   "name": "python",
   "nbconvert_exporter": "python",
   "pygments_lexer": "ipython3",
   "version": "3.5.3"
  }
 },
 "nbformat": 4,
 "nbformat_minor": 2
}

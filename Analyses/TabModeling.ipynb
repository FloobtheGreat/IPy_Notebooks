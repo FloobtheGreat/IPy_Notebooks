{
 "cells": [
  {
   "cell_type": "code",
   "execution_count": 359,
   "metadata": {},
   "outputs": [],
   "source": [
    "import sys\n",
    "sys.path.insert(0, r\"C:\\users\\pairwin\\Documents\\Github\\HelperPI\")\n",
    "#sys.path.insert(0, r'/home/pirwin/Git/HelperPI')\n",
    "import itertools\n",
    "import HelperPI\n",
    "import seaborn as sns\n",
    "import pandas as pd\n",
    "import scipy.stats as stats\n",
    "import matplotlib.pyplot as plt\n",
    "import statsmodels.formula.api as sts\n",
    "import numpy as np\n",
    "import xgboost as xgb\n",
    "from sklearn.metrics import accuracy_score, confusion_matrix, roc_curve, auc, roc_auc_score\n",
    "from sklearn.metrics import f1_score, matthews_corrcoef, make_scorer, classification_report\n",
    "from sklearn.preprocessing import Imputer\n",
    "from sklearn.model_selection import GridSearchCV\n",
    "from sklearn.linear_model import LogisticRegression\n",
    "from sklearn.neighbors import KNeighborsClassifier\n",
    "from sklearn.svm import LinearSVC\n",
    "from sklearn.calibration import CalibratedClassifierCV\n",
    "from sklearn.externals import joblib\n",
    "from imblearn.over_sampling import SMOTE\n",
    "from sklearn.ensemble import RandomForestClassifier, ExtraTreesClassifier\n",
    "from sklearn.ensemble import GradientBoostingClassifier\n",
    "from sklearn.preprocessing import StandardScaler\n",
    "from sklearn.model_selection import StratifiedKFold\n",
    "\n",
    "%matplotlib inline\n",
    "\n",
    "pd.options.mode.chained_assignment = None\n",
    "pd.options.display.max_columns = 999"
   ]
  },
  {
   "cell_type": "code",
   "execution_count": 356,
   "metadata": {
    "collapsed": true
   },
   "outputs": [],
   "source": [
    "def plot_confusion_matrix(cm, classes,\n",
    "                          normalize=False,\n",
    "                          title='Confusion matrix',\n",
    "                          cmap=plt.cm.Blues):\n",
    "    \"\"\"\n",
    "    This function prints and plots the confusion matrix.\n",
    "    Normalization can be applied by setting `normalize=True`.\n",
    "    \"\"\"\n",
    "    if normalize:\n",
    "        cm = cm.astype('float') / cm.sum(axis=1)[:, np.newaxis]\n",
    "        print(\"Normalized confusion matrix\")\n",
    "    else:\n",
    "        print('Confusion matrix, without normalization')\n",
    "\n",
    "    print(cm)\n",
    "\n",
    "    plt.imshow(cm, interpolation='nearest', cmap=cmap)\n",
    "    plt.title(title)\n",
    "    plt.colorbar()\n",
    "    tick_marks = np.arange(len(classes))\n",
    "    plt.xticks(tick_marks, classes, rotation=45)\n",
    "    plt.yticks(tick_marks, classes)\n",
    "\n",
    "    fmt = '.2f' if normalize else 'd'\n",
    "    thresh = cm.max() / 2.\n",
    "    for i, j in itertools.product(range(cm.shape[0]), range(cm.shape[1])):\n",
    "        plt.text(j, i, format(cm[i, j], fmt),\n",
    "                 horizontalalignment=\"center\",\n",
    "                 color=\"white\" if cm[i, j] > thresh else \"black\")\n",
    "\n",
    "    plt.tight_layout()\n",
    "    plt.ylabel('True label')\n",
    "    plt.xlabel('Predicted label')"
   ]
  },
  {
   "cell_type": "code",
   "execution_count": 2,
   "metadata": {},
   "outputs": [
    {
     "name": "stderr",
     "output_type": "stream",
     "text": [
      "INFO:root:Initializing...\n"
     ]
    }
   ],
   "source": [
    "helper = HelperPI.Helper()"
   ]
  },
  {
   "cell_type": "code",
   "execution_count": 3,
   "metadata": {
    "collapsed": true
   },
   "outputs": [],
   "source": [
    "#sql = helper.getSQL(r\"C:\\users\\pairwin\\Documents\\GitHub\\IPy_Notebooks\\SQL\\TAB_MODELING.sql\")"
   ]
  },
  {
   "cell_type": "code",
   "execution_count": 4,
   "metadata": {},
   "outputs": [
    {
     "name": "stderr",
     "output_type": "stream",
     "text": [
      "INFO:root:Getting data types...\n"
     ]
    },
    {
     "name": "stdout",
     "output_type": "stream",
     "text": [
      "                  Count     Column Type\n",
      "0            DATE_VALUE  datetime64[ns]\n",
      "1                RECORD          object\n",
      "2            MEDHINC_CY         float64\n",
      "3             MEDAGE_CY         float64\n",
      "4            CLOSEST_BP         float64\n",
      "5           CLOSEST_CAB         float64\n",
      "6     MALES_IN_HOUSHOLD           int64\n",
      "7   FEMALES_IN_HOUSHOLD           int64\n",
      "8      REWARDS_CUSTOMER           int64\n",
      "9      DAYS_AS_CUSTOMER           int64\n",
      "10   TOTAL_TRANSACTIONS           int64\n",
      "11     REW_TRANSACTIONS           int64\n",
      "12          TOTAL_SPEND         float64\n",
      "13  DAYS_SINCE_PURCHASE           int64\n",
      "14     TARGET_VALUE12MO         float64\n",
      "15  TARGET_PURCH_NEXT15           int64\n",
      "16       DAYS_BTW_PURCH         float64\n"
     ]
    }
   ],
   "source": [
    "#base, dtypesdf = helper.readData(sql)\n",
    "base = pd.read_csv(r'C:\\users\\pairwin\\Documents\\GitHub\\IPy_Notebooks\\SQL\\tab_model.csv', parse_dates=['DATE_VALUE'])\n",
    "#base = pd.read_csv(r'/home/pirwin/Git/IPy_Notebooks/SQL/tab_model.csv',parse_dates=['DATE_VALUE'])\n",
    "base['DAYS_BTW_PURCH'] = base['DAYS_AS_CUSTOMER']/base['TOTAL_TRANSACTIONS']\n",
    "dtypes = helper.getDtypes(base)"
   ]
  },
  {
   "cell_type": "markdown",
   "metadata": {},
   "source": [
    "### Imputing missing then Splitting the data for train and test using helper application"
   ]
  },
  {
   "cell_type": "code",
   "execution_count": 247,
   "metadata": {
    "collapsed": true
   },
   "outputs": [],
   "source": [
    "collist = ['MEDHINC_CY','MEDAGE_CY','CLOSEST_BP','MALES_IN_HOUSHOLD','FEMALES_IN_HOUSHOLD','REWARDS_CUSTOMER',\n",
    "          'DAYS_AS_CUSTOMER','TOTAL_TRANSACTIONS','REW_TRANSACTIONS','TOTAL_SPEND','DAYS_SINCE_PURCHASE',\n",
    "          'DAYS_BTW_PURCH']\n",
    "X = base[collist]\n",
    "y = base['TARGET_PURCH_NEXT15']\n"
   ]
  },
  {
   "cell_type": "markdown",
   "metadata": {},
   "source": [
    "### Determination of missing values"
   ]
  },
  {
   "cell_type": "code",
   "execution_count": 248,
   "metadata": {},
   "outputs": [
    {
     "data": {
      "text/html": [
       "<div>\n",
       "<style>\n",
       "    .dataframe thead tr:only-child th {\n",
       "        text-align: right;\n",
       "    }\n",
       "\n",
       "    .dataframe thead th {\n",
       "        text-align: left;\n",
       "    }\n",
       "\n",
       "    .dataframe tbody tr th {\n",
       "        vertical-align: top;\n",
       "    }\n",
       "</style>\n",
       "<table border=\"1\" class=\"dataframe\">\n",
       "  <thead>\n",
       "    <tr style=\"text-align: right;\">\n",
       "      <th></th>\n",
       "      <th>column_name</th>\n",
       "      <th>missing_count</th>\n",
       "      <th>missing_ratio</th>\n",
       "    </tr>\n",
       "  </thead>\n",
       "  <tbody>\n",
       "    <tr>\n",
       "      <th>0</th>\n",
       "      <td>MEDHINC_CY</td>\n",
       "      <td>3792</td>\n",
       "      <td>0.03792</td>\n",
       "    </tr>\n",
       "    <tr>\n",
       "      <th>1</th>\n",
       "      <td>MEDAGE_CY</td>\n",
       "      <td>3792</td>\n",
       "      <td>0.03792</td>\n",
       "    </tr>\n",
       "  </tbody>\n",
       "</table>\n",
       "</div>"
      ],
      "text/plain": [
       "  column_name  missing_count  missing_ratio\n",
       "0  MEDHINC_CY           3792        0.03792\n",
       "1   MEDAGE_CY           3792        0.03792"
      ]
     },
     "execution_count": 248,
     "metadata": {},
     "output_type": "execute_result"
    }
   ],
   "source": [
    "missing_df = X.isnull().sum(axis=0).reset_index()\n",
    "missing_df.columns = ['column_name', 'missing_count']\n",
    "missing_df['missing_ratio'] = missing_df['missing_count'] / X.shape[0]\n",
    "missing_df.loc[missing_df['missing_ratio']>0.01]"
   ]
  },
  {
   "cell_type": "code",
   "execution_count": 249,
   "metadata": {},
   "outputs": [
    {
     "name": "stdout",
     "output_type": "stream",
     "text": [
      "MEDHINC_CY Coef: -0.01  pval:  0.1072\n",
      "MEDAGE_CY Coef: 0.03  pval:  0.0000\n",
      "CLOSEST_BP Coef: -0.01  pval:  0.0001\n",
      "MALES_IN_HOUSHOLD Coef: 0.18  pval:  0.0000\n",
      "FEMALES_IN_HOUSHOLD Coef: 0.04  pval:  0.0000\n",
      "REWARDS_CUSTOMER Coef: 0.34  pval:  0.0000\n",
      "DAYS_AS_CUSTOMER Coef: 0.06  pval:  0.0000\n",
      "TOTAL_TRANSACTIONS Coef: 0.30  pval:  0.0000\n",
      "REW_TRANSACTIONS Coef: 0.27  pval:  0.0000\n",
      "TOTAL_SPEND Coef: 0.36  pval:  0.0000\n",
      "DAYS_SINCE_PURCHASE Coef: -0.38  pval:  0.0000\n",
      "DAYS_BTW_PURCH Coef: -0.34  pval:  0.0000\n"
     ]
    },
    {
     "data": {
      "text/plain": [
       "<matplotlib.axes._subplots.AxesSubplot at 0x1342eba8>"
      ]
     },
     "execution_count": 249,
     "metadata": {},
     "output_type": "execute_result"
    },
    {
     "data": {
      "image/png": "[encoded data removed]",
      "text/plain": [
       "<matplotlib.figure.Figure at 0x13a2ec18>"
      ]
     },
     "metadata": {},
     "output_type": "display_data"
    }
   ],
   "source": [
    "\n",
    "imr = Imputer(missing_values='NaN',strategy='median',axis=0)\n",
    "imr = imr.fit(X)\n",
    "imputed_data = pd.DataFrame(imr.transform(X.values), columns = collist)\n",
    "\n",
    "for var in collist:\n",
    "    coef, pval = stats.pearsonr(imputed_data[var].as_matrix(), y.as_matrix())\n",
    "    \n",
    "    print(var + ' Coef: %.2f  pval:  %.4f' % (coef, pval))\n",
    "\n",
    "\n",
    "collist2 = ['MEDAGE_CY','CLOSEST_BP','MALES_IN_HOUSHOLD','FEMALES_IN_HOUSHOLD','REWARDS_CUSTOMER',\n",
    "          'DAYS_AS_CUSTOMER','TOTAL_SPEND','DAYS_SINCE_PURCHASE']\n",
    "\n",
    "imputed_data2 = imputed_data[collist2]\n",
    "    \n",
    "corr = imputed_data2.corr()\n",
    "\n",
    "# Generate a mask for the upper triangle\n",
    "mask = np.zeros_like(corr, dtype=np.bool)\n",
    "mask[np.triu_indices_from(mask)] = True\n",
    "\n",
    "# Set up the matplotlib figure\n",
    "f, ax = plt.subplots(figsize=(11, 9))\n",
    "\n",
    "# Generate a custom diverging colormap\n",
    "cmap = sns.diverging_palette(220, 10, as_cmap=True)\n",
    "\n",
    "# Draw the heatmap with the mask and correct aspect ratio\n",
    "sns.heatmap(corr, mask=mask, cmap=cmap, vmax=.99, center=0,\n",
    "            square=True, linewidths=.5, cbar_kws={\"shrink\": .5})\n",
    "\n",
    "\n",
    "    \n",
    "\n"
   ]
  },
  {
   "cell_type": "code",
   "execution_count": 8,
   "metadata": {
    "collapsed": true
   },
   "outputs": [],
   "source": [
    "train_X, test_X, train_y, test_y = helper.splitData2(imputed_data2, y, 0.5)\n",
    "\n",
    "train_X = pd.DataFrame(train_X, columns=collist2)\n",
    "test_X = pd.DataFrame(test_X, columns=collist2)"
   ]
  },
  {
   "cell_type": "code",
   "execution_count": 9,
   "metadata": {},
   "outputs": [
    {
     "data": {
      "text/html": [
       "<div>\n",
       "<style>\n",
       "    .dataframe thead tr:only-child th {\n",
       "        text-align: right;\n",
       "    }\n",
       "\n",
       "    .dataframe thead th {\n",
       "        text-align: left;\n",
       "    }\n",
       "\n",
       "    .dataframe tbody tr th {\n",
       "        vertical-align: top;\n",
       "    }\n",
       "</style>\n",
       "<table border=\"1\" class=\"dataframe\">\n",
       "  <thead>\n",
       "    <tr style=\"text-align: right;\">\n",
       "      <th></th>\n",
       "      <th>MEDAGE_CY</th>\n",
       "      <th>CLOSEST_BP</th>\n",
       "      <th>MALES_IN_HOUSHOLD</th>\n",
       "      <th>FEMALES_IN_HOUSHOLD</th>\n",
       "      <th>REWARDS_CUSTOMER</th>\n",
       "      <th>DAYS_AS_CUSTOMER</th>\n",
       "      <th>TOTAL_SPEND</th>\n",
       "      <th>DAYS_SINCE_PURCHASE</th>\n",
       "    </tr>\n",
       "  </thead>\n",
       "  <tbody>\n",
       "    <tr>\n",
       "      <th>24341</th>\n",
       "      <td>40.0</td>\n",
       "      <td>3.99</td>\n",
       "      <td>0.0</td>\n",
       "      <td>1.0</td>\n",
       "      <td>1.0</td>\n",
       "      <td>1045.0</td>\n",
       "      <td>104.94</td>\n",
       "      <td>726.0</td>\n",
       "    </tr>\n",
       "    <tr>\n",
       "      <th>67534</th>\n",
       "      <td>42.0</td>\n",
       "      <td>8.99</td>\n",
       "      <td>1.0</td>\n",
       "      <td>0.0</td>\n",
       "      <td>1.0</td>\n",
       "      <td>3747.0</td>\n",
       "      <td>1397.47</td>\n",
       "      <td>199.0</td>\n",
       "    </tr>\n",
       "    <tr>\n",
       "      <th>35080</th>\n",
       "      <td>47.0</td>\n",
       "      <td>64.42</td>\n",
       "      <td>0.0</td>\n",
       "      <td>0.0</td>\n",
       "      <td>0.0</td>\n",
       "      <td>1655.0</td>\n",
       "      <td>233.75</td>\n",
       "      <td>1166.0</td>\n",
       "    </tr>\n",
       "    <tr>\n",
       "      <th>4828</th>\n",
       "      <td>42.0</td>\n",
       "      <td>11.81</td>\n",
       "      <td>0.0</td>\n",
       "      <td>0.0</td>\n",
       "      <td>0.0</td>\n",
       "      <td>945.0</td>\n",
       "      <td>144.19</td>\n",
       "      <td>92.0</td>\n",
       "    </tr>\n",
       "    <tr>\n",
       "      <th>59259</th>\n",
       "      <td>43.0</td>\n",
       "      <td>92.59</td>\n",
       "      <td>1.0</td>\n",
       "      <td>0.0</td>\n",
       "      <td>1.0</td>\n",
       "      <td>2668.0</td>\n",
       "      <td>870.94</td>\n",
       "      <td>2005.0</td>\n",
       "    </tr>\n",
       "  </tbody>\n",
       "</table>\n",
       "</div>"
      ],
      "text/plain": [
       "       MEDAGE_CY  CLOSEST_BP  MALES_IN_HOUSHOLD  FEMALES_IN_HOUSHOLD  \\\n",
       "24341       40.0        3.99                0.0                  1.0   \n",
       "67534       42.0        8.99                1.0                  0.0   \n",
       "35080       47.0       64.42                0.0                  0.0   \n",
       "4828        42.0       11.81                0.0                  0.0   \n",
       "59259       43.0       92.59                1.0                  0.0   \n",
       "\n",
       "       REWARDS_CUSTOMER  DAYS_AS_CUSTOMER  TOTAL_SPEND  DAYS_SINCE_PURCHASE  \n",
       "24341               1.0            1045.0       104.94                726.0  \n",
       "67534               1.0            3747.0      1397.47                199.0  \n",
       "35080               0.0            1655.0       233.75               1166.0  \n",
       "4828                0.0             945.0       144.19                 92.0  \n",
       "59259               1.0            2668.0       870.94               2005.0  "
      ]
     },
     "execution_count": 9,
     "metadata": {},
     "output_type": "execute_result"
    }
   ],
   "source": [
    "train_X.head()"
   ]
  },
  {
   "cell_type": "code",
   "execution_count": 11,
   "metadata": {
    "collapsed": true
   },
   "outputs": [],
   "source": [
    "#sns.pairplot(train_X)\n",
    "#sns.plt.savefig('Scattermatrix.png')\n",
    "#plt.show()"
   ]
  },
  {
   "cell_type": "code",
   "execution_count": 136,
   "metadata": {},
   "outputs": [
    {
     "name": "stderr",
     "output_type": "stream",
     "text": [
      "INFO:imblearn.base:Compute classes statistics ...\n",
      "INFO:imblearn.base:2 classes detected: Counter({0: 40542, 1: 9458})\n",
      "INFO:imblearn.base:Generated 31084 new samples ...\n"
     ]
    }
   ],
   "source": [
    "\n",
    "stdsc = StandardScaler()\n",
    "train_X_std = pd.DataFrame(stdsc.fit_transform(train_X), columns=collist2)\n",
    "test_X_std = pd.DataFrame(stdsc.fit_transform(test_X), columns=collist2)\n",
    "\n",
    "sm = SMOTE(random_state=123, ratio=1.0)\n",
    "train_X_std_res, train_y_res = sm.fit_sample(train_X_std, train_y)\n",
    "\n",
    "#train_X_std_res = pd.DataFrame(train_X_std_res, columns = collist2)\n",
    "#train_y_res = pd.DataFrame(train_y_res)\n",
    "\n",
    "#sns.pairplot(train_X_std)\n",
    "#sns.plt.savefig('Scattermatrix.png')\n",
    "#plt.show()"
   ]
  },
  {
   "cell_type": "code",
   "execution_count": 180,
   "metadata": {},
   "outputs": [
    {
     "data": {
      "text/plain": [
       "(9458, 50000)"
      ]
     },
     "execution_count": 180,
     "metadata": {},
     "output_type": "execute_result"
    }
   ],
   "source": [
    "sum(train_y), len(train_y)\n",
    "print()"
   ]
  },
  {
   "cell_type": "code",
   "execution_count": 181,
   "metadata": {},
   "outputs": [
    {
     "data": {
      "text/plain": [
       "(9471, 50000)"
      ]
     },
     "execution_count": 181,
     "metadata": {},
     "output_type": "execute_result"
    }
   ],
   "source": [
    "sum(test_y), len(test_y)"
   ]
  },
  {
   "cell_type": "code",
   "execution_count": 139,
   "metadata": {
    "scrolled": false
   },
   "outputs": [
    {
     "name": "stdout",
     "output_type": "stream",
     "text": [
      " 1) DAYS_SINCE_PURCHASE            0.344017\n",
      " 2) TOTAL_SPEND                    0.211120\n",
      " 3) DAYS_AS_CUSTOMER               0.126991\n",
      " 4) CLOSEST_BP                     0.112925\n",
      " 5) MEDAGE_CY                      0.103562\n",
      " 6) REWARDS_CUSTOMER               0.060074\n",
      " 7) MALES_IN_HOUSHOLD              0.025860\n",
      " 8) FEMALES_IN_HOUSHOLD            0.015451\n"
     ]
    },
    {
     "data": {
      "image/png": "[encoded data removed]",
      "text/plain": [
       "<matplotlib.figure.Figure at 0x1331b518>"
      ]
     },
     "metadata": {},
     "output_type": "display_data"
    }
   ],
   "source": [
    "from sklearn.ensemble import RandomForestClassifier\n",
    "\n",
    "feat_labels = np.asarray(collist2)\n",
    "\n",
    "forests = RandomForestClassifier(n_estimators=100,\n",
    "                                random_state=0,\n",
    "                                n_jobs=-1)\n",
    "forests.fit(train_X_std_res, train_y_res)\n",
    "importances = forests.feature_importances_\n",
    "indices = np.argsort(importances)[::-1]\n",
    "for f in range(train_X_std_res.shape[1]):\n",
    "    print(\"%2d) %-*s %f\" % (f + 1, 30, feat_labels[indices[f]],\n",
    "                                      importances[indices[f]]))\n",
    "    \n",
    "plt.title('Feature Importance')\n",
    "plt.bar(range(train_X_std_res.shape[1]), importances[indices], color='lightblue', align='center')\n",
    "plt.xticks(range(train_X_std_res.shape[1]), feat_labels[indices], rotation=90)\n",
    "plt.xlim([-1, train_X_std_res.shape[1]])\n",
    "plt.tight_layout()\n",
    "plt.show()"
   ]
  },
  {
   "cell_type": "markdown",
   "metadata": {},
   "source": [
    "### Parameter Tuning Version"
   ]
  },
  {
   "cell_type": "code",
   "execution_count": 11,
   "metadata": {
    "collapsed": true
   },
   "outputs": [],
   "source": [
    "def modelfit(alg, dtrain, dlabels, feature_names, useTrainCV=True, cv_folds=5, early_stopping_rounds=50):\n",
    "\n",
    "    if useTrainCV:\n",
    "        xgb_param = alg.get_xgb_params()\n",
    "        xgtrain = xgb.DMatrix(dtrain.values, label=dlabels.values, feature_names = feature_names)\n",
    "        cvresult = xgb.cv(xgb_param, xgtrain, num_boost_round=alg.get_params()['n_estimators'], nfold=cv_folds,\n",
    "                          metrics='auc', early_stopping_rounds=early_stopping_rounds, verbose_eval=False)\n",
    "        alg.set_params(n_estimators=cvresult.shape[0])\n",
    "\n",
    "    alg.fit(dtrain, dlabels, eval_metric='auc')\n",
    "\n",
    "    dtrain_predictions = alg.predict(dtrain)\n",
    "    dtrain_predprob = alg.predict_proba(dtrain)[:,1]\n",
    "\n",
    "    #Print model report:\n",
    "    print(\"\\nModel Report\")\n",
    "    print(\"Accuracy : %.4g\" % accuracy_score(dlabels.values, dtrain_predictions))\n",
    "    print(\"AUC Score (Train): %f\" % roc_auc_score(dlabels.values, dtrain_predprob))\n",
    "\n",
    "    feat_imp = pd.Series(alg.booster().get_fscore()).sort_values(ascending=False)\n",
    "    feat_imp.plot(kind='bar', title='Feature Importances')\n",
    "    plt.ylabel('Feature Importance Score')\n",
    "    \n",
    "    \n",
    "    "
   ]
  },
  {
   "cell_type": "code",
   "execution_count": 13,
   "metadata": {
    "scrolled": false
   },
   "outputs": [
    {
     "name": "stdout",
     "output_type": "stream",
     "text": [
      "\n",
      "Model Report\n",
      "Accuracy : 0.872\n",
      "AUC Score (Train): 0.892034\n"
     ]
    },
    {
     "data": {
      "image/png": "[encoded data removed]",
      "text/plain": [
       "<matplotlib.figure.Figure at 0xdd82a58>"
      ]
     },
     "metadata": {},
     "output_type": "display_data"
    }
   ],
   "source": [
    "xgb1 = xgb.XGBClassifier(\n",
    "    learning_rate = 0.07,\n",
    "    n_estimators = 1000,\n",
    "    max_depth = 5,\n",
    "    min_child_weight = 1,\n",
    "    gamma = 0,\n",
    "    subsample = 0.7,\n",
    "    colsample_bytree = 0.7,\n",
    "    objective = 'binary:logistic',\n",
    "    scale_pos_weight = 1,\n",
    "    seed = 27)\n",
    "\n",
    "modelfit(xgb1, train_X_std, train_y, collist2)"
   ]
  },
  {
   "cell_type": "code",
   "execution_count": 14,
   "metadata": {},
   "outputs": [
    {
     "data": {
      "text/plain": [
       "make_scorer(roc_auc_score, average=weighted)"
      ]
     },
     "execution_count": 14,
     "metadata": {},
     "output_type": "execute_result"
    }
   ],
   "source": [
    "auc_weighted = make_scorer(roc_auc_score, average='weighted')\n",
    "auc_weighted"
   ]
  },
  {
   "cell_type": "code",
   "execution_count": 73,
   "metadata": {},
   "outputs": [
    {
     "name": "stderr",
     "output_type": "stream",
     "text": [
      "C:\\ProgramData\\Anaconda3\\lib\\site-packages\\sklearn\\model_selection\\_search.py:667: DeprecationWarning: The grid_scores_ attribute was deprecated in version 0.18 in favor of the more elaborate cv_results_ attribute. The grid_scores_ attribute will not be available from 0.20\n",
      "  DeprecationWarning)\n"
     ]
    },
    {
     "data": {
      "text/plain": [
       "([mean: 0.84072, std: 0.04001, params: {'max_depth': 3, 'min_child_weight': 1},\n",
       "  mean: 0.83988, std: 0.04069, params: {'max_depth': 3, 'min_child_weight': 3},\n",
       "  mean: 0.84160, std: 0.03939, params: {'max_depth': 3, 'min_child_weight': 5},\n",
       "  mean: 0.85552, std: 0.06262, params: {'max_depth': 5, 'min_child_weight': 1},\n",
       "  mean: 0.85496, std: 0.06213, params: {'max_depth': 5, 'min_child_weight': 3},\n",
       "  mean: 0.85492, std: 0.06199, params: {'max_depth': 5, 'min_child_weight': 5},\n",
       "  mean: 0.86032, std: 0.06990, params: {'max_depth': 7, 'min_child_weight': 1},\n",
       "  mean: 0.86028, std: 0.06986, params: {'max_depth': 7, 'min_child_weight': 3},\n",
       "  mean: 0.85968, std: 0.07068, params: {'max_depth': 7, 'min_child_weight': 5},\n",
       "  mean: 0.86516, std: 0.07435, params: {'max_depth': 9, 'min_child_weight': 1},\n",
       "  mean: 0.86479, std: 0.07454, params: {'max_depth': 9, 'min_child_weight': 3},\n",
       "  mean: 0.86413, std: 0.07347, params: {'max_depth': 9, 'min_child_weight': 5}],\n",
       " {'max_depth': 9, 'min_child_weight': 1},\n",
       " 0.86516042256802539)"
      ]
     },
     "execution_count": 73,
     "metadata": {},
     "output_type": "execute_result"
    }
   ],
   "source": [
    "param_test1 = {\n",
    "    'max_depth':list(range(3,10,2)),\n",
    "    'min_child_weight':list(range(1,6,2))\n",
    "}\n",
    "\n",
    "gsearch1 = GridSearchCV(estimator = xgb.XGBClassifier( learning_rate =0.1, n_estimators=140, max_depth=5,\n",
    "     min_child_weight=1, gamma=0, subsample=0.7, colsample_bytree=0.7,\n",
    "     objective= 'binary:logistic', nthread=4, scale_pos_weight=1, seed=27),\n",
    "     param_grid = param_test1, scoring='f1', iid=False, cv=5)\n",
    "\n",
    "gsearch1.fit(train_X_std_res, train_y_res)\n",
    "\n",
    "gsearch1.grid_scores_, gsearch1.best_params_, gsearch1.best_score_"
   ]
  },
  {
   "cell_type": "code",
   "execution_count": 76,
   "metadata": {},
   "outputs": [
    {
     "name": "stderr",
     "output_type": "stream",
     "text": [
      "C:\\ProgramData\\Anaconda3\\lib\\site-packages\\sklearn\\model_selection\\_search.py:667: DeprecationWarning: The grid_scores_ attribute was deprecated in version 0.18 in favor of the more elaborate cv_results_ attribute. The grid_scores_ attribute will not be available from 0.20\n",
      "  DeprecationWarning)\n"
     ]
    },
    {
     "data": {
      "text/plain": [
       "([mean: 0.86277, std: 0.07228, params: {'max_depth': 8, 'min_child_weight': 1},\n",
       "  mean: 0.86231, std: 0.07269, params: {'max_depth': 8, 'min_child_weight': 2},\n",
       "  mean: 0.86245, std: 0.07206, params: {'max_depth': 8, 'min_child_weight': 3},\n",
       "  mean: 0.86516, std: 0.07435, params: {'max_depth': 9, 'min_child_weight': 1},\n",
       "  mean: 0.86422, std: 0.07353, params: {'max_depth': 9, 'min_child_weight': 2},\n",
       "  mean: 0.86479, std: 0.07454, params: {'max_depth': 9, 'min_child_weight': 3},\n",
       "  mean: 0.86843, std: 0.07386, params: {'max_depth': 10, 'min_child_weight': 1},\n",
       "  mean: 0.86797, std: 0.07301, params: {'max_depth': 10, 'min_child_weight': 2},\n",
       "  mean: 0.86649, std: 0.07416, params: {'max_depth': 10, 'min_child_weight': 3}],\n",
       " {'max_depth': 10, 'min_child_weight': 1},\n",
       " 0.86843314923125481)"
      ]
     },
     "execution_count": 76,
     "metadata": {},
     "output_type": "execute_result"
    }
   ],
   "source": [
    "# max_depth = 9\n",
    "# min_child_weight = 1\n",
    "\n",
    "param_test2 = {\n",
    "    'min_child_weight':[1,2,3],\n",
    "    'max_depth':[8,9,10]\n",
    "}\n",
    "\n",
    "gsearch2 = GridSearchCV(estimator = xgb.XGBClassifier( learning_rate =0.1, n_estimators=140, max_depth=9,\n",
    "     min_child_weight=1, gamma=0.0, subsample=0.7, colsample_bytree=0.7,\n",
    "     objective= 'binary:logistic', nthread=4, scale_pos_weight=1, seed=27),\n",
    "     param_grid = param_test2, scoring ='f1', iid=False, cv=5)\n",
    "\n",
    "gsearch2.fit(train_X_std_res, train_y_res)\n",
    "\n",
    "gsearch2.grid_scores_, gsearch2.best_params_, gsearch2.best_score_"
   ]
  },
  {
   "cell_type": "code",
   "execution_count": 77,
   "metadata": {},
   "outputs": [
    {
     "name": "stderr",
     "output_type": "stream",
     "text": [
      "C:\\ProgramData\\Anaconda3\\lib\\site-packages\\sklearn\\model_selection\\_search.py:667: DeprecationWarning: The grid_scores_ attribute was deprecated in version 0.18 in favor of the more elaborate cv_results_ attribute. The grid_scores_ attribute will not be available from 0.20\n",
      "  DeprecationWarning)\n"
     ]
    },
    {
     "data": {
      "text/plain": [
       "([mean: 0.86843, std: 0.07386, params: {'gamma': 0.0},\n",
       "  mean: 0.86826, std: 0.07282, params: {'gamma': 0.1},\n",
       "  mean: 0.86824, std: 0.07344, params: {'gamma': 0.2},\n",
       "  mean: 0.86750, std: 0.07376, params: {'gamma': 0.3},\n",
       "  mean: 0.86766, std: 0.07419, params: {'gamma': 0.4}],\n",
       " {'gamma': 0.0},\n",
       " 0.86843314923125481)"
      ]
     },
     "execution_count": 77,
     "metadata": {},
     "output_type": "execute_result"
    }
   ],
   "source": [
    "#max_depth = 10\n",
    "#min_child_weight = 1\n",
    "\n",
    "param_test3 = {\n",
    "    'gamma':[i/10.0 for i in range(0, 5)]\n",
    "}\n",
    "\n",
    "gsearch3 = GridSearchCV(estimator = xgb.XGBClassifier( learning_rate =0.1, n_estimators=140, max_depth=10,\n",
    "     min_child_weight=1, gamma=0, subsample=0.7, colsample_bytree=0.7,\n",
    "     objective= 'binary:logistic', nthread=4, scale_pos_weight=1, seed=27),\n",
    "     param_grid = param_test3, scoring = 'f1', iid=False, cv=5)\n",
    "\n",
    "gsearch3.fit(train_X_std_res, train_y_res)\n",
    "\n",
    "gsearch3.grid_scores_, gsearch3.best_params_, gsearch3.best_score_"
   ]
  },
  {
   "cell_type": "code",
   "execution_count": 79,
   "metadata": {},
   "outputs": [
    {
     "ename": "AttributeError",
     "evalue": "'numpy.ndarray' object has no attribute 'values'",
     "output_type": "error",
     "traceback": [
      "\u001b[1;31m---------------------------------------------------------------------------\u001b[0m",
      "\u001b[1;31mAttributeError\u001b[0m                            Traceback (most recent call last)",
      "\u001b[1;32m<ipython-input-79-03f365dc7505>\u001b[0m in \u001b[0;36m<module>\u001b[1;34m()\u001b[0m\n\u001b[0;32m     11\u001b[0m     seed = 27)\n\u001b[0;32m     12\u001b[0m \u001b[1;33m\u001b[0m\u001b[0m\n\u001b[1;32m---> 13\u001b[1;33m \u001b[0mmodelfit\u001b[0m\u001b[1;33m(\u001b[0m\u001b[0mxgb2\u001b[0m\u001b[1;33m,\u001b[0m \u001b[0mtrain_X_std_res\u001b[0m\u001b[1;33m,\u001b[0m \u001b[0mtrain_y_res\u001b[0m\u001b[1;33m,\u001b[0m \u001b[0mcollist2\u001b[0m\u001b[1;33m)\u001b[0m\u001b[1;33m\u001b[0m\u001b[0m\n\u001b[0m\u001b[0;32m     14\u001b[0m \u001b[1;33m\u001b[0m\u001b[0m\n\u001b[0;32m     15\u001b[0m \u001b[1;33m\u001b[0m\u001b[0m\n",
      "\u001b[1;32m<ipython-input-11-9ea32f444892>\u001b[0m in \u001b[0;36mmodelfit\u001b[1;34m(alg, dtrain, dlabels, feature_names, useTrainCV, cv_folds, early_stopping_rounds)\u001b[0m\n\u001b[0;32m      3\u001b[0m     \u001b[1;32mif\u001b[0m \u001b[0museTrainCV\u001b[0m\u001b[1;33m:\u001b[0m\u001b[1;33m\u001b[0m\u001b[0m\n\u001b[0;32m      4\u001b[0m         \u001b[0mxgb_param\u001b[0m \u001b[1;33m=\u001b[0m \u001b[0malg\u001b[0m\u001b[1;33m.\u001b[0m\u001b[0mget_xgb_params\u001b[0m\u001b[1;33m(\u001b[0m\u001b[1;33m)\u001b[0m\u001b[1;33m\u001b[0m\u001b[0m\n\u001b[1;32m----> 5\u001b[1;33m         \u001b[0mxgtrain\u001b[0m \u001b[1;33m=\u001b[0m \u001b[0mxgb\u001b[0m\u001b[1;33m.\u001b[0m\u001b[0mDMatrix\u001b[0m\u001b[1;33m(\u001b[0m\u001b[0mdtrain\u001b[0m\u001b[1;33m.\u001b[0m\u001b[0mvalues\u001b[0m\u001b[1;33m,\u001b[0m \u001b[0mlabel\u001b[0m\u001b[1;33m=\u001b[0m\u001b[0mdlabels\u001b[0m\u001b[1;33m.\u001b[0m\u001b[0mvalues\u001b[0m\u001b[1;33m,\u001b[0m \u001b[0mfeature_names\u001b[0m \u001b[1;33m=\u001b[0m \u001b[0mfeature_names\u001b[0m\u001b[1;33m)\u001b[0m\u001b[1;33m\u001b[0m\u001b[0m\n\u001b[0m\u001b[0;32m      6\u001b[0m         cvresult = xgb.cv(xgb_param, xgtrain, num_boost_round=alg.get_params()['n_estimators'], nfold=cv_folds,\n\u001b[0;32m      7\u001b[0m                           metrics='auc', early_stopping_rounds=early_stopping_rounds, verbose_eval=False)\n",
      "\u001b[1;31mAttributeError\u001b[0m: 'numpy.ndarray' object has no attribute 'values'"
     ]
    }
   ],
   "source": [
    "xgb2 = xgb.XGBClassifier(\n",
    "    learning_rate = 0.1,\n",
    "    n_estimators = 300,\n",
    "    max_depth = 10,\n",
    "    min_child_weight = 1,\n",
    "    gamma = 0.0,\n",
    "    subsample = 0.7,\n",
    "    colsample_bytree = 0.7,\n",
    "    objective = 'binary:logistic',\n",
    "    scale_pos_weight = 1,\n",
    "    seed = 27)\n",
    "\n",
    "modelfit(xgb2, train_X_std_res, train_y_res, collist2)\n",
    "\n",
    "\n"
   ]
  },
  {
   "cell_type": "code",
   "execution_count": 80,
   "metadata": {},
   "outputs": [
    {
     "name": "stderr",
     "output_type": "stream",
     "text": [
      "C:\\ProgramData\\Anaconda3\\lib\\site-packages\\sklearn\\model_selection\\_search.py:667: DeprecationWarning: The grid_scores_ attribute was deprecated in version 0.18 in favor of the more elaborate cv_results_ attribute. The grid_scores_ attribute will not be available from 0.20\n",
      "  DeprecationWarning)\n"
     ]
    },
    {
     "data": {
      "text/plain": [
       "([mean: 0.85705, std: 0.07132, params: {'colsample_bytree': 0.4, 'subsample': 0.3},\n",
       "  mean: 0.85994, std: 0.07169, params: {'colsample_bytree': 0.4, 'subsample': 0.4},\n",
       "  mean: 0.86202, std: 0.07300, params: {'colsample_bytree': 0.4, 'subsample': 0.5},\n",
       "  mean: 0.86169, std: 0.07272, params: {'colsample_bytree': 0.4, 'subsample': 0.6},\n",
       "  mean: 0.86182, std: 0.07408, params: {'colsample_bytree': 0.4, 'subsample': 0.7},\n",
       "  mean: 0.86130, std: 0.07482, params: {'colsample_bytree': 0.4, 'subsample': 0.8},\n",
       "  mean: 0.86219, std: 0.07406, params: {'colsample_bytree': 0.4, 'subsample': 0.9},\n",
       "  mean: 0.86186, std: 0.06953, params: {'colsample_bytree': 0.5, 'subsample': 0.3},\n",
       "  mean: 0.86262, std: 0.07264, params: {'colsample_bytree': 0.5, 'subsample': 0.4},\n",
       "  mean: 0.86485, std: 0.07354, params: {'colsample_bytree': 0.5, 'subsample': 0.5},\n",
       "  mean: 0.86545, std: 0.07182, params: {'colsample_bytree': 0.5, 'subsample': 0.6},\n",
       "  mean: 0.86607, std: 0.07286, params: {'colsample_bytree': 0.5, 'subsample': 0.7},\n",
       "  mean: 0.86601, std: 0.07470, params: {'colsample_bytree': 0.5, 'subsample': 0.8},\n",
       "  mean: 0.86668, std: 0.07409, params: {'colsample_bytree': 0.5, 'subsample': 0.9},\n",
       "  mean: 0.86186, std: 0.06953, params: {'colsample_bytree': 0.6, 'subsample': 0.3},\n",
       "  mean: 0.86262, std: 0.07264, params: {'colsample_bytree': 0.6, 'subsample': 0.4},\n",
       "  mean: 0.86485, std: 0.07354, params: {'colsample_bytree': 0.6, 'subsample': 0.5},\n",
       "  mean: 0.86545, std: 0.07182, params: {'colsample_bytree': 0.6, 'subsample': 0.6},\n",
       "  mean: 0.86607, std: 0.07286, params: {'colsample_bytree': 0.6, 'subsample': 0.7},\n",
       "  mean: 0.86601, std: 0.07470, params: {'colsample_bytree': 0.6, 'subsample': 0.8},\n",
       "  mean: 0.86668, std: 0.07409, params: {'colsample_bytree': 0.6, 'subsample': 0.9},\n",
       "  mean: 0.86352, std: 0.06933, params: {'colsample_bytree': 0.7, 'subsample': 0.3},\n",
       "  mean: 0.86378, std: 0.07309, params: {'colsample_bytree': 0.7, 'subsample': 0.4},\n",
       "  mean: 0.86597, std: 0.07346, params: {'colsample_bytree': 0.7, 'subsample': 0.5},\n",
       "  mean: 0.86748, std: 0.07431, params: {'colsample_bytree': 0.7, 'subsample': 0.6},\n",
       "  mean: 0.86843, std: 0.07386, params: {'colsample_bytree': 0.7, 'subsample': 0.7},\n",
       "  mean: 0.86851, std: 0.07467, params: {'colsample_bytree': 0.7, 'subsample': 0.8},\n",
       "  mean: 0.86827, std: 0.07499, params: {'colsample_bytree': 0.7, 'subsample': 0.9},\n",
       "  mean: 0.86382, std: 0.07203, params: {'colsample_bytree': 0.8, 'subsample': 0.3},\n",
       "  mean: 0.86598, std: 0.07306, params: {'colsample_bytree': 0.8, 'subsample': 0.4},\n",
       "  mean: 0.86840, std: 0.07300, params: {'colsample_bytree': 0.8, 'subsample': 0.5},\n",
       "  mean: 0.86940, std: 0.07235, params: {'colsample_bytree': 0.8, 'subsample': 0.6},\n",
       "  mean: 0.86933, std: 0.07264, params: {'colsample_bytree': 0.8, 'subsample': 0.7},\n",
       "  mean: 0.86999, std: 0.07418, params: {'colsample_bytree': 0.8, 'subsample': 0.8},\n",
       "  mean: 0.87027, std: 0.07528, params: {'colsample_bytree': 0.8, 'subsample': 0.9},\n",
       "  mean: 0.86600, std: 0.06998, params: {'colsample_bytree': 0.9, 'subsample': 0.3},\n",
       "  mean: 0.86723, std: 0.06935, params: {'colsample_bytree': 0.9, 'subsample': 0.4},\n",
       "  mean: 0.86967, std: 0.07202, params: {'colsample_bytree': 0.9, 'subsample': 0.5},\n",
       "  mean: 0.86958, std: 0.07224, params: {'colsample_bytree': 0.9, 'subsample': 0.6},\n",
       "  mean: 0.87157, std: 0.07216, params: {'colsample_bytree': 0.9, 'subsample': 0.7},\n",
       "  mean: 0.87050, std: 0.07231, params: {'colsample_bytree': 0.9, 'subsample': 0.8},\n",
       "  mean: 0.87229, std: 0.07199, params: {'colsample_bytree': 0.9, 'subsample': 0.9}],\n",
       " {'colsample_bytree': 0.9, 'subsample': 0.9},\n",
       " 0.87229350759366864)"
      ]
     },
     "execution_count": 80,
     "metadata": {},
     "output_type": "execute_result"
    }
   ],
   "source": [
    "#max_depth = 10\n",
    "#min_child_weight = 1\n",
    "#gamma = 0.0\n",
    "\n",
    "param_test4 = {\n",
    "    'subsample':[i/10.0 for i in range(3, 10)],\n",
    "    'colsample_bytree':[i/10.0 for i in range(4, 10)]\n",
    "}\n",
    "\n",
    "gsearch4 = GridSearchCV(estimator = xgb.XGBClassifier( learning_rate =0.1, n_estimators=140, max_depth=10,\n",
    "     min_child_weight=1, gamma=0.0, subsample=0.7, colsample_bytree=0.7,\n",
    "     objective= 'binary:logistic', scale_pos_weight=1, seed=27),\n",
    "     param_grid = param_test4, scoring = 'f1', iid=False, cv=5)\n",
    "\n",
    "gsearch4.fit(train_X_std_res, train_y_res)\n",
    "\n",
    "gsearch4.grid_scores_, gsearch4.best_params_, gsearch4.best_score_"
   ]
  },
  {
   "cell_type": "code",
   "execution_count": 81,
   "metadata": {
    "scrolled": true
   },
   "outputs": [
    {
     "name": "stderr",
     "output_type": "stream",
     "text": [
      "C:\\ProgramData\\Anaconda3\\lib\\site-packages\\sklearn\\model_selection\\_search.py:667: DeprecationWarning: The grid_scores_ attribute was deprecated in version 0.18 in favor of the more elaborate cv_results_ attribute. The grid_scores_ attribute will not be available from 0.20\n",
      "  DeprecationWarning)\n"
     ]
    },
    {
     "data": {
      "text/plain": [
       "([mean: 0.87029, std: 0.07408, params: {'colsample_bytree': 0.85, 'subsample': 0.85},\n",
       "  mean: 0.87027, std: 0.07528, params: {'colsample_bytree': 0.85, 'subsample': 0.9},\n",
       "  mean: 0.87001, std: 0.07328, params: {'colsample_bytree': 0.85, 'subsample': 0.95},\n",
       "  mean: 0.87072, std: 0.07339, params: {'colsample_bytree': 0.9, 'subsample': 0.85},\n",
       "  mean: 0.87229, std: 0.07199, params: {'colsample_bytree': 0.9, 'subsample': 0.9},\n",
       "  mean: 0.87137, std: 0.07135, params: {'colsample_bytree': 0.9, 'subsample': 0.95},\n",
       "  mean: 0.87072, std: 0.07339, params: {'colsample_bytree': 0.95, 'subsample': 0.85},\n",
       "  mean: 0.87229, std: 0.07199, params: {'colsample_bytree': 0.95, 'subsample': 0.9},\n",
       "  mean: 0.87137, std: 0.07135, params: {'colsample_bytree': 0.95, 'subsample': 0.95}],\n",
       " {'colsample_bytree': 0.9, 'subsample': 0.9},\n",
       " 0.87229350759366864)"
      ]
     },
     "execution_count": 81,
     "metadata": {},
     "output_type": "execute_result"
    }
   ],
   "source": [
    "#max_depth = 10\n",
    "#min_child_weight = 1\n",
    "#gamma = 0.0\n",
    "#subsample = 0.9\n",
    "#colsample_bytree = 0.9\n",
    "\n",
    "param_test5 = {\n",
    "\n",
    "    'colsample_bytree':[i/100.0 for i in range(85, 100, 5)],\n",
    "    'subsample':[i/100 for i in range(85,100,5)]\n",
    "}\n",
    "\n",
    "gsearch5 = GridSearchCV(estimator = xgb.XGBClassifier( learning_rate =0.1, n_estimators=140, max_depth=10,\n",
    "     min_child_weight=1, gamma=0.0, subsample=0.9, colsample_bytree=0.9,\n",
    "     objective= 'binary:logistic', scale_pos_weight=1, seed=27),\n",
    "     param_grid = param_test5, scoring = 'f1', iid=False, cv=5)\n",
    "\n",
    "gsearch5.fit(train_X_std_res, train_y_res)\n",
    "\n",
    "gsearch5.grid_scores_, gsearch5.best_params_, gsearch5.best_score_"
   ]
  },
  {
   "cell_type": "code",
   "execution_count": 82,
   "metadata": {},
   "outputs": [
    {
     "name": "stderr",
     "output_type": "stream",
     "text": [
      "C:\\ProgramData\\Anaconda3\\lib\\site-packages\\sklearn\\model_selection\\_search.py:667: DeprecationWarning: The grid_scores_ attribute was deprecated in version 0.18 in favor of the more elaborate cv_results_ attribute. The grid_scores_ attribute will not be available from 0.20\n",
      "  DeprecationWarning)\n"
     ]
    },
    {
     "data": {
      "text/plain": [
       "([mean: 0.87229, std: 0.07199, params: {'reg_alpha': 1e-05},\n",
       "  mean: 0.87193, std: 0.07205, params: {'reg_alpha': 0.01},\n",
       "  mean: 0.87150, std: 0.07267, params: {'reg_alpha': 0.1},\n",
       "  mean: 0.87183, std: 0.07269, params: {'reg_alpha': 1},\n",
       "  mean: 0.83543, std: 0.04380, params: {'reg_alpha': 100}],\n",
       " {'reg_alpha': 1e-05},\n",
       " 0.87229350759366864)"
      ]
     },
     "execution_count": 82,
     "metadata": {},
     "output_type": "execute_result"
    }
   ],
   "source": [
    "#max_depth = 10\n",
    "#min_child_weight = 1\n",
    "#gamma = 0.0\n",
    "#subsample = 0.9\n",
    "#colsample_bytree = 0.9\n",
    "\n",
    "param_test6 = {\n",
    "    'reg_alpha':[1e-5, 1e-2, 0.1, 1, 100]\n",
    "}\n",
    "\n",
    "gsearch6 = GridSearchCV(estimator = xgb.XGBClassifier( learning_rate =0.1, n_estimators=140, max_depth=10,\n",
    "     min_child_weight=1, gamma=0.0, subsample=0.9, colsample_bytree=0.9,\n",
    "     objective= 'binary:logistic', scale_pos_weight=1, seed=27),\n",
    "     param_grid = param_test6, scoring = 'f1', iid=False, cv=5)\n",
    "\n",
    "gsearch6.fit(train_X_std_res, train_y_res)\n",
    "\n",
    "gsearch6.grid_scores_, gsearch6.best_params_, gsearch6.best_score_"
   ]
  },
  {
   "cell_type": "code",
   "execution_count": 140,
   "metadata": {},
   "outputs": [
    {
     "name": "stderr",
     "output_type": "stream",
     "text": [
      "C:\\ProgramData\\Anaconda3\\lib\\site-packages\\sklearn\\preprocessing\\label.py:112: DataConversionWarning: A column-vector y was passed when a 1d array was expected. Please change the shape of y to (n_samples, ), for example using ravel().\n",
      "  y = column_or_1d(y, warn=True)\n",
      "C:\\ProgramData\\Anaconda3\\lib\\site-packages\\sklearn\\preprocessing\\label.py:147: DataConversionWarning: A column-vector y was passed when a 1d array was expected. Please change the shape of y to (n_samples, ), for example using ravel().\n",
      "  y = column_or_1d(y, warn=True)\n"
     ]
    },
    {
     "name": "stdout",
     "output_type": "stream",
     "text": [
      "\n",
      "Model Report\n",
      "Accuracy : 0.9242\n",
      "AUC Score (Train): 0.981425\n"
     ]
    },
    {
     "data": {
      "image/png": "[encoded data removed]",
      "text/plain": [
       "<matplotlib.figure.Figure at 0x73202b0>"
      ]
     },
     "metadata": {},
     "output_type": "display_data"
    }
   ],
   "source": [
    "xgb3 = xgb.XGBClassifier(\n",
    "    learning_rate = 0.01,\n",
    "    n_estimators = 1000,\n",
    "    max_depth = 10,\n",
    "    min_child_weight = 1,\n",
    "    gamma = 0.0,\n",
    "    subsample = 0.9,\n",
    "    colsample_bytree = 0.9,\n",
    "    objective = 'binary:logistic',\n",
    "    scale_pos_weight = 1,\n",
    "    reg_alpha=1e-05,\n",
    "    seed = 27)\n",
    "\n",
    "modelfit(xgb3, pd.DataFrame(train_X_std_res, columns=collist2), pd.DataFrame(train_y_res), collist2)"
   ]
  },
  {
   "cell_type": "code",
   "execution_count": 146,
   "metadata": {},
   "outputs": [
    {
     "name": "stdout",
     "output_type": "stream",
     "text": [
      "[0]\tvalidation_0-auc:0.901281\tvalidation_1-auc:0.850003\n",
      "Multiple eval metrics have been passed: 'validation_1-auc' will be used for early stopping.\n",
      "\n",
      "Will train until validation_1-auc hasn't improved in 50 rounds.\n",
      "[1]\tvalidation_0-auc:0.907853\tvalidation_1-auc:0.855331\n",
      "[2]\tvalidation_0-auc:0.911124\tvalidation_1-auc:0.856749\n",
      "[3]\tvalidation_0-auc:0.912817\tvalidation_1-auc:0.856796\n",
      "[4]\tvalidation_0-auc:0.913229\tvalidation_1-auc:0.857402\n",
      "[5]\tvalidation_0-auc:0.916808\tvalidation_1-auc:0.857674\n",
      "[6]\tvalidation_0-auc:0.916906\tvalidation_1-auc:0.85854\n",
      "[7]\tvalidation_0-auc:0.917916\tvalidation_1-auc:0.857318\n",
      "[8]\tvalidation_0-auc:0.918086\tvalidation_1-auc:0.858591\n",
      "[9]\tvalidation_0-auc:0.918002\tvalidation_1-auc:0.858629\n",
      "[10]\tvalidation_0-auc:0.918115\tvalidation_1-auc:0.859722\n",
      "[11]\tvalidation_0-auc:0.918159\tvalidation_1-auc:0.859945\n",
      "[12]\tvalidation_0-auc:0.918318\tvalidation_1-auc:0.86085\n",
      "[13]\tvalidation_0-auc:0.919427\tvalidation_1-auc:0.861181\n",
      "[14]\tvalidation_0-auc:0.920166\tvalidation_1-auc:0.860789\n",
      "[15]\tvalidation_0-auc:0.921027\tvalidation_1-auc:0.86093\n",
      "[16]\tvalidation_0-auc:0.921153\tvalidation_1-auc:0.860703\n",
      "[17]\tvalidation_0-auc:0.921365\tvalidation_1-auc:0.861022\n",
      "[18]\tvalidation_0-auc:0.921383\tvalidation_1-auc:0.86123\n",
      "[19]\tvalidation_0-auc:0.921135\tvalidation_1-auc:0.861602\n",
      "[20]\tvalidation_0-auc:0.92126\tvalidation_1-auc:0.861328\n",
      "[21]\tvalidation_0-auc:0.921324\tvalidation_1-auc:0.861098\n",
      "[22]\tvalidation_0-auc:0.921767\tvalidation_1-auc:0.860843\n",
      "[23]\tvalidation_0-auc:0.922196\tvalidation_1-auc:0.860601\n",
      "[24]\tvalidation_0-auc:0.922597\tvalidation_1-auc:0.860267\n",
      "[25]\tvalidation_0-auc:0.922561\tvalidation_1-auc:0.86076\n",
      "[26]\tvalidation_0-auc:0.922695\tvalidation_1-auc:0.860988\n",
      "[27]\tvalidation_0-auc:0.92313\tvalidation_1-auc:0.86115\n",
      "[28]\tvalidation_0-auc:0.923263\tvalidation_1-auc:0.861219\n",
      "[29]\tvalidation_0-auc:0.923352\tvalidation_1-auc:0.861285\n",
      "[30]\tvalidation_0-auc:0.923392\tvalidation_1-auc:0.861437\n",
      "[31]\tvalidation_0-auc:0.923483\tvalidation_1-auc:0.861576\n",
      "[32]\tvalidation_0-auc:0.923536\tvalidation_1-auc:0.861606\n",
      "[33]\tvalidation_0-auc:0.923543\tvalidation_1-auc:0.861522\n",
      "[34]\tvalidation_0-auc:0.923631\tvalidation_1-auc:0.861602\n",
      "[35]\tvalidation_0-auc:0.923996\tvalidation_1-auc:0.861649\n",
      "[36]\tvalidation_0-auc:0.924261\tvalidation_1-auc:0.8614\n",
      "[37]\tvalidation_0-auc:0.924187\tvalidation_1-auc:0.861437\n",
      "[38]\tvalidation_0-auc:0.924547\tvalidation_1-auc:0.86134\n",
      "[39]\tvalidation_0-auc:0.924516\tvalidation_1-auc:0.861343\n",
      "[40]\tvalidation_0-auc:0.924545\tvalidation_1-auc:0.861525\n",
      "[41]\tvalidation_0-auc:0.92493\tvalidation_1-auc:0.861322\n",
      "[42]\tvalidation_0-auc:0.92499\tvalidation_1-auc:0.861391\n",
      "[43]\tvalidation_0-auc:0.925269\tvalidation_1-auc:0.861395\n",
      "[44]\tvalidation_0-auc:0.925496\tvalidation_1-auc:0.86141\n",
      "[45]\tvalidation_0-auc:0.925738\tvalidation_1-auc:0.861279\n",
      "[46]\tvalidation_0-auc:0.925784\tvalidation_1-auc:0.861181\n",
      "[47]\tvalidation_0-auc:0.925882\tvalidation_1-auc:0.861281\n",
      "[48]\tvalidation_0-auc:0.925949\tvalidation_1-auc:0.861222\n",
      "[49]\tvalidation_0-auc:0.926043\tvalidation_1-auc:0.861243\n",
      "[50]\tvalidation_0-auc:0.925999\tvalidation_1-auc:0.86139\n",
      "[51]\tvalidation_0-auc:0.92625\tvalidation_1-auc:0.861406\n",
      "[52]\tvalidation_0-auc:0.926338\tvalidation_1-auc:0.861422\n",
      "[53]\tvalidation_0-auc:0.926646\tvalidation_1-auc:0.861161\n",
      "[54]\tvalidation_0-auc:0.926657\tvalidation_1-auc:0.861291\n",
      "[55]\tvalidation_0-auc:0.926733\tvalidation_1-auc:0.861229\n",
      "[56]\tvalidation_0-auc:0.92693\tvalidation_1-auc:0.861069\n",
      "[57]\tvalidation_0-auc:0.926934\tvalidation_1-auc:0.861165\n",
      "[58]\tvalidation_0-auc:0.927048\tvalidation_1-auc:0.86103\n",
      "[59]\tvalidation_0-auc:0.927039\tvalidation_1-auc:0.861162\n",
      "[60]\tvalidation_0-auc:0.927304\tvalidation_1-auc:0.861183\n",
      "[61]\tvalidation_0-auc:0.927377\tvalidation_1-auc:0.861034\n",
      "[62]\tvalidation_0-auc:0.927464\tvalidation_1-auc:0.860948\n",
      "[63]\tvalidation_0-auc:0.927619\tvalidation_1-auc:0.861071\n",
      "[64]\tvalidation_0-auc:0.927688\tvalidation_1-auc:0.861214\n",
      "[65]\tvalidation_0-auc:0.9278\tvalidation_1-auc:0.861237\n",
      "[66]\tvalidation_0-auc:0.927976\tvalidation_1-auc:0.861092\n",
      "[67]\tvalidation_0-auc:0.928079\tvalidation_1-auc:0.860921\n",
      "[68]\tvalidation_0-auc:0.928146\tvalidation_1-auc:0.860902\n",
      "[69]\tvalidation_0-auc:0.928406\tvalidation_1-auc:0.860914\n",
      "[70]\tvalidation_0-auc:0.928506\tvalidation_1-auc:0.860843\n",
      "[71]\tvalidation_0-auc:0.928722\tvalidation_1-auc:0.860771\n",
      "[72]\tvalidation_0-auc:0.92885\tvalidation_1-auc:0.860865\n",
      "[73]\tvalidation_0-auc:0.928892\tvalidation_1-auc:0.860973\n",
      "[74]\tvalidation_0-auc:0.929102\tvalidation_1-auc:0.860994\n",
      "[75]\tvalidation_0-auc:0.929122\tvalidation_1-auc:0.861098\n",
      "[76]\tvalidation_0-auc:0.929237\tvalidation_1-auc:0.861091\n",
      "[77]\tvalidation_0-auc:0.929447\tvalidation_1-auc:0.861103\n",
      "[78]\tvalidation_0-auc:0.929474\tvalidation_1-auc:0.861076\n",
      "[79]\tvalidation_0-auc:0.929543\tvalidation_1-auc:0.860987\n",
      "[80]\tvalidation_0-auc:0.929719\tvalidation_1-auc:0.860835\n",
      "[81]\tvalidation_0-auc:0.929855\tvalidation_1-auc:0.860819\n",
      "[82]\tvalidation_0-auc:0.929927\tvalidation_1-auc:0.860819\n",
      "[83]\tvalidation_0-auc:0.930013\tvalidation_1-auc:0.860792\n",
      "[84]\tvalidation_0-auc:0.930119\tvalidation_1-auc:0.860726\n",
      "[85]\tvalidation_0-auc:0.930211\tvalidation_1-auc:0.860708\n",
      "Stopping. Best iteration:\n",
      "[35]\tvalidation_0-auc:0.923996\tvalidation_1-auc:0.861649\n",
      "\n"
     ]
    }
   ],
   "source": [
    "\n",
    "tuned_model = xgb.XGBClassifier(learning_rate = 0.01,\n",
    "                        n_estimators = 1000,\n",
    "                        max_depth = 10,\n",
    "                        min_child_weight = 1,\n",
    "                        gamma = 0.0,\n",
    "                        subsample = 0.9,\n",
    "                        colsample_bytree = 0.9,\n",
    "                        objective = 'binary:logistic',\n",
    "                        scale_pos_weight = 1,\n",
    "                        reg_alpha=1e-05,\n",
    "                        seed = 27)\n",
    "xgbmodel = tuned_model.fit(train_X_std_res, train_y_res, \n",
    "                 eval_set=[(train_X_std_res, train_y_res), (test_X_std.values, test_y)], \n",
    "                 eval_metric='auc',\n",
    "                 early_stopping_rounds=50,                 \n",
    "                 verbose=True)\n",
    "\n",
    "#fig, ax = plt.subplots(figsize=(12,18))\n",
    "#xgb.plot_importance(xgbmodel, height=0.8, ax=ax)\n",
    "#plt.show()"
   ]
  },
  {
   "cell_type": "code",
   "execution_count": 147,
   "metadata": {},
   "outputs": [
    {
     "name": "stdout",
     "output_type": "stream",
     "text": [
      "Accuracy: 77.97%\n"
     ]
    },
    {
     "data": {
      "image/png": "[encoded data removed]",
      "text/plain": [
       "<matplotlib.figure.Figure at 0x73dc3c8>"
      ]
     },
     "metadata": {},
     "output_type": "display_data"
    }
   ],
   "source": [
    "pred_y = xgbmodel.predict(test_X_std.values)\n",
    "\n",
    "accuracy = accuracy_score(test_y, pred_y)\n",
    "print(\"Accuracy: %.2f%%\" % (accuracy * 100.0))\n",
    "\n",
    "#conmat = confusion_matrix(y_test, predictions)\n",
    "#print(conmat)\n",
    "#plt.figure()\n",
    "#helper.plot_confusion_matrix(conmat,classes = np.array(['0','1']), title='Confusion Matrix, no Normalization')\n",
    "\n",
    "fpr, tpr, _ = roc_curve(test_y, pred_y)\n",
    "roc_auc = auc(fpr, tpr)\n",
    "\n",
    "plt.title('Receiver Operating Characteristic')\n",
    "plt.plot(fpr, tpr, 'b', label = 'AUC = %0.2f' % roc_auc)\n",
    "plt.legend(loc = 'lower right')\n",
    "plt.plot([0, 1], [0, 1],'r--')\n",
    "plt.xlim([0, 1])\n",
    "plt.ylim([0, 1])\n",
    "plt.ylabel('True Positive Rate')\n",
    "plt.xlabel('False Positive Rate')\n",
    "plt.show()"
   ]
  },
  {
   "cell_type": "code",
   "execution_count": null,
   "metadata": {},
   "outputs": [],
   "source": []
  },
  {
   "cell_type": "markdown",
   "metadata": {},
   "source": [
    "###  Alternate Parameter tuning - only for fast running algorithms"
   ]
  },
  {
   "cell_type": "code",
   "execution_count": 148,
   "metadata": {
    "scrolled": true
   },
   "outputs": [
    {
     "name": "stdout",
     "output_type": "stream",
     "text": [
      "# Tuning hyper-parameters for recall_weighted\n",
      "\n",
      "Best parameters set found on development set:\n",
      "\n",
      "{'C': 0.1, 'dual': False}\n",
      "\n",
      "Grid scores on development set:\n",
      "\n",
      "0.785 (+/-0.003) for {'C': 100, 'dual': False}\n",
      "0.785 (+/-0.003) for {'C': 10, 'dual': False}\n",
      "0.785 (+/-0.003) for {'C': 1, 'dual': False}\n",
      "0.785 (+/-0.003) for {'C': 0.1, 'dual': False}\n",
      "0.785 (+/-0.003) for {'C': 0.01, 'dual': False}\n",
      "0.785 (+/-0.003) for {'C': 0.001, 'dual': False}\n",
      "\n",
      "Detailed classification report:\n",
      "\n",
      "The model is trained on the full development set.\n",
      "The scores are computed on the full evaluation set.\n",
      "\n",
      "             precision    recall  f1-score   support\n",
      "\n",
      "          0       0.94      0.76      0.84     40529\n",
      "          1       0.44      0.80      0.56      9471\n",
      "\n",
      "avg / total       0.85      0.77      0.79     50000\n",
      "\n",
      "\n"
     ]
    }
   ],
   "source": [
    "\n",
    "tuned_parameters = [{\n",
    "    'C': [100, 10, 1, .1, .01, .001],\n",
    "    'dual':[False]\n",
    "}]\n",
    "\n",
    "scores = ['recall_weighted']\n",
    "\n",
    "for score in scores:\n",
    "    print(\"# Tuning hyper-parameters for %s\" % score)\n",
    "    print()\n",
    "\n",
    "    clf = GridSearchCV(LinearSVC(), tuned_parameters, cv=5,\n",
    "                       scoring='%s' % score)\n",
    "    clf.fit(train_X_std_res, train_y_res)\n",
    "\n",
    "    print(\"Best parameters set found on development set:\")\n",
    "    print()\n",
    "    print(clf.best_params_)\n",
    "    print()\n",
    "    print(\"Grid scores on development set:\")\n",
    "    print()\n",
    "    means = clf.cv_results_['mean_test_score']\n",
    "    stds = clf.cv_results_['std_test_score']\n",
    "    for mean, std, params in zip(means, stds, clf.cv_results_['params']):\n",
    "        print(\"%0.3f (+/-%0.03f) for %r\"\n",
    "              % (mean, std * 2, params))\n",
    "    print()\n",
    "\n",
    "    print(\"Detailed classification report:\")\n",
    "    print()\n",
    "    print(\"The model is trained on the full development set.\")\n",
    "    print(\"The scores are computed on the full evaluation set.\")\n",
    "    print()\n",
    "    y_true, y_pred = test_y, clf.predict(test_X_std)\n",
    "    print(classification_report(y_true, y_pred))\n",
    "    print()"
   ]
  },
  {
   "cell_type": "code",
   "execution_count": 107,
   "metadata": {},
   "outputs": [
    {
     "name": "stdout",
     "output_type": "stream",
     "text": [
      "             precision    recall  f1-score   support\n",
      "\n",
      "          0       0.94      0.77      0.85     40529\n",
      "          1       0.44      0.79      0.57      9471\n",
      "\n",
      "avg / total       0.85      0.77      0.79     50000\n",
      "\n",
      "Accuracy: 77.33%\n"
     ]
    },
    {
     "data": {
      "image/png": "[encoded data removed]",
      "text/plain": [
       "<matplotlib.figure.Figure at 0xe696940>"
      ]
     },
     "metadata": {},
     "output_type": "display_data"
    }
   ],
   "source": [
    "svm = LinearSVC(C=.1,dual=False)\n",
    "\n",
    "clf = CalibratedClassifierCV(svm, method='sigmoid', cv=5)\n",
    "\n",
    "svcmodel = clf.fit(train_X_std_res, train_y_res)\n",
    "\n",
    "print(classification_report(test_y, svcmodel.predict(test_X_std)))\n",
    "\n",
    "\n",
    "# evaluate predictions\n",
    "accuracy = accuracy_score(test_y, svcmodel.predict(test_X_std))\n",
    "print(\"Accuracy: %.2f%%\" % (accuracy * 100.0))\n",
    "\n",
    "#conmat = confusion_matrix(y_test, predictions)\n",
    "#print(conmat)\n",
    "#plt.figure()\n",
    "#helper.plot_confusion_matrix(conmat,classes = np.array(['0','1']), title='Confusion Matrix, no Normalization')\n",
    "\n",
    "fpr, tpr, _ = roc_curve(test_y, svcmodel.predict(test_X_std))\n",
    "roc_auc = auc(fpr, tpr)\n",
    "\n",
    "plt.title('Receiver Operating Characteristic')\n",
    "plt.plot(fpr, tpr, 'b', label = 'AUC = %0.2f' % roc_auc)\n",
    "plt.legend(loc = 'lower right')\n",
    "plt.plot([0, 1], [0, 1],'r--')\n",
    "plt.xlim([0, 1])\n",
    "plt.ylim([0, 1])\n",
    "plt.ylabel('True Positive Rate')\n",
    "plt.xlabel('False Positive Rate')\n",
    "plt.show()"
   ]
  },
  {
   "cell_type": "code",
   "execution_count": 150,
   "metadata": {},
   "outputs": [
    {
     "name": "stdout",
     "output_type": "stream",
     "text": [
      "# Tuning hyper-parameters for recall_weighted\n",
      "\n",
      "Best parameters set found on development set:\n",
      "\n",
      "{'C': 1, 'dual': False}\n",
      "\n",
      "Grid scores on development set:\n",
      "\n",
      "0.790 (+/-0.004) for {'C': 100, 'dual': False}\n",
      "0.790 (+/-0.004) for {'C': 10, 'dual': False}\n",
      "0.790 (+/-0.004) for {'C': 1, 'dual': False}\n",
      "0.790 (+/-0.004) for {'C': 0.1, 'dual': False}\n",
      "0.790 (+/-0.004) for {'C': 0.01, 'dual': False}\n",
      "0.785 (+/-0.002) for {'C': 0.001, 'dual': False}\n",
      "\n",
      "Detailed classification report:\n",
      "\n",
      "The model is trained on the full development set.\n",
      "The scores are computed on the full evaluation set.\n",
      "\n",
      "             precision    recall  f1-score   support\n",
      "\n",
      "          0       0.94      0.77      0.84     40529\n",
      "          1       0.44      0.80      0.57      9471\n",
      "\n",
      "avg / total       0.85      0.77      0.79     50000\n",
      "\n",
      "\n"
     ]
    }
   ],
   "source": [
    "tuned_parameters = [{\n",
    "    'C': [100, 10, 1, .1, .01, .001],\n",
    "    'dual':[False]\n",
    "}]\n",
    "\n",
    "scores = ['recall_weighted']\n",
    "\n",
    "for score in scores:\n",
    "    print(\"# Tuning hyper-parameters for %s\" % score)\n",
    "    print()\n",
    "\n",
    "    clf = GridSearchCV(LogisticRegression(), tuned_parameters, cv=5,\n",
    "                       scoring='%s' % score)\n",
    "    clf.fit(train_X_std_res, train_y_res)\n",
    "\n",
    "    print(\"Best parameters set found on development set:\")\n",
    "    print()\n",
    "    print(clf.best_params_)\n",
    "    print()\n",
    "    print(\"Grid scores on development set:\")\n",
    "    print()\n",
    "    means = clf.cv_results_['mean_test_score']\n",
    "    stds = clf.cv_results_['std_test_score']\n",
    "    for mean, std, params in zip(means, stds, clf.cv_results_['params']):\n",
    "        print(\"%0.3f (+/-%0.03f) for %r\"\n",
    "              % (mean, std * 2, params))\n",
    "    print()\n",
    "\n",
    "    print(\"Detailed classification report:\")\n",
    "    print()\n",
    "    print(\"The model is trained on the full development set.\")\n",
    "    print(\"The scores are computed on the full evaluation set.\")\n",
    "    print()\n",
    "    y_true, y_pred = test_y, clf.predict(test_X_std)\n",
    "    print(classification_report(y_true, y_pred))\n",
    "    print()"
   ]
  },
  {
   "cell_type": "code",
   "execution_count": 151,
   "metadata": {},
   "outputs": [
    {
     "name": "stdout",
     "output_type": "stream",
     "text": [
      "             precision    recall  f1-score   support\n",
      "\n",
      "          0       0.94      0.77      0.84     40529\n",
      "          1       0.44      0.80      0.57      9471\n",
      "\n",
      "avg / total       0.85      0.77      0.79     50000\n",
      "\n",
      "Accuracy: 77.22%\n"
     ]
    },
    {
     "data": {
      "image/png": "[encoded data removed]",
      "text/plain": [
       "<matplotlib.figure.Figure at 0xd1d46a0>"
      ]
     },
     "metadata": {},
     "output_type": "display_data"
    }
   ],
   "source": [
    "\n",
    "log = LogisticRegression(C=1,dual=False)\n",
    "\n",
    "logmodel = log.fit(train_X_std_res, train_y_res)\n",
    "\n",
    "print(classification_report(test_y, logmodel.predict(test_X_std.values)))\n",
    "\n",
    "\n",
    "# evaluate predictions\n",
    "accuracy = accuracy_score(test_y,logmodel.predict(test_X_std.values))\n",
    "print(\"Accuracy: %.2f%%\" % (accuracy * 100.0))\n",
    "\n",
    "#conmat = confusion_matrix(y_test, predictions)\n",
    "#print(conmat)\n",
    "#plt.figure()\n",
    "#helper.plot_confusion_matrix(conmat,classes = np.array(['0','1']), title='Confusion Matrix, no Normalization')\n",
    "\n",
    "fpr, tpr, _ = roc_curve(test_y, logmodel.predict(test_X_std.values))\n",
    "roc_auc = auc(fpr, tpr)\n",
    "\n",
    "plt.title('Receiver Operating Characteristic')\n",
    "plt.plot(fpr, tpr, 'b', label = 'AUC = %0.2f' % roc_auc)\n",
    "plt.legend(loc = 'lower right')\n",
    "plt.plot([0, 1], [0, 1],'r--')\n",
    "plt.xlim([0, 1])\n",
    "plt.ylim([0, 1])\n",
    "plt.ylabel('True Positive Rate')\n",
    "plt.xlabel('False Positive Rate')\n",
    "plt.show()"
   ]
  },
  {
   "cell_type": "code",
   "execution_count": 152,
   "metadata": {},
   "outputs": [
    {
     "data": {
      "text/plain": [
       "['C:\\\\users\\\\pairwin\\\\Documents\\\\GitHub\\\\IPy_Notebooks\\\\Analyses\\\\tabmodel_impute.pkl']"
      ]
     },
     "execution_count": 152,
     "metadata": {},
     "output_type": "execute_result"
    }
   ],
   "source": []
  },
  {
   "cell_type": "code",
   "execution_count": 198,
   "metadata": {},
   "outputs": [
    {
     "data": {
      "text/plain": [
       "(81084, 50000)"
      ]
     },
     "execution_count": 198,
     "metadata": {},
     "output_type": "execute_result"
    }
   ],
   "source": [
    "svcpred = svcmodel.predict(train_X_std_res)\n",
    "xgbpred = xgbmodel.predict(train_X_std_res)\n",
    "logpred = logmodel.predict(train_X_std_res)\n",
    "resarray = np.array([train_y_res, svcpred, xgbpred, logpred], np.int32)\n",
    "\n",
    "svc_test = svcmodel.predict(test_X_std.values)\n",
    "xgb_test = xgbmodel.predict(test_X_std.values)\n",
    "log_test = logmodel.predict(test_X_std.values)\n",
    "res_test = np.array([test_y, svc_test, xgb_test, log_test], np.int32)\n",
    "\n",
    "result = pd.DataFrame(resarray.transpose(), columns = ['true_y','svcpred','xgbpred','logpred'])\n",
    "result_test = pd.DataFrame(res_test.transpose(), columns = ['true_y','svcpred','xgbpred','logpred'])\n",
    "len(result), len(result_test)"
   ]
  },
  {
   "cell_type": "code",
   "execution_count": 204,
   "metadata": {},
   "outputs": [
    {
     "data": {
      "text/html": [
       "<div>\n",
       "<style>\n",
       "    .dataframe thead tr:only-child th {\n",
       "        text-align: right;\n",
       "    }\n",
       "\n",
       "    .dataframe thead th {\n",
       "        text-align: left;\n",
       "    }\n",
       "\n",
       "    .dataframe tbody tr th {\n",
       "        vertical-align: top;\n",
       "    }\n",
       "</style>\n",
       "<table border=\"1\" class=\"dataframe\">\n",
       "  <thead>\n",
       "    <tr style=\"text-align: right;\">\n",
       "      <th></th>\n",
       "      <th>true_y</th>\n",
       "      <th>svcpred</th>\n",
       "      <th>xgbpred</th>\n",
       "      <th>logpred</th>\n",
       "    </tr>\n",
       "  </thead>\n",
       "  <tbody>\n",
       "    <tr>\n",
       "      <th>true_y</th>\n",
       "      <td>1.000000</td>\n",
       "      <td>0.461406</td>\n",
       "      <td>0.467229</td>\n",
       "      <td>0.467843</td>\n",
       "    </tr>\n",
       "    <tr>\n",
       "      <th>svcpred</th>\n",
       "      <td>0.461406</td>\n",
       "      <td>1.000000</td>\n",
       "      <td>0.736469</td>\n",
       "      <td>0.936895</td>\n",
       "    </tr>\n",
       "    <tr>\n",
       "      <th>xgbpred</th>\n",
       "      <td>0.467229</td>\n",
       "      <td>0.736469</td>\n",
       "      <td>1.000000</td>\n",
       "      <td>0.764162</td>\n",
       "    </tr>\n",
       "    <tr>\n",
       "      <th>logpred</th>\n",
       "      <td>0.467843</td>\n",
       "      <td>0.936895</td>\n",
       "      <td>0.764162</td>\n",
       "      <td>1.000000</td>\n",
       "    </tr>\n",
       "  </tbody>\n",
       "</table>\n",
       "</div>"
      ],
      "text/plain": [
       "           true_y   svcpred   xgbpred   logpred\n",
       "true_y   1.000000  0.461406  0.467229  0.467843\n",
       "svcpred  0.461406  1.000000  0.736469  0.936895\n",
       "xgbpred  0.467229  0.736469  1.000000  0.764162\n",
       "logpred  0.467843  0.936895  0.764162  1.000000"
      ]
     },
     "execution_count": 204,
     "metadata": {},
     "output_type": "execute_result"
    }
   ],
   "source": [
    "result_test.corr()"
   ]
  },
  {
   "cell_type": "code",
   "execution_count": 193,
   "metadata": {},
   "outputs": [
    {
     "data": {
      "text/plain": [
       "(81084, 81084, 81084, 81084)"
      ]
     },
     "execution_count": 193,
     "metadata": {},
     "output_type": "execute_result"
    }
   ],
   "source": [
    "len(svcpred), len(xgbpred), len(logpred), len(train_y_res)\n"
   ]
  },
  {
   "cell_type": "code",
   "execution_count": 196,
   "metadata": {},
   "outputs": [
    {
     "data": {
      "text/plain": [
       "(50000, 50000, 50000, 50000)"
      ]
     },
     "execution_count": 196,
     "metadata": {},
     "output_type": "execute_result"
    }
   ],
   "source": [
    "len(svc_test), len(xgb_test), len(log_test), len(test_y)"
   ]
  },
  {
   "cell_type": "code",
   "execution_count": 199,
   "metadata": {},
   "outputs": [
    {
     "name": "stderr",
     "output_type": "stream",
     "text": [
      "C:\\ProgramData\\Anaconda3\\lib\\site-packages\\sklearn\\utils\\validation.py:526: DataConversionWarning: A column-vector y was passed when a 1d array was expected. Please change the shape of y to (n_samples, ), for example using ravel().\n",
      "  y = column_or_1d(y, warn=True)\n"
     ]
    },
    {
     "data": {
      "text/plain": [
       "LogisticRegression(C=1, class_weight=None, dual=False, fit_intercept=True,\n",
       "          intercept_scaling=1, max_iter=100, multi_class='ovr', n_jobs=1,\n",
       "          penalty='l2', random_state=None, solver='liblinear', tol=0.0001,\n",
       "          verbose=0, warm_start=False)"
      ]
     },
     "execution_count": 199,
     "metadata": {},
     "output_type": "execute_result"
    }
   ],
   "source": [
    "ensemble = LogisticRegression(C=1, dual=False)\n",
    "ensemble.fit(result[['svcpred','xgbpred','logpred']].values, result[['true_y']].values)\n",
    "\n"
   ]
  },
  {
   "cell_type": "code",
   "execution_count": 200,
   "metadata": {},
   "outputs": [
    {
     "data": {
      "text/html": [
       "<div>\n",
       "<style>\n",
       "    .dataframe thead tr:only-child th {\n",
       "        text-align: right;\n",
       "    }\n",
       "\n",
       "    .dataframe thead th {\n",
       "        text-align: left;\n",
       "    }\n",
       "\n",
       "    .dataframe tbody tr th {\n",
       "        vertical-align: top;\n",
       "    }\n",
       "</style>\n",
       "<table border=\"1\" class=\"dataframe\">\n",
       "  <thead>\n",
       "    <tr style=\"text-align: right;\">\n",
       "      <th></th>\n",
       "      <th>true_y</th>\n",
       "      <th>svcpred</th>\n",
       "      <th>xgbpred</th>\n",
       "      <th>logpred</th>\n",
       "    </tr>\n",
       "  </thead>\n",
       "  <tbody>\n",
       "    <tr>\n",
       "      <th>true_y</th>\n",
       "      <td>1.000000</td>\n",
       "      <td>0.571013</td>\n",
       "      <td>0.713594</td>\n",
       "      <td>0.580690</td>\n",
       "    </tr>\n",
       "    <tr>\n",
       "      <th>svcpred</th>\n",
       "      <td>0.571013</td>\n",
       "      <td>1.000000</td>\n",
       "      <td>0.784586</td>\n",
       "      <td>0.947088</td>\n",
       "    </tr>\n",
       "    <tr>\n",
       "      <th>xgbpred</th>\n",
       "      <td>0.713594</td>\n",
       "      <td>0.784586</td>\n",
       "      <td>1.000000</td>\n",
       "      <td>0.806292</td>\n",
       "    </tr>\n",
       "    <tr>\n",
       "      <th>logpred</th>\n",
       "      <td>0.580690</td>\n",
       "      <td>0.947088</td>\n",
       "      <td>0.806292</td>\n",
       "      <td>1.000000</td>\n",
       "    </tr>\n",
       "  </tbody>\n",
       "</table>\n",
       "</div>"
      ],
      "text/plain": [
       "           true_y   svcpred   xgbpred   logpred\n",
       "true_y   1.000000  0.571013  0.713594  0.580690\n",
       "svcpred  0.571013  1.000000  0.784586  0.947088\n",
       "xgbpred  0.713594  0.784586  1.000000  0.806292\n",
       "logpred  0.580690  0.947088  0.806292  1.000000"
      ]
     },
     "execution_count": 200,
     "metadata": {},
     "output_type": "execute_result"
    }
   ],
   "source": [
    "result.corr()"
   ]
  },
  {
   "cell_type": "code",
   "execution_count": 201,
   "metadata": {},
   "outputs": [
    {
     "name": "stdout",
     "output_type": "stream",
     "text": [
      "Accuracy: 77.97%\n",
      "             precision    recall  f1-score   support\n",
      "\n",
      "          0       0.94      0.78      0.85     40529\n",
      "          1       0.45      0.78      0.57      9471\n",
      "\n",
      "avg / total       0.85      0.78      0.80     50000\n",
      "\n"
     ]
    },
    {
     "data": {
      "image/png": "[encoded data removed]",
      "text/plain": [
       "<matplotlib.figure.Figure at 0xe6964a8>"
      ]
     },
     "metadata": {},
     "output_type": "display_data"
    }
   ],
   "source": [
    "# evaluate predictions\n",
    "accuracy = accuracy_score(result_test['true_y'].values, ensemble.predict(result_test[['svcpred','xgbpred','logpred']].values))\n",
    "print(\"Accuracy: %.2f%%\" % (accuracy * 100.0))\n",
    "\n",
    "#conmat = confusion_matrix(y_test, predictions)\n",
    "#print(conmat)\n",
    "#plt.figure()\n",
    "#helper.plot_confusion_matrix(conmat,classes = np.array(['0','1']), title='Confusion Matrix, no Normalization')\n",
    "\n",
    "print(classification_report(result_test['true_y'].values, ensemble.predict(result_test[['svcpred','xgbpred','logpred']].values)))\n",
    "\n",
    "fpr, tpr, _ = roc_curve(result_test['true_y'].values, ensemble.predict(result_test[['svcpred','xgbpred','logpred']].values))\n",
    "roc_auc = auc(fpr, tpr)\n",
    "\n",
    "plt.title('Receiver Operating Characteristic')\n",
    "plt.plot(fpr, tpr, 'b', label = 'AUC = %0.2f' % roc_auc)\n",
    "plt.legend(loc = 'lower right')\n",
    "plt.plot([0, 1], [0, 1],'r--')\n",
    "plt.xlim([0, 1])\n",
    "plt.ylim([0, 1])\n",
    "plt.ylabel('True Positive Rate')\n",
    "plt.xlabel('False Positive Rate')\n",
    "plt.show()"
   ]
  },
  {
   "cell_type": "code",
   "execution_count": 203,
   "metadata": {},
   "outputs": [
    {
     "data": {
      "text/plain": [
       "array([[31603,  8926],\n",
       "       [ 2091,  7380]])"
      ]
     },
     "execution_count": 203,
     "metadata": {},
     "output_type": "execute_result"
    }
   ],
   "source": [
    "confusion_matrix(result_test['true_y'].values, ensemble.predict(result_test[['svcpred','xgbpred','logpred']].values))\n"
   ]
  },
  {
   "cell_type": "code",
   "execution_count": 361,
   "metadata": {},
   "outputs": [
    {
     "data": {
      "text/plain": [
       "['C:\\\\users\\\\pairwin\\\\Documents\\\\GitHub\\\\IPy_Notebooks\\\\Analyses\\\\tabmodel_impute.pkl']"
      ]
     },
     "execution_count": 361,
     "metadata": {},
     "output_type": "execute_result"
    }
   ],
   "source": [
    "joblib.dump(svcmodel, r'C:\\users\\pairwin\\Documents\\GitHub\\IPy_Notebooks\\Analyses\\tabmodelsvc.pkl')\n",
    "joblib.dump(xgbmodel, r'C:\\users\\pairwin\\Documents\\GitHub\\IPy_Notebooks\\Analyses\\tabmodelxgb.pkl')\n",
    "joblib.dump(logmodel, r'C:\\users\\pairwin\\Documents\\GitHub\\IPy_Notebooks\\Analyses\\tabmodellog.pkl')\n",
    "joblib.dump(ensemble, r'C:\\users\\pairwin\\Documents\\GitHub\\IPy_Notebooks\\Analyses\\tabmodelensemble.pkl')\n",
    "joblib.dump(imr, r'C:\\users\\pairwin\\Documents\\GitHub\\IPy_Notebooks\\Analyses\\tabmodel_impute.pkl')"
   ]
  },
  {
   "cell_type": "code",
   "execution_count": 346,
   "metadata": {},
   "outputs": [
    {
     "name": "stderr",
     "output_type": "stream",
     "text": [
      "INFO:imblearn.base:Compute classes statistics ...\n",
      "INFO:imblearn.base:2 classes detected: Counter({0: 64814, 1: 15186})\n",
      "INFO:imblearn.base:Generated 49628 new samples ...\n"
     ]
    },
    {
     "name": "stdout",
     "output_type": "stream",
     "text": [
      "129628 20000 129628 20000\n",
      "<class 'numpy.ndarray'> <class 'numpy.ndarray'> <class 'numpy.ndarray'> <class 'numpy.ndarray'>\n"
     ]
    }
   ],
   "source": [
    "np.random.seed(0)\n",
    "\n",
    "n_folds = 10\n",
    "verbose = True\n",
    "shuffle = False\n",
    "\n",
    "scaled_data = stdsc.fit_transform(imputed_data2)\n",
    "\n",
    "X2, hold_X, y2, hold_y = helper.splitData2(scaled_data, np.array(y), 0.2)\n",
    "\n",
    "sm = SMOTE(random_state=123, ratio=1.0)\n",
    "X2_res, y2_res = sm.fit_sample(X2, y2)\n",
    "\n",
    "\n",
    "skf = StratifiedKFold(n_folds)\n",
    "print(len(X2_res), len(hold_X), len(y2_res), len(hold_y))\n",
    "print(type(X2_res), type(hold_X), type(y2_res), type(hold_y))"
   ]
  },
  {
   "cell_type": "code",
   "execution_count": 353,
   "metadata": {},
   "outputs": [],
   "source": [
    "svm = LinearSVC(C=.1,dual=False)\n",
    "\n",
    "clfs = [RandomForestClassifier(n_estimators=100, n_jobs=-1, criterion='gini'),\n",
    "        RandomForestClassifier(n_estimators=100, n_jobs=-1, criterion='entropy'),\n",
    "        ExtraTreesClassifier(n_estimators=100, n_jobs=-1, criterion='gini'),\n",
    "        ExtraTreesClassifier(n_estimators=100, n_jobs=-1, criterion='entropy'),\n",
    "        xgb.XGBClassifier(n_estimators=100, objective='binary:logistic'),\n",
    "        CalibratedClassifierCV(svm, cv=3, method='sigmoid'),\n",
    "        LogisticRegression(C=0.1, dual=False, random_state=0)]\n",
    "        "
   ]
  },
  {
   "cell_type": "code",
   "execution_count": 354,
   "metadata": {},
   "outputs": [
    {
     "data": {
      "text/plain": [
       "((129628, 7), (20000, 7))"
      ]
     },
     "execution_count": 354,
     "metadata": {},
     "output_type": "execute_result"
    }
   ],
   "source": [
    "dataset_blend_train = np.zeros((X2_res.shape[0], len(clfs)))\n",
    "dataset_blend_test = np.zeros((hold_X.shape[0], len(clfs)))\n",
    "dataset_blend_train.shape, dataset_blend_test.shape"
   ]
  },
  {
   "cell_type": "code",
   "execution_count": 355,
   "metadata": {},
   "outputs": [
    {
     "name": "stdout",
     "output_type": "stream",
     "text": [
      "0 RandomForestClassifier(bootstrap=True, class_weight=None, criterion='gini',\n",
      "            max_depth=None, max_features='auto', max_leaf_nodes=None,\n",
      "            min_impurity_split=1e-07, min_samples_leaf=1,\n",
      "            min_samples_split=2, min_weight_fraction_leaf=0.0,\n",
      "            n_estimators=100, n_jobs=-1, oob_score=False,\n",
      "            random_state=None, verbose=0, warm_start=False)\n",
      "Fold: 0\n",
      "Fold: 1\n",
      "Fold: 2\n",
      "Fold: 3\n",
      "Fold: 4\n",
      "Fold: 5\n",
      "Fold: 6\n",
      "Fold: 7\n",
      "Fold: 8\n",
      "Fold: 9\n",
      "\n",
      "Blending.\n",
      "1 RandomForestClassifier(bootstrap=True, class_weight=None, criterion='entropy',\n",
      "            max_depth=None, max_features='auto', max_leaf_nodes=None,\n",
      "            min_impurity_split=1e-07, min_samples_leaf=1,\n",
      "            min_samples_split=2, min_weight_fraction_leaf=0.0,\n",
      "            n_estimators=100, n_jobs=-1, oob_score=False,\n",
      "            random_state=None, verbose=0, warm_start=False)\n",
      "Fold: 0\n",
      "Fold: 1\n",
      "Fold: 2\n",
      "Fold: 3\n",
      "Fold: 4\n",
      "Fold: 5\n",
      "Fold: 6\n",
      "Fold: 7\n",
      "Fold: 8\n",
      "Fold: 9\n",
      "\n",
      "Blending.\n",
      "2 ExtraTreesClassifier(bootstrap=False, class_weight=None, criterion='gini',\n",
      "           max_depth=None, max_features='auto', max_leaf_nodes=None,\n",
      "           min_impurity_split=1e-07, min_samples_leaf=1,\n",
      "           min_samples_split=2, min_weight_fraction_leaf=0.0,\n",
      "           n_estimators=100, n_jobs=-1, oob_score=False, random_state=None,\n",
      "           verbose=0, warm_start=False)\n",
      "Fold: 0\n",
      "Fold: 1\n",
      "Fold: 2\n",
      "Fold: 3\n",
      "Fold: 4\n",
      "Fold: 5\n",
      "Fold: 6\n",
      "Fold: 7\n",
      "Fold: 8\n",
      "Fold: 9\n",
      "\n",
      "Blending.\n",
      "3 ExtraTreesClassifier(bootstrap=False, class_weight=None, criterion='entropy',\n",
      "           max_depth=None, max_features='auto', max_leaf_nodes=None,\n",
      "           min_impurity_split=1e-07, min_samples_leaf=1,\n",
      "           min_samples_split=2, min_weight_fraction_leaf=0.0,\n",
      "           n_estimators=100, n_jobs=-1, oob_score=False, random_state=None,\n",
      "           verbose=0, warm_start=False)\n",
      "Fold: 0\n",
      "Fold: 1\n",
      "Fold: 2\n",
      "Fold: 3\n",
      "Fold: 4\n",
      "Fold: 5\n",
      "Fold: 6\n",
      "Fold: 7\n",
      "Fold: 8\n",
      "Fold: 9\n",
      "\n",
      "Blending.\n",
      "4 XGBClassifier(base_score=0.5, colsample_bylevel=1, colsample_bytree=1,\n",
      "       gamma=0, learning_rate=0.1, max_delta_step=0, max_depth=3,\n",
      "       min_child_weight=1, missing=None, n_estimators=100, nthread=-1,\n",
      "       objective='binary:logistic', reg_alpha=0, reg_lambda=1,\n",
      "       scale_pos_weight=1, seed=0, silent=True, subsample=1)\n",
      "Fold: 0\n",
      "Fold: 1\n",
      "Fold: 2\n",
      "Fold: 3\n",
      "Fold: 4\n",
      "Fold: 5\n",
      "Fold: 6\n",
      "Fold: 7\n",
      "Fold: 8\n",
      "Fold: 9\n",
      "\n",
      "Blending.\n",
      "5 CalibratedClassifierCV(base_estimator=LinearSVC(C=0.1, class_weight=None, dual=False, fit_intercept=True,\n",
      "     intercept_scaling=1, loss='squared_hinge', max_iter=1000,\n",
      "     multi_class='ovr', penalty='l2', random_state=None, tol=0.0001,\n",
      "     verbose=0),\n",
      "            cv=3, method='sigmoid')\n",
      "Fold: 0\n",
      "Fold: 1\n",
      "Fold: 2\n",
      "Fold: 3\n",
      "Fold: 4\n",
      "Fold: 5\n",
      "Fold: 6\n",
      "Fold: 7\n",
      "Fold: 8\n",
      "Fold: 9\n",
      "\n",
      "Blending.\n",
      "6 LogisticRegression(C=0.1, class_weight=None, dual=False, fit_intercept=True,\n",
      "          intercept_scaling=1, max_iter=100, multi_class='ovr', n_jobs=1,\n",
      "          penalty='l2', random_state=0, solver='liblinear', tol=0.0001,\n",
      "          verbose=0, warm_start=False)\n",
      "Fold: 0\n",
      "Fold: 1\n",
      "Fold: 2\n",
      "Fold: 3\n",
      "Fold: 4\n",
      "Fold: 5\n",
      "Fold: 6\n",
      "Fold: 7\n",
      "Fold: 8\n",
      "Fold: 9\n",
      "\n",
      "Blending.\n"
     ]
    }
   ],
   "source": [
    "for j, clf in enumerate(clfs):\n",
    "    print(j, clf)\n",
    "    dataset_blend_test_j = np.zeros((hold_X.shape[0], skf.get_n_splits()))\n",
    "    fold = 0\n",
    "    for train, test in skf.split(X2_res, y2_res):        \n",
    "        print(\"Fold: \" + str(fold))\n",
    "        X_train = X2_res[train]\n",
    "        y_train = y2_res[train]\n",
    "        X_test = X2_res[test]\n",
    "        y_test = y2_res[test]\n",
    "        clf.fit(X_train, y_train)\n",
    "        y_submission = clf.predict_proba(X_test)[:, 1]\n",
    "        dataset_blend_train[test, j] = y_submission\n",
    "        dataset_blend_test_j[:, fold] = clf.predict_proba(hold_X)[:, 1]\n",
    "        dataset_blend_test[:, j] = dataset_blend_test_j.mean(1)\n",
    "        fold += 1\n",
    "        \n",
    "\n",
    "        \n",
    "    print()\n",
    "    print(\"Blending.\")\n",
    "    clf = LogisticRegression()\n",
    "    clf.fit(dataset_blend_train, y2_res)\n",
    "    y_submission = clf.predict_proba(dataset_blend_test)[:, 1]\n",
    "    "
   ]
  },
  {
   "cell_type": "code",
   "execution_count": 350,
   "metadata": {},
   "outputs": [
    {
     "data": {
      "text/plain": [
       "0.78293608650564062"
      ]
     },
     "execution_count": 350,
     "metadata": {},
     "output_type": "execute_result"
    }
   ],
   "source": [
    "def decide(prob):\n",
    "    if prob >= .5:\n",
    "        return 1\n",
    "    else:\n",
    "        return 0\n"
   ]
  },
  {
   "cell_type": "code",
   "execution_count": 360,
   "metadata": {},
   "outputs": [
    {
     "name": "stdout",
     "output_type": "stream",
     "text": [
      "Confusion matrix, without normalization\n",
      "[[14599  1658]\n",
      " [ 1511  2232]]\n"
     ]
    },
    {
     "data": {
      "image/png": "[encoded data removed]",
      "text/plain": [
       "<matplotlib.figure.Figure at 0x106f0eb8>"
      ]
     },
     "metadata": {},
     "output_type": "display_data"
    }
   ],
   "source": [
    "roc_auc_score(hold_y, np.array([decide(yi) for yi in y_submission]))\n",
    "cm = confusion_matrix(hold_y, np.array([decide(yi) for yi in y_submission]))\n",
    "plot_confusion_matrix(cm, ['0', '1'])"
   ]
  }
 ],
 "metadata": {
  "kernelspec": {
   "display_name": "Python 3",
   "language": "python",
   "name": "python3"
  },
  "language_info": {
   "codemirror_mode": {
    "name": "ipython",
    "version": 3
   },
   "file_extension": ".py",
   "mimetype": "text/x-python",
   "name": "python",
   "nbconvert_exporter": "python",
   "pygments_lexer": "ipython3",
   "version": "3.6.1"
  }
 },
 "nbformat": 4,
 "nbformat_minor": 2
}

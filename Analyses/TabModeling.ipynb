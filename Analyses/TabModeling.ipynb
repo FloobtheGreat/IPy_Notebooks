{
 "cells": [
  {
   "cell_type": "code",
   "execution_count": 1,
   "metadata": {
    "collapsed": true
   },
   "outputs": [],
   "source": [
    "import sys\n",
    "sys.path.insert(0, r\"C:\\users\\pairwin\\Documents\\Github\\HelperPI\")\n",
    "\n",
    "import HelperPI\n",
    "import seaborn as sns\n",
    "import pandas as pd\n",
    "import scipy.stats as stats\n",
    "import matplotlib.pyplot as plt\n",
    "import statsmodels.formula.api as sts\n",
    "import numpy as np"
   ]
  },
  {
   "cell_type": "code",
   "execution_count": 2,
   "metadata": {},
   "outputs": [
    {
     "name": "stderr",
     "output_type": "stream",
     "text": [
      "INFO:root:Initializing...\n"
     ]
    }
   ],
   "source": [
    "helper = HelperPI.Helper()"
   ]
  },
  {
   "cell_type": "code",
   "execution_count": 7,
   "metadata": {
    "collapsed": true
   },
   "outputs": [],
   "source": [
    "sql = helper.getSQL(r\"C:\\users\\pairwin\\Documents\\GitHub\\IPy_Notebooks\\SQL\\TAB_MODELING.sql\")"
   ]
  },
  {
   "cell_type": "code",
   "execution_count": 8,
   "metadata": {},
   "outputs": [
    {
     "name": "stderr",
     "output_type": "stream",
     "text": [
      "INFO:root:Reading data...\n",
      "INFO:root:Data read complete...\n",
      "INFO:root:Read: 100000 rows.\n"
     ]
    },
    {
     "name": "stdout",
     "output_type": "stream",
     "text": [
      "                  Count Column Type\n",
      "0            DATE_VALUE      object\n",
      "1                RECORD      object\n",
      "2            MEDHINC_CY     float64\n",
      "3             MEDAGE_CY     float64\n",
      "4            CLOSEST_BP     float64\n",
      "5           CLOSEST_CAB     float64\n",
      "6     MALES_IN_HOUSHOLD       int64\n",
      "7   FEMALES_IN_HOUSHOLD       int64\n",
      "8      REWARDS_CUSTOMER       int64\n",
      "9      DAYS_AS_CUSTOMER       int64\n",
      "10   TOTAL_TRANSACTIONS     float64\n",
      "11     REW_TRANSACTIONS     float64\n",
      "12          TOTAL_SPEND     float64\n",
      "13  DAYS_SINCE_PURCHASE       int64\n",
      "14     TARGET_VALUE12MO     float64\n",
      "15  TARGET_PURCH_NEXT15       int64\n"
     ]
    }
   ],
   "source": [
    "base, dtypesdf = helper.readData(sql)"
   ]
  },
  {
   "cell_type": "code",
   "execution_count": 42,
   "metadata": {
    "collapsed": true
   },
   "outputs": [],
   "source": [
    "train, test = helper.splitData(base, .50)"
   ]
  },
  {
   "cell_type": "code",
   "execution_count": 43,
   "metadata": {},
   "outputs": [
    {
     "data": {
      "text/html": [
       "<div>\n",
       "<style>\n",
       "    .dataframe thead tr:only-child th {\n",
       "        text-align: right;\n",
       "    }\n",
       "\n",
       "    .dataframe thead th {\n",
       "        text-align: left;\n",
       "    }\n",
       "\n",
       "    .dataframe tbody tr th {\n",
       "        vertical-align: top;\n",
       "    }\n",
       "</style>\n",
       "<table border=\"1\" class=\"dataframe\">\n",
       "  <thead>\n",
       "    <tr style=\"text-align: right;\">\n",
       "      <th></th>\n",
       "      <th>MEDHINC_CY</th>\n",
       "      <th>MEDAGE_CY</th>\n",
       "      <th>CLOSEST_BP</th>\n",
       "      <th>MALES_IN_HOUSHOLD</th>\n",
       "      <th>FEMALES_IN_HOUSHOLD</th>\n",
       "      <th>REWARDS_CUSTOMER</th>\n",
       "      <th>DAYS_AS_CUSTOMER</th>\n",
       "      <th>TOTAL_TRANSACTIONS</th>\n",
       "      <th>REW_TRANSACTIONS</th>\n",
       "      <th>TOTAL_SPEND</th>\n",
       "      <th>DAYS_SINCE_PURCHASE</th>\n",
       "      <th>TARGET_PURCH_NEXT15</th>\n",
       "    </tr>\n",
       "  </thead>\n",
       "  <tbody>\n",
       "    <tr>\n",
       "      <th>count</th>\n",
       "      <td>48150.000000</td>\n",
       "      <td>48150.000000</td>\n",
       "      <td>48150.000000</td>\n",
       "      <td>48150.000000</td>\n",
       "      <td>48150.000000</td>\n",
       "      <td>48150.000000</td>\n",
       "      <td>48150.000000</td>\n",
       "      <td>48150.000000</td>\n",
       "      <td>48150.000000</td>\n",
       "      <td>48150.000000</td>\n",
       "      <td>48150.000000</td>\n",
       "      <td>48150.000000</td>\n",
       "    </tr>\n",
       "    <tr>\n",
       "      <th>mean</th>\n",
       "      <td>58219.328972</td>\n",
       "      <td>39.525587</td>\n",
       "      <td>32.935875</td>\n",
       "      <td>0.663240</td>\n",
       "      <td>0.338401</td>\n",
       "      <td>0.359564</td>\n",
       "      <td>2190.758214</td>\n",
       "      <td>8.200436</td>\n",
       "      <td>4.881059</td>\n",
       "      <td>702.435789</td>\n",
       "      <td>1205.705379</td>\n",
       "      <td>0.189221</td>\n",
       "    </tr>\n",
       "    <tr>\n",
       "      <th>std</th>\n",
       "      <td>22743.605820</td>\n",
       "      <td>5.773958</td>\n",
       "      <td>32.388241</td>\n",
       "      <td>0.577472</td>\n",
       "      <td>0.493622</td>\n",
       "      <td>0.479878</td>\n",
       "      <td>1174.409345</td>\n",
       "      <td>26.226379</td>\n",
       "      <td>24.394402</td>\n",
       "      <td>1765.211101</td>\n",
       "      <td>1013.891906</td>\n",
       "      <td>0.391688</td>\n",
       "    </tr>\n",
       "    <tr>\n",
       "      <th>min</th>\n",
       "      <td>0.000000</td>\n",
       "      <td>0.000000</td>\n",
       "      <td>0.070000</td>\n",
       "      <td>0.000000</td>\n",
       "      <td>0.000000</td>\n",
       "      <td>0.000000</td>\n",
       "      <td>49.000000</td>\n",
       "      <td>1.000000</td>\n",
       "      <td>0.000000</td>\n",
       "      <td>0.010000</td>\n",
       "      <td>5.000000</td>\n",
       "      <td>0.000000</td>\n",
       "    </tr>\n",
       "    <tr>\n",
       "      <th>25%</th>\n",
       "      <td>41780.000000</td>\n",
       "      <td>36.000000</td>\n",
       "      <td>10.682500</td>\n",
       "      <td>0.000000</td>\n",
       "      <td>0.000000</td>\n",
       "      <td>0.000000</td>\n",
       "      <td>1075.000000</td>\n",
       "      <td>1.000000</td>\n",
       "      <td>0.000000</td>\n",
       "      <td>61.462500</td>\n",
       "      <td>333.000000</td>\n",
       "      <td>0.000000</td>\n",
       "    </tr>\n",
       "    <tr>\n",
       "      <th>50%</th>\n",
       "      <td>53651.000000</td>\n",
       "      <td>39.000000</td>\n",
       "      <td>21.960000</td>\n",
       "      <td>1.000000</td>\n",
       "      <td>0.000000</td>\n",
       "      <td>0.000000</td>\n",
       "      <td>2304.000000</td>\n",
       "      <td>3.000000</td>\n",
       "      <td>0.000000</td>\n",
       "      <td>174.845000</td>\n",
       "      <td>885.000000</td>\n",
       "      <td>0.000000</td>\n",
       "    </tr>\n",
       "    <tr>\n",
       "      <th>75%</th>\n",
       "      <td>69350.000000</td>\n",
       "      <td>43.000000</td>\n",
       "      <td>45.847500</td>\n",
       "      <td>1.000000</td>\n",
       "      <td>1.000000</td>\n",
       "      <td>1.000000</td>\n",
       "      <td>3289.000000</td>\n",
       "      <td>6.000000</td>\n",
       "      <td>2.000000</td>\n",
       "      <td>551.835000</td>\n",
       "      <td>1912.000000</td>\n",
       "      <td>0.000000</td>\n",
       "    </tr>\n",
       "    <tr>\n",
       "      <th>max</th>\n",
       "      <td>200001.000000</td>\n",
       "      <td>76.000000</td>\n",
       "      <td>566.000000</td>\n",
       "      <td>5.000000</td>\n",
       "      <td>4.000000</td>\n",
       "      <td>1.000000</td>\n",
       "      <td>3913.000000</td>\n",
       "      <td>2106.000000</td>\n",
       "      <td>1987.000000</td>\n",
       "      <td>64460.160000</td>\n",
       "      <td>3910.000000</td>\n",
       "      <td>1.000000</td>\n",
       "    </tr>\n",
       "  </tbody>\n",
       "</table>\n",
       "</div>"
      ],
      "text/plain": [
       "          MEDHINC_CY     MEDAGE_CY    CLOSEST_BP  MALES_IN_HOUSHOLD  \\\n",
       "count   48150.000000  48150.000000  48150.000000       48150.000000   \n",
       "mean    58219.328972     39.525587     32.935875           0.663240   \n",
       "std     22743.605820      5.773958     32.388241           0.577472   \n",
       "min         0.000000      0.000000      0.070000           0.000000   \n",
       "25%     41780.000000     36.000000     10.682500           0.000000   \n",
       "50%     53651.000000     39.000000     21.960000           1.000000   \n",
       "75%     69350.000000     43.000000     45.847500           1.000000   \n",
       "max    200001.000000     76.000000    566.000000           5.000000   \n",
       "\n",
       "       FEMALES_IN_HOUSHOLD  REWARDS_CUSTOMER  DAYS_AS_CUSTOMER  \\\n",
       "count         48150.000000      48150.000000      48150.000000   \n",
       "mean              0.338401          0.359564       2190.758214   \n",
       "std               0.493622          0.479878       1174.409345   \n",
       "min               0.000000          0.000000         49.000000   \n",
       "25%               0.000000          0.000000       1075.000000   \n",
       "50%               0.000000          0.000000       2304.000000   \n",
       "75%               1.000000          1.000000       3289.000000   \n",
       "max               4.000000          1.000000       3913.000000   \n",
       "\n",
       "       TOTAL_TRANSACTIONS  REW_TRANSACTIONS   TOTAL_SPEND  \\\n",
       "count        48150.000000      48150.000000  48150.000000   \n",
       "mean             8.200436          4.881059    702.435789   \n",
       "std             26.226379         24.394402   1765.211101   \n",
       "min              1.000000          0.000000      0.010000   \n",
       "25%              1.000000          0.000000     61.462500   \n",
       "50%              3.000000          0.000000    174.845000   \n",
       "75%              6.000000          2.000000    551.835000   \n",
       "max           2106.000000       1987.000000  64460.160000   \n",
       "\n",
       "       DAYS_SINCE_PURCHASE  TARGET_PURCH_NEXT15  \n",
       "count         48150.000000         48150.000000  \n",
       "mean           1205.705379             0.189221  \n",
       "std            1013.891906             0.391688  \n",
       "min               5.000000             0.000000  \n",
       "25%             333.000000             0.000000  \n",
       "50%             885.000000             0.000000  \n",
       "75%            1912.000000             0.000000  \n",
       "max            3910.000000             1.000000  "
      ]
     },
     "execution_count": 43,
     "metadata": {},
     "output_type": "execute_result"
    }
   ],
   "source": [
    "\n",
    "collist = ['MEDHINC_CY','MEDAGE_CY','CLOSEST_BP','MALES_IN_HOUSHOLD','FEMALES_IN_HOUSHOLD','REWARDS_CUSTOMER',\n",
    "          'DAYS_AS_CUSTOMER','TOTAL_TRANSACTIONS','REW_TRANSACTIONS','TOTAL_SPEND','DAYS_SINCE_PURCHASE','TARGET_PURCH_NEXT15']\n",
    "train2 = train[collist].dropna()\n",
    "train2.describe()"
   ]
  },
  {
   "cell_type": "code",
   "execution_count": 44,
   "metadata": {},
   "outputs": [],
   "source": [
    "sns.pairplot(train2, hue='TARGET_PURCH_NEXT15')\n",
    "sns.plt.savefig('Scattermatrix.png')"
   ]
  },
  {
   "cell_type": "code",
   "execution_count": 47,
   "metadata": {},
   "outputs": [
    {
     "ename": "TypeError",
     "evalue": "len() of unsized object",
     "output_type": "error",
     "traceback": [
      "\u001b[1;31m---------------------------------------------------------------------------\u001b[0m",
      "\u001b[1;31mTypeError\u001b[0m                                 Traceback (most recent call last)",
      "\u001b[1;32m<ipython-input-47-b61245bcfffe>\u001b[0m in \u001b[0;36m<module>\u001b[1;34m()\u001b[0m\n\u001b[0;32m      4\u001b[0m \u001b[1;33m\u001b[0m\u001b[0m\n\u001b[0;32m      5\u001b[0m \u001b[1;32mfor\u001b[0m \u001b[0mel\u001b[0m \u001b[1;32min\u001b[0m \u001b[0mX\u001b[0m\u001b[1;33m.\u001b[0m\u001b[0mcolumns\u001b[0m\u001b[1;33m:\u001b[0m\u001b[1;33m\u001b[0m\u001b[0m\n\u001b[1;32m----> 6\u001b[1;33m     \u001b[0mstats\u001b[0m\u001b[1;33m.\u001b[0m\u001b[0mpointbiserialr\u001b[0m\u001b[1;33m(\u001b[0m\u001b[0mel\u001b[0m\u001b[1;33m,\u001b[0m \u001b[0my\u001b[0m\u001b[1;33m)\u001b[0m\u001b[1;33m\u001b[0m\u001b[0m\n\u001b[0m\u001b[0;32m      7\u001b[0m \u001b[1;33m\u001b[0m\u001b[0m\n",
      "\u001b[1;32mC:\\ProgramData\\Anaconda3\\lib\\site-packages\\scipy\\stats\\stats.py\u001b[0m in \u001b[0;36mpointbiserialr\u001b[1;34m(x, y)\u001b[0m\n\u001b[0;32m   3427\u001b[0m \u001b[1;33m\u001b[0m\u001b[0m\n\u001b[0;32m   3428\u001b[0m     \"\"\"\n\u001b[1;32m-> 3429\u001b[1;33m     \u001b[0mrpb\u001b[0m\u001b[1;33m,\u001b[0m \u001b[0mprob\u001b[0m \u001b[1;33m=\u001b[0m \u001b[0mpearsonr\u001b[0m\u001b[1;33m(\u001b[0m\u001b[0mx\u001b[0m\u001b[1;33m,\u001b[0m \u001b[0my\u001b[0m\u001b[1;33m)\u001b[0m\u001b[1;33m\u001b[0m\u001b[0m\n\u001b[0m\u001b[0;32m   3430\u001b[0m     \u001b[1;32mreturn\u001b[0m \u001b[0mPointbiserialrResult\u001b[0m\u001b[1;33m(\u001b[0m\u001b[0mrpb\u001b[0m\u001b[1;33m,\u001b[0m \u001b[0mprob\u001b[0m\u001b[1;33m)\u001b[0m\u001b[1;33m\u001b[0m\u001b[0m\n\u001b[0;32m   3431\u001b[0m \u001b[1;33m\u001b[0m\u001b[0m\n",
      "\u001b[1;32mC:\\ProgramData\\Anaconda3\\lib\\site-packages\\scipy\\stats\\stats.py\u001b[0m in \u001b[0;36mpearsonr\u001b[1;34m(x, y)\u001b[0m\n\u001b[0;32m   3013\u001b[0m     \u001b[0mx\u001b[0m \u001b[1;33m=\u001b[0m \u001b[0mnp\u001b[0m\u001b[1;33m.\u001b[0m\u001b[0masarray\u001b[0m\u001b[1;33m(\u001b[0m\u001b[0mx\u001b[0m\u001b[1;33m)\u001b[0m\u001b[1;33m\u001b[0m\u001b[0m\n\u001b[0;32m   3014\u001b[0m     \u001b[0my\u001b[0m \u001b[1;33m=\u001b[0m \u001b[0mnp\u001b[0m\u001b[1;33m.\u001b[0m\u001b[0masarray\u001b[0m\u001b[1;33m(\u001b[0m\u001b[0my\u001b[0m\u001b[1;33m)\u001b[0m\u001b[1;33m\u001b[0m\u001b[0m\n\u001b[1;32m-> 3015\u001b[1;33m     \u001b[0mn\u001b[0m \u001b[1;33m=\u001b[0m \u001b[0mlen\u001b[0m\u001b[1;33m(\u001b[0m\u001b[0mx\u001b[0m\u001b[1;33m)\u001b[0m\u001b[1;33m\u001b[0m\u001b[0m\n\u001b[0m\u001b[0;32m   3016\u001b[0m     \u001b[0mmx\u001b[0m \u001b[1;33m=\u001b[0m \u001b[0mx\u001b[0m\u001b[1;33m.\u001b[0m\u001b[0mmean\u001b[0m\u001b[1;33m(\u001b[0m\u001b[1;33m)\u001b[0m\u001b[1;33m\u001b[0m\u001b[0m\n\u001b[0;32m   3017\u001b[0m     \u001b[0mmy\u001b[0m \u001b[1;33m=\u001b[0m \u001b[0my\u001b[0m\u001b[1;33m.\u001b[0m\u001b[0mmean\u001b[0m\u001b[1;33m(\u001b[0m\u001b[1;33m)\u001b[0m\u001b[1;33m\u001b[0m\u001b[0m\n",
      "\u001b[1;31mTypeError\u001b[0m: len() of unsized object"
     ]
    }
   ],
   "source": [
    "X = train[['MEDHINC_CY','MEDAGE_CY','CLOSEST_BP','MALES_IN_HOUSHOLD','FEMALES_IN_HOUSHOLD','REWARDS_CUSTOMER',\n",
    "          'DAYS_AS_CUSTOMER','TOTAL_TRANSACTIONS','REW_TRANSACTIONS','TOTAL_SPEND','DAYS_SINCE_PURCHASE']]\n",
    "y = train[['TARGET_PURCH_NEXT15']]\n",
    "\n",
    "for el in X.columns:\n",
    "    stats.pointbiserialr(el, y)\n",
    "    "
   ]
  },
  {
   "cell_type": "code",
   "execution_count": null,
   "metadata": {
    "collapsed": true
   },
   "outputs": [],
   "source": []
  }
 ],
 "metadata": {
  "kernelspec": {
   "display_name": "Python 3",
   "language": "python",
   "name": "python3"
  },
  "language_info": {
   "codemirror_mode": {
    "name": "ipython",
    "version": 3
   },
   "file_extension": ".py",
   "mimetype": "text/x-python",
   "name": "python",
   "nbconvert_exporter": "python",
   "pygments_lexer": "ipython3",
   "version": "3.6.1"
  }
 },
 "nbformat": 4,
 "nbformat_minor": 2
}

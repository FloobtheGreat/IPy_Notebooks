{
 "cells": [
  {
   "cell_type": "code",
   "execution_count": 1,
   "metadata": {},
   "outputs": [
    {
     "name": "stderr",
     "output_type": "stream",
     "text": [
      "C:\\ProgramData\\Anaconda3\\lib\\site-packages\\sklearn\\cross_validation.py:44: DeprecationWarning: This module was deprecated in version 0.18 in favor of the model_selection module into which all the refactored classes and functions are moved. Also note that the interface of the new CV iterators are different from that of this module. This module will be removed in 0.20.\n",
      "  \"This module will be removed in 0.20.\", DeprecationWarning)\n"
     ]
    }
   ],
   "source": [
    "import sys\n",
    "import importlib as imp\n",
    "sys.path.insert(0, r\"C:\\users\\pairwin\\Documents\\Github\\HelperPI\")\n",
    "#sys.path.insert(0, r'/home/phillip/Documents/GitHub/HelperPI/')\n",
    "#imp.reload(HelperPI)\n",
    "import HelperPI\n",
    "import matplotlib.pyplot as plt\n",
    "import matplotlib\n",
    "import pandas as pd\n",
    "import scipy.stats as stats\n",
    "import numpy as np\n",
    "import math"
   ]
  },
  {
   "cell_type": "code",
   "execution_count": 2,
   "metadata": {
    "collapsed": true
   },
   "outputs": [],
   "source": [
    "%matplotlib inline\n",
    "\n",
    "matplotlib.rcParams['figure.figsize'] = (11,8)\n",
    "\n",
    "pd.options.mode.chained_assignment = None\n",
    "pd.options.display.max_columns = 999"
   ]
  },
  {
   "cell_type": "code",
   "execution_count": 3,
   "metadata": {},
   "outputs": [
    {
     "name": "stderr",
     "output_type": "stream",
     "text": [
      "INFO:root:Initializing...\n",
      "INFO:root:Finished\n"
     ]
    }
   ],
   "source": [
    "helper = HelperPI.Helper()"
   ]
  },
  {
   "cell_type": "code",
   "execution_count": 4,
   "metadata": {
    "scrolled": true
   },
   "outputs": [
    {
     "name": "stderr",
     "output_type": "stream",
     "text": [
      "INFO:root:Reading data...\n",
      "INFO:root:Data read complete...\n",
      "INFO:root:Read: 100000 rows.\n"
     ]
    },
    {
     "name": "stdout",
     "output_type": "stream",
     "text": [
      "                             Count Column Type\n",
      "0                          CONT_ID       int64\n",
      "1                        CUST_TYPE      object\n",
      "2              BPS_OUTDOOR_REWARDS      object\n",
      "3            BPS_PREFERRED_REWARDS      object\n",
      "4                      CAB_REWARDS      object\n",
      "5                         CAB_CLUB      object\n",
      "6                         NEW_CLUB      object\n",
      "7                 COMBINED_LOYALTY      object\n",
      "8                    COMBINED_CLUB      object\n",
      "9                     CHANNEL_TYPE      object\n",
      "10               CHANNEL_TYPE_24MO      object\n",
      "11                    TOTAL_VISITS       int64\n",
      "12                TOTAL_BPS_VISITS       int64\n",
      "13                TOTAL_CAB_VISITS       int64\n",
      "14               TOTAL_VISITS_24MO       int64\n",
      "15                TIME_AS_CUSTOMER       int64\n",
      "16             AVG_DAYS_BTW_VISITS     float64\n",
      "17        DAYS_SINCE_LAST_PURCHASE       int64\n",
      "18                     TOTAL_SALES     float64\n",
      "19                    RETAIL_SALES     float64\n",
      "20         RETAIL_SALES_PROPORTION     float64\n",
      "21                     TOTAL_UNITS     float64\n",
      "22                TOTAL_SALES_24MO     float64\n",
      "23               RETAIL_SALES_24MO     float64\n",
      "24    RETAIL_SALES_PROPORTION_24MO     float64\n",
      "25                TOTAL_UNITS_24MO     float64\n",
      "26                       TOTAL_PPU     float64\n",
      "27                  TOTAL_PPU_24MO     float64\n",
      "28                  BPS_SALES_24MO     float64\n",
      "29                  BPS_UNITS_24MO     float64\n",
      "..                             ...         ...\n",
      "79                 BPS_SALES_LYQTR     float64\n",
      "80                 BPS_UNITS_LYQTR     float64\n",
      "81                 CAB_SALES_LYQTR     float64\n",
      "82                 CAB_UNITS_LYQTR     float64\n",
      "83                   BPS_PPU_LYQTR     float64\n",
      "84                   CAB_PPU_LYQTR     float64\n",
      "85            D100_24MO_PROPORTION     float64\n",
      "86            D151_24MO_PROPORTION     float64\n",
      "87            D175_24MO_PROPORTION     float64\n",
      "88            D200_24MO_PROPORTION     float64\n",
      "89            D300_24MO_PROPORTION     float64\n",
      "90            D350_24MO_PROPORTION     float64\n",
      "91            D400_24MO_PROPORTION     float64\n",
      "92            D475_24MO_PROPORTION     float64\n",
      "93            D500_24MO_PROPORTION     float64\n",
      "94            D600_24MO_PROPORTION     float64\n",
      "95            D650_24MO_PROPORTION     float64\n",
      "96            D675_24MO_PROPORTION     float64\n",
      "97            D700_24MO_PROPORTION     float64\n",
      "98            VISITS_BY_TIME_INTER       int64\n",
      "99        VISITS_BY_AVG_DAYS_INTER     float64\n",
      "100     VISITS_BY_DAYS_SINCE_INTER       int64\n",
      "101    VISITS_BY_LYQTY_UNITS_INTER     float64\n",
      "102         TIME_BY_AVG_DAYS_INTER     float64\n",
      "103  TIME_BY_DAYS_SINCE_LAST_INTER       int64\n",
      "104      TIME_BY_LYQTR_UNITS_INTER     float64\n",
      "105              PERCENT_BPS_VISTS     float64\n",
      "106             PERCENT_24MO_VISTS     float64\n",
      "107             TARGET_Q4_PURCHASE       int64\n",
      "108                   TARGET_SALES     float64\n",
      "\n",
      "[109 rows x 2 columns]\n"
     ]
    }
   ],
   "source": [
    "sql = helper.getSQL(path=r'C:\\Users\\pairwin\\Documents\\GitHub\\IPy_Notebooks\\SQL\\Q4_Buyer.sql')\n",
    "base, dtypedf = helper.readData(sql)"
   ]
  },
  {
   "cell_type": "code",
   "execution_count": 10,
   "metadata": {
    "collapsed": true
   },
   "outputs": [],
   "source": [
    "collist = ['CUST_TYPE','CHANNEL_TYPE','CHANNEL_TYPE_24MO','TOTAL_VISITS','TOTAL_BPS_VISITS',\n",
    "          'TOTAL_CAB_VISITS','TOTAL_VISITS_24MO','TIME_AS_CUSTOMER','AVG_DAYS_BTW_VISITS','DAYS_SINCE_LAST_PURCHASE',\n",
    "          'TOTAL_SALES','RETAIL_SALES','RETAIL_SALES_PROPORTION','TOTAL_UNITS','TOTAL_SALES_24MO','RETAIL_SALES_24MO',\n",
    "          'RETAIL_SALES_PROPORTION_24MO','TOTAL_UNITS_24MO','TOTAL_PPU','TOTAL_PPU_24MO','TOTAL_PPU_LYQTR',\n",
    "          'BPS_SALES_24MO','BPS_UNITS_24MO','CAB_SALES_24MO','CAB_UNITS_24MO','BPS_PPU_24MO','CAB_PPU_24MO',\n",
    "          'D100_SALES_24MO','D100_UNITS_24MO','D151_SALES_24MO','D151_UNITS_24MO','D175_SALES_24MO','D175_UNITS_24MO',\n",
    "          'D200_SALES_24MO','D200_UNITS_24MO','D300_SALES_24MO','D300_UNITS_24MO','D350_SALES_24MO','D350_UNITS_24MO',\n",
    "          'D400_SALES_24MO','D400_UNITS_24MO','D450_SALES_24MO','D450_UNITS_24MO','D475_SALES_24MO','D475_UNITS_24MO',\n",
    "          'D500_SALES_24MO','D500_UNITS_24MO','D600_SALES_24MO','D600_UNITS_24MO','D650_SALES_24MO','D650_UNITS_24MO',\n",
    "          'D675_SALES_24MO','D675_UNITS_24MO','D700_SALES_24MO','D700_UNITS_24MO','D100_PPU_24MO','D151_PPU_24MO',\n",
    "          'D175_PPU_24MO','D200_PPU_24MO','D300_PPU_24MO','D350_PPU_24MO','D400_PPU_24MO','D450_PPU_24MO','D475_PPU_24MO',\n",
    "          'D500_PPU_24MO','D600_PPU_24MO','D650_PPU_24MO','D675_PPU_24MO','D700_PPU_24MO','TOTAL_SALES_LYQTR','TOTAL_UNITS_LYQTR',\n",
    "          'BPS_SALES_LYQTR','BPS_UNITS_LYQTR','CAB_SALES_LYQTR','CAB_UNITS_LYQTR','BPS_PPU_LYQTR','CAB_PPU_LYQTR',\n",
    "          'D100_24MO_PROPORTION','D151_24MO_PROPORTION','D175_24MO_PROPORTION','D200_24MO_PROPORTION','D300_24MO_PROPORTION',\n",
    "          'D350_24MO_PROPORTION','D400_24MO_PROPORTION','D475_24MO_PROPORTION','D500_24MO_PROPORTION','D600_24MO_PROPORTION',\n",
    "          'D650_24MO_PROPORTION','D675_24MO_PROPORTION','D700_24MO_PROPORTION','VISITS_BY_TIME_INTER','VISITS_BY_AVG_DAYS_INTER',\n",
    "          'VISITS_BY_DAYS_SINCE_INTER','VISITS_BY_LYQTY_UNITS_INTER','TIME_BY_AVG_DAYS_INTER','TIME_BY_DAYS_SINCE_LAST_INTER',\n",
    "          'TIME_BY_LYQTR_UNITS_INTER','PERCENT_BPS_VISTS','PERCENT_24MO_VISTS','TARGET_Q4_PURCHASE']\n",
    "\n",
    "collist_X = ['CUST_TYPE','CHANNEL_TYPE','CHANNEL_TYPE_24MO','TOTAL_VISITS','TOTAL_BPS_VISITS',\n",
    "          'TOTAL_CAB_VISITS','TOTAL_VISITS_24MO','TIME_AS_CUSTOMER','AVG_DAYS_BTW_VISITS','DAYS_SINCE_LAST_PURCHASE',\n",
    "          'TOTAL_SALES','RETAIL_SALES','RETAIL_SALES_PROPORTION','TOTAL_UNITS','TOTAL_SALES_24MO','RETAIL_SALES_24MO',\n",
    "          'RETAIL_SALES_PROPORTION_24MO','TOTAL_UNITS_24MO','TOTAL_PPU','TOTAL_PPU_24MO','TOTAL_PPU_LYQTR',\n",
    "          'BPS_SALES_24MO','BPS_UNITS_24MO','CAB_SALES_24MO','CAB_UNITS_24MO','BPS_PPU_24MO','CAB_PPU_24MO',\n",
    "          'D100_SALES_24MO','D100_UNITS_24MO','D151_SALES_24MO','D151_UNITS_24MO','D175_SALES_24MO','D175_UNITS_24MO',\n",
    "          'D200_SALES_24MO','D200_UNITS_24MO','D300_SALES_24MO','D300_UNITS_24MO','D350_SALES_24MO','D350_UNITS_24MO',\n",
    "          'D400_SALES_24MO','D400_UNITS_24MO','D450_SALES_24MO','D450_UNITS_24MO','D475_SALES_24MO','D475_UNITS_24MO',\n",
    "          'D500_SALES_24MO','D500_UNITS_24MO','D600_SALES_24MO','D600_UNITS_24MO','D650_SALES_24MO','D650_UNITS_24MO',\n",
    "          'D675_SALES_24MO','D675_UNITS_24MO','D700_SALES_24MO','D700_UNITS_24MO','D100_PPU_24MO','D151_PPU_24MO',\n",
    "          'D175_PPU_24MO','D200_PPU_24MO','D300_PPU_24MO','D350_PPU_24MO','D400_PPU_24MO','D450_PPU_24MO','D475_PPU_24MO',\n",
    "          'D500_PPU_24MO','D600_PPU_24MO','D650_PPU_24MO','D675_PPU_24MO','D700_PPU_24MO','TOTAL_SALES_LYQTR','TOTAL_UNITS_LYQTR',\n",
    "          'BPS_SALES_LYQTR','BPS_UNITS_LYQTR','CAB_SALES_LYQTR','CAB_UNITS_LYQTR','BPS_PPU_LYQTR','CAB_PPU_LYQTR',\n",
    "          'D100_24MO_PROPORTION','D151_24MO_PROPORTION','D175_24MO_PROPORTION','D200_24MO_PROPORTION','D300_24MO_PROPORTION',\n",
    "          'D350_24MO_PROPORTION','D400_24MO_PROPORTION','D475_24MO_PROPORTION','D500_24MO_PROPORTION','D600_24MO_PROPORTION',\n",
    "          'D650_24MO_PROPORTION','D675_24MO_PROPORTION','D700_24MO_PROPORTION','VISITS_BY_TIME_INTER','VISITS_BY_AVG_DAYS_INTER',\n",
    "          'VISITS_BY_DAYS_SINCE_INTER','VISITS_BY_LYQTY_UNITS_INTER','TIME_BY_AVG_DAYS_INTER','TIME_BY_DAYS_SINCE_LAST_INTER',\n",
    "          'TIME_BY_LYQTR_UNITS_INTER','PERCENT_BPS_VISTS','PERCENT_24MO_VISTS']\n",
    "\n",
    "collist_X_num = ['TOTAL_VISITS','TOTAL_BPS_VISITS',\n",
    "          'TOTAL_CAB_VISITS','TOTAL_VISITS_24MO','TIME_AS_CUSTOMER','AVG_DAYS_BTW_VISITS','DAYS_SINCE_LAST_PURCHASE',\n",
    "          'TOTAL_SALES','RETAIL_SALES','RETAIL_SALES_PROPORTION','TOTAL_UNITS','TOTAL_SALES_24MO','RETAIL_SALES_24MO',\n",
    "          'RETAIL_SALES_PROPORTION_24MO','TOTAL_UNITS_24MO','TOTAL_PPU','TOTAL_PPU_24MO','TOTAL_PPU_LYQTR',\n",
    "          'BPS_SALES_24MO','BPS_UNITS_24MO','CAB_SALES_24MO','CAB_UNITS_24MO','BPS_PPU_24MO','CAB_PPU_24MO',\n",
    "          'D100_SALES_24MO','D100_UNITS_24MO','D151_SALES_24MO','D151_UNITS_24MO','D175_SALES_24MO','D175_UNITS_24MO',\n",
    "          'D200_SALES_24MO','D200_UNITS_24MO','D300_SALES_24MO','D300_UNITS_24MO','D350_SALES_24MO','D350_UNITS_24MO',\n",
    "          'D400_SALES_24MO','D400_UNITS_24MO','D450_SALES_24MO','D450_UNITS_24MO','D475_SALES_24MO','D475_UNITS_24MO',\n",
    "          'D500_SALES_24MO','D500_UNITS_24MO','D600_SALES_24MO','D600_UNITS_24MO','D650_SALES_24MO','D650_UNITS_24MO',\n",
    "          'D675_SALES_24MO','D675_UNITS_24MO','D700_SALES_24MO','D700_UNITS_24MO','D100_PPU_24MO','D151_PPU_24MO',\n",
    "          'D175_PPU_24MO','D200_PPU_24MO','D300_PPU_24MO','D350_PPU_24MO','D400_PPU_24MO','D450_PPU_24MO','D475_PPU_24MO',\n",
    "          'D500_PPU_24MO','D600_PPU_24MO','D650_PPU_24MO','D675_PPU_24MO','D700_PPU_24MO','TOTAL_SALES_LYQTR','TOTAL_UNITS_LYQTR',\n",
    "          'BPS_SALES_LYQTR','BPS_UNITS_LYQTR','CAB_SALES_LYQTR','CAB_UNITS_LYQTR','BPS_PPU_LYQTR','CAB_PPU_LYQTR',\n",
    "          'D100_24MO_PROPORTION','D151_24MO_PROPORTION','D175_24MO_PROPORTION','D200_24MO_PROPORTION','D300_24MO_PROPORTION',\n",
    "          'D350_24MO_PROPORTION','D400_24MO_PROPORTION','D475_24MO_PROPORTION','D500_24MO_PROPORTION','D600_24MO_PROPORTION',\n",
    "          'D650_24MO_PROPORTION','D675_24MO_PROPORTION','D700_24MO_PROPORTION','VISITS_BY_TIME_INTER','VISITS_BY_AVG_DAYS_INTER',\n",
    "          'VISITS_BY_DAYS_SINCE_INTER','VISITS_BY_LYQTY_UNITS_INTER','TIME_BY_AVG_DAYS_INTER','TIME_BY_DAYS_SINCE_LAST_INTER',\n",
    "          'TIME_BY_LYQTR_UNITS_INTER','PERCENT_BPS_VISTS','PERCENT_24MO_VISTS']\n",
    "\n",
    "collist_x_nonum = ['CUST_TYPE','CHANNEL_TYPE','CHANNEL_TYPE_24MO']\n",
    "\n",
    "\n",
    "#collist_y = ['SALES_TARGET_N12_CBRT']\n",
    "\n",
    "\n",
    "collist_y = ['TARGET_Q4_PURCHASE']"
   ]
  },
  {
   "cell_type": "code",
   "execution_count": 8,
   "metadata": {},
   "outputs": [
    {
     "name": "stdout",
     "output_type": "stream",
     "text": [
      "(40000, 107) (40000, 107) (20000, 107)\n"
     ]
    }
   ],
   "source": [
    "train, test = helper.splitData(base[collist], .8)\n",
    "\n",
    "train, val = helper.splitData(train, 0.5)\n",
    "\n",
    "print(train.shape, val.shape, test.shape)\n",
    "\n",
    "train_X = train[collist_X]\n",
    "\n",
    "train_y = train[collist_y].as_matrix().ravel()\n",
    "val_X = val[collist_X]\n",
    "val_y = val[collist_y].as_matrix().ravel()\n",
    "test_X = test[collist_X]\n",
    "test_y = test[collist_y].as_matrix().ravel()\n",
    "\n",
    "\n",
    "#interactions = helper.find_iteractions(train_X, train_y)\n",
    "#interactions.to_csv('interactions.csv')"
   ]
  },
  {
   "cell_type": "code",
   "execution_count": 9,
   "metadata": {},
   "outputs": [
    {
     "data": {
      "image/png": "[encoded data removed]",
      "text/plain": [
       "<matplotlib.figure.Figure at 0x1cac15c0>"
      ]
     },
     "metadata": {},
     "output_type": "display_data"
    }
   ],
   "source": [
    "plt.hist(train_y, bins = 10)\n",
    "plt.show()"
   ]
  },
  {
   "cell_type": "code",
   "execution_count": null,
   "metadata": {
    "collapsed": true
   },
   "outputs": [],
   "source": []
  }
 ],
 "metadata": {
  "kernelspec": {
   "display_name": "Python 3",
   "language": "python",
   "name": "python3"
  },
  "language_info": {
   "codemirror_mode": {
    "name": "ipython",
    "version": 3
   },
   "file_extension": ".py",
   "mimetype": "text/x-python",
   "name": "python",
   "nbconvert_exporter": "python",
   "pygments_lexer": "ipython3",
   "version": "3.6.1"
  }
 },
 "nbformat": 4,
 "nbformat_minor": 2
}

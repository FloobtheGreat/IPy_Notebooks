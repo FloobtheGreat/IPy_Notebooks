{
 "cells": [
  {
   "cell_type": "code",
   "execution_count": 1,
   "metadata": {
    "collapsed": true
   },
   "outputs": [],
   "source": [
    "#Grab historical Sales data\n",
    "#Seasonality Variables, Qtr, Period\n",
    "#Event sku?\n",
    "# Sku age\n",
    "# CPI\n",
    "%matplotlib inline"
   ]
  },
  {
   "cell_type": "code",
   "execution_count": 2,
   "metadata": {},
   "outputs": [
    {
     "name": "stdout",
     "output_type": "stream",
     "text": [
      "1314000000\n"
     ]
    }
   ],
   "source": [
    "print(str(60000*60*365))"
   ]
  },
  {
   "cell_type": "code",
   "execution_count": 3,
   "metadata": {
    "collapsed": true
   },
   "outputs": [],
   "source": [
    "import sys\n",
    "sys.path.insert(0, r\"C:\\users\\pairwin\\Documents\\Github\\HelperPI\")\n",
    "\n",
    "import HelperPI\n",
    "import seaborn as sbs\n",
    "import pandas as pd\n",
    "import scipy.stats as stats\n",
    "import matplotlib.pyplot as plt\n",
    "import statsmodels.formula.api as sts"
   ]
  },
  {
   "cell_type": "code",
   "execution_count": 4,
   "metadata": {},
   "outputs": [
    {
     "name": "stderr",
     "output_type": "stream",
     "text": [
      "INFO:root:Initializing...\n"
     ]
    }
   ],
   "source": [
    "helper = HelperPI.Helper()"
   ]
  },
  {
   "cell_type": "code",
   "execution_count": 30,
   "metadata": {
    "collapsed": true
   },
   "outputs": [],
   "source": [
    "sql = helper.getSQL(r\"C:\\users\\pairwin\\Documents\\GitHub\\IPy_Notebooks\\SQL\\InventoryForecasting.sql\")"
   ]
  },
  {
   "cell_type": "code",
   "execution_count": 31,
   "metadata": {},
   "outputs": [
    {
     "name": "stderr",
     "output_type": "stream",
     "text": [
      "INFO:root:Reading data...\n",
      "INFO:root:Data read complete...\n"
     ]
    },
    {
     "name": "stdout",
     "output_type": "stream",
     "text": [
      "                Count Column Type\n",
      "0          DATE_VALUE      object\n",
      "1    CALENDAR_QUARTER       int64\n",
      "2      CALENDAR_MONTH       int64\n",
      "3           DAYINWEEK       int64\n",
      "4             UMCSENT     float64\n",
      "5        STORE_NUMBER      object\n",
      "6  SKU_DISPLAY_NUMBER      object\n",
      "7             SKU_AGE       int64\n",
      "8           EVENT_SKU       int64\n",
      "9        TARGET_UNITS     float64\n"
     ]
    }
   ],
   "source": [
    "base, dtypesdf = helper.readData(sql)"
   ]
  },
  {
   "cell_type": "code",
   "execution_count": 33,
   "metadata": {
    "scrolled": false
   },
   "outputs": [
    {
     "data": {
      "text/html": [
       "<table class=\"simpletable\">\n",
       "<caption>OLS Regression Results</caption>\n",
       "<tr>\n",
       "  <th>Dep. Variable:</th>      <td>TARGET_UNITS</td>   <th>  R-squared:         </th> <td>   0.729</td> \n",
       "</tr>\n",
       "<tr>\n",
       "  <th>Model:</th>                   <td>OLS</td>       <th>  Adj. R-squared:    </th> <td>   0.724</td> \n",
       "</tr>\n",
       "<tr>\n",
       "  <th>Method:</th>             <td>Least Squares</td>  <th>  F-statistic:       </th> <td>   149.8</td> \n",
       "</tr>\n",
       "<tr>\n",
       "  <th>Date:</th>             <td>Wed, 16 Aug 2017</td> <th>  Prob (F-statistic):</th> <td>8.66e-284</td>\n",
       "</tr>\n",
       "<tr>\n",
       "  <th>Time:</th>                 <td>14:12:21</td>     <th>  Log-Likelihood:    </th> <td> -4204.7</td> \n",
       "</tr>\n",
       "<tr>\n",
       "  <th>No. Observations:</th>      <td>  1078</td>      <th>  AIC:               </th> <td>   8449.</td> \n",
       "</tr>\n",
       "<tr>\n",
       "  <th>Df Residuals:</th>          <td>  1058</td>      <th>  BIC:               </th> <td>   8549.</td> \n",
       "</tr>\n",
       "<tr>\n",
       "  <th>Df Model:</th>              <td>    19</td>      <th>                     </th>     <td> </td>    \n",
       "</tr>\n",
       "<tr>\n",
       "  <th>Covariance Type:</th>      <td>nonrobust</td>    <th>                     </th>     <td> </td>    \n",
       "</tr>\n",
       "</table>\n",
       "<table class=\"simpletable\">\n",
       "<tr>\n",
       "             <td></td>                <th>coef</th>     <th>std err</th>      <th>t</th>      <th>P>|t|</th>  <th>[0.025</th>    <th>0.975]</th>  \n",
       "</tr>\n",
       "<tr>\n",
       "  <th>Intercept</th>               <td>   42.3352</td> <td>    7.081</td> <td>    5.979</td> <td> 0.000</td> <td>   28.442</td> <td>   56.229</td>\n",
       "</tr>\n",
       "<tr>\n",
       "  <th>C(CALENDAR_MONTH)[T.2]</th>  <td>   -4.8663</td> <td>    1.615</td> <td>   -3.013</td> <td> 0.003</td> <td>   -8.036</td> <td>   -1.697</td>\n",
       "</tr>\n",
       "<tr>\n",
       "  <th>C(CALENDAR_MONTH)[T.3]</th>  <td>   -8.7938</td> <td>    1.593</td> <td>   -5.520</td> <td> 0.000</td> <td>  -11.920</td> <td>   -5.668</td>\n",
       "</tr>\n",
       "<tr>\n",
       "  <th>C(CALENDAR_MONTH)[T.4]</th>  <td>   -9.6452</td> <td>    1.659</td> <td>   -5.814</td> <td> 0.000</td> <td>  -12.900</td> <td>   -6.390</td>\n",
       "</tr>\n",
       "<tr>\n",
       "  <th>C(CALENDAR_MONTH)[T.5]</th>  <td>  -10.5693</td> <td>    1.720</td> <td>   -6.144</td> <td> 0.000</td> <td>  -13.945</td> <td>   -7.194</td>\n",
       "</tr>\n",
       "<tr>\n",
       "  <th>C(CALENDAR_MONTH)[T.6]</th>  <td>   -9.6204</td> <td>    1.897</td> <td>   -5.072</td> <td> 0.000</td> <td>  -13.342</td> <td>   -5.898</td>\n",
       "</tr>\n",
       "<tr>\n",
       "  <th>C(CALENDAR_MONTH)[T.7]</th>  <td>  -11.5260</td> <td>    1.958</td> <td>   -5.887</td> <td> 0.000</td> <td>  -15.368</td> <td>   -7.684</td>\n",
       "</tr>\n",
       "<tr>\n",
       "  <th>C(CALENDAR_MONTH)[T.8]</th>  <td>   -5.7459</td> <td>    1.740</td> <td>   -3.303</td> <td> 0.001</td> <td>   -9.159</td> <td>   -2.332</td>\n",
       "</tr>\n",
       "<tr>\n",
       "  <th>C(CALENDAR_MONTH)[T.9]</th>  <td>   -5.1054</td> <td>    1.725</td> <td>   -2.959</td> <td> 0.003</td> <td>   -8.491</td> <td>   -1.720</td>\n",
       "</tr>\n",
       "<tr>\n",
       "  <th>C(CALENDAR_MONTH)[T.10]</th> <td>    0.1687</td> <td>    1.771</td> <td>    0.095</td> <td> 0.924</td> <td>   -3.306</td> <td>    3.643</td>\n",
       "</tr>\n",
       "<tr>\n",
       "  <th>C(CALENDAR_MONTH)[T.11]</th> <td>   13.9819</td> <td>    1.680</td> <td>    8.324</td> <td> 0.000</td> <td>   10.686</td> <td>   17.278</td>\n",
       "</tr>\n",
       "<tr>\n",
       "  <th>C(CALENDAR_MONTH)[T.12]</th> <td>   28.9845</td> <td>    1.693</td> <td>   17.119</td> <td> 0.000</td> <td>   25.662</td> <td>   32.307</td>\n",
       "</tr>\n",
       "<tr>\n",
       "  <th>C(EVENT_SKU)[T.1]</th>       <td>  138.6559</td> <td>    3.502</td> <td>   39.590</td> <td> 0.000</td> <td>  131.784</td> <td>  145.528</td>\n",
       "</tr>\n",
       "<tr>\n",
       "  <th>C(DAYINWEEK)[T.2]</th>       <td>   -2.0824</td> <td>    1.403</td> <td>   -1.484</td> <td> 0.138</td> <td>   -4.835</td> <td>    0.671</td>\n",
       "</tr>\n",
       "<tr>\n",
       "  <th>C(DAYINWEEK)[T.3]</th>       <td>   -3.1820</td> <td>    1.400</td> <td>   -2.273</td> <td> 0.023</td> <td>   -5.929</td> <td>   -0.435</td>\n",
       "</tr>\n",
       "<tr>\n",
       "  <th>C(DAYINWEEK)[T.4]</th>       <td>   -3.4514</td> <td>    1.402</td> <td>   -2.462</td> <td> 0.014</td> <td>   -6.202</td> <td>   -0.701</td>\n",
       "</tr>\n",
       "<tr>\n",
       "  <th>C(DAYINWEEK)[T.5]</th>       <td>   -2.8007</td> <td>    1.398</td> <td>   -2.004</td> <td> 0.045</td> <td>   -5.543</td> <td>   -0.058</td>\n",
       "</tr>\n",
       "<tr>\n",
       "  <th>C(DAYINWEEK)[T.6]</th>       <td>    1.3215</td> <td>    1.387</td> <td>    0.953</td> <td> 0.341</td> <td>   -1.399</td> <td>    4.042</td>\n",
       "</tr>\n",
       "<tr>\n",
       "  <th>C(DAYINWEEK)[T.7]</th>       <td>    4.9371</td> <td>    1.370</td> <td>    3.605</td> <td> 0.000</td> <td>    2.250</td> <td>    7.624</td>\n",
       "</tr>\n",
       "<tr>\n",
       "  <th>UMCSENT</th>                 <td>   -0.3121</td> <td>    0.075</td> <td>   -4.150</td> <td> 0.000</td> <td>   -0.460</td> <td>   -0.165</td>\n",
       "</tr>\n",
       "</table>\n",
       "<table class=\"simpletable\">\n",
       "<tr>\n",
       "  <th>Omnibus:</th>       <td>556.883</td> <th>  Durbin-Watson:     </th> <td>   1.223</td> \n",
       "</tr>\n",
       "<tr>\n",
       "  <th>Prob(Omnibus):</th> <td> 0.000</td>  <th>  Jarque-Bera (JB):  </th> <td>15478.174</td>\n",
       "</tr>\n",
       "<tr>\n",
       "  <th>Skew:</th>          <td> 1.804</td>  <th>  Prob(JB):          </th> <td>    0.00</td> \n",
       "</tr>\n",
       "<tr>\n",
       "  <th>Kurtosis:</th>      <td>21.209</td>  <th>  Cond. No.          </th> <td>1.78e+03</td> \n",
       "</tr>\n",
       "</table>"
      ],
      "text/plain": [
       "<class 'statsmodels.iolib.summary.Summary'>\n",
       "\"\"\"\n",
       "                            OLS Regression Results                            \n",
       "==============================================================================\n",
       "Dep. Variable:           TARGET_UNITS   R-squared:                       0.729\n",
       "Model:                            OLS   Adj. R-squared:                  0.724\n",
       "Method:                 Least Squares   F-statistic:                     149.8\n",
       "Date:                Wed, 16 Aug 2017   Prob (F-statistic):          8.66e-284\n",
       "Time:                        14:12:21   Log-Likelihood:                -4204.7\n",
       "No. Observations:                1078   AIC:                             8449.\n",
       "Df Residuals:                    1058   BIC:                             8549.\n",
       "Df Model:                          19                                         \n",
       "Covariance Type:            nonrobust                                         \n",
       "===========================================================================================\n",
       "                              coef    std err          t      P>|t|      [0.025      0.975]\n",
       "-------------------------------------------------------------------------------------------\n",
       "Intercept                  42.3352      7.081      5.979      0.000      28.442      56.229\n",
       "C(CALENDAR_MONTH)[T.2]     -4.8663      1.615     -3.013      0.003      -8.036      -1.697\n",
       "C(CALENDAR_MONTH)[T.3]     -8.7938      1.593     -5.520      0.000     -11.920      -5.668\n",
       "C(CALENDAR_MONTH)[T.4]     -9.6452      1.659     -5.814      0.000     -12.900      -6.390\n",
       "C(CALENDAR_MONTH)[T.5]    -10.5693      1.720     -6.144      0.000     -13.945      -7.194\n",
       "C(CALENDAR_MONTH)[T.6]     -9.6204      1.897     -5.072      0.000     -13.342      -5.898\n",
       "C(CALENDAR_MONTH)[T.7]    -11.5260      1.958     -5.887      0.000     -15.368      -7.684\n",
       "C(CALENDAR_MONTH)[T.8]     -5.7459      1.740     -3.303      0.001      -9.159      -2.332\n",
       "C(CALENDAR_MONTH)[T.9]     -5.1054      1.725     -2.959      0.003      -8.491      -1.720\n",
       "C(CALENDAR_MONTH)[T.10]     0.1687      1.771      0.095      0.924      -3.306       3.643\n",
       "C(CALENDAR_MONTH)[T.11]    13.9819      1.680      8.324      0.000      10.686      17.278\n",
       "C(CALENDAR_MONTH)[T.12]    28.9845      1.693     17.119      0.000      25.662      32.307\n",
       "C(EVENT_SKU)[T.1]         138.6559      3.502     39.590      0.000     131.784     145.528\n",
       "C(DAYINWEEK)[T.2]          -2.0824      1.403     -1.484      0.138      -4.835       0.671\n",
       "C(DAYINWEEK)[T.3]          -3.1820      1.400     -2.273      0.023      -5.929      -0.435\n",
       "C(DAYINWEEK)[T.4]          -3.4514      1.402     -2.462      0.014      -6.202      -0.701\n",
       "C(DAYINWEEK)[T.5]          -2.8007      1.398     -2.004      0.045      -5.543      -0.058\n",
       "C(DAYINWEEK)[T.6]           1.3215      1.387      0.953      0.341      -1.399       4.042\n",
       "C(DAYINWEEK)[T.7]           4.9371      1.370      3.605      0.000       2.250       7.624\n",
       "UMCSENT                    -0.3121      0.075     -4.150      0.000      -0.460      -0.165\n",
       "==============================================================================\n",
       "Omnibus:                      556.883   Durbin-Watson:                   1.223\n",
       "Prob(Omnibus):                  0.000   Jarque-Bera (JB):            15478.174\n",
       "Skew:                           1.804   Prob(JB):                         0.00\n",
       "Kurtosis:                      21.209   Cond. No.                     1.78e+03\n",
       "==============================================================================\n",
       "\n",
       "Warnings:\n",
       "[1] Standard Errors assume that the covariance matrix of the errors is correctly specified.\n",
       "[2] The condition number is large, 1.78e+03. This might indicate that there are\n",
       "strong multicollinearity or other numerical problems.\n",
       "\"\"\""
      ]
     },
     "execution_count": 33,
     "metadata": {},
     "output_type": "execute_result"
    }
   ],
   "source": [
    "formula = 'TARGET_UNITS ~ C(CALENDAR_MONTH) + C(EVENT_SKU) + C(DAYINWEEK) + UMCSENT'\n",
    "model = sts.ols(formula, data=base).fit()\n",
    "model.summary()"
   ]
  },
  {
   "cell_type": "code",
   "execution_count": 36,
   "metadata": {},
   "outputs": [
    {
     "data": {
      "text/html": [
       "<div>\n",
       "<style>\n",
       "    .dataframe thead tr:only-child th {\n",
       "        text-align: right;\n",
       "    }\n",
       "\n",
       "    .dataframe thead th {\n",
       "        text-align: left;\n",
       "    }\n",
       "\n",
       "    .dataframe tbody tr th {\n",
       "        vertical-align: top;\n",
       "    }\n",
       "</style>\n",
       "<table border=\"1\" class=\"dataframe\">\n",
       "  <thead>\n",
       "    <tr style=\"text-align: right;\">\n",
       "      <th></th>\n",
       "      <th>CALENDAR_QUARTER</th>\n",
       "      <th>CALENDAR_MONTH</th>\n",
       "      <th>DAYINWEEK</th>\n",
       "      <th>UMCSENT</th>\n",
       "      <th>SKU_AGE</th>\n",
       "      <th>EVENT_SKU</th>\n",
       "      <th>TARGET_UNITS</th>\n",
       "    </tr>\n",
       "  </thead>\n",
       "  <tbody>\n",
       "    <tr>\n",
       "      <th>count</th>\n",
       "      <td>1078.000000</td>\n",
       "      <td>1078.000000</td>\n",
       "      <td>1078.000000</td>\n",
       "      <td>1078.000000</td>\n",
       "      <td>1078.0</td>\n",
       "      <td>1078.000000</td>\n",
       "      <td>1078.000000</td>\n",
       "    </tr>\n",
       "    <tr>\n",
       "      <th>mean</th>\n",
       "      <td>2.406308</td>\n",
       "      <td>6.202226</td>\n",
       "      <td>4.072356</td>\n",
       "      <td>90.517254</td>\n",
       "      <td>6033.0</td>\n",
       "      <td>0.012987</td>\n",
       "      <td>13.731911</td>\n",
       "    </tr>\n",
       "    <tr>\n",
       "      <th>std</th>\n",
       "      <td>1.171480</td>\n",
       "      <td>3.638737</td>\n",
       "      <td>2.010270</td>\n",
       "      <td>5.318645</td>\n",
       "      <td>0.0</td>\n",
       "      <td>0.113271</td>\n",
       "      <td>22.987371</td>\n",
       "    </tr>\n",
       "    <tr>\n",
       "      <th>min</th>\n",
       "      <td>1.000000</td>\n",
       "      <td>1.000000</td>\n",
       "      <td>1.000000</td>\n",
       "      <td>80.000000</td>\n",
       "      <td>6033.0</td>\n",
       "      <td>0.000000</td>\n",
       "      <td>1.000000</td>\n",
       "    </tr>\n",
       "    <tr>\n",
       "      <th>25%</th>\n",
       "      <td>1.000000</td>\n",
       "      <td>3.000000</td>\n",
       "      <td>2.000000</td>\n",
       "      <td>87.200000</td>\n",
       "      <td>6033.0</td>\n",
       "      <td>0.000000</td>\n",
       "      <td>3.000000</td>\n",
       "    </tr>\n",
       "    <tr>\n",
       "      <th>50%</th>\n",
       "      <td>2.000000</td>\n",
       "      <td>6.000000</td>\n",
       "      <td>4.000000</td>\n",
       "      <td>91.300000</td>\n",
       "      <td>6033.0</td>\n",
       "      <td>0.000000</td>\n",
       "      <td>6.000000</td>\n",
       "    </tr>\n",
       "    <tr>\n",
       "      <th>75%</th>\n",
       "      <td>4.000000</td>\n",
       "      <td>10.000000</td>\n",
       "      <td>6.000000</td>\n",
       "      <td>94.700000</td>\n",
       "      <td>6033.0</td>\n",
       "      <td>0.000000</td>\n",
       "      <td>15.000000</td>\n",
       "    </tr>\n",
       "    <tr>\n",
       "      <th>max</th>\n",
       "      <td>4.000000</td>\n",
       "      <td>12.000000</td>\n",
       "      <td>7.000000</td>\n",
       "      <td>98.500000</td>\n",
       "      <td>6033.0</td>\n",
       "      <td>1.000000</td>\n",
       "      <td>254.000000</td>\n",
       "    </tr>\n",
       "  </tbody>\n",
       "</table>\n",
       "</div>"
      ],
      "text/plain": [
       "       CALENDAR_QUARTER  CALENDAR_MONTH    DAYINWEEK      UMCSENT  SKU_AGE  \\\n",
       "count       1078.000000     1078.000000  1078.000000  1078.000000   1078.0   \n",
       "mean           2.406308        6.202226     4.072356    90.517254   6033.0   \n",
       "std            1.171480        3.638737     2.010270     5.318645      0.0   \n",
       "min            1.000000        1.000000     1.000000    80.000000   6033.0   \n",
       "25%            1.000000        3.000000     2.000000    87.200000   6033.0   \n",
       "50%            2.000000        6.000000     4.000000    91.300000   6033.0   \n",
       "75%            4.000000       10.000000     6.000000    94.700000   6033.0   \n",
       "max            4.000000       12.000000     7.000000    98.500000   6033.0   \n",
       "\n",
       "         EVENT_SKU  TARGET_UNITS  \n",
       "count  1078.000000   1078.000000  \n",
       "mean      0.012987     13.731911  \n",
       "std       0.113271     22.987371  \n",
       "min       0.000000      1.000000  \n",
       "25%       0.000000      3.000000  \n",
       "50%       0.000000      6.000000  \n",
       "75%       0.000000     15.000000  \n",
       "max       1.000000    254.000000  "
      ]
     },
     "execution_count": 36,
     "metadata": {},
     "output_type": "execute_result"
    }
   ],
   "source": [
    "base.describe()"
   ]
  },
  {
   "cell_type": "markdown",
   "metadata": {},
   "source": []
  },
  {
   "cell_type": "code",
   "execution_count": 48,
   "metadata": {},
   "outputs": [
    {
     "name": "stdout",
     "output_type": "stream",
     "text": [
      "Point Biserial Correlation \n",
      " Coeff: 0.696702065927\n",
      " pval: 2.07029280307e-157\n"
     ]
    }
   ],
   "source": [
    "corr, pval = stats.pointbiserialr(base['EVENT_SKU'], base['TARGET_UNITS'])\n",
    "print('Point Biserial Correlation \\n Coeff: ' + str(corr) + '\\n pval: ' + str(pval))"
   ]
  },
  {
   "cell_type": "code",
   "execution_count": 46,
   "metadata": {},
   "outputs": [
    {
     "data": {
      "image/png": "[encoded data removed]",
      "text/plain": [
       "<matplotlib.figure.Figure at 0xf687668>"
      ]
     },
     "metadata": {},
     "output_type": "display_data"
    }
   ],
   "source": [
    "plt.hist(base['TARGET_UNITS'], bins=50)\n",
    "plt.show()"
   ]
  }
 ],
 "metadata": {
  "kernelspec": {
   "display_name": "Python 3",
   "language": "python",
   "name": "python3"
  },
  "language_info": {
   "codemirror_mode": {
    "name": "ipython",
    "version": 3
   },
   "file_extension": ".py",
   "mimetype": "text/x-python",
   "name": "python",
   "nbconvert_exporter": "python",
   "pygments_lexer": "ipython3",
   "version": "3.6.1"
  }
 },
 "nbformat": 4,
 "nbformat_minor": 2
}

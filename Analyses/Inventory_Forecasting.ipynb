{
 "cells": [
  {
   "cell_type": "code",
   "execution_count": 1,
   "metadata": {
    "collapsed": true
   },
   "outputs": [],
   "source": [
    "#Grab historical Sales data\n",
    "#Seasonality Variables, Qtr, Period\n",
    "#Event sku?\n",
    "# Sku age\n",
    "# CPI\n",
    "%matplotlib inline"
   ]
  },
  {
   "cell_type": "code",
   "execution_count": 2,
   "metadata": {},
   "outputs": [
    {
     "name": "stdout",
     "output_type": "stream",
     "text": [
      "1314000000\n"
     ]
    }
   ],
   "source": [
    "print(str(60000*60*365))"
   ]
  },
  {
   "cell_type": "code",
   "execution_count": 3,
   "metadata": {
    "collapsed": true
   },
   "outputs": [],
   "source": [
    "import sys\n",
    "sys.path.insert(0, r\"C:\\users\\pairwin\\Documents\\Github\\HelperPI\")\n",
    "\n",
    "import HelperPI\n",
    "import seaborn as sbs\n",
    "import pandas as pd\n",
    "import scipy.stats as sts\n",
    "import matplotlib.pyplot as plt"
   ]
  },
  {
   "cell_type": "code",
   "execution_count": 4,
   "metadata": {},
   "outputs": [
    {
     "name": "stderr",
     "output_type": "stream",
     "text": [
      "INFO:root:Initializing...\n"
     ]
    }
   ],
   "source": [
    "helper = HelperPI.Helper()"
   ]
  },
  {
   "cell_type": "code",
   "execution_count": 11,
   "metadata": {
    "collapsed": true
   },
   "outputs": [],
   "source": [
    "sql = helper.getSQL(r\"C:\\users\\pairwin\\Documents\\GitHub\\IPy_Notebooks\\SQL\\InventoryForecasting.sql\")"
   ]
  },
  {
   "cell_type": "code",
   "execution_count": 12,
   "metadata": {},
   "outputs": [
    {
     "name": "stderr",
     "output_type": "stream",
     "text": [
      "INFO:root:Reading data...\n",
      "INFO:root:Data read complete...\n"
     ]
    },
    {
     "name": "stdout",
     "output_type": "stream",
     "text": [
      "                 Count Column Type\n",
      "0           DATE_VALUE      object\n",
      "1              UMCSENT     float64\n",
      "2         STORE_NUMBER      object\n",
      "3   SKU_DISPLAY_NUMBER      object\n",
      "4                   Q1       int64\n",
      "5                   Q2       int64\n",
      "6                   Q3       int64\n",
      "7                   Q4       int64\n",
      "8                   P1       int64\n",
      "9                   P2       int64\n",
      "10                  P3       int64\n",
      "11                  P4       int64\n",
      "12                  P5       int64\n",
      "13                  P6       int64\n",
      "14                  P7       int64\n",
      "15                  P8       int64\n",
      "16                  P9       int64\n",
      "17                 P10       int64\n",
      "18                 P11       int64\n",
      "19                 P12       int64\n",
      "20                  D1       int64\n",
      "21                  D2       int64\n",
      "22                  D3       int64\n",
      "23                  D4       int64\n",
      "24                  D5       int64\n",
      "25                  D6       int64\n",
      "26                  D7       int64\n",
      "27             SKU_AGE       int64\n",
      "28           EVENT_SKU       int64\n",
      "29        TARGET_UNITS     float64\n"
     ]
    }
   ],
   "source": [
    "base, dtypesdf = helper.readData(sql)"
   ]
  },
  {
   "cell_type": "code",
   "execution_count": 13,
   "metadata": {},
   "outputs": [
    {
     "data": {
      "text/html": [
       "<div>\n",
       "<style>\n",
       "    .dataframe thead tr:only-child th {\n",
       "        text-align: right;\n",
       "    }\n",
       "\n",
       "    .dataframe thead th {\n",
       "        text-align: left;\n",
       "    }\n",
       "\n",
       "    .dataframe tbody tr th {\n",
       "        vertical-align: top;\n",
       "    }\n",
       "</style>\n",
       "<table border=\"1\" class=\"dataframe\">\n",
       "  <thead>\n",
       "    <tr style=\"text-align: right;\">\n",
       "      <th></th>\n",
       "      <th>DATE_VALUE</th>\n",
       "      <th>UMCSENT</th>\n",
       "      <th>STORE_NUMBER</th>\n",
       "      <th>SKU_DISPLAY_NUMBER</th>\n",
       "      <th>Q1</th>\n",
       "      <th>Q2</th>\n",
       "      <th>Q3</th>\n",
       "      <th>Q4</th>\n",
       "      <th>P1</th>\n",
       "      <th>P2</th>\n",
       "      <th>...</th>\n",
       "      <th>D1</th>\n",
       "      <th>D2</th>\n",
       "      <th>D3</th>\n",
       "      <th>D4</th>\n",
       "      <th>D5</th>\n",
       "      <th>D6</th>\n",
       "      <th>D7</th>\n",
       "      <th>SKU_AGE</th>\n",
       "      <th>EVENT_SKU</th>\n",
       "      <th>TARGET_UNITS</th>\n",
       "    </tr>\n",
       "  </thead>\n",
       "  <tbody>\n",
       "    <tr>\n",
       "      <th>0</th>\n",
       "      <td>2015-01-04</td>\n",
       "      <td>98.1</td>\n",
       "      <td>001</td>\n",
       "      <td>389648</td>\n",
       "      <td>1</td>\n",
       "      <td>0</td>\n",
       "      <td>0</td>\n",
       "      <td>0</td>\n",
       "      <td>1</td>\n",
       "      <td>0</td>\n",
       "      <td>...</td>\n",
       "      <td>1</td>\n",
       "      <td>0</td>\n",
       "      <td>0</td>\n",
       "      <td>0</td>\n",
       "      <td>0</td>\n",
       "      <td>0</td>\n",
       "      <td>0</td>\n",
       "      <td>8274</td>\n",
       "      <td>0</td>\n",
       "      <td>2.0</td>\n",
       "    </tr>\n",
       "    <tr>\n",
       "      <th>1</th>\n",
       "      <td>2015-01-05</td>\n",
       "      <td>98.1</td>\n",
       "      <td>001</td>\n",
       "      <td>389648</td>\n",
       "      <td>1</td>\n",
       "      <td>0</td>\n",
       "      <td>0</td>\n",
       "      <td>0</td>\n",
       "      <td>1</td>\n",
       "      <td>0</td>\n",
       "      <td>...</td>\n",
       "      <td>0</td>\n",
       "      <td>1</td>\n",
       "      <td>0</td>\n",
       "      <td>0</td>\n",
       "      <td>0</td>\n",
       "      <td>0</td>\n",
       "      <td>0</td>\n",
       "      <td>8274</td>\n",
       "      <td>1</td>\n",
       "      <td>1.0</td>\n",
       "    </tr>\n",
       "    <tr>\n",
       "      <th>2</th>\n",
       "      <td>2015-01-06</td>\n",
       "      <td>98.1</td>\n",
       "      <td>001</td>\n",
       "      <td>389648</td>\n",
       "      <td>1</td>\n",
       "      <td>0</td>\n",
       "      <td>0</td>\n",
       "      <td>0</td>\n",
       "      <td>1</td>\n",
       "      <td>0</td>\n",
       "      <td>...</td>\n",
       "      <td>0</td>\n",
       "      <td>0</td>\n",
       "      <td>1</td>\n",
       "      <td>0</td>\n",
       "      <td>0</td>\n",
       "      <td>0</td>\n",
       "      <td>0</td>\n",
       "      <td>8274</td>\n",
       "      <td>1</td>\n",
       "      <td>2.0</td>\n",
       "    </tr>\n",
       "    <tr>\n",
       "      <th>3</th>\n",
       "      <td>2015-01-07</td>\n",
       "      <td>98.1</td>\n",
       "      <td>001</td>\n",
       "      <td>389648</td>\n",
       "      <td>1</td>\n",
       "      <td>0</td>\n",
       "      <td>0</td>\n",
       "      <td>0</td>\n",
       "      <td>1</td>\n",
       "      <td>0</td>\n",
       "      <td>...</td>\n",
       "      <td>0</td>\n",
       "      <td>0</td>\n",
       "      <td>0</td>\n",
       "      <td>1</td>\n",
       "      <td>0</td>\n",
       "      <td>0</td>\n",
       "      <td>0</td>\n",
       "      <td>8274</td>\n",
       "      <td>1</td>\n",
       "      <td>1.0</td>\n",
       "    </tr>\n",
       "    <tr>\n",
       "      <th>4</th>\n",
       "      <td>2015-01-10</td>\n",
       "      <td>98.1</td>\n",
       "      <td>001</td>\n",
       "      <td>389648</td>\n",
       "      <td>1</td>\n",
       "      <td>0</td>\n",
       "      <td>0</td>\n",
       "      <td>0</td>\n",
       "      <td>1</td>\n",
       "      <td>0</td>\n",
       "      <td>...</td>\n",
       "      <td>0</td>\n",
       "      <td>0</td>\n",
       "      <td>0</td>\n",
       "      <td>0</td>\n",
       "      <td>0</td>\n",
       "      <td>0</td>\n",
       "      <td>1</td>\n",
       "      <td>8274</td>\n",
       "      <td>1</td>\n",
       "      <td>3.0</td>\n",
       "    </tr>\n",
       "  </tbody>\n",
       "</table>\n",
       "<p>5 rows × 30 columns</p>\n",
       "</div>"
      ],
      "text/plain": [
       "   DATE_VALUE  UMCSENT STORE_NUMBER SKU_DISPLAY_NUMBER  Q1  Q2  Q3  Q4  P1  \\\n",
       "0  2015-01-04     98.1          001             389648   1   0   0   0   1   \n",
       "1  2015-01-05     98.1          001             389648   1   0   0   0   1   \n",
       "2  2015-01-06     98.1          001             389648   1   0   0   0   1   \n",
       "3  2015-01-07     98.1          001             389648   1   0   0   0   1   \n",
       "4  2015-01-10     98.1          001             389648   1   0   0   0   1   \n",
       "\n",
       "   P2      ...       D1  D2  D3  D4  D5  D6  D7  SKU_AGE  EVENT_SKU  \\\n",
       "0   0      ...        1   0   0   0   0   0   0     8274          0   \n",
       "1   0      ...        0   1   0   0   0   0   0     8274          1   \n",
       "2   0      ...        0   0   1   0   0   0   0     8274          1   \n",
       "3   0      ...        0   0   0   1   0   0   0     8274          1   \n",
       "4   0      ...        0   0   0   0   0   0   1     8274          1   \n",
       "\n",
       "   TARGET_UNITS  \n",
       "0           2.0  \n",
       "1           1.0  \n",
       "2           2.0  \n",
       "3           1.0  \n",
       "4           3.0  \n",
       "\n",
       "[5 rows x 30 columns]"
      ]
     },
     "execution_count": 13,
     "metadata": {},
     "output_type": "execute_result"
    }
   ],
   "source": [
    "base.head()"
   ]
  },
  {
   "cell_type": "code",
   "execution_count": 14,
   "metadata": {},
   "outputs": [
    {
     "data": {
      "image/png": "[encoded data removed]",
      "text/plain": [
       "<matplotlib.figure.Figure at 0xd63f630>"
      ]
     },
     "metadata": {},
     "output_type": "display_data"
    }
   ],
   "source": [
    "plt.hist('TARGET_UNITS', bins=100, data=base);"
   ]
  },
  {
   "cell_type": "code",
   "execution_count": 15,
   "metadata": {},
   "outputs": [
    {
     "data": {
      "image/png": "[encoded data removed]",
      "text/plain": [
       "<matplotlib.figure.Figure at 0x81796d8>"
      ]
     },
     "metadata": {},
     "output_type": "display_data"
    }
   ],
   "source": [
    "sbs.pointplot(x='UMCSENT', y='TARGET_UNITS', hue='STORE_NUMBER', data=base);"
   ]
  },
  {
   "cell_type": "code",
   "execution_count": null,
   "metadata": {
    "collapsed": true
   },
   "outputs": [],
   "source": []
  }
 ],
 "metadata": {
  "kernelspec": {
   "display_name": "Python 3",
   "language": "python",
   "name": "python3"
  },
  "language_info": {
   "codemirror_mode": {
    "name": "ipython",
    "version": 3
   },
   "file_extension": ".py",
   "mimetype": "text/x-python",
   "name": "python",
   "nbconvert_exporter": "python",
   "pygments_lexer": "ipython3",
   "version": "3.6.1"
  }
 },
 "nbformat": 4,
 "nbformat_minor": 2
}

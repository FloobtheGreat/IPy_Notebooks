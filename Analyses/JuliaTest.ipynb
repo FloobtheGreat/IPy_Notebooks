{
 "cells": [
  {
   "cell_type": "markdown",
   "metadata": {},
   "source": [
    "https://lectures.quantecon.org/jl/learning_julia.html"
   ]
  },
  {
   "cell_type": "code",
   "execution_count": 3,
   "metadata": {
    "collapsed": false
   },
   "outputs": [],
   "source": [
    "#Pkg.add(\"Plots\")"
   ]
  },
  {
   "cell_type": "code",
   "execution_count": 4,
   "metadata": {
    "collapsed": false
   },
   "outputs": [
    {
     "name": "stderr",
     "output_type": "stream",
     "text": [
      "\u001b[1m\u001b[34mINFO: Precompiling module Plots.\n",
      "\u001b[0mWARNING: New definition \n",
      "    floattype(Type{#T<:FixedPointNumbers.Fixed}) at /home/pirwin/.julia/v0.4/FixedPointNumbers/src/fixed.jl:16\n",
      "is ambiguous with: \n",
      "    floattype(Type{FixedPointNumbers.FixedPoint{#T<:Union{Int8, UInt16, Int16, UInt8}, #f<:Any}}) at /home/pirwin/.julia/v0.4/FixedPointNumbers/src/FixedPointNumbers.jl:89.\n",
      "To fix, define \n",
      "    floattype(Type{FixedPointNumbers.Fixed{_<:Union{Int8, Int16}, #f<:Any}})\n",
      "before the new definition.\n",
      "WARNING: New definition \n",
      "    floattype(Type{#T<:FixedPointNumbers.UFixed}) at /home/pirwin/.julia/v0.4/FixedPointNumbers/src/ufixed.jl:14\n",
      "is ambiguous with: \n",
      "    floattype(Type{FixedPointNumbers.FixedPoint{#T<:Union{Int8, UInt16, Int16, UInt8}, #f<:Any}}) at /home/pirwin/.julia/v0.4/FixedPointNumbers/src/FixedPointNumbers.jl:89.\n",
      "To fix, define \n",
      "    floattype(Type{FixedPointNumbers.UFixed{_<:Union{UInt16, UInt8}, #f<:Any}})\n",
      "before the new definition.\n"
     ]
    },
    {
     "name": "stdout",
     "output_type": "stream",
     "text": [
      "[Plots.jl] Initializing backend: plotly\n"
     ]
    },
    {
     "name": "stderr",
     "output_type": "stream",
     "text": [
      "\u001b[1m\u001b[31mWARNING: Couldn't initialize plotly.  (might need to install it?)\u001b[0m\n"
     ]
    },
    {
     "ename": "LoadError",
     "evalue": "UndefVarError: _print not defined",
     "output_type": "error",
     "traceback": [
      "UndefVarError: _print not defined",
      "",
      " in gc_protect_cb at /home/pirwin/.julia/v0.4/ZMQ/src/ZMQ.jl:341",
      " in wrapfunc at ./string:18"
     ]
    }
   ],
   "source": [
    "using Plots\n",
    "ts_length = 100\n",
    "epsilon_values = randn(ts_length)\n",
    "plot(epsilon_values, color=\"blue\")"
   ]
  }
 ],
 "metadata": {
  "kernelspec": {
   "display_name": "Julia 0.4.7",
   "language": "julia",
   "name": "julia-0.4"
  },
  "language_info": {
   "file_extension": ".jl",
   "mimetype": "application/julia",
   "name": "julia",
   "version": "0.4.7"
  }
 },
 "nbformat": 4,
 "nbformat_minor": 2
}

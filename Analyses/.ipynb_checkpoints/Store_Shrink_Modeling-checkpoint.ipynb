{
 "cells": [
  {
   "cell_type": "code",
   "execution_count": 74,
   "id": "b2b8fd10",
   "metadata": {},
   "outputs": [],
   "source": [
    "import pandas as pd\n",
    "import numpy as np\n",
    "import matplotlib.pyplot as plt\n",
    "import seaborn as sns\n",
    "from sklearn.preprocessing import StandardScaler"
   ]
  },
  {
   "cell_type": "code",
   "execution_count": 59,
   "id": "10016ba6",
   "metadata": {},
   "outputs": [],
   "source": [
    "demos = pd.read_csv(r'C:\\Users\\pairwin\\Documents\\GitHub\\IPy_Notebooks\\SQL\\shrink_demos.csv', index_col='STORE_NUMBER')\n",
    "targets = pd.read_csv(r'C:\\Users\\pairwin\\Documents\\GitHub\\IPy_Notebooks\\SQL\\shrink_targets.csv', index_col='STORE_NUMBER')"
   ]
  },
  {
   "cell_type": "code",
   "execution_count": 60,
   "id": "a111ad36",
   "metadata": {},
   "outputs": [
    {
     "data": {
      "text/html": [
       "<div>\n",
       "<style scoped>\n",
       "    .dataframe tbody tr th:only-of-type {\n",
       "        vertical-align: middle;\n",
       "    }\n",
       "\n",
       "    .dataframe tbody tr th {\n",
       "        vertical-align: top;\n",
       "    }\n",
       "\n",
       "    .dataframe thead th {\n",
       "        text-align: right;\n",
       "    }\n",
       "</style>\n",
       "<table border=\"1\" class=\"dataframe\">\n",
       "  <thead>\n",
       "    <tr style=\"text-align: right;\">\n",
       "      <th></th>\n",
       "      <th>tot_pop</th>\n",
       "      <th>pop_growth</th>\n",
       "      <th>med_hh_income</th>\n",
       "      <th>pct_wht_pop</th>\n",
       "      <th>med_age</th>\n",
       "      <th>pct_home_owners</th>\n",
       "      <th>pct_hh_below_poverty</th>\n",
       "    </tr>\n",
       "    <tr>\n",
       "      <th>STORE_NUMBER</th>\n",
       "      <th></th>\n",
       "      <th></th>\n",
       "      <th></th>\n",
       "      <th></th>\n",
       "      <th></th>\n",
       "      <th></th>\n",
       "      <th></th>\n",
       "    </tr>\n",
       "  </thead>\n",
       "  <tbody>\n",
       "    <tr>\n",
       "      <th>19</th>\n",
       "      <td>66148</td>\n",
       "      <td>-0.16</td>\n",
       "      <td>30555</td>\n",
       "      <td>36.19</td>\n",
       "      <td>34.6</td>\n",
       "      <td>35.13</td>\n",
       "      <td>30.46</td>\n",
       "    </tr>\n",
       "    <tr>\n",
       "      <th>417</th>\n",
       "      <td>102796</td>\n",
       "      <td>1.28</td>\n",
       "      <td>63803</td>\n",
       "      <td>81.21</td>\n",
       "      <td>36.2</td>\n",
       "      <td>58.41</td>\n",
       "      <td>8.20</td>\n",
       "    </tr>\n",
       "    <tr>\n",
       "      <th>15</th>\n",
       "      <td>170579</td>\n",
       "      <td>0.05</td>\n",
       "      <td>51588</td>\n",
       "      <td>52.41</td>\n",
       "      <td>35.9</td>\n",
       "      <td>55.38</td>\n",
       "      <td>16.29</td>\n",
       "    </tr>\n",
       "    <tr>\n",
       "      <th>415</th>\n",
       "      <td>294605</td>\n",
       "      <td>1.10</td>\n",
       "      <td>48039</td>\n",
       "      <td>55.35</td>\n",
       "      <td>31.3</td>\n",
       "      <td>58.05</td>\n",
       "      <td>21.98</td>\n",
       "    </tr>\n",
       "    <tr>\n",
       "      <th>498</th>\n",
       "      <td>31254</td>\n",
       "      <td>2.06</td>\n",
       "      <td>60166</td>\n",
       "      <td>87.68</td>\n",
       "      <td>29.4</td>\n",
       "      <td>79.54</td>\n",
       "      <td>8.67</td>\n",
       "    </tr>\n",
       "  </tbody>\n",
       "</table>\n",
       "</div>"
      ],
      "text/plain": [
       "              tot_pop  pop_growth  med_hh_income  pct_wht_pop  med_age  \\\n",
       "STORE_NUMBER                                                             \n",
       "19              66148       -0.16          30555        36.19     34.6   \n",
       "417            102796        1.28          63803        81.21     36.2   \n",
       "15             170579        0.05          51588        52.41     35.9   \n",
       "415            294605        1.10          48039        55.35     31.3   \n",
       "498             31254        2.06          60166        87.68     29.4   \n",
       "\n",
       "              pct_home_owners  pct_hh_below_poverty  \n",
       "STORE_NUMBER                                         \n",
       "19                      35.13                 30.46  \n",
       "417                     58.41                  8.20  \n",
       "15                      55.38                 16.29  \n",
       "415                     58.05                 21.98  \n",
       "498                     79.54                  8.67  "
      ]
     },
     "execution_count": 60,
     "metadata": {},
     "output_type": "execute_result"
    }
   ],
   "source": [
    "demos.head()"
   ]
  },
  {
   "cell_type": "code",
   "execution_count": 61,
   "id": "8447198d",
   "metadata": {},
   "outputs": [
    {
     "data": {
      "text/html": [
       "<div>\n",
       "<style scoped>\n",
       "    .dataframe tbody tr th:only-of-type {\n",
       "        vertical-align: middle;\n",
       "    }\n",
       "\n",
       "    .dataframe tbody tr th {\n",
       "        vertical-align: top;\n",
       "    }\n",
       "\n",
       "    .dataframe thead th {\n",
       "        text-align: right;\n",
       "    }\n",
       "</style>\n",
       "<table border=\"1\" class=\"dataframe\">\n",
       "  <thead>\n",
       "    <tr style=\"text-align: right;\">\n",
       "      <th></th>\n",
       "      <th>target_theft</th>\n",
       "      <th>target_total_shrink</th>\n",
       "    </tr>\n",
       "    <tr>\n",
       "      <th>STORE_NUMBER</th>\n",
       "      <th></th>\n",
       "      <th></th>\n",
       "    </tr>\n",
       "  </thead>\n",
       "  <tbody>\n",
       "    <tr>\n",
       "      <th>1</th>\n",
       "      <td>59076.29</td>\n",
       "      <td>58515.15</td>\n",
       "    </tr>\n",
       "    <tr>\n",
       "      <th>3</th>\n",
       "      <td>18642.78</td>\n",
       "      <td>-30993.74</td>\n",
       "    </tr>\n",
       "    <tr>\n",
       "      <th>4</th>\n",
       "      <td>49506.54</td>\n",
       "      <td>-79491.22</td>\n",
       "    </tr>\n",
       "    <tr>\n",
       "      <th>5</th>\n",
       "      <td>40896.92</td>\n",
       "      <td>-34639.75</td>\n",
       "    </tr>\n",
       "    <tr>\n",
       "      <th>6</th>\n",
       "      <td>17143.70</td>\n",
       "      <td>31015.94</td>\n",
       "    </tr>\n",
       "  </tbody>\n",
       "</table>\n",
       "</div>"
      ],
      "text/plain": [
       "              target_theft  target_total_shrink\n",
       "STORE_NUMBER                                   \n",
       "1                 59076.29             58515.15\n",
       "3                 18642.78            -30993.74\n",
       "4                 49506.54            -79491.22\n",
       "5                 40896.92            -34639.75\n",
       "6                 17143.70             31015.94"
      ]
     },
     "execution_count": 61,
     "metadata": {},
     "output_type": "execute_result"
    }
   ],
   "source": [
    "#I want to think about shrink as a growing value as it gets worse\n",
    "#ergo I will apply abs value function\n",
    "targets['target_theft'] = targets['target_theft'].apply(abs)\n",
    "targets.head()"
   ]
  },
  {
   "cell_type": "code",
   "execution_count": 62,
   "id": "b2495fcd",
   "metadata": {},
   "outputs": [],
   "source": [
    "data = targets.join(demos, on='STORE_NUMBER')"
   ]
  },
  {
   "cell_type": "code",
   "execution_count": 63,
   "id": "33dc145e",
   "metadata": {},
   "outputs": [
    {
     "data": {
      "text/html": [
       "<div>\n",
       "<style scoped>\n",
       "    .dataframe tbody tr th:only-of-type {\n",
       "        vertical-align: middle;\n",
       "    }\n",
       "\n",
       "    .dataframe tbody tr th {\n",
       "        vertical-align: top;\n",
       "    }\n",
       "\n",
       "    .dataframe thead th {\n",
       "        text-align: right;\n",
       "    }\n",
       "</style>\n",
       "<table border=\"1\" class=\"dataframe\">\n",
       "  <thead>\n",
       "    <tr style=\"text-align: right;\">\n",
       "      <th></th>\n",
       "      <th>target_theft</th>\n",
       "      <th>target_total_shrink</th>\n",
       "      <th>tot_pop</th>\n",
       "      <th>pop_growth</th>\n",
       "      <th>med_hh_income</th>\n",
       "      <th>pct_wht_pop</th>\n",
       "      <th>med_age</th>\n",
       "      <th>pct_home_owners</th>\n",
       "      <th>pct_hh_below_poverty</th>\n",
       "    </tr>\n",
       "  </thead>\n",
       "  <tbody>\n",
       "    <tr>\n",
       "      <th>count</th>\n",
       "      <td>159.000000</td>\n",
       "      <td>161.000000</td>\n",
       "      <td>153.000000</td>\n",
       "      <td>153.000000</td>\n",
       "      <td>153.000000</td>\n",
       "      <td>153.000000</td>\n",
       "      <td>153.000000</td>\n",
       "      <td>153.000000</td>\n",
       "      <td>153.000000</td>\n",
       "    </tr>\n",
       "    <tr>\n",
       "      <th>mean</th>\n",
       "      <td>27362.357987</td>\n",
       "      <td>15653.748137</td>\n",
       "      <td>81985.764706</td>\n",
       "      <td>0.967778</td>\n",
       "      <td>62039.601307</td>\n",
       "      <td>69.852680</td>\n",
       "      <td>36.973203</td>\n",
       "      <td>58.652810</td>\n",
       "      <td>13.976013</td>\n",
       "    </tr>\n",
       "    <tr>\n",
       "      <th>std</th>\n",
       "      <td>14871.714046</td>\n",
       "      <td>130952.606736</td>\n",
       "      <td>55594.891884</td>\n",
       "      <td>0.867167</td>\n",
       "      <td>20483.449466</td>\n",
       "      <td>17.417828</td>\n",
       "      <td>4.682007</td>\n",
       "      <td>13.417964</td>\n",
       "      <td>7.194707</td>\n",
       "    </tr>\n",
       "    <tr>\n",
       "      <th>min</th>\n",
       "      <td>1245.270000</td>\n",
       "      <td>-968747.320000</td>\n",
       "      <td>1725.000000</td>\n",
       "      <td>-0.930000</td>\n",
       "      <td>25717.000000</td>\n",
       "      <td>10.910000</td>\n",
       "      <td>25.900000</td>\n",
       "      <td>26.180000</td>\n",
       "      <td>2.450000</td>\n",
       "    </tr>\n",
       "    <tr>\n",
       "      <th>25%</th>\n",
       "      <td>16788.465000</td>\n",
       "      <td>-31332.510000</td>\n",
       "      <td>43763.000000</td>\n",
       "      <td>0.410000</td>\n",
       "      <td>47373.000000</td>\n",
       "      <td>56.410000</td>\n",
       "      <td>34.100000</td>\n",
       "      <td>47.050000</td>\n",
       "      <td>8.430000</td>\n",
       "    </tr>\n",
       "    <tr>\n",
       "      <th>50%</th>\n",
       "      <td>23778.670000</td>\n",
       "      <td>30422.270000</td>\n",
       "      <td>73814.000000</td>\n",
       "      <td>0.890000</td>\n",
       "      <td>57162.000000</td>\n",
       "      <td>71.070000</td>\n",
       "      <td>36.300000</td>\n",
       "      <td>59.450000</td>\n",
       "      <td>11.960000</td>\n",
       "    </tr>\n",
       "    <tr>\n",
       "      <th>75%</th>\n",
       "      <td>35421.980000</td>\n",
       "      <td>76624.340000</td>\n",
       "      <td>106066.000000</td>\n",
       "      <td>1.520000</td>\n",
       "      <td>76514.000000</td>\n",
       "      <td>84.990000</td>\n",
       "      <td>38.800000</td>\n",
       "      <td>69.490000</td>\n",
       "      <td>17.600000</td>\n",
       "    </tr>\n",
       "    <tr>\n",
       "      <th>max</th>\n",
       "      <td>77896.000000</td>\n",
       "      <td>288370.960000</td>\n",
       "      <td>294605.000000</td>\n",
       "      <td>4.100000</td>\n",
       "      <td>133028.000000</td>\n",
       "      <td>96.060000</td>\n",
       "      <td>58.400000</td>\n",
       "      <td>86.880000</td>\n",
       "      <td>31.820000</td>\n",
       "    </tr>\n",
       "  </tbody>\n",
       "</table>\n",
       "</div>"
      ],
      "text/plain": [
       "       target_theft  target_total_shrink        tot_pop  pop_growth  \\\n",
       "count    159.000000           161.000000     153.000000  153.000000   \n",
       "mean   27362.357987         15653.748137   81985.764706    0.967778   \n",
       "std    14871.714046        130952.606736   55594.891884    0.867167   \n",
       "min     1245.270000       -968747.320000    1725.000000   -0.930000   \n",
       "25%    16788.465000        -31332.510000   43763.000000    0.410000   \n",
       "50%    23778.670000         30422.270000   73814.000000    0.890000   \n",
       "75%    35421.980000         76624.340000  106066.000000    1.520000   \n",
       "max    77896.000000        288370.960000  294605.000000    4.100000   \n",
       "\n",
       "       med_hh_income  pct_wht_pop     med_age  pct_home_owners  \\\n",
       "count     153.000000   153.000000  153.000000       153.000000   \n",
       "mean    62039.601307    69.852680   36.973203        58.652810   \n",
       "std     20483.449466    17.417828    4.682007        13.417964   \n",
       "min     25717.000000    10.910000   25.900000        26.180000   \n",
       "25%     47373.000000    56.410000   34.100000        47.050000   \n",
       "50%     57162.000000    71.070000   36.300000        59.450000   \n",
       "75%     76514.000000    84.990000   38.800000        69.490000   \n",
       "max    133028.000000    96.060000   58.400000        86.880000   \n",
       "\n",
       "       pct_hh_below_poverty  \n",
       "count            153.000000  \n",
       "mean              13.976013  \n",
       "std                7.194707  \n",
       "min                2.450000  \n",
       "25%                8.430000  \n",
       "50%               11.960000  \n",
       "75%               17.600000  \n",
       "max               31.820000  "
      ]
     },
     "execution_count": 63,
     "metadata": {},
     "output_type": "execute_result"
    }
   ],
   "source": [
    "data.describe()"
   ]
  },
  {
   "cell_type": "code",
   "execution_count": 67,
   "id": "27b35f10",
   "metadata": {},
   "outputs": [
    {
     "data": {
      "text/plain": [
       "Index(['target_theft', 'target_total_shrink', 'tot_pop', 'pop_growth',\n",
       "       'med_hh_income', 'pct_wht_pop', 'med_age', 'pct_home_owners',\n",
       "       'pct_hh_below_poverty'],\n",
       "      dtype='object')"
      ]
     },
     "execution_count": 67,
     "metadata": {},
     "output_type": "execute_result"
    }
   ],
   "source": [
    "data.columns"
   ]
  },
  {
   "cell_type": "code",
   "execution_count": 73,
   "id": "c8a2ac18",
   "metadata": {},
   "outputs": [
    {
     "data": {
      "text/plain": [
       "<AxesSubplot:>"
      ]
     },
     "execution_count": 73,
     "metadata": {},
     "output_type": "execute_result"
    },
    {
     "data": {
      "image/png": "[encoded data removed]",
      "text/plain": [
       "<Figure size 792x648 with 2 Axes>"
      ]
     },
     "metadata": {
      "needs_background": "light"
     },
     "output_type": "display_data"
    }
   ],
   "source": [
    "corr = data.corr()\n",
    "\n",
    "f, ax = plt.subplots(figsize=(11, 9))\n",
    "\n",
    "# Draw the heatmap with the mask and correct aspect ratio\n",
    "cmap = sns.diverging_palette(250, 10, as_cmap=True)\n",
    "\n",
    "# Draw the heatmap with the mask and correct aspect ratio\n",
    "sns.heatmap(corr,  cmap=cmap, vmax=.99, center=0, annot=True,\n",
    "            square=True, linewidths=.5, cbar_kws={\"shrink\": .5})"
   ]
  },
  {
   "cell_type": "code",
   "execution_count": 71,
   "id": "27c37c3e",
   "metadata": {},
   "outputs": [
    {
     "data": {
      "text/plain": [
       "<AxesSubplot:xlabel='target_theft', ylabel='Count'>"
      ]
     },
     "execution_count": 71,
     "metadata": {},
     "output_type": "execute_result"
    },
    {
     "data": {
      "image/png": "[encoded data removed]",
      "text/plain": [
       "<Figure size 432x288 with 1 Axes>"
      ]
     },
     "metadata": {
      "needs_background": "light"
     },
     "output_type": "display_data"
    }
   ],
   "source": [
    "sns.histplot(data=data, x='target_theft', binwidth=5000)"
   ]
  },
  {
   "cell_type": "code",
   "execution_count": 76,
   "id": "36ff0ae9",
   "metadata": {},
   "outputs": [
    {
     "name": "stdout",
     "output_type": "stream",
     "text": [
      "[[ 2.1392379   0.32832592  0.60672205 ... -0.5728274  -1.23768187\n",
      "   1.52332288]\n",
      " [-0.58817215 -0.35732801 -0.16871095 ...  0.17717033  1.06603438\n",
      "  -0.92677004]\n",
      " [ 1.49371807 -0.72882729 -0.02973612 ...  1.09859612 -0.51837806\n",
      "   0.16928747]\n",
      " ...\n",
      " [-1.45916978 -0.09131565  0.27252196 ... -0.05854324 -1.43134058\n",
      "   2.48829972]\n",
      " [-0.22739404  0.11721865  1.15868727 ... -0.31568532 -1.16515331\n",
      "   1.53866211]\n",
      " [        nan -0.12108984 -0.91552246 ... -1.62282423  1.56177078\n",
      "  -0.73991036]]\n"
     ]
    }
   ],
   "source": []
  }
 ],
 "metadata": {
  "kernelspec": {
   "display_name": "Python 3",
   "language": "python",
   "name": "python3"
  },
  "language_info": {
   "codemirror_mode": {
    "name": "ipython",
    "version": 3
   },
   "file_extension": ".py",
   "mimetype": "text/x-python",
   "name": "python",
   "nbconvert_exporter": "python",
   "pygments_lexer": "ipython3",
   "version": "3.8.10"
  }
 },
 "nbformat": 4,
 "nbformat_minor": 5
}

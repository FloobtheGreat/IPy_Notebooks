{
 "cells": [
  {
   "cell_type": "code",
   "execution_count": 1,
   "metadata": {},
   "outputs": [
    {
     "name": "stderr",
     "output_type": "stream",
     "text": [
      "C:\\ProgramData\\Anaconda3\\lib\\site-packages\\sklearn\\cross_validation.py:44: DeprecationWarning: This module was deprecated in version 0.18 in favor of the model_selection module into which all the refactored classes and functions are moved. Also note that the interface of the new CV iterators are different from that of this module. This module will be removed in 0.20.\n",
      "  \"This module will be removed in 0.20.\", DeprecationWarning)\n",
      "C:\\ProgramData\\Anaconda3\\lib\\site-packages\\sklearn\\grid_search.py:43: DeprecationWarning: This module was deprecated in version 0.18 in favor of the model_selection module into which all the refactored classes and functions are moved. This module will be removed in 0.20.\n",
      "  DeprecationWarning)\n"
     ]
    }
   ],
   "source": [
    "import sys\n",
    "sys.path.insert(0, r\"C:\\users\\pairwin\\Documents\\Github\\HelperPI\")\n",
    "#sys.path.insert(0, r'/home/pirwin/Git/HelperPI')\n",
    "\n",
    "import HelperPI\n",
    "import seaborn as sns\n",
    "import pandas as pd\n",
    "import scipy.stats as stats\n",
    "import matplotlib.pyplot as plt\n",
    "import statsmodels.formula.api as sts\n",
    "import numpy as np\n",
    "import xgboost as xgb\n",
    "from sklearn.metrics import accuracy_score, confusion_matrix, roc_curve, auc, roc_auc_score, f1_score, matthews_corrcoef, make_scorer\n",
    "from sklearn.grid_search import GridSearchCV\n",
    "\n",
    "%matplotlib inline\n",
    "\n",
    "pd.options.mode.chained_assignment = None\n",
    "pd.options.display.max_columns = 999"
   ]
  },
  {
   "cell_type": "code",
   "execution_count": 2,
   "metadata": {},
   "outputs": [
    {
     "name": "stderr",
     "output_type": "stream",
     "text": [
      "INFO:root:Initializing...\n"
     ]
    }
   ],
   "source": [
    "helper = HelperPI.Helper()"
   ]
  },
  {
   "cell_type": "code",
   "execution_count": 3,
   "metadata": {
    "collapsed": true
   },
   "outputs": [],
   "source": [
    "#sql = helper.getSQL(r\"C:\\users\\pairwin\\Documents\\GitHub\\IPy_Notebooks\\SQL\\TAB_MODELING.sql\")"
   ]
  },
  {
   "cell_type": "code",
   "execution_count": 4,
   "metadata": {},
   "outputs": [
    {
     "name": "stdout",
     "output_type": "stream",
     "text": [
      "                  Count     Column Type\n",
      "0            DATE_VALUE  datetime64[ns]\n",
      "1                RECORD          object\n",
      "2            MEDHINC_CY         float64\n",
      "3             MEDAGE_CY         float64\n",
      "4            CLOSEST_BP         float64\n",
      "5           CLOSEST_CAB         float64\n",
      "6     MALES_IN_HOUSHOLD           int64\n",
      "7   FEMALES_IN_HOUSHOLD           int64\n",
      "8      REWARDS_CUSTOMER           int64\n",
      "9      DAYS_AS_CUSTOMER           int64\n",
      "10   TOTAL_TRANSACTIONS           int64\n",
      "11     REW_TRANSACTIONS           int64\n",
      "12          TOTAL_SPEND         float64\n",
      "13  DAYS_SINCE_PURCHASE           int64\n",
      "14     TARGET_VALUE12MO         float64\n",
      "15  TARGET_PURCH_NEXT15           int64\n"
     ]
    }
   ],
   "source": [
    "#base, dtypesdf = helper.readData(sql)\n",
    "base = pd.read_csv(r'C:\\users\\pairwin\\Documents\\GitHub\\IPy_Notebooks\\SQL\\tab_model.csv', parse_dates=['DATE_VALUE'])\n",
    "#base = pd.read_csv(r'/home/pirwin/Git/IPy_Notebooks/SQL/tab_model.csv',parse_dates=['DATE_VALUE'])\n",
    "dtypes = helper.getDtypes(base)"
   ]
  },
  {
   "cell_type": "markdown",
   "metadata": {},
   "source": [
    "### Imputing missing then Splitting the data for train and test using helper application"
   ]
  },
  {
   "cell_type": "code",
   "execution_count": 5,
   "metadata": {
    "collapsed": true
   },
   "outputs": [],
   "source": [
    "collist = ['MEDHINC_CY','MEDAGE_CY','CLOSEST_BP','MALES_IN_HOUSHOLD','FEMALES_IN_HOUSHOLD','REWARDS_CUSTOMER',\n",
    "          'DAYS_AS_CUSTOMER','TOTAL_TRANSACTIONS','REW_TRANSACTIONS','TOTAL_SPEND','DAYS_SINCE_PURCHASE']\n",
    "X = base[collist]\n",
    "y = base['TARGET_PURCH_NEXT15']"
   ]
  },
  {
   "cell_type": "markdown",
   "metadata": {},
   "source": [
    "### Determination of missing values"
   ]
  },
  {
   "cell_type": "code",
   "execution_count": 6,
   "metadata": {},
   "outputs": [
    {
     "data": {
      "text/html": [
       "<div>\n",
       "<style>\n",
       "    .dataframe thead tr:only-child th {\n",
       "        text-align: right;\n",
       "    }\n",
       "\n",
       "    .dataframe thead th {\n",
       "        text-align: left;\n",
       "    }\n",
       "\n",
       "    .dataframe tbody tr th {\n",
       "        vertical-align: top;\n",
       "    }\n",
       "</style>\n",
       "<table border=\"1\" class=\"dataframe\">\n",
       "  <thead>\n",
       "    <tr style=\"text-align: right;\">\n",
       "      <th></th>\n",
       "      <th>column_name</th>\n",
       "      <th>missing_count</th>\n",
       "      <th>missing_ratio</th>\n",
       "    </tr>\n",
       "  </thead>\n",
       "  <tbody>\n",
       "    <tr>\n",
       "      <th>0</th>\n",
       "      <td>MEDHINC_CY</td>\n",
       "      <td>3792</td>\n",
       "      <td>0.03792</td>\n",
       "    </tr>\n",
       "    <tr>\n",
       "      <th>1</th>\n",
       "      <td>MEDAGE_CY</td>\n",
       "      <td>3792</td>\n",
       "      <td>0.03792</td>\n",
       "    </tr>\n",
       "  </tbody>\n",
       "</table>\n",
       "</div>"
      ],
      "text/plain": [
       "  column_name  missing_count  missing_ratio\n",
       "0  MEDHINC_CY           3792        0.03792\n",
       "1   MEDAGE_CY           3792        0.03792"
      ]
     },
     "execution_count": 6,
     "metadata": {},
     "output_type": "execute_result"
    }
   ],
   "source": [
    "missing_df = X.isnull().sum(axis=0).reset_index()\n",
    "missing_df.columns = ['column_name', 'missing_count']\n",
    "missing_df['missing_ratio'] = missing_df['missing_count'] / X.shape[0]\n",
    "missing_df.loc[missing_df['missing_ratio']>0.01]"
   ]
  },
  {
   "cell_type": "code",
   "execution_count": 7,
   "metadata": {
    "collapsed": true
   },
   "outputs": [],
   "source": [
    "from sklearn.preprocessing import Imputer\n",
    "from sklearn.cross_validation import train_test_split\n",
    "imr = Imputer(missing_values='NaN',strategy='median',axis=0)\n",
    "imr = imr.fit(X)\n",
    "imputed_data = imr.transform(X.values)\n",
    "\n",
    "train_X, test_X, train_y, test_y = train_test_split(imputed_data, y, test_size=0.3, random_state=0)\n",
    "\n",
    "train_X = pd.DataFrame(train_X, columns=collist)\n",
    "test_X = pd.DataFrame(test_X, columns=collist)"
   ]
  },
  {
   "cell_type": "code",
   "execution_count": 8,
   "metadata": {},
   "outputs": [
    {
     "name": "stdout",
     "output_type": "stream",
     "text": [
      "<class 'pandas.core.frame.DataFrame'>\n",
      "RangeIndex: 70000 entries, 0 to 69999\n",
      "Data columns (total 11 columns):\n",
      "MEDHINC_CY             70000 non-null float64\n",
      "MEDAGE_CY              70000 non-null float64\n",
      "CLOSEST_BP             70000 non-null float64\n",
      "MALES_IN_HOUSHOLD      70000 non-null float64\n",
      "FEMALES_IN_HOUSHOLD    70000 non-null float64\n",
      "REWARDS_CUSTOMER       70000 non-null float64\n",
      "DAYS_AS_CUSTOMER       70000 non-null float64\n",
      "TOTAL_TRANSACTIONS     70000 non-null float64\n",
      "REW_TRANSACTIONS       70000 non-null float64\n",
      "TOTAL_SPEND            70000 non-null float64\n",
      "DAYS_SINCE_PURCHASE    70000 non-null float64\n",
      "dtypes: float64(11)\n",
      "memory usage: 5.9 MB\n"
     ]
    }
   ],
   "source": [
    "train_X.info()\n"
   ]
  },
  {
   "cell_type": "code",
   "execution_count": 9,
   "metadata": {
    "collapsed": true
   },
   "outputs": [],
   "source": [
    "#sns.pairplot(train_X)\n",
    "#sns.plt.savefig('Scattermatrix.png')\n",
    "#plt.show()"
   ]
  },
  {
   "cell_type": "code",
   "execution_count": 10,
   "metadata": {
    "collapsed": true
   },
   "outputs": [],
   "source": [
    "from sklearn.preprocessing import StandardScaler\n",
    "stdsc = StandardScaler()\n",
    "train_X_std = pd.DataFrame(stdsc.fit_transform(train_X), columns=collist)\n",
    "test_X_std = pd.DataFrame(stdsc.fit_transform(test_X), columns=collist)\n",
    "\n",
    "#sns.pairplot(train_X_std)\n",
    "#sns.plt.savefig('Scattermatrix.png')\n",
    "#plt.show()"
   ]
  },
  {
   "cell_type": "code",
   "execution_count": 11,
   "metadata": {
    "scrolled": false
   },
   "outputs": [
    {
     "name": "stdout",
     "output_type": "stream",
     "text": [
      " 1) DAYS_SINCE_PURCHASE            0.244832\n",
      " 2) TOTAL_SPEND                    0.136975\n",
      " 3) TOTAL_TRANSACTIONS             0.116767\n",
      " 4) DAYS_AS_CUSTOMER               0.103328\n",
      " 5) CLOSEST_BP                     0.096247\n",
      " 6) MEDHINC_CY                     0.092551\n",
      " 7) REW_TRANSACTIONS               0.086767\n",
      " 8) MEDAGE_CY                      0.062995\n",
      " 9) REWARDS_CUSTOMER               0.025845\n",
      "10) MALES_IN_HOUSHOLD              0.018669\n",
      "11) FEMALES_IN_HOUSHOLD            0.015023\n"
     ]
    },
    {
     "data": {
      "image/png": "[encoded data removed]",
      "text/plain": [
       "<matplotlib.figure.Figure at 0x11f6bf98>"
      ]
     },
     "metadata": {},
     "output_type": "display_data"
    }
   ],
   "source": [
    "from sklearn.ensemble import RandomForestClassifier\n",
    "\n",
    "feat_labels = np.asarray(collist)\n",
    "\n",
    "forests = RandomForestClassifier(n_estimators=1000,\n",
    "                                random_state=0,\n",
    "                                n_jobs=-1)\n",
    "forests.fit(train_X_std, train_y)\n",
    "importances = forests.feature_importances_\n",
    "indices = np.argsort(importances)[::-1]\n",
    "for f in range(train_X_std.shape[1]):\n",
    "    print(\"%2d) %-*s %f\" % (f + 1, 30, feat_labels[indices[f]],\n",
    "                                      importances[indices[f]]))\n",
    "    \n",
    "plt.title('Feature Importance')\n",
    "plt.bar(range(train_X_std.shape[1]), importances[indices], color='lightblue', align='center')\n",
    "plt.xticks(range(train_X_std.shape[1]), feat_labels[indices], rotation=90)\n",
    "plt.xlim([-1, train_X_std.shape[1]])\n",
    "plt.tight_layout()\n",
    "plt.show()"
   ]
  },
  {
   "cell_type": "markdown",
   "metadata": {},
   "source": [
    "### XGBoost Model"
   ]
  },
  {
   "cell_type": "code",
   "execution_count": null,
   "metadata": {
    "collapsed": true,
    "scrolled": true
   },
   "outputs": [],
   "source": [
    "import xgboost as xgb\n",
    "\n",
    "xgb_params = {\n",
    "    'booster': 'gbtree',\n",
    "    'eta': 0.05,\n",
    "    'max_depth': 10,\n",
    "    'subsample': 0.7,\n",
    "    'colsample_bytree': 0.7,\n",
    "    'objective': 'binary:logistic',\n",
    "    'silent': 0,\n",
    "    'seed' : 0,\n",
    "    'eval_metric':'error',\n",
    "    'max_delta_step' : 1\n",
    "}\n",
    "dtrain = xgb.DMatrix(train_X_std, train_y, feature_names=train_X.columns.values)\n",
    "d_test = xgb.DMatrix(test_X_std, test_y, feature_names=test_X.columns.values)\n",
    "model = xgb.train(xgb_params, dtrain, evals=[(d_test, \"eval\")], \n",
    "                  num_boost_round=1000, early_stopping_rounds=100)\n",
    "\n",
    "\n",
    "\n",
    "fig, ax = plt.subplots(figsize=(12,18))\n",
    "xgb.plot_importance(model, height=0.8, ax=ax)\n",
    "plt.show()"
   ]
  },
  {
   "cell_type": "code",
   "execution_count": 13,
   "metadata": {
    "collapsed": true
   },
   "outputs": [],
   "source": []
  },
  {
   "cell_type": "markdown",
   "metadata": {},
   "source": [
    "### Sklearn API version"
   ]
  },
  {
   "cell_type": "code",
   "execution_count": 111,
   "metadata": {
    "scrolled": true
   },
   "outputs": [
    {
     "name": "stdout",
     "output_type": "stream",
     "text": [
      "[0]\tvalidation_0-error:0.149414\tvalidation_1-error:0.155033\n",
      "Multiple eval metrics have been passed: 'validation_1-error' will be used for early stopping.\n",
      "\n",
      "Will train until validation_1-error hasn't improved in 100 rounds.\n",
      "[1]\tvalidation_0-error:0.145743\tvalidation_1-error:0.154433\n",
      "[2]\tvalidation_0-error:0.145357\tvalidation_1-error:0.153967\n",
      "[3]\tvalidation_0-error:0.141086\tvalidation_1-error:0.1489\n",
      "[4]\tvalidation_0-error:0.139086\tvalidation_1-error:0.144767\n",
      "[5]\tvalidation_0-error:0.1392\tvalidation_1-error:0.146367\n",
      "[6]\tvalidation_0-error:0.1389\tvalidation_1-error:0.1458\n",
      "[7]\tvalidation_0-error:0.137543\tvalidation_1-error:0.143533\n",
      "[8]\tvalidation_0-error:0.137029\tvalidation_1-error:0.143433\n",
      "[9]\tvalidation_0-error:0.136086\tvalidation_1-error:0.141567\n",
      "[10]\tvalidation_0-error:0.136743\tvalidation_1-error:0.1425\n",
      "[11]\tvalidation_0-error:0.136671\tvalidation_1-error:0.142833\n",
      "[12]\tvalidation_0-error:0.135914\tvalidation_1-error:0.141667\n",
      "[13]\tvalidation_0-error:0.134714\tvalidation_1-error:0.140167\n",
      "[14]\tvalidation_0-error:0.135171\tvalidation_1-error:0.1405\n",
      "[15]\tvalidation_0-error:0.135257\tvalidation_1-error:0.141467\n",
      "[16]\tvalidation_0-error:0.1344\tvalidation_1-error:0.139967\n",
      "[17]\tvalidation_0-error:0.134829\tvalidation_1-error:0.1408\n",
      "[18]\tvalidation_0-error:0.134114\tvalidation_1-error:0.139333\n",
      "[19]\tvalidation_0-error:0.133043\tvalidation_1-error:0.138733\n",
      "[20]\tvalidation_0-error:0.132914\tvalidation_1-error:0.1388\n",
      "[21]\tvalidation_0-error:0.133086\tvalidation_1-error:0.138933\n",
      "[22]\tvalidation_0-error:0.133129\tvalidation_1-error:0.139033\n",
      "[23]\tvalidation_0-error:0.132471\tvalidation_1-error:0.1382\n",
      "[24]\tvalidation_0-error:0.1317\tvalidation_1-error:0.1373\n",
      "[25]\tvalidation_0-error:0.131743\tvalidation_1-error:0.1378\n",
      "[26]\tvalidation_0-error:0.1321\tvalidation_1-error:0.138\n",
      "[27]\tvalidation_0-error:0.131471\tvalidation_1-error:0.137367\n",
      "[28]\tvalidation_0-error:0.131357\tvalidation_1-error:0.137167\n",
      "[29]\tvalidation_0-error:0.1307\tvalidation_1-error:0.136567\n",
      "[30]\tvalidation_0-error:0.129857\tvalidation_1-error:0.1357\n",
      "[31]\tvalidation_0-error:0.129357\tvalidation_1-error:0.135767\n",
      "[32]\tvalidation_0-error:0.1296\tvalidation_1-error:0.135967\n",
      "[33]\tvalidation_0-error:0.129757\tvalidation_1-error:0.136233\n",
      "[34]\tvalidation_0-error:0.129371\tvalidation_1-error:0.135633\n",
      "[35]\tvalidation_0-error:0.128914\tvalidation_1-error:0.135367\n",
      "[36]\tvalidation_0-error:0.1288\tvalidation_1-error:0.1352\n",
      "[37]\tvalidation_0-error:0.128586\tvalidation_1-error:0.1354\n",
      "[38]\tvalidation_0-error:0.127986\tvalidation_1-error:0.1351\n",
      "[39]\tvalidation_0-error:0.1276\tvalidation_1-error:0.1345\n",
      "[40]\tvalidation_0-error:0.127486\tvalidation_1-error:0.1344\n",
      "[41]\tvalidation_0-error:0.1273\tvalidation_1-error:0.1341\n",
      "[42]\tvalidation_0-error:0.126614\tvalidation_1-error:0.133733\n",
      "[43]\tvalidation_0-error:0.126671\tvalidation_1-error:0.133467\n",
      "[44]\tvalidation_0-error:0.126271\tvalidation_1-error:0.133667\n",
      "[45]\tvalidation_0-error:0.126171\tvalidation_1-error:0.133467\n",
      "[46]\tvalidation_0-error:0.126043\tvalidation_1-error:0.133467\n",
      "[47]\tvalidation_0-error:0.125814\tvalidation_1-error:0.133467\n",
      "[48]\tvalidation_0-error:0.125514\tvalidation_1-error:0.133367\n",
      "[49]\tvalidation_0-error:0.125486\tvalidation_1-error:0.133367\n",
      "[50]\tvalidation_0-error:0.125229\tvalidation_1-error:0.1333\n",
      "[51]\tvalidation_0-error:0.124957\tvalidation_1-error:0.1331\n",
      "[52]\tvalidation_0-error:0.124857\tvalidation_1-error:0.133267\n",
      "[53]\tvalidation_0-error:0.124729\tvalidation_1-error:0.1329\n",
      "[54]\tvalidation_0-error:0.124471\tvalidation_1-error:0.132867\n",
      "[55]\tvalidation_0-error:0.124614\tvalidation_1-error:0.132667\n",
      "[56]\tvalidation_0-error:0.124471\tvalidation_1-error:0.132533\n",
      "[57]\tvalidation_0-error:0.124471\tvalidation_1-error:0.132367\n",
      "[58]\tvalidation_0-error:0.1246\tvalidation_1-error:0.1325\n",
      "[59]\tvalidation_0-error:0.124429\tvalidation_1-error:0.132567\n",
      "[60]\tvalidation_0-error:0.124214\tvalidation_1-error:0.132467\n",
      "[61]\tvalidation_0-error:0.124086\tvalidation_1-error:0.132467\n",
      "[62]\tvalidation_0-error:0.1239\tvalidation_1-error:0.132233\n",
      "[63]\tvalidation_0-error:0.123857\tvalidation_1-error:0.131967\n",
      "[64]\tvalidation_0-error:0.123857\tvalidation_1-error:0.132167\n",
      "[65]\tvalidation_0-error:0.123829\tvalidation_1-error:0.132067\n",
      "[66]\tvalidation_0-error:0.1236\tvalidation_1-error:0.132133\n",
      "[67]\tvalidation_0-error:0.123429\tvalidation_1-error:0.132333\n",
      "[68]\tvalidation_0-error:0.123429\tvalidation_1-error:0.1324\n",
      "[69]\tvalidation_0-error:0.123243\tvalidation_1-error:0.132267\n",
      "[70]\tvalidation_0-error:0.1232\tvalidation_1-error:0.132167\n",
      "[71]\tvalidation_0-error:0.123143\tvalidation_1-error:0.132367\n",
      "[72]\tvalidation_0-error:0.122957\tvalidation_1-error:0.132067\n",
      "[73]\tvalidation_0-error:0.122886\tvalidation_1-error:0.132033\n",
      "[74]\tvalidation_0-error:0.122686\tvalidation_1-error:0.131733\n",
      "[75]\tvalidation_0-error:0.122543\tvalidation_1-error:0.131733\n",
      "[76]\tvalidation_0-error:0.122629\tvalidation_1-error:0.131533\n",
      "[77]\tvalidation_0-error:0.122429\tvalidation_1-error:0.1317\n",
      "[78]\tvalidation_0-error:0.122414\tvalidation_1-error:0.131833\n",
      "[79]\tvalidation_0-error:0.1225\tvalidation_1-error:0.1319\n",
      "[80]\tvalidation_0-error:0.122329\tvalidation_1-error:0.131967\n",
      "[81]\tvalidation_0-error:0.122157\tvalidation_1-error:0.131967\n",
      "[82]\tvalidation_0-error:0.121986\tvalidation_1-error:0.132033\n",
      "[83]\tvalidation_0-error:0.121943\tvalidation_1-error:0.131867\n",
      "[84]\tvalidation_0-error:0.122\tvalidation_1-error:0.1322\n",
      "[85]\tvalidation_0-error:0.121829\tvalidation_1-error:0.1322\n",
      "[86]\tvalidation_0-error:0.121843\tvalidation_1-error:0.131933\n",
      "[87]\tvalidation_0-error:0.121729\tvalidation_1-error:0.132067\n",
      "[88]\tvalidation_0-error:0.1216\tvalidation_1-error:0.131967\n",
      "[89]\tvalidation_0-error:0.121571\tvalidation_1-error:0.1319\n",
      "[90]\tvalidation_0-error:0.121443\tvalidation_1-error:0.1316\n",
      "[91]\tvalidation_0-error:0.121443\tvalidation_1-error:0.131633\n",
      "[92]\tvalidation_0-error:0.121386\tvalidation_1-error:0.131567\n",
      "[93]\tvalidation_0-error:0.121357\tvalidation_1-error:0.131667\n",
      "[94]\tvalidation_0-error:0.121286\tvalidation_1-error:0.1316\n",
      "[95]\tvalidation_0-error:0.121243\tvalidation_1-error:0.1318\n",
      "[96]\tvalidation_0-error:0.1212\tvalidation_1-error:0.131467\n",
      "[97]\tvalidation_0-error:0.121186\tvalidation_1-error:0.1314\n",
      "[98]\tvalidation_0-error:0.120943\tvalidation_1-error:0.131433\n",
      "[99]\tvalidation_0-error:0.120814\tvalidation_1-error:0.1316\n"
     ]
    },
    {
     "data": {
      "image/png": "[encoded data removed]",
      "text/plain": [
       "<matplotlib.figure.Figure at 0xda7c780>"
      ]
     },
     "metadata": {},
     "output_type": "display_data"
    }
   ],
   "source": [
    "train_X_std = pd.DataFrame(stdsc.fit_transform(train_X), columns=collist)\n",
    "test_X_std = pd.DataFrame(stdsc.fit_transform(test_X), columns=collist)\n",
    "\n",
    "mod = xgb.XGBClassifier(max_depth=8, subsample=0.7, colsample_bytree=0.7, objective='binary:logistic', learning_rate=0.05, \n",
    "                       max_delta_step=0.5, seed=0)\n",
    "fitted = mod.fit(train_X_std, train_y, \n",
    "                 eval_set=[(train_X_std, train_y), (test_X_std, test_y)], \n",
    "                 eval_metric='error',\n",
    "                 early_stopping_rounds=100,\n",
    "                 verbose=True)\n",
    "\n",
    "fig, ax = plt.subplots(figsize=(12,18))\n",
    "xgb.plot_importance(fitted, height=0.8, ax=ax)\n",
    "plt.show()"
   ]
  },
  {
   "cell_type": "markdown",
   "metadata": {},
   "source": [
    "### Confusion matrix and ROC Curve"
   ]
  },
  {
   "cell_type": "code",
   "execution_count": 112,
   "metadata": {},
   "outputs": [
    {
     "name": "stdout",
     "output_type": "stream",
     "text": [
      "Accuracy: 86.84%\n"
     ]
    },
    {
     "data": {
      "image/png": "[encoded data removed]",
      "text/plain": [
       "<matplotlib.figure.Figure at 0x10cfcdd8>"
      ]
     },
     "metadata": {},
     "output_type": "display_data"
    }
   ],
   "source": [
    "from sklearn.metrics import accuracy_score, confusion_matrix, roc_curve, auc\n",
    "pred_y = fitted.predict(test_X_std)\n",
    "\n",
    "#predictions = [round(value) for value in pred_y]\n",
    "# evaluate predictions\n",
    "accuracy = accuracy_score(test_y, pred_y)\n",
    "print(\"Accuracy: %.2f%%\" % (accuracy * 100.0))\n",
    "\n",
    "#conmat = confusion_matrix(y_test, predictions)\n",
    "#print(conmat)\n",
    "#plt.figure()\n",
    "#helper.plot_confusion_matrix(conmat,classes = np.array(['0','1']), title='Confusion Matrix, no Normalization')\n",
    "\n",
    "fpr, tpr, _ = roc_curve(test_y, predictions)\n",
    "roc_auc = auc(fpr, tpr)\n",
    "\n",
    "plt.title('Receiver Operating Characteristic')\n",
    "plt.plot(fpr, tpr, 'b', label = 'AUC = %0.2f' % roc_auc)\n",
    "plt.legend(loc = 'lower right')\n",
    "plt.plot([0, 1], [0, 1],'r--')\n",
    "plt.xlim([0, 1])\n",
    "plt.ylim([0, 1])\n",
    "plt.ylabel('True Positive Rate')\n",
    "plt.xlabel('False Positive Rate')\n",
    "plt.show()"
   ]
  },
  {
   "cell_type": "markdown",
   "metadata": {},
   "source": [
    "### Parameter Tuning Version"
   ]
  },
  {
   "cell_type": "code",
   "execution_count": 12,
   "metadata": {
    "collapsed": true
   },
   "outputs": [],
   "source": [
    "def modelfit(alg, dtrain, dlabels, feature_names, useTrainCV=True, cv_folds=5, early_stopping_rounds=50):\n",
    "\n",
    "    if useTrainCV:\n",
    "        xgb_param = alg.get_xgb_params()\n",
    "        xgtrain = xgb.DMatrix(dtrain.values, label=dlabels.values, feature_names = feature_names)\n",
    "        cvresult = xgb.cv(xgb_param, xgtrain, num_boost_round=alg.get_params()['n_estimators'], nfold=cv_folds,\n",
    "                          metrics='auc', early_stopping_rounds=early_stopping_rounds, verbose_eval=False)\n",
    "        alg.set_params(n_estimators=cvresult.shape[0])\n",
    "\n",
    "    alg.fit(dtrain, dlabels, eval_metric='auc')\n",
    "\n",
    "    dtrain_predictions = alg.predict(dtrain)\n",
    "    dtrain_predprob = alg.predict_proba(dtrain)[:,1]\n",
    "\n",
    "    #Print model report:\n",
    "    print(\"\\nModel Report\")\n",
    "    print(\"Accuracy : %.4g\" % accuracy_score(dlabels.values, dtrain_predictions))\n",
    "    print(\"AUC Score (Train): %f\" % roc_auc_score(dlabels.values, dtrain_predprob))\n",
    "\n",
    "    feat_imp = pd.Series(alg.booster().get_fscore()).sort_values(ascending=False)\n",
    "    feat_imp.plot(kind='bar', title='Feature Importances')\n",
    "    plt.ylabel('Feature Importance Score')"
   ]
  },
  {
   "cell_type": "code",
   "execution_count": 13,
   "metadata": {
    "scrolled": false
   },
   "outputs": [
    {
     "name": "stdout",
     "output_type": "stream",
     "text": [
      "\n",
      "Model Report\n",
      "Accuracy : 0.8732\n",
      "AUC Score (Train): 0.890706\n"
     ]
    },
    {
     "data": {
      "image/png": "[encoded data removed]",
      "text/plain": [
       "<matplotlib.figure.Figure at 0x11cdfc18>"
      ]
     },
     "metadata": {},
     "output_type": "display_data"
    }
   ],
   "source": [
    "xgb1 = xgb.XGBClassifier(\n",
    "    learning_rate = 0.07,\n",
    "    n_estimators = 1000,\n",
    "    max_depth = 5,\n",
    "    min_child_weight = 1,\n",
    "    gamma = 0,\n",
    "    subsample = 0.7,\n",
    "    colsample_bytree = 0.7,\n",
    "    objective = 'binary:logistic',\n",
    "    scale_pos_weight = 1,\n",
    "    seed = 27)\n",
    "\n",
    "modelfit(xgb1, train_X_std, train_y, collist)"
   ]
  },
  {
   "cell_type": "code",
   "execution_count": 14,
   "metadata": {},
   "outputs": [
    {
     "data": {
      "text/plain": [
       "make_scorer(roc_auc_score, average=weighted)"
      ]
     },
     "execution_count": 14,
     "metadata": {},
     "output_type": "execute_result"
    }
   ],
   "source": [
    "auc_weighted = make_scorer(roc_auc_score, average='weighted')\n",
    "auc_weighted"
   ]
  },
  {
   "cell_type": "code",
   "execution_count": 19,
   "metadata": {},
   "outputs": [
    {
     "data": {
      "text/plain": [
       "([mean: 0.72279, std: 0.00692, params: {'max_depth': 3, 'min_child_weight': 1},\n",
       "  mean: 0.72293, std: 0.00644, params: {'max_depth': 3, 'min_child_weight': 3},\n",
       "  mean: 0.72260, std: 0.00682, params: {'max_depth': 3, 'min_child_weight': 5},\n",
       "  mean: 0.72147, std: 0.00768, params: {'max_depth': 5, 'min_child_weight': 1},\n",
       "  mean: 0.72156, std: 0.00662, params: {'max_depth': 5, 'min_child_weight': 3},\n",
       "  mean: 0.72175, std: 0.00745, params: {'max_depth': 5, 'min_child_weight': 5},\n",
       "  mean: 0.71808, std: 0.00784, params: {'max_depth': 7, 'min_child_weight': 1},\n",
       "  mean: 0.72021, std: 0.00725, params: {'max_depth': 7, 'min_child_weight': 3},\n",
       "  mean: 0.71917, std: 0.00598, params: {'max_depth': 7, 'min_child_weight': 5},\n",
       "  mean: 0.71665, std: 0.00750, params: {'max_depth': 9, 'min_child_weight': 1},\n",
       "  mean: 0.71673, std: 0.00672, params: {'max_depth': 9, 'min_child_weight': 3},\n",
       "  mean: 0.71787, std: 0.00564, params: {'max_depth': 9, 'min_child_weight': 5}],\n",
       " {'max_depth': 3, 'min_child_weight': 3},\n",
       " 0.7229300484245084)"
      ]
     },
     "execution_count": 19,
     "metadata": {},
     "output_type": "execute_result"
    }
   ],
   "source": [
    "param_test1 = {\n",
    "    'max_depth':list(range(3,10,2)),\n",
    "    'min_child_weight':list(range(1,6,2))\n",
    "}\n",
    "\n",
    "gsearch1 = GridSearchCV(estimator = xgb.XGBClassifier( learning_rate =0.1, n_estimators=300, max_depth=5,\n",
    "     min_child_weight=1, gamma=0, subsample=0.7, colsample_bytree=0.7,\n",
    "     objective= 'binary:logistic', nthread=4, scale_pos_weight=1, seed=27),\n",
    "     param_grid = param_test1, scoring=auc_weighted, iid=False, cv=5)\n",
    "\n",
    "gsearch1.fit(train_X.values, train_y.values)\n",
    "\n",
    "gsearch1.grid_scores_, gsearch1.best_params_, gsearch1.best_score_"
   ]
  },
  {
   "cell_type": "code",
   "execution_count": 22,
   "metadata": {},
   "outputs": [
    {
     "data": {
      "text/plain": [
       "([mean: 0.72156, std: 0.00632, params: {'max_depth': 2},\n",
       "  mean: 0.72173, std: 0.00705, params: {'max_depth': 3},\n",
       "  mean: 0.72294, std: 0.00700, params: {'max_depth': 4},\n",
       "  mean: 0.72217, std: 0.00572, params: {'max_depth': 5}],\n",
       " {'max_depth': 4},\n",
       " 0.7229438273491529)"
      ]
     },
     "execution_count": 22,
     "metadata": {},
     "output_type": "execute_result"
    }
   ],
   "source": [
    "# max_depth = 5\n",
    "\n",
    "param_test2 = {\n",
    "    #'min_child_weight':[2,3,4,5],\n",
    "    'max_depth':[2,3,4,5]\n",
    "}\n",
    "\n",
    "gsearch2 = GridSearchCV(estimator = xgb.XGBClassifier( learning_rate =0.07, n_estimators=300, max_depth=5,\n",
    "     min_child_weight=4, gamma=0, subsample=0.7, colsample_bytree=0.7,\n",
    "     objective= 'binary:logistic', nthread=4, scale_pos_weight=1, seed=27),\n",
    "     param_grid = param_test2, scoring =auc_weighted, iid=False, cv=5)\n",
    "\n",
    "gsearch2.fit(train_X.values, train_y.values)\n",
    "\n",
    "gsearch2.grid_scores_, gsearch2.best_params_, gsearch2.best_score_"
   ]
  },
  {
   "cell_type": "code",
   "execution_count": 23,
   "metadata": {},
   "outputs": [
    {
     "data": {
      "text/plain": [
       "([mean: 0.87938, std: 0.00573, params: {'gamma': 0.0},\n",
       "  mean: 0.87936, std: 0.00571, params: {'gamma': 0.1},\n",
       "  mean: 0.87941, std: 0.00574, params: {'gamma': 0.2},\n",
       "  mean: 0.87941, std: 0.00571, params: {'gamma': 0.3},\n",
       "  mean: 0.87938, std: 0.00570, params: {'gamma': 0.4}],\n",
       " {'gamma': 0.2},\n",
       " 0.879407584463317)"
      ]
     },
     "execution_count": 23,
     "metadata": {},
     "output_type": "execute_result"
    }
   ],
   "source": [
    "#max_depth = 4\n",
    "#min_child_weight = 4\n",
    "\n",
    "param_test3 = {\n",
    "    'gamma':[i/10.0 for i in range(0, 5)]\n",
    "}\n",
    "\n",
    "gsearch3 = GridSearchCV(estimator = xgb.XGBClassifier( learning_rate =0.07, n_estimators=140, max_depth=4,\n",
    "     min_child_weight=4, gamma=0, subsample=0.7, colsample_bytree=0.7,\n",
    "     objective= 'binary:logistic', nthread=4, scale_pos_weight=1, seed=27),\n",
    "     param_grid = param_test3, scoring = auc_weighted, iid=False, cv=5)\n",
    "\n",
    "gsearch3.fit(train_X.values, train_y.values)\n",
    "\n",
    "gsearch3.grid_scores_, gsearch3.best_params_, gsearch3.best_score_"
   ]
  },
  {
   "cell_type": "code",
   "execution_count": 26,
   "metadata": {},
   "outputs": [
    {
     "name": "stdout",
     "output_type": "stream",
     "text": [
      "\n",
      "Model Report\n",
      "Accuracy : 0.8717\n",
      "AUC Score (Train): 0.888185\n"
     ]
    },
    {
     "data": {
      "image/png": "[encoded data removed]",
      "text/plain": [
       "<matplotlib.figure.Figure at 0x11fe8940>"
      ]
     },
     "metadata": {},
     "output_type": "display_data"
    }
   ],
   "source": [
    "xgb2 = xgb.XGBClassifier(\n",
    "    learning_rate = 0.07,\n",
    "    n_estimators = 1000,\n",
    "    max_depth = 4,\n",
    "    min_child_weight = 4,\n",
    "    gamma = 0.2,\n",
    "    subsample = 0.7,\n",
    "    colsample_bytree = 0.7,\n",
    "    objective = 'binary:logistic',\n",
    "    scale_pos_weight = 1,\n",
    "    seed = 27)\n",
    "\n",
    "modelfit(xgb2, train_X_std, train_y, collist)"
   ]
  },
  {
   "cell_type": "code",
   "execution_count": 25,
   "metadata": {},
   "outputs": [
    {
     "data": {
      "text/plain": [
       "([mean: 0.72008, std: 0.00714, params: {'colsample_bytree': 0.4, 'subsample': 0.3},\n",
       "  mean: 0.72124, std: 0.00632, params: {'colsample_bytree': 0.4, 'subsample': 0.4},\n",
       "  mean: 0.72062, std: 0.00594, params: {'colsample_bytree': 0.4, 'subsample': 0.5},\n",
       "  mean: 0.72196, std: 0.00669, params: {'colsample_bytree': 0.4, 'subsample': 0.6},\n",
       "  mean: 0.72180, std: 0.00698, params: {'colsample_bytree': 0.4, 'subsample': 0.7},\n",
       "  mean: 0.72190, std: 0.00670, params: {'colsample_bytree': 0.4, 'subsample': 0.8},\n",
       "  mean: 0.72098, std: 0.00662, params: {'colsample_bytree': 0.4, 'subsample': 0.9},\n",
       "  mean: 0.72068, std: 0.00619, params: {'colsample_bytree': 0.5, 'subsample': 0.3},\n",
       "  mean: 0.72315, std: 0.00598, params: {'colsample_bytree': 0.5, 'subsample': 0.4},\n",
       "  mean: 0.72270, std: 0.00792, params: {'colsample_bytree': 0.5, 'subsample': 0.5},\n",
       "  mean: 0.72250, std: 0.00766, params: {'colsample_bytree': 0.5, 'subsample': 0.6},\n",
       "  mean: 0.72189, std: 0.00760, params: {'colsample_bytree': 0.5, 'subsample': 0.7},\n",
       "  mean: 0.72199, std: 0.00752, params: {'colsample_bytree': 0.5, 'subsample': 0.8},\n",
       "  mean: 0.72210, std: 0.00696, params: {'colsample_bytree': 0.5, 'subsample': 0.9},\n",
       "  mean: 0.72105, std: 0.00687, params: {'colsample_bytree': 0.6, 'subsample': 0.3},\n",
       "  mean: 0.72230, std: 0.00597, params: {'colsample_bytree': 0.6, 'subsample': 0.4},\n",
       "  mean: 0.72278, std: 0.00639, params: {'colsample_bytree': 0.6, 'subsample': 0.5},\n",
       "  mean: 0.72323, std: 0.00719, params: {'colsample_bytree': 0.6, 'subsample': 0.6},\n",
       "  mean: 0.72314, std: 0.00665, params: {'colsample_bytree': 0.6, 'subsample': 0.7},\n",
       "  mean: 0.72273, std: 0.00635, params: {'colsample_bytree': 0.6, 'subsample': 0.8},\n",
       "  mean: 0.72246, std: 0.00704, params: {'colsample_bytree': 0.6, 'subsample': 0.9},\n",
       "  mean: 0.72090, std: 0.00586, params: {'colsample_bytree': 0.7, 'subsample': 0.3},\n",
       "  mean: 0.72183, std: 0.00624, params: {'colsample_bytree': 0.7, 'subsample': 0.4},\n",
       "  mean: 0.72233, std: 0.00710, params: {'colsample_bytree': 0.7, 'subsample': 0.5},\n",
       "  mean: 0.72304, std: 0.00731, params: {'colsample_bytree': 0.7, 'subsample': 0.6},\n",
       "  mean: 0.72201, std: 0.00688, params: {'colsample_bytree': 0.7, 'subsample': 0.7},\n",
       "  mean: 0.72313, std: 0.00677, params: {'colsample_bytree': 0.7, 'subsample': 0.8},\n",
       "  mean: 0.72178, std: 0.00671, params: {'colsample_bytree': 0.7, 'subsample': 0.9},\n",
       "  mean: 0.72082, std: 0.00637, params: {'colsample_bytree': 0.8, 'subsample': 0.3},\n",
       "  mean: 0.72107, std: 0.00597, params: {'colsample_bytree': 0.8, 'subsample': 0.4},\n",
       "  mean: 0.72239, std: 0.00592, params: {'colsample_bytree': 0.8, 'subsample': 0.5},\n",
       "  mean: 0.72213, std: 0.00614, params: {'colsample_bytree': 0.8, 'subsample': 0.6},\n",
       "  mean: 0.72196, std: 0.00703, params: {'colsample_bytree': 0.8, 'subsample': 0.7},\n",
       "  mean: 0.72295, std: 0.00704, params: {'colsample_bytree': 0.8, 'subsample': 0.8},\n",
       "  mean: 0.72113, std: 0.00734, params: {'colsample_bytree': 0.8, 'subsample': 0.9},\n",
       "  mean: 0.72043, std: 0.00622, params: {'colsample_bytree': 0.9, 'subsample': 0.3},\n",
       "  mean: 0.72290, std: 0.00648, params: {'colsample_bytree': 0.9, 'subsample': 0.4},\n",
       "  mean: 0.72235, std: 0.00619, params: {'colsample_bytree': 0.9, 'subsample': 0.5},\n",
       "  mean: 0.72324, std: 0.00668, params: {'colsample_bytree': 0.9, 'subsample': 0.6},\n",
       "  mean: 0.72219, std: 0.00744, params: {'colsample_bytree': 0.9, 'subsample': 0.7},\n",
       "  mean: 0.72204, std: 0.00678, params: {'colsample_bytree': 0.9, 'subsample': 0.8},\n",
       "  mean: 0.72126, std: 0.00752, params: {'colsample_bytree': 0.9, 'subsample': 0.9}],\n",
       " {'colsample_bytree': 0.9, 'subsample': 0.6},\n",
       " 0.7232424486241879)"
      ]
     },
     "execution_count": 25,
     "metadata": {},
     "output_type": "execute_result"
    }
   ],
   "source": [
    "#max_depth = 4\n",
    "#min_child_weight = 4\n",
    "#gamma = 0.2\n",
    "\n",
    "param_test4 = {\n",
    "    'subsample':[i/10.0 for i in range(3, 10)],\n",
    "    'colsample_bytree':[i/10.0 for i in range(4, 10)]\n",
    "}\n",
    "\n",
    "gsearch4 = GridSearchCV(estimator = xgb.XGBClassifier( learning_rate =0.07, n_estimators=140, max_depth=4,\n",
    "     min_child_weight=4, gamma=0.2, subsample=0.7, colsample_bytree=0.7,\n",
    "     objective= 'binary:logistic', scale_pos_weight=1, seed=27),\n",
    "     param_grid = param_test4, scoring = auc_weighted, iid=False, cv=5)\n",
    "\n",
    "gsearch4.fit(train_X.values, train_y.values)\n",
    "\n",
    "gsearch4.grid_scores_, gsearch4.best_params_, gsearch4.best_score_"
   ]
  },
  {
   "cell_type": "code",
   "execution_count": 27,
   "metadata": {
    "scrolled": true
   },
   "outputs": [
    {
     "data": {
      "text/plain": [
       "([mean: 0.72185, std: 0.00574, params: {'colsample_bytree': 0.85, 'subsample': 0.55},\n",
       "  mean: 0.72361, std: 0.00718, params: {'colsample_bytree': 0.85, 'subsample': 0.6},\n",
       "  mean: 0.72288, std: 0.00610, params: {'colsample_bytree': 0.85, 'subsample': 0.65},\n",
       "  mean: 0.72333, std: 0.00656, params: {'colsample_bytree': 0.85, 'subsample': 0.7},\n",
       "  mean: 0.72203, std: 0.00748, params: {'colsample_bytree': 0.85, 'subsample': 0.75},\n",
       "  mean: 0.72185, std: 0.00574, params: {'colsample_bytree': 0.9, 'subsample': 0.55},\n",
       "  mean: 0.72361, std: 0.00718, params: {'colsample_bytree': 0.9, 'subsample': 0.6},\n",
       "  mean: 0.72288, std: 0.00610, params: {'colsample_bytree': 0.9, 'subsample': 0.65},\n",
       "  mean: 0.72333, std: 0.00656, params: {'colsample_bytree': 0.9, 'subsample': 0.7},\n",
       "  mean: 0.72203, std: 0.00748, params: {'colsample_bytree': 0.9, 'subsample': 0.75},\n",
       "  mean: 0.72265, std: 0.00713, params: {'colsample_bytree': 0.95, 'subsample': 0.55},\n",
       "  mean: 0.72249, std: 0.00662, params: {'colsample_bytree': 0.95, 'subsample': 0.6},\n",
       "  mean: 0.72248, std: 0.00627, params: {'colsample_bytree': 0.95, 'subsample': 0.65},\n",
       "  mean: 0.72293, std: 0.00750, params: {'colsample_bytree': 0.95, 'subsample': 0.7},\n",
       "  mean: 0.72151, std: 0.00692, params: {'colsample_bytree': 0.95, 'subsample': 0.75},\n",
       "  mean: 0.72248, std: 0.00625, params: {'colsample_bytree': 1.0, 'subsample': 0.55},\n",
       "  mean: 0.72267, std: 0.00668, params: {'colsample_bytree': 1.0, 'subsample': 0.6},\n",
       "  mean: 0.72193, std: 0.00700, params: {'colsample_bytree': 1.0, 'subsample': 0.65},\n",
       "  mean: 0.72300, std: 0.00704, params: {'colsample_bytree': 1.0, 'subsample': 0.7},\n",
       "  mean: 0.72221, std: 0.00739, params: {'colsample_bytree': 1.0, 'subsample': 0.75}],\n",
       " {'colsample_bytree': 0.85, 'subsample': 0.6},\n",
       " 0.7236124458419064)"
      ]
     },
     "execution_count": 27,
     "metadata": {},
     "output_type": "execute_result"
    }
   ],
   "source": [
    "#max_depth = 3\n",
    "#min_child_weight = 9\n",
    "#gamma = 0.2\n",
    "#subsample = 0.9\n",
    "#colsample_bytree = 0.95\n",
    "\n",
    "param_test5 = {\n",
    "\n",
    "    'colsample_bytree':[i/100.0 for i in range(85, 105, 5)],\n",
    "    'subsample':[i/100 for i in range(55,80,5)]\n",
    "}\n",
    "\n",
    "gsearch5 = GridSearchCV(estimator = xgb.XGBClassifier( learning_rate =0.07, n_estimators=140, max_depth=5,\n",
    "     min_child_weight=3, gamma=0, subsample=0.9, colsample_bytree=0.7,\n",
    "     objective= 'binary:logistic', scale_pos_weight=1, seed=27),\n",
    "     param_grid = param_test5, scoring = auc_weighted, iid=False, cv=5)\n",
    "\n",
    "gsearch5.fit(train_X.values, train_y.values)\n",
    "\n",
    "gsearch5.grid_scores_, gsearch5.best_params_, gsearch5.best_score_"
   ]
  },
  {
   "cell_type": "code",
   "execution_count": 30,
   "metadata": {},
   "outputs": [
    {
     "data": {
      "text/plain": [
       "([mean: 0.72205, std: 0.00732, params: {'reg_alpha': 1e-05},\n",
       "  mean: 0.72156, std: 0.00769, params: {'reg_alpha': 0.01},\n",
       "  mean: 0.72148, std: 0.00720, params: {'reg_alpha': 0.1},\n",
       "  mean: 0.72152, std: 0.00759, params: {'reg_alpha': 1},\n",
       "  mean: 0.72577, std: 0.00748, params: {'reg_alpha': 100}],\n",
       " {'reg_alpha': 100},\n",
       " 0.7257676518187013)"
      ]
     },
     "execution_count": 30,
     "metadata": {},
     "output_type": "execute_result"
    }
   ],
   "source": [
    "#max_depth = 3\n",
    "#min_child_weight = 9\n",
    "#gamma = 0.2\n",
    "#subsample = 0.6\n",
    "#colsample_bytree = 0.85\n",
    "\n",
    "param_test6 = {\n",
    "    'reg_alpha':[1e-5, 1e-2, 0.1, 1, 100]\n",
    "}\n",
    "\n",
    "gsearch6 = GridSearchCV(estimator = xgb.XGBClassifier( learning_rate =0.07, n_estimators=300, max_depth=3,\n",
    "     min_child_weight=9, gamma=0.2, subsample=0.6, colsample_bytree=0.85,\n",
    "     objective= 'binary:logistic', scale_pos_weight=1, seed=27),\n",
    "     param_grid = param_test6, scoring = auc_weighted, iid=False, cv=5)\n",
    "\n",
    "gsearch6.fit(train_X.values, train_y.values)\n",
    "\n",
    "gsearch6.grid_scores_, gsearch6.best_params_, gsearch6.best_score_"
   ]
  },
  {
   "cell_type": "code",
   "execution_count": null,
   "metadata": {},
   "outputs": [],
   "source": [
    "#max_depth = 3\n",
    "#min_child_weight = 9\n",
    "#gamma = 0.2\n",
    "#subsample = 0.6\n",
    "#colsample_bytree = 0.85\n",
    "#reg_alpha = 100\n",
    "\n",
    "param_test7 = {\n",
    "    'reg_alpha':[10, 100, 110]\n",
    "}\n",
    "\n",
    "gsearch7 = GridSearchCV(estimator = xgb.XGBClassifier( learning_rate =0.07, n_estimators=300, max_depth=3,\n",
    "     min_child_weight=9, gamma=0.2, subsample=0.6, colsample_bytree=0.95,\n",
    "     objective= 'binary:logistic', scale_pos_weight=1, seed=27),\n",
    "     param_grid = param_test7, scoring = auc_weighted, iid=False, cv=5)\n",
    "\n",
    "gsearch7.fit(train_X.values, train_y.values)\n",
    "\n",
    "gsearch7.grid_scores_, gsearch7.best_params_, gsearch7.best_score_"
   ]
  },
  {
   "cell_type": "code",
   "execution_count": 108,
   "metadata": {},
   "outputs": [
    {
     "name": "stdout",
     "output_type": "stream",
     "text": [
      "\n",
      "Model Report\n",
      "Accuracy : 0.8728\n",
      "AUC Score (Train): 0.891004\n"
     ]
    },
    {
     "data": {
      "image/png": "[encoded data removed]",
      "text/plain": [
       "<matplotlib.figure.Figure at 0xfc37940>"
      ]
     },
     "metadata": {},
     "output_type": "display_data"
    }
   ],
   "source": [
    "xgb3 = xgb.XGBClassifier(\n",
    "    learning_rate = 0.01,\n",
    "    n_estimators = 1000,\n",
    "    max_depth = 5,\n",
    "    min_child_weight = 3,\n",
    "    gamma = 0,\n",
    "    subsample = 0.9,\n",
    "    colsample_bytree = 0.95,\n",
    "    objective = 'binary:logistic',\n",
    "    scale_pos_weight = 1,\n",
    "    reg_alpha=1e-05,\n",
    "    seed = 27)\n",
    "\n",
    "modelfit(xgb3, train_X_std, train_y, collist)"
   ]
  },
  {
   "cell_type": "code",
   "execution_count": 109,
   "metadata": {},
   "outputs": [
    {
     "name": "stdout",
     "output_type": "stream",
     "text": [
      "[0]\tvalidation_0-error:0.134943\tvalidation_1-error:0.1362\n",
      "Multiple eval metrics have been passed: 'validation_1-error' will be used for early stopping.\n",
      "\n",
      "Will train until validation_1-error hasn't improved in 50 rounds.\n",
      "[1]\tvalidation_0-error:0.132243\tvalidation_1-error:0.133\n",
      "[2]\tvalidation_0-error:0.132614\tvalidation_1-error:0.133833\n",
      "[3]\tvalidation_0-error:0.132743\tvalidation_1-error:0.133333\n",
      "[4]\tvalidation_0-error:0.132329\tvalidation_1-error:0.133067\n",
      "[5]\tvalidation_0-error:0.132529\tvalidation_1-error:0.133733\n",
      "[6]\tvalidation_0-error:0.131957\tvalidation_1-error:0.133367\n",
      "[7]\tvalidation_0-error:0.132271\tvalidation_1-error:0.133167\n",
      "[8]\tvalidation_0-error:0.1322\tvalidation_1-error:0.1331\n",
      "[9]\tvalidation_0-error:0.132086\tvalidation_1-error:0.133067\n",
      "[10]\tvalidation_0-error:0.132086\tvalidation_1-error:0.133067\n",
      "[11]\tvalidation_0-error:0.1321\tvalidation_1-error:0.133067\n",
      "[12]\tvalidation_0-error:0.132\tvalidation_1-error:0.1329\n",
      "[13]\tvalidation_0-error:0.131943\tvalidation_1-error:0.132733\n",
      "[14]\tvalidation_0-error:0.1321\tvalidation_1-error:0.133033\n",
      "[15]\tvalidation_0-error:0.132157\tvalidation_1-error:0.132767\n",
      "[16]\tvalidation_0-error:0.1321\tvalidation_1-error:0.132867\n",
      "[17]\tvalidation_0-error:0.132114\tvalidation_1-error:0.133\n",
      "[18]\tvalidation_0-error:0.132057\tvalidation_1-error:0.1331\n",
      "[19]\tvalidation_0-error:0.132129\tvalidation_1-error:0.1331\n",
      "[20]\tvalidation_0-error:0.131786\tvalidation_1-error:0.1327\n",
      "[21]\tvalidation_0-error:0.131957\tvalidation_1-error:0.133033\n",
      "[22]\tvalidation_0-error:0.1318\tvalidation_1-error:0.1329\n",
      "[23]\tvalidation_0-error:0.131886\tvalidation_1-error:0.1328\n",
      "[24]\tvalidation_0-error:0.131771\tvalidation_1-error:0.1326\n",
      "[25]\tvalidation_0-error:0.131757\tvalidation_1-error:0.132567\n",
      "[26]\tvalidation_0-error:0.131743\tvalidation_1-error:0.1326\n",
      "[27]\tvalidation_0-error:0.1316\tvalidation_1-error:0.1327\n",
      "[28]\tvalidation_0-error:0.1316\tvalidation_1-error:0.132467\n",
      "[29]\tvalidation_0-error:0.131686\tvalidation_1-error:0.132533\n",
      "[30]\tvalidation_0-error:0.131729\tvalidation_1-error:0.1324\n",
      "[31]\tvalidation_0-error:0.131571\tvalidation_1-error:0.132167\n",
      "[32]\tvalidation_0-error:0.131514\tvalidation_1-error:0.132233\n",
      "[33]\tvalidation_0-error:0.131657\tvalidation_1-error:0.132467\n",
      "[34]\tvalidation_0-error:0.131457\tvalidation_1-error:0.1323\n",
      "[35]\tvalidation_0-error:0.131443\tvalidation_1-error:0.1324\n",
      "[36]\tvalidation_0-error:0.131443\tvalidation_1-error:0.132267\n",
      "[37]\tvalidation_0-error:0.131457\tvalidation_1-error:0.132367\n",
      "[38]\tvalidation_0-error:0.131514\tvalidation_1-error:0.1322\n",
      "[39]\tvalidation_0-error:0.1315\tvalidation_1-error:0.1325\n",
      "[40]\tvalidation_0-error:0.131386\tvalidation_1-error:0.1325\n",
      "[41]\tvalidation_0-error:0.131371\tvalidation_1-error:0.132467\n",
      "[42]\tvalidation_0-error:0.131486\tvalidation_1-error:0.132467\n",
      "[43]\tvalidation_0-error:0.131486\tvalidation_1-error:0.1327\n",
      "[44]\tvalidation_0-error:0.131414\tvalidation_1-error:0.132367\n",
      "[45]\tvalidation_0-error:0.131557\tvalidation_1-error:0.132467\n",
      "[46]\tvalidation_0-error:0.131414\tvalidation_1-error:0.132433\n",
      "[47]\tvalidation_0-error:0.131171\tvalidation_1-error:0.132633\n",
      "[48]\tvalidation_0-error:0.131271\tvalidation_1-error:0.1325\n",
      "[49]\tvalidation_0-error:0.131243\tvalidation_1-error:0.132633\n",
      "[50]\tvalidation_0-error:0.131286\tvalidation_1-error:0.1324\n",
      "[51]\tvalidation_0-error:0.131171\tvalidation_1-error:0.132667\n",
      "[52]\tvalidation_0-error:0.131114\tvalidation_1-error:0.132533\n",
      "[53]\tvalidation_0-error:0.131143\tvalidation_1-error:0.132533\n",
      "[54]\tvalidation_0-error:0.131114\tvalidation_1-error:0.1325\n",
      "[55]\tvalidation_0-error:0.131043\tvalidation_1-error:0.132433\n",
      "[56]\tvalidation_0-error:0.130971\tvalidation_1-error:0.132633\n",
      "[57]\tvalidation_0-error:0.130971\tvalidation_1-error:0.132333\n",
      "[58]\tvalidation_0-error:0.1309\tvalidation_1-error:0.132233\n",
      "[59]\tvalidation_0-error:0.130986\tvalidation_1-error:0.1323\n",
      "[60]\tvalidation_0-error:0.130829\tvalidation_1-error:0.132267\n",
      "[61]\tvalidation_0-error:0.1308\tvalidation_1-error:0.132167\n",
      "[62]\tvalidation_0-error:0.130757\tvalidation_1-error:0.132233\n",
      "[63]\tvalidation_0-error:0.130857\tvalidation_1-error:0.1323\n",
      "[64]\tvalidation_0-error:0.130814\tvalidation_1-error:0.132333\n",
      "[65]\tvalidation_0-error:0.130714\tvalidation_1-error:0.1324\n",
      "[66]\tvalidation_0-error:0.130771\tvalidation_1-error:0.132367\n",
      "[67]\tvalidation_0-error:0.130643\tvalidation_1-error:0.132267\n",
      "[68]\tvalidation_0-error:0.130671\tvalidation_1-error:0.132267\n",
      "[69]\tvalidation_0-error:0.1308\tvalidation_1-error:0.1322\n",
      "[70]\tvalidation_0-error:0.130814\tvalidation_1-error:0.132267\n",
      "[71]\tvalidation_0-error:0.130786\tvalidation_1-error:0.132267\n",
      "[72]\tvalidation_0-error:0.130814\tvalidation_1-error:0.1324\n",
      "[73]\tvalidation_0-error:0.1308\tvalidation_1-error:0.132333\n",
      "[74]\tvalidation_0-error:0.1308\tvalidation_1-error:0.132467\n",
      "[75]\tvalidation_0-error:0.130786\tvalidation_1-error:0.132333\n",
      "[76]\tvalidation_0-error:0.130714\tvalidation_1-error:0.132367\n",
      "[77]\tvalidation_0-error:0.130786\tvalidation_1-error:0.132467\n",
      "[78]\tvalidation_0-error:0.1307\tvalidation_1-error:0.132333\n",
      "[79]\tvalidation_0-error:0.130771\tvalidation_1-error:0.132233\n",
      "[80]\tvalidation_0-error:0.130686\tvalidation_1-error:0.1323\n",
      "[81]\tvalidation_0-error:0.130729\tvalidation_1-error:0.132267\n",
      "Stopping. Best iteration:\n",
      "[31]\tvalidation_0-error:0.131571\tvalidation_1-error:0.132167\n",
      "\n"
     ]
    },
    {
     "data": {
      "image/png": "[encoded data removed]",
      "text/plain": [
       "<matplotlib.figure.Figure at 0x10d1a7f0>"
      ]
     },
     "metadata": {},
     "output_type": "display_data"
    }
   ],
   "source": [
    "tuned_model = xgb.XGBClassifier(learning_rate = 0.01,\n",
    "                        n_estimators = 1000,\n",
    "                        max_depth = 5,\n",
    "                        min_child_weight = 3,\n",
    "                        gamma = 0,\n",
    "                        subsample = 0.9,\n",
    "                        colsample_bytree = 0.95,\n",
    "                        objective = 'binary:logistic',\n",
    "                        scale_pos_weight = 1,\n",
    "                        reg_alpha=1e-05,\n",
    "                        seed = 27)\n",
    "fitted = tuned_model.fit(train_X_std, train_y, \n",
    "                 eval_set=[(train_X_std, train_y), (test_X_std, test_y)], \n",
    "                 eval_metric='error',\n",
    "                 early_stopping_rounds=50,\n",
    "                 verbose=True)\n",
    "\n",
    "fig, ax = plt.subplots(figsize=(12,18))\n",
    "xgb.plot_importance(fitted, height=0.8, ax=ax)\n",
    "plt.show()"
   ]
  },
  {
   "cell_type": "code",
   "execution_count": 110,
   "metadata": {},
   "outputs": [
    {
     "name": "stdout",
     "output_type": "stream",
     "text": [
      "Accuracy: 86.77%\n"
     ]
    },
    {
     "data": {
      "image/png": "[encoded data removed]",
      "text/plain": [
       "<matplotlib.figure.Figure at 0x1053a518>"
      ]
     },
     "metadata": {},
     "output_type": "display_data"
    }
   ],
   "source": [
    "pred_y = fitted.predict(test_X_std)\n",
    "\n",
    "predictions = [round(value) for value in pred_y]\n",
    "# evaluate predictions\n",
    "accuracy = accuracy_score(test_y, predictions)\n",
    "print(\"Accuracy: %.2f%%\" % (accuracy * 100.0))\n",
    "\n",
    "#conmat = confusion_matrix(y_test, predictions)\n",
    "#print(conmat)\n",
    "#plt.figure()\n",
    "#helper.plot_confusion_matrix(conmat,classes = np.array(['0','1']), title='Confusion Matrix, no Normalization')\n",
    "\n",
    "fpr, tpr, _ = roc_curve(test_y, predictions)\n",
    "roc_auc = auc(fpr, tpr)\n",
    "\n",
    "plt.title('Receiver Operating Characteristic')\n",
    "plt.plot(fpr, tpr, 'b', label = 'AUC = %0.2f' % roc_auc)\n",
    "plt.legend(loc = 'lower right')\n",
    "plt.plot([0, 1], [0, 1],'r--')\n",
    "plt.xlim([0, 1])\n",
    "plt.ylim([0, 1])\n",
    "plt.ylabel('True Positive Rate')\n",
    "plt.xlabel('False Positive Rate')\n",
    "plt.show()"
   ]
  },
  {
   "cell_type": "markdown",
   "metadata": {},
   "source": [
    "### sklearn mlpclassifier"
   ]
  },
  {
   "cell_type": "code",
   "execution_count": 16,
   "metadata": {
    "collapsed": true
   },
   "outputs": [],
   "source": [
    "from sklearn.neural_network import MLPClassifier"
   ]
  },
  {
   "cell_type": "code",
   "execution_count": 17,
   "metadata": {
    "scrolled": true
   },
   "outputs": [
    {
     "name": "stdout",
     "output_type": "stream",
     "text": [
      "Iteration 1, loss = 0.38891664\n",
      "Validation score: 0.854986\n",
      "Iteration 2, loss = 0.34260629\n",
      "Validation score: 0.858986\n",
      "Iteration 3, loss = 0.33940881\n",
      "Validation score: 0.859443\n",
      "Iteration 4, loss = 0.33852282\n",
      "Validation score: 0.860357\n",
      "Iteration 5, loss = 0.33775414\n",
      "Validation score: 0.860543\n",
      "Iteration 6, loss = 0.33707289\n",
      "Validation score: 0.860800\n",
      "Iteration 7, loss = 0.33646304\n",
      "Validation score: 0.861243\n",
      "Iteration 8, loss = 0.33590957\n",
      "Validation score: 0.861257\n",
      "Iteration 9, loss = 0.33541205\n",
      "Validation score: 0.861186\n",
      "Iteration 10, loss = 0.33489584\n",
      "Validation score: 0.861729\n",
      "Iteration 11, loss = 0.33438966\n",
      "Validation score: 0.862257\n",
      "Iteration 12, loss = 0.33387056\n",
      "Validation score: 0.862114\n",
      "Iteration 13, loss = 0.33331516\n",
      "Validation score: 0.862843\n",
      "Iteration 14, loss = 0.33276741\n",
      "Validation score: 0.862486\n",
      "Iteration 15, loss = 0.33219868\n",
      "Validation score: 0.862957\n",
      "Iteration 16, loss = 0.33160192\n",
      "Validation score: 0.863286\n",
      "Iteration 17, loss = 0.33100872\n",
      "Validation score: 0.864014\n",
      "Iteration 18, loss = 0.33041346\n",
      "Validation score: 0.864086\n",
      "Iteration 19, loss = 0.32981947\n",
      "Validation score: 0.863443\n",
      "Iteration 20, loss = 0.32919089\n",
      "Validation score: 0.864443\n",
      "Iteration 21, loss = 0.32860696\n",
      "Validation score: 0.864143\n",
      "Iteration 22, loss = 0.32799173\n",
      "Validation score: 0.864143\n",
      "Iteration 23, loss = 0.32741101\n",
      "Validation score: 0.864729\n",
      "Iteration 24, loss = 0.32682855\n",
      "Validation score: 0.864586\n",
      "Iteration 25, loss = 0.32626232\n",
      "Validation score: 0.864529\n",
      "Iteration 26, loss = 0.32572730\n",
      "Validation score: 0.864457\n",
      "Validation score did not improve more than tol=0.000100 for two consecutive epochs. Stopping.\n"
     ]
    },
    {
     "data": {
      "text/plain": [
       "MLPClassifier(activation='logistic', alpha=0.0001, batch_size='auto',\n",
       "       beta_1=0.9, beta_2=0.999, early_stopping=True, epsilon=1e-08,\n",
       "       hidden_layer_sizes=(100,), learning_rate='adaptive',\n",
       "       learning_rate_init=0.0001, max_iter=200, momentum=0.9,\n",
       "       nesterovs_momentum=True, power_t=0.5, random_state=None,\n",
       "       shuffle=True, solver='adam', tol=0.0001, validation_fraction=0.1,\n",
       "       verbose=True, warm_start=False)"
      ]
     },
     "execution_count": 17,
     "metadata": {},
     "output_type": "execute_result"
    }
   ],
   "source": [
    "\n",
    "clf = MLPClassifier(activation='logistic', early_stopping=True, learning_rate='adaptive', learning_rate_init=.0001, \n",
    "                    verbose=True, validation_fraction=0.1)\n",
    "clf.fit(train_X_std, train_y)"
   ]
  },
  {
   "cell_type": "code",
   "execution_count": 18,
   "metadata": {},
   "outputs": [
    {
     "name": "stdout",
     "output_type": "stream",
     "text": [
      "Accuracy: 86.12%\n"
     ]
    },
    {
     "data": {
      "image/png": "[encoded data removed]",
      "text/plain": [
       "<matplotlib.figure.Figure at 0xd4d8b38>"
      ]
     },
     "metadata": {},
     "output_type": "display_data"
    }
   ],
   "source": [
    "pred_y = clf.predict(test_X_std)\n",
    "\n",
    "accuracy = accuracy_score(test_y, pred_y)\n",
    "print(\"Accuracy: %.2f%%\" % (accuracy * 100.0))\n",
    "\n",
    "\n",
    "fpr, tpr, _ = roc_curve(test_y, pred_y)\n",
    "roc_auc = auc(fpr, tpr)\n",
    "\n",
    "plt.title('Receiver Operating Characteristic')\n",
    "plt.plot(fpr, tpr, 'b', label = 'AUC = %0.2f' % roc_auc)\n",
    "plt.legend(loc = 'lower right')\n",
    "plt.plot([0, 1], [0, 1],'r--')\n",
    "plt.xlim([0, 1])\n",
    "plt.ylim([0, 1])\n",
    "plt.ylabel('True Positive Rate')\n",
    "plt.xlabel('False Positive Rate')\n",
    "plt.show()"
   ]
  },
  {
   "cell_type": "code",
   "execution_count": 170,
   "metadata": {},
   "outputs": [
    {
     "data": {
      "text/plain": [
       "array([[ 0.14276817,  0.85723183],\n",
       "       [ 0.57737186,  0.42262814],\n",
       "       [ 0.93198685,  0.06801315],\n",
       "       ..., \n",
       "       [ 0.93193459,  0.06806541],\n",
       "       [ 0.69055288,  0.30944712],\n",
       "       [ 0.58447264,  0.41552736]])"
      ]
     },
     "execution_count": 170,
     "metadata": {},
     "output_type": "execute_result"
    }
   ],
   "source": [
    "clf.predict_proba(test_X_std)"
   ]
  },
  {
   "cell_type": "code",
   "execution_count": 77,
   "metadata": {},
   "outputs": [
    {
     "data": {
      "text/plain": [
       "True"
      ]
     },
     "execution_count": 77,
     "metadata": {},
     "output_type": "execute_result"
    }
   ],
   "source": [
    "np.all(np.isfinite(test_X))"
   ]
  },
  {
   "cell_type": "code",
   "execution_count": 79,
   "metadata": {},
   "outputs": [
    {
     "data": {
      "text/plain": [
       "False"
      ]
     },
     "execution_count": 79,
     "metadata": {},
     "output_type": "execute_result"
    }
   ],
   "source": [
    "np.any(np.isnan(test_X))"
   ]
  },
  {
   "cell_type": "code",
   "execution_count": null,
   "metadata": {
    "collapsed": true
   },
   "outputs": [],
   "source": []
  },
  {
   "cell_type": "code",
   "execution_count": null,
   "metadata": {
    "collapsed": true
   },
   "outputs": [],
   "source": []
  }
 ],
 "metadata": {
  "kernelspec": {
   "display_name": "Python 3",
   "language": "python",
   "name": "python3"
  },
  "language_info": {
   "codemirror_mode": {
    "name": "ipython",
    "version": 3
   },
   "file_extension": ".py",
   "mimetype": "text/x-python",
   "name": "python",
   "nbconvert_exporter": "python",
   "pygments_lexer": "ipython3",
   "version": "3.6.1"
  }
 },
 "nbformat": 4,
 "nbformat_minor": 2
}

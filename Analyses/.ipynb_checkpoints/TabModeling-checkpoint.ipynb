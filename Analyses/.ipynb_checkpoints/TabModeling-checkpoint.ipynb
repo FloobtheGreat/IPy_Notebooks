{
 "cells": [
  {
   "cell_type": "code",
   "execution_count": 2,
   "metadata": {},
   "outputs": [],
   "source": [
    "import sys\n",
    "sys.path.insert(0, r\"C:\\users\\pairwin\\Documents\\Github\\HelperPI\")\n",
    "#sys.path.insert(0, r'/home/pirwin/Git/HelperPI')\n",
    "\n",
    "import HelperPI\n",
    "import seaborn as sns\n",
    "import pandas as pd\n",
    "import scipy.stats as stats\n",
    "import matplotlib.pyplot as plt\n",
    "import statsmodels.formula.api as sts\n",
    "import numpy as np\n",
    "import xgboost as xgb\n",
    "from sklearn.metrics import accuracy_score, confusion_matrix, roc_curve, auc, roc_auc_score\n",
    "from sklearn.metrics import f1_score, matthews_corrcoef, make_scorer, classification_report\n",
    "from sklearn.preprocessing import Imputer\n",
    "from sklearn.model_selection import GridSearchCV\n",
    "\n",
    "%matplotlib inline\n",
    "\n",
    "pd.options.mode.chained_assignment = None\n",
    "pd.options.display.max_columns = 999"
   ]
  },
  {
   "cell_type": "code",
   "execution_count": 3,
   "metadata": {},
   "outputs": [
    {
     "name": "stderr",
     "output_type": "stream",
     "text": [
      "INFO:root:Initializing...\n"
     ]
    }
   ],
   "source": [
    "helper = HelperPI.Helper()"
   ]
  },
  {
   "cell_type": "code",
   "execution_count": 4,
   "metadata": {
    "collapsed": true
   },
   "outputs": [],
   "source": [
    "#sql = helper.getSQL(r\"C:\\users\\pairwin\\Documents\\GitHub\\IPy_Notebooks\\SQL\\TAB_MODELING.sql\")"
   ]
  },
  {
   "cell_type": "code",
   "execution_count": 5,
   "metadata": {},
   "outputs": [
    {
     "name": "stderr",
     "output_type": "stream",
     "text": [
      "INFO:root:Getting data types...\n"
     ]
    },
    {
     "name": "stdout",
     "output_type": "stream",
     "text": [
      "                  Count     Column Type\n",
      "0            DATE_VALUE  datetime64[ns]\n",
      "1                RECORD          object\n",
      "2            MEDHINC_CY         float64\n",
      "3             MEDAGE_CY         float64\n",
      "4            CLOSEST_BP         float64\n",
      "5           CLOSEST_CAB         float64\n",
      "6     MALES_IN_HOUSHOLD           int64\n",
      "7   FEMALES_IN_HOUSHOLD           int64\n",
      "8      REWARDS_CUSTOMER           int64\n",
      "9      DAYS_AS_CUSTOMER           int64\n",
      "10   TOTAL_TRANSACTIONS           int64\n",
      "11     REW_TRANSACTIONS           int64\n",
      "12          TOTAL_SPEND         float64\n",
      "13  DAYS_SINCE_PURCHASE           int64\n",
      "14     TARGET_VALUE12MO         float64\n",
      "15  TARGET_PURCH_NEXT15           int64\n"
     ]
    }
   ],
   "source": [
    "#base, dtypesdf = helper.readData(sql)\n",
    "base = pd.read_csv(r'C:\\users\\pairwin\\Documents\\GitHub\\IPy_Notebooks\\SQL\\tab_model.csv', parse_dates=['DATE_VALUE'])\n",
    "#base = pd.read_csv(r'/home/pirwin/Git/IPy_Notebooks/SQL/tab_model.csv',parse_dates=['DATE_VALUE'])\n",
    "dtypes = helper.getDtypes(base)"
   ]
  },
  {
   "cell_type": "markdown",
   "metadata": {},
   "source": [
    "### Imputing missing then Splitting the data for train and test using helper application"
   ]
  },
  {
   "cell_type": "code",
   "execution_count": 29,
   "metadata": {},
   "outputs": [],
   "source": [
    "collist = ['MEDHINC_CY','MEDAGE_CY','CLOSEST_BP','MALES_IN_HOUSHOLD','FEMALES_IN_HOUSHOLD','REWARDS_CUSTOMER',\n",
    "          'DAYS_AS_CUSTOMER','TOTAL_TRANSACTIONS','REW_TRANSACTIONS','TOTAL_SPEND','DAYS_SINCE_PURCHASE']\n",
    "X = base[collist]\n",
    "y = base['TARGET_PURCH_NEXT15']\n"
   ]
  },
  {
   "cell_type": "markdown",
   "metadata": {},
   "source": [
    "### Determination of missing values"
   ]
  },
  {
   "cell_type": "code",
   "execution_count": 30,
   "metadata": {},
   "outputs": [
    {
     "data": {
      "text/html": [
       "<div>\n",
       "<style>\n",
       "    .dataframe thead tr:only-child th {\n",
       "        text-align: right;\n",
       "    }\n",
       "\n",
       "    .dataframe thead th {\n",
       "        text-align: left;\n",
       "    }\n",
       "\n",
       "    .dataframe tbody tr th {\n",
       "        vertical-align: top;\n",
       "    }\n",
       "</style>\n",
       "<table border=\"1\" class=\"dataframe\">\n",
       "  <thead>\n",
       "    <tr style=\"text-align: right;\">\n",
       "      <th></th>\n",
       "      <th>column_name</th>\n",
       "      <th>missing_count</th>\n",
       "      <th>missing_ratio</th>\n",
       "    </tr>\n",
       "  </thead>\n",
       "  <tbody>\n",
       "    <tr>\n",
       "      <th>0</th>\n",
       "      <td>MEDHINC_CY</td>\n",
       "      <td>3792</td>\n",
       "      <td>0.03792</td>\n",
       "    </tr>\n",
       "    <tr>\n",
       "      <th>1</th>\n",
       "      <td>MEDAGE_CY</td>\n",
       "      <td>3792</td>\n",
       "      <td>0.03792</td>\n",
       "    </tr>\n",
       "  </tbody>\n",
       "</table>\n",
       "</div>"
      ],
      "text/plain": [
       "  column_name  missing_count  missing_ratio\n",
       "0  MEDHINC_CY           3792        0.03792\n",
       "1   MEDAGE_CY           3792        0.03792"
      ]
     },
     "execution_count": 30,
     "metadata": {},
     "output_type": "execute_result"
    }
   ],
   "source": [
    "missing_df = X.isnull().sum(axis=0).reset_index()\n",
    "missing_df.columns = ['column_name', 'missing_count']\n",
    "missing_df['missing_ratio'] = missing_df['missing_count'] / X.shape[0]\n",
    "missing_df.loc[missing_df['missing_ratio']>0.01]"
   ]
  },
  {
   "cell_type": "code",
   "execution_count": 64,
   "metadata": {},
   "outputs": [
    {
     "name": "stdout",
     "output_type": "stream",
     "text": [
      "MEDHINC_CY Coef: -0.01  pval:  0.1072\n",
      "MEDAGE_CY Coef: 0.03  pval:  0.0000\n",
      "CLOSEST_BP Coef: -0.01  pval:  0.0001\n",
      "MALES_IN_HOUSHOLD Coef: 0.18  pval:  0.0000\n",
      "FEMALES_IN_HOUSHOLD Coef: 0.04  pval:  0.0000\n",
      "REWARDS_CUSTOMER Coef: 0.34  pval:  0.0000\n",
      "DAYS_AS_CUSTOMER Coef: 0.06  pval:  0.0000\n",
      "TOTAL_TRANSACTIONS Coef: 0.30  pval:  0.0000\n",
      "REW_TRANSACTIONS Coef: 0.27  pval:  0.0000\n",
      "TOTAL_SPEND Coef: 0.36  pval:  0.0000\n",
      "DAYS_SINCE_PURCHASE Coef: -0.38  pval:  0.0000\n"
     ]
    },
    {
     "data": {
      "text/html": [
       "<div>\n",
       "<style>\n",
       "    .dataframe thead tr:only-child th {\n",
       "        text-align: right;\n",
       "    }\n",
       "\n",
       "    .dataframe thead th {\n",
       "        text-align: left;\n",
       "    }\n",
       "\n",
       "    .dataframe tbody tr th {\n",
       "        vertical-align: top;\n",
       "    }\n",
       "</style>\n",
       "<table border=\"1\" class=\"dataframe\">\n",
       "  <thead>\n",
       "    <tr style=\"text-align: right;\">\n",
       "      <th></th>\n",
       "      <th>CLOSEST_BP</th>\n",
       "      <th>MALES_IN_HOUSHOLD</th>\n",
       "      <th>REWARDS_CUSTOMER</th>\n",
       "      <th>DAYS_AS_CUSTOMER</th>\n",
       "      <th>TOTAL_TRANSACTIONS</th>\n",
       "      <th>REW_TRANSACTIONS</th>\n",
       "      <th>TOTAL_SPEND</th>\n",
       "      <th>DAYS_SINCE_PURCHASE</th>\n",
       "    </tr>\n",
       "  </thead>\n",
       "  <tbody>\n",
       "    <tr>\n",
       "      <th>0</th>\n",
       "      <td>47.97</td>\n",
       "      <td>0.0</td>\n",
       "      <td>0.0</td>\n",
       "      <td>3265.0</td>\n",
       "      <td>2.0</td>\n",
       "      <td>0.0</td>\n",
       "      <td>500.43</td>\n",
       "      <td>3057.0</td>\n",
       "    </tr>\n",
       "    <tr>\n",
       "      <th>1</th>\n",
       "      <td>71.22</td>\n",
       "      <td>1.0</td>\n",
       "      <td>0.0</td>\n",
       "      <td>3351.0</td>\n",
       "      <td>6.0</td>\n",
       "      <td>0.0</td>\n",
       "      <td>322.96</td>\n",
       "      <td>178.0</td>\n",
       "    </tr>\n",
       "    <tr>\n",
       "      <th>2</th>\n",
       "      <td>38.96</td>\n",
       "      <td>1.0</td>\n",
       "      <td>1.0</td>\n",
       "      <td>2672.0</td>\n",
       "      <td>5.0</td>\n",
       "      <td>4.0</td>\n",
       "      <td>127.18</td>\n",
       "      <td>2464.0</td>\n",
       "    </tr>\n",
       "    <tr>\n",
       "      <th>3</th>\n",
       "      <td>23.86</td>\n",
       "      <td>0.0</td>\n",
       "      <td>0.0</td>\n",
       "      <td>1574.0</td>\n",
       "      <td>3.0</td>\n",
       "      <td>1.0</td>\n",
       "      <td>233.94</td>\n",
       "      <td>104.0</td>\n",
       "    </tr>\n",
       "    <tr>\n",
       "      <th>4</th>\n",
       "      <td>73.31</td>\n",
       "      <td>1.0</td>\n",
       "      <td>1.0</td>\n",
       "      <td>3782.0</td>\n",
       "      <td>11.0</td>\n",
       "      <td>7.0</td>\n",
       "      <td>1248.58</td>\n",
       "      <td>730.0</td>\n",
       "    </tr>\n",
       "  </tbody>\n",
       "</table>\n",
       "</div>"
      ],
      "text/plain": [
       "   CLOSEST_BP  MALES_IN_HOUSHOLD  REWARDS_CUSTOMER  DAYS_AS_CUSTOMER  \\\n",
       "0       47.97                0.0               0.0            3265.0   \n",
       "1       71.22                1.0               0.0            3351.0   \n",
       "2       38.96                1.0               1.0            2672.0   \n",
       "3       23.86                0.0               0.0            1574.0   \n",
       "4       73.31                1.0               1.0            3782.0   \n",
       "\n",
       "   TOTAL_TRANSACTIONS  REW_TRANSACTIONS  TOTAL_SPEND  DAYS_SINCE_PURCHASE  \n",
       "0                 2.0               0.0       500.43               3057.0  \n",
       "1                 6.0               0.0       322.96                178.0  \n",
       "2                 5.0               4.0       127.18               2464.0  \n",
       "3                 3.0               1.0       233.94                104.0  \n",
       "4                11.0               7.0      1248.58                730.0  "
      ]
     },
     "execution_count": 64,
     "metadata": {},
     "output_type": "execute_result"
    }
   ],
   "source": [
    "\n",
    "imr = Imputer(missing_values='NaN',strategy='median',axis=0)\n",
    "imr = imr.fit(X)\n",
    "imputed_data = pd.DataFrame(imr.transform(X.values), columns = collist)\n",
    "\n",
    "for var in collist:\n",
    "    coef, pval = stats.pearsonr(imputed_data[var].as_matrix(), y.as_matrix())\n",
    "    \n",
    "    print(var + ' Coef: %.2f  pval:  %.4f' % (coef, pval))\n",
    "\n",
    "    \n",
    "collist2 = ['CLOSEST_BP','MALES_IN_HOUSHOLD','REWARDS_CUSTOMER',\n",
    "          'DAYS_AS_CUSTOMER','TOTAL_TRANSACTIONS','REW_TRANSACTIONS','TOTAL_SPEND','DAYS_SINCE_PURCHASE']\n",
    "\n",
    "imputed_data2 = imputed_data[collist2]\n",
    "\n",
    "imputed_data2.head()"
   ]
  },
  {
   "cell_type": "code",
   "execution_count": 65,
   "metadata": {},
   "outputs": [],
   "source": [
    "train_X, test_X, train_y, test_y = helper.splitData2(imputed_data2, y, 0.5)\n",
    "\n",
    "train_X = pd.DataFrame(train_X, columns=collist2)\n",
    "test_X = pd.DataFrame(test_X, columns=collist2)"
   ]
  },
  {
   "cell_type": "code",
   "execution_count": 66,
   "metadata": {},
   "outputs": [
    {
     "data": {
      "text/html": [
       "<div>\n",
       "<style>\n",
       "    .dataframe thead tr:only-child th {\n",
       "        text-align: right;\n",
       "    }\n",
       "\n",
       "    .dataframe thead th {\n",
       "        text-align: left;\n",
       "    }\n",
       "\n",
       "    .dataframe tbody tr th {\n",
       "        vertical-align: top;\n",
       "    }\n",
       "</style>\n",
       "<table border=\"1\" class=\"dataframe\">\n",
       "  <thead>\n",
       "    <tr style=\"text-align: right;\">\n",
       "      <th></th>\n",
       "      <th>CLOSEST_BP</th>\n",
       "      <th>MALES_IN_HOUSHOLD</th>\n",
       "      <th>REWARDS_CUSTOMER</th>\n",
       "      <th>DAYS_AS_CUSTOMER</th>\n",
       "      <th>TOTAL_TRANSACTIONS</th>\n",
       "      <th>REW_TRANSACTIONS</th>\n",
       "      <th>TOTAL_SPEND</th>\n",
       "      <th>DAYS_SINCE_PURCHASE</th>\n",
       "    </tr>\n",
       "  </thead>\n",
       "  <tbody>\n",
       "    <tr>\n",
       "      <th>24341</th>\n",
       "      <td>3.99</td>\n",
       "      <td>0.0</td>\n",
       "      <td>1.0</td>\n",
       "      <td>1045.0</td>\n",
       "      <td>2.0</td>\n",
       "      <td>1.0</td>\n",
       "      <td>104.94</td>\n",
       "      <td>726.0</td>\n",
       "    </tr>\n",
       "    <tr>\n",
       "      <th>67534</th>\n",
       "      <td>8.99</td>\n",
       "      <td>1.0</td>\n",
       "      <td>1.0</td>\n",
       "      <td>3747.0</td>\n",
       "      <td>22.0</td>\n",
       "      <td>12.0</td>\n",
       "      <td>1397.47</td>\n",
       "      <td>199.0</td>\n",
       "    </tr>\n",
       "    <tr>\n",
       "      <th>35080</th>\n",
       "      <td>64.42</td>\n",
       "      <td>0.0</td>\n",
       "      <td>0.0</td>\n",
       "      <td>1655.0</td>\n",
       "      <td>2.0</td>\n",
       "      <td>0.0</td>\n",
       "      <td>233.75</td>\n",
       "      <td>1166.0</td>\n",
       "    </tr>\n",
       "    <tr>\n",
       "      <th>4828</th>\n",
       "      <td>11.81</td>\n",
       "      <td>0.0</td>\n",
       "      <td>0.0</td>\n",
       "      <td>945.0</td>\n",
       "      <td>2.0</td>\n",
       "      <td>0.0</td>\n",
       "      <td>144.19</td>\n",
       "      <td>92.0</td>\n",
       "    </tr>\n",
       "    <tr>\n",
       "      <th>59259</th>\n",
       "      <td>92.59</td>\n",
       "      <td>1.0</td>\n",
       "      <td>1.0</td>\n",
       "      <td>2668.0</td>\n",
       "      <td>4.0</td>\n",
       "      <td>4.0</td>\n",
       "      <td>870.94</td>\n",
       "      <td>2005.0</td>\n",
       "    </tr>\n",
       "  </tbody>\n",
       "</table>\n",
       "</div>"
      ],
      "text/plain": [
       "       CLOSEST_BP  MALES_IN_HOUSHOLD  REWARDS_CUSTOMER  DAYS_AS_CUSTOMER  \\\n",
       "24341        3.99                0.0               1.0            1045.0   \n",
       "67534        8.99                1.0               1.0            3747.0   \n",
       "35080       64.42                0.0               0.0            1655.0   \n",
       "4828        11.81                0.0               0.0             945.0   \n",
       "59259       92.59                1.0               1.0            2668.0   \n",
       "\n",
       "       TOTAL_TRANSACTIONS  REW_TRANSACTIONS  TOTAL_SPEND  DAYS_SINCE_PURCHASE  \n",
       "24341                 2.0               1.0       104.94                726.0  \n",
       "67534                22.0              12.0      1397.47                199.0  \n",
       "35080                 2.0               0.0       233.75               1166.0  \n",
       "4828                  2.0               0.0       144.19                 92.0  \n",
       "59259                 4.0               4.0       870.94               2005.0  "
      ]
     },
     "execution_count": 66,
     "metadata": {},
     "output_type": "execute_result"
    }
   ],
   "source": [
    "train_X.head()"
   ]
  },
  {
   "cell_type": "code",
   "execution_count": null,
   "metadata": {
    "collapsed": true
   },
   "outputs": [],
   "source": [
    "#sns.pairplot(train_X)\n",
    "#sns.plt.savefig('Scattermatrix.png')\n",
    "#plt.show()"
   ]
  },
  {
   "cell_type": "code",
   "execution_count": 67,
   "metadata": {
    "collapsed": true
   },
   "outputs": [],
   "source": [
    "from sklearn.preprocessing import StandardScaler\n",
    "stdsc = StandardScaler()\n",
    "train_X_std = pd.DataFrame(stdsc.fit_transform(train_X), columns=collist2)\n",
    "test_X_std = pd.DataFrame(stdsc.fit_transform(test_X), columns=collist2)\n",
    "\n",
    "#sns.pairplot(train_X_std)\n",
    "#sns.plt.savefig('Scattermatrix.png')\n",
    "#plt.show()"
   ]
  },
  {
   "cell_type": "code",
   "execution_count": 68,
   "metadata": {
    "scrolled": false
   },
   "outputs": [
    {
     "name": "stdout",
     "output_type": "stream",
     "text": [
      " 1) DAYS_SINCE_PURCHASE            0.275578\n",
      " 2) TOTAL_SPEND                    0.178210\n",
      " 3) DAYS_AS_CUSTOMER               0.137304\n",
      " 4) CLOSEST_BP                     0.134193\n",
      " 5) TOTAL_TRANSACTIONS             0.131576\n",
      " 6) REW_TRANSACTIONS               0.094983\n",
      " 7) REWARDS_CUSTOMER               0.026242\n",
      " 8) MALES_IN_HOUSHOLD              0.021913\n"
     ]
    },
    {
     "data": {
      "image/png": "[encoded data removed]",
      "text/plain": [
       "<matplotlib.figure.Figure at 0xd7638d0>"
      ]
     },
     "metadata": {},
     "output_type": "display_data"
    }
   ],
   "source": [
    "from sklearn.ensemble import RandomForestClassifier\n",
    "\n",
    "feat_labels = np.asarray(collist2)\n",
    "\n",
    "forests = RandomForestClassifier(n_estimators=1000,\n",
    "                                random_state=0,\n",
    "                                n_jobs=-1)\n",
    "forests.fit(train_X_std, train_y)\n",
    "importances = forests.feature_importances_\n",
    "indices = np.argsort(importances)[::-1]\n",
    "for f in range(train_X_std.shape[1]):\n",
    "    print(\"%2d) %-*s %f\" % (f + 1, 30, feat_labels[indices[f]],\n",
    "                                      importances[indices[f]]))\n",
    "    \n",
    "plt.title('Feature Importance')\n",
    "plt.bar(range(train_X_std.shape[1]), importances[indices], color='lightblue', align='center')\n",
    "plt.xticks(range(train_X_std.shape[1]), feat_labels[indices], rotation=90)\n",
    "plt.xlim([-1, train_X_std.shape[1]])\n",
    "plt.tight_layout()\n",
    "plt.show()"
   ]
  },
  {
   "cell_type": "markdown",
   "metadata": {},
   "source": [
    "### XGBoost Model"
   ]
  },
  {
   "cell_type": "code",
   "execution_count": null,
   "metadata": {
    "scrolled": true
   },
   "outputs": [],
   "source": [
    "import xgboost as xgb\n",
    "\n",
    "xgb_params = {\n",
    "    'booster': 'gbtree',\n",
    "    'eta': 0.05,\n",
    "    'max_depth': 10,\n",
    "    'subsample': 0.7,\n",
    "    'colsample_bytree': 0.7,\n",
    "    'objective': 'binary:logistic',\n",
    "    'silent': 0,\n",
    "    'seed' : 0,\n",
    "    'eval_metric':'error',\n",
    "    'max_delta_step' : 1\n",
    "}\n",
    "dtrain = xgb.DMatrix(train_X_std, train_y, feature_names=train_X.columns.values)\n",
    "d_test = xgb.DMatrix(test_X_std, test_y, feature_names=test_X.columns.values)\n",
    "model = xgb.train(xgb_params, dtrain, evals=[(d_test, \"eval\")], \n",
    "                  num_boost_round=1000, early_stopping_rounds=100)\n",
    "\n",
    "\n",
    "\n",
    "fig, ax = plt.subplots(figsize=(12,18))\n",
    "xgb.plot_importance(model, height=0.8, ax=ax)\n",
    "plt.show()"
   ]
  },
  {
   "cell_type": "code",
   "execution_count": null,
   "metadata": {
    "collapsed": true
   },
   "outputs": [],
   "source": []
  },
  {
   "cell_type": "markdown",
   "metadata": {},
   "source": [
    "### Sklearn API version"
   ]
  },
  {
   "cell_type": "code",
   "execution_count": 72,
   "metadata": {
    "scrolled": true
   },
   "outputs": [
    {
     "name": "stdout",
     "output_type": "stream",
     "text": [
      "[0]\tvalidation_0-auc:0.686\tvalidation_1-auc:0.665756\n",
      "Multiple eval metrics have been passed: 'validation_1-auc' will be used for early stopping.\n",
      "\n",
      "Will train until validation_1-auc hasn't improved in 100 rounds.\n",
      "[1]\tvalidation_0-auc:0.7018\tvalidation_1-auc:0.681969\n",
      "[2]\tvalidation_0-auc:0.74452\tvalidation_1-auc:0.727804\n",
      "[3]\tvalidation_0-auc:0.752438\tvalidation_1-auc:0.736261\n",
      "[4]\tvalidation_0-auc:0.755063\tvalidation_1-auc:0.739201\n",
      "[5]\tvalidation_0-auc:0.760164\tvalidation_1-auc:0.74502\n",
      "[6]\tvalidation_0-auc:0.763063\tvalidation_1-auc:0.747877\n",
      "[7]\tvalidation_0-auc:0.768534\tvalidation_1-auc:0.756772\n",
      "[8]\tvalidation_0-auc:0.770506\tvalidation_1-auc:0.758567\n",
      "[9]\tvalidation_0-auc:0.771892\tvalidation_1-auc:0.760054\n",
      "[10]\tvalidation_0-auc:0.771942\tvalidation_1-auc:0.760767\n",
      "[11]\tvalidation_0-auc:0.780728\tvalidation_1-auc:0.769911\n",
      "[12]\tvalidation_0-auc:0.7814\tvalidation_1-auc:0.770927\n",
      "[13]\tvalidation_0-auc:0.793316\tvalidation_1-auc:0.78209\n",
      "[14]\tvalidation_0-auc:0.79627\tvalidation_1-auc:0.785995\n",
      "[15]\tvalidation_0-auc:0.804161\tvalidation_1-auc:0.794426\n",
      "[16]\tvalidation_0-auc:0.804675\tvalidation_1-auc:0.79469\n",
      "[17]\tvalidation_0-auc:0.806228\tvalidation_1-auc:0.795834\n",
      "[18]\tvalidation_0-auc:0.815864\tvalidation_1-auc:0.806134\n",
      "[19]\tvalidation_0-auc:0.816542\tvalidation_1-auc:0.806827\n",
      "[20]\tvalidation_0-auc:0.817681\tvalidation_1-auc:0.8081\n",
      "[21]\tvalidation_0-auc:0.820405\tvalidation_1-auc:0.809451\n",
      "[22]\tvalidation_0-auc:0.828616\tvalidation_1-auc:0.816233\n",
      "[23]\tvalidation_0-auc:0.830657\tvalidation_1-auc:0.818793\n",
      "[24]\tvalidation_0-auc:0.832733\tvalidation_1-auc:0.821148\n",
      "[25]\tvalidation_0-auc:0.834756\tvalidation_1-auc:0.822865\n",
      "[26]\tvalidation_0-auc:0.83684\tvalidation_1-auc:0.823947\n",
      "[27]\tvalidation_0-auc:0.837901\tvalidation_1-auc:0.825984\n",
      "[28]\tvalidation_0-auc:0.838492\tvalidation_1-auc:0.826324\n",
      "[29]\tvalidation_0-auc:0.838805\tvalidation_1-auc:0.826738\n",
      "[30]\tvalidation_0-auc:0.840679\tvalidation_1-auc:0.828413\n",
      "[31]\tvalidation_0-auc:0.842901\tvalidation_1-auc:0.832617\n",
      "[32]\tvalidation_0-auc:0.843468\tvalidation_1-auc:0.832852\n",
      "[33]\tvalidation_0-auc:0.843726\tvalidation_1-auc:0.833057\n",
      "[34]\tvalidation_0-auc:0.844081\tvalidation_1-auc:0.833429\n",
      "[35]\tvalidation_0-auc:0.849193\tvalidation_1-auc:0.837508\n",
      "[36]\tvalidation_0-auc:0.849589\tvalidation_1-auc:0.837671\n",
      "[37]\tvalidation_0-auc:0.849906\tvalidation_1-auc:0.837867\n",
      "[38]\tvalidation_0-auc:0.854156\tvalidation_1-auc:0.838334\n",
      "[39]\tvalidation_0-auc:0.854925\tvalidation_1-auc:0.83925\n",
      "[40]\tvalidation_0-auc:0.856841\tvalidation_1-auc:0.840801\n",
      "[41]\tvalidation_0-auc:0.857523\tvalidation_1-auc:0.841345\n",
      "[42]\tvalidation_0-auc:0.859226\tvalidation_1-auc:0.844119\n",
      "[43]\tvalidation_0-auc:0.861471\tvalidation_1-auc:0.84614\n",
      "[44]\tvalidation_0-auc:0.864616\tvalidation_1-auc:0.849276\n",
      "[45]\tvalidation_0-auc:0.867248\tvalidation_1-auc:0.850615\n",
      "[46]\tvalidation_0-auc:0.868057\tvalidation_1-auc:0.851195\n",
      "[47]\tvalidation_0-auc:0.868946\tvalidation_1-auc:0.851173\n",
      "[48]\tvalidation_0-auc:0.869776\tvalidation_1-auc:0.851934\n",
      "[49]\tvalidation_0-auc:0.870942\tvalidation_1-auc:0.852984\n",
      "[50]\tvalidation_0-auc:0.872274\tvalidation_1-auc:0.854021\n",
      "[51]\tvalidation_0-auc:0.873144\tvalidation_1-auc:0.854663\n",
      "[52]\tvalidation_0-auc:0.874483\tvalidation_1-auc:0.855391\n",
      "[53]\tvalidation_0-auc:0.875118\tvalidation_1-auc:0.856225\n",
      "[54]\tvalidation_0-auc:0.877171\tvalidation_1-auc:0.857781\n",
      "[55]\tvalidation_0-auc:0.878259\tvalidation_1-auc:0.859516\n",
      "[56]\tvalidation_0-auc:0.879342\tvalidation_1-auc:0.860055\n",
      "[57]\tvalidation_0-auc:0.880299\tvalidation_1-auc:0.86086\n",
      "[58]\tvalidation_0-auc:0.881874\tvalidation_1-auc:0.862224\n",
      "[59]\tvalidation_0-auc:0.882416\tvalidation_1-auc:0.862469\n",
      "[60]\tvalidation_0-auc:0.883438\tvalidation_1-auc:0.863104\n",
      "[61]\tvalidation_0-auc:0.884138\tvalidation_1-auc:0.8626\n",
      "[62]\tvalidation_0-auc:0.885168\tvalidation_1-auc:0.863164\n",
      "[63]\tvalidation_0-auc:0.885448\tvalidation_1-auc:0.863764\n",
      "[64]\tvalidation_0-auc:0.886248\tvalidation_1-auc:0.864056\n",
      "[65]\tvalidation_0-auc:0.886559\tvalidation_1-auc:0.864279\n",
      "[66]\tvalidation_0-auc:0.8871\tvalidation_1-auc:0.864451\n",
      "[67]\tvalidation_0-auc:0.888325\tvalidation_1-auc:0.864587\n",
      "[68]\tvalidation_0-auc:0.888912\tvalidation_1-auc:0.86573\n",
      "[69]\tvalidation_0-auc:0.88988\tvalidation_1-auc:0.865694\n",
      "[70]\tvalidation_0-auc:0.890636\tvalidation_1-auc:0.866336\n",
      "[71]\tvalidation_0-auc:0.890807\tvalidation_1-auc:0.86636\n",
      "[72]\tvalidation_0-auc:0.891583\tvalidation_1-auc:0.866661\n",
      "[73]\tvalidation_0-auc:0.892457\tvalidation_1-auc:0.867104\n",
      "[74]\tvalidation_0-auc:0.892811\tvalidation_1-auc:0.867316\n",
      "[75]\tvalidation_0-auc:0.893199\tvalidation_1-auc:0.867449\n",
      "[76]\tvalidation_0-auc:0.89369\tvalidation_1-auc:0.867366\n",
      "[77]\tvalidation_0-auc:0.894045\tvalidation_1-auc:0.867944\n",
      "[78]\tvalidation_0-auc:0.894418\tvalidation_1-auc:0.868331\n",
      "[79]\tvalidation_0-auc:0.894715\tvalidation_1-auc:0.868391\n",
      "[80]\tvalidation_0-auc:0.89499\tvalidation_1-auc:0.868525\n",
      "[81]\tvalidation_0-auc:0.895475\tvalidation_1-auc:0.868858\n",
      "[82]\tvalidation_0-auc:0.896014\tvalidation_1-auc:0.869138\n",
      "[83]\tvalidation_0-auc:0.89619\tvalidation_1-auc:0.86922\n",
      "[84]\tvalidation_0-auc:0.89665\tvalidation_1-auc:0.869287\n",
      "[85]\tvalidation_0-auc:0.896874\tvalidation_1-auc:0.869592\n",
      "[86]\tvalidation_0-auc:0.897276\tvalidation_1-auc:0.869714\n",
      "[87]\tvalidation_0-auc:0.897677\tvalidation_1-auc:0.869904\n",
      "[88]\tvalidation_0-auc:0.897805\tvalidation_1-auc:0.869951\n",
      "[89]\tvalidation_0-auc:0.898413\tvalidation_1-auc:0.869867\n",
      "[90]\tvalidation_0-auc:0.898662\tvalidation_1-auc:0.870224\n",
      "[91]\tvalidation_0-auc:0.898779\tvalidation_1-auc:0.870429\n",
      "[92]\tvalidation_0-auc:0.899137\tvalidation_1-auc:0.87081\n",
      "[93]\tvalidation_0-auc:0.899188\tvalidation_1-auc:0.870795\n",
      "[94]\tvalidation_0-auc:0.899495\tvalidation_1-auc:0.870837\n",
      "[95]\tvalidation_0-auc:0.899728\tvalidation_1-auc:0.871047\n",
      "[96]\tvalidation_0-auc:0.900004\tvalidation_1-auc:0.871036\n",
      "[97]\tvalidation_0-auc:0.900134\tvalidation_1-auc:0.871113\n",
      "[98]\tvalidation_0-auc:0.900384\tvalidation_1-auc:0.871167\n",
      "[99]\tvalidation_0-auc:0.900708\tvalidation_1-auc:0.871277\n"
     ]
    },
    {
     "data": {
      "image/png": "[encoded data removed]",
      "text/plain": [
       "<matplotlib.figure.Figure at 0xd7ed1d0>"
      ]
     },
     "metadata": {},
     "output_type": "display_data"
    }
   ],
   "source": [
    "mod = xgb.XGBClassifier(max_depth=8, subsample=0.7, colsample_bytree=0.7, objective='binary:logistic', learning_rate=0.05, \n",
    "                       max_delta_step=0.5, seed=0)\n",
    "fitted = mod.fit(train_X_std, train_y, \n",
    "                 eval_set=[(train_X_std, train_y), (test_X_std, test_y)], \n",
    "                 eval_metric='auc',\n",
    "                 early_stopping_rounds=100,\n",
    "                 verbose=True)\n",
    "\n",
    "fig, ax = plt.subplots(figsize=(12,18))\n",
    "xgb.plot_importance(fitted, height=0.8, ax=ax)\n",
    "plt.show()"
   ]
  },
  {
   "cell_type": "markdown",
   "metadata": {},
   "source": [
    "### Confusion matrix and ROC Curve"
   ]
  },
  {
   "cell_type": "code",
   "execution_count": 75,
   "metadata": {},
   "outputs": [
    {
     "name": "stdout",
     "output_type": "stream",
     "text": [
      "Accuracy: 86.44%\n"
     ]
    },
    {
     "data": {
      "image/png": "[encoded data removed]",
      "text/plain": [
       "<matplotlib.figure.Figure at 0xed796d8>"
      ]
     },
     "metadata": {},
     "output_type": "display_data"
    },
    {
     "name": "stdout",
     "output_type": "stream",
     "text": [
      "             precision    recall  f1-score   support\n",
      "\n",
      "          0       0.89      0.95      0.92     40529\n",
      "          1       0.71      0.48      0.58      9471\n",
      "\n",
      "avg / total       0.85      0.86      0.85     50000\n",
      "\n"
     ]
    }
   ],
   "source": [
    "#from sklearn.metrics import accuracy_score, confusion_matrix, roc_curve, auc\n",
    "pred_y = fitted.predict(test_X_std)\n",
    "\n",
    "\n",
    "\n",
    "\n",
    "predictions = [round(value) for value in pred_y]\n",
    "# evaluate predictions\n",
    "accuracy = accuracy_score(test_y, pred_y)\n",
    "print(\"Accuracy: %.2f%%\" % (accuracy * 100.0))\n",
    "\n",
    "#conmat = confusion_matrix(y_test, predictions)\n",
    "#print(conmat)\n",
    "#plt.figure()\n",
    "#helper.plot_confusion_matrix(conmat,classes = np.array(['0','1']), title='Confusion Matrix, no Normalization')\n",
    "\n",
    "fpr, tpr, _ = roc_curve(test_y, predictions)\n",
    "roc_auc = auc(fpr, tpr)\n",
    "\n",
    "plt.title('Receiver Operating Characteristic')\n",
    "plt.plot(fpr, tpr, 'b', label = 'AUC = %0.2f' % roc_auc)\n",
    "plt.legend(loc = 'lower right')\n",
    "plt.plot([0, 1], [0, 1],'r--')\n",
    "plt.xlim([0, 1])\n",
    "plt.ylim([0, 1])\n",
    "plt.ylabel('True Positive Rate')\n",
    "plt.xlabel('False Positive Rate')\n",
    "plt.show()\n",
    "\n",
    "print(classification_report(test_y, predictions))\n"
   ]
  },
  {
   "cell_type": "markdown",
   "metadata": {},
   "source": [
    "### Parameter Tuning Version"
   ]
  },
  {
   "cell_type": "code",
   "execution_count": null,
   "metadata": {
    "collapsed": true
   },
   "outputs": [],
   "source": [
    "def modelfit(alg, dtrain, dlabels, feature_names, useTrainCV=True, cv_folds=5, early_stopping_rounds=50):\n",
    "\n",
    "    if useTrainCV:\n",
    "        xgb_param = alg.get_xgb_params()\n",
    "        xgtrain = xgb.DMatrix(dtrain.values, label=dlabels.values, feature_names = feature_names)\n",
    "        cvresult = xgb.cv(xgb_param, xgtrain, num_boost_round=alg.get_params()['n_estimators'], nfold=cv_folds,\n",
    "                          metrics='auc', early_stopping_rounds=early_stopping_rounds, verbose_eval=False)\n",
    "        alg.set_params(n_estimators=cvresult.shape[0])\n",
    "\n",
    "    alg.fit(dtrain, dlabels, eval_metric='auc')\n",
    "\n",
    "    dtrain_predictions = alg.predict(dtrain)\n",
    "    dtrain_predprob = alg.predict_proba(dtrain)[:,1]\n",
    "\n",
    "    #Print model report:\n",
    "    print(\"\\nModel Report\")\n",
    "    print(\"Accuracy : %.4g\" % accuracy_score(dlabels.values, dtrain_predictions))\n",
    "    print(\"AUC Score (Train): %f\" % roc_auc_score(dlabels.values, dtrain_predprob))\n",
    "\n",
    "    feat_imp = pd.Series(alg.booster().get_fscore()).sort_values(ascending=False)\n",
    "    feat_imp.plot(kind='bar', title='Feature Importances')\n",
    "    plt.ylabel('Feature Importance Score')\n",
    "    \n",
    "    \n",
    "    "
   ]
  },
  {
   "cell_type": "code",
   "execution_count": null,
   "metadata": {
    "scrolled": false
   },
   "outputs": [],
   "source": [
    "xgb1 = xgb.XGBClassifier(\n",
    "    learning_rate = 0.07,\n",
    "    n_estimators = 1000,\n",
    "    max_depth = 5,\n",
    "    min_child_weight = 1,\n",
    "    gamma = 0,\n",
    "    subsample = 0.7,\n",
    "    colsample_bytree = 0.7,\n",
    "    objective = 'binary:logistic',\n",
    "    scale_pos_weight = 1,\n",
    "    seed = 27)\n",
    "\n",
    "modelfit(xgb1, train_X_std, train_y, collist)"
   ]
  },
  {
   "cell_type": "code",
   "execution_count": null,
   "metadata": {},
   "outputs": [],
   "source": [
    "auc_weighted = make_scorer(roc_auc_score, average='weighted')\n",
    "auc_weighted"
   ]
  },
  {
   "cell_type": "code",
   "execution_count": null,
   "metadata": {},
   "outputs": [],
   "source": [
    "param_test1 = {\n",
    "    'max_depth':list(range(3,10,2)),\n",
    "    'min_child_weight':list(range(1,6,2))\n",
    "}\n",
    "\n",
    "gsearch1 = GridSearchCV(estimator = xgb.XGBClassifier( learning_rate =0.1, n_estimators=300, max_depth=5,\n",
    "     min_child_weight=1, gamma=0, subsample=0.7, colsample_bytree=0.7,\n",
    "     objective= 'binary:logistic', nthread=4, scale_pos_weight=1, seed=27),\n",
    "     param_grid = param_test1, scoring='f1', iid=False, cv=5)\n",
    "\n",
    "gsearch1.fit(train_X.values, train_y.values)\n",
    "\n",
    "gsearch1.grid_scores_, gsearch1.best_params_, gsearch1.best_score_"
   ]
  },
  {
   "cell_type": "code",
   "execution_count": null,
   "metadata": {},
   "outputs": [],
   "source": [
    "# max_depth = 5\n",
    "\n",
    "param_test2 = {\n",
    "    'min_child_weight':[2,3,4,5],\n",
    "    'max_depth':[2,3,4,5]\n",
    "}\n",
    "\n",
    "gsearch2 = GridSearchCV(estimator = xgb.XGBClassifier( learning_rate =0.07, n_estimators=300, max_depth=4,\n",
    "     min_child_weight=4, gamma=0, subsample=0.7, colsample_bytree=0.7,\n",
    "     objective= 'binary:logistic', nthread=4, scale_pos_weight=1, seed=27),\n",
    "     param_grid = param_test2, scoring ='f1', iid=False, cv=5)\n",
    "\n",
    "gsearch2.fit(train_X.values, train_y.values)\n",
    "\n",
    "gsearch2.grid_scores_, gsearch2.best_params_, gsearch2.best_score_"
   ]
  },
  {
   "cell_type": "code",
   "execution_count": null,
   "metadata": {},
   "outputs": [],
   "source": [
    "#max_depth = 4\n",
    "#min_child_weight = 4\n",
    "\n",
    "param_test3 = {\n",
    "    'gamma':[i/10.0 for i in range(0, 5)]\n",
    "}\n",
    "\n",
    "gsearch3 = GridSearchCV(estimator = xgb.XGBClassifier( learning_rate =0.07, n_estimators=300, max_depth=4,\n",
    "     min_child_weight=4, gamma=0, subsample=0.7, colsample_bytree=0.7,\n",
    "     objective= 'binary:logistic', nthread=4, scale_pos_weight=1, seed=27),\n",
    "     param_grid = param_test3, scoring = 'f1', iid=False, cv=5)\n",
    "\n",
    "gsearch3.fit(train_X.values, train_y.values)\n",
    "\n",
    "gsearch3.grid_scores_, gsearch3.best_params_, gsearch3.best_score_"
   ]
  },
  {
   "cell_type": "code",
   "execution_count": null,
   "metadata": {},
   "outputs": [],
   "source": [
    "xgb2 = xgb.XGBClassifier(\n",
    "    learning_rate = 0.07,\n",
    "    n_estimators = 1000,\n",
    "    max_depth = 4,\n",
    "    min_child_weight = 4,\n",
    "    gamma = 0.4,\n",
    "    subsample = 0.7,\n",
    "    colsample_bytree = 0.7,\n",
    "    objective = 'binary:logistic',\n",
    "    scale_pos_weight = 1,\n",
    "    seed = 27)\n",
    "\n",
    "modelfit(xgb2, train_X_std, train_y, collist)\n",
    "\n",
    "\n"
   ]
  },
  {
   "cell_type": "code",
   "execution_count": null,
   "metadata": {},
   "outputs": [],
   "source": [
    "#max_depth = 4\n",
    "#min_child_weight = 4\n",
    "#gamma = 0.4\n",
    "\n",
    "param_test4 = {\n",
    "    'subsample':[i/10.0 for i in range(3, 10)],\n",
    "    'colsample_bytree':[i/10.0 for i in range(4, 10)]\n",
    "}\n",
    "\n",
    "gsearch4 = GridSearchCV(estimator = xgb.XGBClassifier( learning_rate =0.07, n_estimators=140, max_depth=4,\n",
    "     min_child_weight=4, gamma=0.4, subsample=0.7, colsample_bytree=0.7,\n",
    "     objective= 'binary:logistic', scale_pos_weight=1, seed=27),\n",
    "     param_grid = param_test4, scoring = 'f1', iid=False, cv=5)\n",
    "\n",
    "gsearch4.fit(train_X.values, train_y.values)\n",
    "\n",
    "gsearch4.grid_scores_, gsearch4.best_params_, gsearch4.best_score_"
   ]
  },
  {
   "cell_type": "code",
   "execution_count": null,
   "metadata": {
    "scrolled": true
   },
   "outputs": [],
   "source": [
    "#max_depth = 4\n",
    "#min_child_weight = 4\n",
    "#gamma = 0.4\n",
    "#subsample = 0.4\n",
    "#colsample_bytree = 0.5\n",
    "\n",
    "param_test5 = {\n",
    "\n",
    "    'colsample_bytree':[i/100.0 for i in range(30, 65, 5)],\n",
    "    'subsample':[i/100 for i in range(30,65,5)]\n",
    "}\n",
    "\n",
    "gsearch5 = GridSearchCV(estimator = xgb.XGBClassifier( learning_rate =0.07, n_estimators=140, max_depth=4,\n",
    "     min_child_weight=4, gamma=0.4, subsample=0.4, colsample_bytree=0.5,\n",
    "     objective= 'binary:logistic', scale_pos_weight=1, seed=27),\n",
    "     param_grid = param_test5, scoring = 'f1', iid=False, cv=5)\n",
    "\n",
    "gsearch5.fit(train_X.values, train_y.values)\n",
    "\n",
    "gsearch5.grid_scores_, gsearch5.best_params_, gsearch5.best_score_"
   ]
  },
  {
   "cell_type": "code",
   "execution_count": null,
   "metadata": {},
   "outputs": [],
   "source": [
    "#max_depth = 4\n",
    "#min_child_weight = 4\n",
    "#gamma = 0.4\n",
    "#subsample = 0.4\n",
    "#colsample_bytree = 0.5\n",
    "\n",
    "param_test6 = {\n",
    "    'reg_alpha':[1e-5, 1e-2, 0.1, 1, 100]\n",
    "}\n",
    "\n",
    "gsearch6 = GridSearchCV(estimator = xgb.XGBClassifier( learning_rate =0.07, n_estimators=300, max_depth=4,\n",
    "     min_child_weight=4, gamma=0.4, subsample=0.4, colsample_bytree=0.5,\n",
    "     objective= 'binary:logistic', scale_pos_weight=1, seed=27),\n",
    "     param_grid = param_test6, scoring = 'f1', iid=False, cv=5)\n",
    "\n",
    "gsearch6.fit(train_X.values, train_y.values)\n",
    "\n",
    "gsearch6.grid_scores_, gsearch6.best_params_, gsearch6.best_score_"
   ]
  },
  {
   "cell_type": "code",
   "execution_count": null,
   "metadata": {},
   "outputs": [],
   "source": [
    "#max_depth = 4\n",
    "#min_child_weight = 4\n",
    "#gamma = 0.4\n",
    "#subsample = 0.4\n",
    "#colsample_bytree = 0.5\n",
    "#reg_alpha = 100\n",
    "\n",
    "param_test7 = {\n",
    "    'reg_alpha':[80, 90, 100, 110, 120, 130, 140]\n",
    "}\n",
    "\n",
    "gsearch7 = GridSearchCV(estimator = xgb.XGBClassifier( learning_rate =0.07, n_estimators=300, max_depth=4,\n",
    "     min_child_weight=4, gamma=0.4, subsample=0.4, colsample_bytree=0.5,\n",
    "     objective= 'binary:logistic', scale_pos_weight=1, seed=27),\n",
    "     param_grid = param_test7, scoring = 'f1', iid=False, cv=5)\n",
    "\n",
    "gsearch7.fit(train_X.values, train_y.values)\n",
    "\n",
    "gsearch7.grid_scores_, gsearch7.best_params_, gsearch7.best_score_"
   ]
  },
  {
   "cell_type": "code",
   "execution_count": null,
   "metadata": {},
   "outputs": [],
   "source": [
    "xgb3 = xgb.XGBClassifier(\n",
    "    learning_rate = 0.01,\n",
    "    n_estimators = 1000,\n",
    "    max_depth = 4,\n",
    "    min_child_weight = 4,\n",
    "    gamma = 0.4,\n",
    "    subsample = 0.4,\n",
    "    colsample_bytree = 0.55,\n",
    "    objective = 'binary:logistic',\n",
    "    scale_pos_weight = 1,\n",
    "    reg_alpha=100,\n",
    "    seed = 27)\n",
    "\n",
    "modelfit(xgb3, train_X_std, train_y, collist)"
   ]
  },
  {
   "cell_type": "code",
   "execution_count": null,
   "metadata": {},
   "outputs": [],
   "source": [
    "tuned_model = xgb.XGBClassifier(learning_rate = 0.01,\n",
    "                        n_estimators = 1000,\n",
    "                        max_depth = 4,\n",
    "                        min_child_weight = 4,\n",
    "                        gamma = 0.4,\n",
    "                        subsample = 0.4,\n",
    "                        colsample_bytree = 0.5,\n",
    "                        objective = 'binary:logistic',\n",
    "                        scale_pos_weight = 1,\n",
    "                        reg_alpha=100,\n",
    "                        seed = 27)\n",
    "fitted = tuned_model.fit(train_X_std, train_y, \n",
    "                 eval_set=[(train_X_std, train_y), (test_X_std, test_y)], \n",
    "                 eval_metric='error',\n",
    "                 early_stopping_rounds=50,\n",
    "                 verbose=True)\n",
    "\n",
    "fig, ax = plt.subplots(figsize=(12,18))\n",
    "xgb.plot_importance(fitted, height=0.8, ax=ax)\n",
    "plt.show()"
   ]
  },
  {
   "cell_type": "code",
   "execution_count": null,
   "metadata": {},
   "outputs": [],
   "source": [
    "pred_y = fitted.predict(test_X_std)\n",
    "\n",
    "predictions = [round(value) for value in pred_y]\n",
    "# evaluate predictions\n",
    "accuracy = accuracy_score(test_y, predictions)\n",
    "print(\"Accuracy: %.2f%%\" % (accuracy * 100.0))\n",
    "\n",
    "#conmat = confusion_matrix(y_test, predictions)\n",
    "#print(conmat)\n",
    "#plt.figure()\n",
    "#helper.plot_confusion_matrix(conmat,classes = np.array(['0','1']), title='Confusion Matrix, no Normalization')\n",
    "\n",
    "fpr, tpr, _ = roc_curve(test_y, predictions)\n",
    "roc_auc = auc(fpr, tpr)\n",
    "\n",
    "plt.title('Receiver Operating Characteristic')\n",
    "plt.plot(fpr, tpr, 'b', label = 'AUC = %0.2f' % roc_auc)\n",
    "plt.legend(loc = 'lower right')\n",
    "plt.plot([0, 1], [0, 1],'r--')\n",
    "plt.xlim([0, 1])\n",
    "plt.ylim([0, 1])\n",
    "plt.ylabel('True Positive Rate')\n",
    "plt.xlabel('False Positive Rate')\n",
    "plt.show()"
   ]
  },
  {
   "cell_type": "markdown",
   "metadata": {},
   "source": [
    "###  Alternate Parameter tuning - only for fast running algorithms"
   ]
  },
  {
   "cell_type": "code",
   "execution_count": null,
   "metadata": {},
   "outputs": [],
   "source": [
    "\n",
    "tuned_parameters = [{\n",
    "    'learning_rate':[0.1],\n",
    "    'n_estimators': [150],\n",
    "    'objective':['binary:logistic'],\n",
    "    'scale_pos_weight':[1],\n",
    "    'max_depth':list(range(3,10,2)),\n",
    "    'min_child_weight':list(range(1,6,2)),\n",
    "    'subsample':[i/10.0 for i in range(3, 10)],\n",
    "    'colsample_bytree':[i/10.0 for i in range(4, 10)],\n",
    "    'gamma':[i/10.0 for i in range(0, 5)],\n",
    "    'reg_alpha':[1e-5, 1e-2, 0.1, 1, 100]\n",
    "    \n",
    "}]\n",
    "scores = ['precision', 'recall']\n",
    "\n",
    "for score in scores:\n",
    "    print(\"# Tuning hyper-parameters for %s\" % score)\n",
    "    print()\n",
    "\n",
    "    clf = GridSearchCV(xgb.XGBClassifier(), tuned_parameters, cv=5,\n",
    "                       scoring='%s_macro' % score)\n",
    "    clf.fit(train_X_std, train_y)\n",
    "\n",
    "    print(\"Best parameters set found on development set:\")\n",
    "    print()\n",
    "    print(clf.best_params_)\n",
    "    print()\n",
    "    print(\"Grid scores on development set:\")\n",
    "    print()\n",
    "    means = clf.cv_results_['mean_test_score']\n",
    "    stds = clf.cv_results_['std_test_score']\n",
    "    for mean, std, params in zip(means, stds, clf.cv_results_['params']):\n",
    "        print(\"%0.3f (+/-%0.03f) for %r\"\n",
    "              % (mean, std * 2, params))\n",
    "    print()\n",
    "\n",
    "    print(\"Detailed classification report:\")\n",
    "    print()\n",
    "    print(\"The model is trained on the full development set.\")\n",
    "    print(\"The scores are computed on the full evaluation set.\")\n",
    "    print()\n",
    "    y_true, y_pred = test_y, clf.predict(test_X_std)\n",
    "    print(classification_report(y_true, y_pred))\n",
    "    print()"
   ]
  },
  {
   "cell_type": "markdown",
   "metadata": {},
   "source": [
    "### sklearn mlpclassifier"
   ]
  },
  {
   "cell_type": "code",
   "execution_count": null,
   "metadata": {
    "collapsed": true
   },
   "outputs": [],
   "source": [
    "from sklearn.neural_network import MLPClassifier"
   ]
  },
  {
   "cell_type": "code",
   "execution_count": null,
   "metadata": {
    "scrolled": true
   },
   "outputs": [],
   "source": [
    "\n",
    "clf = MLPClassifier(activation='logistic', early_stopping=True, learning_rate='adaptive', learning_rate_init=.0001, \n",
    "                    verbose=True, validation_fraction=0.1)\n",
    "clf.fit(train_X_std, train_y)"
   ]
  },
  {
   "cell_type": "code",
   "execution_count": null,
   "metadata": {},
   "outputs": [],
   "source": [
    "pred_y = clf.predict(test_X_std)\n",
    "\n",
    "accuracy = accuracy_score(test_y, pred_y)\n",
    "print(\"Accuracy: %.2f%%\" % (accuracy * 100.0))\n",
    "\n",
    "\n",
    "fpr, tpr, _ = roc_curve(test_y, pred_y)\n",
    "roc_auc = auc(fpr, tpr)\n",
    "\n",
    "plt.title('Receiver Operating Characteristic')\n",
    "plt.plot(fpr, tpr, 'b', label = 'AUC = %0.2f' % roc_auc)\n",
    "plt.legend(loc = 'lower right')\n",
    "plt.plot([0, 1], [0, 1],'r--')\n",
    "plt.xlim([0, 1])\n",
    "plt.ylim([0, 1])\n",
    "plt.ylabel('True Positive Rate')\n",
    "plt.xlabel('False Positive Rate')\n",
    "plt.show()"
   ]
  },
  {
   "cell_type": "code",
   "execution_count": null,
   "metadata": {},
   "outputs": [],
   "source": [
    "clf.predict_proba(test_X_std)"
   ]
  },
  {
   "cell_type": "code",
   "execution_count": null,
   "metadata": {},
   "outputs": [],
   "source": [
    "np.all(np.isfinite(test_X))"
   ]
  },
  {
   "cell_type": "code",
   "execution_count": null,
   "metadata": {},
   "outputs": [],
   "source": [
    "np.any(np.isnan(test_X))"
   ]
  },
  {
   "cell_type": "code",
   "execution_count": null,
   "metadata": {
    "collapsed": true
   },
   "outputs": [],
   "source": []
  },
  {
   "cell_type": "code",
   "execution_count": null,
   "metadata": {
    "collapsed": true
   },
   "outputs": [],
   "source": []
  }
 ],
 "metadata": {
  "kernelspec": {
   "display_name": "Python 3",
   "language": "python",
   "name": "python3"
  },
  "language_info": {
   "codemirror_mode": {
    "name": "ipython",
    "version": 3
   },
   "file_extension": ".py",
   "mimetype": "text/x-python",
   "name": "python",
   "nbconvert_exporter": "python",
   "pygments_lexer": "ipython3",
   "version": "3.6.1"
  }
 },
 "nbformat": 4,
 "nbformat_minor": 2
}

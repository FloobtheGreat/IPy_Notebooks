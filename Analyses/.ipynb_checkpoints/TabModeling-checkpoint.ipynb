{
 "cells": [
  {
   "cell_type": "code",
   "execution_count": 1,
   "metadata": {
    "collapsed": true
   },
   "outputs": [],
   "source": [
    "import sys\n",
    "sys.path.insert(0, r\"C:\\users\\pairwin\\Documents\\Github\\HelperPI\")\n",
    "\n",
    "import HelperPI\n",
    "import seaborn as sns\n",
    "import pandas as pd\n",
    "import scipy.stats as stats\n",
    "import matplotlib.pyplot as plt\n",
    "import statsmodels.formula.api as sts\n",
    "import numpy as np"
   ]
  },
  {
   "cell_type": "code",
   "execution_count": 2,
   "metadata": {},
   "outputs": [
    {
     "name": "stderr",
     "output_type": "stream",
     "text": [
      "INFO:root:Initializing...\n"
     ]
    }
   ],
   "source": [
    "helper = HelperPI.Helper()"
   ]
  },
  {
   "cell_type": "code",
   "execution_count": 7,
   "metadata": {
    "collapsed": true
   },
   "outputs": [],
   "source": [
    "sql = helper.getSQL(r\"C:\\users\\pairwin\\Documents\\GitHub\\IPy_Notebooks\\SQL\\TAB_MODELING.sql\")"
   ]
  },
  {
   "cell_type": "code",
   "execution_count": 8,
   "metadata": {},
   "outputs": [
    {
     "name": "stderr",
     "output_type": "stream",
     "text": [
      "INFO:root:Reading data...\n",
      "INFO:root:Data read complete...\n",
      "INFO:root:Read: 100000 rows.\n"
     ]
    },
    {
     "name": "stdout",
     "output_type": "stream",
     "text": [
      "                  Count Column Type\n",
      "0            DATE_VALUE      object\n",
      "1                RECORD      object\n",
      "2            MEDHINC_CY     float64\n",
      "3             MEDAGE_CY     float64\n",
      "4            CLOSEST_BP     float64\n",
      "5           CLOSEST_CAB     float64\n",
      "6     MALES_IN_HOUSHOLD       int64\n",
      "7   FEMALES_IN_HOUSHOLD       int64\n",
      "8      REWARDS_CUSTOMER       int64\n",
      "9      DAYS_AS_CUSTOMER       int64\n",
      "10   TOTAL_TRANSACTIONS     float64\n",
      "11     REW_TRANSACTIONS     float64\n",
      "12          TOTAL_SPEND     float64\n",
      "13  DAYS_SINCE_PURCHASE       int64\n",
      "14     TARGET_VALUE12MO     float64\n",
      "15  TARGET_PURCH_NEXT15       int64\n"
     ]
    }
   ],
   "source": [
    "base, dtypesdf = helper.readData(sql)"
   ]
  },
  {
   "cell_type": "code",
   "execution_count": 11,
   "metadata": {
    "collapsed": true
   },
   "outputs": [],
   "source": [
    "train, test = helper.splitData(base, .50)"
   ]
  },
  {
   "cell_type": "code",
   "execution_count": 30,
   "metadata": {},
   "outputs": [
    {
     "data": {
      "text/html": [
       "<div>\n",
       "<style>\n",
       "    .dataframe thead tr:only-child th {\n",
       "        text-align: right;\n",
       "    }\n",
       "\n",
       "    .dataframe thead th {\n",
       "        text-align: left;\n",
       "    }\n",
       "\n",
       "    .dataframe tbody tr th {\n",
       "        vertical-align: top;\n",
       "    }\n",
       "</style>\n",
       "<table border=\"1\" class=\"dataframe\">\n",
       "  <thead>\n",
       "    <tr style=\"text-align: right;\">\n",
       "      <th></th>\n",
       "      <th>MEDHINC_CY</th>\n",
       "      <th>MEDAGE_CY</th>\n",
       "      <th>CLOSEST_BP</th>\n",
       "      <th>MALES_IN_HOUSHOLD</th>\n",
       "      <th>FEMALES_IN_HOUSHOLD</th>\n",
       "      <th>REWARDS_CUSTOMER</th>\n",
       "      <th>DAYS_AS_CUSTOMER</th>\n",
       "      <th>TOTAL_TRANSACTIONS</th>\n",
       "      <th>REW_TRANSACTIONS</th>\n",
       "      <th>TOTAL_SPEND</th>\n",
       "      <th>DAYS_SINCE_PURCHASE</th>\n",
       "      <th>TARGET_PURCH_NEXT15</th>\n",
       "    </tr>\n",
       "  </thead>\n",
       "  <tbody>\n",
       "    <tr>\n",
       "      <th>count</th>\n",
       "      <td>48142.000000</td>\n",
       "      <td>48142.000000</td>\n",
       "      <td>48142.000000</td>\n",
       "      <td>48142.000000</td>\n",
       "      <td>48142.000000</td>\n",
       "      <td>48142.000000</td>\n",
       "      <td>48142.000000</td>\n",
       "      <td>48142.000000</td>\n",
       "      <td>48142.000000</td>\n",
       "      <td>48142.000000</td>\n",
       "      <td>48142.000000</td>\n",
       "      <td>48142.000000</td>\n",
       "    </tr>\n",
       "    <tr>\n",
       "      <th>mean</th>\n",
       "      <td>58369.214657</td>\n",
       "      <td>39.492086</td>\n",
       "      <td>33.001681</td>\n",
       "      <td>0.660338</td>\n",
       "      <td>0.336629</td>\n",
       "      <td>0.358523</td>\n",
       "      <td>2185.297744</td>\n",
       "      <td>8.075589</td>\n",
       "      <td>4.787732</td>\n",
       "      <td>691.904021</td>\n",
       "      <td>1207.818558</td>\n",
       "      <td>0.186698</td>\n",
       "    </tr>\n",
       "    <tr>\n",
       "      <th>std</th>\n",
       "      <td>23094.784448</td>\n",
       "      <td>5.770923</td>\n",
       "      <td>32.543217</td>\n",
       "      <td>0.572052</td>\n",
       "      <td>0.493378</td>\n",
       "      <td>0.479572</td>\n",
       "      <td>1173.024207</td>\n",
       "      <td>25.080390</td>\n",
       "      <td>23.221742</td>\n",
       "      <td>1828.917288</td>\n",
       "      <td>1017.521275</td>\n",
       "      <td>0.389673</td>\n",
       "    </tr>\n",
       "    <tr>\n",
       "      <th>min</th>\n",
       "      <td>0.000000</td>\n",
       "      <td>0.000000</td>\n",
       "      <td>0.070000</td>\n",
       "      <td>0.000000</td>\n",
       "      <td>0.000000</td>\n",
       "      <td>0.000000</td>\n",
       "      <td>50.000000</td>\n",
       "      <td>1.000000</td>\n",
       "      <td>0.000000</td>\n",
       "      <td>0.010000</td>\n",
       "      <td>5.000000</td>\n",
       "      <td>0.000000</td>\n",
       "    </tr>\n",
       "    <tr>\n",
       "      <th>25%</th>\n",
       "      <td>41579.000000</td>\n",
       "      <td>36.000000</td>\n",
       "      <td>10.680000</td>\n",
       "      <td>0.000000</td>\n",
       "      <td>0.000000</td>\n",
       "      <td>0.000000</td>\n",
       "      <td>1072.000000</td>\n",
       "      <td>1.000000</td>\n",
       "      <td>0.000000</td>\n",
       "      <td>61.597500</td>\n",
       "      <td>333.000000</td>\n",
       "      <td>0.000000</td>\n",
       "    </tr>\n",
       "    <tr>\n",
       "      <th>50%</th>\n",
       "      <td>53709.000000</td>\n",
       "      <td>39.000000</td>\n",
       "      <td>22.000000</td>\n",
       "      <td>1.000000</td>\n",
       "      <td>0.000000</td>\n",
       "      <td>0.000000</td>\n",
       "      <td>2302.000000</td>\n",
       "      <td>3.000000</td>\n",
       "      <td>0.000000</td>\n",
       "      <td>173.500000</td>\n",
       "      <td>884.000000</td>\n",
       "      <td>0.000000</td>\n",
       "    </tr>\n",
       "    <tr>\n",
       "      <th>75%</th>\n",
       "      <td>69462.000000</td>\n",
       "      <td>43.000000</td>\n",
       "      <td>46.120000</td>\n",
       "      <td>1.000000</td>\n",
       "      <td>1.000000</td>\n",
       "      <td>1.000000</td>\n",
       "      <td>3279.000000</td>\n",
       "      <td>6.000000</td>\n",
       "      <td>2.000000</td>\n",
       "      <td>546.897500</td>\n",
       "      <td>1915.000000</td>\n",
       "      <td>0.000000</td>\n",
       "    </tr>\n",
       "    <tr>\n",
       "      <th>max</th>\n",
       "      <td>200001.000000</td>\n",
       "      <td>76.000000</td>\n",
       "      <td>566.000000</td>\n",
       "      <td>5.000000</td>\n",
       "      <td>3.000000</td>\n",
       "      <td>1.000000</td>\n",
       "      <td>3913.000000</td>\n",
       "      <td>1466.000000</td>\n",
       "      <td>1440.000000</td>\n",
       "      <td>115515.800000</td>\n",
       "      <td>3910.000000</td>\n",
       "      <td>1.000000</td>\n",
       "    </tr>\n",
       "  </tbody>\n",
       "</table>\n",
       "</div>"
      ],
      "text/plain": [
       "          MEDHINC_CY     MEDAGE_CY    CLOSEST_BP  MALES_IN_HOUSHOLD  \\\n",
       "count   48142.000000  48142.000000  48142.000000       48142.000000   \n",
       "mean    58369.214657     39.492086     33.001681           0.660338   \n",
       "std     23094.784448      5.770923     32.543217           0.572052   \n",
       "min         0.000000      0.000000      0.070000           0.000000   \n",
       "25%     41579.000000     36.000000     10.680000           0.000000   \n",
       "50%     53709.000000     39.000000     22.000000           1.000000   \n",
       "75%     69462.000000     43.000000     46.120000           1.000000   \n",
       "max    200001.000000     76.000000    566.000000           5.000000   \n",
       "\n",
       "       FEMALES_IN_HOUSHOLD  REWARDS_CUSTOMER  DAYS_AS_CUSTOMER  \\\n",
       "count         48142.000000      48142.000000      48142.000000   \n",
       "mean              0.336629          0.358523       2185.297744   \n",
       "std               0.493378          0.479572       1173.024207   \n",
       "min               0.000000          0.000000         50.000000   \n",
       "25%               0.000000          0.000000       1072.000000   \n",
       "50%               0.000000          0.000000       2302.000000   \n",
       "75%               1.000000          1.000000       3279.000000   \n",
       "max               3.000000          1.000000       3913.000000   \n",
       "\n",
       "       TOTAL_TRANSACTIONS  REW_TRANSACTIONS    TOTAL_SPEND  \\\n",
       "count        48142.000000      48142.000000   48142.000000   \n",
       "mean             8.075589          4.787732     691.904021   \n",
       "std             25.080390         23.221742    1828.917288   \n",
       "min              1.000000          0.000000       0.010000   \n",
       "25%              1.000000          0.000000      61.597500   \n",
       "50%              3.000000          0.000000     173.500000   \n",
       "75%              6.000000          2.000000     546.897500   \n",
       "max           1466.000000       1440.000000  115515.800000   \n",
       "\n",
       "       DAYS_SINCE_PURCHASE  TARGET_PURCH_NEXT15  \n",
       "count         48142.000000         48142.000000  \n",
       "mean           1207.818558             0.186698  \n",
       "std            1017.521275             0.389673  \n",
       "min               5.000000             0.000000  \n",
       "25%             333.000000             0.000000  \n",
       "50%             884.000000             0.000000  \n",
       "75%            1915.000000             0.000000  \n",
       "max            3910.000000             1.000000  "
      ]
     },
     "execution_count": 30,
     "metadata": {},
     "output_type": "execute_result"
    }
   ],
   "source": [
    "\n",
    "collist = ['MEDHINC_CY','MEDAGE_CY','CLOSEST_BP','MALES_IN_HOUSHOLD','FEMALES_IN_HOUSHOLD','REWARDS_CUSTOMER',\n",
    "          'DAYS_AS_CUSTOMER','TOTAL_TRANSACTIONS','REW_TRANSACTIONS','TOTAL_SPEND','DAYS_SINCE_PURCHASE','TARGET_PURCH_NEXT15']\n",
    "train2 = train[collist].dropna()\n",
    "train2.describe()"
   ]
  },
  {
   "cell_type": "code",
   "execution_count": null,
   "metadata": {},
   "outputs": [],
   "source": [
    "sns.pairplot(train2, hue='TARGET_PURCH_NEXT15')\n",
    "sns.plt.show()"
   ]
  },
  {
   "cell_type": "code",
   "execution_count": null,
   "metadata": {
    "collapsed": true
   },
   "outputs": [],
   "source": []
  }
 ],
 "metadata": {
  "kernelspec": {
   "display_name": "Python 3",
   "language": "python",
   "name": "python3"
  },
  "language_info": {
   "codemirror_mode": {
    "name": "ipython",
    "version": 3
   },
   "file_extension": ".py",
   "mimetype": "text/x-python",
   "name": "python",
   "nbconvert_exporter": "python",
   "pygments_lexer": "ipython3",
   "version": "3.6.1"
  }
 },
 "nbformat": 4,
 "nbformat_minor": 2
}

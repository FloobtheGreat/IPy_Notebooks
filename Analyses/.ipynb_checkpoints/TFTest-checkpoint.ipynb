{
 "cells": [
  {
   "cell_type": "code",
   "execution_count": 6,
   "metadata": {
    "collapsed": true
   },
   "outputs": [],
   "source": [
    "import tensorflow as tf\n",
    "from sklearn.datasets import load_iris\n",
    "from sklearn.model_selection import train_test_split"
   ]
  },
  {
   "cell_type": "code",
   "execution_count": 7,
   "metadata": {
    "collapsed": true
   },
   "outputs": [],
   "source": [
    "irisdata = load_iris()"
   ]
  },
  {
   "cell_type": "code",
   "execution_count": 9,
   "metadata": {
    "collapsed": false
   },
   "outputs": [
    {
     "data": {
      "text/plain": [
       "array([ 5.1,  3.5,  1.4,  0.2])"
      ]
     },
     "execution_count": 9,
     "metadata": {},
     "output_type": "execute_result"
    }
   ],
   "source": [
    "irisdata.data[0]"
   ]
  },
  {
   "cell_type": "code",
   "execution_count": 13,
   "metadata": {
    "collapsed": true
   },
   "outputs": [],
   "source": [
    "X_train, X_test, y_train, y_test = train_test_split(irisdata.data, irisdata.target, test_size=0.25, random_state=1)"
   ]
  },
  {
   "cell_type": "code",
   "execution_count": 25,
   "metadata": {
    "collapsed": false
   },
   "outputs": [
    {
     "data": {
      "text/plain": [
       "array([1, 2, 2, 0, 2, 2, 1, 2, 0, 0, 0, 1, 0, 0, 2, 2, 2, 2, 2, 1, 2, 1, 0,\n",
       "       2, 2, 0, 0, 2, 0, 2, 2, 1, 1, 2, 2, 0, 1, 1, 2, 1, 2, 1, 0, 0, 0, 2,\n",
       "       0, 1, 2, 2, 0, 0, 1, 0, 2, 1, 2, 2, 1, 2, 2, 1, 0, 1, 0, 1, 1, 0, 1,\n",
       "       0, 0, 2, 2, 2, 0, 0, 1, 0, 2, 0, 2, 2, 0, 2, 0, 1, 0, 1, 1, 0, 0, 1,\n",
       "       0, 1, 1, 0, 1, 1, 1, 1, 2, 0, 0, 2, 1, 2, 1, 2, 2, 1, 2, 0])"
      ]
     },
     "execution_count": 25,
     "metadata": {},
     "output_type": "execute_result"
    }
   ],
   "source": [
    "y_train"
   ]
  },
  {
   "cell_type": "code",
   "execution_count": 18,
   "metadata": {
    "collapsed": false
   },
   "outputs": [
    {
     "data": {
      "text/plain": [
       "[_NumericColumn(key='x', shape=(4,), default_value=None, dtype=tf.float32, normalizer_fn=None)]"
      ]
     },
     "execution_count": 18,
     "metadata": {},
     "output_type": "execute_result"
    }
   ],
   "source": [
    "feature_columns = [tf.feature_column.numeric_column(\"x\", shape=[4])]\n",
    "feature_columns"
   ]
  },
  {
   "cell_type": "code",
   "execution_count": 33,
   "metadata": {
    "collapsed": false
   },
   "outputs": [
    {
     "name": "stdout",
     "output_type": "stream",
     "text": [
      "INFO:tensorflow:Using default config.\n",
      "WARNING:tensorflow:Using temporary folder as model directory: /tmp/tmp8i3evcre\n",
      "INFO:tensorflow:Using config: {'_keep_checkpoint_every_n_hours': 10000, '_session_config': None, '_model_dir': '/tmp/tmp8i3evcre', '_tf_random_seed': 1, '_keep_checkpoint_max': 5, '_save_summary_steps': 100, '_save_checkpoints_steps': None, '_save_checkpoints_secs': 600, '_log_step_count_steps': 100}\n"
     ]
    }
   ],
   "source": [
    "clf = tf.estimator.DNNClassifier(feature_columns=feature_columns,\n",
    "                                 hidden_units = [10, 20 , 10],\n",
    "                                 activation_fn= tf.nn.relu,\n",
    "                                 n_classes = 3)"
   ]
  },
  {
   "cell_type": "code",
   "execution_count": 34,
   "metadata": {
    "collapsed": true
   },
   "outputs": [],
   "source": [
    "train_input_fn = tf.estimator.inputs.numpy_input_fn(x={\"x\":X_train},\n",
    "                                                   y=y_train,\n",
    "                                                   num_epochs=None,\n",
    "                                                   shuffle=True)"
   ]
  },
  {
   "cell_type": "code",
   "execution_count": 35,
   "metadata": {
    "collapsed": false
   },
   "outputs": [
    {
     "name": "stdout",
     "output_type": "stream",
     "text": [
      "INFO:tensorflow:Create CheckpointSaverHook.\n",
      "INFO:tensorflow:Saving checkpoints for 1 into /tmp/tmp8i3evcre/model.ckpt.\n",
      "INFO:tensorflow:loss = 346.886, step = 1\n",
      "INFO:tensorflow:global_step/sec: 347.917\n",
      "INFO:tensorflow:loss = 16.6877, step = 101 (0.284 sec)\n",
      "INFO:tensorflow:global_step/sec: 237.031\n",
      "INFO:tensorflow:loss = 12.0646, step = 201 (0.421 sec)\n",
      "INFO:tensorflow:global_step/sec: 287.009\n",
      "INFO:tensorflow:loss = 5.63704, step = 301 (0.349 sec)\n",
      "INFO:tensorflow:global_step/sec: 405.921\n",
      "INFO:tensorflow:loss = 7.88956, step = 401 (0.246 sec)\n",
      "INFO:tensorflow:global_step/sec: 417.439\n",
      "INFO:tensorflow:loss = 5.89987, step = 501 (0.239 sec)\n",
      "INFO:tensorflow:global_step/sec: 421.608\n",
      "INFO:tensorflow:loss = 8.20018, step = 601 (0.237 sec)\n",
      "INFO:tensorflow:global_step/sec: 415.057\n",
      "INFO:tensorflow:loss = 7.30263, step = 701 (0.242 sec)\n",
      "INFO:tensorflow:global_step/sec: 403.805\n",
      "INFO:tensorflow:loss = 10.1731, step = 801 (0.248 sec)\n",
      "INFO:tensorflow:global_step/sec: 396.597\n",
      "INFO:tensorflow:loss = 5.02696, step = 901 (0.252 sec)\n",
      "INFO:tensorflow:Saving checkpoints for 1000 into /tmp/tmp8i3evcre/model.ckpt.\n",
      "INFO:tensorflow:Loss for final step: 5.26042.\n"
     ]
    },
    {
     "data": {
      "text/plain": [
       "<tensorflow.python.estimator.canned.dnn.DNNClassifier at 0x7f704ee22f60>"
      ]
     },
     "execution_count": 35,
     "metadata": {},
     "output_type": "execute_result"
    }
   ],
   "source": [
    "clf.train(input_fn=train_input_fn, steps=1000)"
   ]
  },
  {
   "cell_type": "code",
   "execution_count": 36,
   "metadata": {
    "collapsed": true
   },
   "outputs": [],
   "source": [
    "test_input_fn = tf.estimator.inputs.numpy_input_fn(x={\"x\":X_test},\n",
    "                                                   y=y_test,\n",
    "                                                   num_epochs=1,\n",
    "                                                   shuffle=False)"
   ]
  },
  {
   "cell_type": "code",
   "execution_count": 37,
   "metadata": {
    "collapsed": false
   },
   "outputs": [
    {
     "name": "stdout",
     "output_type": "stream",
     "text": [
      "INFO:tensorflow:Starting evaluation at 2017-11-25-04:49:09\n",
      "INFO:tensorflow:Restoring parameters from /tmp/tmp8i3evcre/model.ckpt-1000\n",
      "INFO:tensorflow:Finished evaluation at 2017-11-25-04:49:09\n",
      "INFO:tensorflow:Saving dict for global step 1000: accuracy = 1.0, average_loss = 0.0341849, global_step = 1000, loss = 1.29902\n",
      "\n",
      "Test Accuracy: 1.000000\n",
      "\n"
     ]
    }
   ],
   "source": [
    "accuracy_score = clf.evaluate(input_fn=test_input_fn)['accuracy']\n",
    "print(\"\\nTest Accuracy: {0:f}\\n\".format(accuracy_score))\n"
   ]
  },
  {
   "cell_type": "code",
   "execution_count": null,
   "metadata": {
    "collapsed": true
   },
   "outputs": [],
   "source": [
    "p"
   ]
  }
 ],
 "metadata": {
  "kernelspec": {
   "display_name": "Python 3",
   "language": "python",
   "name": "python3"
  },
  "language_info": {
   "codemirror_mode": {
    "name": "ipython",
    "version": 3
   },
   "file_extension": ".py",
   "mimetype": "text/x-python",
   "name": "python",
   "nbconvert_exporter": "python",
   "pygments_lexer": "ipython3",
   "version": "3.5.3"
  }
 },
 "nbformat": 4,
 "nbformat_minor": 2
}

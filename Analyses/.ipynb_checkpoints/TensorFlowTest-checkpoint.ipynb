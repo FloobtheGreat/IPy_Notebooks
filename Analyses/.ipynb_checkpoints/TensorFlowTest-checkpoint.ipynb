{
 "cells": [
  {
   "cell_type": "code",
   "execution_count": 77,
   "metadata": {},
   "outputs": [],
   "source": [
    "from sklearn.datasets import make_regression\n",
    "import tensorflow as tf\n",
    "import sys\n",
    "import importlib as imp\n",
    "sys.path.insert(0, r\"C:\\users\\pairwin\\Documents\\Github\\HelperPI\")\n",
    "#sys.path.insert(0, r'/home/pirwin/Git/HelperPI')\n",
    "#imp.reload(HelperPI)\n",
    "import HelperPI\n",
    "import numpy as np"
   ]
  },
  {
   "cell_type": "code",
   "execution_count": 158,
   "metadata": {},
   "outputs": [
    {
     "name": "stderr",
     "output_type": "stream",
     "text": [
      "INFO:root:Initializing...\n"
     ]
    }
   ],
   "source": [
    "helper = HelperPI.Helper()\n",
    "\n",
    "X, y = make_regression(n_samples=1000, n_features=10, n_informative=10)\n",
    "y = np.reshape(y, [y.shape[0], 1])\n",
    "\n",
    "X_train, X_test, y_train, y_test = helper.splitData2(X=X, y=y, testsize=.50)"
   ]
  },
  {
   "cell_type": "code",
   "execution_count": 191,
   "metadata": {},
   "outputs": [
    {
     "data": {
      "text/plain": [
       "(<tf.Tensor 'Placeholder_51:0' shape=(?, 10) dtype=float32>,\n",
       " <tf.Tensor 'Placeholder_52:0' shape=(?, 1) dtype=float32>)"
      ]
     },
     "execution_count": 191,
     "metadata": {},
     "output_type": "execute_result"
    }
   ],
   "source": [
    "TRAINING_EPOCHS = 10000\n",
    "LEARNING_RATE = 1e-04\n",
    "BATCH_SIZE = 100\n",
    "\n",
    "TRAIN_SIZE = X_train.shape[0]\n",
    "\n",
    "display_step = 1000\n",
    "\n",
    "INPUT_UNITS = 10\n",
    "H1_UNITS = 200\n",
    "H2_UNITS = 200\n",
    "OUTPUT_UNITS = 1\n",
    "\n",
    "\n",
    "x = tf.placeholder(tf.float32, [None, X.shape[1]])\n",
    "y = tf.placeholder(tf.float32, [None, 1]) \n",
    "x, y"
   ]
  },
  {
   "cell_type": "code",
   "execution_count": 192,
   "metadata": {},
   "outputs": [],
   "source": [
    "def model(x, weights, biases):\n",
    "    #Hidden layer 1\n",
    "    layer_1 = tf.add(tf.matmul(x, weights['h1']), biases['b1'])\n",
    "    layer_1 = tf.nn.relu(layer_1)\n",
    "\n",
    "    #hidden layer 2\n",
    "    layer_2 = tf.add(tf.matmul(layer_1, weights['h2']), biases['b2'])\n",
    "    layer_2 = tf.nn.relu(layer_2)\n",
    "\n",
    "    #output layer\n",
    "    out_layer = tf.matmul(layer_2, weights['out']) + biases['out']\n",
    "    return out_layer"
   ]
  },
  {
   "cell_type": "code",
   "execution_count": 193,
   "metadata": {},
   "outputs": [],
   "source": [
    "weights = {\n",
    "    'h1': tf.Variable(tf.random_normal([INPUT_UNITS, H1_UNITS], 0, 0.1)),\n",
    "    'h2': tf.Variable(tf.random_normal([H1_UNITS, H2_UNITS], 0, 0.1)),\n",
    "    'out': tf.Variable(tf.random_normal([H2_UNITS, OUTPUT_UNITS], 0, 0.1))\n",
    "}\n",
    "biases = {\n",
    "    'b1': tf.Variable(tf.random_normal([H1_UNITS], 0, 0.1)),\n",
    "    'b2': tf.Variable(tf.random_normal([H2_UNITS], 0, 0.1)),\n",
    "    'out': tf.Variable(tf.random_normal([OUTPUT_UNITS], 0, 0.1))\n",
    "}"
   ]
  },
  {
   "cell_type": "code",
   "execution_count": 194,
   "metadata": {},
   "outputs": [],
   "source": [
    "predictor = model(x, weights, biases)"
   ]
  },
  {
   "cell_type": "code",
   "execution_count": 195,
   "metadata": {},
   "outputs": [],
   "source": [
    "cost = tf.reduce_mean(tf.square(tf.subtract(y, predictor))) # rmse\n",
    "optimizer = tf.train.GradientDescentOptimizer(learning_rate=LEARNING_RATE).minimize(cost)\n"
   ]
  },
  {
   "cell_type": "code",
   "execution_count": 196,
   "metadata": {},
   "outputs": [
    {
     "name": "stdout",
     "output_type": "stream",
     "text": [
      "Epoch: 0000 cost= 26290.855468750\n",
      "Epoch: 1000 cost= 0.170670024\n",
      "Epoch: 2000 cost= 0.043669259\n",
      "Epoch: 3000 cost= 0.018207807\n",
      "Epoch: 4000 cost= 0.009331864\n",
      "Epoch: 5000 cost= 0.005412786\n",
      "Epoch: 6000 cost= 0.003349801\n",
      "Epoch: 7000 cost= 0.002169133\n",
      "Epoch: 8000 cost= 0.001467863\n",
      "Epoch: 9000 cost= 0.001022791\n",
      "Epoch: 9999 cost= 0.000726458\n",
      "Optimization Finished!\n"
     ]
    }
   ],
   "source": [
    "with tf.Session() as sess:\n",
    "    sess.run(tf.global_variables_initializer())\n",
    "    \n",
    "    for epoch in range(TRAINING_EPOCHS):\n",
    "        avg_cost = 0.\n",
    "        total_batch = int(TRAIN_SIZE/BATCH_SIZE)\n",
    "        for i in range(total_batch-1):\n",
    "            batch_x = X_train[i*batch_size:(i+1)*batch_size]\n",
    "            batch_y = y_train[i*batch_size:(i+1)*batch_size]\n",
    "            _, c, p = sess.run([optimizer, cost, predictor], feed_dict={x:batch_x, y: batch_y})\n",
    "            \n",
    "            avg_cost += c/total_batch\n",
    "\n",
    "        # sample prediction\n",
    "        label_value = batch_y\n",
    "        estimate = p\n",
    "        err = label_value-estimate\n",
    "        #print (\"num batch:\", total_batch)\n",
    "\n",
    "        # Display logs per epoch step\n",
    "        if epoch % display_step == 0:\n",
    "            print (\"Epoch:\", '%04d' % (epoch), \"cost=\", \\\n",
    "                \"{:.9f}\".format(avg_cost))\n",
    "            \n",
    "    print (\"Epoch:\", '%04d' % (epoch), \"cost=\", \\\n",
    "                \"{:.9f}\".format(avg_cost))\n",
    "\n",
    "    print (\"Optimization Finished!\")"
   ]
  },
  {
   "cell_type": "code",
   "execution_count": 127,
   "metadata": {},
   "outputs": [
    {
     "data": {
      "text/plain": [
       "array([[ -56.87325497],\n",
       "       [  96.45410296],\n",
       "       [ 138.70254081],\n",
       "       [ 125.81991404],\n",
       "       [  31.02704717],\n",
       "       [  81.33421653],\n",
       "       [ -37.21205566],\n",
       "       [ 350.00735909],\n",
       "       [-134.10662544],\n",
       "       [ -23.20221942],\n",
       "       [-138.29338658],\n",
       "       [ 105.3153243 ],\n",
       "       [-194.19444441],\n",
       "       [ -26.35139255],\n",
       "       [ -66.66489762],\n",
       "       [-169.5775263 ],\n",
       "       [ 108.43615265],\n",
       "       [-189.3612027 ],\n",
       "       [ 189.74848258],\n",
       "       [  28.13309576],\n",
       "       [  -6.69936198],\n",
       "       [ -21.50462167],\n",
       "       [ -95.37034595],\n",
       "       [-123.54841512],\n",
       "       [ -22.19043738],\n",
       "       [-216.75540775],\n",
       "       [ 119.79249908],\n",
       "       [ -89.19405819],\n",
       "       [  71.69303142],\n",
       "       [-211.8184705 ],\n",
       "       [-176.88576081],\n",
       "       [  90.27005134],\n",
       "       [-105.30094293],\n",
       "       [ 104.64888457],\n",
       "       [ -86.65893604],\n",
       "       [  48.5356881 ],\n",
       "       [ 246.9654626 ],\n",
       "       [-152.35625669],\n",
       "       [-171.20016646],\n",
       "       [ 255.55057787],\n",
       "       [ -98.32144085],\n",
       "       [  54.78112483],\n",
       "       [-213.89394865],\n",
       "       [ -59.48680888],\n",
       "       [ 172.12072658],\n",
       "       [ -55.68760897],\n",
       "       [  77.14230523],\n",
       "       [-111.93143834],\n",
       "       [  41.10529353],\n",
       "       [-117.8740851 ],\n",
       "       [-111.22097779],\n",
       "       [  28.49906401],\n",
       "       [-241.80267352],\n",
       "       [-288.57741153],\n",
       "       [   4.06208397],\n",
       "       [ -81.53495705],\n",
       "       [ -70.35406998],\n",
       "       [  71.09787718],\n",
       "       [ -99.69058142],\n",
       "       [ 167.18193586],\n",
       "       [ 117.95383204],\n",
       "       [  34.24680423],\n",
       "       [  67.9070442 ],\n",
       "       [   0.82432218],\n",
       "       [ -64.24082574],\n",
       "       [-147.04254543],\n",
       "       [-107.26453828],\n",
       "       [-236.1905284 ],\n",
       "       [ 221.90960271],\n",
       "       [ 141.46845208],\n",
       "       [  23.35736739],\n",
       "       [-163.54631246],\n",
       "       [-277.78733426],\n",
       "       [ -35.21060974],\n",
       "       [ -95.13620833],\n",
       "       [ -30.24551526],\n",
       "       [ 171.02877243],\n",
       "       [-519.61986103],\n",
       "       [  20.04401958],\n",
       "       [ 167.20052976],\n",
       "       [  29.35218442],\n",
       "       [-124.98745232],\n",
       "       [-137.08702703],\n",
       "       [ 102.35721102],\n",
       "       [ 105.93734991],\n",
       "       [ 223.23531767],\n",
       "       [ -97.25873135],\n",
       "       [ 111.92554974],\n",
       "       [-272.65924688],\n",
       "       [ 310.34204757],\n",
       "       [ 153.59142303],\n",
       "       [-359.95949362],\n",
       "       [  50.48862227],\n",
       "       [  22.6542288 ],\n",
       "       [ 209.96504733],\n",
       "       [  84.8179027 ],\n",
       "       [-204.68323883],\n",
       "       [   4.40711143],\n",
       "       [  35.70635445],\n",
       "       [  49.19640573]])"
      ]
     },
     "execution_count": 127,
     "metadata": {},
     "output_type": "execute_result"
    }
   ],
   "source": []
  },
  {
   "cell_type": "code",
   "execution_count": null,
   "metadata": {
    "collapsed": true
   },
   "outputs": [],
   "source": []
  }
 ],
 "metadata": {
  "kernelspec": {
   "display_name": "Python 3",
   "language": "python",
   "name": "python3"
  },
  "language_info": {
   "codemirror_mode": {
    "name": "ipython",
    "version": 3
   },
   "file_extension": ".py",
   "mimetype": "text/x-python",
   "name": "python",
   "nbconvert_exporter": "python",
   "pygments_lexer": "ipython3",
   "version": "3.6.1"
  }
 },
 "nbformat": 4,
 "nbformat_minor": 2
}

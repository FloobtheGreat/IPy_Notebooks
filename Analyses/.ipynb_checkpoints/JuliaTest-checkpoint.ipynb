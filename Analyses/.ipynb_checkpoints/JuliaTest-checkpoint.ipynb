{
 "cells": [
  {
   "cell_type": "markdown",
   "metadata": {},
   "source": [
    "https://lectures.quantecon.org/jl/learning_julia.html"
   ]
  },
  {
   "cell_type": "code",
   "execution_count": 2,
   "metadata": {},
   "outputs": [
    {
     "name": "stdout",
     "output_type": "stream",
     "text": [
      "hello world\n"
     ]
    }
   ],
   "source": [
    "println(\"hello world\")"
   ]
  },
  {
   "cell_type": "code",
   "execution_count": 4,
   "metadata": {},
   "outputs": [
    {
     "data": {
      "text/plain": [
       "sphere_vol (generic function with 1 method)"
      ]
     },
     "execution_count": 4,
     "metadata": {},
     "output_type": "execute_result"
    }
   ],
   "source": [
    "function sphere_vol(r)\n",
    "    return 4/3*pi*r^3\n",
    "end"
   ]
  },
  {
   "cell_type": "code",
   "execution_count": 7,
   "metadata": {},
   "outputs": [
    {
     "name": "stdout",
     "output_type": "stream",
     "text": [
      "volume = 113.097\n"
     ]
    }
   ],
   "source": [
    "vol = sphere_vol(3)\n",
    "\n",
    "@printf \"volume = %0.3f\\n\" vol "
   ]
  },
  {
   "cell_type": "code",
   "execution_count": 9,
   "metadata": {},
   "outputs": [
    {
     "data": {
      "text/plain": [
       "quadratic2 (generic function with 1 method)"
      ]
     },
     "execution_count": 9,
     "metadata": {},
     "output_type": "execute_result"
    }
   ],
   "source": [
    "quadratic(a, sqr_term, b) = (-b + sqr_term) /2a\n",
    "\n",
    "function quadratic2(a::Float64, b::Float64, c::Float64)\n",
    "    sqr_term = sqrt(b^2-4a*c)\n",
    "    r1 = quadratic(a, sqr_term, b)\n",
    "    r2 = quadratic(a, -sqr_term, b)\n",
    "    \n",
    "    return r1, r2\n",
    "end\n",
    "    "
   ]
  },
  {
   "cell_type": "code",
   "execution_count": 9,
   "metadata": {},
   "outputs": [
    {
     "name": "stdout",
     "output_type": "stream",
     "text": [
      "result 1: 3.0\n",
      "result 2: -2.0\n"
     ]
    }
   ],
   "source": [
    "quad1, quad2 = quadratic2(2.0, -2.0, -12.0)\n",
    "    \n",
    "println(\"result 1: \", quad1)\n",
    "println(\"result 2: \", quad2)"
   ]
  },
  {
   "cell_type": "code",
   "execution_count": null,
   "metadata": {
    "collapsed": true
   },
   "outputs": [],
   "source": []
  }
 ],
 "metadata": {
  "kernelspec": {
   "display_name": "Julia 0.6.0",
   "language": "julia",
   "name": "julia-0.6"
  },
  "language_info": {
   "file_extension": ".jl",
   "mimetype": "application/julia",
   "name": "julia",
   "version": "0.6.0"
  }
 },
 "nbformat": 4,
 "nbformat_minor": 2
}

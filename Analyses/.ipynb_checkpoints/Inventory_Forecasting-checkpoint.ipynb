{
 "cells": [
  {
   "cell_type": "markdown",
   "metadata": {},
   "source": [
    "## Inventory Forecasting Analysis"
   ]
  },
  {
   "cell_type": "code",
   "execution_count": 1,
   "metadata": {
    "collapsed": true
   },
   "outputs": [],
   "source": [
    "#Grab historical Sales data\n",
    "#Seasonality Variables, Qtr, Period\n",
    "#Event sku?\n",
    "# Sku age\n",
    "# CPI\n",
    "#%matplotlib inline"
   ]
  },
  {
   "cell_type": "code",
   "execution_count": 2,
   "metadata": {},
   "outputs": [
    {
     "name": "stdout",
     "output_type": "stream",
     "text": [
      "1314000000\n"
     ]
    }
   ],
   "source": [
    "print(str(60000*60*365))"
   ]
  },
  {
   "cell_type": "code",
   "execution_count": 3,
   "metadata": {
    "collapsed": true
   },
   "outputs": [],
   "source": [
    "import sys\n",
    "sys.path.insert(0, r\"C:\\users\\pairwin\\Documents\\Github\\HelperPI\")\n",
    "\n",
    "import HelperPI\n",
    "import seaborn as sbs\n",
    "import pandas as pd\n",
    "import scipy.stats as stats\n",
    "import matplotlib.pyplot as plt\n",
    "import statsmodels.formula.api as sts"
   ]
  },
  {
   "cell_type": "code",
   "execution_count": 4,
   "metadata": {},
   "outputs": [
    {
     "name": "stderr",
     "output_type": "stream",
     "text": [
      "INFO:root:Initializing...\n"
     ]
    }
   ],
   "source": [
    "helper = HelperPI.Helper()"
   ]
  },
  {
   "cell_type": "markdown",
   "metadata": {},
   "source": [
    "### Grabbing the data via pyodbc"
   ]
  },
  {
   "cell_type": "code",
   "execution_count": 43,
   "metadata": {
    "collapsed": true
   },
   "outputs": [],
   "source": [
    "sql = helper.getSQL(r\"C:\\users\\pairwin\\Documents\\GitHub\\IPy_Notebooks\\SQL\\InventoryForecasting.sql\")"
   ]
  },
  {
   "cell_type": "code",
   "execution_count": 44,
   "metadata": {},
   "outputs": [
    {
     "name": "stderr",
     "output_type": "stream",
     "text": [
      "INFO:root:Reading data...\n",
      "INFO:root:Data read complete...\n",
      "INFO:root:Read: 1078 rows.\n"
     ]
    },
    {
     "name": "stdout",
     "output_type": "stream",
     "text": [
      "                 Count Column Type\n",
      "0           DATE_VALUE      object\n",
      "1     CALENDAR_QUARTER       int64\n",
      "2       CALENDAR_MONTH       int64\n",
      "3            DAYINWEEK       int64\n",
      "4          HOL30DAYPRE       int64\n",
      "5              UMCSENT     float64\n",
      "6         STORE_NUMBER      object\n",
      "7   SKU_DISPLAY_NUMBER      object\n",
      "8              SKU_AGE       int64\n",
      "9            EVENT_SKU       int64\n",
      "10        TARGET_UNITS     float64\n"
     ]
    }
   ],
   "source": [
    "base, dtypesdf = helper.readData(sql)"
   ]
  },
  {
   "cell_type": "code",
   "execution_count": 45,
   "metadata": {},
   "outputs": [
    {
     "data": {
      "text/html": [
       "<div>\n",
       "<style>\n",
       "    .dataframe thead tr:only-child th {\n",
       "        text-align: right;\n",
       "    }\n",
       "\n",
       "    .dataframe thead th {\n",
       "        text-align: left;\n",
       "    }\n",
       "\n",
       "    .dataframe tbody tr th {\n",
       "        vertical-align: top;\n",
       "    }\n",
       "</style>\n",
       "<table border=\"1\" class=\"dataframe\">\n",
       "  <thead>\n",
       "    <tr style=\"text-align: right;\">\n",
       "      <th></th>\n",
       "      <th>CALENDAR_QUARTER</th>\n",
       "      <th>CALENDAR_MONTH</th>\n",
       "      <th>DAYINWEEK</th>\n",
       "      <th>HOL30DAYPRE</th>\n",
       "      <th>UMCSENT</th>\n",
       "      <th>SKU_AGE</th>\n",
       "      <th>EVENT_SKU</th>\n",
       "      <th>TARGET_UNITS</th>\n",
       "    </tr>\n",
       "  </thead>\n",
       "  <tbody>\n",
       "    <tr>\n",
       "      <th>count</th>\n",
       "      <td>1078.000000</td>\n",
       "      <td>1078.000000</td>\n",
       "      <td>1078.000000</td>\n",
       "      <td>1078.000000</td>\n",
       "      <td>1078.000000</td>\n",
       "      <td>1078.0</td>\n",
       "      <td>1078.000000</td>\n",
       "      <td>1078.000000</td>\n",
       "    </tr>\n",
       "    <tr>\n",
       "      <th>mean</th>\n",
       "      <td>2.406308</td>\n",
       "      <td>6.202226</td>\n",
       "      <td>4.072356</td>\n",
       "      <td>0.404453</td>\n",
       "      <td>90.517254</td>\n",
       "      <td>6038.0</td>\n",
       "      <td>0.012987</td>\n",
       "      <td>13.731911</td>\n",
       "    </tr>\n",
       "    <tr>\n",
       "      <th>std</th>\n",
       "      <td>1.171480</td>\n",
       "      <td>3.638737</td>\n",
       "      <td>2.010270</td>\n",
       "      <td>0.491014</td>\n",
       "      <td>5.318645</td>\n",
       "      <td>0.0</td>\n",
       "      <td>0.113271</td>\n",
       "      <td>22.987371</td>\n",
       "    </tr>\n",
       "    <tr>\n",
       "      <th>min</th>\n",
       "      <td>1.000000</td>\n",
       "      <td>1.000000</td>\n",
       "      <td>1.000000</td>\n",
       "      <td>0.000000</td>\n",
       "      <td>80.000000</td>\n",
       "      <td>6038.0</td>\n",
       "      <td>0.000000</td>\n",
       "      <td>1.000000</td>\n",
       "    </tr>\n",
       "    <tr>\n",
       "      <th>25%</th>\n",
       "      <td>1.000000</td>\n",
       "      <td>3.000000</td>\n",
       "      <td>2.000000</td>\n",
       "      <td>0.000000</td>\n",
       "      <td>87.200000</td>\n",
       "      <td>6038.0</td>\n",
       "      <td>0.000000</td>\n",
       "      <td>3.000000</td>\n",
       "    </tr>\n",
       "    <tr>\n",
       "      <th>50%</th>\n",
       "      <td>2.000000</td>\n",
       "      <td>6.000000</td>\n",
       "      <td>4.000000</td>\n",
       "      <td>0.000000</td>\n",
       "      <td>91.300000</td>\n",
       "      <td>6038.0</td>\n",
       "      <td>0.000000</td>\n",
       "      <td>6.000000</td>\n",
       "    </tr>\n",
       "    <tr>\n",
       "      <th>75%</th>\n",
       "      <td>4.000000</td>\n",
       "      <td>10.000000</td>\n",
       "      <td>6.000000</td>\n",
       "      <td>1.000000</td>\n",
       "      <td>94.700000</td>\n",
       "      <td>6038.0</td>\n",
       "      <td>0.000000</td>\n",
       "      <td>15.000000</td>\n",
       "    </tr>\n",
       "    <tr>\n",
       "      <th>max</th>\n",
       "      <td>4.000000</td>\n",
       "      <td>12.000000</td>\n",
       "      <td>7.000000</td>\n",
       "      <td>1.000000</td>\n",
       "      <td>98.500000</td>\n",
       "      <td>6038.0</td>\n",
       "      <td>1.000000</td>\n",
       "      <td>254.000000</td>\n",
       "    </tr>\n",
       "  </tbody>\n",
       "</table>\n",
       "</div>"
      ],
      "text/plain": [
       "       CALENDAR_QUARTER  CALENDAR_MONTH    DAYINWEEK  HOL30DAYPRE  \\\n",
       "count       1078.000000     1078.000000  1078.000000  1078.000000   \n",
       "mean           2.406308        6.202226     4.072356     0.404453   \n",
       "std            1.171480        3.638737     2.010270     0.491014   \n",
       "min            1.000000        1.000000     1.000000     0.000000   \n",
       "25%            1.000000        3.000000     2.000000     0.000000   \n",
       "50%            2.000000        6.000000     4.000000     0.000000   \n",
       "75%            4.000000       10.000000     6.000000     1.000000   \n",
       "max            4.000000       12.000000     7.000000     1.000000   \n",
       "\n",
       "           UMCSENT  SKU_AGE    EVENT_SKU  TARGET_UNITS  \n",
       "count  1078.000000   1078.0  1078.000000   1078.000000  \n",
       "mean     90.517254   6038.0     0.012987     13.731911  \n",
       "std       5.318645      0.0     0.113271     22.987371  \n",
       "min      80.000000   6038.0     0.000000      1.000000  \n",
       "25%      87.200000   6038.0     0.000000      3.000000  \n",
       "50%      91.300000   6038.0     0.000000      6.000000  \n",
       "75%      94.700000   6038.0     0.000000     15.000000  \n",
       "max      98.500000   6038.0     1.000000    254.000000  "
      ]
     },
     "execution_count": 45,
     "metadata": {},
     "output_type": "execute_result"
    }
   ],
   "source": [
    "base.describe()"
   ]
  },
  {
   "cell_type": "code",
   "execution_count": 46,
   "metadata": {},
   "outputs": [
    {
     "data": {
      "text/html": [
       "<div>\n",
       "<style>\n",
       "    .dataframe thead tr:only-child th {\n",
       "        text-align: right;\n",
       "    }\n",
       "\n",
       "    .dataframe thead th {\n",
       "        text-align: left;\n",
       "    }\n",
       "\n",
       "    .dataframe tbody tr th {\n",
       "        vertical-align: top;\n",
       "    }\n",
       "</style>\n",
       "<table border=\"1\" class=\"dataframe\">\n",
       "  <thead>\n",
       "    <tr style=\"text-align: right;\">\n",
       "      <th></th>\n",
       "      <th>DATE_VALUE</th>\n",
       "      <th>CALENDAR_QUARTER</th>\n",
       "      <th>CALENDAR_MONTH</th>\n",
       "      <th>DAYINWEEK</th>\n",
       "      <th>HOL30DAYPRE</th>\n",
       "      <th>UMCSENT</th>\n",
       "      <th>STORE_NUMBER</th>\n",
       "      <th>SKU_DISPLAY_NUMBER</th>\n",
       "      <th>SKU_AGE</th>\n",
       "      <th>EVENT_SKU</th>\n",
       "      <th>TARGET_UNITS</th>\n",
       "    </tr>\n",
       "  </thead>\n",
       "  <tbody>\n",
       "    <tr>\n",
       "      <th>0</th>\n",
       "      <td>2014-01-01</td>\n",
       "      <td>1</td>\n",
       "      <td>1</td>\n",
       "      <td>4</td>\n",
       "      <td>1</td>\n",
       "      <td>81.2</td>\n",
       "      <td>001</td>\n",
       "      <td>876269</td>\n",
       "      <td>6038</td>\n",
       "      <td>0</td>\n",
       "      <td>12.0</td>\n",
       "    </tr>\n",
       "    <tr>\n",
       "      <th>1</th>\n",
       "      <td>2014-01-02</td>\n",
       "      <td>1</td>\n",
       "      <td>1</td>\n",
       "      <td>5</td>\n",
       "      <td>0</td>\n",
       "      <td>81.2</td>\n",
       "      <td>001</td>\n",
       "      <td>876269</td>\n",
       "      <td>6038</td>\n",
       "      <td>0</td>\n",
       "      <td>10.0</td>\n",
       "    </tr>\n",
       "    <tr>\n",
       "      <th>2</th>\n",
       "      <td>2014-01-03</td>\n",
       "      <td>1</td>\n",
       "      <td>1</td>\n",
       "      <td>6</td>\n",
       "      <td>0</td>\n",
       "      <td>81.2</td>\n",
       "      <td>001</td>\n",
       "      <td>876269</td>\n",
       "      <td>6038</td>\n",
       "      <td>0</td>\n",
       "      <td>11.0</td>\n",
       "    </tr>\n",
       "    <tr>\n",
       "      <th>3</th>\n",
       "      <td>2014-01-04</td>\n",
       "      <td>1</td>\n",
       "      <td>1</td>\n",
       "      <td>7</td>\n",
       "      <td>0</td>\n",
       "      <td>81.2</td>\n",
       "      <td>001</td>\n",
       "      <td>876269</td>\n",
       "      <td>6038</td>\n",
       "      <td>0</td>\n",
       "      <td>42.0</td>\n",
       "    </tr>\n",
       "    <tr>\n",
       "      <th>4</th>\n",
       "      <td>2014-01-05</td>\n",
       "      <td>1</td>\n",
       "      <td>1</td>\n",
       "      <td>1</td>\n",
       "      <td>0</td>\n",
       "      <td>81.2</td>\n",
       "      <td>001</td>\n",
       "      <td>876269</td>\n",
       "      <td>6038</td>\n",
       "      <td>0</td>\n",
       "      <td>13.0</td>\n",
       "    </tr>\n",
       "  </tbody>\n",
       "</table>\n",
       "</div>"
      ],
      "text/plain": [
       "   DATE_VALUE  CALENDAR_QUARTER  CALENDAR_MONTH  DAYINWEEK  HOL30DAYPRE  \\\n",
       "0  2014-01-01                 1               1          4            1   \n",
       "1  2014-01-02                 1               1          5            0   \n",
       "2  2014-01-03                 1               1          6            0   \n",
       "3  2014-01-04                 1               1          7            0   \n",
       "4  2014-01-05                 1               1          1            0   \n",
       "\n",
       "   UMCSENT STORE_NUMBER SKU_DISPLAY_NUMBER  SKU_AGE  EVENT_SKU  TARGET_UNITS  \n",
       "0     81.2          001             876269     6038          0          12.0  \n",
       "1     81.2          001             876269     6038          0          10.0  \n",
       "2     81.2          001             876269     6038          0          11.0  \n",
       "3     81.2          001             876269     6038          0          42.0  \n",
       "4     81.2          001             876269     6038          0          13.0  "
      ]
     },
     "execution_count": 46,
     "metadata": {},
     "output_type": "execute_result"
    }
   ],
   "source": [
    "base.head()"
   ]
  },
  {
   "cell_type": "markdown",
   "metadata": {},
   "source": [
    "### Preliminary OLS results"
   ]
  },
  {
   "cell_type": "code",
   "execution_count": 47,
   "metadata": {
    "scrolled": false
   },
   "outputs": [
    {
     "data": {
      "text/html": [
       "<table class=\"simpletable\">\n",
       "<caption>OLS Regression Results</caption>\n",
       "<tr>\n",
       "  <th>Dep. Variable:</th>      <td>TARGET_UNITS</td>   <th>  R-squared:         </th> <td>   0.729</td> \n",
       "</tr>\n",
       "<tr>\n",
       "  <th>Model:</th>                   <td>OLS</td>       <th>  Adj. R-squared:    </th> <td>   0.724</td> \n",
       "</tr>\n",
       "<tr>\n",
       "  <th>Method:</th>             <td>Least Squares</td>  <th>  F-statistic:       </th> <td>   142.2</td> \n",
       "</tr>\n",
       "<tr>\n",
       "  <th>Date:</th>             <td>Mon, 21 Aug 2017</td> <th>  Prob (F-statistic):</th> <td>1.05e-282</td>\n",
       "</tr>\n",
       "<tr>\n",
       "  <th>Time:</th>                 <td>14:27:32</td>     <th>  Log-Likelihood:    </th> <td> -4204.7</td> \n",
       "</tr>\n",
       "<tr>\n",
       "  <th>No. Observations:</th>      <td>  1078</td>      <th>  AIC:               </th> <td>   8451.</td> \n",
       "</tr>\n",
       "<tr>\n",
       "  <th>Df Residuals:</th>          <td>  1057</td>      <th>  BIC:               </th> <td>   8556.</td> \n",
       "</tr>\n",
       "<tr>\n",
       "  <th>Df Model:</th>              <td>    20</td>      <th>                     </th>     <td> </td>    \n",
       "</tr>\n",
       "<tr>\n",
       "  <th>Covariance Type:</th>      <td>nonrobust</td>    <th>                     </th>     <td> </td>    \n",
       "</tr>\n",
       "</table>\n",
       "<table class=\"simpletable\">\n",
       "<tr>\n",
       "             <td></td>                <th>coef</th>     <th>std err</th>      <th>t</th>      <th>P>|t|</th>  <th>[0.025</th>    <th>0.975]</th>  \n",
       "</tr>\n",
       "<tr>\n",
       "  <th>Intercept</th>               <td>   42.3176</td> <td>    7.084</td> <td>    5.973</td> <td> 0.000</td> <td>   28.417</td> <td>   56.219</td>\n",
       "</tr>\n",
       "<tr>\n",
       "  <th>C(CALENDAR_MONTH)[T.2]</th>  <td>   -4.8563</td> <td>    1.617</td> <td>   -3.004</td> <td> 0.003</td> <td>   -8.029</td> <td>   -1.684</td>\n",
       "</tr>\n",
       "<tr>\n",
       "  <th>C(CALENDAR_MONTH)[T.3]</th>  <td>   -8.7837</td> <td>    1.595</td> <td>   -5.508</td> <td> 0.000</td> <td>  -11.913</td> <td>   -5.655</td>\n",
       "</tr>\n",
       "<tr>\n",
       "  <th>C(CALENDAR_MONTH)[T.4]</th>  <td>   -9.6676</td> <td>    1.663</td> <td>   -5.812</td> <td> 0.000</td> <td>  -12.931</td> <td>   -6.404</td>\n",
       "</tr>\n",
       "<tr>\n",
       "  <th>C(CALENDAR_MONTH)[T.5]</th>  <td>  -10.8356</td> <td>    2.165</td> <td>   -5.005</td> <td> 0.000</td> <td>  -15.083</td> <td>   -6.588</td>\n",
       "</tr>\n",
       "<tr>\n",
       "  <th>C(CALENDAR_MONTH)[T.6]</th>  <td>   -9.8866</td> <td>    2.307</td> <td>   -4.285</td> <td> 0.000</td> <td>  -14.414</td> <td>   -5.359</td>\n",
       "</tr>\n",
       "<tr>\n",
       "  <th>C(CALENDAR_MONTH)[T.7]</th>  <td>  -11.5578</td> <td>    1.965</td> <td>   -5.882</td> <td> 0.000</td> <td>  -15.414</td> <td>   -7.702</td>\n",
       "</tr>\n",
       "<tr>\n",
       "  <th>C(CALENDAR_MONTH)[T.8]</th>  <td>   -6.0091</td> <td>    2.171</td> <td>   -2.768</td> <td> 0.006</td> <td>  -10.270</td> <td>   -1.749</td>\n",
       "</tr>\n",
       "<tr>\n",
       "  <th>C(CALENDAR_MONTH)[T.9]</th>  <td>   -5.1406</td> <td>    1.735</td> <td>   -2.964</td> <td> 0.003</td> <td>   -8.544</td> <td>   -1.737</td>\n",
       "</tr>\n",
       "<tr>\n",
       "  <th>C(CALENDAR_MONTH)[T.10]</th> <td>    0.1168</td> <td>    1.790</td> <td>    0.065</td> <td> 0.948</td> <td>   -3.395</td> <td>    3.629</td>\n",
       "</tr>\n",
       "<tr>\n",
       "  <th>C(CALENDAR_MONTH)[T.11]</th> <td>   13.6860</td> <td>    2.225</td> <td>    6.150</td> <td> 0.000</td> <td>    9.320</td> <td>   18.053</td>\n",
       "</tr>\n",
       "<tr>\n",
       "  <th>C(CALENDAR_MONTH)[T.12]</th> <td>   28.6884</td> <td>    2.237</td> <td>   12.827</td> <td> 0.000</td> <td>   24.300</td> <td>   33.077</td>\n",
       "</tr>\n",
       "<tr>\n",
       "  <th>C(EVENT_SKU)[T.1]</th>       <td>  138.7179</td> <td>    3.517</td> <td>   39.440</td> <td> 0.000</td> <td>  131.817</td> <td>  145.619</td>\n",
       "</tr>\n",
       "<tr>\n",
       "  <th>C(DAYINWEEK)[T.2]</th>       <td>   -2.0769</td> <td>    1.404</td> <td>   -1.479</td> <td> 0.139</td> <td>   -4.832</td> <td>    0.678</td>\n",
       "</tr>\n",
       "<tr>\n",
       "  <th>C(DAYINWEEK)[T.3]</th>       <td>   -3.1756</td> <td>    1.401</td> <td>   -2.267</td> <td> 0.024</td> <td>   -5.925</td> <td>   -0.427</td>\n",
       "</tr>\n",
       "<tr>\n",
       "  <th>C(DAYINWEEK)[T.4]</th>       <td>   -3.4456</td> <td>    1.403</td> <td>   -2.456</td> <td> 0.014</td> <td>   -6.198</td> <td>   -0.693</td>\n",
       "</tr>\n",
       "<tr>\n",
       "  <th>C(DAYINWEEK)[T.5]</th>       <td>   -2.7914</td> <td>    1.399</td> <td>   -1.995</td> <td> 0.046</td> <td>   -5.537</td> <td>   -0.046</td>\n",
       "</tr>\n",
       "<tr>\n",
       "  <th>C(DAYINWEEK)[T.6]</th>       <td>    1.3307</td> <td>    1.388</td> <td>    0.959</td> <td> 0.338</td> <td>   -1.393</td> <td>    4.054</td>\n",
       "</tr>\n",
       "<tr>\n",
       "  <th>C(DAYINWEEK)[T.7]</th>       <td>    4.9359</td> <td>    1.370</td> <td>    3.602</td> <td> 0.000</td> <td>    2.247</td> <td>    7.624</td>\n",
       "</tr>\n",
       "<tr>\n",
       "  <th>C(HOL30DAYPRE)[T.1]</th>     <td>    0.3060</td> <td>    1.509</td> <td>    0.203</td> <td> 0.839</td> <td>   -2.655</td> <td>    3.267</td>\n",
       "</tr>\n",
       "<tr>\n",
       "  <th>UMCSENT</th>                 <td>   -0.3121</td> <td>    0.075</td> <td>   -4.148</td> <td> 0.000</td> <td>   -0.460</td> <td>   -0.164</td>\n",
       "</tr>\n",
       "</table>\n",
       "<table class=\"simpletable\">\n",
       "<tr>\n",
       "  <th>Omnibus:</th>       <td>556.961</td> <th>  Durbin-Watson:     </th> <td>   1.223</td> \n",
       "</tr>\n",
       "<tr>\n",
       "  <th>Prob(Omnibus):</th> <td> 0.000</td>  <th>  Jarque-Bera (JB):  </th> <td>15481.356</td>\n",
       "</tr>\n",
       "<tr>\n",
       "  <th>Skew:</th>          <td> 1.804</td>  <th>  Prob(JB):          </th> <td>    0.00</td> \n",
       "</tr>\n",
       "<tr>\n",
       "  <th>Kurtosis:</th>      <td>21.211</td>  <th>  Cond. No.          </th> <td>1.78e+03</td> \n",
       "</tr>\n",
       "</table>"
      ],
      "text/plain": [
       "<class 'statsmodels.iolib.summary.Summary'>\n",
       "\"\"\"\n",
       "                            OLS Regression Results                            \n",
       "==============================================================================\n",
       "Dep. Variable:           TARGET_UNITS   R-squared:                       0.729\n",
       "Model:                            OLS   Adj. R-squared:                  0.724\n",
       "Method:                 Least Squares   F-statistic:                     142.2\n",
       "Date:                Mon, 21 Aug 2017   Prob (F-statistic):          1.05e-282\n",
       "Time:                        14:27:32   Log-Likelihood:                -4204.7\n",
       "No. Observations:                1078   AIC:                             8451.\n",
       "Df Residuals:                    1057   BIC:                             8556.\n",
       "Df Model:                          20                                         \n",
       "Covariance Type:            nonrobust                                         \n",
       "===========================================================================================\n",
       "                              coef    std err          t      P>|t|      [0.025      0.975]\n",
       "-------------------------------------------------------------------------------------------\n",
       "Intercept                  42.3176      7.084      5.973      0.000      28.417      56.219\n",
       "C(CALENDAR_MONTH)[T.2]     -4.8563      1.617     -3.004      0.003      -8.029      -1.684\n",
       "C(CALENDAR_MONTH)[T.3]     -8.7837      1.595     -5.508      0.000     -11.913      -5.655\n",
       "C(CALENDAR_MONTH)[T.4]     -9.6676      1.663     -5.812      0.000     -12.931      -6.404\n",
       "C(CALENDAR_MONTH)[T.5]    -10.8356      2.165     -5.005      0.000     -15.083      -6.588\n",
       "C(CALENDAR_MONTH)[T.6]     -9.8866      2.307     -4.285      0.000     -14.414      -5.359\n",
       "C(CALENDAR_MONTH)[T.7]    -11.5578      1.965     -5.882      0.000     -15.414      -7.702\n",
       "C(CALENDAR_MONTH)[T.8]     -6.0091      2.171     -2.768      0.006     -10.270      -1.749\n",
       "C(CALENDAR_MONTH)[T.9]     -5.1406      1.735     -2.964      0.003      -8.544      -1.737\n",
       "C(CALENDAR_MONTH)[T.10]     0.1168      1.790      0.065      0.948      -3.395       3.629\n",
       "C(CALENDAR_MONTH)[T.11]    13.6860      2.225      6.150      0.000       9.320      18.053\n",
       "C(CALENDAR_MONTH)[T.12]    28.6884      2.237     12.827      0.000      24.300      33.077\n",
       "C(EVENT_SKU)[T.1]         138.7179      3.517     39.440      0.000     131.817     145.619\n",
       "C(DAYINWEEK)[T.2]          -2.0769      1.404     -1.479      0.139      -4.832       0.678\n",
       "C(DAYINWEEK)[T.3]          -3.1756      1.401     -2.267      0.024      -5.925      -0.427\n",
       "C(DAYINWEEK)[T.4]          -3.4456      1.403     -2.456      0.014      -6.198      -0.693\n",
       "C(DAYINWEEK)[T.5]          -2.7914      1.399     -1.995      0.046      -5.537      -0.046\n",
       "C(DAYINWEEK)[T.6]           1.3307      1.388      0.959      0.338      -1.393       4.054\n",
       "C(DAYINWEEK)[T.7]           4.9359      1.370      3.602      0.000       2.247       7.624\n",
       "C(HOL30DAYPRE)[T.1]         0.3060      1.509      0.203      0.839      -2.655       3.267\n",
       "UMCSENT                    -0.3121      0.075     -4.148      0.000      -0.460      -0.164\n",
       "==============================================================================\n",
       "Omnibus:                      556.961   Durbin-Watson:                   1.223\n",
       "Prob(Omnibus):                  0.000   Jarque-Bera (JB):            15481.356\n",
       "Skew:                           1.804   Prob(JB):                         0.00\n",
       "Kurtosis:                      21.211   Cond. No.                     1.78e+03\n",
       "==============================================================================\n",
       "\n",
       "Warnings:\n",
       "[1] Standard Errors assume that the covariance matrix of the errors is correctly specified.\n",
       "[2] The condition number is large, 1.78e+03. This might indicate that there are\n",
       "strong multicollinearity or other numerical problems.\n",
       "\"\"\""
      ]
     },
     "execution_count": 47,
     "metadata": {},
     "output_type": "execute_result"
    }
   ],
   "source": [
    "formula = 'TARGET_UNITS ~ C(CALENDAR_MONTH) + C(EVENT_SKU) + C(DAYINWEEK) + C(HOL30DAYPRE) + UMCSENT'\n",
    "model = sts.ols(formula, data=base).fit()\n",
    "model.summary()"
   ]
  },
  {
   "cell_type": "markdown",
   "metadata": {},
   "source": [
    "### Data Description"
   ]
  },
  {
   "cell_type": "code",
   "execution_count": 9,
   "metadata": {
    "scrolled": true
   },
   "outputs": [
    {
     "data": {
      "text/html": [
       "<div>\n",
       "<style>\n",
       "    .dataframe thead tr:only-child th {\n",
       "        text-align: right;\n",
       "    }\n",
       "\n",
       "    .dataframe thead th {\n",
       "        text-align: left;\n",
       "    }\n",
       "\n",
       "    .dataframe tbody tr th {\n",
       "        vertical-align: top;\n",
       "    }\n",
       "</style>\n",
       "<table border=\"1\" class=\"dataframe\">\n",
       "  <thead>\n",
       "    <tr style=\"text-align: right;\">\n",
       "      <th></th>\n",
       "      <th>CALENDAR_QUARTER</th>\n",
       "      <th>CALENDAR_MONTH</th>\n",
       "      <th>DAYINWEEK</th>\n",
       "      <th>UMCSENT</th>\n",
       "      <th>SKU_AGE</th>\n",
       "      <th>EVENT_SKU</th>\n",
       "      <th>TARGET_UNITS</th>\n",
       "    </tr>\n",
       "  </thead>\n",
       "  <tbody>\n",
       "    <tr>\n",
       "      <th>count</th>\n",
       "      <td>1170.000000</td>\n",
       "      <td>1170.000000</td>\n",
       "      <td>1170.000000</td>\n",
       "      <td>1170.000000</td>\n",
       "      <td>1170.0</td>\n",
       "      <td>1170.000000</td>\n",
       "      <td>1170.000000</td>\n",
       "    </tr>\n",
       "    <tr>\n",
       "      <th>mean</th>\n",
       "      <td>2.341026</td>\n",
       "      <td>6.005128</td>\n",
       "      <td>4.047009</td>\n",
       "      <td>90.652308</td>\n",
       "      <td>9435.0</td>\n",
       "      <td>0.048718</td>\n",
       "      <td>17.630769</td>\n",
       "    </tr>\n",
       "    <tr>\n",
       "      <th>std</th>\n",
       "      <td>1.117912</td>\n",
       "      <td>3.453463</td>\n",
       "      <td>2.006067</td>\n",
       "      <td>5.356178</td>\n",
       "      <td>0.0</td>\n",
       "      <td>0.215370</td>\n",
       "      <td>59.361966</td>\n",
       "    </tr>\n",
       "    <tr>\n",
       "      <th>min</th>\n",
       "      <td>1.000000</td>\n",
       "      <td>1.000000</td>\n",
       "      <td>1.000000</td>\n",
       "      <td>80.000000</td>\n",
       "      <td>9435.0</td>\n",
       "      <td>0.000000</td>\n",
       "      <td>1.000000</td>\n",
       "    </tr>\n",
       "    <tr>\n",
       "      <th>25%</th>\n",
       "      <td>1.000000</td>\n",
       "      <td>3.000000</td>\n",
       "      <td>2.000000</td>\n",
       "      <td>87.200000</td>\n",
       "      <td>9435.0</td>\n",
       "      <td>0.000000</td>\n",
       "      <td>4.000000</td>\n",
       "    </tr>\n",
       "    <tr>\n",
       "      <th>50%</th>\n",
       "      <td>2.000000</td>\n",
       "      <td>6.000000</td>\n",
       "      <td>4.000000</td>\n",
       "      <td>91.300000</td>\n",
       "      <td>9435.0</td>\n",
       "      <td>0.000000</td>\n",
       "      <td>8.000000</td>\n",
       "    </tr>\n",
       "    <tr>\n",
       "      <th>75%</th>\n",
       "      <td>3.000000</td>\n",
       "      <td>9.000000</td>\n",
       "      <td>6.000000</td>\n",
       "      <td>95.400000</td>\n",
       "      <td>9435.0</td>\n",
       "      <td>0.000000</td>\n",
       "      <td>14.000000</td>\n",
       "    </tr>\n",
       "    <tr>\n",
       "      <th>max</th>\n",
       "      <td>4.000000</td>\n",
       "      <td>12.000000</td>\n",
       "      <td>7.000000</td>\n",
       "      <td>98.500000</td>\n",
       "      <td>9435.0</td>\n",
       "      <td>1.000000</td>\n",
       "      <td>1076.000000</td>\n",
       "    </tr>\n",
       "  </tbody>\n",
       "</table>\n",
       "</div>"
      ],
      "text/plain": [
       "       CALENDAR_QUARTER  CALENDAR_MONTH    DAYINWEEK      UMCSENT  SKU_AGE  \\\n",
       "count       1170.000000     1170.000000  1170.000000  1170.000000   1170.0   \n",
       "mean           2.341026        6.005128     4.047009    90.652308   9435.0   \n",
       "std            1.117912        3.453463     2.006067     5.356178      0.0   \n",
       "min            1.000000        1.000000     1.000000    80.000000   9435.0   \n",
       "25%            1.000000        3.000000     2.000000    87.200000   9435.0   \n",
       "50%            2.000000        6.000000     4.000000    91.300000   9435.0   \n",
       "75%            3.000000        9.000000     6.000000    95.400000   9435.0   \n",
       "max            4.000000       12.000000     7.000000    98.500000   9435.0   \n",
       "\n",
       "         EVENT_SKU  TARGET_UNITS  \n",
       "count  1170.000000   1170.000000  \n",
       "mean      0.048718     17.630769  \n",
       "std       0.215370     59.361966  \n",
       "min       0.000000      1.000000  \n",
       "25%       0.000000      4.000000  \n",
       "50%       0.000000      8.000000  \n",
       "75%       0.000000     14.000000  \n",
       "max       1.000000   1076.000000  "
      ]
     },
     "execution_count": 9,
     "metadata": {},
     "output_type": "execute_result"
    }
   ],
   "source": [
    "base.describe()"
   ]
  },
  {
   "cell_type": "markdown",
   "metadata": {},
   "source": [
    "### Point Biserial Correlation\n",
    "For Target_Units vs the Event Sku flag."
   ]
  },
  {
   "cell_type": "code",
   "execution_count": 36,
   "metadata": {
    "scrolled": true
   },
   "outputs": [
    {
     "name": "stdout",
     "output_type": "stream",
     "text": [
      "Point Biserial Correlation \n",
      " Coeff: 0.00224559933813\n",
      " pval: 0.938838888533\n"
     ]
    }
   ],
   "source": [
    "corr, pval = stats.pointbiserialr(base['HOLIDAYFLG'], base['TARGET_UNITS'])\n",
    "print('Point Biserial Correlation \\n Coeff: ' + str(corr) + '\\n pval: ' + str(pval))"
   ]
  },
  {
   "cell_type": "code",
   "execution_count": 20,
   "metadata": {},
   "outputs": [
    {
     "data": {
      "image/png": "[encoded data removed]",
      "text/plain": [
       "<matplotlib.figure.Figure at 0xd67a908>"
      ]
     },
     "metadata": {},
     "output_type": "display_data"
    }
   ],
   "source": [
    "plt.hist(base['TARGET_UNITS'], bins=50)\n",
    "plt.show()"
   ]
  },
  {
   "cell_type": "code",
   "execution_count": null,
   "metadata": {
    "collapsed": true
   },
   "outputs": [],
   "source": []
  }
 ],
 "metadata": {
  "kernelspec": {
   "display_name": "Python 3",
   "language": "python",
   "name": "python3"
  },
  "language_info": {
   "codemirror_mode": {
    "name": "ipython",
    "version": 3
   },
   "file_extension": ".py",
   "mimetype": "text/x-python",
   "name": "python",
   "nbconvert_exporter": "python",
   "pygments_lexer": "ipython3",
   "version": "3.6.1"
  }
 },
 "nbformat": 4,
 "nbformat_minor": 2
}

{
 "cells": [
  {
   "cell_type": "markdown",
   "metadata": {},
   "source": [
    "## Inventory Forecasting Analysis"
   ]
  },
  {
   "cell_type": "code",
   "execution_count": 9,
   "metadata": {
    "collapsed": true
   },
   "outputs": [],
   "source": [
    "#Grab historical Sales data\n",
    "#Seasonality Variables, Qtr, Period\n",
    "#Event sku?\n",
    "# Sku age\n",
    "# CPI\n",
    "%matplotlib inline"
   ]
  },
  {
   "cell_type": "code",
   "execution_count": 10,
   "metadata": {},
   "outputs": [
    {
     "name": "stdout",
     "output_type": "stream",
     "text": [
      "1314000000\n"
     ]
    }
   ],
   "source": [
    "print(str(60000*60*365))"
   ]
  },
  {
   "cell_type": "code",
   "execution_count": 11,
   "metadata": {
    "collapsed": true
   },
   "outputs": [],
   "source": [
    "import sys\n",
    "sys.path.insert(0, r\"C:\\users\\pairwin\\Documents\\Github\\HelperPI\")\n",
    "\n",
    "import HelperPI\n",
    "import seaborn as sbs\n",
    "import pandas as pd\n",
    "import scipy.stats as stats\n",
    "import matplotlib.pyplot as plt\n",
    "import statsmodels.formula.api as sts"
   ]
  },
  {
   "cell_type": "code",
   "execution_count": 12,
   "metadata": {},
   "outputs": [
    {
     "name": "stderr",
     "output_type": "stream",
     "text": [
      "INFO:root:Initializing...\n"
     ]
    }
   ],
   "source": [
    "helper = HelperPI.Helper()"
   ]
  },
  {
   "cell_type": "markdown",
   "metadata": {},
   "source": [
    "### Grabbing the data via pyodbc"
   ]
  },
  {
   "cell_type": "code",
   "execution_count": 15,
   "metadata": {
    "collapsed": true
   },
   "outputs": [],
   "source": [
    "sql = helper.getSQL(r\"C:\\users\\pairwin\\Documents\\GitHub\\IPy_Notebooks\\SQL\\InventoryForecasting.sql\")"
   ]
  },
  {
   "cell_type": "code",
   "execution_count": 16,
   "metadata": {},
   "outputs": [
    {
     "name": "stderr",
     "output_type": "stream",
     "text": [
      "INFO:root:Reading data...\n",
      "INFO:root:Data read complete...\n",
      "INFO:root:Read: 1170 rows.\n"
     ]
    },
    {
     "name": "stdout",
     "output_type": "stream",
     "text": [
      "                Count Column Type\n",
      "0          DATE_VALUE      object\n",
      "1    CALENDAR_QUARTER       int64\n",
      "2      CALENDAR_MONTH       int64\n",
      "3           DAYINWEEK       int64\n",
      "4             UMCSENT     float64\n",
      "5        STORE_NUMBER      object\n",
      "6  SKU_DISPLAY_NUMBER      object\n",
      "7             SKU_AGE       int64\n",
      "8           EVENT_SKU       int64\n",
      "9        TARGET_UNITS     float64\n"
     ]
    }
   ],
   "source": [
    "base, dtypesdf = helper.readData(sql)"
   ]
  },
  {
   "cell_type": "code",
   "execution_count": 18,
   "metadata": {},
   "outputs": [
    {
     "data": {
      "text/html": [
       "<div>\n",
       "<style>\n",
       "    .dataframe thead tr:only-child th {\n",
       "        text-align: right;\n",
       "    }\n",
       "\n",
       "    .dataframe thead th {\n",
       "        text-align: left;\n",
       "    }\n",
       "\n",
       "    .dataframe tbody tr th {\n",
       "        vertical-align: top;\n",
       "    }\n",
       "</style>\n",
       "<table border=\"1\" class=\"dataframe\">\n",
       "  <thead>\n",
       "    <tr style=\"text-align: right;\">\n",
       "      <th></th>\n",
       "      <th>CALENDAR_QUARTER</th>\n",
       "      <th>CALENDAR_MONTH</th>\n",
       "      <th>DAYINWEEK</th>\n",
       "      <th>UMCSENT</th>\n",
       "      <th>SKU_AGE</th>\n",
       "      <th>EVENT_SKU</th>\n",
       "      <th>TARGET_UNITS</th>\n",
       "    </tr>\n",
       "  </thead>\n",
       "  <tbody>\n",
       "    <tr>\n",
       "      <th>count</th>\n",
       "      <td>1170.000000</td>\n",
       "      <td>1170.000000</td>\n",
       "      <td>1170.000000</td>\n",
       "      <td>1170.000000</td>\n",
       "      <td>1170.0</td>\n",
       "      <td>1170.000000</td>\n",
       "      <td>1170.000000</td>\n",
       "    </tr>\n",
       "    <tr>\n",
       "      <th>mean</th>\n",
       "      <td>2.341026</td>\n",
       "      <td>6.005128</td>\n",
       "      <td>4.047009</td>\n",
       "      <td>90.652308</td>\n",
       "      <td>9432.0</td>\n",
       "      <td>0.048718</td>\n",
       "      <td>17.630769</td>\n",
       "    </tr>\n",
       "    <tr>\n",
       "      <th>std</th>\n",
       "      <td>1.117912</td>\n",
       "      <td>3.453463</td>\n",
       "      <td>2.006067</td>\n",
       "      <td>5.356178</td>\n",
       "      <td>0.0</td>\n",
       "      <td>0.215370</td>\n",
       "      <td>59.361966</td>\n",
       "    </tr>\n",
       "    <tr>\n",
       "      <th>min</th>\n",
       "      <td>1.000000</td>\n",
       "      <td>1.000000</td>\n",
       "      <td>1.000000</td>\n",
       "      <td>80.000000</td>\n",
       "      <td>9432.0</td>\n",
       "      <td>0.000000</td>\n",
       "      <td>1.000000</td>\n",
       "    </tr>\n",
       "    <tr>\n",
       "      <th>25%</th>\n",
       "      <td>1.000000</td>\n",
       "      <td>3.000000</td>\n",
       "      <td>2.000000</td>\n",
       "      <td>87.200000</td>\n",
       "      <td>9432.0</td>\n",
       "      <td>0.000000</td>\n",
       "      <td>4.000000</td>\n",
       "    </tr>\n",
       "    <tr>\n",
       "      <th>50%</th>\n",
       "      <td>2.000000</td>\n",
       "      <td>6.000000</td>\n",
       "      <td>4.000000</td>\n",
       "      <td>91.300000</td>\n",
       "      <td>9432.0</td>\n",
       "      <td>0.000000</td>\n",
       "      <td>8.000000</td>\n",
       "    </tr>\n",
       "    <tr>\n",
       "      <th>75%</th>\n",
       "      <td>3.000000</td>\n",
       "      <td>9.000000</td>\n",
       "      <td>6.000000</td>\n",
       "      <td>95.400000</td>\n",
       "      <td>9432.0</td>\n",
       "      <td>0.000000</td>\n",
       "      <td>14.000000</td>\n",
       "    </tr>\n",
       "    <tr>\n",
       "      <th>max</th>\n",
       "      <td>4.000000</td>\n",
       "      <td>12.000000</td>\n",
       "      <td>7.000000</td>\n",
       "      <td>98.500000</td>\n",
       "      <td>9432.0</td>\n",
       "      <td>1.000000</td>\n",
       "      <td>1076.000000</td>\n",
       "    </tr>\n",
       "  </tbody>\n",
       "</table>\n",
       "</div>"
      ],
      "text/plain": [
       "       CALENDAR_QUARTER  CALENDAR_MONTH    DAYINWEEK      UMCSENT  SKU_AGE  \\\n",
       "count       1170.000000     1170.000000  1170.000000  1170.000000   1170.0   \n",
       "mean           2.341026        6.005128     4.047009    90.652308   9432.0   \n",
       "std            1.117912        3.453463     2.006067     5.356178      0.0   \n",
       "min            1.000000        1.000000     1.000000    80.000000   9432.0   \n",
       "25%            1.000000        3.000000     2.000000    87.200000   9432.0   \n",
       "50%            2.000000        6.000000     4.000000    91.300000   9432.0   \n",
       "75%            3.000000        9.000000     6.000000    95.400000   9432.0   \n",
       "max            4.000000       12.000000     7.000000    98.500000   9432.0   \n",
       "\n",
       "         EVENT_SKU  TARGET_UNITS  \n",
       "count  1170.000000   1170.000000  \n",
       "mean      0.048718     17.630769  \n",
       "std       0.215370     59.361966  \n",
       "min       0.000000      1.000000  \n",
       "25%       0.000000      4.000000  \n",
       "50%       0.000000      8.000000  \n",
       "75%       0.000000     14.000000  \n",
       "max       1.000000   1076.000000  "
      ]
     },
     "execution_count": 18,
     "metadata": {},
     "output_type": "execute_result"
    }
   ],
   "source": [
    "base.describe()"
   ]
  },
  {
   "cell_type": "markdown",
   "metadata": {},
   "source": [
    "### Preliminary OLS results"
   ]
  },
  {
   "cell_type": "code",
   "execution_count": 17,
   "metadata": {
    "scrolled": false
   },
   "outputs": [
    {
     "data": {
      "text/html": [
       "<table class=\"simpletable\">\n",
       "<caption>OLS Regression Results</caption>\n",
       "<tr>\n",
       "  <th>Dep. Variable:</th>      <td>TARGET_UNITS</td>   <th>  R-squared:         </th> <td>   0.383</td> \n",
       "</tr>\n",
       "<tr>\n",
       "  <th>Model:</th>                   <td>OLS</td>       <th>  Adj. R-squared:    </th> <td>   0.373</td> \n",
       "</tr>\n",
       "<tr>\n",
       "  <th>Method:</th>             <td>Least Squares</td>  <th>  F-statistic:       </th> <td>   37.65</td> \n",
       "</tr>\n",
       "<tr>\n",
       "  <th>Date:</th>             <td>Fri, 18 Aug 2017</td> <th>  Prob (F-statistic):</th> <td>1.28e-106</td>\n",
       "</tr>\n",
       "<tr>\n",
       "  <th>Time:</th>                 <td>14:23:17</td>     <th>  Log-Likelihood:    </th> <td> -6154.6</td> \n",
       "</tr>\n",
       "<tr>\n",
       "  <th>No. Observations:</th>      <td>  1170</td>      <th>  AIC:               </th> <td>1.235e+04</td>\n",
       "</tr>\n",
       "<tr>\n",
       "  <th>Df Residuals:</th>          <td>  1150</td>      <th>  BIC:               </th> <td>1.245e+04</td>\n",
       "</tr>\n",
       "<tr>\n",
       "  <th>Df Model:</th>              <td>    19</td>      <th>                     </th>     <td> </td>    \n",
       "</tr>\n",
       "<tr>\n",
       "  <th>Covariance Type:</th>      <td>nonrobust</td>    <th>                     </th>     <td> </td>    \n",
       "</tr>\n",
       "</table>\n",
       "<table class=\"simpletable\">\n",
       "<tr>\n",
       "             <td></td>                <th>coef</th>     <th>std err</th>      <th>t</th>      <th>P>|t|</th>  <th>[0.025</th>    <th>0.975]</th>  \n",
       "</tr>\n",
       "<tr>\n",
       "  <th>Intercept</th>               <td>   -6.0691</td> <td>   26.533</td> <td>   -0.229</td> <td> 0.819</td> <td>  -58.128</td> <td>   45.990</td>\n",
       "</tr>\n",
       "<tr>\n",
       "  <th>C(CALENDAR_MONTH)[T.2]</th>  <td>   -4.2374</td> <td>    6.592</td> <td>   -0.643</td> <td> 0.520</td> <td>  -17.171</td> <td>    8.697</td>\n",
       "</tr>\n",
       "<tr>\n",
       "  <th>C(CALENDAR_MONTH)[T.3]</th>  <td>   19.5670</td> <td>    6.103</td> <td>    3.206</td> <td> 0.001</td> <td>    7.592</td> <td>   31.542</td>\n",
       "</tr>\n",
       "<tr>\n",
       "  <th>C(CALENDAR_MONTH)[T.4]</th>  <td>    3.8350</td> <td>    6.230</td> <td>    0.616</td> <td> 0.538</td> <td>   -8.389</td> <td>   16.059</td>\n",
       "</tr>\n",
       "<tr>\n",
       "  <th>C(CALENDAR_MONTH)[T.5]</th>  <td>    0.6422</td> <td>    6.150</td> <td>    0.104</td> <td> 0.917</td> <td>  -11.424</td> <td>   12.709</td>\n",
       "</tr>\n",
       "<tr>\n",
       "  <th>C(CALENDAR_MONTH)[T.6]</th>  <td>   -6.3831</td> <td>    6.759</td> <td>   -0.944</td> <td> 0.345</td> <td>  -19.645</td> <td>    6.879</td>\n",
       "</tr>\n",
       "<tr>\n",
       "  <th>C(CALENDAR_MONTH)[T.7]</th>  <td>    0.0017</td> <td>    6.798</td> <td>    0.000</td> <td> 1.000</td> <td>  -13.336</td> <td>   13.339</td>\n",
       "</tr>\n",
       "<tr>\n",
       "  <th>C(CALENDAR_MONTH)[T.8]</th>  <td>   -0.1734</td> <td>    6.753</td> <td>   -0.026</td> <td> 0.980</td> <td>  -13.423</td> <td>   13.076</td>\n",
       "</tr>\n",
       "<tr>\n",
       "  <th>C(CALENDAR_MONTH)[T.9]</th>  <td>   -1.9379</td> <td>    6.820</td> <td>   -0.284</td> <td> 0.776</td> <td>  -15.320</td> <td>   11.444</td>\n",
       "</tr>\n",
       "<tr>\n",
       "  <th>C(CALENDAR_MONTH)[T.10]</th> <td>   -2.8770</td> <td>    6.736</td> <td>   -0.427</td> <td> 0.669</td> <td>  -16.094</td> <td>   10.340</td>\n",
       "</tr>\n",
       "<tr>\n",
       "  <th>C(CALENDAR_MONTH)[T.11]</th> <td>   -2.4859</td> <td>    7.070</td> <td>   -0.352</td> <td> 0.725</td> <td>  -16.357</td> <td>   11.386</td>\n",
       "</tr>\n",
       "<tr>\n",
       "  <th>C(CALENDAR_MONTH)[T.12]</th> <td>    2.7791</td> <td>    6.654</td> <td>    0.418</td> <td> 0.676</td> <td>  -10.276</td> <td>   15.834</td>\n",
       "</tr>\n",
       "<tr>\n",
       "  <th>C(EVENT_SKU)[T.1]</th>       <td>  168.6095</td> <td>    7.084</td> <td>   23.801</td> <td> 0.000</td> <td>  154.710</td> <td>  182.509</td>\n",
       "</tr>\n",
       "<tr>\n",
       "  <th>C(DAYINWEEK)[T.2]</th>       <td>    2.4630</td> <td>    5.206</td> <td>    0.473</td> <td> 0.636</td> <td>   -7.752</td> <td>   12.678</td>\n",
       "</tr>\n",
       "<tr>\n",
       "  <th>C(DAYINWEEK)[T.3]</th>       <td>   -1.8217</td> <td>    5.220</td> <td>   -0.349</td> <td> 0.727</td> <td>  -12.064</td> <td>    8.421</td>\n",
       "</tr>\n",
       "<tr>\n",
       "  <th>C(DAYINWEEK)[T.4]</th>       <td>   -2.0917</td> <td>    5.177</td> <td>   -0.404</td> <td> 0.686</td> <td>  -12.249</td> <td>    8.066</td>\n",
       "</tr>\n",
       "<tr>\n",
       "  <th>C(DAYINWEEK)[T.5]</th>       <td>   -1.6224</td> <td>    5.172</td> <td>   -0.314</td> <td> 0.754</td> <td>  -11.769</td> <td>    8.524</td>\n",
       "</tr>\n",
       "<tr>\n",
       "  <th>C(DAYINWEEK)[T.6]</th>       <td>    4.1937</td> <td>    5.139</td> <td>    0.816</td> <td> 0.415</td> <td>   -5.888</td> <td>   14.276</td>\n",
       "</tr>\n",
       "<tr>\n",
       "  <th>C(DAYINWEEK)[T.7]</th>       <td>    9.4472</td> <td>    5.125</td> <td>    1.843</td> <td> 0.066</td> <td>   -0.608</td> <td>   19.502</td>\n",
       "</tr>\n",
       "<tr>\n",
       "  <th>UMCSENT</th>                 <td>    0.1389</td> <td>    0.280</td> <td>    0.495</td> <td> 0.620</td> <td>   -0.411</td> <td>    0.689</td>\n",
       "</tr>\n",
       "</table>\n",
       "<table class=\"simpletable\">\n",
       "<tr>\n",
       "  <th>Omnibus:</th>       <td>1847.211</td> <th>  Durbin-Watson:     </th>  <td>   0.825</td>  \n",
       "</tr>\n",
       "<tr>\n",
       "  <th>Prob(Omnibus):</th>  <td> 0.000</td>  <th>  Jarque-Bera (JB):  </th> <td>1192364.611</td>\n",
       "</tr>\n",
       "<tr>\n",
       "  <th>Skew:</th>           <td> 9.474</td>  <th>  Prob(JB):          </th>  <td>    0.00</td>  \n",
       "</tr>\n",
       "<tr>\n",
       "  <th>Kurtosis:</th>       <td>158.241</td> <th>  Cond. No.          </th>  <td>1.80e+03</td>  \n",
       "</tr>\n",
       "</table>"
      ],
      "text/plain": [
       "<class 'statsmodels.iolib.summary.Summary'>\n",
       "\"\"\"\n",
       "                            OLS Regression Results                            \n",
       "==============================================================================\n",
       "Dep. Variable:           TARGET_UNITS   R-squared:                       0.383\n",
       "Model:                            OLS   Adj. R-squared:                  0.373\n",
       "Method:                 Least Squares   F-statistic:                     37.65\n",
       "Date:                Fri, 18 Aug 2017   Prob (F-statistic):          1.28e-106\n",
       "Time:                        14:23:17   Log-Likelihood:                -6154.6\n",
       "No. Observations:                1170   AIC:                         1.235e+04\n",
       "Df Residuals:                    1150   BIC:                         1.245e+04\n",
       "Df Model:                          19                                         \n",
       "Covariance Type:            nonrobust                                         \n",
       "===========================================================================================\n",
       "                              coef    std err          t      P>|t|      [0.025      0.975]\n",
       "-------------------------------------------------------------------------------------------\n",
       "Intercept                  -6.0691     26.533     -0.229      0.819     -58.128      45.990\n",
       "C(CALENDAR_MONTH)[T.2]     -4.2374      6.592     -0.643      0.520     -17.171       8.697\n",
       "C(CALENDAR_MONTH)[T.3]     19.5670      6.103      3.206      0.001       7.592      31.542\n",
       "C(CALENDAR_MONTH)[T.4]      3.8350      6.230      0.616      0.538      -8.389      16.059\n",
       "C(CALENDAR_MONTH)[T.5]      0.6422      6.150      0.104      0.917     -11.424      12.709\n",
       "C(CALENDAR_MONTH)[T.6]     -6.3831      6.759     -0.944      0.345     -19.645       6.879\n",
       "C(CALENDAR_MONTH)[T.7]      0.0017      6.798      0.000      1.000     -13.336      13.339\n",
       "C(CALENDAR_MONTH)[T.8]     -0.1734      6.753     -0.026      0.980     -13.423      13.076\n",
       "C(CALENDAR_MONTH)[T.9]     -1.9379      6.820     -0.284      0.776     -15.320      11.444\n",
       "C(CALENDAR_MONTH)[T.10]    -2.8770      6.736     -0.427      0.669     -16.094      10.340\n",
       "C(CALENDAR_MONTH)[T.11]    -2.4859      7.070     -0.352      0.725     -16.357      11.386\n",
       "C(CALENDAR_MONTH)[T.12]     2.7791      6.654      0.418      0.676     -10.276      15.834\n",
       "C(EVENT_SKU)[T.1]         168.6095      7.084     23.801      0.000     154.710     182.509\n",
       "C(DAYINWEEK)[T.2]           2.4630      5.206      0.473      0.636      -7.752      12.678\n",
       "C(DAYINWEEK)[T.3]          -1.8217      5.220     -0.349      0.727     -12.064       8.421\n",
       "C(DAYINWEEK)[T.4]          -2.0917      5.177     -0.404      0.686     -12.249       8.066\n",
       "C(DAYINWEEK)[T.5]          -1.6224      5.172     -0.314      0.754     -11.769       8.524\n",
       "C(DAYINWEEK)[T.6]           4.1937      5.139      0.816      0.415      -5.888      14.276\n",
       "C(DAYINWEEK)[T.7]           9.4472      5.125      1.843      0.066      -0.608      19.502\n",
       "UMCSENT                     0.1389      0.280      0.495      0.620      -0.411       0.689\n",
       "==============================================================================\n",
       "Omnibus:                     1847.211   Durbin-Watson:                   0.825\n",
       "Prob(Omnibus):                  0.000   Jarque-Bera (JB):          1192364.611\n",
       "Skew:                           9.474   Prob(JB):                         0.00\n",
       "Kurtosis:                     158.241   Cond. No.                     1.80e+03\n",
       "==============================================================================\n",
       "\n",
       "Warnings:\n",
       "[1] Standard Errors assume that the covariance matrix of the errors is correctly specified.\n",
       "[2] The condition number is large, 1.8e+03. This might indicate that there are\n",
       "strong multicollinearity or other numerical problems.\n",
       "\"\"\""
      ]
     },
     "execution_count": 17,
     "metadata": {},
     "output_type": "execute_result"
    }
   ],
   "source": [
    "formula = 'TARGET_UNITS ~ C(CALENDAR_MONTH) + C(EVENT_SKU) + C(DAYINWEEK) + UMCSENT'\n",
    "model = sts.ols(formula, data=base).fit()\n",
    "model.summary()"
   ]
  },
  {
   "cell_type": "markdown",
   "metadata": {},
   "source": [
    "### Data Description"
   ]
  },
  {
   "cell_type": "code",
   "execution_count": 36,
   "metadata": {
    "scrolled": true
   },
   "outputs": [
    {
     "data": {
      "text/html": [
       "<div>\n",
       "<style>\n",
       "    .dataframe thead tr:only-child th {\n",
       "        text-align: right;\n",
       "    }\n",
       "\n",
       "    .dataframe thead th {\n",
       "        text-align: left;\n",
       "    }\n",
       "\n",
       "    .dataframe tbody tr th {\n",
       "        vertical-align: top;\n",
       "    }\n",
       "</style>\n",
       "<table border=\"1\" class=\"dataframe\">\n",
       "  <thead>\n",
       "    <tr style=\"text-align: right;\">\n",
       "      <th></th>\n",
       "      <th>CALENDAR_QUARTER</th>\n",
       "      <th>CALENDAR_MONTH</th>\n",
       "      <th>DAYINWEEK</th>\n",
       "      <th>UMCSENT</th>\n",
       "      <th>SKU_AGE</th>\n",
       "      <th>EVENT_SKU</th>\n",
       "      <th>TARGET_UNITS</th>\n",
       "    </tr>\n",
       "  </thead>\n",
       "  <tbody>\n",
       "    <tr>\n",
       "      <th>count</th>\n",
       "      <td>1078.000000</td>\n",
       "      <td>1078.000000</td>\n",
       "      <td>1078.000000</td>\n",
       "      <td>1078.000000</td>\n",
       "      <td>1078.0</td>\n",
       "      <td>1078.000000</td>\n",
       "      <td>1078.000000</td>\n",
       "    </tr>\n",
       "    <tr>\n",
       "      <th>mean</th>\n",
       "      <td>2.406308</td>\n",
       "      <td>6.202226</td>\n",
       "      <td>4.072356</td>\n",
       "      <td>90.517254</td>\n",
       "      <td>6033.0</td>\n",
       "      <td>0.012987</td>\n",
       "      <td>13.731911</td>\n",
       "    </tr>\n",
       "    <tr>\n",
       "      <th>std</th>\n",
       "      <td>1.171480</td>\n",
       "      <td>3.638737</td>\n",
       "      <td>2.010270</td>\n",
       "      <td>5.318645</td>\n",
       "      <td>0.0</td>\n",
       "      <td>0.113271</td>\n",
       "      <td>22.987371</td>\n",
       "    </tr>\n",
       "    <tr>\n",
       "      <th>min</th>\n",
       "      <td>1.000000</td>\n",
       "      <td>1.000000</td>\n",
       "      <td>1.000000</td>\n",
       "      <td>80.000000</td>\n",
       "      <td>6033.0</td>\n",
       "      <td>0.000000</td>\n",
       "      <td>1.000000</td>\n",
       "    </tr>\n",
       "    <tr>\n",
       "      <th>25%</th>\n",
       "      <td>1.000000</td>\n",
       "      <td>3.000000</td>\n",
       "      <td>2.000000</td>\n",
       "      <td>87.200000</td>\n",
       "      <td>6033.0</td>\n",
       "      <td>0.000000</td>\n",
       "      <td>3.000000</td>\n",
       "    </tr>\n",
       "    <tr>\n",
       "      <th>50%</th>\n",
       "      <td>2.000000</td>\n",
       "      <td>6.000000</td>\n",
       "      <td>4.000000</td>\n",
       "      <td>91.300000</td>\n",
       "      <td>6033.0</td>\n",
       "      <td>0.000000</td>\n",
       "      <td>6.000000</td>\n",
       "    </tr>\n",
       "    <tr>\n",
       "      <th>75%</th>\n",
       "      <td>4.000000</td>\n",
       "      <td>10.000000</td>\n",
       "      <td>6.000000</td>\n",
       "      <td>94.700000</td>\n",
       "      <td>6033.0</td>\n",
       "      <td>0.000000</td>\n",
       "      <td>15.000000</td>\n",
       "    </tr>\n",
       "    <tr>\n",
       "      <th>max</th>\n",
       "      <td>4.000000</td>\n",
       "      <td>12.000000</td>\n",
       "      <td>7.000000</td>\n",
       "      <td>98.500000</td>\n",
       "      <td>6033.0</td>\n",
       "      <td>1.000000</td>\n",
       "      <td>254.000000</td>\n",
       "    </tr>\n",
       "  </tbody>\n",
       "</table>\n",
       "</div>"
      ],
      "text/plain": [
       "       CALENDAR_QUARTER  CALENDAR_MONTH    DAYINWEEK      UMCSENT  SKU_AGE  \\\n",
       "count       1078.000000     1078.000000  1078.000000  1078.000000   1078.0   \n",
       "mean           2.406308        6.202226     4.072356    90.517254   6033.0   \n",
       "std            1.171480        3.638737     2.010270     5.318645      0.0   \n",
       "min            1.000000        1.000000     1.000000    80.000000   6033.0   \n",
       "25%            1.000000        3.000000     2.000000    87.200000   6033.0   \n",
       "50%            2.000000        6.000000     4.000000    91.300000   6033.0   \n",
       "75%            4.000000       10.000000     6.000000    94.700000   6033.0   \n",
       "max            4.000000       12.000000     7.000000    98.500000   6033.0   \n",
       "\n",
       "         EVENT_SKU  TARGET_UNITS  \n",
       "count  1078.000000   1078.000000  \n",
       "mean      0.012987     13.731911  \n",
       "std       0.113271     22.987371  \n",
       "min       0.000000      1.000000  \n",
       "25%       0.000000      3.000000  \n",
       "50%       0.000000      6.000000  \n",
       "75%       0.000000     15.000000  \n",
       "max       1.000000    254.000000  "
      ]
     },
     "execution_count": 36,
     "metadata": {},
     "output_type": "execute_result"
    }
   ],
   "source": [
    "base.describe()"
   ]
  },
  {
   "cell_type": "markdown",
   "metadata": {},
   "source": [
    "### Point Biserial Correlation\n",
    "For Target_Units vs the Event Sku flag."
   ]
  },
  {
   "cell_type": "code",
   "execution_count": 19,
   "metadata": {
    "scrolled": true
   },
   "outputs": [
    {
     "name": "stdout",
     "output_type": "stream",
     "text": [
      "Point Biserial Correlation \n",
      " Coeff: 0.604804470278\n",
      " pval: 1.23200476493e-117\n"
     ]
    }
   ],
   "source": [
    "corr, pval = stats.pointbiserialr(base['EVENT_SKU'], base['TARGET_UNITS'])\n",
    "print('Point Biserial Correlation \\n Coeff: ' + str(corr) + '\\n pval: ' + str(pval))"
   ]
  },
  {
   "cell_type": "code",
   "execution_count": 20,
   "metadata": {},
   "outputs": [
    {
     "data": {
      "image/png": "[encoded data removed]",
      "text/plain": [
       "<matplotlib.figure.Figure at 0xd67a908>"
      ]
     },
     "metadata": {},
     "output_type": "display_data"
    }
   ],
   "source": [
    "plt.hist(base['TARGET_UNITS'], bins=50)\n",
    "plt.show()"
   ]
  },
  {
   "cell_type": "code",
   "execution_count": null,
   "metadata": {
    "collapsed": true
   },
   "outputs": [],
   "source": []
  }
 ],
 "metadata": {
  "kernelspec": {
   "display_name": "Python 3",
   "language": "python",
   "name": "python3"
  },
  "language_info": {
   "codemirror_mode": {
    "name": "ipython",
    "version": 3
   },
   "file_extension": ".py",
   "mimetype": "text/x-python",
   "name": "python",
   "nbconvert_exporter": "python",
   "pygments_lexer": "ipython3",
   "version": "3.6.1"
  }
 },
 "nbformat": 4,
 "nbformat_minor": 2
}

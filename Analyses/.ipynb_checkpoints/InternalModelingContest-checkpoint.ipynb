{
 "cells": [
  {
   "cell_type": "code",
   "execution_count": 2,
   "metadata": {},
   "outputs": [
    {
     "name": "stderr",
     "output_type": "stream",
     "text": [
      "C:\\ProgramData\\Anaconda3\\lib\\site-packages\\sklearn\\cross_validation.py:44: DeprecationWarning: This module was deprecated in version 0.18 in favor of the model_selection module into which all the refactored classes and functions are moved. Also note that the interface of the new CV iterators are different from that of this module. This module will be removed in 0.20.\n",
      "  \"This module will be removed in 0.20.\", DeprecationWarning)\n"
     ]
    }
   ],
   "source": [
    "import sys\n",
    "import importlib as imp\n",
    "sys.path.insert(0, r\"C:\\users\\pairwin\\Documents\\Github\\HelperPI\")\n",
    "#sys.path.insert(0, r'/home/pirwin/Git/HelperPI')\n",
    "#imp.reload(HelperPI)\n",
    "import HelperPI\n",
    "import itertools\n",
    "import seaborn as sns\n",
    "import pandas as pd\n",
    "import scipy.stats as stats\n",
    "from scipy.special import inv_boxcox\n",
    "from scipy.stats.distributions import uniform, lognorm\n",
    "import matplotlib.pyplot as plt\n",
    "import matplotlib\n",
    "import statsmodels.formula.api as sts\n",
    "import numpy as np\n",
    "import math\n",
    "import xgboost as xgb\n",
    "from sklearn.ensemble import RandomForestRegressor\n",
    "from sklearn.preprocessing import Imputer, MinMaxScaler\n",
    "from sklearn.model_selection import GridSearchCV, cross_val_score, RandomizedSearchCV\n",
    "from sklearn.externals import joblib\n",
    "from sklearn.preprocessing import StandardScaler, Normalizer, RobustScaler\n",
    "from scipy import interp\n",
    "from sklearn.metrics import r2_score, mean_squared_error, mean_absolute_error\n",
    "from sklearn.linear_model import LinearRegression, LassoLars, HuberRegressor, ElasticNet, Ridge\n",
    "from sklearn.svm import LinearSVR\n",
    "from sklearn.kernel_ridge import KernelRidge\n",
    "from time import time\n",
    "from sklearn.neural_network import MLPRegressor\n",
    "from sklearn.feature_selection import SelectKBest, f_regression\n",
    "import lightgbm as lgbm\n",
    "import tensorflow as tf\n",
    "\n",
    "%matplotlib inline\n",
    "\n",
    "matplotlib.rcParams['figure.figsize'] = (11,8)\n",
    "\n",
    "pd.options.mode.chained_assignment = None\n",
    "pd.options.display.max_columns = 999\n"
   ]
  },
  {
   "cell_type": "code",
   "execution_count": 3,
   "metadata": {},
   "outputs": [
    {
     "name": "stderr",
     "output_type": "stream",
     "text": [
      "INFO:root:Initializing...\n"
     ]
    }
   ],
   "source": [
    "helper = HelperPI.Helper()"
   ]
  },
  {
   "cell_type": "code",
   "execution_count": 4,
   "metadata": {
    "scrolled": true
   },
   "outputs": [
    {
     "name": "stderr",
     "output_type": "stream",
     "text": [
      "INFO:root:Reading data...\n",
      "INFO:root:Data read complete...\n",
      "INFO:root:Read: 80000 rows.\n"
     ]
    },
    {
     "name": "stdout",
     "output_type": "stream",
     "text": [
      "                           Count Column Type\n",
      "0                      LAST_NAME      object\n",
      "1                 ADDRESS_LINE_1      object\n",
      "2                 ADDRESS_LINE_2      object\n",
      "3                      CITY_NAME      object\n",
      "4                     STATE_CODE      object\n",
      "5                   COUNTRY_CODE      object\n",
      "6                            ZIP      object\n",
      "7                        ZIP_EXT      object\n",
      "8                      SALES_R12     float64\n",
      "9                      SALES_R24     float64\n",
      "10                     SALES_R48     float64\n",
      "11                     SALES_RLT     float64\n",
      "12       FISHING_MARINE_SALES_LT     float64\n",
      "13  CAMPING_WATERSPORTS_SALES_LT     float64\n",
      "14    HUNTING_HUNTCLOTH_SALES_LT     float64\n",
      "15             FOOTWEAR_SALES_LT     float64\n",
      "16             SHOOTING_SALES_LT     float64\n",
      "17                 GIFT_SALES_LT     float64\n",
      "18              APPAREL_SALES_LT     float64\n",
      "19                OTHER_SALES_LT     float64\n",
      "20                     VISITS_LT     float64\n",
      "21              FISH_MARINE_PERC     float64\n",
      "22      CAMPING_WATERSPORTS_PERC     float64\n",
      "23                  HUNTING_PERC     float64\n",
      "24                 FOOTWEAR_PERC     float64\n",
      "25                 SHOOTING_PERC     float64\n",
      "26                     GIFT_PERC     float64\n",
      "27                  APPAREL_PERC     float64\n",
      "28                    OTHER_PERC     float64\n",
      "29           DAYS_SINCE_PURCHASE     float64\n",
      "30              DAYS_AS_CUSTOMER     float64\n",
      "31              REWARDS_CUSTOMER       int64\n",
      "32                     YOY_TREND     float64\n",
      "33              SALES_TARGET_N12     float64\n"
     ]
    }
   ],
   "source": [
    "sql = helper.getSQL(path=r'C:\\Users\\pairwin\\Documents\\GitHub\\IPy_Notebooks\\SQL\\Contest_Sql.sql')\n",
    "base, dtypedf = helper.readData(sql)"
   ]
  },
  {
   "cell_type": "code",
   "execution_count": 5,
   "metadata": {},
   "outputs": [
    {
     "data": {
      "text/html": [
       "<div>\n",
       "<style>\n",
       "    .dataframe thead tr:only-child th {\n",
       "        text-align: right;\n",
       "    }\n",
       "\n",
       "    .dataframe thead th {\n",
       "        text-align: left;\n",
       "    }\n",
       "\n",
       "    .dataframe tbody tr th {\n",
       "        vertical-align: top;\n",
       "    }\n",
       "</style>\n",
       "<table border=\"1\" class=\"dataframe\">\n",
       "  <thead>\n",
       "    <tr style=\"text-align: right;\">\n",
       "      <th></th>\n",
       "      <th>SALES_R12</th>\n",
       "      <th>SALES_R24</th>\n",
       "      <th>SALES_R48</th>\n",
       "      <th>SALES_RLT</th>\n",
       "      <th>FISHING_MARINE_SALES_LT</th>\n",
       "      <th>CAMPING_WATERSPORTS_SALES_LT</th>\n",
       "      <th>HUNTING_HUNTCLOTH_SALES_LT</th>\n",
       "      <th>FOOTWEAR_SALES_LT</th>\n",
       "      <th>SHOOTING_SALES_LT</th>\n",
       "      <th>GIFT_SALES_LT</th>\n",
       "      <th>APPAREL_SALES_LT</th>\n",
       "      <th>OTHER_SALES_LT</th>\n",
       "      <th>VISITS_LT</th>\n",
       "      <th>FISH_MARINE_PERC</th>\n",
       "      <th>CAMPING_WATERSPORTS_PERC</th>\n",
       "      <th>HUNTING_PERC</th>\n",
       "      <th>FOOTWEAR_PERC</th>\n",
       "      <th>SHOOTING_PERC</th>\n",
       "      <th>GIFT_PERC</th>\n",
       "      <th>APPAREL_PERC</th>\n",
       "      <th>OTHER_PERC</th>\n",
       "      <th>DAYS_SINCE_PURCHASE</th>\n",
       "      <th>DAYS_AS_CUSTOMER</th>\n",
       "      <th>REWARDS_CUSTOMER</th>\n",
       "      <th>YOY_TREND</th>\n",
       "      <th>SALES_TARGET_N12</th>\n",
       "    </tr>\n",
       "  </thead>\n",
       "  <tbody>\n",
       "    <tr>\n",
       "      <th>count</th>\n",
       "      <td>79884.000000</td>\n",
       "      <td>79884.000000</td>\n",
       "      <td>79884.000000</td>\n",
       "      <td>79884.000000</td>\n",
       "      <td>79884.000000</td>\n",
       "      <td>79884.000000</td>\n",
       "      <td>79884.000000</td>\n",
       "      <td>79884.000000</td>\n",
       "      <td>79884.000000</td>\n",
       "      <td>79884.000000</td>\n",
       "      <td>79884.000000</td>\n",
       "      <td>79884.000000</td>\n",
       "      <td>79884.000000</td>\n",
       "      <td>79864.000000</td>\n",
       "      <td>79864.000000</td>\n",
       "      <td>79864.000000</td>\n",
       "      <td>79864.000000</td>\n",
       "      <td>79864.000000</td>\n",
       "      <td>79864.000000</td>\n",
       "      <td>79864.000000</td>\n",
       "      <td>79864.000000</td>\n",
       "      <td>79864.000000</td>\n",
       "      <td>79864.000000</td>\n",
       "      <td>79884.00000</td>\n",
       "      <td>79884.000000</td>\n",
       "      <td>79884.000000</td>\n",
       "    </tr>\n",
       "    <tr>\n",
       "      <th>mean</th>\n",
       "      <td>81.283261</td>\n",
       "      <td>166.737716</td>\n",
       "      <td>337.365305</td>\n",
       "      <td>669.695384</td>\n",
       "      <td>185.995734</td>\n",
       "      <td>61.014169</td>\n",
       "      <td>138.208871</td>\n",
       "      <td>47.693160</td>\n",
       "      <td>96.554894</td>\n",
       "      <td>31.342990</td>\n",
       "      <td>97.654925</td>\n",
       "      <td>11.230641</td>\n",
       "      <td>6.880139</td>\n",
       "      <td>0.209572</td>\n",
       "      <td>0.104597</td>\n",
       "      <td>0.153181</td>\n",
       "      <td>0.082690</td>\n",
       "      <td>0.110680</td>\n",
       "      <td>0.114648</td>\n",
       "      <td>0.204548</td>\n",
       "      <td>0.020084</td>\n",
       "      <td>950.949902</td>\n",
       "      <td>1989.646512</td>\n",
       "      <td>0.38959</td>\n",
       "      <td>0.059722</td>\n",
       "      <td>53.634957</td>\n",
       "    </tr>\n",
       "    <tr>\n",
       "      <th>std</th>\n",
       "      <td>250.591391</td>\n",
       "      <td>444.037198</td>\n",
       "      <td>974.124976</td>\n",
       "      <td>2115.714871</td>\n",
       "      <td>919.627612</td>\n",
       "      <td>203.282985</td>\n",
       "      <td>740.469756</td>\n",
       "      <td>142.020305</td>\n",
       "      <td>440.621371</td>\n",
       "      <td>105.374053</td>\n",
       "      <td>283.075730</td>\n",
       "      <td>68.630142</td>\n",
       "      <td>17.804579</td>\n",
       "      <td>0.328190</td>\n",
       "      <td>0.230967</td>\n",
       "      <td>0.273178</td>\n",
       "      <td>0.204632</td>\n",
       "      <td>0.252063</td>\n",
       "      <td>0.249462</td>\n",
       "      <td>0.308725</td>\n",
       "      <td>0.102774</td>\n",
       "      <td>423.998959</td>\n",
       "      <td>1212.798530</td>\n",
       "      <td>0.48766</td>\n",
       "      <td>4.770040</td>\n",
       "      <td>189.717536</td>\n",
       "    </tr>\n",
       "    <tr>\n",
       "      <th>min</th>\n",
       "      <td>0.000000</td>\n",
       "      <td>-54.990000</td>\n",
       "      <td>0.490000</td>\n",
       "      <td>0.000000</td>\n",
       "      <td>0.000000</td>\n",
       "      <td>0.000000</td>\n",
       "      <td>0.000000</td>\n",
       "      <td>0.000000</td>\n",
       "      <td>0.000000</td>\n",
       "      <td>0.000000</td>\n",
       "      <td>0.000000</td>\n",
       "      <td>0.000000</td>\n",
       "      <td>0.000000</td>\n",
       "      <td>0.000000</td>\n",
       "      <td>0.000000</td>\n",
       "      <td>0.000000</td>\n",
       "      <td>0.000000</td>\n",
       "      <td>0.000000</td>\n",
       "      <td>0.000000</td>\n",
       "      <td>0.000000</td>\n",
       "      <td>0.000000</td>\n",
       "      <td>365.000000</td>\n",
       "      <td>365.000000</td>\n",
       "      <td>0.00000</td>\n",
       "      <td>-6.003640</td>\n",
       "      <td>0.000000</td>\n",
       "    </tr>\n",
       "    <tr>\n",
       "      <th>25%</th>\n",
       "      <td>0.000000</td>\n",
       "      <td>0.000000</td>\n",
       "      <td>35.940000</td>\n",
       "      <td>48.970000</td>\n",
       "      <td>0.000000</td>\n",
       "      <td>0.000000</td>\n",
       "      <td>0.000000</td>\n",
       "      <td>0.000000</td>\n",
       "      <td>0.000000</td>\n",
       "      <td>0.000000</td>\n",
       "      <td>0.000000</td>\n",
       "      <td>0.000000</td>\n",
       "      <td>1.000000</td>\n",
       "      <td>0.000000</td>\n",
       "      <td>0.000000</td>\n",
       "      <td>0.000000</td>\n",
       "      <td>0.000000</td>\n",
       "      <td>0.000000</td>\n",
       "      <td>0.000000</td>\n",
       "      <td>0.000000</td>\n",
       "      <td>0.000000</td>\n",
       "      <td>574.000000</td>\n",
       "      <td>1026.000000</td>\n",
       "      <td>0.00000</td>\n",
       "      <td>-0.931476</td>\n",
       "      <td>0.000000</td>\n",
       "    </tr>\n",
       "    <tr>\n",
       "      <th>50%</th>\n",
       "      <td>0.000000</td>\n",
       "      <td>30.970000</td>\n",
       "      <td>95.970000</td>\n",
       "      <td>146.785000</td>\n",
       "      <td>0.000000</td>\n",
       "      <td>0.000000</td>\n",
       "      <td>0.000000</td>\n",
       "      <td>0.000000</td>\n",
       "      <td>0.000000</td>\n",
       "      <td>1.790000</td>\n",
       "      <td>9.990000</td>\n",
       "      <td>0.000000</td>\n",
       "      <td>2.000000</td>\n",
       "      <td>0.000000</td>\n",
       "      <td>0.000000</td>\n",
       "      <td>0.000000</td>\n",
       "      <td>0.000000</td>\n",
       "      <td>0.000000</td>\n",
       "      <td>0.005652</td>\n",
       "      <td>0.025008</td>\n",
       "      <td>0.000000</td>\n",
       "      <td>876.000000</td>\n",
       "      <td>1592.000000</td>\n",
       "      <td>0.00000</td>\n",
       "      <td>0.000000</td>\n",
       "      <td>0.000000</td>\n",
       "    </tr>\n",
       "    <tr>\n",
       "      <th>75%</th>\n",
       "      <td>56.162500</td>\n",
       "      <td>136.962500</td>\n",
       "      <td>279.900000</td>\n",
       "      <td>512.297500</td>\n",
       "      <td>77.085000</td>\n",
       "      <td>32.980000</td>\n",
       "      <td>55.205000</td>\n",
       "      <td>29.770000</td>\n",
       "      <td>22.990000</td>\n",
       "      <td>20.910000</td>\n",
       "      <td>79.880000</td>\n",
       "      <td>0.000000</td>\n",
       "      <td>5.000000</td>\n",
       "      <td>0.329524</td>\n",
       "      <td>0.078961</td>\n",
       "      <td>0.192621</td>\n",
       "      <td>0.047009</td>\n",
       "      <td>0.050595</td>\n",
       "      <td>0.081924</td>\n",
       "      <td>0.294854</td>\n",
       "      <td>0.000000</td>\n",
       "      <td>1292.000000</td>\n",
       "      <td>2997.000000</td>\n",
       "      <td>1.00000</td>\n",
       "      <td>0.000000</td>\n",
       "      <td>0.000000</td>\n",
       "    </tr>\n",
       "    <tr>\n",
       "      <th>max</th>\n",
       "      <td>10546.550000</td>\n",
       "      <td>19732.250000</td>\n",
       "      <td>159998.240000</td>\n",
       "      <td>337578.590000</td>\n",
       "      <td>134160.120000</td>\n",
       "      <td>15179.990000</td>\n",
       "      <td>146819.350000</td>\n",
       "      <td>7005.880000</td>\n",
       "      <td>43493.790000</td>\n",
       "      <td>4362.690000</td>\n",
       "      <td>18441.220000</td>\n",
       "      <td>9303.830000</td>\n",
       "      <td>1138.000000</td>\n",
       "      <td>1.000000</td>\n",
       "      <td>1.000000</td>\n",
       "      <td>1.000000</td>\n",
       "      <td>1.000000</td>\n",
       "      <td>1.000000</td>\n",
       "      <td>1.000000</td>\n",
       "      <td>1.000000</td>\n",
       "      <td>1.000000</td>\n",
       "      <td>3280.000000</td>\n",
       "      <td>4342.000000</td>\n",
       "      <td>1.00000</td>\n",
       "      <td>657.567797</td>\n",
       "      <td>2563.390000</td>\n",
       "    </tr>\n",
       "  </tbody>\n",
       "</table>\n",
       "</div>"
      ],
      "text/plain": [
       "          SALES_R12     SALES_R24      SALES_R48      SALES_RLT  \\\n",
       "count  79884.000000  79884.000000   79884.000000   79884.000000   \n",
       "mean      81.283261    166.737716     337.365305     669.695384   \n",
       "std      250.591391    444.037198     974.124976    2115.714871   \n",
       "min        0.000000    -54.990000       0.490000       0.000000   \n",
       "25%        0.000000      0.000000      35.940000      48.970000   \n",
       "50%        0.000000     30.970000      95.970000     146.785000   \n",
       "75%       56.162500    136.962500     279.900000     512.297500   \n",
       "max    10546.550000  19732.250000  159998.240000  337578.590000   \n",
       "\n",
       "       FISHING_MARINE_SALES_LT  CAMPING_WATERSPORTS_SALES_LT  \\\n",
       "count             79884.000000                  79884.000000   \n",
       "mean                185.995734                     61.014169   \n",
       "std                 919.627612                    203.282985   \n",
       "min                   0.000000                      0.000000   \n",
       "25%                   0.000000                      0.000000   \n",
       "50%                   0.000000                      0.000000   \n",
       "75%                  77.085000                     32.980000   \n",
       "max              134160.120000                  15179.990000   \n",
       "\n",
       "       HUNTING_HUNTCLOTH_SALES_LT  FOOTWEAR_SALES_LT  SHOOTING_SALES_LT  \\\n",
       "count                79884.000000       79884.000000       79884.000000   \n",
       "mean                   138.208871          47.693160          96.554894   \n",
       "std                    740.469756         142.020305         440.621371   \n",
       "min                      0.000000           0.000000           0.000000   \n",
       "25%                      0.000000           0.000000           0.000000   \n",
       "50%                      0.000000           0.000000           0.000000   \n",
       "75%                     55.205000          29.770000          22.990000   \n",
       "max                 146819.350000        7005.880000       43493.790000   \n",
       "\n",
       "       GIFT_SALES_LT  APPAREL_SALES_LT  OTHER_SALES_LT     VISITS_LT  \\\n",
       "count   79884.000000      79884.000000    79884.000000  79884.000000   \n",
       "mean       31.342990         97.654925       11.230641      6.880139   \n",
       "std       105.374053        283.075730       68.630142     17.804579   \n",
       "min         0.000000          0.000000        0.000000      0.000000   \n",
       "25%         0.000000          0.000000        0.000000      1.000000   \n",
       "50%         1.790000          9.990000        0.000000      2.000000   \n",
       "75%        20.910000         79.880000        0.000000      5.000000   \n",
       "max      4362.690000      18441.220000     9303.830000   1138.000000   \n",
       "\n",
       "       FISH_MARINE_PERC  CAMPING_WATERSPORTS_PERC  HUNTING_PERC  \\\n",
       "count      79864.000000              79864.000000  79864.000000   \n",
       "mean           0.209572                  0.104597      0.153181   \n",
       "std            0.328190                  0.230967      0.273178   \n",
       "min            0.000000                  0.000000      0.000000   \n",
       "25%            0.000000                  0.000000      0.000000   \n",
       "50%            0.000000                  0.000000      0.000000   \n",
       "75%            0.329524                  0.078961      0.192621   \n",
       "max            1.000000                  1.000000      1.000000   \n",
       "\n",
       "       FOOTWEAR_PERC  SHOOTING_PERC     GIFT_PERC  APPAREL_PERC    OTHER_PERC  \\\n",
       "count   79864.000000   79864.000000  79864.000000  79864.000000  79864.000000   \n",
       "mean        0.082690       0.110680      0.114648      0.204548      0.020084   \n",
       "std         0.204632       0.252063      0.249462      0.308725      0.102774   \n",
       "min         0.000000       0.000000      0.000000      0.000000      0.000000   \n",
       "25%         0.000000       0.000000      0.000000      0.000000      0.000000   \n",
       "50%         0.000000       0.000000      0.005652      0.025008      0.000000   \n",
       "75%         0.047009       0.050595      0.081924      0.294854      0.000000   \n",
       "max         1.000000       1.000000      1.000000      1.000000      1.000000   \n",
       "\n",
       "       DAYS_SINCE_PURCHASE  DAYS_AS_CUSTOMER  REWARDS_CUSTOMER     YOY_TREND  \\\n",
       "count         79864.000000      79864.000000       79884.00000  79884.000000   \n",
       "mean            950.949902       1989.646512           0.38959      0.059722   \n",
       "std             423.998959       1212.798530           0.48766      4.770040   \n",
       "min             365.000000        365.000000           0.00000     -6.003640   \n",
       "25%             574.000000       1026.000000           0.00000     -0.931476   \n",
       "50%             876.000000       1592.000000           0.00000      0.000000   \n",
       "75%            1292.000000       2997.000000           1.00000      0.000000   \n",
       "max            3280.000000       4342.000000           1.00000    657.567797   \n",
       "\n",
       "       SALES_TARGET_N12  \n",
       "count      79884.000000  \n",
       "mean          53.634957  \n",
       "std          189.717536  \n",
       "min            0.000000  \n",
       "25%            0.000000  \n",
       "50%            0.000000  \n",
       "75%            0.000000  \n",
       "max         2563.390000  "
      ]
     },
     "execution_count": 5,
     "metadata": {},
     "output_type": "execute_result"
    }
   ],
   "source": [
    "mean = np.mean(base['SALES_TARGET_N12'])\n",
    "std = np.std(base['SALES_TARGET_N12'])\n",
    "mean, std\n",
    "\n",
    "base = base[base['SALES_TARGET_N12'] < mean+std*10]\n",
    "\n",
    "#base['SALES_TARGET_N12_CBRT'], lmda = stats.boxcox(base['SALES_TARGET_N12'])\n",
    "base.describe()"
   ]
  },
  {
   "cell_type": "code",
   "execution_count": 6,
   "metadata": {
    "collapsed": true
   },
   "outputs": [],
   "source": [
    "# plt.hist(base['SALES_TARGET_N12_CBRT'], bins=20)\n",
    "# plt.show()\n",
    "# print(lmda)"
   ]
  },
  {
   "cell_type": "code",
   "execution_count": 7,
   "metadata": {},
   "outputs": [
    {
     "data": {
      "text/plain": [
       "count    79884.000000\n",
       "mean        53.634957\n",
       "std        189.717536\n",
       "min          0.000000\n",
       "25%          0.000000\n",
       "50%          0.000000\n",
       "75%          0.000000\n",
       "max       2563.390000\n",
       "Name: SALES_TARGET_N12, dtype: float64"
      ]
     },
     "execution_count": 7,
     "metadata": {},
     "output_type": "execute_result"
    }
   ],
   "source": [
    "base['SALES_TARGET_N12'].describe()"
   ]
  },
  {
   "cell_type": "code",
   "execution_count": 8,
   "metadata": {
    "collapsed": true
   },
   "outputs": [],
   "source": [
    "collist = ['SALES_R12','SALES_R24','SALES_R48','SALES_RLT','FISHING_MARINE_SALES_LT','CAMPING_WATERSPORTS_SALES_LT',\n",
    "         'HUNTING_HUNTCLOTH_SALES_LT','FOOTWEAR_SALES_LT','SHOOTING_SALES_LT','GIFT_SALES_LT','APPAREL_SALES_LT',\n",
    "         'OTHER_SALES_LT','VISITS_LT','FISH_MARINE_PERC','CAMPING_WATERSPORTS_PERC','HUNTING_PERC','FOOTWEAR_PERC',\n",
    "         'SHOOTING_PERC','GIFT_PERC','APPAREL_PERC','OTHER_PERC','DAYS_SINCE_PURCHASE','DAYS_AS_CUSTOMER','REWARDS_CUSTOMER',\n",
    "         'YOY_TREND','SALES_TARGET_N12']\n",
    "collist_X = ['SALES_R12','SALES_R24','SALES_R48','SALES_RLT','FISHING_MARINE_SALES_LT','CAMPING_WATERSPORTS_SALES_LT',\n",
    "         'HUNTING_HUNTCLOTH_SALES_LT','FOOTWEAR_SALES_LT','SHOOTING_SALES_LT','GIFT_SALES_LT','APPAREL_SALES_LT',\n",
    "         'OTHER_SALES_LT','VISITS_LT','FISH_MARINE_PERC','CAMPING_WATERSPORTS_PERC','HUNTING_PERC','FOOTWEAR_PERC',\n",
    "         'SHOOTING_PERC','GIFT_PERC','APPAREL_PERC','OTHER_PERC','DAYS_SINCE_PURCHASE','DAYS_AS_CUSTOMER','REWARDS_CUSTOMER',\n",
    "         'YOY_TREND']\n",
    "#collist_y = ['SALES_TARGET_N12_CBRT']\n",
    "collist_y = ['SALES_TARGET_N12']"
   ]
  },
  {
   "cell_type": "code",
   "execution_count": 9,
   "metadata": {},
   "outputs": [
    {
     "name": "stdout",
     "output_type": "stream",
     "text": [
      "(31953, 26) (31954, 26) (15977, 26)\n"
     ]
    },
    {
     "name": "stderr",
     "output_type": "stream",
     "text": [
      "C:\\ProgramData\\Anaconda3\\lib\\site-packages\\scipy\\stats\\stats.py:5277: RuntimeWarning: invalid value encountered in less\n",
      "  x = np.where(x < 1.0, x, 1.0)  # if x > 1 then return 1.0\n"
     ]
    }
   ],
   "source": [
    "train, test = helper.splitData(base[collist], .8)\n",
    "\n",
    "train, val = helper.splitData(train, 0.5)\n",
    "\n",
    "print(train.shape, val.shape, test.shape)\n",
    "\n",
    "train_X = train[collist_X]\n",
    "\n",
    "train_y = train[collist_y].as_matrix().ravel()\n",
    "val_X = val[collist_X]\n",
    "val_y = val[collist_y].as_matrix().ravel()\n",
    "test_X = test[collist_X]\n",
    "test_y = test[collist_y].as_matrix().ravel()\n",
    "\n",
    "\n",
    "interactions = helper.find_iteractions(train_X, train_y)\n",
    "interactions.to_csv('interactions.csv')"
   ]
  },
  {
   "cell_type": "code",
   "execution_count": 10,
   "metadata": {},
   "outputs": [
    {
     "data": {
      "image/png": "[encoded data removed]",
      "text/plain": [
       "<matplotlib.figure.Figure at 0x263d6048>"
      ]
     },
     "metadata": {},
     "output_type": "display_data"
    }
   ],
   "source": [
    "plt.hist(train_y, bins = 10)\n",
    "plt.show()"
   ]
  },
  {
   "cell_type": "code",
   "execution_count": 11,
   "metadata": {
    "collapsed": true
   },
   "outputs": [],
   "source": [
    "collist_X = ['SALES_R12','SALES_R24','SALES_R48','SALES_RLT','FISHING_MARINE_SALES_LT','CAMPING_WATERSPORTS_SALES_LT',\n",
    "         'HUNTING_HUNTCLOTH_SALES_LT','FOOTWEAR_SALES_LT','SHOOTING_SALES_LT','GIFT_SALES_LT','APPAREL_SALES_LT',\n",
    "         'OTHER_SALES_LT','VISITS_LT','FISH_MARINE_PERC','CAMPING_WATERSPORTS_PERC','HUNTING_PERC','FOOTWEAR_PERC',\n",
    "         'SHOOTING_PERC','GIFT_PERC','APPAREL_PERC','OTHER_PERC','DAYS_SINCE_PURCHASE','DAYS_AS_CUSTOMER','REWARDS_CUSTOMER',\n",
    "         'YOY_TREND', 'SALES_R12*REWARDS_CUSTOMER']\n",
    "\n",
    "train_X['SALES_R12*REWARDS_CUSTOMER'] = train_X['SALES_R12']*train_X['REWARDS_CUSTOMER']\n",
    "val_X['SALES_R12*REWARDS_CUSTOMER'] = val_X['SALES_R12']*val_X['REWARDS_CUSTOMER']\n",
    "test_X['SALES_R12*REWARDS_CUSTOMER'] = test_X['SALES_R12']*test_X['REWARDS_CUSTOMER']\n",
    "\n",
    "imr = Imputer(missing_values='NaN',strategy='median',axis=0)\n",
    "imr = imr.fit(train_X)\n",
    "\n",
    "train_X = pd.DataFrame(imr.transform(train_X.values), columns = collist_X)\n",
    "val_X = pd.DataFrame(imr.transform(val_X.values), columns = collist_X)\n",
    "test_X = pd.DataFrame(imr.transform(test_X.values), columns = collist_X)\n",
    "\n",
    "stdsc = StandardScaler()\n",
    "stdsc.fit(train_X)\n",
    "\n",
    "train_X = pd.DataFrame(stdsc.transform(train_X.values), columns = collist_X)\n",
    "val_X = pd.DataFrame(stdsc.transform(val_X.values), columns = collist_X)\n",
    "test_X = pd.DataFrame(stdsc.transform(test_X.values), columns = collist_X)\n",
    "\n",
    "for var in collist_X:\n",
    "    name = var + '_cbrt'\n",
    "    train_X[name] = np.cbrt(train_X[var])\n",
    "    val_X[name] = np.cbrt(val_X[var])\n",
    "    test_X[name] = np.cbrt(test_X[var])\n",
    "    name = var + '_sq'\n",
    "    train_X[name] = np.power(train_X[var], 2)\n",
    "    val_X[name] = np.power(val_X[var], 2)\n",
    "    test_X[name] = np.power(test_X[var], 2)\n",
    "   \n",
    "    \n",
    "collist_X_expanded = train_X.columns.values\n"
   ]
  },
  {
   "cell_type": "code",
   "execution_count": 12,
   "metadata": {
    "collapsed": true
   },
   "outputs": [],
   "source": [
    "collist_X_expanded = collist_X_expanded.tolist()"
   ]
  },
  {
   "cell_type": "code",
   "execution_count": 13,
   "metadata": {},
   "outputs": [
    {
     "data": {
      "text/html": [
       "<div>\n",
       "<style>\n",
       "    .dataframe thead tr:only-child th {\n",
       "        text-align: right;\n",
       "    }\n",
       "\n",
       "    .dataframe thead th {\n",
       "        text-align: left;\n",
       "    }\n",
       "\n",
       "    .dataframe tbody tr th {\n",
       "        vertical-align: top;\n",
       "    }\n",
       "</style>\n",
       "<table border=\"1\" class=\"dataframe\">\n",
       "  <thead>\n",
       "    <tr style=\"text-align: right;\">\n",
       "      <th></th>\n",
       "      <th>column_name</th>\n",
       "      <th>missing_count</th>\n",
       "      <th>missing_ratio</th>\n",
       "    </tr>\n",
       "  </thead>\n",
       "  <tbody>\n",
       "  </tbody>\n",
       "</table>\n",
       "</div>"
      ],
      "text/plain": [
       "Empty DataFrame\n",
       "Columns: [column_name, missing_count, missing_ratio]\n",
       "Index: []"
      ]
     },
     "execution_count": 13,
     "metadata": {},
     "output_type": "execute_result"
    }
   ],
   "source": [
    "missing_df = train_X.isnull().sum(axis=0).reset_index()\n",
    "missing_df.columns = ['column_name', 'missing_count']\n",
    "missing_df['missing_ratio'] = missing_df['missing_count'] / train_X.shape[0]\n",
    "missing_df.loc[missing_df['missing_ratio']>0.01]\n",
    "\n"
   ]
  },
  {
   "cell_type": "code",
   "execution_count": null,
   "metadata": {
    "collapsed": true
   },
   "outputs": [],
   "source": []
  },
  {
   "cell_type": "code",
   "execution_count": 14,
   "metadata": {},
   "outputs": [
    {
     "name": "stdout",
     "output_type": "stream",
     "text": [
      "Anderson-Darling: 8179.644341211271 Critical Value: 0.787 \n",
      "train_y is not normally distributed\n"
     ]
    },
    {
     "data": {
      "image/png": "[encoded data removed]",
      "text/plain": [
       "<matplotlib.figure.Figure at 0x22c1ccf8>"
      ]
     },
     "metadata": {},
     "output_type": "display_data"
    }
   ],
   "source": [
    "stat, cv, sig = stats.anderson(train_y, 'norm')\n",
    "print('Anderson-Darling: {} Critical Value: {} '.format(stat, cv[2]))\n",
    "if stat > cv[2]:\n",
    "    print('train_y is not normally distributed')\n",
    "else:\n",
    "    print('train_y is normally distributed')\n",
    "plt.hist(train_y, bins=25)\n",
    "plt.show()"
   ]
  },
  {
   "cell_type": "code",
   "execution_count": 15,
   "metadata": {
    "scrolled": false
   },
   "outputs": [
    {
     "name": "stdout",
     "output_type": "stream",
     "text": [
      "                                      APPAREL_PERC Corr Coef:   -0.04 - pval:  0.0000\n",
      "                                 APPAREL_PERC_cbrt Corr Coef:   -0.02 - pval:  0.0000\n",
      "                                   APPAREL_PERC_sq Corr Coef:   -0.09 - pval:  0.0000\n",
      "                                  APPAREL_SALES_LT Corr Coef:    0.36 - pval:  0.0000\n",
      "                             APPAREL_SALES_LT_cbrt Corr Coef:    0.33 - pval:  0.0000\n",
      "                               APPAREL_SALES_LT_sq Corr Coef:     0.2 - pval:  0.0000\n",
      "                          CAMPING_WATERSPORTS_PERC Corr Coef:   -0.02 - pval:  0.0022\n",
      "                     CAMPING_WATERSPORTS_PERC_cbrt Corr Coef:    0.02 - pval:  0.0000\n",
      "                       CAMPING_WATERSPORTS_PERC_sq Corr Coef:   -0.06 - pval:  0.0000\n",
      "                      CAMPING_WATERSPORTS_SALES_LT Corr Coef:     0.3 - pval:  0.0000\n",
      "                 CAMPING_WATERSPORTS_SALES_LT_cbrt Corr Coef:    0.31 - pval:  0.0000\n",
      "                   CAMPING_WATERSPORTS_SALES_LT_sq Corr Coef:    0.06 - pval:  0.0000\n",
      "                                  DAYS_AS_CUSTOMER Corr Coef:    0.18 - pval:  0.0000\n",
      "                             DAYS_AS_CUSTOMER_cbrt Corr Coef:    0.17 - pval:  0.0000\n",
      "                               DAYS_AS_CUSTOMER_sq Corr Coef:    0.18 - pval:  0.0000\n",
      "                               DAYS_SINCE_PURCHASE Corr Coef:   -0.25 - pval:  0.0000\n",
      "                          DAYS_SINCE_PURCHASE_cbrt Corr Coef:   -0.23 - pval:  0.0000\n",
      "                            DAYS_SINCE_PURCHASE_sq Corr Coef:    0.07 - pval:  0.0000\n",
      "                                  FISH_MARINE_PERC Corr Coef:    0.07 - pval:  0.0000\n",
      "                             FISH_MARINE_PERC_cbrt Corr Coef:    0.09 - pval:  0.0000\n",
      "                               FISH_MARINE_PERC_sq Corr Coef:   -0.01 - pval:  0.0074\n",
      "                           FISHING_MARINE_SALES_LT Corr Coef:    0.24 - pval:  0.0000\n",
      "                      FISHING_MARINE_SALES_LT_cbrt Corr Coef:    0.36 - pval:  0.0000\n",
      "                        FISHING_MARINE_SALES_LT_sq Corr Coef:    0.01 - pval:  0.0114\n",
      "                                     FOOTWEAR_PERC Corr Coef:   -0.01 - pval:  0.0164\n",
      "                                FOOTWEAR_PERC_cbrt Corr Coef:    0.04 - pval:  0.0000\n",
      "                                  FOOTWEAR_PERC_sq Corr Coef:   -0.05 - pval:  0.0000\n",
      "                                 FOOTWEAR_SALES_LT Corr Coef:    0.34 - pval:  0.0000\n",
      "                            FOOTWEAR_SALES_LT_cbrt Corr Coef:     0.3 - pval:  0.0000\n",
      "                              FOOTWEAR_SALES_LT_sq Corr Coef:    0.12 - pval:  0.0000\n",
      "                                         GIFT_PERC Corr Coef:   -0.07 - pval:  0.0000\n",
      "                                    GIFT_PERC_cbrt Corr Coef:   -0.07 - pval:  0.0000\n",
      "                                      GIFT_PERC_sq Corr Coef:   -0.07 - pval:  0.0000\n",
      "                                     GIFT_SALES_LT Corr Coef:    0.28 - pval:  0.0000\n",
      "                                GIFT_SALES_LT_cbrt Corr Coef:    0.29 - pval:  0.0000\n",
      "                                  GIFT_SALES_LT_sq Corr Coef:    0.13 - pval:  0.0000\n",
      "                        HUNTING_HUNTCLOTH_SALES_LT Corr Coef:    0.19 - pval:  0.0000\n",
      "                   HUNTING_HUNTCLOTH_SALES_LT_cbrt Corr Coef:    0.33 - pval:  0.0000\n",
      "                     HUNTING_HUNTCLOTH_SALES_LT_sq Corr Coef:     0.0 - pval:  0.4167\n",
      "                                      HUNTING_PERC Corr Coef:    0.03 - pval:  0.0000\n",
      "                                 HUNTING_PERC_cbrt Corr Coef:    0.08 - pval:  0.0000\n",
      "                                   HUNTING_PERC_sq Corr Coef:   -0.05 - pval:  0.0000\n",
      "                                        OTHER_PERC Corr Coef:   -0.01 - pval:  0.2100\n",
      "                                   OTHER_PERC_cbrt Corr Coef:    0.06 - pval:  0.0000\n",
      "                                     OTHER_PERC_sq Corr Coef:   -0.02 - pval:  0.0001\n",
      "                                    OTHER_SALES_LT Corr Coef:    0.22 - pval:  0.0000\n",
      "                               OTHER_SALES_LT_cbrt Corr Coef:    0.24 - pval:  0.0000\n",
      "                                 OTHER_SALES_LT_sq Corr Coef:    0.11 - pval:  0.0000\n",
      "                                  REWARDS_CUSTOMER Corr Coef:    0.26 - pval:  0.0000\n",
      "                             REWARDS_CUSTOMER_cbrt Corr Coef:    0.26 - pval:  0.0000\n",
      "                               REWARDS_CUSTOMER_sq Corr Coef:    0.26 - pval:  0.0000\n",
      "                                         SALES_R12 Corr Coef:     0.5 - pval:  0.0000\n",
      "                        SALES_R12*REWARDS_CUSTOMER Corr Coef:    0.51 - pval:  0.0000\n",
      "                   SALES_R12*REWARDS_CUSTOMER_cbrt Corr Coef:    0.46 - pval:  0.0000\n",
      "                     SALES_R12*REWARDS_CUSTOMER_sq Corr Coef:    0.31 - pval:  0.0000\n",
      "                                    SALES_R12_cbrt Corr Coef:    0.43 - pval:  0.0000\n",
      "                                      SALES_R12_sq Corr Coef:    0.31 - pval:  0.0000\n",
      "                                         SALES_R24 Corr Coef:    0.53 - pval:  0.0000\n",
      "                                    SALES_R24_cbrt Corr Coef:    0.45 - pval:  0.0000\n",
      "                                      SALES_R24_sq Corr Coef:    0.24 - pval:  0.0000\n",
      "                                         SALES_R48 Corr Coef:    0.36 - pval:  0.0000\n",
      "                                    SALES_R48_cbrt Corr Coef:    0.45 - pval:  0.0000\n",
      "                                      SALES_R48_sq Corr Coef:    0.01 - pval:  0.0197\n",
      "                                         SALES_RLT Corr Coef:    0.32 - pval:  0.0000\n",
      "                                    SALES_RLT_cbrt Corr Coef:    0.43 - pval:  0.0000\n",
      "                                      SALES_RLT_sq Corr Coef:    0.01 - pval:  0.0450\n",
      "                                     SHOOTING_PERC Corr Coef:    0.03 - pval:  0.0000\n",
      "                                SHOOTING_PERC_cbrt Corr Coef:    0.08 - pval:  0.0000\n",
      "                                  SHOOTING_PERC_sq Corr Coef:   -0.03 - pval:  0.0000\n",
      "                                 SHOOTING_SALES_LT Corr Coef:    0.24 - pval:  0.0000\n",
      "                            SHOOTING_SALES_LT_cbrt Corr Coef:    0.29 - pval:  0.0000\n",
      "                              SHOOTING_SALES_LT_sq Corr Coef:    0.04 - pval:  0.0000\n",
      "                                         VISITS_LT Corr Coef:    0.39 - pval:  0.0000\n",
      "                                    VISITS_LT_cbrt Corr Coef:    0.41 - pval:  0.0000\n",
      "                                      VISITS_LT_sq Corr Coef:     0.1 - pval:  0.0000\n",
      "                                         YOY_TREND Corr Coef:    0.06 - pval:  0.0000\n",
      "                                    YOY_TREND_cbrt Corr Coef:    0.17 - pval:  0.0000\n",
      "                                      YOY_TREND_sq Corr Coef:    0.02 - pval:  0.0022\n"
     ]
    }
   ],
   "source": [
    "matplotlib.rcParams['figure.figsize'] = (5,2)\n",
    "\n",
    "#collist_X_expanded.remove('VISITS_LT_sqrt')\n",
    "#collist_X_expanded.remove('YOY_TREND_log')\n",
    "\n",
    "\n",
    "train_X = train_X[collist_X_expanded]\n",
    "\n",
    "collist_X_expanded = sorted(collist_X_expanded, key=str.lower)\n",
    "\n",
    "\n",
    "\n",
    "for var in collist_X_expanded: \n",
    "    vardf = train_X[var]\n",
    "    #print(vardf.head())\n",
    "    coef, pval = stats.pearsonr(vardf.as_matrix(), train_y)\n",
    "    print('%50s Corr Coef: %7s - pval:  %.4f' % (var, str(round(coef,2)), pval))\n",
    "    #plt.hist(train_X[var], bins = 100)\n",
    "    #plt.show()\n",
    "    \n",
    "matplotlib.rcParams['figure.figsize'] = (11,8)"
   ]
  },
  {
   "cell_type": "code",
   "execution_count": 16,
   "metadata": {
    "collapsed": true
   },
   "outputs": [],
   "source": [
    "collist_X_expanded = ['APPAREL_SALES_LT','CAMPING_WATERSPORTS_SALES_LT_cbrt','DAYS_AS_CUSTOMER','DAYS_SINCE_PURCHASE',\n",
    "                      'FISHING_MARINE_SALES_LT_cbrt','FOOTWEAR_SALES_LT_cbrt','GIFT_SALES_LT_cbrt',\n",
    "                      'HUNTING_HUNTCLOTH_SALES_LT_cbrt','OTHER_SALES_LT_cbrt','REWARDS_CUSTOMER','SALES_R12',\n",
    "                      'SALES_R12*REWARDS_CUSTOMER','SALES_R24','SALES_RLT_cbrt','SHOOTING_SALES_LT_cbrt','VISITS_LT_cbrt',\n",
    "                      'YOY_TREND_cbrt']\n",
    "train_X = train_X[collist_X_expanded]"
   ]
  },
  {
   "cell_type": "code",
   "execution_count": 18,
   "metadata": {
    "scrolled": false
   },
   "outputs": [
    {
     "data": {
      "image/png": "[encoded data removed]",
      "text/plain": [
       "<matplotlib.figure.Figure at 0x238eaf28>"
      ]
     },
     "metadata": {},
     "output_type": "display_data"
    }
   ],
   "source": [
    "feat_labels = np.asarray(collist_X_expanded)\n",
    "\n",
    "forests = RandomForestRegressor(n_estimators=100,\n",
    "                                random_state=0,\n",
    "                                n_jobs=-1)\n",
    "forests.fit(train_X, train_y)\n",
    "importances = forests.feature_importances_\n",
    "indices = np.argsort(importances)[::-1]\n",
    "# for f in range(train_X2.shape[1]):\n",
    "#     print(\"%2d) %-*s %f\" % (f + 1, 30, feat_labels[indices[f]],\n",
    "#                                       importances[indices[f]]))\n",
    "    \n",
    "plt.title('Feature Importance')\n",
    "plt.bar(range(train_X.shape[1]), importances[indices], color='lightblue', align='center')\n",
    "plt.xticks(range(train_X.shape[1]), feat_labels[indices], rotation=90)\n",
    "plt.xlim([-1, train_X.shape[1]])\n",
    "plt.tight_layout()\n",
    "plt.show()"
   ]
  },
  {
   "cell_type": "code",
   "execution_count": 19,
   "metadata": {},
   "outputs": [
    {
     "data": {
      "text/plain": [
       "array(['APPAREL_SALES_LT', 'CAMPING_WATERSPORTS_SALES_LT_cbrt',\n",
       "       'DAYS_SINCE_PURCHASE', 'FISHING_MARINE_SALES_LT_cbrt',\n",
       "       'FOOTWEAR_SALES_LT_cbrt', 'GIFT_SALES_LT_cbrt',\n",
       "       'HUNTING_HUNTCLOTH_SALES_LT_cbrt', 'OTHER_SALES_LT_cbrt',\n",
       "       'REWARDS_CUSTOMER', 'SALES_R12', 'SALES_R12*REWARDS_CUSTOMER',\n",
       "       'SALES_R24', 'SALES_RLT_cbrt', 'SHOOTING_SALES_LT_cbrt',\n",
       "       'VISITS_LT_cbrt'],\n",
       "      dtype='<U33')"
      ]
     },
     "execution_count": 19,
     "metadata": {},
     "output_type": "execute_result"
    }
   ],
   "source": [
    "slct = SelectKBest(f_regression, k=15)\n",
    "slct.fit(train_X, train_y)\n",
    "selected = slct.get_support()\n",
    "feat_labels2 = feat_labels[selected]\n",
    "feat_labels2"
   ]
  },
  {
   "cell_type": "markdown",
   "metadata": {},
   "source": [
    "### Calculate Feature Correlations and VIF scores"
   ]
  },
  {
   "cell_type": "code",
   "execution_count": 21,
   "metadata": {
    "scrolled": false
   },
   "outputs": [
    {
     "name": "stdout",
     "output_type": "stream",
     "text": [
      "    VIF Factor                            feature\n",
      "10    3.135579                          SALES_R24\n",
      "9     2.790880         SALES_R12*REWARDS_CUSTOMER\n",
      "6     2.528601    HUNTING_HUNTCLOTH_SALES_LT_cbrt\n",
      "3     2.094500       FISHING_MARINE_SALES_LT_cbrt\n",
      "1     2.085629  CAMPING_WATERSPORTS_SALES_LT_cbrt\n",
      "11    2.052840             SHOOTING_SALES_LT_cbrt\n",
      "5     2.025631                 GIFT_SALES_LT_cbrt\n",
      "4     2.019999             FOOTWEAR_SALES_LT_cbrt\n",
      "7     1.895017                OTHER_SALES_LT_cbrt\n",
      "0     1.471473                   APPAREL_SALES_LT\n",
      "8     1.327794                   REWARDS_CUSTOMER\n",
      "2     1.176059                DAYS_SINCE_PURCHASE\n"
     ]
    },
    {
     "data": {
      "image/png": "[encoded data removed]",
      "text/plain": [
       "<matplotlib.figure.Figure at 0x22881438>"
      ]
     },
     "metadata": {},
     "output_type": "display_data"
    }
   ],
   "source": [
    "collist_X2 = ['APPAREL_SALES_LT', 'CAMPING_WATERSPORTS_SALES_LT_cbrt',\n",
    "       'DAYS_SINCE_PURCHASE', 'FISHING_MARINE_SALES_LT_cbrt',\n",
    "       'FOOTWEAR_SALES_LT_cbrt', 'GIFT_SALES_LT_cbrt',\n",
    "       'HUNTING_HUNTCLOTH_SALES_LT_cbrt', 'OTHER_SALES_LT_cbrt',\n",
    "       'REWARDS_CUSTOMER', 'SALES_R12*REWARDS_CUSTOMER',\n",
    "       'SALES_R24', 'SHOOTING_SALES_LT_cbrt']\n",
    "\n",
    "#collist_X2 = feat_labels2.tolist()\n",
    "\n",
    "train_X2 = train_X[collist_X2]\n",
    "    \n",
    "corr = train_X2.corr()\n",
    "\n",
    "# Generate a mask for the upper triangle\n",
    "mask = np.zeros_like(corr, dtype=np.bool)\n",
    "mask[np.triu_indices_from(mask)] = True\n",
    "\n",
    "# Set up the matplotlib figure\n",
    "f, ax = plt.subplots(figsize=(11, 9))\n",
    "\n",
    "# Generate a custom diverging colormap\n",
    "cmap = sns.diverging_palette(250, 10, as_cmap=True)\n",
    "\n",
    "# Draw the heatmap with the mask and correct aspect ratio\n",
    "sns.heatmap(corr,  cmap=cmap, vmax=.99, center=0,\n",
    "            square=True, linewidths=.5, cbar_kws={\"shrink\": .5})\n",
    "\n",
    "\n",
    "print(helper.calc_VIFs(train_X2))"
   ]
  },
  {
   "cell_type": "code",
   "execution_count": null,
   "metadata": {
    "collapsed": true
   },
   "outputs": [],
   "source": []
  },
  {
   "cell_type": "code",
   "execution_count": null,
   "metadata": {
    "collapsed": true
   },
   "outputs": [],
   "source": []
  },
  {
   "cell_type": "code",
   "execution_count": 22,
   "metadata": {},
   "outputs": [
    {
     "name": "stdout",
     "output_type": "stream",
     "text": [
      "Parameter search took 1054.18 seconds for 200 candidate parameter settings.\n",
      "Best Mean validation score: -23957.485 (std: 560.294)\n",
      "Parameters: {'colsample_bytree': 0.83466509651019294, 'gamma': 1.9391911733946758, 'learning_rate': 0.03536428576126481, 'max_depth': 5, 'min_child_weight': 7, 'objective': 'reg:linear', 'reg_alpha': 0.6360257301768264, 'reg_lambda': 0.59572387373540703, 'subsample': 0.66214161945651351}\n"
     ]
    }
   ],
   "source": [
    "param_test1 = {\n",
    "     'learning_rate':uniform(0.01,0.09),\n",
    "     'max_depth':list(range(5,20)),\n",
    "     'min_child_weight':list(range(1,10)),\n",
    "     'colsample_bytree': uniform(0.5,0.4),\n",
    "     'subsample': uniform(0.5,0.4),\n",
    "     'reg_alpha': uniform(0.1, 0.9),\n",
    "     'reg_lambda': uniform(0.1, 0.9),\n",
    "     'objective':['reg:linear'],\n",
    "     'gamma':lognorm(0.1, 1.0)\n",
    "}\n",
    "\n",
    "\n",
    "gsearch1 = RandomizedSearchCV(estimator = xgb.XGBRegressor(), \n",
    "                              param_distributions = param_test1, \n",
    "                              scoring='neg_mean_squared_error',\n",
    "                              n_jobs=-1,\n",
    "                              n_iter=200,\n",
    "                              cv=5)\n",
    "start = time()\n",
    "gsearch1.fit(train_X2.values, train_y)\n",
    "\n",
    "print(\"Parameter search took %.2f seconds for %d candidate parameter settings.\"\n",
    "      % (time() - start, len(gsearch1.cv_results_['params'])))\n",
    "\n",
    "helper.report(gsearch1)    "
   ]
  },
  {
   "cell_type": "code",
   "execution_count": 24,
   "metadata": {
    "scrolled": true
   },
   "outputs": [
    {
     "name": "stdout",
     "output_type": "stream",
     "text": [
      "[0]\tvalidation_0-rmse:198.499\tvalidation_1-rmse:193.019\tvalidation_2-rmse:188.309\n",
      "Multiple eval metrics have been passed: 'validation_2-rmse' will be used for early stopping.\n",
      "\n",
      "Will train until validation_2-rmse hasn't improved in 100 rounds.\n",
      "[1]\tvalidation_0-rmse:195.823\tvalidation_1-rmse:190.582\tvalidation_2-rmse:186.02\n",
      "[2]\tvalidation_0-rmse:193.321\tvalidation_1-rmse:188.314\tvalidation_2-rmse:183.868\n",
      "[3]\tvalidation_0-rmse:190.841\tvalidation_1-rmse:186.104\tvalidation_2-rmse:181.808\n",
      "[4]\tvalidation_0-rmse:188.65\tvalidation_1-rmse:184.107\tvalidation_2-rmse:179.946\n",
      "[5]\tvalidation_0-rmse:186.441\tvalidation_1-rmse:182.162\tvalidation_2-rmse:178.072\n",
      "[6]\tvalidation_0-rmse:184.306\tvalidation_1-rmse:180.334\tvalidation_2-rmse:176.399\n",
      "[7]\tvalidation_0-rmse:182.282\tvalidation_1-rmse:178.534\tvalidation_2-rmse:174.724\n",
      "[8]\tvalidation_0-rmse:180.555\tvalidation_1-rmse:177.042\tvalidation_2-rmse:173.329\n",
      "[9]\tvalidation_0-rmse:178.726\tvalidation_1-rmse:175.526\tvalidation_2-rmse:171.829\n",
      "[10]\tvalidation_0-rmse:176.984\tvalidation_1-rmse:174.063\tvalidation_2-rmse:170.435\n",
      "[11]\tvalidation_0-rmse:175.424\tvalidation_1-rmse:172.734\tvalidation_2-rmse:169.149\n",
      "[12]\tvalidation_0-rmse:173.856\tvalidation_1-rmse:171.439\tvalidation_2-rmse:167.903\n",
      "[13]\tvalidation_0-rmse:172.326\tvalidation_1-rmse:170.199\tvalidation_2-rmse:166.786\n",
      "[14]\tvalidation_0-rmse:170.922\tvalidation_1-rmse:169.056\tvalidation_2-rmse:165.76\n",
      "[15]\tvalidation_0-rmse:169.529\tvalidation_1-rmse:167.95\tvalidation_2-rmse:164.789\n",
      "[16]\tvalidation_0-rmse:168.328\tvalidation_1-rmse:166.97\tvalidation_2-rmse:163.882\n",
      "[17]\tvalidation_0-rmse:167.127\tvalidation_1-rmse:165.984\tvalidation_2-rmse:162.966\n",
      "[18]\tvalidation_0-rmse:165.981\tvalidation_1-rmse:165.121\tvalidation_2-rmse:162.201\n",
      "[19]\tvalidation_0-rmse:164.871\tvalidation_1-rmse:164.293\tvalidation_2-rmse:161.438\n",
      "[20]\tvalidation_0-rmse:163.807\tvalidation_1-rmse:163.533\tvalidation_2-rmse:160.728\n",
      "[21]\tvalidation_0-rmse:162.844\tvalidation_1-rmse:162.81\tvalidation_2-rmse:160.013\n",
      "[22]\tvalidation_0-rmse:161.862\tvalidation_1-rmse:162.178\tvalidation_2-rmse:159.349\n",
      "[23]\tvalidation_0-rmse:161.041\tvalidation_1-rmse:161.559\tvalidation_2-rmse:158.765\n",
      "[24]\tvalidation_0-rmse:160.158\tvalidation_1-rmse:160.901\tvalidation_2-rmse:158.155\n",
      "[25]\tvalidation_0-rmse:159.385\tvalidation_1-rmse:160.415\tvalidation_2-rmse:157.655\n",
      "[26]\tvalidation_0-rmse:158.638\tvalidation_1-rmse:159.907\tvalidation_2-rmse:157.179\n",
      "[27]\tvalidation_0-rmse:157.908\tvalidation_1-rmse:159.439\tvalidation_2-rmse:156.686\n",
      "[28]\tvalidation_0-rmse:157.19\tvalidation_1-rmse:158.98\tvalidation_2-rmse:156.189\n",
      "[29]\tvalidation_0-rmse:156.521\tvalidation_1-rmse:158.55\tvalidation_2-rmse:155.772\n",
      "[30]\tvalidation_0-rmse:155.916\tvalidation_1-rmse:158.168\tvalidation_2-rmse:155.383\n",
      "[31]\tvalidation_0-rmse:155.366\tvalidation_1-rmse:157.851\tvalidation_2-rmse:154.996\n",
      "[32]\tvalidation_0-rmse:154.767\tvalidation_1-rmse:157.511\tvalidation_2-rmse:154.676\n",
      "[33]\tvalidation_0-rmse:154.205\tvalidation_1-rmse:157.199\tvalidation_2-rmse:154.301\n",
      "[34]\tvalidation_0-rmse:153.659\tvalidation_1-rmse:156.885\tvalidation_2-rmse:153.968\n",
      "[35]\tvalidation_0-rmse:153.21\tvalidation_1-rmse:156.654\tvalidation_2-rmse:153.767\n",
      "[36]\tvalidation_0-rmse:152.726\tvalidation_1-rmse:156.425\tvalidation_2-rmse:153.5\n",
      "[37]\tvalidation_0-rmse:152.288\tvalidation_1-rmse:156.214\tvalidation_2-rmse:153.274\n",
      "[38]\tvalidation_0-rmse:151.875\tvalidation_1-rmse:156.024\tvalidation_2-rmse:153.094\n",
      "[39]\tvalidation_0-rmse:151.483\tvalidation_1-rmse:155.849\tvalidation_2-rmse:152.897\n",
      "[40]\tvalidation_0-rmse:151.174\tvalidation_1-rmse:155.687\tvalidation_2-rmse:152.781\n",
      "[41]\tvalidation_0-rmse:150.767\tvalidation_1-rmse:155.536\tvalidation_2-rmse:152.621\n",
      "[42]\tvalidation_0-rmse:150.4\tvalidation_1-rmse:155.403\tvalidation_2-rmse:152.424\n",
      "[43]\tvalidation_0-rmse:150.032\tvalidation_1-rmse:155.247\tvalidation_2-rmse:152.288\n",
      "[44]\tvalidation_0-rmse:149.707\tvalidation_1-rmse:155.129\tvalidation_2-rmse:152.17\n",
      "[45]\tvalidation_0-rmse:149.369\tvalidation_1-rmse:155.017\tvalidation_2-rmse:152.09\n",
      "[46]\tvalidation_0-rmse:148.996\tvalidation_1-rmse:154.905\tvalidation_2-rmse:151.953\n",
      "[47]\tvalidation_0-rmse:148.709\tvalidation_1-rmse:154.791\tvalidation_2-rmse:151.848\n",
      "[48]\tvalidation_0-rmse:148.413\tvalidation_1-rmse:154.692\tvalidation_2-rmse:151.778\n",
      "[49]\tvalidation_0-rmse:148.169\tvalidation_1-rmse:154.603\tvalidation_2-rmse:151.695\n",
      "[50]\tvalidation_0-rmse:147.872\tvalidation_1-rmse:154.554\tvalidation_2-rmse:151.574\n",
      "[51]\tvalidation_0-rmse:147.612\tvalidation_1-rmse:154.523\tvalidation_2-rmse:151.585\n",
      "[52]\tvalidation_0-rmse:147.383\tvalidation_1-rmse:154.454\tvalidation_2-rmse:151.466\n",
      "[53]\tvalidation_0-rmse:147.166\tvalidation_1-rmse:154.409\tvalidation_2-rmse:151.455\n",
      "[54]\tvalidation_0-rmse:146.985\tvalidation_1-rmse:154.366\tvalidation_2-rmse:151.405\n",
      "[55]\tvalidation_0-rmse:146.768\tvalidation_1-rmse:154.324\tvalidation_2-rmse:151.3\n",
      "[56]\tvalidation_0-rmse:146.55\tvalidation_1-rmse:154.329\tvalidation_2-rmse:151.347\n",
      "[57]\tvalidation_0-rmse:146.326\tvalidation_1-rmse:154.298\tvalidation_2-rmse:151.293\n",
      "[58]\tvalidation_0-rmse:146.128\tvalidation_1-rmse:154.294\tvalidation_2-rmse:151.229\n",
      "[59]\tvalidation_0-rmse:145.957\tvalidation_1-rmse:154.244\tvalidation_2-rmse:151.189\n",
      "[60]\tvalidation_0-rmse:145.776\tvalidation_1-rmse:154.196\tvalidation_2-rmse:151.169\n",
      "[61]\tvalidation_0-rmse:145.548\tvalidation_1-rmse:154.205\tvalidation_2-rmse:151.133\n",
      "[62]\tvalidation_0-rmse:145.33\tvalidation_1-rmse:154.129\tvalidation_2-rmse:151.039\n",
      "[63]\tvalidation_0-rmse:145.131\tvalidation_1-rmse:154.134\tvalidation_2-rmse:151.032\n",
      "[64]\tvalidation_0-rmse:144.948\tvalidation_1-rmse:154.131\tvalidation_2-rmse:150.979\n",
      "[65]\tvalidation_0-rmse:144.773\tvalidation_1-rmse:154.155\tvalidation_2-rmse:150.984\n",
      "[66]\tvalidation_0-rmse:144.633\tvalidation_1-rmse:154.145\tvalidation_2-rmse:150.985\n",
      "[67]\tvalidation_0-rmse:144.463\tvalidation_1-rmse:154.127\tvalidation_2-rmse:151.017\n",
      "[68]\tvalidation_0-rmse:144.354\tvalidation_1-rmse:154.13\tvalidation_2-rmse:151.002\n",
      "[69]\tvalidation_0-rmse:144.257\tvalidation_1-rmse:154.111\tvalidation_2-rmse:150.977\n",
      "[70]\tvalidation_0-rmse:144.112\tvalidation_1-rmse:154.098\tvalidation_2-rmse:150.986\n",
      "[71]\tvalidation_0-rmse:144.004\tvalidation_1-rmse:154.082\tvalidation_2-rmse:150.992\n",
      "[72]\tvalidation_0-rmse:143.877\tvalidation_1-rmse:154.069\tvalidation_2-rmse:150.972\n",
      "[73]\tvalidation_0-rmse:143.715\tvalidation_1-rmse:154.069\tvalidation_2-rmse:150.999\n",
      "[74]\tvalidation_0-rmse:143.578\tvalidation_1-rmse:154.07\tvalidation_2-rmse:151.005\n",
      "[75]\tvalidation_0-rmse:143.399\tvalidation_1-rmse:154.07\tvalidation_2-rmse:151.026\n",
      "[76]\tvalidation_0-rmse:143.273\tvalidation_1-rmse:154.095\tvalidation_2-rmse:150.995\n",
      "[77]\tvalidation_0-rmse:143.202\tvalidation_1-rmse:154.087\tvalidation_2-rmse:150.976\n",
      "[78]\tvalidation_0-rmse:142.995\tvalidation_1-rmse:154.074\tvalidation_2-rmse:150.942\n",
      "[79]\tvalidation_0-rmse:142.893\tvalidation_1-rmse:154.092\tvalidation_2-rmse:150.945\n",
      "[80]\tvalidation_0-rmse:142.798\tvalidation_1-rmse:154.116\tvalidation_2-rmse:150.958\n",
      "[81]\tvalidation_0-rmse:142.666\tvalidation_1-rmse:154.119\tvalidation_2-rmse:150.975\n",
      "[82]\tvalidation_0-rmse:142.561\tvalidation_1-rmse:154.119\tvalidation_2-rmse:150.953\n",
      "[83]\tvalidation_0-rmse:142.472\tvalidation_1-rmse:154.122\tvalidation_2-rmse:150.94\n"
     ]
    }
   ],
   "source": [
    "\n",
    "tuned_model = xgb.XGBRegressor( \n",
    "                        learning_rate = 0.035,\n",
    "                        n_estimators = 84,\n",
    "                        max_depth = 5,\n",
    "                        min_child_weight = 7,\n",
    "                        subsample = 0.66,\n",
    "                        colsample_bytree = 0.83,\n",
    "                        objective = 'reg:linear',\n",
    "                        reg_alpha= 0.6360,\n",
    "                        reg_lambda = 0.5957,\n",
    "                        gamma = 1.9392,\n",
    "                        seed = 27)\n",
    "xgbmodel = tuned_model.fit(train_X2.values, train_y, \n",
    "                 eval_set=[(train_X2.values, train_y), (val_X[collist_X2].values, val_y), (test_X[collist_X2].values, test_y)], \n",
    "                 eval_metric='rmse',\n",
    "                 early_stopping_rounds=100,                 \n",
    "                 verbose=True)\n",
    "\n",
    "# fig, ax = plt.subplots(figsize=(12,18))\n",
    "# xgb.plot_importance(xgbmodel, height=0.8, ax=ax)\n",
    "# plt.show()"
   ]
  },
  {
   "cell_type": "code",
   "execution_count": 25,
   "metadata": {
    "scrolled": false
   },
   "outputs": [
    {
     "name": "stdout",
     "output_type": "stream",
     "text": [
      "The model is trained on the full development set.\n",
      "The scores are computed on the full evaluation set.\n",
      "\n",
      "R2 Train: 0.460036382575\n",
      "RMSE Train: 142.47207215577004\n",
      "RMSE Val: 154.12162836319126\n",
      "RMSE Test: 150.94000762574947\n",
      "MAE Train: 56.216003563\n",
      "MAE Val: 59.300729884\n",
      "MAE Test: 58.4513111489\n"
     ]
    }
   ],
   "source": [
    "print(\"The model is trained on the full development set.\")\n",
    "print(\"The scores are computed on the full evaluation set.\")\n",
    "print()\n",
    "y_true3, y_pred3 = train_y, xgbmodel.predict(train_X[collist_X2].values)\n",
    "y_true, y_pred = val_y, xgbmodel.predict(val_X[collist_X2].values)\n",
    "y_true2, y_pred2 = test_y, xgbmodel.predict(test_X[collist_X2].values)\n",
    "print('R2 Train: ' + str(r2_score(y_true3, y_pred3)))\n",
    "rmse = math.sqrt(mean_squared_error(y_true3, y_pred3))\n",
    "print('RMSE Train: ' + str(rmse))\n",
    "rmse = math.sqrt(mean_squared_error(y_true, y_pred))\n",
    "print('RMSE Val: ' + str(rmse))\n",
    "rmse = math.sqrt(mean_squared_error(y_true2, y_pred2))\n",
    "print('RMSE Test: ' + str(rmse))\n",
    "\n",
    "rmse = mean_absolute_error(y_true3, y_pred3)\n",
    "print('MAE Train: ' + str(rmse))\n",
    "rmse = mean_absolute_error(y_true, y_pred)\n",
    "print('MAE Val: ' + str(rmse))\n",
    "rmse = mean_absolute_error(y_true2, y_pred2)\n",
    "print('MAE Test: ' + str(rmse))"
   ]
  },
  {
   "cell_type": "code",
   "execution_count": 26,
   "metadata": {},
   "outputs": [
    {
     "data": {
      "image/png": "[encoded data removed]",
      "text/plain": [
       "<matplotlib.figure.Figure at 0x236a9a20>"
      ]
     },
     "metadata": {},
     "output_type": "display_data"
    }
   ],
   "source": [
    "plotdata = pd.DataFrame({'true':y_true.tolist(),'pred':y_pred.tolist()})\n",
    "plotdata['resid'] = plotdata['pred']-plotdata['true']\n",
    "plotdata['stdresid'] = plotdata['resid']/np.std(plotdata['resid'])\n",
    "\n",
    "plt.plot(plotdata['stdresid'], '.', alpha = 0.5, color='black')\n",
    "plt.axhline(y=0, color = 'green')\n",
    "plt.axhline(y=2, color = 'blue', linestyle='--')\n",
    "plt.axhline(y=-2, color = 'blue', linestyle='--')\n",
    "plt.axhline(y=3, color = 'red', linestyle='--')\n",
    "plt.axhline(y=-3, color = 'red', linestyle='--')\n",
    "\n",
    "plt.title('Standardized Residuals')\n",
    "plt.ylabel('Standard Deviations')\n",
    "plt.xlabel('Observation Number')\n",
    "plt.show()"
   ]
  },
  {
   "cell_type": "code",
   "execution_count": 27,
   "metadata": {},
   "outputs": [
    {
     "name": "stdout",
     "output_type": "stream",
     "text": [
      "Parameter search took 303.88 seconds for 200 candidate parameter settings.\n",
      "Best Mean validation score: -26551.174 (std: 2654.345)\n",
      "Parameters: {'boosting_type': 'gbdt', 'colsample_bytree': 0.9348195085465445, 'learning_rate': 0.098159025800079014, 'max_depth': 6, 'min_child_weight': 0.38508759989028229, 'min_split_gain': 0.80846661451749824, 'num_leaves': 27, 'objective': None, 'reg_alpha': 9.7371847416400108, 'reg_lambda': 6.6741140600825721, 'silent': True, 'subsample': 0.96639663600070069}\n"
     ]
    }
   ],
   "source": [
    "param_test1 = {\n",
    "     'boosting_type':['dart','gbdt'],\n",
    "     'num_leaves':list(range(10,40)),\n",
    "     'max_depth':[-1,1,2,3,4,5,6,7,8,9,10,11,12,13,14,15],\n",
    "     'objective':[None, 'regression','regression_l1'],\n",
    "     'min_split_gain':uniform(0.0, 1.0),\n",
    "     'min_child_weight':uniform(0.0, 1.0),\n",
    "     'subsample':uniform(0.1, 0.9),\n",
    "     'colsample_bytree':uniform(0.1, 0.9),\n",
    "     'reg_alpha': uniform(0.0, 10.0),\n",
    "     'reg_lambda': uniform(0.0, 10.0),\n",
    "     'learning_rate':uniform(0.01,0.09),\n",
    "     'silent':[True]\n",
    "}\n",
    "\n",
    "\n",
    "gsearch1 = RandomizedSearchCV(estimator = lgbm.LGBMRegressor(), \n",
    "                              param_distributions = param_test1, \n",
    "                              scoring='neg_mean_squared_error',\n",
    "                              n_jobs=-1,\n",
    "                              n_iter=200,\n",
    "                              cv=5)\n",
    "start = time()\n",
    "gsearch1.fit(train_X2.values, train_y)\n",
    "\n",
    "print(\"Parameter search took %.2f seconds for %d candidate parameter settings.\"\n",
    "      % (time() - start, len(gsearch1.cv_results_['params'])))\n",
    "\n",
    "helper.report(gsearch1)   "
   ]
  },
  {
   "cell_type": "code",
   "execution_count": 30,
   "metadata": {
    "scrolled": true
   },
   "outputs": [
    {
     "name": "stdout",
     "output_type": "stream",
     "text": [
      "[1]\tvalid_0's rmse: 193.227\tvalid_1's rmse: 187.795\tvalid_2's rmse: 183.262\n",
      "Training until validation scores don't improve for 100 rounds.\n",
      "[2]\tvalid_0's rmse: 192.58\tvalid_1's rmse: 187.186\tvalid_2's rmse: 182.71\n",
      "[3]\tvalid_0's rmse: 191.937\tvalid_1's rmse: 186.586\tvalid_2's rmse: 182.161\n",
      "[4]\tvalid_0's rmse: 191.324\tvalid_1's rmse: 186.006\tvalid_2's rmse: 181.615\n",
      "[5]\tvalid_0's rmse: 190.702\tvalid_1's rmse: 185.424\tvalid_2's rmse: 181.08\n",
      "[6]\tvalid_0's rmse: 190.088\tvalid_1's rmse: 184.85\tvalid_2's rmse: 180.557\n",
      "[7]\tvalid_0's rmse: 189.485\tvalid_1's rmse: 184.282\tvalid_2's rmse: 180.041\n",
      "[8]\tvalid_0's rmse: 188.91\tvalid_1's rmse: 183.756\tvalid_2's rmse: 179.542\n",
      "[9]\tvalid_0's rmse: 188.323\tvalid_1's rmse: 183.222\tvalid_2's rmse: 179.051\n",
      "[10]\tvalid_0's rmse: 187.741\tvalid_1's rmse: 182.685\tvalid_2's rmse: 178.56\n",
      "[11]\tvalid_0's rmse: 187.173\tvalid_1's rmse: 182.16\tvalid_2's rmse: 178.08\n",
      "[12]\tvalid_0's rmse: 186.613\tvalid_1's rmse: 181.643\tvalid_2's rmse: 177.605\n",
      "[13]\tvalid_0's rmse: 186.076\tvalid_1's rmse: 181.157\tvalid_2's rmse: 177.143\n",
      "[14]\tvalid_0's rmse: 185.528\tvalid_1's rmse: 180.654\tvalid_2's rmse: 176.685\n",
      "[15]\tvalid_0's rmse: 184.992\tvalid_1's rmse: 180.159\tvalid_2's rmse: 176.231\n",
      "[16]\tvalid_0's rmse: 184.457\tvalid_1's rmse: 179.681\tvalid_2's rmse: 175.783\n",
      "[17]\tvalid_0's rmse: 183.932\tvalid_1's rmse: 179.194\tvalid_2's rmse: 175.344\n",
      "[18]\tvalid_0's rmse: 183.434\tvalid_1's rmse: 178.744\tvalid_2's rmse: 174.918\n",
      "[19]\tvalid_0's rmse: 182.925\tvalid_1's rmse: 178.278\tvalid_2's rmse: 174.49\n",
      "[20]\tvalid_0's rmse: 182.423\tvalid_1's rmse: 177.814\tvalid_2's rmse: 174.071\n",
      "[21]\tvalid_0's rmse: 181.926\tvalid_1's rmse: 177.37\tvalid_2's rmse: 173.657\n",
      "[22]\tvalid_0's rmse: 181.439\tvalid_1's rmse: 176.934\tvalid_2's rmse: 173.259\n",
      "[23]\tvalid_0's rmse: 180.962\tvalid_1's rmse: 176.505\tvalid_2's rmse: 172.865\n",
      "[24]\tvalid_0's rmse: 180.477\tvalid_1's rmse: 176.076\tvalid_2's rmse: 172.468\n",
      "[25]\tvalid_0's rmse: 180.021\tvalid_1's rmse: 175.664\tvalid_2's rmse: 172.069\n",
      "[26]\tvalid_0's rmse: 179.565\tvalid_1's rmse: 175.261\tvalid_2's rmse: 171.693\n",
      "[27]\tvalid_0's rmse: 179.113\tvalid_1's rmse: 174.851\tvalid_2's rmse: 171.327\n",
      "[28]\tvalid_0's rmse: 178.669\tvalid_1's rmse: 174.454\tvalid_2's rmse: 170.965\n",
      "[29]\tvalid_0's rmse: 178.238\tvalid_1's rmse: 174.068\tvalid_2's rmse: 170.598\n",
      "[30]\tvalid_0's rmse: 177.811\tvalid_1's rmse: 173.688\tvalid_2's rmse: 170.253\n",
      "[31]\tvalid_0's rmse: 177.383\tvalid_1's rmse: 173.292\tvalid_2's rmse: 169.898\n",
      "[32]\tvalid_0's rmse: 176.963\tvalid_1's rmse: 172.916\tvalid_2's rmse: 169.553\n",
      "[33]\tvalid_0's rmse: 176.546\tvalid_1's rmse: 172.537\tvalid_2's rmse: 169.219\n",
      "[34]\tvalid_0's rmse: 176.14\tvalid_1's rmse: 172.17\tvalid_2's rmse: 168.902\n",
      "[35]\tvalid_0's rmse: 175.741\tvalid_1's rmse: 171.814\tvalid_2's rmse: 168.581\n",
      "[36]\tvalid_0's rmse: 175.34\tvalid_1's rmse: 171.457\tvalid_2's rmse: 168.247\n",
      "[37]\tvalid_0's rmse: 174.95\tvalid_1's rmse: 171.122\tvalid_2's rmse: 167.926\n",
      "[38]\tvalid_0's rmse: 174.568\tvalid_1's rmse: 170.787\tvalid_2's rmse: 167.609\n",
      "[39]\tvalid_0's rmse: 174.178\tvalid_1's rmse: 170.462\tvalid_2's rmse: 167.293\n",
      "[40]\tvalid_0's rmse: 173.805\tvalid_1's rmse: 170.138\tvalid_2's rmse: 166.979\n",
      "[41]\tvalid_0's rmse: 173.445\tvalid_1's rmse: 169.838\tvalid_2's rmse: 166.696\n",
      "[42]\tvalid_0's rmse: 173.08\tvalid_1's rmse: 169.522\tvalid_2's rmse: 166.398\n",
      "[43]\tvalid_0's rmse: 172.724\tvalid_1's rmse: 169.21\tvalid_2's rmse: 166.109\n",
      "[44]\tvalid_0's rmse: 172.368\tvalid_1's rmse: 168.9\tvalid_2's rmse: 165.825\n",
      "[45]\tvalid_0's rmse: 172.015\tvalid_1's rmse: 168.606\tvalid_2's rmse: 165.547\n",
      "[46]\tvalid_0's rmse: 171.673\tvalid_1's rmse: 168.315\tvalid_2's rmse: 165.286\n",
      "[47]\tvalid_0's rmse: 171.333\tvalid_1's rmse: 168.033\tvalid_2's rmse: 165.008\n",
      "[48]\tvalid_0's rmse: 170.997\tvalid_1's rmse: 167.764\tvalid_2's rmse: 164.748\n",
      "[49]\tvalid_0's rmse: 170.664\tvalid_1's rmse: 167.484\tvalid_2's rmse: 164.487\n",
      "[50]\tvalid_0's rmse: 170.344\tvalid_1's rmse: 167.217\tvalid_2's rmse: 164.239\n",
      "[51]\tvalid_0's rmse: 170.028\tvalid_1's rmse: 166.942\tvalid_2's rmse: 164.006\n",
      "[52]\tvalid_0's rmse: 169.71\tvalid_1's rmse: 166.68\tvalid_2's rmse: 163.768\n",
      "[53]\tvalid_0's rmse: 169.396\tvalid_1's rmse: 166.41\tvalid_2's rmse: 163.527\n",
      "[54]\tvalid_0's rmse: 169.087\tvalid_1's rmse: 166.156\tvalid_2's rmse: 163.3\n",
      "[55]\tvalid_0's rmse: 168.786\tvalid_1's rmse: 165.902\tvalid_2's rmse: 163.079\n",
      "[56]\tvalid_0's rmse: 168.486\tvalid_1's rmse: 165.646\tvalid_2's rmse: 162.851\n",
      "[57]\tvalid_0's rmse: 168.18\tvalid_1's rmse: 165.413\tvalid_2's rmse: 162.618\n",
      "[58]\tvalid_0's rmse: 167.888\tvalid_1's rmse: 165.168\tvalid_2's rmse: 162.402\n",
      "[59]\tvalid_0's rmse: 167.598\tvalid_1's rmse: 164.93\tvalid_2's rmse: 162.166\n",
      "[60]\tvalid_0's rmse: 167.309\tvalid_1's rmse: 164.703\tvalid_2's rmse: 161.94\n",
      "[61]\tvalid_0's rmse: 167.031\tvalid_1's rmse: 164.47\tvalid_2's rmse: 161.724\n",
      "[62]\tvalid_0's rmse: 166.752\tvalid_1's rmse: 164.246\tvalid_2's rmse: 161.512\n",
      "[63]\tvalid_0's rmse: 166.476\tvalid_1's rmse: 164.027\tvalid_2's rmse: 161.316\n",
      "[64]\tvalid_0's rmse: 166.21\tvalid_1's rmse: 163.821\tvalid_2's rmse: 161.113\n",
      "[65]\tvalid_0's rmse: 165.947\tvalid_1's rmse: 163.629\tvalid_2's rmse: 160.926\n",
      "[66]\tvalid_0's rmse: 165.689\tvalid_1's rmse: 163.422\tvalid_2's rmse: 160.727\n",
      "[67]\tvalid_0's rmse: 165.426\tvalid_1's rmse: 163.22\tvalid_2's rmse: 160.533\n",
      "[68]\tvalid_0's rmse: 165.172\tvalid_1's rmse: 163.021\tvalid_2's rmse: 160.345\n",
      "[69]\tvalid_0's rmse: 164.921\tvalid_1's rmse: 162.827\tvalid_2's rmse: 160.17\n",
      "[70]\tvalid_0's rmse: 164.668\tvalid_1's rmse: 162.628\tvalid_2's rmse: 159.996\n",
      "[71]\tvalid_0's rmse: 164.416\tvalid_1's rmse: 162.433\tvalid_2's rmse: 159.812\n",
      "[72]\tvalid_0's rmse: 164.172\tvalid_1's rmse: 162.246\tvalid_2's rmse: 159.636\n",
      "[73]\tvalid_0's rmse: 163.934\tvalid_1's rmse: 162.079\tvalid_2's rmse: 159.469\n",
      "[74]\tvalid_0's rmse: 163.695\tvalid_1's rmse: 161.899\tvalid_2's rmse: 159.31\n",
      "[75]\tvalid_0's rmse: 163.464\tvalid_1's rmse: 161.727\tvalid_2's rmse: 159.149\n",
      "[76]\tvalid_0's rmse: 163.234\tvalid_1's rmse: 161.556\tvalid_2's rmse: 158.988\n",
      "[77]\tvalid_0's rmse: 163.008\tvalid_1's rmse: 161.392\tvalid_2's rmse: 158.819\n",
      "[78]\tvalid_0's rmse: 162.776\tvalid_1's rmse: 161.226\tvalid_2's rmse: 158.659\n",
      "[79]\tvalid_0's rmse: 162.565\tvalid_1's rmse: 161.067\tvalid_2's rmse: 158.504\n",
      "[80]\tvalid_0's rmse: 162.348\tvalid_1's rmse: 160.911\tvalid_2's rmse: 158.356\n",
      "[81]\tvalid_0's rmse: 162.129\tvalid_1's rmse: 160.752\tvalid_2's rmse: 158.203\n",
      "[82]\tvalid_0's rmse: 161.923\tvalid_1's rmse: 160.594\tvalid_2's rmse: 158.045\n",
      "[83]\tvalid_0's rmse: 161.716\tvalid_1's rmse: 160.443\tvalid_2's rmse: 157.906\n",
      "[84]\tvalid_0's rmse: 161.514\tvalid_1's rmse: 160.29\tvalid_2's rmse: 157.756\n",
      "[85]\tvalid_0's rmse: 161.311\tvalid_1's rmse: 160.144\tvalid_2's rmse: 157.625\n",
      "[86]\tvalid_0's rmse: 161.116\tvalid_1's rmse: 159.999\tvalid_2's rmse: 157.482\n",
      "[87]\tvalid_0's rmse: 160.922\tvalid_1's rmse: 159.874\tvalid_2's rmse: 157.36\n",
      "[88]\tvalid_0's rmse: 160.721\tvalid_1's rmse: 159.731\tvalid_2's rmse: 157.218\n",
      "[89]\tvalid_0's rmse: 160.534\tvalid_1's rmse: 159.603\tvalid_2's rmse: 157.101\n",
      "[90]\tvalid_0's rmse: 160.339\tvalid_1's rmse: 159.468\tvalid_2's rmse: 156.982\n",
      "[91]\tvalid_0's rmse: 160.153\tvalid_1's rmse: 159.339\tvalid_2's rmse: 156.856\n",
      "[92]\tvalid_0's rmse: 159.971\tvalid_1's rmse: 159.213\tvalid_2's rmse: 156.729\n",
      "[93]\tvalid_0's rmse: 159.798\tvalid_1's rmse: 159.097\tvalid_2's rmse: 156.612\n",
      "[94]\tvalid_0's rmse: 159.609\tvalid_1's rmse: 158.97\tvalid_2's rmse: 156.49\n",
      "[95]\tvalid_0's rmse: 159.428\tvalid_1's rmse: 158.853\tvalid_2's rmse: 156.369\n",
      "[96]\tvalid_0's rmse: 159.253\tvalid_1's rmse: 158.734\tvalid_2's rmse: 156.257\n",
      "[97]\tvalid_0's rmse: 159.08\tvalid_1's rmse: 158.617\tvalid_2's rmse: 156.128\n",
      "[98]\tvalid_0's rmse: 158.907\tvalid_1's rmse: 158.502\tvalid_2's rmse: 156.012\n",
      "[99]\tvalid_0's rmse: 158.736\tvalid_1's rmse: 158.39\tvalid_2's rmse: 155.902\n",
      "[100]\tvalid_0's rmse: 158.571\tvalid_1's rmse: 158.272\tvalid_2's rmse: 155.8\n",
      "[101]\tvalid_0's rmse: 158.403\tvalid_1's rmse: 158.168\tvalid_2's rmse: 155.692\n",
      "[102]\tvalid_0's rmse: 158.231\tvalid_1's rmse: 158.071\tvalid_2's rmse: 155.589\n",
      "[103]\tvalid_0's rmse: 158.068\tvalid_1's rmse: 157.975\tvalid_2's rmse: 155.492\n",
      "[104]\tvalid_0's rmse: 157.91\tvalid_1's rmse: 157.868\tvalid_2's rmse: 155.4\n",
      "[105]\tvalid_0's rmse: 157.751\tvalid_1's rmse: 157.768\tvalid_2's rmse: 155.295\n",
      "[106]\tvalid_0's rmse: 157.597\tvalid_1's rmse: 157.665\tvalid_2's rmse: 155.19\n",
      "[107]\tvalid_0's rmse: 157.439\tvalid_1's rmse: 157.567\tvalid_2's rmse: 155.093\n",
      "[108]\tvalid_0's rmse: 157.292\tvalid_1's rmse: 157.476\tvalid_2's rmse: 155.003\n",
      "[109]\tvalid_0's rmse: 157.136\tvalid_1's rmse: 157.389\tvalid_2's rmse: 154.91\n",
      "[110]\tvalid_0's rmse: 156.994\tvalid_1's rmse: 157.298\tvalid_2's rmse: 154.811\n",
      "[111]\tvalid_0's rmse: 156.845\tvalid_1's rmse: 157.199\tvalid_2's rmse: 154.716\n",
      "[112]\tvalid_0's rmse: 156.705\tvalid_1's rmse: 157.114\tvalid_2's rmse: 154.628\n",
      "[113]\tvalid_0's rmse: 156.564\tvalid_1's rmse: 157.023\tvalid_2's rmse: 154.547\n",
      "[114]\tvalid_0's rmse: 156.426\tvalid_1's rmse: 156.943\tvalid_2's rmse: 154.465\n",
      "[115]\tvalid_0's rmse: 156.285\tvalid_1's rmse: 156.86\tvalid_2's rmse: 154.386\n",
      "[116]\tvalid_0's rmse: 156.152\tvalid_1's rmse: 156.781\tvalid_2's rmse: 154.309\n",
      "[117]\tvalid_0's rmse: 156.016\tvalid_1's rmse: 156.702\tvalid_2's rmse: 154.233\n",
      "[118]\tvalid_0's rmse: 155.88\tvalid_1's rmse: 156.62\tvalid_2's rmse: 154.17\n",
      "[119]\tvalid_0's rmse: 155.742\tvalid_1's rmse: 156.537\tvalid_2's rmse: 154.09\n",
      "[120]\tvalid_0's rmse: 155.61\tvalid_1's rmse: 156.465\tvalid_2's rmse: 154.023\n",
      "[121]\tvalid_0's rmse: 155.481\tvalid_1's rmse: 156.393\tvalid_2's rmse: 153.952\n",
      "[122]\tvalid_0's rmse: 155.349\tvalid_1's rmse: 156.313\tvalid_2's rmse: 153.876\n",
      "[123]\tvalid_0's rmse: 155.224\tvalid_1's rmse: 156.243\tvalid_2's rmse: 153.807\n",
      "[124]\tvalid_0's rmse: 155.098\tvalid_1's rmse: 156.173\tvalid_2's rmse: 153.741\n",
      "[125]\tvalid_0's rmse: 154.972\tvalid_1's rmse: 156.104\tvalid_2's rmse: 153.687\n",
      "[126]\tvalid_0's rmse: 154.845\tvalid_1's rmse: 156.038\tvalid_2's rmse: 153.616\n",
      "[127]\tvalid_0's rmse: 154.726\tvalid_1's rmse: 155.979\tvalid_2's rmse: 153.567\n",
      "[128]\tvalid_0's rmse: 154.604\tvalid_1's rmse: 155.914\tvalid_2's rmse: 153.508\n",
      "[129]\tvalid_0's rmse: 154.48\tvalid_1's rmse: 155.858\tvalid_2's rmse: 153.443\n",
      "[130]\tvalid_0's rmse: 154.366\tvalid_1's rmse: 155.802\tvalid_2's rmse: 153.377\n",
      "[131]\tvalid_0's rmse: 154.25\tvalid_1's rmse: 155.739\tvalid_2's rmse: 153.306\n",
      "[132]\tvalid_0's rmse: 154.131\tvalid_1's rmse: 155.679\tvalid_2's rmse: 153.249\n",
      "[133]\tvalid_0's rmse: 154.01\tvalid_1's rmse: 155.619\tvalid_2's rmse: 153.18\n",
      "[134]\tvalid_0's rmse: 153.9\tvalid_1's rmse: 155.564\tvalid_2's rmse: 153.134\n",
      "[135]\tvalid_0's rmse: 153.791\tvalid_1's rmse: 155.514\tvalid_2's rmse: 153.092\n",
      "[136]\tvalid_0's rmse: 153.684\tvalid_1's rmse: 155.456\tvalid_2's rmse: 153.042\n",
      "[137]\tvalid_0's rmse: 153.568\tvalid_1's rmse: 155.397\tvalid_2's rmse: 152.988\n",
      "[138]\tvalid_0's rmse: 153.466\tvalid_1's rmse: 155.34\tvalid_2's rmse: 152.927\n",
      "[139]\tvalid_0's rmse: 153.363\tvalid_1's rmse: 155.29\tvalid_2's rmse: 152.871\n",
      "[140]\tvalid_0's rmse: 153.252\tvalid_1's rmse: 155.244\tvalid_2's rmse: 152.821\n",
      "[141]\tvalid_0's rmse: 153.155\tvalid_1's rmse: 155.202\tvalid_2's rmse: 152.767\n",
      "[142]\tvalid_0's rmse: 153.053\tvalid_1's rmse: 155.151\tvalid_2's rmse: 152.716\n",
      "[143]\tvalid_0's rmse: 152.95\tvalid_1's rmse: 155.105\tvalid_2's rmse: 152.671\n",
      "[144]\tvalid_0's rmse: 152.837\tvalid_1's rmse: 155.055\tvalid_2's rmse: 152.617\n",
      "[145]\tvalid_0's rmse: 152.74\tvalid_1's rmse: 155.007\tvalid_2's rmse: 152.572\n",
      "[146]\tvalid_0's rmse: 152.634\tvalid_1's rmse: 154.959\tvalid_2's rmse: 152.52\n",
      "[147]\tvalid_0's rmse: 152.53\tvalid_1's rmse: 154.915\tvalid_2's rmse: 152.475\n",
      "[148]\tvalid_0's rmse: 152.428\tvalid_1's rmse: 154.873\tvalid_2's rmse: 152.431\n",
      "[149]\tvalid_0's rmse: 152.333\tvalid_1's rmse: 154.835\tvalid_2's rmse: 152.397\n"
     ]
    },
    {
     "name": "stdout",
     "output_type": "stream",
     "text": [
      "[150]\tvalid_0's rmse: 152.239\tvalid_1's rmse: 154.802\tvalid_2's rmse: 152.353\n",
      "[151]\tvalid_0's rmse: 152.144\tvalid_1's rmse: 154.762\tvalid_2's rmse: 152.316\n",
      "[152]\tvalid_0's rmse: 152.052\tvalid_1's rmse: 154.721\tvalid_2's rmse: 152.274\n",
      "[153]\tvalid_0's rmse: 151.951\tvalid_1's rmse: 154.681\tvalid_2's rmse: 152.226\n",
      "[154]\tvalid_0's rmse: 151.855\tvalid_1's rmse: 154.642\tvalid_2's rmse: 152.187\n",
      "[155]\tvalid_0's rmse: 151.758\tvalid_1's rmse: 154.607\tvalid_2's rmse: 152.152\n",
      "[156]\tvalid_0's rmse: 151.668\tvalid_1's rmse: 154.57\tvalid_2's rmse: 152.113\n",
      "[157]\tvalid_0's rmse: 151.589\tvalid_1's rmse: 154.54\tvalid_2's rmse: 152.071\n",
      "[158]\tvalid_0's rmse: 151.495\tvalid_1's rmse: 154.5\tvalid_2's rmse: 152.027\n",
      "[159]\tvalid_0's rmse: 151.403\tvalid_1's rmse: 154.465\tvalid_2's rmse: 151.981\n",
      "[160]\tvalid_0's rmse: 151.312\tvalid_1's rmse: 154.438\tvalid_2's rmse: 151.939\n",
      "[161]\tvalid_0's rmse: 151.224\tvalid_1's rmse: 154.407\tvalid_2's rmse: 151.91\n",
      "[162]\tvalid_0's rmse: 151.133\tvalid_1's rmse: 154.38\tvalid_2's rmse: 151.866\n",
      "[163]\tvalid_0's rmse: 151.041\tvalid_1's rmse: 154.348\tvalid_2's rmse: 151.832\n",
      "[164]\tvalid_0's rmse: 150.955\tvalid_1's rmse: 154.323\tvalid_2's rmse: 151.791\n",
      "[165]\tvalid_0's rmse: 150.865\tvalid_1's rmse: 154.294\tvalid_2's rmse: 151.762\n",
      "[166]\tvalid_0's rmse: 150.781\tvalid_1's rmse: 154.27\tvalid_2's rmse: 151.735\n",
      "[167]\tvalid_0's rmse: 150.697\tvalid_1's rmse: 154.244\tvalid_2's rmse: 151.7\n",
      "[168]\tvalid_0's rmse: 150.616\tvalid_1's rmse: 154.21\tvalid_2's rmse: 151.667\n",
      "[169]\tvalid_0's rmse: 150.531\tvalid_1's rmse: 154.182\tvalid_2's rmse: 151.627\n",
      "[170]\tvalid_0's rmse: 150.451\tvalid_1's rmse: 154.156\tvalid_2's rmse: 151.592\n",
      "[171]\tvalid_0's rmse: 150.377\tvalid_1's rmse: 154.132\tvalid_2's rmse: 151.559\n",
      "[172]\tvalid_0's rmse: 150.299\tvalid_1's rmse: 154.107\tvalid_2's rmse: 151.536\n",
      "[173]\tvalid_0's rmse: 150.223\tvalid_1's rmse: 154.082\tvalid_2's rmse: 151.517\n",
      "[174]\tvalid_0's rmse: 150.144\tvalid_1's rmse: 154.049\tvalid_2's rmse: 151.49\n",
      "[175]\tvalid_0's rmse: 150.076\tvalid_1's rmse: 154.025\tvalid_2's rmse: 151.461\n",
      "[176]\tvalid_0's rmse: 150.001\tvalid_1's rmse: 154.004\tvalid_2's rmse: 151.43\n",
      "[177]\tvalid_0's rmse: 149.928\tvalid_1's rmse: 153.983\tvalid_2's rmse: 151.393\n",
      "[178]\tvalid_0's rmse: 149.85\tvalid_1's rmse: 153.961\tvalid_2's rmse: 151.365\n",
      "[179]\tvalid_0's rmse: 149.78\tvalid_1's rmse: 153.941\tvalid_2's rmse: 151.331\n",
      "[180]\tvalid_0's rmse: 149.702\tvalid_1's rmse: 153.926\tvalid_2's rmse: 151.314\n",
      "[181]\tvalid_0's rmse: 149.627\tvalid_1's rmse: 153.906\tvalid_2's rmse: 151.3\n",
      "[182]\tvalid_0's rmse: 149.555\tvalid_1's rmse: 153.882\tvalid_2's rmse: 151.27\n",
      "[183]\tvalid_0's rmse: 149.48\tvalid_1's rmse: 153.862\tvalid_2's rmse: 151.244\n",
      "[184]\tvalid_0's rmse: 149.403\tvalid_1's rmse: 153.844\tvalid_2's rmse: 151.22\n",
      "[185]\tvalid_0's rmse: 149.322\tvalid_1's rmse: 153.828\tvalid_2's rmse: 151.199\n",
      "[186]\tvalid_0's rmse: 149.244\tvalid_1's rmse: 153.808\tvalid_2's rmse: 151.175\n",
      "[187]\tvalid_0's rmse: 149.17\tvalid_1's rmse: 153.789\tvalid_2's rmse: 151.153\n",
      "[188]\tvalid_0's rmse: 149.095\tvalid_1's rmse: 153.775\tvalid_2's rmse: 151.122\n",
      "[189]\tvalid_0's rmse: 149.027\tvalid_1's rmse: 153.755\tvalid_2's rmse: 151.094\n",
      "[190]\tvalid_0's rmse: 148.958\tvalid_1's rmse: 153.74\tvalid_2's rmse: 151.069\n",
      "[191]\tvalid_0's rmse: 148.884\tvalid_1's rmse: 153.721\tvalid_2's rmse: 151.047\n",
      "[192]\tvalid_0's rmse: 148.817\tvalid_1's rmse: 153.707\tvalid_2's rmse: 151.036\n",
      "[193]\tvalid_0's rmse: 148.753\tvalid_1's rmse: 153.692\tvalid_2's rmse: 151.024\n",
      "[194]\tvalid_0's rmse: 148.69\tvalid_1's rmse: 153.683\tvalid_2's rmse: 151.017\n",
      "[195]\tvalid_0's rmse: 148.617\tvalid_1's rmse: 153.664\tvalid_2's rmse: 150.996\n",
      "[196]\tvalid_0's rmse: 148.557\tvalid_1's rmse: 153.649\tvalid_2's rmse: 150.982\n",
      "[197]\tvalid_0's rmse: 148.495\tvalid_1's rmse: 153.636\tvalid_2's rmse: 150.96\n",
      "[198]\tvalid_0's rmse: 148.427\tvalid_1's rmse: 153.618\tvalid_2's rmse: 150.944\n",
      "[199]\tvalid_0's rmse: 148.356\tvalid_1's rmse: 153.608\tvalid_2's rmse: 150.932\n",
      "[200]\tvalid_0's rmse: 148.294\tvalid_1's rmse: 153.596\tvalid_2's rmse: 150.918\n",
      "[201]\tvalid_0's rmse: 148.224\tvalid_1's rmse: 153.578\tvalid_2's rmse: 150.893\n",
      "[202]\tvalid_0's rmse: 148.163\tvalid_1's rmse: 153.568\tvalid_2's rmse: 150.877\n",
      "[203]\tvalid_0's rmse: 148.098\tvalid_1's rmse: 153.559\tvalid_2's rmse: 150.865\n",
      "[204]\tvalid_0's rmse: 148.033\tvalid_1's rmse: 153.552\tvalid_2's rmse: 150.85\n",
      "[205]\tvalid_0's rmse: 147.974\tvalid_1's rmse: 153.54\tvalid_2's rmse: 150.834\n",
      "[206]\tvalid_0's rmse: 147.909\tvalid_1's rmse: 153.526\tvalid_2's rmse: 150.829\n",
      "[207]\tvalid_0's rmse: 147.851\tvalid_1's rmse: 153.521\tvalid_2's rmse: 150.814\n",
      "[208]\tvalid_0's rmse: 147.788\tvalid_1's rmse: 153.518\tvalid_2's rmse: 150.809\n",
      "[209]\tvalid_0's rmse: 147.732\tvalid_1's rmse: 153.512\tvalid_2's rmse: 150.793\n",
      "[210]\tvalid_0's rmse: 147.669\tvalid_1's rmse: 153.498\tvalid_2's rmse: 150.777\n",
      "[211]\tvalid_0's rmse: 147.611\tvalid_1's rmse: 153.491\tvalid_2's rmse: 150.767\n",
      "[212]\tvalid_0's rmse: 147.55\tvalid_1's rmse: 153.48\tvalid_2's rmse: 150.744\n",
      "[213]\tvalid_0's rmse: 147.493\tvalid_1's rmse: 153.462\tvalid_2's rmse: 150.726\n",
      "[214]\tvalid_0's rmse: 147.434\tvalid_1's rmse: 153.452\tvalid_2's rmse: 150.717\n",
      "[215]\tvalid_0's rmse: 147.375\tvalid_1's rmse: 153.45\tvalid_2's rmse: 150.711\n",
      "[216]\tvalid_0's rmse: 147.313\tvalid_1's rmse: 153.44\tvalid_2's rmse: 150.699\n",
      "[217]\tvalid_0's rmse: 147.253\tvalid_1's rmse: 153.434\tvalid_2's rmse: 150.686\n",
      "[218]\tvalid_0's rmse: 147.2\tvalid_1's rmse: 153.427\tvalid_2's rmse: 150.672\n",
      "[219]\tvalid_0's rmse: 147.139\tvalid_1's rmse: 153.416\tvalid_2's rmse: 150.661\n",
      "[220]\tvalid_0's rmse: 147.079\tvalid_1's rmse: 153.406\tvalid_2's rmse: 150.647\n",
      "[221]\tvalid_0's rmse: 147.02\tvalid_1's rmse: 153.393\tvalid_2's rmse: 150.641\n",
      "[222]\tvalid_0's rmse: 146.963\tvalid_1's rmse: 153.39\tvalid_2's rmse: 150.637\n",
      "[223]\tvalid_0's rmse: 146.907\tvalid_1's rmse: 153.388\tvalid_2's rmse: 150.628\n",
      "[224]\tvalid_0's rmse: 146.855\tvalid_1's rmse: 153.384\tvalid_2's rmse: 150.609\n",
      "[225]\tvalid_0's rmse: 146.799\tvalid_1's rmse: 153.378\tvalid_2's rmse: 150.609\n",
      "[226]\tvalid_0's rmse: 146.744\tvalid_1's rmse: 153.371\tvalid_2's rmse: 150.595\n",
      "[227]\tvalid_0's rmse: 146.686\tvalid_1's rmse: 153.358\tvalid_2's rmse: 150.588\n",
      "[228]\tvalid_0's rmse: 146.635\tvalid_1's rmse: 153.363\tvalid_2's rmse: 150.58\n",
      "[229]\tvalid_0's rmse: 146.572\tvalid_1's rmse: 153.355\tvalid_2's rmse: 150.57\n",
      "[230]\tvalid_0's rmse: 146.523\tvalid_1's rmse: 153.349\tvalid_2's rmse: 150.568\n",
      "[231]\tvalid_0's rmse: 146.467\tvalid_1's rmse: 153.347\tvalid_2's rmse: 150.553\n",
      "[232]\tvalid_0's rmse: 146.415\tvalid_1's rmse: 153.344\tvalid_2's rmse: 150.551\n",
      "[233]\tvalid_0's rmse: 146.361\tvalid_1's rmse: 153.342\tvalid_2's rmse: 150.535\n",
      "[234]\tvalid_0's rmse: 146.306\tvalid_1's rmse: 153.335\tvalid_2's rmse: 150.519\n",
      "[235]\tvalid_0's rmse: 146.255\tvalid_1's rmse: 153.337\tvalid_2's rmse: 150.505\n",
      "[236]\tvalid_0's rmse: 146.199\tvalid_1's rmse: 153.33\tvalid_2's rmse: 150.494\n",
      "[237]\tvalid_0's rmse: 146.144\tvalid_1's rmse: 153.321\tvalid_2's rmse: 150.49\n",
      "[238]\tvalid_0's rmse: 146.1\tvalid_1's rmse: 153.323\tvalid_2's rmse: 150.485\n",
      "[239]\tvalid_0's rmse: 146.047\tvalid_1's rmse: 153.318\tvalid_2's rmse: 150.47\n",
      "[240]\tvalid_0's rmse: 145.995\tvalid_1's rmse: 153.317\tvalid_2's rmse: 150.473\n",
      "[241]\tvalid_0's rmse: 145.942\tvalid_1's rmse: 153.313\tvalid_2's rmse: 150.463\n",
      "[242]\tvalid_0's rmse: 145.894\tvalid_1's rmse: 153.309\tvalid_2's rmse: 150.449\n",
      "[243]\tvalid_0's rmse: 145.843\tvalid_1's rmse: 153.307\tvalid_2's rmse: 150.441\n",
      "[244]\tvalid_0's rmse: 145.796\tvalid_1's rmse: 153.308\tvalid_2's rmse: 150.426\n",
      "[245]\tvalid_0's rmse: 145.742\tvalid_1's rmse: 153.307\tvalid_2's rmse: 150.419\n",
      "[246]\tvalid_0's rmse: 145.689\tvalid_1's rmse: 153.302\tvalid_2's rmse: 150.404\n",
      "[247]\tvalid_0's rmse: 145.642\tvalid_1's rmse: 153.305\tvalid_2's rmse: 150.392\n",
      "[248]\tvalid_0's rmse: 145.589\tvalid_1's rmse: 153.301\tvalid_2's rmse: 150.386\n",
      "[249]\tvalid_0's rmse: 145.539\tvalid_1's rmse: 153.3\tvalid_2's rmse: 150.382\n",
      "[250]\tvalid_0's rmse: 145.485\tvalid_1's rmse: 153.299\tvalid_2's rmse: 150.37\n",
      "[251]\tvalid_0's rmse: 145.438\tvalid_1's rmse: 153.3\tvalid_2's rmse: 150.37\n",
      "[252]\tvalid_0's rmse: 145.386\tvalid_1's rmse: 153.297\tvalid_2's rmse: 150.366\n",
      "[253]\tvalid_0's rmse: 145.336\tvalid_1's rmse: 153.299\tvalid_2's rmse: 150.362\n",
      "[254]\tvalid_0's rmse: 145.285\tvalid_1's rmse: 153.302\tvalid_2's rmse: 150.356\n",
      "[255]\tvalid_0's rmse: 145.24\tvalid_1's rmse: 153.295\tvalid_2's rmse: 150.353\n",
      "[256]\tvalid_0's rmse: 145.198\tvalid_1's rmse: 153.291\tvalid_2's rmse: 150.345\n"
     ]
    },
    {
     "name": "stdout",
     "output_type": "stream",
     "text": [
      "[257]\tvalid_0's rmse: 145.149\tvalid_1's rmse: 153.29\tvalid_2's rmse: 150.339\n",
      "[258]\tvalid_0's rmse: 145.102\tvalid_1's rmse: 153.294\tvalid_2's rmse: 150.338\n",
      "[259]\tvalid_0's rmse: 145.059\tvalid_1's rmse: 153.296\tvalid_2's rmse: 150.329\n",
      "[260]\tvalid_0's rmse: 145.014\tvalid_1's rmse: 153.292\tvalid_2's rmse: 150.325\n",
      "[261]\tvalid_0's rmse: 144.966\tvalid_1's rmse: 153.292\tvalid_2's rmse: 150.322\n",
      "[262]\tvalid_0's rmse: 144.917\tvalid_1's rmse: 153.287\tvalid_2's rmse: 150.319\n",
      "[263]\tvalid_0's rmse: 144.873\tvalid_1's rmse: 153.291\tvalid_2's rmse: 150.313\n"
     ]
    },
    {
     "data": {
      "text/plain": [
       "LGBMRegressor(boosting_type='gbdt', colsample_bytree=0.9348,\n",
       "       learning_rate=0.01, max_bin=255, max_depth=6, min_child_samples=10,\n",
       "       min_child_weight=0.3851, min_split_gain=0.8085, n_estimators=263,\n",
       "       n_jobs=-1, num_leaves=27, objective=None, random_state=0,\n",
       "       reg_alpha=9.7372, reg_lambda=6.6741, silent=True, subsample=0.9664,\n",
       "       subsample_for_bin=50000, subsample_freq=1)"
      ]
     },
     "execution_count": 30,
     "metadata": {},
     "output_type": "execute_result"
    }
   ],
   "source": [
    "lgbmmodel = lgbm.LGBMRegressor( \n",
    "                        boosting_type='gbdt',\n",
    "                        colsample_bytree=0.9348,\n",
    "                        learning_rate=0.01,\n",
    "                        max_depth=6, \n",
    "                        min_child_weight=0.3851,\n",
    "                        min_split_gain=0.8085,\n",
    "                        num_leaves=27,\n",
    "                        objective=None,\n",
    "                        reg_alpha=9.7372,\n",
    "                        reg_lambda=6.6741,\n",
    "                        subsample=0.9664,\n",
    "                        n_estimators=263)\n",
    "lgbmmodel.fit(train_X2.values, train_y, \n",
    "                 eval_set=[(train_X2.values, train_y), (val_X[collist_X2].values, val_y), (test_X[collist_X2].values, test_y)], \n",
    "                 eval_metric='rmse',\n",
    "                 early_stopping_rounds=100,                 \n",
    "                 verbose=True)"
   ]
  },
  {
   "cell_type": "code",
   "execution_count": 31,
   "metadata": {},
   "outputs": [
    {
     "name": "stdout",
     "output_type": "stream",
     "text": [
      "The model is trained on the full development set.\n",
      "The scores are computed on the full evaluation set.\n",
      "\n",
      "R2 Train: 0.441687465798\n",
      "RMSE Train: 144.8725754292381\n",
      "RMSE Val: 153.2910242796636\n",
      "RMSE Test: 150.31320485939884\n"
     ]
    }
   ],
   "source": [
    "print(\"The model is trained on the full development set.\")\n",
    "print(\"The scores are computed on the full evaluation set.\")\n",
    "print()\n",
    "y_true3, y_pred3 = train_y, lgbmmodel.predict(train_X[collist_X2].values)\n",
    "y_true, y_pred = val_y, lgbmmodel.predict(val_X[collist_X2].values)\n",
    "y_true2, y_pred2 = test_y, lgbmmodel.predict(test_X[collist_X2].values)\n",
    "print('R2 Train: ' + str(r2_score(y_true3, y_pred3)))\n",
    "rmse = math.sqrt(mean_squared_error(y_true3, y_pred3))\n",
    "print('RMSE Train: ' + str(rmse))\n",
    "rmse = math.sqrt(mean_squared_error(y_true, y_pred))\n",
    "print('RMSE Val: ' + str(rmse))\n",
    "rmse = math.sqrt(mean_squared_error(y_true2, y_pred2))\n",
    "print('RMSE Test: ' + str(rmse))\n"
   ]
  },
  {
   "cell_type": "code",
   "execution_count": 32,
   "metadata": {},
   "outputs": [
    {
     "data": {
      "image/png": "[encoded data removed]",
      "text/plain": [
       "<matplotlib.figure.Figure at 0x22d380b8>"
      ]
     },
     "metadata": {},
     "output_type": "display_data"
    }
   ],
   "source": [
    "plotdata = pd.DataFrame({'true':y_true.tolist(),'pred':y_pred.tolist()})\n",
    "plotdata['resid'] = plotdata['pred']-plotdata['true']\n",
    "plotdata['stdresid'] = plotdata['resid']/np.std(plotdata['resid'])\n",
    "\n",
    "plt.plot(plotdata['stdresid'], '.', alpha = 0.5, color='black')\n",
    "plt.axhline(y=0, color = 'green')\n",
    "plt.axhline(y=2, color = 'blue', linestyle='--')\n",
    "plt.axhline(y=-2, color = 'blue', linestyle='--')\n",
    "plt.axhline(y=3, color = 'red', linestyle='--')\n",
    "plt.axhline(y=-3, color = 'red', linestyle='--')\n",
    "\n",
    "plt.title('Standardized Residuals')\n",
    "plt.ylabel('Standard Deviations')\n",
    "plt.xlabel('Observation Number')\n",
    "plt.show()"
   ]
  },
  {
   "cell_type": "code",
   "execution_count": 34,
   "metadata": {},
   "outputs": [
    {
     "data": {
      "text/plain": [
       "(12,)"
      ]
     },
     "execution_count": 34,
     "metadata": {},
     "output_type": "execute_result"
    }
   ],
   "source": [
    "train_X2.shape[1:]"
   ]
  },
  {
   "cell_type": "code",
   "execution_count": 35,
   "metadata": {
    "scrolled": true
   },
   "outputs": [
    {
     "name": "stdout",
     "output_type": "stream",
     "text": [
      "INFO:tensorflow:Using default config.\n"
     ]
    },
    {
     "name": "stderr",
     "output_type": "stream",
     "text": [
      "INFO:tensorflow:Using default config.\n"
     ]
    },
    {
     "name": "stdout",
     "output_type": "stream",
     "text": [
      "WARNING:tensorflow:Using temporary folder as model directory: C:\\Temp\\tmpkq4z6wc7\n"
     ]
    },
    {
     "name": "stderr",
     "output_type": "stream",
     "text": [
      "WARNING:tensorflow:Using temporary folder as model directory: C:\\Temp\\tmpkq4z6wc7\n"
     ]
    },
    {
     "name": "stdout",
     "output_type": "stream",
     "text": [
      "INFO:tensorflow:Using config: {'_model_dir': 'C:\\\\Temp\\\\tmpkq4z6wc7', '_tf_random_seed': None, '_save_summary_steps': 100, '_save_checkpoints_steps': None, '_save_checkpoints_secs': 600, '_session_config': None, '_keep_checkpoint_max': 5, '_keep_checkpoint_every_n_hours': 10000, '_log_step_count_steps': 100, '_service': None, '_cluster_spec': <tensorflow.python.training.server_lib.ClusterSpec object at 0x000000002FDCC2B0>, '_task_type': 'worker', '_task_id': 0, '_master': '', '_is_chief': True, '_num_ps_replicas': 0, '_num_worker_replicas': 1}\n"
     ]
    },
    {
     "name": "stderr",
     "output_type": "stream",
     "text": [
      "INFO:tensorflow:Using config: {'_model_dir': 'C:\\\\Temp\\\\tmpkq4z6wc7', '_tf_random_seed': None, '_save_summary_steps': 100, '_save_checkpoints_steps': None, '_save_checkpoints_secs': 600, '_session_config': None, '_keep_checkpoint_max': 5, '_keep_checkpoint_every_n_hours': 10000, '_log_step_count_steps': 100, '_service': None, '_cluster_spec': <tensorflow.python.training.server_lib.ClusterSpec object at 0x000000002FDCC2B0>, '_task_type': 'worker', '_task_id': 0, '_master': '', '_is_chief': True, '_num_ps_replicas': 0, '_num_worker_replicas': 1}\n"
     ]
    },
    {
     "name": "stdout",
     "output_type": "stream",
     "text": [
      "INFO:tensorflow:Create CheckpointSaverHook.\n"
     ]
    },
    {
     "name": "stderr",
     "output_type": "stream",
     "text": [
      "INFO:tensorflow:Create CheckpointSaverHook.\n"
     ]
    },
    {
     "name": "stdout",
     "output_type": "stream",
     "text": [
      "INFO:tensorflow:Saving checkpoints for 1 into C:\\Temp\\tmpkq4z6wc7\\model.ckpt.\n"
     ]
    },
    {
     "name": "stderr",
     "output_type": "stream",
     "text": [
      "INFO:tensorflow:Saving checkpoints for 1 into C:\\Temp\\tmpkq4z6wc7\\model.ckpt.\n"
     ]
    },
    {
     "name": "stdout",
     "output_type": "stream",
     "text": [
      "INFO:tensorflow:loss = 2.673e+07, step = 1\n"
     ]
    },
    {
     "name": "stderr",
     "output_type": "stream",
     "text": [
      "INFO:tensorflow:loss = 2.673e+07, step = 1\n"
     ]
    },
    {
     "name": "stdout",
     "output_type": "stream",
     "text": [
      "INFO:tensorflow:global_step/sec: 229.358\n"
     ]
    },
    {
     "name": "stderr",
     "output_type": "stream",
     "text": [
      "INFO:tensorflow:global_step/sec: 229.358\n"
     ]
    },
    {
     "name": "stdout",
     "output_type": "stream",
     "text": [
      "INFO:tensorflow:loss = 2.63045e+07, step = 101 (0.439 sec)\n"
     ]
    },
    {
     "name": "stderr",
     "output_type": "stream",
     "text": [
      "INFO:tensorflow:loss = 2.63045e+07, step = 101 (0.439 sec)\n"
     ]
    },
    {
     "name": "stdout",
     "output_type": "stream",
     "text": [
      "INFO:tensorflow:global_step/sec: 245.7\n"
     ]
    },
    {
     "name": "stderr",
     "output_type": "stream",
     "text": [
      "INFO:tensorflow:global_step/sec: 245.7\n"
     ]
    },
    {
     "name": "stdout",
     "output_type": "stream",
     "text": [
      "INFO:tensorflow:loss = 1.98638e+07, step = 201 (0.407 sec)\n"
     ]
    },
    {
     "name": "stderr",
     "output_type": "stream",
     "text": [
      "INFO:tensorflow:loss = 1.98638e+07, step = 201 (0.407 sec)\n"
     ]
    },
    {
     "name": "stdout",
     "output_type": "stream",
     "text": [
      "INFO:tensorflow:global_step/sec: 282.486\n"
     ]
    },
    {
     "name": "stderr",
     "output_type": "stream",
     "text": [
      "INFO:tensorflow:global_step/sec: 282.486\n"
     ]
    },
    {
     "name": "stdout",
     "output_type": "stream",
     "text": [
      "INFO:tensorflow:loss = 2.22596e+07, step = 301 (0.354 sec)\n"
     ]
    },
    {
     "name": "stderr",
     "output_type": "stream",
     "text": [
      "INFO:tensorflow:loss = 2.22596e+07, step = 301 (0.354 sec)\n"
     ]
    },
    {
     "name": "stdout",
     "output_type": "stream",
     "text": [
      "INFO:tensorflow:global_step/sec: 296.736\n"
     ]
    },
    {
     "name": "stderr",
     "output_type": "stream",
     "text": [
      "INFO:tensorflow:global_step/sec: 296.736\n"
     ]
    },
    {
     "name": "stdout",
     "output_type": "stream",
     "text": [
      "INFO:tensorflow:loss = 2.73102e+07, step = 401 (0.336 sec)\n"
     ]
    },
    {
     "name": "stderr",
     "output_type": "stream",
     "text": [
      "INFO:tensorflow:loss = 2.73102e+07, step = 401 (0.336 sec)\n"
     ]
    },
    {
     "name": "stdout",
     "output_type": "stream",
     "text": [
      "INFO:tensorflow:global_step/sec: 291.545\n"
     ]
    },
    {
     "name": "stderr",
     "output_type": "stream",
     "text": [
      "INFO:tensorflow:global_step/sec: 291.545\n"
     ]
    },
    {
     "name": "stdout",
     "output_type": "stream",
     "text": [
      "INFO:tensorflow:loss = 2.87983e+07, step = 501 (0.343 sec)\n"
     ]
    },
    {
     "name": "stderr",
     "output_type": "stream",
     "text": [
      "INFO:tensorflow:loss = 2.87983e+07, step = 501 (0.343 sec)\n"
     ]
    },
    {
     "name": "stdout",
     "output_type": "stream",
     "text": [
      "INFO:tensorflow:global_step/sec: 290.698\n"
     ]
    },
    {
     "name": "stderr",
     "output_type": "stream",
     "text": [
      "INFO:tensorflow:global_step/sec: 290.698\n"
     ]
    },
    {
     "name": "stdout",
     "output_type": "stream",
     "text": [
      "INFO:tensorflow:loss = 2.27762e+07, step = 601 (0.345 sec)\n"
     ]
    },
    {
     "name": "stderr",
     "output_type": "stream",
     "text": [
      "INFO:tensorflow:loss = 2.27762e+07, step = 601 (0.345 sec)\n"
     ]
    },
    {
     "name": "stdout",
     "output_type": "stream",
     "text": [
      "INFO:tensorflow:global_step/sec: 288.185\n"
     ]
    },
    {
     "name": "stderr",
     "output_type": "stream",
     "text": [
      "INFO:tensorflow:global_step/sec: 288.185\n"
     ]
    },
    {
     "name": "stdout",
     "output_type": "stream",
     "text": [
      "INFO:tensorflow:loss = 2.83567e+07, step = 701 (0.346 sec)\n"
     ]
    },
    {
     "name": "stderr",
     "output_type": "stream",
     "text": [
      "INFO:tensorflow:loss = 2.83567e+07, step = 701 (0.346 sec)\n"
     ]
    },
    {
     "name": "stdout",
     "output_type": "stream",
     "text": [
      "INFO:tensorflow:global_step/sec: 293.255\n"
     ]
    },
    {
     "name": "stderr",
     "output_type": "stream",
     "text": [
      "INFO:tensorflow:global_step/sec: 293.255\n"
     ]
    },
    {
     "name": "stdout",
     "output_type": "stream",
     "text": [
      "INFO:tensorflow:loss = 2.018e+07, step = 801 (0.342 sec)\n"
     ]
    },
    {
     "name": "stderr",
     "output_type": "stream",
     "text": [
      "INFO:tensorflow:loss = 2.018e+07, step = 801 (0.342 sec)\n"
     ]
    },
    {
     "name": "stdout",
     "output_type": "stream",
     "text": [
      "INFO:tensorflow:global_step/sec: 288.184\n"
     ]
    },
    {
     "name": "stderr",
     "output_type": "stream",
     "text": [
      "INFO:tensorflow:global_step/sec: 288.184\n"
     ]
    },
    {
     "name": "stdout",
     "output_type": "stream",
     "text": [
      "INFO:tensorflow:loss = 2.17858e+07, step = 901 (0.346 sec)\n"
     ]
    },
    {
     "name": "stderr",
     "output_type": "stream",
     "text": [
      "INFO:tensorflow:loss = 2.17858e+07, step = 901 (0.346 sec)\n"
     ]
    },
    {
     "name": "stdout",
     "output_type": "stream",
     "text": [
      "INFO:tensorflow:global_step/sec: 256.41\n"
     ]
    },
    {
     "name": "stderr",
     "output_type": "stream",
     "text": [
      "INFO:tensorflow:global_step/sec: 256.41\n"
     ]
    },
    {
     "name": "stdout",
     "output_type": "stream",
     "text": [
      "INFO:tensorflow:loss = 2.17143e+07, step = 1001 (0.391 sec)\n"
     ]
    },
    {
     "name": "stderr",
     "output_type": "stream",
     "text": [
      "INFO:tensorflow:loss = 2.17143e+07, step = 1001 (0.391 sec)\n"
     ]
    },
    {
     "name": "stdout",
     "output_type": "stream",
     "text": [
      "INFO:tensorflow:global_step/sec: 284.9\n"
     ]
    },
    {
     "name": "stderr",
     "output_type": "stream",
     "text": [
      "INFO:tensorflow:global_step/sec: 284.9\n"
     ]
    },
    {
     "name": "stdout",
     "output_type": "stream",
     "text": [
      "INFO:tensorflow:loss = 3.34358e+07, step = 1101 (0.351 sec)\n"
     ]
    },
    {
     "name": "stderr",
     "output_type": "stream",
     "text": [
      "INFO:tensorflow:loss = 3.34358e+07, step = 1101 (0.351 sec)\n"
     ]
    },
    {
     "name": "stdout",
     "output_type": "stream",
     "text": [
      "INFO:tensorflow:global_step/sec: 296.736\n"
     ]
    },
    {
     "name": "stderr",
     "output_type": "stream",
     "text": [
      "INFO:tensorflow:global_step/sec: 296.736\n"
     ]
    },
    {
     "name": "stdout",
     "output_type": "stream",
     "text": [
      "INFO:tensorflow:loss = 1.93859e+07, step = 1201 (0.336 sec)\n"
     ]
    },
    {
     "name": "stderr",
     "output_type": "stream",
     "text": [
      "INFO:tensorflow:loss = 1.93859e+07, step = 1201 (0.336 sec)\n"
     ]
    },
    {
     "name": "stdout",
     "output_type": "stream",
     "text": [
      "INFO:tensorflow:global_step/sec: 293.255\n"
     ]
    },
    {
     "name": "stderr",
     "output_type": "stream",
     "text": [
      "INFO:tensorflow:global_step/sec: 293.255\n"
     ]
    },
    {
     "name": "stdout",
     "output_type": "stream",
     "text": [
      "INFO:tensorflow:loss = 4.39622e+07, step = 1301 (0.342 sec)\n"
     ]
    },
    {
     "name": "stderr",
     "output_type": "stream",
     "text": [
      "INFO:tensorflow:loss = 4.39622e+07, step = 1301 (0.342 sec)\n"
     ]
    },
    {
     "name": "stdout",
     "output_type": "stream",
     "text": [
      "INFO:tensorflow:global_step/sec: 293.255\n"
     ]
    },
    {
     "name": "stderr",
     "output_type": "stream",
     "text": [
      "INFO:tensorflow:global_step/sec: 293.255\n"
     ]
    },
    {
     "name": "stdout",
     "output_type": "stream",
     "text": [
      "INFO:tensorflow:loss = 1.75851e+07, step = 1401 (0.340 sec)\n"
     ]
    },
    {
     "name": "stderr",
     "output_type": "stream",
     "text": [
      "INFO:tensorflow:loss = 1.75851e+07, step = 1401 (0.340 sec)\n"
     ]
    },
    {
     "name": "stdout",
     "output_type": "stream",
     "text": [
      "INFO:tensorflow:global_step/sec: 294.985\n"
     ]
    },
    {
     "name": "stderr",
     "output_type": "stream",
     "text": [
      "INFO:tensorflow:global_step/sec: 294.985\n"
     ]
    },
    {
     "name": "stdout",
     "output_type": "stream",
     "text": [
      "INFO:tensorflow:loss = 1.62838e+07, step = 1501 (0.339 sec)\n"
     ]
    },
    {
     "name": "stderr",
     "output_type": "stream",
     "text": [
      "INFO:tensorflow:loss = 1.62838e+07, step = 1501 (0.339 sec)\n"
     ]
    },
    {
     "name": "stdout",
     "output_type": "stream",
     "text": [
      "INFO:tensorflow:global_step/sec: 263.158\n"
     ]
    },
    {
     "name": "stderr",
     "output_type": "stream",
     "text": [
      "INFO:tensorflow:global_step/sec: 263.158\n"
     ]
    },
    {
     "name": "stdout",
     "output_type": "stream",
     "text": [
      "INFO:tensorflow:loss = 2.15864e+07, step = 1601 (0.381 sec)\n"
     ]
    },
    {
     "name": "stderr",
     "output_type": "stream",
     "text": [
      "INFO:tensorflow:loss = 2.15864e+07, step = 1601 (0.381 sec)\n"
     ]
    },
    {
     "name": "stdout",
     "output_type": "stream",
     "text": [
      "INFO:tensorflow:global_step/sec: 294.985\n"
     ]
    },
    {
     "name": "stderr",
     "output_type": "stream",
     "text": [
      "INFO:tensorflow:global_step/sec: 294.985\n"
     ]
    },
    {
     "name": "stdout",
     "output_type": "stream",
     "text": [
      "INFO:tensorflow:loss = 1.8782e+07, step = 1701 (0.338 sec)\n"
     ]
    },
    {
     "name": "stderr",
     "output_type": "stream",
     "text": [
      "INFO:tensorflow:loss = 1.8782e+07, step = 1701 (0.338 sec)\n"
     ]
    },
    {
     "name": "stdout",
     "output_type": "stream",
     "text": [
      "INFO:tensorflow:global_step/sec: 294.118\n"
     ]
    },
    {
     "name": "stderr",
     "output_type": "stream",
     "text": [
      "INFO:tensorflow:global_step/sec: 294.118\n"
     ]
    },
    {
     "name": "stdout",
     "output_type": "stream",
     "text": [
      "INFO:tensorflow:loss = 2.52116e+07, step = 1801 (0.340 sec)\n"
     ]
    },
    {
     "name": "stderr",
     "output_type": "stream",
     "text": [
      "INFO:tensorflow:loss = 2.52116e+07, step = 1801 (0.340 sec)\n"
     ]
    },
    {
     "name": "stdout",
     "output_type": "stream",
     "text": [
      "INFO:tensorflow:global_step/sec: 275.482\n"
     ]
    },
    {
     "name": "stderr",
     "output_type": "stream",
     "text": [
      "INFO:tensorflow:global_step/sec: 275.482\n"
     ]
    },
    {
     "name": "stdout",
     "output_type": "stream",
     "text": [
      "INFO:tensorflow:loss = 2.06232e+07, step = 1901 (0.366 sec)\n"
     ]
    },
    {
     "name": "stderr",
     "output_type": "stream",
     "text": [
      "INFO:tensorflow:loss = 2.06232e+07, step = 1901 (0.366 sec)\n"
     ]
    },
    {
     "name": "stdout",
     "output_type": "stream",
     "text": [
      "INFO:tensorflow:global_step/sec: 274.725\n"
     ]
    },
    {
     "name": "stderr",
     "output_type": "stream",
     "text": [
      "INFO:tensorflow:global_step/sec: 274.725\n"
     ]
    },
    {
     "name": "stdout",
     "output_type": "stream",
     "text": [
      "INFO:tensorflow:loss = 2.0878e+07, step = 2001 (0.361 sec)\n"
     ]
    },
    {
     "name": "stderr",
     "output_type": "stream",
     "text": [
      "INFO:tensorflow:loss = 2.0878e+07, step = 2001 (0.361 sec)\n"
     ]
    },
    {
     "name": "stdout",
     "output_type": "stream",
     "text": [
      "INFO:tensorflow:global_step/sec: 295.858\n"
     ]
    },
    {
     "name": "stderr",
     "output_type": "stream",
     "text": [
      "INFO:tensorflow:global_step/sec: 295.858\n"
     ]
    },
    {
     "name": "stdout",
     "output_type": "stream",
     "text": [
      "INFO:tensorflow:loss = 2.66561e+07, step = 2101 (0.339 sec)\n"
     ]
    },
    {
     "name": "stderr",
     "output_type": "stream",
     "text": [
      "INFO:tensorflow:loss = 2.66561e+07, step = 2101 (0.339 sec)\n"
     ]
    },
    {
     "name": "stdout",
     "output_type": "stream",
     "text": [
      "INFO:tensorflow:global_step/sec: 288.185\n"
     ]
    },
    {
     "name": "stderr",
     "output_type": "stream",
     "text": [
      "INFO:tensorflow:global_step/sec: 288.185\n"
     ]
    },
    {
     "name": "stdout",
     "output_type": "stream",
     "text": [
      "INFO:tensorflow:loss = 2.47651e+07, step = 2201 (0.346 sec)\n"
     ]
    },
    {
     "name": "stderr",
     "output_type": "stream",
     "text": [
      "INFO:tensorflow:loss = 2.47651e+07, step = 2201 (0.346 sec)\n"
     ]
    },
    {
     "name": "stdout",
     "output_type": "stream",
     "text": [
      "INFO:tensorflow:global_step/sec: 295.858\n"
     ]
    },
    {
     "name": "stderr",
     "output_type": "stream",
     "text": [
      "INFO:tensorflow:global_step/sec: 295.858\n"
     ]
    },
    {
     "name": "stdout",
     "output_type": "stream",
     "text": [
      "INFO:tensorflow:loss = 2.80592e+07, step = 2301 (0.337 sec)\n"
     ]
    },
    {
     "name": "stderr",
     "output_type": "stream",
     "text": [
      "INFO:tensorflow:loss = 2.80592e+07, step = 2301 (0.337 sec)\n"
     ]
    },
    {
     "name": "stdout",
     "output_type": "stream",
     "text": [
      "INFO:tensorflow:global_step/sec: 291.545\n"
     ]
    },
    {
     "name": "stderr",
     "output_type": "stream",
     "text": [
      "INFO:tensorflow:global_step/sec: 291.545\n"
     ]
    },
    {
     "name": "stdout",
     "output_type": "stream",
     "text": [
      "INFO:tensorflow:loss = 2.89868e+07, step = 2401 (0.344 sec)\n"
     ]
    },
    {
     "name": "stderr",
     "output_type": "stream",
     "text": [
      "INFO:tensorflow:loss = 2.89868e+07, step = 2401 (0.344 sec)\n"
     ]
    },
    {
     "name": "stdout",
     "output_type": "stream",
     "text": [
      "INFO:tensorflow:global_step/sec: 280.899\n"
     ]
    },
    {
     "name": "stderr",
     "output_type": "stream",
     "text": [
      "INFO:tensorflow:global_step/sec: 280.899\n"
     ]
    },
    {
     "name": "stdout",
     "output_type": "stream",
     "text": [
      "INFO:tensorflow:loss = 2.01917e+07, step = 2501 (0.356 sec)\n"
     ]
    },
    {
     "name": "stderr",
     "output_type": "stream",
     "text": [
      "INFO:tensorflow:loss = 2.01917e+07, step = 2501 (0.356 sec)\n"
     ]
    },
    {
     "name": "stdout",
     "output_type": "stream",
     "text": [
      "INFO:tensorflow:global_step/sec: 265.252\n"
     ]
    },
    {
     "name": "stderr",
     "output_type": "stream",
     "text": [
      "INFO:tensorflow:global_step/sec: 265.252\n"
     ]
    },
    {
     "name": "stdout",
     "output_type": "stream",
     "text": [
      "INFO:tensorflow:loss = 4.12309e+07, step = 2601 (0.377 sec)\n"
     ]
    },
    {
     "name": "stderr",
     "output_type": "stream",
     "text": [
      "INFO:tensorflow:loss = 4.12309e+07, step = 2601 (0.377 sec)\n"
     ]
    },
    {
     "name": "stdout",
     "output_type": "stream",
     "text": [
      "INFO:tensorflow:global_step/sec: 295.858\n"
     ]
    },
    {
     "name": "stderr",
     "output_type": "stream",
     "text": [
      "INFO:tensorflow:global_step/sec: 295.858\n"
     ]
    },
    {
     "name": "stdout",
     "output_type": "stream",
     "text": [
      "INFO:tensorflow:loss = 3.20908e+07, step = 2701 (0.338 sec)\n"
     ]
    },
    {
     "name": "stderr",
     "output_type": "stream",
     "text": [
      "INFO:tensorflow:loss = 3.20908e+07, step = 2701 (0.338 sec)\n"
     ]
    },
    {
     "name": "stdout",
     "output_type": "stream",
     "text": [
      "INFO:tensorflow:global_step/sec: 279.33\n"
     ]
    },
    {
     "name": "stderr",
     "output_type": "stream",
     "text": [
      "INFO:tensorflow:global_step/sec: 279.33\n"
     ]
    },
    {
     "name": "stdout",
     "output_type": "stream",
     "text": [
      "INFO:tensorflow:loss = 2.33059e+07, step = 2801 (0.359 sec)\n"
     ]
    },
    {
     "name": "stderr",
     "output_type": "stream",
     "text": [
      "INFO:tensorflow:loss = 2.33059e+07, step = 2801 (0.359 sec)\n"
     ]
    },
    {
     "name": "stdout",
     "output_type": "stream",
     "text": [
      "INFO:tensorflow:global_step/sec: 252.525\n"
     ]
    },
    {
     "name": "stderr",
     "output_type": "stream",
     "text": [
      "INFO:tensorflow:global_step/sec: 252.525\n"
     ]
    },
    {
     "name": "stdout",
     "output_type": "stream",
     "text": [
      "INFO:tensorflow:loss = 3.19966e+07, step = 2901 (0.395 sec)\n"
     ]
    },
    {
     "name": "stderr",
     "output_type": "stream",
     "text": [
      "INFO:tensorflow:loss = 3.19966e+07, step = 2901 (0.395 sec)\n"
     ]
    },
    {
     "name": "stdout",
     "output_type": "stream",
     "text": [
      "INFO:tensorflow:global_step/sec: 282.486\n"
     ]
    },
    {
     "name": "stderr",
     "output_type": "stream",
     "text": [
      "INFO:tensorflow:global_step/sec: 282.486\n"
     ]
    },
    {
     "name": "stdout",
     "output_type": "stream",
     "text": [
      "INFO:tensorflow:loss = 2.01149e+07, step = 3001 (0.359 sec)\n"
     ]
    },
    {
     "name": "stderr",
     "output_type": "stream",
     "text": [
      "INFO:tensorflow:loss = 2.01149e+07, step = 3001 (0.359 sec)\n"
     ]
    },
    {
     "name": "stdout",
     "output_type": "stream",
     "text": [
      "INFO:tensorflow:global_step/sec: 277.008\n"
     ]
    },
    {
     "name": "stderr",
     "output_type": "stream",
     "text": [
      "INFO:tensorflow:global_step/sec: 277.008\n"
     ]
    },
    {
     "name": "stdout",
     "output_type": "stream",
     "text": [
      "INFO:tensorflow:loss = 2.44803e+07, step = 3101 (0.356 sec)\n"
     ]
    },
    {
     "name": "stderr",
     "output_type": "stream",
     "text": [
      "INFO:tensorflow:loss = 2.44803e+07, step = 3101 (0.356 sec)\n"
     ]
    },
    {
     "name": "stdout",
     "output_type": "stream",
     "text": [
      "INFO:tensorflow:global_step/sec: 296.736\n"
     ]
    },
    {
     "name": "stderr",
     "output_type": "stream",
     "text": [
      "INFO:tensorflow:global_step/sec: 296.736\n"
     ]
    },
    {
     "name": "stdout",
     "output_type": "stream",
     "text": [
      "INFO:tensorflow:loss = 1.81206e+07, step = 3201 (0.336 sec)\n"
     ]
    },
    {
     "name": "stderr",
     "output_type": "stream",
     "text": [
      "INFO:tensorflow:loss = 1.81206e+07, step = 3201 (0.336 sec)\n"
     ]
    },
    {
     "name": "stdout",
     "output_type": "stream",
     "text": [
      "INFO:tensorflow:global_step/sec: 294.985\n"
     ]
    },
    {
     "name": "stderr",
     "output_type": "stream",
     "text": [
      "INFO:tensorflow:global_step/sec: 294.985\n"
     ]
    },
    {
     "name": "stdout",
     "output_type": "stream",
     "text": [
      "INFO:tensorflow:loss = 2.34954e+07, step = 3301 (0.340 sec)\n"
     ]
    },
    {
     "name": "stderr",
     "output_type": "stream",
     "text": [
      "INFO:tensorflow:loss = 2.34954e+07, step = 3301 (0.340 sec)\n"
     ]
    },
    {
     "name": "stdout",
     "output_type": "stream",
     "text": [
      "INFO:tensorflow:global_step/sec: 294.985\n"
     ]
    },
    {
     "name": "stderr",
     "output_type": "stream",
     "text": [
      "INFO:tensorflow:global_step/sec: 294.985\n"
     ]
    },
    {
     "name": "stdout",
     "output_type": "stream",
     "text": [
      "INFO:tensorflow:loss = 2.03725e+07, step = 3401 (0.339 sec)\n"
     ]
    },
    {
     "name": "stderr",
     "output_type": "stream",
     "text": [
      "INFO:tensorflow:loss = 2.03725e+07, step = 3401 (0.339 sec)\n"
     ]
    },
    {
     "name": "stdout",
     "output_type": "stream",
     "text": [
      "INFO:tensorflow:global_step/sec: 297.619\n"
     ]
    },
    {
     "name": "stderr",
     "output_type": "stream",
     "text": [
      "INFO:tensorflow:global_step/sec: 297.619\n"
     ]
    },
    {
     "name": "stdout",
     "output_type": "stream",
     "text": [
      "INFO:tensorflow:loss = 2.41077e+07, step = 3501 (0.336 sec)\n"
     ]
    },
    {
     "name": "stderr",
     "output_type": "stream",
     "text": [
      "INFO:tensorflow:loss = 2.41077e+07, step = 3501 (0.336 sec)\n"
     ]
    },
    {
     "name": "stdout",
     "output_type": "stream",
     "text": [
      "INFO:tensorflow:global_step/sec: 292.397\n"
     ]
    },
    {
     "name": "stderr",
     "output_type": "stream",
     "text": [
      "INFO:tensorflow:global_step/sec: 292.397\n"
     ]
    },
    {
     "name": "stdout",
     "output_type": "stream",
     "text": [
      "INFO:tensorflow:loss = 3.27432e+07, step = 3601 (0.342 sec)\n"
     ]
    },
    {
     "name": "stderr",
     "output_type": "stream",
     "text": [
      "INFO:tensorflow:loss = 3.27432e+07, step = 3601 (0.342 sec)\n"
     ]
    },
    {
     "name": "stdout",
     "output_type": "stream",
     "text": [
      "INFO:tensorflow:global_step/sec: 286.533\n"
     ]
    },
    {
     "name": "stderr",
     "output_type": "stream",
     "text": [
      "INFO:tensorflow:global_step/sec: 286.533\n"
     ]
    },
    {
     "name": "stdout",
     "output_type": "stream",
     "text": [
      "INFO:tensorflow:loss = 2.28772e+07, step = 3701 (0.349 sec)\n"
     ]
    },
    {
     "name": "stderr",
     "output_type": "stream",
     "text": [
      "INFO:tensorflow:loss = 2.28772e+07, step = 3701 (0.349 sec)\n"
     ]
    },
    {
     "name": "stdout",
     "output_type": "stream",
     "text": [
      "INFO:tensorflow:global_step/sec: 288.185\n"
     ]
    },
    {
     "name": "stderr",
     "output_type": "stream",
     "text": [
      "INFO:tensorflow:global_step/sec: 288.185\n"
     ]
    },
    {
     "name": "stdout",
     "output_type": "stream",
     "text": [
      "INFO:tensorflow:loss = 2.50721e+07, step = 3801 (0.348 sec)\n"
     ]
    },
    {
     "name": "stderr",
     "output_type": "stream",
     "text": [
      "INFO:tensorflow:loss = 2.50721e+07, step = 3801 (0.348 sec)\n"
     ]
    },
    {
     "name": "stdout",
     "output_type": "stream",
     "text": [
      "INFO:tensorflow:global_step/sec: 263.852\n"
     ]
    },
    {
     "name": "stderr",
     "output_type": "stream",
     "text": [
      "INFO:tensorflow:global_step/sec: 263.852\n"
     ]
    },
    {
     "name": "stdout",
     "output_type": "stream",
     "text": [
      "INFO:tensorflow:loss = 2.69814e+07, step = 3901 (0.378 sec)\n"
     ]
    },
    {
     "name": "stderr",
     "output_type": "stream",
     "text": [
      "INFO:tensorflow:loss = 2.69814e+07, step = 3901 (0.378 sec)\n"
     ]
    },
    {
     "name": "stdout",
     "output_type": "stream",
     "text": [
      "INFO:tensorflow:global_step/sec: 290.698\n"
     ]
    },
    {
     "name": "stderr",
     "output_type": "stream",
     "text": [
      "INFO:tensorflow:global_step/sec: 290.698\n"
     ]
    },
    {
     "name": "stdout",
     "output_type": "stream",
     "text": [
      "INFO:tensorflow:loss = 2.33898e+07, step = 4001 (0.344 sec)\n"
     ]
    },
    {
     "name": "stderr",
     "output_type": "stream",
     "text": [
      "INFO:tensorflow:loss = 2.33898e+07, step = 4001 (0.344 sec)\n"
     ]
    },
    {
     "name": "stdout",
     "output_type": "stream",
     "text": [
      "INFO:tensorflow:global_step/sec: 298.507\n"
     ]
    },
    {
     "name": "stderr",
     "output_type": "stream",
     "text": [
      "INFO:tensorflow:global_step/sec: 298.507\n"
     ]
    },
    {
     "name": "stdout",
     "output_type": "stream",
     "text": [
      "INFO:tensorflow:loss = 1.72493e+07, step = 4101 (0.335 sec)\n"
     ]
    },
    {
     "name": "stderr",
     "output_type": "stream",
     "text": [
      "INFO:tensorflow:loss = 1.72493e+07, step = 4101 (0.335 sec)\n"
     ]
    },
    {
     "name": "stdout",
     "output_type": "stream",
     "text": [
      "INFO:tensorflow:global_step/sec: 274.725\n"
     ]
    },
    {
     "name": "stderr",
     "output_type": "stream",
     "text": [
      "INFO:tensorflow:global_step/sec: 274.725\n"
     ]
    },
    {
     "name": "stdout",
     "output_type": "stream",
     "text": [
      "INFO:tensorflow:loss = 3.02773e+07, step = 4201 (0.364 sec)\n"
     ]
    },
    {
     "name": "stderr",
     "output_type": "stream",
     "text": [
      "INFO:tensorflow:loss = 3.02773e+07, step = 4201 (0.364 sec)\n"
     ]
    },
    {
     "name": "stdout",
     "output_type": "stream",
     "text": [
      "INFO:tensorflow:global_step/sec: 284.091\n"
     ]
    },
    {
     "name": "stderr",
     "output_type": "stream",
     "text": [
      "INFO:tensorflow:global_step/sec: 284.091\n"
     ]
    },
    {
     "name": "stdout",
     "output_type": "stream",
     "text": [
      "INFO:tensorflow:loss = 2.60869e+07, step = 4301 (0.352 sec)\n"
     ]
    },
    {
     "name": "stderr",
     "output_type": "stream",
     "text": [
      "INFO:tensorflow:loss = 2.60869e+07, step = 4301 (0.352 sec)\n"
     ]
    },
    {
     "name": "stdout",
     "output_type": "stream",
     "text": [
      "INFO:tensorflow:global_step/sec: 293.255\n"
     ]
    },
    {
     "name": "stderr",
     "output_type": "stream",
     "text": [
      "INFO:tensorflow:global_step/sec: 293.255\n"
     ]
    },
    {
     "name": "stdout",
     "output_type": "stream",
     "text": [
      "INFO:tensorflow:loss = 3.28005e+07, step = 4401 (0.341 sec)\n"
     ]
    },
    {
     "name": "stderr",
     "output_type": "stream",
     "text": [
      "INFO:tensorflow:loss = 3.28005e+07, step = 4401 (0.341 sec)\n"
     ]
    },
    {
     "name": "stdout",
     "output_type": "stream",
     "text": [
      "INFO:tensorflow:global_step/sec: 280.112\n"
     ]
    },
    {
     "name": "stderr",
     "output_type": "stream",
     "text": [
      "INFO:tensorflow:global_step/sec: 280.112\n"
     ]
    },
    {
     "name": "stdout",
     "output_type": "stream",
     "text": [
      "INFO:tensorflow:loss = 1.81227e+07, step = 4501 (0.357 sec)\n"
     ]
    },
    {
     "name": "stderr",
     "output_type": "stream",
     "text": [
      "INFO:tensorflow:loss = 1.81227e+07, step = 4501 (0.357 sec)\n"
     ]
    },
    {
     "name": "stdout",
     "output_type": "stream",
     "text": [
      "INFO:tensorflow:global_step/sec: 296.736\n"
     ]
    },
    {
     "name": "stderr",
     "output_type": "stream",
     "text": [
      "INFO:tensorflow:global_step/sec: 296.736\n"
     ]
    },
    {
     "name": "stdout",
     "output_type": "stream",
     "text": [
      "INFO:tensorflow:loss = 2.67306e+07, step = 4601 (0.337 sec)\n"
     ]
    },
    {
     "name": "stderr",
     "output_type": "stream",
     "text": [
      "INFO:tensorflow:loss = 2.67306e+07, step = 4601 (0.337 sec)\n"
     ]
    },
    {
     "name": "stdout",
     "output_type": "stream",
     "text": [
      "INFO:tensorflow:global_step/sec: 294.985\n"
     ]
    },
    {
     "name": "stderr",
     "output_type": "stream",
     "text": [
      "INFO:tensorflow:global_step/sec: 294.985\n"
     ]
    },
    {
     "name": "stdout",
     "output_type": "stream",
     "text": [
      "INFO:tensorflow:loss = 1.90562e+07, step = 4701 (0.339 sec)\n"
     ]
    },
    {
     "name": "stderr",
     "output_type": "stream",
     "text": [
      "INFO:tensorflow:loss = 1.90562e+07, step = 4701 (0.339 sec)\n"
     ]
    },
    {
     "name": "stdout",
     "output_type": "stream",
     "text": [
      "INFO:tensorflow:global_step/sec: 295.858\n"
     ]
    },
    {
     "name": "stderr",
     "output_type": "stream",
     "text": [
      "INFO:tensorflow:global_step/sec: 295.858\n"
     ]
    },
    {
     "name": "stdout",
     "output_type": "stream",
     "text": [
      "INFO:tensorflow:loss = 1.49285e+07, step = 4801 (0.339 sec)\n"
     ]
    },
    {
     "name": "stderr",
     "output_type": "stream",
     "text": [
      "INFO:tensorflow:loss = 1.49285e+07, step = 4801 (0.339 sec)\n"
     ]
    },
    {
     "name": "stdout",
     "output_type": "stream",
     "text": [
      "INFO:tensorflow:global_step/sec: 294.985\n"
     ]
    },
    {
     "name": "stderr",
     "output_type": "stream",
     "text": [
      "INFO:tensorflow:global_step/sec: 294.985\n"
     ]
    },
    {
     "name": "stdout",
     "output_type": "stream",
     "text": [
      "INFO:tensorflow:loss = 2.32713e+07, step = 4901 (0.338 sec)\n"
     ]
    },
    {
     "name": "stderr",
     "output_type": "stream",
     "text": [
      "INFO:tensorflow:loss = 2.32713e+07, step = 4901 (0.338 sec)\n"
     ]
    },
    {
     "name": "stdout",
     "output_type": "stream",
     "text": [
      "INFO:tensorflow:global_step/sec: 295.858\n"
     ]
    },
    {
     "name": "stderr",
     "output_type": "stream",
     "text": [
      "INFO:tensorflow:global_step/sec: 295.858\n"
     ]
    },
    {
     "name": "stdout",
     "output_type": "stream",
     "text": [
      "INFO:tensorflow:loss = 2.52635e+07, step = 5001 (0.338 sec)\n"
     ]
    },
    {
     "name": "stderr",
     "output_type": "stream",
     "text": [
      "INFO:tensorflow:loss = 2.52635e+07, step = 5001 (0.338 sec)\n"
     ]
    },
    {
     "name": "stdout",
     "output_type": "stream",
     "text": [
      "INFO:tensorflow:global_step/sec: 259.74\n"
     ]
    },
    {
     "name": "stderr",
     "output_type": "stream",
     "text": [
      "INFO:tensorflow:global_step/sec: 259.74\n"
     ]
    },
    {
     "name": "stdout",
     "output_type": "stream",
     "text": [
      "INFO:tensorflow:loss = 2.4492e+07, step = 5101 (0.385 sec)\n"
     ]
    },
    {
     "name": "stderr",
     "output_type": "stream",
     "text": [
      "INFO:tensorflow:loss = 2.4492e+07, step = 5101 (0.385 sec)\n"
     ]
    },
    {
     "name": "stdout",
     "output_type": "stream",
     "text": [
      "INFO:tensorflow:global_step/sec: 293.255\n"
     ]
    },
    {
     "name": "stderr",
     "output_type": "stream",
     "text": [
      "INFO:tensorflow:global_step/sec: 293.255\n"
     ]
    },
    {
     "name": "stdout",
     "output_type": "stream",
     "text": [
      "INFO:tensorflow:loss = 2.72911e+07, step = 5201 (0.341 sec)\n"
     ]
    },
    {
     "name": "stderr",
     "output_type": "stream",
     "text": [
      "INFO:tensorflow:loss = 2.72911e+07, step = 5201 (0.341 sec)\n"
     ]
    },
    {
     "name": "stdout",
     "output_type": "stream",
     "text": [
      "INFO:tensorflow:global_step/sec: 296.736\n"
     ]
    },
    {
     "name": "stderr",
     "output_type": "stream",
     "text": [
      "INFO:tensorflow:global_step/sec: 296.736\n"
     ]
    },
    {
     "name": "stdout",
     "output_type": "stream",
     "text": [
      "INFO:tensorflow:loss = 2.23346e+07, step = 5301 (0.337 sec)\n"
     ]
    },
    {
     "name": "stderr",
     "output_type": "stream",
     "text": [
      "INFO:tensorflow:loss = 2.23346e+07, step = 5301 (0.337 sec)\n"
     ]
    },
    {
     "name": "stdout",
     "output_type": "stream",
     "text": [
      "INFO:tensorflow:global_step/sec: 293.255\n"
     ]
    },
    {
     "name": "stderr",
     "output_type": "stream",
     "text": [
      "INFO:tensorflow:global_step/sec: 293.255\n"
     ]
    },
    {
     "name": "stdout",
     "output_type": "stream",
     "text": [
      "INFO:tensorflow:loss = 2.02805e+07, step = 5401 (0.341 sec)\n"
     ]
    },
    {
     "name": "stderr",
     "output_type": "stream",
     "text": [
      "INFO:tensorflow:loss = 2.02805e+07, step = 5401 (0.341 sec)\n"
     ]
    },
    {
     "name": "stdout",
     "output_type": "stream",
     "text": [
      "INFO:tensorflow:global_step/sec: 281.69\n"
     ]
    },
    {
     "name": "stderr",
     "output_type": "stream",
     "text": [
      "INFO:tensorflow:global_step/sec: 281.69\n"
     ]
    },
    {
     "name": "stdout",
     "output_type": "stream",
     "text": [
      "INFO:tensorflow:loss = 1.97904e+07, step = 5501 (0.355 sec)\n"
     ]
    },
    {
     "name": "stderr",
     "output_type": "stream",
     "text": [
      "INFO:tensorflow:loss = 1.97904e+07, step = 5501 (0.355 sec)\n"
     ]
    },
    {
     "name": "stdout",
     "output_type": "stream",
     "text": [
      "INFO:tensorflow:global_step/sec: 295.858\n"
     ]
    },
    {
     "name": "stderr",
     "output_type": "stream",
     "text": [
      "INFO:tensorflow:global_step/sec: 295.858\n"
     ]
    },
    {
     "name": "stdout",
     "output_type": "stream",
     "text": [
      "INFO:tensorflow:loss = 2.01758e+07, step = 5601 (0.338 sec)\n"
     ]
    },
    {
     "name": "stderr",
     "output_type": "stream",
     "text": [
      "INFO:tensorflow:loss = 2.01758e+07, step = 5601 (0.338 sec)\n"
     ]
    },
    {
     "name": "stdout",
     "output_type": "stream",
     "text": [
      "INFO:tensorflow:global_step/sec: 295.858\n"
     ]
    },
    {
     "name": "stderr",
     "output_type": "stream",
     "text": [
      "INFO:tensorflow:global_step/sec: 295.858\n"
     ]
    },
    {
     "name": "stdout",
     "output_type": "stream",
     "text": [
      "INFO:tensorflow:loss = 2.60401e+07, step = 5701 (0.338 sec)\n"
     ]
    },
    {
     "name": "stderr",
     "output_type": "stream",
     "text": [
      "INFO:tensorflow:loss = 2.60401e+07, step = 5701 (0.338 sec)\n"
     ]
    },
    {
     "name": "stdout",
     "output_type": "stream",
     "text": [
      "INFO:tensorflow:global_step/sec: 289.855\n"
     ]
    },
    {
     "name": "stderr",
     "output_type": "stream",
     "text": [
      "INFO:tensorflow:global_step/sec: 289.855\n"
     ]
    },
    {
     "name": "stdout",
     "output_type": "stream",
     "text": [
      "INFO:tensorflow:loss = 2.96676e+07, step = 5801 (0.345 sec)\n"
     ]
    },
    {
     "name": "stderr",
     "output_type": "stream",
     "text": [
      "INFO:tensorflow:loss = 2.96676e+07, step = 5801 (0.345 sec)\n"
     ]
    },
    {
     "name": "stdout",
     "output_type": "stream",
     "text": [
      "INFO:tensorflow:global_step/sec: 286.533\n"
     ]
    },
    {
     "name": "stderr",
     "output_type": "stream",
     "text": [
      "INFO:tensorflow:global_step/sec: 286.533\n"
     ]
    },
    {
     "name": "stdout",
     "output_type": "stream",
     "text": [
      "INFO:tensorflow:loss = 2.13185e+07, step = 5901 (0.349 sec)\n"
     ]
    },
    {
     "name": "stderr",
     "output_type": "stream",
     "text": [
      "INFO:tensorflow:loss = 2.13185e+07, step = 5901 (0.349 sec)\n"
     ]
    },
    {
     "name": "stdout",
     "output_type": "stream",
     "text": [
      "INFO:tensorflow:global_step/sec: 278.552\n"
     ]
    },
    {
     "name": "stderr",
     "output_type": "stream",
     "text": [
      "INFO:tensorflow:global_step/sec: 278.552\n"
     ]
    },
    {
     "name": "stdout",
     "output_type": "stream",
     "text": [
      "INFO:tensorflow:loss = 3.14846e+07, step = 6001 (0.359 sec)\n"
     ]
    },
    {
     "name": "stderr",
     "output_type": "stream",
     "text": [
      "INFO:tensorflow:loss = 3.14846e+07, step = 6001 (0.359 sec)\n"
     ]
    },
    {
     "name": "stdout",
     "output_type": "stream",
     "text": [
      "INFO:tensorflow:global_step/sec: 268.096\n"
     ]
    },
    {
     "name": "stderr",
     "output_type": "stream",
     "text": [
      "INFO:tensorflow:global_step/sec: 268.096\n"
     ]
    },
    {
     "name": "stdout",
     "output_type": "stream",
     "text": [
      "INFO:tensorflow:loss = 2.52093e+07, step = 6101 (0.374 sec)\n"
     ]
    },
    {
     "name": "stderr",
     "output_type": "stream",
     "text": [
      "INFO:tensorflow:loss = 2.52093e+07, step = 6101 (0.374 sec)\n"
     ]
    },
    {
     "name": "stdout",
     "output_type": "stream",
     "text": [
      "INFO:tensorflow:global_step/sec: 257.069\n"
     ]
    },
    {
     "name": "stderr",
     "output_type": "stream",
     "text": [
      "INFO:tensorflow:global_step/sec: 257.069\n"
     ]
    },
    {
     "name": "stdout",
     "output_type": "stream",
     "text": [
      "INFO:tensorflow:loss = 1.68497e+07, step = 6201 (0.389 sec)\n"
     ]
    },
    {
     "name": "stderr",
     "output_type": "stream",
     "text": [
      "INFO:tensorflow:loss = 1.68497e+07, step = 6201 (0.389 sec)\n"
     ]
    },
    {
     "name": "stdout",
     "output_type": "stream",
     "text": [
      "INFO:tensorflow:global_step/sec: 294.985\n"
     ]
    },
    {
     "name": "stderr",
     "output_type": "stream",
     "text": [
      "INFO:tensorflow:global_step/sec: 294.985\n"
     ]
    },
    {
     "name": "stdout",
     "output_type": "stream",
     "text": [
      "INFO:tensorflow:loss = 2.53125e+07, step = 6301 (0.338 sec)\n"
     ]
    },
    {
     "name": "stderr",
     "output_type": "stream",
     "text": [
      "INFO:tensorflow:loss = 2.53125e+07, step = 6301 (0.338 sec)\n"
     ]
    },
    {
     "name": "stdout",
     "output_type": "stream",
     "text": [
      "INFO:tensorflow:global_step/sec: 274.725\n"
     ]
    },
    {
     "name": "stderr",
     "output_type": "stream",
     "text": [
      "INFO:tensorflow:global_step/sec: 274.725\n"
     ]
    },
    {
     "name": "stdout",
     "output_type": "stream",
     "text": [
      "INFO:tensorflow:loss = 2.24666e+07, step = 6401 (0.364 sec)\n"
     ]
    },
    {
     "name": "stderr",
     "output_type": "stream",
     "text": [
      "INFO:tensorflow:loss = 2.24666e+07, step = 6401 (0.364 sec)\n"
     ]
    },
    {
     "name": "stdout",
     "output_type": "stream",
     "text": [
      "INFO:tensorflow:global_step/sec: 292.398\n"
     ]
    },
    {
     "name": "stderr",
     "output_type": "stream",
     "text": [
      "INFO:tensorflow:global_step/sec: 292.398\n"
     ]
    },
    {
     "name": "stdout",
     "output_type": "stream",
     "text": [
      "INFO:tensorflow:loss = 3.34902e+07, step = 6501 (0.342 sec)\n"
     ]
    },
    {
     "name": "stderr",
     "output_type": "stream",
     "text": [
      "INFO:tensorflow:loss = 3.34902e+07, step = 6501 (0.342 sec)\n"
     ]
    },
    {
     "name": "stdout",
     "output_type": "stream",
     "text": [
      "INFO:tensorflow:global_step/sec: 288.184\n"
     ]
    },
    {
     "name": "stderr",
     "output_type": "stream",
     "text": [
      "INFO:tensorflow:global_step/sec: 288.184\n"
     ]
    },
    {
     "name": "stdout",
     "output_type": "stream",
     "text": [
      "INFO:tensorflow:loss = 2.1155e+07, step = 6601 (0.347 sec)\n"
     ]
    },
    {
     "name": "stderr",
     "output_type": "stream",
     "text": [
      "INFO:tensorflow:loss = 2.1155e+07, step = 6601 (0.347 sec)\n"
     ]
    },
    {
     "name": "stdout",
     "output_type": "stream",
     "text": [
      "INFO:tensorflow:global_step/sec: 295.858\n"
     ]
    },
    {
     "name": "stderr",
     "output_type": "stream",
     "text": [
      "INFO:tensorflow:global_step/sec: 295.858\n"
     ]
    },
    {
     "name": "stdout",
     "output_type": "stream",
     "text": [
      "INFO:tensorflow:loss = 4.07133e+07, step = 6701 (0.338 sec)\n"
     ]
    },
    {
     "name": "stderr",
     "output_type": "stream",
     "text": [
      "INFO:tensorflow:loss = 4.07133e+07, step = 6701 (0.338 sec)\n"
     ]
    },
    {
     "name": "stdout",
     "output_type": "stream",
     "text": [
      "INFO:tensorflow:global_step/sec: 293.255\n"
     ]
    },
    {
     "name": "stderr",
     "output_type": "stream",
     "text": [
      "INFO:tensorflow:global_step/sec: 293.255\n"
     ]
    },
    {
     "name": "stdout",
     "output_type": "stream",
     "text": [
      "INFO:tensorflow:loss = 1.72876e+07, step = 6801 (0.341 sec)\n"
     ]
    },
    {
     "name": "stderr",
     "output_type": "stream",
     "text": [
      "INFO:tensorflow:loss = 1.72876e+07, step = 6801 (0.341 sec)\n"
     ]
    },
    {
     "name": "stdout",
     "output_type": "stream",
     "text": [
      "INFO:tensorflow:global_step/sec: 296.736\n"
     ]
    },
    {
     "name": "stderr",
     "output_type": "stream",
     "text": [
      "INFO:tensorflow:global_step/sec: 296.736\n"
     ]
    },
    {
     "name": "stdout",
     "output_type": "stream",
     "text": [
      "INFO:tensorflow:loss = 2.66806e+07, step = 6901 (0.336 sec)\n"
     ]
    },
    {
     "name": "stderr",
     "output_type": "stream",
     "text": [
      "INFO:tensorflow:loss = 2.66806e+07, step = 6901 (0.336 sec)\n"
     ]
    },
    {
     "name": "stdout",
     "output_type": "stream",
     "text": [
      "INFO:tensorflow:global_step/sec: 296.736\n"
     ]
    },
    {
     "name": "stderr",
     "output_type": "stream",
     "text": [
      "INFO:tensorflow:global_step/sec: 296.736\n"
     ]
    },
    {
     "name": "stdout",
     "output_type": "stream",
     "text": [
      "INFO:tensorflow:loss = 1.79915e+07, step = 7001 (0.338 sec)\n"
     ]
    },
    {
     "name": "stderr",
     "output_type": "stream",
     "text": [
      "INFO:tensorflow:loss = 1.79915e+07, step = 7001 (0.338 sec)\n"
     ]
    },
    {
     "name": "stdout",
     "output_type": "stream",
     "text": [
      "INFO:tensorflow:global_step/sec: 294.985\n"
     ]
    },
    {
     "name": "stderr",
     "output_type": "stream",
     "text": [
      "INFO:tensorflow:global_step/sec: 294.985\n"
     ]
    },
    {
     "name": "stdout",
     "output_type": "stream",
     "text": [
      "INFO:tensorflow:loss = 1.85466e+07, step = 7101 (0.339 sec)\n"
     ]
    },
    {
     "name": "stderr",
     "output_type": "stream",
     "text": [
      "INFO:tensorflow:loss = 1.85466e+07, step = 7101 (0.339 sec)\n"
     ]
    },
    {
     "name": "stdout",
     "output_type": "stream",
     "text": [
      "INFO:tensorflow:global_step/sec: 297.619\n"
     ]
    },
    {
     "name": "stderr",
     "output_type": "stream",
     "text": [
      "INFO:tensorflow:global_step/sec: 297.619\n"
     ]
    },
    {
     "name": "stdout",
     "output_type": "stream",
     "text": [
      "INFO:tensorflow:loss = 1.94419e+07, step = 7201 (0.336 sec)\n"
     ]
    },
    {
     "name": "stderr",
     "output_type": "stream",
     "text": [
      "INFO:tensorflow:loss = 1.94419e+07, step = 7201 (0.336 sec)\n"
     ]
    },
    {
     "name": "stdout",
     "output_type": "stream",
     "text": [
      "INFO:tensorflow:global_step/sec: 289.017\n"
     ]
    },
    {
     "name": "stderr",
     "output_type": "stream",
     "text": [
      "INFO:tensorflow:global_step/sec: 289.017\n"
     ]
    },
    {
     "name": "stdout",
     "output_type": "stream",
     "text": [
      "INFO:tensorflow:loss = 1.92176e+07, step = 7301 (0.346 sec)\n"
     ]
    },
    {
     "name": "stderr",
     "output_type": "stream",
     "text": [
      "INFO:tensorflow:loss = 1.92176e+07, step = 7301 (0.346 sec)\n"
     ]
    },
    {
     "name": "stdout",
     "output_type": "stream",
     "text": [
      "INFO:tensorflow:global_step/sec: 280.112\n"
     ]
    },
    {
     "name": "stderr",
     "output_type": "stream",
     "text": [
      "INFO:tensorflow:global_step/sec: 280.112\n"
     ]
    },
    {
     "name": "stdout",
     "output_type": "stream",
     "text": [
      "INFO:tensorflow:loss = 1.65075e+07, step = 7401 (0.357 sec)\n"
     ]
    },
    {
     "name": "stderr",
     "output_type": "stream",
     "text": [
      "INFO:tensorflow:loss = 1.65075e+07, step = 7401 (0.357 sec)\n"
     ]
    },
    {
     "name": "stdout",
     "output_type": "stream",
     "text": [
      "INFO:tensorflow:global_step/sec: 295.858\n"
     ]
    },
    {
     "name": "stderr",
     "output_type": "stream",
     "text": [
      "INFO:tensorflow:global_step/sec: 295.858\n"
     ]
    },
    {
     "name": "stdout",
     "output_type": "stream",
     "text": [
      "INFO:tensorflow:loss = 2.79456e+07, step = 7501 (0.338 sec)\n"
     ]
    },
    {
     "name": "stderr",
     "output_type": "stream",
     "text": [
      "INFO:tensorflow:loss = 2.79456e+07, step = 7501 (0.338 sec)\n"
     ]
    },
    {
     "name": "stdout",
     "output_type": "stream",
     "text": [
      "INFO:tensorflow:global_step/sec: 294.985\n"
     ]
    },
    {
     "name": "stderr",
     "output_type": "stream",
     "text": [
      "INFO:tensorflow:global_step/sec: 294.985\n"
     ]
    },
    {
     "name": "stdout",
     "output_type": "stream",
     "text": [
      "INFO:tensorflow:loss = 2.03318e+07, step = 7601 (0.340 sec)\n"
     ]
    },
    {
     "name": "stderr",
     "output_type": "stream",
     "text": [
      "INFO:tensorflow:loss = 2.03318e+07, step = 7601 (0.340 sec)\n"
     ]
    },
    {
     "name": "stdout",
     "output_type": "stream",
     "text": [
      "INFO:tensorflow:global_step/sec: 294.985\n"
     ]
    },
    {
     "name": "stderr",
     "output_type": "stream",
     "text": [
      "INFO:tensorflow:global_step/sec: 294.985\n"
     ]
    },
    {
     "name": "stdout",
     "output_type": "stream",
     "text": [
      "INFO:tensorflow:loss = 2.29518e+07, step = 7701 (0.339 sec)\n"
     ]
    },
    {
     "name": "stderr",
     "output_type": "stream",
     "text": [
      "INFO:tensorflow:loss = 2.29518e+07, step = 7701 (0.339 sec)\n"
     ]
    },
    {
     "name": "stdout",
     "output_type": "stream",
     "text": [
      "INFO:tensorflow:global_step/sec: 294.985\n"
     ]
    },
    {
     "name": "stderr",
     "output_type": "stream",
     "text": [
      "INFO:tensorflow:global_step/sec: 294.985\n"
     ]
    },
    {
     "name": "stdout",
     "output_type": "stream",
     "text": [
      "INFO:tensorflow:loss = 1.63151e+07, step = 7801 (0.339 sec)\n"
     ]
    },
    {
     "name": "stderr",
     "output_type": "stream",
     "text": [
      "INFO:tensorflow:loss = 1.63151e+07, step = 7801 (0.339 sec)\n"
     ]
    },
    {
     "name": "stdout",
     "output_type": "stream",
     "text": [
      "INFO:tensorflow:global_step/sec: 295.858\n"
     ]
    },
    {
     "name": "stderr",
     "output_type": "stream",
     "text": [
      "INFO:tensorflow:global_step/sec: 295.858\n"
     ]
    },
    {
     "name": "stdout",
     "output_type": "stream",
     "text": [
      "INFO:tensorflow:loss = 2.04544e+07, step = 7901 (0.337 sec)\n"
     ]
    },
    {
     "name": "stderr",
     "output_type": "stream",
     "text": [
      "INFO:tensorflow:loss = 2.04544e+07, step = 7901 (0.337 sec)\n"
     ]
    },
    {
     "name": "stdout",
     "output_type": "stream",
     "text": [
      "INFO:tensorflow:global_step/sec: 284.9\n"
     ]
    },
    {
     "name": "stderr",
     "output_type": "stream",
     "text": [
      "INFO:tensorflow:global_step/sec: 284.9\n"
     ]
    },
    {
     "name": "stdout",
     "output_type": "stream",
     "text": [
      "INFO:tensorflow:loss = 2.67277e+07, step = 8001 (0.352 sec)\n"
     ]
    },
    {
     "name": "stderr",
     "output_type": "stream",
     "text": [
      "INFO:tensorflow:loss = 2.67277e+07, step = 8001 (0.352 sec)\n"
     ]
    },
    {
     "name": "stdout",
     "output_type": "stream",
     "text": [
      "INFO:tensorflow:global_step/sec: 263.852\n"
     ]
    },
    {
     "name": "stderr",
     "output_type": "stream",
     "text": [
      "INFO:tensorflow:global_step/sec: 263.852\n"
     ]
    },
    {
     "name": "stdout",
     "output_type": "stream",
     "text": [
      "INFO:tensorflow:loss = 3.00854e+07, step = 8101 (0.378 sec)\n"
     ]
    },
    {
     "name": "stderr",
     "output_type": "stream",
     "text": [
      "INFO:tensorflow:loss = 3.00854e+07, step = 8101 (0.378 sec)\n"
     ]
    },
    {
     "name": "stdout",
     "output_type": "stream",
     "text": [
      "INFO:tensorflow:global_step/sec: 262.467\n"
     ]
    },
    {
     "name": "stderr",
     "output_type": "stream",
     "text": [
      "INFO:tensorflow:global_step/sec: 262.467\n"
     ]
    },
    {
     "name": "stdout",
     "output_type": "stream",
     "text": [
      "INFO:tensorflow:loss = 2.41491e+07, step = 8201 (0.381 sec)\n"
     ]
    },
    {
     "name": "stderr",
     "output_type": "stream",
     "text": [
      "INFO:tensorflow:loss = 2.41491e+07, step = 8201 (0.381 sec)\n"
     ]
    },
    {
     "name": "stdout",
     "output_type": "stream",
     "text": [
      "INFO:tensorflow:global_step/sec: 292.398\n"
     ]
    },
    {
     "name": "stderr",
     "output_type": "stream",
     "text": [
      "INFO:tensorflow:global_step/sec: 292.398\n"
     ]
    },
    {
     "name": "stdout",
     "output_type": "stream",
     "text": [
      "INFO:tensorflow:loss = 3.18108e+07, step = 8301 (0.343 sec)\n"
     ]
    },
    {
     "name": "stderr",
     "output_type": "stream",
     "text": [
      "INFO:tensorflow:loss = 3.18108e+07, step = 8301 (0.343 sec)\n"
     ]
    },
    {
     "name": "stdout",
     "output_type": "stream",
     "text": [
      "INFO:tensorflow:global_step/sec: 296.736\n"
     ]
    },
    {
     "name": "stderr",
     "output_type": "stream",
     "text": [
      "INFO:tensorflow:global_step/sec: 296.736\n"
     ]
    },
    {
     "name": "stdout",
     "output_type": "stream",
     "text": [
      "INFO:tensorflow:loss = 2.14655e+07, step = 8401 (0.336 sec)\n"
     ]
    },
    {
     "name": "stderr",
     "output_type": "stream",
     "text": [
      "INFO:tensorflow:loss = 2.14655e+07, step = 8401 (0.336 sec)\n"
     ]
    },
    {
     "name": "stdout",
     "output_type": "stream",
     "text": [
      "INFO:tensorflow:global_step/sec: 281.69\n"
     ]
    },
    {
     "name": "stderr",
     "output_type": "stream",
     "text": [
      "INFO:tensorflow:global_step/sec: 281.69\n"
     ]
    },
    {
     "name": "stdout",
     "output_type": "stream",
     "text": [
      "INFO:tensorflow:loss = 2.17231e+07, step = 8501 (0.357 sec)\n"
     ]
    },
    {
     "name": "stderr",
     "output_type": "stream",
     "text": [
      "INFO:tensorflow:loss = 2.17231e+07, step = 8501 (0.357 sec)\n"
     ]
    },
    {
     "name": "stdout",
     "output_type": "stream",
     "text": [
      "INFO:tensorflow:global_step/sec: 271.739\n"
     ]
    },
    {
     "name": "stderr",
     "output_type": "stream",
     "text": [
      "INFO:tensorflow:global_step/sec: 271.739\n"
     ]
    },
    {
     "name": "stdout",
     "output_type": "stream",
     "text": [
      "INFO:tensorflow:loss = 1.89976e+07, step = 8601 (0.367 sec)\n"
     ]
    },
    {
     "name": "stderr",
     "output_type": "stream",
     "text": [
      "INFO:tensorflow:loss = 1.89976e+07, step = 8601 (0.367 sec)\n"
     ]
    },
    {
     "name": "stdout",
     "output_type": "stream",
     "text": [
      "INFO:tensorflow:global_step/sec: 266.666\n"
     ]
    },
    {
     "name": "stderr",
     "output_type": "stream",
     "text": [
      "INFO:tensorflow:global_step/sec: 266.666\n"
     ]
    },
    {
     "name": "stdout",
     "output_type": "stream",
     "text": [
      "INFO:tensorflow:loss = 2.39452e+07, step = 8701 (0.374 sec)\n"
     ]
    },
    {
     "name": "stderr",
     "output_type": "stream",
     "text": [
      "INFO:tensorflow:loss = 2.39452e+07, step = 8701 (0.374 sec)\n"
     ]
    },
    {
     "name": "stdout",
     "output_type": "stream",
     "text": [
      "INFO:tensorflow:global_step/sec: 277.008\n"
     ]
    },
    {
     "name": "stderr",
     "output_type": "stream",
     "text": [
      "INFO:tensorflow:global_step/sec: 277.008\n"
     ]
    },
    {
     "name": "stdout",
     "output_type": "stream",
     "text": [
      "INFO:tensorflow:loss = 2.08593e+07, step = 8801 (0.362 sec)\n"
     ]
    },
    {
     "name": "stderr",
     "output_type": "stream",
     "text": [
      "INFO:tensorflow:loss = 2.08593e+07, step = 8801 (0.362 sec)\n"
     ]
    },
    {
     "name": "stdout",
     "output_type": "stream",
     "text": [
      "INFO:tensorflow:global_step/sec: 294.985\n"
     ]
    },
    {
     "name": "stderr",
     "output_type": "stream",
     "text": [
      "INFO:tensorflow:global_step/sec: 294.985\n"
     ]
    },
    {
     "name": "stdout",
     "output_type": "stream",
     "text": [
      "INFO:tensorflow:loss = 1.91892e+07, step = 8901 (0.338 sec)\n"
     ]
    },
    {
     "name": "stderr",
     "output_type": "stream",
     "text": [
      "INFO:tensorflow:loss = 1.91892e+07, step = 8901 (0.338 sec)\n"
     ]
    },
    {
     "name": "stdout",
     "output_type": "stream",
     "text": [
      "INFO:tensorflow:global_step/sec: 290.698\n"
     ]
    },
    {
     "name": "stderr",
     "output_type": "stream",
     "text": [
      "INFO:tensorflow:global_step/sec: 290.698\n"
     ]
    },
    {
     "name": "stdout",
     "output_type": "stream",
     "text": [
      "INFO:tensorflow:loss = 3.09791e+07, step = 9001 (0.345 sec)\n"
     ]
    },
    {
     "name": "stderr",
     "output_type": "stream",
     "text": [
      "INFO:tensorflow:loss = 3.09791e+07, step = 9001 (0.345 sec)\n"
     ]
    },
    {
     "name": "stdout",
     "output_type": "stream",
     "text": [
      "INFO:tensorflow:global_step/sec: 285.714\n"
     ]
    },
    {
     "name": "stderr",
     "output_type": "stream",
     "text": [
      "INFO:tensorflow:global_step/sec: 285.714\n"
     ]
    },
    {
     "name": "stdout",
     "output_type": "stream",
     "text": [
      "INFO:tensorflow:loss = 2.79725e+07, step = 9101 (0.349 sec)\n"
     ]
    },
    {
     "name": "stderr",
     "output_type": "stream",
     "text": [
      "INFO:tensorflow:loss = 2.79725e+07, step = 9101 (0.349 sec)\n"
     ]
    },
    {
     "name": "stdout",
     "output_type": "stream",
     "text": [
      "INFO:tensorflow:global_step/sec: 296.736\n"
     ]
    },
    {
     "name": "stderr",
     "output_type": "stream",
     "text": [
      "INFO:tensorflow:global_step/sec: 296.736\n"
     ]
    },
    {
     "name": "stdout",
     "output_type": "stream",
     "text": [
      "INFO:tensorflow:loss = 2.53552e+07, step = 9201 (0.337 sec)\n"
     ]
    },
    {
     "name": "stderr",
     "output_type": "stream",
     "text": [
      "INFO:tensorflow:loss = 2.53552e+07, step = 9201 (0.337 sec)\n"
     ]
    },
    {
     "name": "stdout",
     "output_type": "stream",
     "text": [
      "INFO:tensorflow:global_step/sec: 282.486\n"
     ]
    },
    {
     "name": "stderr",
     "output_type": "stream",
     "text": [
      "INFO:tensorflow:global_step/sec: 282.486\n"
     ]
    },
    {
     "name": "stdout",
     "output_type": "stream",
     "text": [
      "INFO:tensorflow:loss = 1.95162e+07, step = 9301 (0.355 sec)\n"
     ]
    },
    {
     "name": "stderr",
     "output_type": "stream",
     "text": [
      "INFO:tensorflow:loss = 1.95162e+07, step = 9301 (0.355 sec)\n"
     ]
    },
    {
     "name": "stdout",
     "output_type": "stream",
     "text": [
      "INFO:tensorflow:global_step/sec: 211.416\n"
     ]
    },
    {
     "name": "stderr",
     "output_type": "stream",
     "text": [
      "INFO:tensorflow:global_step/sec: 211.416\n"
     ]
    },
    {
     "name": "stdout",
     "output_type": "stream",
     "text": [
      "INFO:tensorflow:loss = 2.23533e+07, step = 9401 (0.473 sec)\n"
     ]
    },
    {
     "name": "stderr",
     "output_type": "stream",
     "text": [
      "INFO:tensorflow:loss = 2.23533e+07, step = 9401 (0.473 sec)\n"
     ]
    },
    {
     "name": "stdout",
     "output_type": "stream",
     "text": [
      "INFO:tensorflow:global_step/sec: 271.003\n"
     ]
    },
    {
     "name": "stderr",
     "output_type": "stream",
     "text": [
      "INFO:tensorflow:global_step/sec: 271.003\n"
     ]
    },
    {
     "name": "stdout",
     "output_type": "stream",
     "text": [
      "INFO:tensorflow:loss = 2.18431e+07, step = 9501 (0.368 sec)\n"
     ]
    },
    {
     "name": "stderr",
     "output_type": "stream",
     "text": [
      "INFO:tensorflow:loss = 2.18431e+07, step = 9501 (0.368 sec)\n"
     ]
    },
    {
     "name": "stdout",
     "output_type": "stream",
     "text": [
      "INFO:tensorflow:global_step/sec: 276.243\n"
     ]
    },
    {
     "name": "stderr",
     "output_type": "stream",
     "text": [
      "INFO:tensorflow:global_step/sec: 276.243\n"
     ]
    },
    {
     "name": "stdout",
     "output_type": "stream",
     "text": [
      "INFO:tensorflow:loss = 2.09833e+07, step = 9601 (0.363 sec)\n"
     ]
    },
    {
     "name": "stderr",
     "output_type": "stream",
     "text": [
      "INFO:tensorflow:loss = 2.09833e+07, step = 9601 (0.363 sec)\n"
     ]
    },
    {
     "name": "stdout",
     "output_type": "stream",
     "text": [
      "INFO:tensorflow:global_step/sec: 273.224\n"
     ]
    },
    {
     "name": "stderr",
     "output_type": "stream",
     "text": [
      "INFO:tensorflow:global_step/sec: 273.224\n"
     ]
    },
    {
     "name": "stdout",
     "output_type": "stream",
     "text": [
      "INFO:tensorflow:loss = 1.56252e+07, step = 9701 (0.366 sec)\n"
     ]
    },
    {
     "name": "stderr",
     "output_type": "stream",
     "text": [
      "INFO:tensorflow:loss = 1.56252e+07, step = 9701 (0.366 sec)\n"
     ]
    },
    {
     "name": "stdout",
     "output_type": "stream",
     "text": [
      "INFO:tensorflow:global_step/sec: 280.112\n"
     ]
    },
    {
     "name": "stderr",
     "output_type": "stream",
     "text": [
      "INFO:tensorflow:global_step/sec: 280.112\n"
     ]
    },
    {
     "name": "stdout",
     "output_type": "stream",
     "text": [
      "INFO:tensorflow:loss = 3.22723e+07, step = 9801 (0.356 sec)\n"
     ]
    },
    {
     "name": "stderr",
     "output_type": "stream",
     "text": [
      "INFO:tensorflow:loss = 3.22723e+07, step = 9801 (0.356 sec)\n"
     ]
    },
    {
     "name": "stdout",
     "output_type": "stream",
     "text": [
      "INFO:tensorflow:global_step/sec: 274.725\n"
     ]
    },
    {
     "name": "stderr",
     "output_type": "stream",
     "text": [
      "INFO:tensorflow:global_step/sec: 274.725\n"
     ]
    },
    {
     "name": "stdout",
     "output_type": "stream",
     "text": [
      "INFO:tensorflow:loss = 2.5892e+07, step = 9901 (0.364 sec)\n"
     ]
    },
    {
     "name": "stderr",
     "output_type": "stream",
     "text": [
      "INFO:tensorflow:loss = 2.5892e+07, step = 9901 (0.364 sec)\n"
     ]
    },
    {
     "name": "stdout",
     "output_type": "stream",
     "text": [
      "INFO:tensorflow:Saving checkpoints for 10000 into C:\\Temp\\tmpkq4z6wc7\\model.ckpt.\n"
     ]
    },
    {
     "name": "stderr",
     "output_type": "stream",
     "text": [
      "INFO:tensorflow:Saving checkpoints for 10000 into C:\\Temp\\tmpkq4z6wc7\\model.ckpt.\n"
     ]
    },
    {
     "name": "stdout",
     "output_type": "stream",
     "text": [
      "INFO:tensorflow:Loss for final step: 3.41403e+07.\n"
     ]
    },
    {
     "name": "stderr",
     "output_type": "stream",
     "text": [
      "INFO:tensorflow:Loss for final step: 3.41403e+07.\n"
     ]
    },
    {
     "name": "stdout",
     "output_type": "stream",
     "text": [
      "INFO:tensorflow:Restoring parameters from C:\\Temp\\tmpkq4z6wc7\\model.ckpt-10000\n"
     ]
    },
    {
     "name": "stderr",
     "output_type": "stream",
     "text": [
      "INFO:tensorflow:Restoring parameters from C:\\Temp\\tmpkq4z6wc7\\model.ckpt-10000\n"
     ]
    },
    {
     "name": "stdout",
     "output_type": "stream",
     "text": [
      "MSE (sklearn): 23869.259789\n",
      "INFO:tensorflow:Starting evaluation at 2017-11-27-15:31:02\n"
     ]
    },
    {
     "name": "stderr",
     "output_type": "stream",
     "text": [
      "INFO:tensorflow:Starting evaluation at 2017-11-27-15:31:02\n"
     ]
    },
    {
     "name": "stdout",
     "output_type": "stream",
     "text": [
      "INFO:tensorflow:Restoring parameters from C:\\Temp\\tmpkq4z6wc7\\model.ckpt-10000\n"
     ]
    },
    {
     "name": "stderr",
     "output_type": "stream",
     "text": [
      "INFO:tensorflow:Restoring parameters from C:\\Temp\\tmpkq4z6wc7\\model.ckpt-10000\n"
     ]
    },
    {
     "name": "stdout",
     "output_type": "stream",
     "text": [
      "INFO:tensorflow:Finished evaluation at 2017-11-27-15:31:03\n"
     ]
    },
    {
     "name": "stderr",
     "output_type": "stream",
     "text": [
      "INFO:tensorflow:Finished evaluation at 2017-11-27-15:31:03\n"
     ]
    },
    {
     "name": "stdout",
     "output_type": "stream",
     "text": [
      "INFO:tensorflow:Saving dict for global step 10000: average_loss = 23869.2, global_step = 10000, loss = 3.05087e+06\n"
     ]
    },
    {
     "name": "stderr",
     "output_type": "stream",
     "text": [
      "INFO:tensorflow:Saving dict for global step 10000: average_loss = 23869.2, global_step = 10000, loss = 3.05087e+06\n"
     ]
    },
    {
     "name": "stdout",
     "output_type": "stream",
     "text": [
      "MSE (tensorflow): 23869.248047\n",
      "INFO:tensorflow:Restoring parameters from C:\\Temp\\tmpkq4z6wc7\\model.ckpt-10000\n"
     ]
    },
    {
     "name": "stderr",
     "output_type": "stream",
     "text": [
      "INFO:tensorflow:Restoring parameters from C:\\Temp\\tmpkq4z6wc7\\model.ckpt-10000\n"
     ]
    },
    {
     "name": "stdout",
     "output_type": "stream",
     "text": [
      "INFO:tensorflow:Starting evaluation at 2017-11-27-15:31:05\n"
     ]
    },
    {
     "name": "stderr",
     "output_type": "stream",
     "text": [
      "INFO:tensorflow:Starting evaluation at 2017-11-27-15:31:05\n"
     ]
    },
    {
     "name": "stdout",
     "output_type": "stream",
     "text": [
      "INFO:tensorflow:Restoring parameters from C:\\Temp\\tmpkq4z6wc7\\model.ckpt-10000\n"
     ]
    },
    {
     "name": "stderr",
     "output_type": "stream",
     "text": [
      "INFO:tensorflow:Restoring parameters from C:\\Temp\\tmpkq4z6wc7\\model.ckpt-10000\n"
     ]
    },
    {
     "name": "stdout",
     "output_type": "stream",
     "text": [
      "INFO:tensorflow:Finished evaluation at 2017-11-27-15:31:06\n"
     ]
    },
    {
     "name": "stderr",
     "output_type": "stream",
     "text": [
      "INFO:tensorflow:Finished evaluation at 2017-11-27-15:31:06\n"
     ]
    },
    {
     "name": "stdout",
     "output_type": "stream",
     "text": [
      "INFO:tensorflow:Saving dict for global step 10000: average_loss = 22689.1, global_step = 10000, loss = 2.90003e+06\n"
     ]
    },
    {
     "name": "stderr",
     "output_type": "stream",
     "text": [
      "INFO:tensorflow:Saving dict for global step 10000: average_loss = 22689.1, global_step = 10000, loss = 2.90003e+06\n"
     ]
    },
    {
     "name": "stdout",
     "output_type": "stream",
     "text": [
      "MSE (tensorflow): 22689.105469\n",
      "MSE (sklearn): 22689.105691\n",
      "RMSE Val: 154.49679539960877\n",
      "RMSE test: 150.6290333584687\n"
     ]
    }
   ],
   "source": [
    "## TENSORFLOW\n",
    "\n",
    "feature_columns = [tf.feature_column.numeric_column('x', shape=train_X2.shape[1:])]\n",
    "regressor = tf.estimator.DNNRegressor(\n",
    "    feature_columns = feature_columns, hidden_units=[12,8,4])\n",
    "\n",
    "train_input_fn = tf.estimator.inputs.numpy_input_fn(x={'x': train_X2.values}, y=train_y, batch_size=1000, num_epochs=None,shuffle=True)\n",
    "regressor.train(input_fn= train_input_fn, steps=10000)\n",
    "\n",
    "\n",
    "#VALIDATION SET\n",
    "# x_transformed = scaler.transform(x_test)\n",
    "test_input_fn = tf.estimator.inputs.numpy_input_fn(\n",
    "  x={'x': val_X[collist_X2].values}, y=val_y, num_epochs=1, shuffle=False)\n",
    "predictions = regressor.predict(input_fn=test_input_fn)\n",
    "y_predicted = np.array(list(p['predictions'] for p in predictions))\n",
    "y_predicted = y_predicted.reshape(val_y.shape)\n",
    "\n",
    "# Score with sklearn.\n",
    "score_sklearn = mean_squared_error(y_predicted, val_y)\n",
    "print('MSE (sklearn): {0:f}'.format(score_sklearn))\n",
    "\n",
    "# Score with tensorflow.\n",
    "scores = regressor.evaluate(input_fn=test_input_fn)\n",
    "print('MSE (tensorflow): {0:f}'.format(scores['average_loss']))\n",
    "\n",
    "\n",
    "rmse1 = math.sqrt(mean_squared_error(val_y, y_predicted))\n",
    "\n",
    "\n",
    "#TESTING SET\n",
    "test_input_fn = tf.estimator.inputs.numpy_input_fn(\n",
    "  x={'x': test_X[collist_X2].values}, y=test_y, num_epochs=1, shuffle=False)\n",
    "predictions = regressor.predict(input_fn=test_input_fn)\n",
    "y_predicted = np.array(list(p['predictions'] for p in predictions))\n",
    "y_predicted = y_predicted.reshape(test_y.shape)\n",
    "\n",
    "# Score with sklearn.\n",
    "score_sklearn = mean_squared_error(y_predicted, test_y)\n",
    "\n",
    "\n",
    "# Score with tensorflow.\n",
    "scores = regressor.evaluate(input_fn=test_input_fn)\n",
    "\n",
    "print('MSE (tensorflow): {0:f}'.format(scores['average_loss']))\n",
    "print('MSE (sklearn): {0:f}'.format(score_sklearn))\n",
    "\n",
    "rmse2 = math.sqrt(mean_squared_error(test_y, y_predicted))\n",
    "print('RMSE Val: ' + str(rmse1))\n",
    "print('RMSE test: ' + str(rmse2))\n"
   ]
  },
  {
   "cell_type": "code",
   "execution_count": 36,
   "metadata": {},
   "outputs": [
    {
     "data": {
      "image/png": "[encoded data removed]",
      "text/plain": [
       "<matplotlib.figure.Figure at 0x23476518>"
      ]
     },
     "metadata": {},
     "output_type": "display_data"
    },
    {
     "name": "stdout",
     "output_type": "stream",
     "text": [
      "Anderson-Darling: 2696.1925915097527 Critical Value: 0.787 \n"
     ]
    },
    {
     "data": {
      "image/png": "[encoded data removed]",
      "text/plain": [
       "<matplotlib.figure.Figure at 0x22877518>"
      ]
     },
     "metadata": {},
     "output_type": "display_data"
    }
   ],
   "source": [
    "tfmodel = regressor\n",
    "testing = pd.DataFrame({'true':test_y, 'pred':y_predicted})\n",
    "\n",
    "testing['resid'] = testing['pred']-testing['true']\n",
    "testing['stdresid'] = testing['resid']/np.std(testing['resid'])\n",
    "\n",
    "plt.plot(testing['stdresid'], '.', alpha = 0.5, color='black')\n",
    "plt.axhline(y=0, color = 'green')\n",
    "plt.axhline(y=2, color = 'blue', linestyle='--')\n",
    "plt.axhline(y=-2, color = 'blue', linestyle='--')\n",
    "plt.axhline(y=3, color = 'red', linestyle='--')\n",
    "plt.axhline(y=-3, color = 'red', linestyle='--')\n",
    "\n",
    "plt.title('Standardized Residuals')\n",
    "plt.ylabel('Standard Deviations')\n",
    "plt.xlabel('Observation Number')\n",
    "plt.show()\n",
    "\n",
    "stat, cv, sig = stats.anderson(testing['stdresid'], 'norm')\n",
    "print('Anderson-Darling: {} Critical Value: {} '.format(stat, cv[2]))\n",
    "\n",
    "plt.hist(testing['stdresid'], bins=25)\n",
    "plt.show()"
   ]
  },
  {
   "cell_type": "code",
   "execution_count": 37,
   "metadata": {},
   "outputs": [
    {
     "name": "stdout",
     "output_type": "stream",
     "text": [
      "Parameter search took 76.24 seconds for 500 candidate parameter settings.\n",
      "Best Mean validation score: -25231.788 (std: 0.115)\n",
      "Parameters: {'alpha': 10.092814352446377}\n"
     ]
    }
   ],
   "source": [
    "param_test1 = {\n",
    "     'alpha': uniform(0.1, 10.0)\n",
    "}\n",
    "\n",
    "\n",
    "clf = RandomizedSearchCV(estimator = Ridge(), \n",
    "                              param_distributions = param_test1, \n",
    "                              scoring='neg_mean_squared_error',\n",
    "                              n_jobs=-1,\n",
    "                              n_iter=500)\n",
    "start = time()\n",
    "clf.fit(train_X2.values, train_y)\n",
    "\n",
    "print(\"Parameter search took %.2f seconds for %d candidate parameter settings.\"\n",
    "      % (time() - start, len(clf.cv_results_['params'])))\n",
    "\n",
    "helper.report(clf)    \n",
    "\n",
    "\n"
   ]
  },
  {
   "cell_type": "code",
   "execution_count": 38,
   "metadata": {},
   "outputs": [
    {
     "data": {
      "text/plain": [
       "Ridge(alpha=10.09, copy_X=True, fit_intercept=True, max_iter=None,\n",
       "   normalize=False, random_state=None, solver='auto', tol=0.001)"
      ]
     },
     "execution_count": 38,
     "metadata": {},
     "output_type": "execute_result"
    }
   ],
   "source": [
    "ridgemodel = Ridge(alpha = 10.09)\n",
    "ridgemodel.fit(train_X2.values, train_y)"
   ]
  },
  {
   "cell_type": "code",
   "execution_count": 39,
   "metadata": {},
   "outputs": [
    {
     "name": "stdout",
     "output_type": "stream",
     "text": [
      "\n",
      "The model is trained on the full development set.\n",
      "The scores are computed on the full evaluation set.\n",
      "\n",
      "R2 Train: 0.333809306077\n",
      "RMSE Train: 158.25111280437181\n",
      "RMSE Val: 157.64455659974615\n",
      "RMSE Test: 153.37822976346325\n"
     ]
    }
   ],
   "source": [
    "print()\n",
    "print(\"The model is trained on the full development set.\")\n",
    "print(\"The scores are computed on the full evaluation set.\")\n",
    "print()\n",
    "y_true3, y_pred3 = train_y, ridgemodel.predict(train_X2.values)\n",
    "y_true, y_pred = val_y, ridgemodel.predict(val_X[collist_X2].values)\n",
    "y_true2, y_pred2 = test_y, ridgemodel.predict(test_X[collist_X2].values)\n",
    "print('R2 Train: ' + str(r2_score(y_true3, y_pred3)))\n",
    "rmse = math.sqrt(mean_squared_error(y_true3, y_pred3))\n",
    "print('RMSE Train: ' + str(rmse))\n",
    "rmse = math.sqrt(mean_squared_error(y_true, y_pred))\n",
    "print('RMSE Val: ' + str(rmse))\n",
    "rmse = math.sqrt(mean_squared_error(y_true2, y_pred2))\n",
    "print('RMSE Test: ' + str(rmse))"
   ]
  },
  {
   "cell_type": "code",
   "execution_count": 40,
   "metadata": {},
   "outputs": [
    {
     "name": "stdout",
     "output_type": "stream",
     "text": [
      "Parameter search took 81.76 seconds for 300 candidate parameter settings.\n",
      "Best Mean validation score: -25213.032 (std: 1940.687)\n",
      "Parameters: {'alpha': 0.12359447399106541, 'l1_ratio': 0.46245871132626071, 'selection': 'random'}\n"
     ]
    }
   ],
   "source": [
    "param_test1 = {\n",
    "     'alpha': uniform(0.1, 10.0),\n",
    "     'l1_ratio':uniform(0.1, 0.9),\n",
    "     'selection':['random']\n",
    "}\n",
    "\n",
    "\n",
    "clf = RandomizedSearchCV(estimator = ElasticNet(), \n",
    "                              param_distributions = param_test1, \n",
    "                              scoring='neg_mean_squared_error',\n",
    "                              n_jobs=3,\n",
    "                              n_iter=300)\n",
    "start = time()\n",
    "clf.fit(train_X2.values, train_y)\n",
    "\n",
    "print(\"Parameter search took %.2f seconds for %d candidate parameter settings.\"\n",
    "      % (time() - start, len(clf.cv_results_['params'])))\n",
    "\n",
    "helper.report(clf)    \n"
   ]
  },
  {
   "cell_type": "code",
   "execution_count": 42,
   "metadata": {},
   "outputs": [
    {
     "data": {
      "text/plain": [
       "ElasticNet(alpha=0.1236, copy_X=True, fit_intercept=True, l1_ratio=0.4625,\n",
       "      max_iter=1000, normalize=False, positive=False, precompute=False,\n",
       "      random_state=None, selection='random', tol=0.0001, warm_start=False)"
      ]
     },
     "execution_count": 42,
     "metadata": {},
     "output_type": "execute_result"
    }
   ],
   "source": [
    "elasticmodel = ElasticNet(alpha = 0.1236, l1_ratio=0.4625, selection = 'random')\n",
    "elasticmodel.fit(train_X2.values, train_y)"
   ]
  },
  {
   "cell_type": "code",
   "execution_count": 43,
   "metadata": {},
   "outputs": [
    {
     "name": "stdout",
     "output_type": "stream",
     "text": [
      "\n",
      "The model is trained on the full development set.\n",
      "The scores are computed on the full evaluation set.\n",
      "\n",
      "R2 Train: 0.333282448383\n",
      "RMSE Train: 158.31367697638356\n",
      "RMSE Val: 157.52517419999643\n",
      "RMSE Test: 153.28482118162066\n"
     ]
    }
   ],
   "source": [
    "print()\n",
    "print(\"The model is trained on the full development set.\")\n",
    "print(\"The scores are computed on the full evaluation set.\")\n",
    "print()\n",
    "y_true3, y_pred3 = train_y, elasticmodel.predict(train_X2.values)\n",
    "y_true, y_pred = val_y, elasticmodel.predict(val_X[collist_X2].values)\n",
    "y_true2, y_pred2 = test_y, elasticmodel.predict(test_X[collist_X2].values)\n",
    "print('R2 Train: ' + str(r2_score(y_true3, y_pred3)))\n",
    "rmse = math.sqrt(mean_squared_error(y_true3, y_pred3))\n",
    "print('RMSE Train: ' + str(rmse))\n",
    "rmse = math.sqrt(mean_squared_error(y_true, y_pred))\n",
    "print('RMSE Val: ' + str(rmse))\n",
    "rmse = math.sqrt(mean_squared_error(y_true2, y_pred2))\n",
    "print('RMSE Test: ' + str(rmse))\n"
   ]
  },
  {
   "cell_type": "code",
   "execution_count": null,
   "metadata": {},
   "outputs": [],
   "source": [
    "param_test1 = {\n",
    "     'alpha':uniform(0.0,1.0),\n",
    "     'activation':['identity','logistic','tanh','relu'],\n",
    "     'beta_1':uniform(0.0, 1.0),\n",
    "     'beta_2':uniform(0.0, 1.0),\n",
    "     'early_stopping':[True],\n",
    "     'shuffle':[True],\n",
    "     'hidden_layer_sizes':[(28, 14)],\n",
    "     'learning_rate_init':[0.01, 0.001]\n",
    "}\n",
    "\n",
    "\n",
    "clf = RandomizedSearchCV(estimator = MLPRegressor(), \n",
    "                              param_distributions = param_test1, \n",
    "                              scoring='neg_mean_squared_error',\n",
    "                              n_jobs=3,\n",
    "                              n_iter=100)\n",
    "start = time()\n",
    "clf.fit(train_X2.values, train_y)\n",
    "\n",
    "print(\"Parameter search took %.2f seconds for %d candidate parameter settings.\"\n",
    "      % (time() - start, len(clf.cv_results_['params'])))\n",
    "\n",
    "helper.report(clf)    \n"
   ]
  },
  {
   "cell_type": "code",
   "execution_count": 277,
   "metadata": {},
   "outputs": [
    {
     "data": {
      "text/plain": [
       "MLPRegressor(activation='relu', alpha=0.33578408634695178, batch_size='auto',\n",
       "       beta_1=0.8055566503810585, beta_2=0.25876774570040473,\n",
       "       early_stopping=True, epsilon=1e-08, hidden_layer_sizes=(28, 14),\n",
       "       learning_rate='constant', learning_rate_init=0.01, max_iter=200,\n",
       "       momentum=0.9, nesterovs_momentum=True, power_t=0.5,\n",
       "       random_state=None, shuffle=True, solver='adam', tol=0.0001,\n",
       "       validation_fraction=0.1, verbose=False, warm_start=False)"
      ]
     },
     "execution_count": 277,
     "metadata": {},
     "output_type": "execute_result"
    }
   ],
   "source": [
    "pms = clf.best_params_\n",
    "\n",
    "\n",
    "mlpmodel = MLPRegressor(activation=pms['activation'],\n",
    "                        alpha=pms['alpha'],\n",
    "                        beta_1=pms['beta_1'],\n",
    "                        beta_2=pms['beta_2'],\n",
    "                        early_stopping=pms['early_stopping'],\n",
    "                        hidden_layer_sizes=pms['hidden_layer_sizes'],\n",
    "                        learning_rate_init=pms['learning_rate_init'],\n",
    "                        shuffle=pms['shuffle'])\n",
    "mlpmodel.fit(train_X2.values, train_y)"
   ]
  },
  {
   "cell_type": "code",
   "execution_count": 278,
   "metadata": {},
   "outputs": [
    {
     "name": "stdout",
     "output_type": "stream",
     "text": [
      "\n",
      "The model is trained on the full development set.\n",
      "The scores are computed on the full evaluation set.\n",
      "\n",
      "R2 Train: 0.35150497791\n",
      "RMSE Train: 164.99220414090183\n",
      "RMSE Val: 168.82219691340262\n",
      "RMSE Test: 173.52401053452587\n"
     ]
    }
   ],
   "source": [
    "print()\n",
    "print(\"The model is trained on the full development set.\")\n",
    "print(\"The scores are computed on the full evaluation set.\")\n",
    "print()\n",
    "y_true3, y_pred3 = train_y, mlpmodel.predict(train_X2.values)\n",
    "y_true, y_pred = val_y, mlpmodel.predict(val_X[collist_X2].values)\n",
    "y_true2, y_pred2 = test_y, mlpmodel.predict(test_X[collist_X2].values)\n",
    "print('R2 Train: ' + str(r2_score(y_true3, y_pred3)))\n",
    "rmse = math.sqrt(mean_squared_error(y_true3, y_pred3))\n",
    "print('RMSE Train: ' + str(rmse))\n",
    "rmse = math.sqrt(mean_squared_error(y_true, y_pred))\n",
    "print('RMSE Val: ' + str(rmse))\n",
    "rmse = math.sqrt(mean_squared_error(y_true2, y_pred2))\n",
    "print('RMSE Test: ' + str(rmse))\n"
   ]
  },
  {
   "cell_type": "code",
   "execution_count": 274,
   "metadata": {},
   "outputs": [
    {
     "name": "stderr",
     "output_type": "stream",
     "text": [
      "C:\\ProgramData\\Anaconda3\\lib\\site-packages\\sklearn\\neural_network\\multilayer_perceptron.py:563: ConvergenceWarning: Stochastic Optimizer: Maximum iterations reached and the optimization hasn't converged yet.\n",
      "  % (), ConvergenceWarning)\n"
     ]
    }
   ],
   "source": [
    "nnet_res = list()\n",
    "\n",
    "for i in range(1, 31):\n",
    "    \n",
    "    mlpmodel = MLPRegressor(hidden_layer_sizes=(i,))\n",
    "    mlpmodel.fit(train_X2.values, train_y)\n",
    "\n",
    "    y_true, y_pred = val_y, mlpmodel.predict(val_X[collist_X2].values)\n",
    "\n",
    "    #print('R2 Train: ' + str(r2_score(y_true3, y_pred3)))\n",
    "    rmse = math.sqrt(mean_squared_error(y_true, y_pred))\n",
    "    nnet_res.append(rmse)\n",
    "    \n",
    "\n"
   ]
  },
  {
   "cell_type": "code",
   "execution_count": 275,
   "metadata": {},
   "outputs": [
    {
     "data": {
      "image/png": "[encoded data removed]",
      "text/plain": [
       "<matplotlib.figure.Figure at 0x279d3a90>"
      ]
     },
     "metadata": {},
     "output_type": "display_data"
    }
   ],
   "source": [
    "x=np.array(range(1,31))\n",
    "y = np.array(nnet_res)\n",
    "plt.plot(x, y)\n",
    "plt.show()"
   ]
  },
  {
   "cell_type": "code",
   "execution_count": 279,
   "metadata": {},
   "outputs": [
    {
     "name": "stdout",
     "output_type": "stream",
     "text": [
      "Parameter search took 363.55 seconds for 200 candidate parameter settings.\n",
      "Best Mean validation score: -51.466 (std: 6.227)\n",
      "Parameters: {'C': 0.71992761103061809, 'epsilon': 0.0043969218452521996, 'loss': 'epsilon_insensitive'}\n"
     ]
    }
   ],
   "source": [
    "param_test1 = {\n",
    "     'C':uniform(0.0,1.0),\n",
    "     'epsilon': uniform(0.0, 1.0),\n",
    "     'loss':['squared_epsilon_insensitive', 'epsilon_insensitive']\n",
    "}\n",
    "\n",
    "\n",
    "clf = RandomizedSearchCV(estimator = LinearSVR(), \n",
    "                              param_distributions = param_test1, \n",
    "                              scoring='neg_mean_squared_error',\n",
    "                              n_jobs=3,\n",
    "                              n_iter=200)\n",
    "start = time()\n",
    "clf.fit(train_X2.values, train_y)\n",
    "\n",
    "print(\"Parameter search took %.2f seconds for %d candidate parameter settings.\"\n",
    "      % (time() - start, len(clf.cv_results_['params'])))\n",
    "\n",
    "helper.report(clf)    \n"
   ]
  },
  {
   "cell_type": "code",
   "execution_count": 280,
   "metadata": {},
   "outputs": [
    {
     "data": {
      "text/plain": [
       "LinearSVR(C=0.72, dual=True, epsilon=0.0044, fit_intercept=True,\n",
       "     intercept_scaling=1.0, loss='epsilon_insensitive', max_iter=1000,\n",
       "     random_state=None, tol=0.0001, verbose=0)"
      ]
     },
     "execution_count": 280,
     "metadata": {},
     "output_type": "execute_result"
    }
   ],
   "source": [
    "lsvrmodel = LinearSVR(C=0.72, epsilon=0.0044, loss='epsilon_insensitive')\n",
    "lsvrmodel.fit(train_X2.values, train_y)"
   ]
  },
  {
   "cell_type": "code",
   "execution_count": 281,
   "metadata": {},
   "outputs": [
    {
     "name": "stdout",
     "output_type": "stream",
     "text": [
      "\n",
      "The model is trained on the full development set.\n",
      "The scores are computed on the full evaluation set.\n",
      "\n",
      "R2 Train: 0.225423726179\n",
      "RMSE Train: 180.31929300383158\n",
      "RMSE Val: 184.16755025548918\n",
      "RMSE Test: 186.63961229004053\n"
     ]
    }
   ],
   "source": [
    "print()\n",
    "print(\"The model is trained on the full development set.\")\n",
    "print(\"The scores are computed on the full evaluation set.\")\n",
    "print()\n",
    "y_true3, y_pred3 = train_y, lsvrmodel.predict(train_X2.values)\n",
    "y_true, y_pred = val_y, lsvrmodel.predict(val_X[collist_X2].values)\n",
    "y_true2, y_pred2 = test_y, lsvrmodel.predict(test_X[collist_X2].values)\n",
    "print('R2 Train: ' + str(r2_score(y_true3, y_pred3)))\n",
    "rmse = math.sqrt(mean_squared_error(y_true3, y_pred3))\n",
    "print('RMSE Train: ' + str(rmse))\n",
    "rmse = math.sqrt(mean_squared_error(y_true, y_pred))\n",
    "print('RMSE Val: ' + str(rmse))\n",
    "rmse = math.sqrt(mean_squared_error(y_true2, y_pred2))\n",
    "print('RMSE Test: ' + str(rmse))"
   ]
  },
  {
   "cell_type": "code",
   "execution_count": 282,
   "metadata": {},
   "outputs": [
    {
     "name": "stdout",
     "output_type": "stream",
     "text": [
      "INFO:tensorflow:Restoring parameters from C:\\Temp\\tmpiozmcfgb\\model.ckpt-10000\n"
     ]
    },
    {
     "name": "stderr",
     "output_type": "stream",
     "text": [
      "INFO:tensorflow:Restoring parameters from C:\\Temp\\tmpiozmcfgb\\model.ckpt-10000\n"
     ]
    },
    {
     "name": "stdout",
     "output_type": "stream",
     "text": [
      "INFO:tensorflow:Restoring parameters from C:\\Temp\\tmpiozmcfgb\\model.ckpt-10000\n"
     ]
    },
    {
     "name": "stderr",
     "output_type": "stream",
     "text": [
      "INFO:tensorflow:Restoring parameters from C:\\Temp\\tmpiozmcfgb\\model.ckpt-10000\n"
     ]
    }
   ],
   "source": [
    "test_input_fn = tf.estimator.inputs.numpy_input_fn(\n",
    "  x={'x': val_X[collist_X2].values}, y=val_y, num_epochs=1, shuffle=False)\n",
    "predictions = regressor.predict(input_fn=test_input_fn)\n",
    "y_predicted = np.array(list(p['predictions'] for p in predictions))\n",
    "tfpred = y_predicted.reshape(val_y.shape)\n",
    "\n",
    "\n",
    "test_input_fn = tf.estimator.inputs.numpy_input_fn(\n",
    "  x={'x': test_X[collist_X2].values}, y=test_y, num_epochs=1, shuffle=False)\n",
    "predictions = regressor.predict(input_fn=test_input_fn)\n",
    "y_predicted = np.array(list(p['predictions'] for p in predictions))\n",
    "tf_test = y_predicted.reshape(test_y.shape)\n",
    "\n",
    "\n",
    "xgbpred = xgbmodel.predict(val_X[collist_X2].values)\n",
    "elasticpred = elasticmodel.predict(val_X[collist_X2].values)\n",
    "lassopred = ridgemodel.predict(val_X[collist_X2].values)\n",
    "mlppred = mlpmodel.predict(val_X[collist_X2].values)\n",
    "lsvrpred = lsvrmodel.predict(val_X[collist_X2].values)\n",
    "lgbmpred = lgbmmodel.predict(val_X[collist_X2].values)\n",
    "\n",
    "resarray = np.array([val_y, xgbpred, elasticpred, lassopred, mlppred, lsvrpred, lgbmpred, tfpred], np.float64)\n",
    "\n",
    "xgb_test = xgbmodel.predict(test_X[collist_X2].values)\n",
    "elastic_test = elasticmodel.predict(test_X[collist_X2].values)\n",
    "lasso_test = ridgemodel.predict(test_X[collist_X2].values)\n",
    "mlp_test = mlpmodel.predict(test_X[collist_X2].values)\n",
    "lsvr_test = lsvrmodel.predict(test_X[collist_X2].values)\n",
    "lgbm_test = lgbmmodel.predict(test_X[collist_X2].values)\n",
    "\n",
    "res_test = np.array([test_y, xgb_test, elastic_test, lasso_test, mlp_test, lsvr_test, lgbm_test, tf_test], np.float64)\n",
    "\n",
    "result = pd.DataFrame(resarray.transpose(), columns = ['true_y','xgbpred', 'elasticpred','ridgepred', 'mlppred','lsvrpred','lgbmpred','tfpred'])\n",
    "result_test = pd.DataFrame(res_test.transpose(), columns = ['true_y','xgbpred', 'elasticpred','ridgepred','mlppred','lsvrpred','lgbmpred','tfpred'])\n",
    "\n",
    "\n",
    "ensX = result[['xgbpred', 'elasticpred','ridgepred','mlppred','lsvrpred','lgbmpred','tfpred']].values\n",
    "ensy = result[['true_y']].values\n",
    "\n",
    "finX = result_test[['xgbpred', 'elasticpred','ridgepred','mlppred','lsvrpred','lgbmpred','tfpred']].values\n",
    "finy = result_test[['true_y']].values"
   ]
  },
  {
   "cell_type": "code",
   "execution_count": 283,
   "metadata": {},
   "outputs": [
    {
     "data": {
      "text/html": [
       "<div>\n",
       "<style>\n",
       "    .dataframe thead tr:only-child th {\n",
       "        text-align: right;\n",
       "    }\n",
       "\n",
       "    .dataframe thead th {\n",
       "        text-align: left;\n",
       "    }\n",
       "\n",
       "    .dataframe tbody tr th {\n",
       "        vertical-align: top;\n",
       "    }\n",
       "</style>\n",
       "<table border=\"1\" class=\"dataframe\">\n",
       "  <thead>\n",
       "    <tr style=\"text-align: right;\">\n",
       "      <th></th>\n",
       "      <th>true_y</th>\n",
       "      <th>xgbpred</th>\n",
       "      <th>elasticpred</th>\n",
       "      <th>ridgepred</th>\n",
       "      <th>mlppred</th>\n",
       "      <th>lsvrpred</th>\n",
       "      <th>lgbmpred</th>\n",
       "      <th>tfpred</th>\n",
       "      <th>avg</th>\n",
       "      <th>std</th>\n",
       "    </tr>\n",
       "  </thead>\n",
       "  <tbody>\n",
       "    <tr>\n",
       "      <th>0</th>\n",
       "      <td>0.0</td>\n",
       "      <td>7.756934</td>\n",
       "      <td>2.036526</td>\n",
       "      <td>0.469967</td>\n",
       "      <td>7.294350</td>\n",
       "      <td>-0.006198</td>\n",
       "      <td>14.029985</td>\n",
       "      <td>6.958193</td>\n",
       "      <td>5.505680</td>\n",
       "      <td>5.013570</td>\n",
       "    </tr>\n",
       "    <tr>\n",
       "      <th>1</th>\n",
       "      <td>0.0</td>\n",
       "      <td>86.779747</td>\n",
       "      <td>74.908283</td>\n",
       "      <td>76.409172</td>\n",
       "      <td>69.797863</td>\n",
       "      <td>52.151255</td>\n",
       "      <td>80.755390</td>\n",
       "      <td>72.465683</td>\n",
       "      <td>73.323913</td>\n",
       "      <td>10.876323</td>\n",
       "    </tr>\n",
       "    <tr>\n",
       "      <th>2</th>\n",
       "      <td>0.0</td>\n",
       "      <td>11.364838</td>\n",
       "      <td>6.457030</td>\n",
       "      <td>2.562696</td>\n",
       "      <td>14.101986</td>\n",
       "      <td>-0.078484</td>\n",
       "      <td>14.029985</td>\n",
       "      <td>8.185524</td>\n",
       "      <td>8.089082</td>\n",
       "      <td>5.509127</td>\n",
       "    </tr>\n",
       "    <tr>\n",
       "      <th>3</th>\n",
       "      <td>0.0</td>\n",
       "      <td>7.040674</td>\n",
       "      <td>-3.846295</td>\n",
       "      <td>-6.685980</td>\n",
       "      <td>7.236644</td>\n",
       "      <td>0.003662</td>\n",
       "      <td>14.029985</td>\n",
       "      <td>7.556534</td>\n",
       "      <td>3.619318</td>\n",
       "      <td>7.344861</td>\n",
       "    </tr>\n",
       "    <tr>\n",
       "      <th>4</th>\n",
       "      <td>0.0</td>\n",
       "      <td>22.975615</td>\n",
       "      <td>24.793247</td>\n",
       "      <td>23.457158</td>\n",
       "      <td>8.046538</td>\n",
       "      <td>0.139916</td>\n",
       "      <td>22.202950</td>\n",
       "      <td>8.273390</td>\n",
       "      <td>15.698402</td>\n",
       "      <td>9.949286</td>\n",
       "    </tr>\n",
       "  </tbody>\n",
       "</table>\n",
       "</div>"
      ],
      "text/plain": [
       "   true_y    xgbpred  elasticpred  ridgepred    mlppred   lsvrpred   lgbmpred  \\\n",
       "0     0.0   7.756934     2.036526   0.469967   7.294350  -0.006198  14.029985   \n",
       "1     0.0  86.779747    74.908283  76.409172  69.797863  52.151255  80.755390   \n",
       "2     0.0  11.364838     6.457030   2.562696  14.101986  -0.078484  14.029985   \n",
       "3     0.0   7.040674    -3.846295  -6.685980   7.236644   0.003662  14.029985   \n",
       "4     0.0  22.975615    24.793247  23.457158   8.046538   0.139916  22.202950   \n",
       "\n",
       "      tfpred        avg        std  \n",
       "0   6.958193   5.505680   5.013570  \n",
       "1  72.465683  73.323913  10.876323  \n",
       "2   8.185524   8.089082   5.509127  \n",
       "3   7.556534   3.619318   7.344861  \n",
       "4   8.273390  15.698402   9.949286  "
      ]
     },
     "execution_count": 283,
     "metadata": {},
     "output_type": "execute_result"
    }
   ],
   "source": [
    "result_test['avg'] = (result_test['xgbpred']+result_test['elasticpred']+result_test['ridgepred']+result_test['mlppred']+result_test['lsvrpred']+result_test['lgbmpred']+result_test['tfpred'])/7\n",
    "result_test['std'] = result_test[['xgbpred','elasticpred','ridgepred','mlppred','lsvrpred','lgbmpred','tfpred']].std(axis=1)\n",
    "result_test.head()"
   ]
  },
  {
   "cell_type": "code",
   "execution_count": 284,
   "metadata": {},
   "outputs": [
    {
     "name": "stdout",
     "output_type": "stream",
     "text": [
      "R2 Train: 0.317733917389\n",
      "RMSE Train: 172.70623060371756\n"
     ]
    }
   ],
   "source": [
    "result_test2 = result_test.sort_values(by='true_y').reset_index()\n",
    "\n",
    "print('R2 Train: ' + str(r2_score(result_test2['true_y'],result_test2['avg'])))\n",
    "rmse = math.sqrt(mean_squared_error(result_test2['true_y'],result_test2['avg']))\n",
    "print('RMSE Train: ' + str(rmse))"
   ]
  },
  {
   "cell_type": "code",
   "execution_count": 155,
   "metadata": {},
   "outputs": [
    {
     "data": {
      "image/png": "[encoded data removed]",
      "text/plain": [
       "<matplotlib.figure.Figure at 0x3738bcc0>"
      ]
     },
     "metadata": {},
     "output_type": "display_data"
    }
   ],
   "source": [
    "plt.plot(result_test2['true_y'])\n",
    "plt.plot(result_test2['avg'], alpha=0.5)\n",
    "plt.show()"
   ]
  },
  {
   "cell_type": "code",
   "execution_count": 285,
   "metadata": {},
   "outputs": [
    {
     "name": "stdout",
     "output_type": "stream",
     "text": [
      "xgbpred\n"
     ]
    },
    {
     "data": {
      "image/png": "[encoded data removed]",
      "text/plain": [
       "<matplotlib.figure.Figure at 0x3753a160>"
      ]
     },
     "metadata": {},
     "output_type": "display_data"
    },
    {
     "name": "stdout",
     "output_type": "stream",
     "text": [
      "elasticpred\n"
     ]
    },
    {
     "data": {
      "image/png": "[encoded data removed]",
      "text/plain": [
       "<matplotlib.figure.Figure at 0x345df3c8>"
      ]
     },
     "metadata": {},
     "output_type": "display_data"
    },
    {
     "name": "stdout",
     "output_type": "stream",
     "text": [
      "ridgepred\n"
     ]
    },
    {
     "data": {
      "image/png": "[encoded data removed]",
      "text/plain": [
       "<matplotlib.figure.Figure at 0x37408c50>"
      ]
     },
     "metadata": {},
     "output_type": "display_data"
    },
    {
     "name": "stdout",
     "output_type": "stream",
     "text": [
      "mlppred\n"
     ]
    },
    {
     "data": {
      "image/png": "[encoded data removed]",
      "text/plain": [
       "<matplotlib.figure.Figure at 0x2aa01080>"
      ]
     },
     "metadata": {},
     "output_type": "display_data"
    },
    {
     "name": "stdout",
     "output_type": "stream",
     "text": [
      "lsvrpred\n"
     ]
    },
    {
     "data": {
      "image/png": "[encoded data removed]",
      "text/plain": [
       "<matplotlib.figure.Figure at 0x2e80cb00>"
      ]
     },
     "metadata": {},
     "output_type": "display_data"
    },
    {
     "name": "stdout",
     "output_type": "stream",
     "text": [
      "lgbmpred\n"
     ]
    },
    {
     "data": {
      "image/png": "[encoded data removed]",
      "text/plain": [
       "<matplotlib.figure.Figure at 0x34f05d68>"
      ]
     },
     "metadata": {},
     "output_type": "display_data"
    },
    {
     "name": "stdout",
     "output_type": "stream",
     "text": [
      "tfpred\n"
     ]
    },
    {
     "data": {
      "image/png": "[encoded data removed]",
      "text/plain": [
       "<matplotlib.figure.Figure at 0x23a00d68>"
      ]
     },
     "metadata": {},
     "output_type": "display_data"
    }
   ],
   "source": [
    "matplotlib.rcParams['figure.figsize'] = (5,4)\n",
    "lst = ['xgbpred', 'elasticpred','ridgepred','mlppred','lsvrpred','lgbmpred','tfpred']\n",
    "\n",
    "for var in range(len(lst)):\n",
    "    print(lst[var])\n",
    "    plt.hist(ensX[:, var], bins = 100)\n",
    "    plt.show()\n",
    "    \n",
    "    \n",
    "    \n",
    "matplotlib.rcParams['figure.figsize'] = (11,8)"
   ]
  },
  {
   "cell_type": "code",
   "execution_count": 291,
   "metadata": {},
   "outputs": [
    {
     "name": "stdout",
     "output_type": "stream",
     "text": [
      "[0]\tvalidation_0-rmse:215.718\n",
      "Will train until validation_0-rmse hasn't improved in [50] rounds.\n",
      "[1]\tvalidation_0-rmse:214.952\n",
      "[2]\tvalidation_0-rmse:214.186\n",
      "[3]\tvalidation_0-rmse:213.414\n",
      "[4]\tvalidation_0-rmse:212.68\n",
      "[5]\tvalidation_0-rmse:211.918\n",
      "[6]\tvalidation_0-rmse:211.215\n",
      "[7]\tvalidation_0-rmse:210.475\n",
      "[8]\tvalidation_0-rmse:209.75\n",
      "[9]\tvalidation_0-rmse:209.037\n",
      "[10]\tvalidation_0-rmse:208.405\n",
      "[11]\tvalidation_0-rmse:207.758\n",
      "[12]\tvalidation_0-rmse:207.083\n",
      "[13]\tvalidation_0-rmse:206.444\n",
      "[14]\tvalidation_0-rmse:205.823\n",
      "[15]\tvalidation_0-rmse:205.207\n",
      "[16]\tvalidation_0-rmse:204.618\n",
      "[17]\tvalidation_0-rmse:204.033\n",
      "[18]\tvalidation_0-rmse:203.434\n",
      "[19]\tvalidation_0-rmse:202.877\n",
      "[20]\tvalidation_0-rmse:202.296\n",
      "[21]\tvalidation_0-rmse:201.741\n",
      "[22]\tvalidation_0-rmse:201.19\n",
      "[23]\tvalidation_0-rmse:200.659\n",
      "[24]\tvalidation_0-rmse:200.158\n",
      "[25]\tvalidation_0-rmse:199.661\n",
      "[26]\tvalidation_0-rmse:199.168\n",
      "[27]\tvalidation_0-rmse:198.669\n",
      "[28]\tvalidation_0-rmse:198.17\n",
      "[29]\tvalidation_0-rmse:197.66\n",
      "[30]\tvalidation_0-rmse:197.194\n",
      "[31]\tvalidation_0-rmse:196.746\n",
      "[32]\tvalidation_0-rmse:196.264\n",
      "[33]\tvalidation_0-rmse:195.79\n",
      "[34]\tvalidation_0-rmse:195.342\n",
      "[35]\tvalidation_0-rmse:194.88\n",
      "[36]\tvalidation_0-rmse:194.471\n",
      "[37]\tvalidation_0-rmse:194.067\n",
      "[38]\tvalidation_0-rmse:193.638\n",
      "[39]\tvalidation_0-rmse:193.224\n",
      "[40]\tvalidation_0-rmse:192.853\n",
      "[41]\tvalidation_0-rmse:192.47\n",
      "[42]\tvalidation_0-rmse:192.065\n",
      "[43]\tvalidation_0-rmse:191.707\n",
      "[44]\tvalidation_0-rmse:191.344\n",
      "[45]\tvalidation_0-rmse:190.966\n",
      "[46]\tvalidation_0-rmse:190.643\n",
      "[47]\tvalidation_0-rmse:190.285\n",
      "[48]\tvalidation_0-rmse:189.96\n",
      "[49]\tvalidation_0-rmse:189.631\n",
      "[50]\tvalidation_0-rmse:189.308\n",
      "[51]\tvalidation_0-rmse:188.975\n",
      "[52]\tvalidation_0-rmse:188.668\n",
      "[53]\tvalidation_0-rmse:188.342\n",
      "[54]\tvalidation_0-rmse:188.022\n",
      "[55]\tvalidation_0-rmse:187.734\n",
      "[56]\tvalidation_0-rmse:187.43\n",
      "[57]\tvalidation_0-rmse:187.142\n",
      "[58]\tvalidation_0-rmse:186.877\n",
      "[59]\tvalidation_0-rmse:186.587\n",
      "[60]\tvalidation_0-rmse:186.281\n",
      "[61]\tvalidation_0-rmse:186.006\n",
      "[62]\tvalidation_0-rmse:185.74\n",
      "[63]\tvalidation_0-rmse:185.497\n",
      "[64]\tvalidation_0-rmse:185.276\n",
      "[65]\tvalidation_0-rmse:185.008\n",
      "[66]\tvalidation_0-rmse:184.767\n",
      "[67]\tvalidation_0-rmse:184.529\n",
      "[68]\tvalidation_0-rmse:184.304\n",
      "[69]\tvalidation_0-rmse:184.109\n",
      "[70]\tvalidation_0-rmse:183.891\n",
      "[71]\tvalidation_0-rmse:183.677\n",
      "[72]\tvalidation_0-rmse:183.454\n",
      "[73]\tvalidation_0-rmse:183.24\n",
      "[74]\tvalidation_0-rmse:183.04\n",
      "[75]\tvalidation_0-rmse:182.78\n",
      "[76]\tvalidation_0-rmse:182.579\n",
      "[77]\tvalidation_0-rmse:182.397\n",
      "[78]\tvalidation_0-rmse:182.216\n",
      "[79]\tvalidation_0-rmse:182.042\n",
      "[80]\tvalidation_0-rmse:181.845\n",
      "[81]\tvalidation_0-rmse:181.672\n",
      "[82]\tvalidation_0-rmse:181.476\n",
      "[83]\tvalidation_0-rmse:181.297\n",
      "[84]\tvalidation_0-rmse:181.13\n",
      "[85]\tvalidation_0-rmse:180.957\n",
      "[86]\tvalidation_0-rmse:180.813\n",
      "[87]\tvalidation_0-rmse:180.651\n",
      "[88]\tvalidation_0-rmse:180.497\n",
      "[89]\tvalidation_0-rmse:180.322\n",
      "[90]\tvalidation_0-rmse:180.15\n",
      "[91]\tvalidation_0-rmse:180.021\n",
      "[92]\tvalidation_0-rmse:179.88\n",
      "[93]\tvalidation_0-rmse:179.708\n",
      "[94]\tvalidation_0-rmse:179.565\n",
      "[95]\tvalidation_0-rmse:179.42\n",
      "[96]\tvalidation_0-rmse:179.272\n",
      "[97]\tvalidation_0-rmse:179.122\n",
      "[98]\tvalidation_0-rmse:178.967\n",
      "[99]\tvalidation_0-rmse:178.826\n",
      "Parameter search took 493.16 seconds for 100 candidate parameter settings.\n",
      "Best Mean validation score: -30119.349 (std: 262.770)\n",
      "Parameters: {'colsample_bytree': 0.64146250302868124, 'gamma': 0.86299531278581787, 'learning_rate': 0.01, 'max_depth': 7, 'min_child_weight': 3, 'objective': 'reg:linear', 'reg_alpha': 0.9357495818192012, 'reg_lambda': 0.1225464791151251, 'subsample': 0.65488309375042453}\n"
     ]
    }
   ],
   "source": [
    "param_test1 = {\n",
    "     'learning_rate':[0.01],\n",
    "     'max_depth':list(range(5,20)),\n",
    "     'min_child_weight':list(range(1,10)),\n",
    "     'colsample_bytree': uniform(0.5,0.4),\n",
    "     'subsample': uniform(0.5,0.4),\n",
    "     'reg_alpha': uniform(0.1, 0.9),\n",
    "     'reg_lambda': uniform(0.1, 0.9),\n",
    "     'objective':['reg:linear'],\n",
    "     'gamma': uniform(0.1,0.9)\n",
    "}\n",
    "\n",
    "fit_params = {\n",
    "    'early_stopping_rounds':[50],\n",
    "    'eval_set':[(finX, finy)],\n",
    "    'eval_metric':['rmse']\n",
    "}\n",
    "\n",
    "\n",
    "gsearch1 = RandomizedSearchCV(estimator = xgb.XGBRegressor(), \n",
    "                              param_distributions = param_test1, \n",
    "                              scoring='neg_mean_squared_error',\n",
    "                              n_jobs=-1,\n",
    "                              n_iter=100,\n",
    "                              cv=5,\n",
    "                              fit_params = fit_params)\n",
    "start = time()\n",
    "gsearch1.fit(ensX, ensy,\n",
    "            )\n",
    "\n",
    "print(\"Parameter search took %.2f seconds for %d candidate parameter settings.\"\n",
    "      % (time() - start, len(gsearch1.cv_results_['params'])))\n",
    "\n",
    "helper.report(gsearch1)    "
   ]
  },
  {
   "cell_type": "code",
   "execution_count": null,
   "metadata": {
    "collapsed": true
   },
   "outputs": [],
   "source": []
  },
  {
   "cell_type": "code",
   "execution_count": 293,
   "metadata": {
    "scrolled": true
   },
   "outputs": [
    {
     "name": "stdout",
     "output_type": "stream",
     "text": [
      "[0]\tvalidation_0-rmse:215.702\n",
      "Will train until validation_0-rmse hasn't improved in 100 rounds.\n",
      "[1]\tvalidation_0-rmse:214.897\n",
      "[2]\tvalidation_0-rmse:214.117\n",
      "[3]\tvalidation_0-rmse:213.405\n",
      "[4]\tvalidation_0-rmse:212.651\n",
      "[5]\tvalidation_0-rmse:211.864\n",
      "[6]\tvalidation_0-rmse:211.137\n",
      "[7]\tvalidation_0-rmse:210.434\n",
      "[8]\tvalidation_0-rmse:209.754\n",
      "[9]\tvalidation_0-rmse:209.016\n",
      "[10]\tvalidation_0-rmse:208.322\n",
      "[11]\tvalidation_0-rmse:207.712\n",
      "[12]\tvalidation_0-rmse:207.022\n",
      "[13]\tvalidation_0-rmse:206.379\n",
      "[14]\tvalidation_0-rmse:205.707\n",
      "[15]\tvalidation_0-rmse:205.086\n",
      "[16]\tvalidation_0-rmse:204.479\n",
      "[17]\tvalidation_0-rmse:203.85\n",
      "[18]\tvalidation_0-rmse:203.269\n",
      "[19]\tvalidation_0-rmse:202.727\n",
      "[20]\tvalidation_0-rmse:202.09\n",
      "[21]\tvalidation_0-rmse:201.504\n",
      "[22]\tvalidation_0-rmse:200.982\n",
      "[23]\tvalidation_0-rmse:200.427\n",
      "[24]\tvalidation_0-rmse:199.88\n",
      "[25]\tvalidation_0-rmse:199.39\n",
      "[26]\tvalidation_0-rmse:198.86\n",
      "[27]\tvalidation_0-rmse:198.341\n",
      "[28]\tvalidation_0-rmse:197.851\n",
      "[29]\tvalidation_0-rmse:197.39\n",
      "[30]\tvalidation_0-rmse:196.897\n",
      "[31]\tvalidation_0-rmse:196.441\n",
      "[32]\tvalidation_0-rmse:196.008\n",
      "[33]\tvalidation_0-rmse:195.578\n",
      "[34]\tvalidation_0-rmse:195.135\n",
      "[35]\tvalidation_0-rmse:194.681\n",
      "[36]\tvalidation_0-rmse:194.27\n",
      "[37]\tvalidation_0-rmse:193.856\n",
      "[38]\tvalidation_0-rmse:193.452\n",
      "[39]\tvalidation_0-rmse:193.075\n",
      "[40]\tvalidation_0-rmse:192.675\n",
      "[41]\tvalidation_0-rmse:192.298\n",
      "[42]\tvalidation_0-rmse:191.945\n",
      "[43]\tvalidation_0-rmse:191.571\n",
      "[44]\tvalidation_0-rmse:191.202\n",
      "[45]\tvalidation_0-rmse:190.852\n",
      "[46]\tvalidation_0-rmse:190.521\n",
      "[47]\tvalidation_0-rmse:190.148\n",
      "[48]\tvalidation_0-rmse:189.794\n",
      "[49]\tvalidation_0-rmse:189.455\n",
      "[50]\tvalidation_0-rmse:189.133\n",
      "[51]\tvalidation_0-rmse:188.819\n",
      "[52]\tvalidation_0-rmse:188.5\n",
      "[53]\tvalidation_0-rmse:188.207\n",
      "[54]\tvalidation_0-rmse:187.934\n",
      "[55]\tvalidation_0-rmse:187.625\n",
      "[56]\tvalidation_0-rmse:187.332\n",
      "[57]\tvalidation_0-rmse:187.042\n",
      "[58]\tvalidation_0-rmse:186.772\n",
      "[59]\tvalidation_0-rmse:186.504\n",
      "[60]\tvalidation_0-rmse:186.219\n",
      "[61]\tvalidation_0-rmse:185.942\n",
      "[62]\tvalidation_0-rmse:185.679\n",
      "[63]\tvalidation_0-rmse:185.402\n",
      "[64]\tvalidation_0-rmse:185.156\n",
      "[65]\tvalidation_0-rmse:184.876\n",
      "[66]\tvalidation_0-rmse:184.622\n",
      "[67]\tvalidation_0-rmse:184.403\n",
      "[68]\tvalidation_0-rmse:184.188\n",
      "[69]\tvalidation_0-rmse:183.962\n",
      "[70]\tvalidation_0-rmse:183.702\n",
      "[71]\tvalidation_0-rmse:183.481\n",
      "[72]\tvalidation_0-rmse:183.25\n",
      "[73]\tvalidation_0-rmse:183.05\n",
      "[74]\tvalidation_0-rmse:182.842\n",
      "[75]\tvalidation_0-rmse:182.637\n",
      "[76]\tvalidation_0-rmse:182.422\n",
      "[77]\tvalidation_0-rmse:182.239\n",
      "[78]\tvalidation_0-rmse:182.038\n",
      "[79]\tvalidation_0-rmse:181.851\n",
      "[80]\tvalidation_0-rmse:181.684\n",
      "[81]\tvalidation_0-rmse:181.501\n",
      "[82]\tvalidation_0-rmse:181.322\n",
      "[83]\tvalidation_0-rmse:181.137\n",
      "[84]\tvalidation_0-rmse:180.972\n",
      "[85]\tvalidation_0-rmse:180.796\n",
      "[86]\tvalidation_0-rmse:180.648\n",
      "[87]\tvalidation_0-rmse:180.508\n",
      "[88]\tvalidation_0-rmse:180.358\n",
      "[89]\tvalidation_0-rmse:180.185\n",
      "[90]\tvalidation_0-rmse:180.059\n",
      "[91]\tvalidation_0-rmse:179.892\n",
      "[92]\tvalidation_0-rmse:179.739\n",
      "[93]\tvalidation_0-rmse:179.609\n",
      "[94]\tvalidation_0-rmse:179.456\n",
      "[95]\tvalidation_0-rmse:179.327\n",
      "[96]\tvalidation_0-rmse:179.16\n",
      "[97]\tvalidation_0-rmse:179.028\n",
      "[98]\tvalidation_0-rmse:178.9\n",
      "[99]\tvalidation_0-rmse:178.767\n",
      "[100]\tvalidation_0-rmse:178.625\n",
      "[101]\tvalidation_0-rmse:178.501\n",
      "[102]\tvalidation_0-rmse:178.383\n",
      "[103]\tvalidation_0-rmse:178.272\n",
      "[104]\tvalidation_0-rmse:178.161\n",
      "[105]\tvalidation_0-rmse:178.047\n",
      "[106]\tvalidation_0-rmse:177.914\n",
      "[107]\tvalidation_0-rmse:177.805\n",
      "[108]\tvalidation_0-rmse:177.671\n",
      "[109]\tvalidation_0-rmse:177.542\n",
      "[110]\tvalidation_0-rmse:177.439\n",
      "[111]\tvalidation_0-rmse:177.34\n",
      "[112]\tvalidation_0-rmse:177.256\n",
      "[113]\tvalidation_0-rmse:177.159\n",
      "[114]\tvalidation_0-rmse:177.085\n",
      "[115]\tvalidation_0-rmse:176.98\n",
      "[116]\tvalidation_0-rmse:176.885\n",
      "[117]\tvalidation_0-rmse:176.809\n",
      "[118]\tvalidation_0-rmse:176.717\n",
      "[119]\tvalidation_0-rmse:176.623\n",
      "[120]\tvalidation_0-rmse:176.524\n",
      "[121]\tvalidation_0-rmse:176.429\n",
      "[122]\tvalidation_0-rmse:176.35\n",
      "[123]\tvalidation_0-rmse:176.267\n",
      "[124]\tvalidation_0-rmse:176.174\n",
      "[125]\tvalidation_0-rmse:176.099\n",
      "[126]\tvalidation_0-rmse:176.031\n",
      "[127]\tvalidation_0-rmse:175.972\n",
      "[128]\tvalidation_0-rmse:175.91\n",
      "[129]\tvalidation_0-rmse:175.865\n",
      "[130]\tvalidation_0-rmse:175.786\n",
      "[131]\tvalidation_0-rmse:175.744\n",
      "[132]\tvalidation_0-rmse:175.675\n",
      "[133]\tvalidation_0-rmse:175.614\n",
      "[134]\tvalidation_0-rmse:175.563\n",
      "[135]\tvalidation_0-rmse:175.505\n",
      "[136]\tvalidation_0-rmse:175.446\n",
      "[137]\tvalidation_0-rmse:175.389\n",
      "[138]\tvalidation_0-rmse:175.344\n",
      "[139]\tvalidation_0-rmse:175.275\n",
      "[140]\tvalidation_0-rmse:175.215\n",
      "[141]\tvalidation_0-rmse:175.191\n",
      "[142]\tvalidation_0-rmse:175.147\n",
      "[143]\tvalidation_0-rmse:175.094\n",
      "[144]\tvalidation_0-rmse:175.046\n",
      "[145]\tvalidation_0-rmse:174.997\n",
      "[146]\tvalidation_0-rmse:174.961\n",
      "[147]\tvalidation_0-rmse:174.921\n",
      "[148]\tvalidation_0-rmse:174.879\n",
      "[149]\tvalidation_0-rmse:174.815\n",
      "[150]\tvalidation_0-rmse:174.77\n",
      "[151]\tvalidation_0-rmse:174.742\n",
      "[152]\tvalidation_0-rmse:174.713\n",
      "[153]\tvalidation_0-rmse:174.673\n",
      "[154]\tvalidation_0-rmse:174.647\n",
      "[155]\tvalidation_0-rmse:174.614\n",
      "[156]\tvalidation_0-rmse:174.602\n",
      "[157]\tvalidation_0-rmse:174.572\n",
      "[158]\tvalidation_0-rmse:174.522\n",
      "[159]\tvalidation_0-rmse:174.489\n",
      "[160]\tvalidation_0-rmse:174.455\n",
      "[161]\tvalidation_0-rmse:174.414\n",
      "[162]\tvalidation_0-rmse:174.391\n",
      "[163]\tvalidation_0-rmse:174.344\n",
      "[164]\tvalidation_0-rmse:174.294\n",
      "[165]\tvalidation_0-rmse:174.264\n",
      "[166]\tvalidation_0-rmse:174.247\n",
      "[167]\tvalidation_0-rmse:174.228\n",
      "[168]\tvalidation_0-rmse:174.215\n",
      "[169]\tvalidation_0-rmse:174.183\n",
      "[170]\tvalidation_0-rmse:174.148\n",
      "[171]\tvalidation_0-rmse:174.145\n",
      "[172]\tvalidation_0-rmse:174.119\n",
      "[173]\tvalidation_0-rmse:174.081\n",
      "[174]\tvalidation_0-rmse:174.041\n",
      "[175]\tvalidation_0-rmse:174.006\n",
      "[176]\tvalidation_0-rmse:173.981\n",
      "[177]\tvalidation_0-rmse:173.953\n",
      "[178]\tvalidation_0-rmse:173.941\n",
      "[179]\tvalidation_0-rmse:173.912\n",
      "[180]\tvalidation_0-rmse:173.902\n",
      "[181]\tvalidation_0-rmse:173.884\n",
      "[182]\tvalidation_0-rmse:173.87\n",
      "[183]\tvalidation_0-rmse:173.857\n",
      "[184]\tvalidation_0-rmse:173.833\n",
      "[185]\tvalidation_0-rmse:173.818\n",
      "[186]\tvalidation_0-rmse:173.799\n",
      "[187]\tvalidation_0-rmse:173.787\n",
      "[188]\tvalidation_0-rmse:173.766\n",
      "[189]\tvalidation_0-rmse:173.75\n",
      "[190]\tvalidation_0-rmse:173.736\n",
      "[191]\tvalidation_0-rmse:173.712\n",
      "[192]\tvalidation_0-rmse:173.696\n",
      "[193]\tvalidation_0-rmse:173.684\n",
      "[194]\tvalidation_0-rmse:173.662\n",
      "[195]\tvalidation_0-rmse:173.664\n",
      "[196]\tvalidation_0-rmse:173.639\n",
      "[197]\tvalidation_0-rmse:173.604\n",
      "[198]\tvalidation_0-rmse:173.601\n",
      "[199]\tvalidation_0-rmse:173.597\n",
      "[200]\tvalidation_0-rmse:173.568\n",
      "[201]\tvalidation_0-rmse:173.553\n",
      "[202]\tvalidation_0-rmse:173.533\n",
      "[203]\tvalidation_0-rmse:173.544\n",
      "[204]\tvalidation_0-rmse:173.535\n",
      "[205]\tvalidation_0-rmse:173.528\n",
      "[206]\tvalidation_0-rmse:173.515\n",
      "[207]\tvalidation_0-rmse:173.512\n",
      "[208]\tvalidation_0-rmse:173.503\n",
      "[209]\tvalidation_0-rmse:173.5\n",
      "[210]\tvalidation_0-rmse:173.495\n",
      "[211]\tvalidation_0-rmse:173.494\n",
      "[212]\tvalidation_0-rmse:173.478\n",
      "[213]\tvalidation_0-rmse:173.474\n",
      "[214]\tvalidation_0-rmse:173.468\n",
      "[215]\tvalidation_0-rmse:173.463\n",
      "[216]\tvalidation_0-rmse:173.447\n",
      "[217]\tvalidation_0-rmse:173.461\n",
      "[218]\tvalidation_0-rmse:173.464\n",
      "[219]\tvalidation_0-rmse:173.473\n",
      "[220]\tvalidation_0-rmse:173.485\n",
      "[221]\tvalidation_0-rmse:173.475\n",
      "[222]\tvalidation_0-rmse:173.466\n",
      "[223]\tvalidation_0-rmse:173.444\n",
      "[224]\tvalidation_0-rmse:173.452\n",
      "[225]\tvalidation_0-rmse:173.447\n",
      "[226]\tvalidation_0-rmse:173.412\n",
      "[227]\tvalidation_0-rmse:173.414\n",
      "[228]\tvalidation_0-rmse:173.411\n",
      "[229]\tvalidation_0-rmse:173.407\n",
      "[230]\tvalidation_0-rmse:173.396\n",
      "[231]\tvalidation_0-rmse:173.395\n",
      "[232]\tvalidation_0-rmse:173.389\n",
      "[233]\tvalidation_0-rmse:173.398\n",
      "[234]\tvalidation_0-rmse:173.407\n",
      "[235]\tvalidation_0-rmse:173.411\n",
      "[236]\tvalidation_0-rmse:173.408\n",
      "[237]\tvalidation_0-rmse:173.407\n",
      "[238]\tvalidation_0-rmse:173.413\n",
      "[239]\tvalidation_0-rmse:173.408\n",
      "[240]\tvalidation_0-rmse:173.382\n",
      "[241]\tvalidation_0-rmse:173.398\n",
      "[242]\tvalidation_0-rmse:173.414\n",
      "[243]\tvalidation_0-rmse:173.413\n",
      "[244]\tvalidation_0-rmse:173.411\n",
      "[245]\tvalidation_0-rmse:173.412\n",
      "[246]\tvalidation_0-rmse:173.426\n",
      "[247]\tvalidation_0-rmse:173.417\n",
      "[248]\tvalidation_0-rmse:173.429\n",
      "[249]\tvalidation_0-rmse:173.419\n",
      "[250]\tvalidation_0-rmse:173.442\n",
      "[251]\tvalidation_0-rmse:173.439\n",
      "[252]\tvalidation_0-rmse:173.437\n",
      "[253]\tvalidation_0-rmse:173.416\n",
      "[254]\tvalidation_0-rmse:173.413\n",
      "[255]\tvalidation_0-rmse:173.418\n",
      "[256]\tvalidation_0-rmse:173.408\n",
      "[257]\tvalidation_0-rmse:173.416\n",
      "[258]\tvalidation_0-rmse:173.422\n"
     ]
    },
    {
     "name": "stdout",
     "output_type": "stream",
     "text": [
      "[259]\tvalidation_0-rmse:173.414\n",
      "[260]\tvalidation_0-rmse:173.409\n",
      "[261]\tvalidation_0-rmse:173.392\n",
      "[262]\tvalidation_0-rmse:173.392\n",
      "[263]\tvalidation_0-rmse:173.379\n",
      "[264]\tvalidation_0-rmse:173.387\n",
      "[265]\tvalidation_0-rmse:173.388\n",
      "[266]\tvalidation_0-rmse:173.385\n",
      "[267]\tvalidation_0-rmse:173.403\n",
      "[268]\tvalidation_0-rmse:173.407\n",
      "[269]\tvalidation_0-rmse:173.383\n",
      "[270]\tvalidation_0-rmse:173.379\n",
      "[271]\tvalidation_0-rmse:173.378\n",
      "[272]\tvalidation_0-rmse:173.357\n",
      "272 173.357254\n"
     ]
    }
   ],
   "source": [
    "#max_depth = 10\n",
    "#min_child_weight = 1\n",
    "#colsample_bytree = 0.7\n",
    "#subsample = 1.0\n",
    "\n",
    "metaxgb = xgb.XGBRegressor( \n",
    "                        learning_rate = 0.01,\n",
    "                        n_estimators = 273,\n",
    "                        max_depth = 7,\n",
    "                        min_child_weight = 3,\n",
    "                        subsample = 0.6549,\n",
    "                        colsample_bytree = 0.6415,\n",
    "                        objective = 'reg:linear',\n",
    "                        reg_alpha= 0.9357,\n",
    "                        reg_lambda = 0.1225,\n",
    "                        gamma = 0.863,\n",
    "                        seed = 27)\n",
    "metaxgb.fit(ensX, ensy, \n",
    "                 eval_set=[(finX, finy)], \n",
    "                 eval_metric='rmse',\n",
    "                 early_stopping_rounds=100,                 \n",
    "                 verbose=True)\n",
    "\n",
    "print(metaxgb.best_iteration, metaxgb.best_score)"
   ]
  },
  {
   "cell_type": "code",
   "execution_count": 294,
   "metadata": {
    "scrolled": true
   },
   "outputs": [
    {
     "name": "stdout",
     "output_type": "stream",
     "text": [
      "R2 Train: 0.521547316982\n",
      "RMSE Train: 143.4764199951282\n",
      "MAE Train:  55.0388936994\n",
      "RMSE Val: 173.35725489025108\n",
      "MAE Val:  61.9974401949\n"
     ]
    }
   ],
   "source": [
    "y_true, y_pred = ensy, metaxgb.predict(ensX)\n",
    "y_true2, y_pred2 = finy, metaxgb.predict(finX)\n",
    "# y_true = inv_boxcox(y_true, lmda)\n",
    "# y_pred = inv_boxcox(y_pred, lmda)\n",
    "# y_true2 = inv_boxcox(y_true2, lmda)\n",
    "# y_pred2 = inv_boxcox(y_pred2, lmda)\n",
    "print('R2 Train: ' + str(r2_score(y_true, y_pred)))\n",
    "rmse = math.sqrt(mean_squared_error(y_true, y_pred))\n",
    "print('RMSE Train: ' + str(rmse))\n",
    "mae = mean_absolute_error(y_true, y_pred)\n",
    "print('MAE Train: ', mae)\n",
    "rmse = math.sqrt(mean_squared_error(y_true2, y_pred2))\n",
    "print('RMSE Val: ' + str(rmse))\n",
    "mae = mean_absolute_error(y_true2, y_pred2)\n",
    "print('MAE Val: ', mae)\n",
    "\n",
    "\n",
    "\n",
    "testing = pd.DataFrame({'true':y_true2[:,0], 'pred':y_pred2})\n"
   ]
  },
  {
   "cell_type": "code",
   "execution_count": 295,
   "metadata": {},
   "outputs": [
    {
     "data": {
      "image/png": "[encoded data removed]",
      "text/plain": [
       "<matplotlib.figure.Figure at 0x37408f28>"
      ]
     },
     "metadata": {},
     "output_type": "display_data"
    },
    {
     "name": "stdout",
     "output_type": "stream",
     "text": [
      "Anderson-Darling: 2967.901625361992 Critical Value: 0.787 \n"
     ]
    },
    {
     "data": {
      "image/png": "[encoded data removed]",
      "text/plain": [
       "<matplotlib.figure.Figure at 0x2390bd30>"
      ]
     },
     "metadata": {},
     "output_type": "display_data"
    }
   ],
   "source": [
    "\n",
    "testing['resid'] = testing['pred']-testing['true']\n",
    "testing['stdresid'] = testing['resid']/np.std(testing['resid'])\n",
    "\n",
    "plt.plot(testing['stdresid'], '.', alpha = 0.5, color='black')\n",
    "plt.axhline(y=0, color = 'green')\n",
    "plt.axhline(y=2, color = 'blue', linestyle='--')\n",
    "plt.axhline(y=-2, color = 'blue', linestyle='--')\n",
    "plt.axhline(y=3, color = 'red', linestyle='--')\n",
    "plt.axhline(y=-3, color = 'red', linestyle='--')\n",
    "\n",
    "plt.title('Standardized Residuals')\n",
    "plt.ylabel('Standard Deviations')\n",
    "plt.xlabel('Observation Number')\n",
    "plt.show()\n",
    "\n",
    "stat, cv, sig = stats.anderson(testing['stdresid'], 'norm')\n",
    "print('Anderson-Darling: {} Critical Value: {} '.format(stat, cv[2]))\n",
    "\n",
    "plt.hist(testing['stdresid'], bins=25)\n",
    "plt.show()\n"
   ]
  },
  {
   "cell_type": "code",
   "execution_count": 108,
   "metadata": {},
   "outputs": [
    {
     "data": {
      "text/plain": [
       "((31954,), (31954,), (15978,))"
      ]
     },
     "execution_count": 108,
     "metadata": {},
     "output_type": "execute_result"
    }
   ],
   "source": [
    "train_y.shape, val_y.shape, test_y.shape"
   ]
  },
  {
   "cell_type": "code",
   "execution_count": null,
   "metadata": {
    "collapsed": true
   },
   "outputs": [],
   "source": []
  },
  {
   "cell_type": "code",
   "execution_count": null,
   "metadata": {
    "collapsed": true
   },
   "outputs": [],
   "source": []
  },
  {
   "cell_type": "code",
   "execution_count": 52,
   "metadata": {
    "collapsed": true
   },
   "outputs": [],
   "source": [
    "testing['decile'] = pd.qcut(testing['pred'], 10, labels=False)\n",
    "testing.to_csv('predictiontesting.csv')                        "
   ]
  }
 ],
 "metadata": {
  "kernelspec": {
   "display_name": "Python 3",
   "language": "python",
   "name": "python3"
  },
  "language_info": {
   "codemirror_mode": {
    "name": "ipython",
    "version": 3
   },
   "file_extension": ".py",
   "mimetype": "text/x-python",
   "name": "python",
   "nbconvert_exporter": "python",
   "pygments_lexer": "ipython3",
   "version": "3.6.1"
  }
 },
 "nbformat": 4,
 "nbformat_minor": 2
}

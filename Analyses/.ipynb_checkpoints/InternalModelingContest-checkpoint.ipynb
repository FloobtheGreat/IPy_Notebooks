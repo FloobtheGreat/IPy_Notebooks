{
 "cells": [
  {
   "cell_type": "code",
   "execution_count": 4,
   "metadata": {},
   "outputs": [],
   "source": [
    "import sys\n",
    "import importlib as imp\n",
    "sys.path.insert(0, r\"C:\\users\\pairwin\\Documents\\Github\\HelperPI\")\n",
    "#sys.path.insert(0, r'/home/pirwin/Git/HelperPI')\n",
    "#imp.reload(HelperPI)\n",
    "import HelperPI\n",
    "import itertools\n",
    "import seaborn as sns\n",
    "import pandas as pd\n",
    "import scipy.stats as stats\n",
    "from scipy.special import inv_boxcox\n",
    "from scipy.stats.distributions import uniform, lognorm\n",
    "import matplotlib.pyplot as plt\n",
    "import matplotlib\n",
    "import statsmodels.formula.api as sts\n",
    "import numpy as np\n",
    "import math\n",
    "import xgboost as xgb\n",
    "from sklearn.ensemble import RandomForestRegressor\n",
    "from sklearn.preprocessing import Imputer, MinMaxScaler\n",
    "from sklearn.model_selection import GridSearchCV, cross_val_score, RandomizedSearchCV\n",
    "from sklearn.externals import joblib\n",
    "from sklearn.preprocessing import StandardScaler, Normalizer, RobustScaler\n",
    "from scipy import interp\n",
    "from sklearn.metrics import r2_score, mean_squared_error, mean_absolute_error\n",
    "from sklearn.linear_model import LinearRegression, LassoLars, HuberRegressor, ElasticNet, Ridge\n",
    "from sklearn.svm import LinearSVR\n",
    "from sklearn.kernel_ridge import KernelRidge\n",
    "from time import time\n",
    "from sklearn.neural_network import MLPRegressor\n",
    "from sklearn.feature_selection import SelectKBest, f_regression\n",
    "import lightgbm as lgbm\n",
    "import tensorflow as tf\n",
    "\n",
    "%matplotlib inline\n",
    "\n",
    "matplotlib.rcParams['figure.figsize'] = (11,8)\n",
    "\n",
    "pd.options.mode.chained_assignment = None\n",
    "pd.options.display.max_columns = 999\n"
   ]
  },
  {
   "cell_type": "code",
   "execution_count": 5,
   "metadata": {},
   "outputs": [
    {
     "name": "stderr",
     "output_type": "stream",
     "text": [
      "INFO:root:Initializing...\n"
     ]
    }
   ],
   "source": [
    "helper = HelperPI.Helper()"
   ]
  },
  {
   "cell_type": "code",
   "execution_count": 6,
   "metadata": {
    "scrolled": true
   },
   "outputs": [
    {
     "name": "stderr",
     "output_type": "stream",
     "text": [
      "INFO:root:Reading data...\n",
      "INFO:root:Data read complete...\n",
      "INFO:root:Read: 80000 rows.\n"
     ]
    },
    {
     "name": "stdout",
     "output_type": "stream",
     "text": [
      "                           Count Column Type\n",
      "0                      LAST_NAME      object\n",
      "1                 ADDRESS_LINE_1      object\n",
      "2                 ADDRESS_LINE_2      object\n",
      "3                      CITY_NAME      object\n",
      "4                     STATE_CODE      object\n",
      "5                   COUNTRY_CODE      object\n",
      "6                            ZIP      object\n",
      "7                        ZIP_EXT      object\n",
      "8                      SALES_R12     float64\n",
      "9                      SALES_R24     float64\n",
      "10                     SALES_R48     float64\n",
      "11                     SALES_RLT     float64\n",
      "12       FISHING_MARINE_SALES_LT     float64\n",
      "13  CAMPING_WATERSPORTS_SALES_LT     float64\n",
      "14    HUNTING_HUNTCLOTH_SALES_LT     float64\n",
      "15             FOOTWEAR_SALES_LT     float64\n",
      "16             SHOOTING_SALES_LT     float64\n",
      "17                 GIFT_SALES_LT     float64\n",
      "18              APPAREL_SALES_LT     float64\n",
      "19                OTHER_SALES_LT     float64\n",
      "20                     VISITS_LT     float64\n",
      "21              FISH_MARINE_PERC     float64\n",
      "22      CAMPING_WATERSPORTS_PERC     float64\n",
      "23                  HUNTING_PERC     float64\n",
      "24                 FOOTWEAR_PERC     float64\n",
      "25                 SHOOTING_PERC     float64\n",
      "26                     GIFT_PERC     float64\n",
      "27                  APPAREL_PERC     float64\n",
      "28                    OTHER_PERC     float64\n",
      "29           DAYS_SINCE_PURCHASE     float64\n",
      "30              DAYS_AS_CUSTOMER     float64\n",
      "31              REWARDS_CUSTOMER       int64\n",
      "32                     YOY_TREND     float64\n",
      "33              SALES_TARGET_N12     float64\n"
     ]
    }
   ],
   "source": [
    "sql = helper.getSQL(path=r'C:\\Users\\pairwin\\Documents\\GitHub\\IPy_Notebooks\\SQL\\Contest_Sql.sql')\n",
    "base, dtypedf = helper.readData(sql)"
   ]
  },
  {
   "cell_type": "code",
   "execution_count": 7,
   "metadata": {},
   "outputs": [
    {
     "data": {
      "text/html": [
       "<div>\n",
       "<style>\n",
       "    .dataframe thead tr:only-child th {\n",
       "        text-align: right;\n",
       "    }\n",
       "\n",
       "    .dataframe thead th {\n",
       "        text-align: left;\n",
       "    }\n",
       "\n",
       "    .dataframe tbody tr th {\n",
       "        vertical-align: top;\n",
       "    }\n",
       "</style>\n",
       "<table border=\"1\" class=\"dataframe\">\n",
       "  <thead>\n",
       "    <tr style=\"text-align: right;\">\n",
       "      <th></th>\n",
       "      <th>SALES_R12</th>\n",
       "      <th>SALES_R24</th>\n",
       "      <th>SALES_R48</th>\n",
       "      <th>SALES_RLT</th>\n",
       "      <th>FISHING_MARINE_SALES_LT</th>\n",
       "      <th>CAMPING_WATERSPORTS_SALES_LT</th>\n",
       "      <th>HUNTING_HUNTCLOTH_SALES_LT</th>\n",
       "      <th>FOOTWEAR_SALES_LT</th>\n",
       "      <th>SHOOTING_SALES_LT</th>\n",
       "      <th>GIFT_SALES_LT</th>\n",
       "      <th>APPAREL_SALES_LT</th>\n",
       "      <th>OTHER_SALES_LT</th>\n",
       "      <th>VISITS_LT</th>\n",
       "      <th>FISH_MARINE_PERC</th>\n",
       "      <th>CAMPING_WATERSPORTS_PERC</th>\n",
       "      <th>HUNTING_PERC</th>\n",
       "      <th>FOOTWEAR_PERC</th>\n",
       "      <th>SHOOTING_PERC</th>\n",
       "      <th>GIFT_PERC</th>\n",
       "      <th>APPAREL_PERC</th>\n",
       "      <th>OTHER_PERC</th>\n",
       "      <th>DAYS_SINCE_PURCHASE</th>\n",
       "      <th>DAYS_AS_CUSTOMER</th>\n",
       "      <th>REWARDS_CUSTOMER</th>\n",
       "      <th>YOY_TREND</th>\n",
       "      <th>SALES_TARGET_N12</th>\n",
       "    </tr>\n",
       "  </thead>\n",
       "  <tbody>\n",
       "    <tr>\n",
       "      <th>count</th>\n",
       "      <td>79886.000000</td>\n",
       "      <td>79886.000000</td>\n",
       "      <td>79886.000000</td>\n",
       "      <td>79886.000000</td>\n",
       "      <td>79886.000000</td>\n",
       "      <td>79886.000000</td>\n",
       "      <td>79886.000000</td>\n",
       "      <td>79886.000000</td>\n",
       "      <td>79886.000000</td>\n",
       "      <td>79886.000000</td>\n",
       "      <td>79886.000000</td>\n",
       "      <td>79886.000000</td>\n",
       "      <td>79886.000000</td>\n",
       "      <td>79867.000000</td>\n",
       "      <td>79867.000000</td>\n",
       "      <td>79867.000000</td>\n",
       "      <td>79867.000000</td>\n",
       "      <td>79867.000000</td>\n",
       "      <td>79867.000000</td>\n",
       "      <td>79867.000000</td>\n",
       "      <td>79867.000000</td>\n",
       "      <td>79867.000000</td>\n",
       "      <td>79867.000000</td>\n",
       "      <td>79886.000000</td>\n",
       "      <td>79886.000000</td>\n",
       "      <td>79886.000000</td>\n",
       "    </tr>\n",
       "    <tr>\n",
       "      <th>mean</th>\n",
       "      <td>82.792064</td>\n",
       "      <td>167.983857</td>\n",
       "      <td>339.163032</td>\n",
       "      <td>673.742892</td>\n",
       "      <td>186.434994</td>\n",
       "      <td>61.770801</td>\n",
       "      <td>137.455222</td>\n",
       "      <td>48.638592</td>\n",
       "      <td>97.440698</td>\n",
       "      <td>31.447705</td>\n",
       "      <td>99.426281</td>\n",
       "      <td>11.128599</td>\n",
       "      <td>6.908632</td>\n",
       "      <td>0.209205</td>\n",
       "      <td>0.104324</td>\n",
       "      <td>0.152432</td>\n",
       "      <td>0.082415</td>\n",
       "      <td>0.110229</td>\n",
       "      <td>0.114998</td>\n",
       "      <td>0.206606</td>\n",
       "      <td>0.019790</td>\n",
       "      <td>951.794621</td>\n",
       "      <td>1993.146857</td>\n",
       "      <td>0.388103</td>\n",
       "      <td>0.046828</td>\n",
       "      <td>55.083669</td>\n",
       "    </tr>\n",
       "    <tr>\n",
       "      <th>std</th>\n",
       "      <td>256.107998</td>\n",
       "      <td>484.623457</td>\n",
       "      <td>842.554856</td>\n",
       "      <td>1826.393811</td>\n",
       "      <td>901.209978</td>\n",
       "      <td>207.923251</td>\n",
       "      <td>538.890977</td>\n",
       "      <td>145.242442</td>\n",
       "      <td>435.147834</td>\n",
       "      <td>104.617323</td>\n",
       "      <td>298.725027</td>\n",
       "      <td>60.128022</td>\n",
       "      <td>18.064832</td>\n",
       "      <td>0.328262</td>\n",
       "      <td>0.230661</td>\n",
       "      <td>0.271785</td>\n",
       "      <td>0.203035</td>\n",
       "      <td>0.251376</td>\n",
       "      <td>0.251354</td>\n",
       "      <td>0.310046</td>\n",
       "      <td>0.101232</td>\n",
       "      <td>424.658836</td>\n",
       "      <td>1214.127811</td>\n",
       "      <td>0.487321</td>\n",
       "      <td>4.614572</td>\n",
       "      <td>197.899435</td>\n",
       "    </tr>\n",
       "    <tr>\n",
       "      <th>min</th>\n",
       "      <td>0.000000</td>\n",
       "      <td>0.000000</td>\n",
       "      <td>0.590000</td>\n",
       "      <td>0.000000</td>\n",
       "      <td>0.000000</td>\n",
       "      <td>0.000000</td>\n",
       "      <td>0.000000</td>\n",
       "      <td>0.000000</td>\n",
       "      <td>0.000000</td>\n",
       "      <td>0.000000</td>\n",
       "      <td>0.000000</td>\n",
       "      <td>0.000000</td>\n",
       "      <td>0.000000</td>\n",
       "      <td>0.000000</td>\n",
       "      <td>0.000000</td>\n",
       "      <td>0.000000</td>\n",
       "      <td>0.000000</td>\n",
       "      <td>0.000000</td>\n",
       "      <td>0.000000</td>\n",
       "      <td>0.000000</td>\n",
       "      <td>0.000000</td>\n",
       "      <td>365.000000</td>\n",
       "      <td>365.000000</td>\n",
       "      <td>0.000000</td>\n",
       "      <td>-1.000000</td>\n",
       "      <td>0.000000</td>\n",
       "    </tr>\n",
       "    <tr>\n",
       "      <th>25%</th>\n",
       "      <td>0.000000</td>\n",
       "      <td>0.000000</td>\n",
       "      <td>35.920000</td>\n",
       "      <td>48.622500</td>\n",
       "      <td>0.000000</td>\n",
       "      <td>0.000000</td>\n",
       "      <td>0.000000</td>\n",
       "      <td>0.000000</td>\n",
       "      <td>0.000000</td>\n",
       "      <td>0.000000</td>\n",
       "      <td>0.000000</td>\n",
       "      <td>0.000000</td>\n",
       "      <td>1.000000</td>\n",
       "      <td>0.000000</td>\n",
       "      <td>0.000000</td>\n",
       "      <td>0.000000</td>\n",
       "      <td>0.000000</td>\n",
       "      <td>0.000000</td>\n",
       "      <td>0.000000</td>\n",
       "      <td>0.000000</td>\n",
       "      <td>0.000000</td>\n",
       "      <td>577.000000</td>\n",
       "      <td>1026.000000</td>\n",
       "      <td>0.000000</td>\n",
       "      <td>-0.936329</td>\n",
       "      <td>0.000000</td>\n",
       "    </tr>\n",
       "    <tr>\n",
       "      <th>50%</th>\n",
       "      <td>0.000000</td>\n",
       "      <td>31.055000</td>\n",
       "      <td>95.980000</td>\n",
       "      <td>147.265000</td>\n",
       "      <td>0.000000</td>\n",
       "      <td>0.000000</td>\n",
       "      <td>0.000000</td>\n",
       "      <td>0.000000</td>\n",
       "      <td>0.000000</td>\n",
       "      <td>1.690000</td>\n",
       "      <td>10.000000</td>\n",
       "      <td>0.000000</td>\n",
       "      <td>2.000000</td>\n",
       "      <td>0.000000</td>\n",
       "      <td>0.000000</td>\n",
       "      <td>0.000000</td>\n",
       "      <td>0.000000</td>\n",
       "      <td>0.000000</td>\n",
       "      <td>0.005394</td>\n",
       "      <td>0.026786</td>\n",
       "      <td>0.000000</td>\n",
       "      <td>874.000000</td>\n",
       "      <td>1593.000000</td>\n",
       "      <td>0.000000</td>\n",
       "      <td>0.000000</td>\n",
       "      <td>0.000000</td>\n",
       "    </tr>\n",
       "    <tr>\n",
       "      <th>75%</th>\n",
       "      <td>57.970000</td>\n",
       "      <td>139.530000</td>\n",
       "      <td>282.555000</td>\n",
       "      <td>518.072500</td>\n",
       "      <td>75.980000</td>\n",
       "      <td>32.950000</td>\n",
       "      <td>58.177500</td>\n",
       "      <td>29.950000</td>\n",
       "      <td>21.990000</td>\n",
       "      <td>20.830000</td>\n",
       "      <td>79.977500</td>\n",
       "      <td>0.000000</td>\n",
       "      <td>6.000000</td>\n",
       "      <td>0.324014</td>\n",
       "      <td>0.078758</td>\n",
       "      <td>0.192007</td>\n",
       "      <td>0.048013</td>\n",
       "      <td>0.049707</td>\n",
       "      <td>0.081060</td>\n",
       "      <td>0.301717</td>\n",
       "      <td>0.000000</td>\n",
       "      <td>1294.000000</td>\n",
       "      <td>3015.000000</td>\n",
       "      <td>1.000000</td>\n",
       "      <td>0.000000</td>\n",
       "      <td>0.000000</td>\n",
       "    </tr>\n",
       "    <tr>\n",
       "      <th>max</th>\n",
       "      <td>12852.800000</td>\n",
       "      <td>52563.430000</td>\n",
       "      <td>58373.910000</td>\n",
       "      <td>129722.800000</td>\n",
       "      <td>128329.100000</td>\n",
       "      <td>20524.390000</td>\n",
       "      <td>30163.340000</td>\n",
       "      <td>4778.870000</td>\n",
       "      <td>43336.380000</td>\n",
       "      <td>4157.470000</td>\n",
       "      <td>19823.710000</td>\n",
       "      <td>2829.240000</td>\n",
       "      <td>1012.000000</td>\n",
       "      <td>1.000000</td>\n",
       "      <td>1.000000</td>\n",
       "      <td>1.000000</td>\n",
       "      <td>1.000000</td>\n",
       "      <td>1.000000</td>\n",
       "      <td>1.000000</td>\n",
       "      <td>1.000000</td>\n",
       "      <td>1.000000</td>\n",
       "      <td>4002.000000</td>\n",
       "      <td>4329.000000</td>\n",
       "      <td>1.000000</td>\n",
       "      <td>824.386243</td>\n",
       "      <td>2851.730000</td>\n",
       "    </tr>\n",
       "  </tbody>\n",
       "</table>\n",
       "</div>"
      ],
      "text/plain": [
       "          SALES_R12     SALES_R24     SALES_R48      SALES_RLT  \\\n",
       "count  79886.000000  79886.000000  79886.000000   79886.000000   \n",
       "mean      82.792064    167.983857    339.163032     673.742892   \n",
       "std      256.107998    484.623457    842.554856    1826.393811   \n",
       "min        0.000000      0.000000      0.590000       0.000000   \n",
       "25%        0.000000      0.000000     35.920000      48.622500   \n",
       "50%        0.000000     31.055000     95.980000     147.265000   \n",
       "75%       57.970000    139.530000    282.555000     518.072500   \n",
       "max    12852.800000  52563.430000  58373.910000  129722.800000   \n",
       "\n",
       "       FISHING_MARINE_SALES_LT  CAMPING_WATERSPORTS_SALES_LT  \\\n",
       "count             79886.000000                  79886.000000   \n",
       "mean                186.434994                     61.770801   \n",
       "std                 901.209978                    207.923251   \n",
       "min                   0.000000                      0.000000   \n",
       "25%                   0.000000                      0.000000   \n",
       "50%                   0.000000                      0.000000   \n",
       "75%                  75.980000                     32.950000   \n",
       "max              128329.100000                  20524.390000   \n",
       "\n",
       "       HUNTING_HUNTCLOTH_SALES_LT  FOOTWEAR_SALES_LT  SHOOTING_SALES_LT  \\\n",
       "count                79886.000000       79886.000000       79886.000000   \n",
       "mean                   137.455222          48.638592          97.440698   \n",
       "std                    538.890977         145.242442         435.147834   \n",
       "min                      0.000000           0.000000           0.000000   \n",
       "25%                      0.000000           0.000000           0.000000   \n",
       "50%                      0.000000           0.000000           0.000000   \n",
       "75%                     58.177500          29.950000          21.990000   \n",
       "max                  30163.340000        4778.870000       43336.380000   \n",
       "\n",
       "       GIFT_SALES_LT  APPAREL_SALES_LT  OTHER_SALES_LT     VISITS_LT  \\\n",
       "count   79886.000000      79886.000000    79886.000000  79886.000000   \n",
       "mean       31.447705         99.426281       11.128599      6.908632   \n",
       "std       104.617323        298.725027       60.128022     18.064832   \n",
       "min         0.000000          0.000000        0.000000      0.000000   \n",
       "25%         0.000000          0.000000        0.000000      1.000000   \n",
       "50%         1.690000         10.000000        0.000000      2.000000   \n",
       "75%        20.830000         79.977500        0.000000      6.000000   \n",
       "max      4157.470000      19823.710000     2829.240000   1012.000000   \n",
       "\n",
       "       FISH_MARINE_PERC  CAMPING_WATERSPORTS_PERC  HUNTING_PERC  \\\n",
       "count      79867.000000              79867.000000  79867.000000   \n",
       "mean           0.209205                  0.104324      0.152432   \n",
       "std            0.328262                  0.230661      0.271785   \n",
       "min            0.000000                  0.000000      0.000000   \n",
       "25%            0.000000                  0.000000      0.000000   \n",
       "50%            0.000000                  0.000000      0.000000   \n",
       "75%            0.324014                  0.078758      0.192007   \n",
       "max            1.000000                  1.000000      1.000000   \n",
       "\n",
       "       FOOTWEAR_PERC  SHOOTING_PERC     GIFT_PERC  APPAREL_PERC    OTHER_PERC  \\\n",
       "count   79867.000000   79867.000000  79867.000000  79867.000000  79867.000000   \n",
       "mean        0.082415       0.110229      0.114998      0.206606      0.019790   \n",
       "std         0.203035       0.251376      0.251354      0.310046      0.101232   \n",
       "min         0.000000       0.000000      0.000000      0.000000      0.000000   \n",
       "25%         0.000000       0.000000      0.000000      0.000000      0.000000   \n",
       "50%         0.000000       0.000000      0.005394      0.026786      0.000000   \n",
       "75%         0.048013       0.049707      0.081060      0.301717      0.000000   \n",
       "max         1.000000       1.000000      1.000000      1.000000      1.000000   \n",
       "\n",
       "       DAYS_SINCE_PURCHASE  DAYS_AS_CUSTOMER  REWARDS_CUSTOMER     YOY_TREND  \\\n",
       "count         79867.000000      79867.000000      79886.000000  79886.000000   \n",
       "mean            951.794621       1993.146857          0.388103      0.046828   \n",
       "std             424.658836       1214.127811          0.487321      4.614572   \n",
       "min             365.000000        365.000000          0.000000     -1.000000   \n",
       "25%             577.000000       1026.000000          0.000000     -0.936329   \n",
       "50%             874.000000       1593.000000          0.000000      0.000000   \n",
       "75%            1294.000000       3015.000000          1.000000      0.000000   \n",
       "max            4002.000000       4329.000000          1.000000    824.386243   \n",
       "\n",
       "       SALES_TARGET_N12  \n",
       "count      79886.000000  \n",
       "mean          55.083669  \n",
       "std          197.899435  \n",
       "min            0.000000  \n",
       "25%            0.000000  \n",
       "50%            0.000000  \n",
       "75%            0.000000  \n",
       "max         2851.730000  "
      ]
     },
     "execution_count": 7,
     "metadata": {},
     "output_type": "execute_result"
    }
   ],
   "source": [
    "mean = np.mean(base['SALES_TARGET_N12'])\n",
    "std = np.std(base['SALES_TARGET_N12'])\n",
    "mean, std\n",
    "\n",
    "base = base[base['SALES_TARGET_N12'] < mean+std*10]\n",
    "\n",
    "#base['SALES_TARGET_N12_CBRT'], lmda = stats.boxcox(base['SALES_TARGET_N12'])\n",
    "base.describe()"
   ]
  },
  {
   "cell_type": "code",
   "execution_count": 8,
   "metadata": {
    "collapsed": true
   },
   "outputs": [],
   "source": [
    "# plt.hist(base['SALES_TARGET_N12_CBRT'], bins=20)\n",
    "# plt.show()\n",
    "# print(lmda)"
   ]
  },
  {
   "cell_type": "code",
   "execution_count": 9,
   "metadata": {},
   "outputs": [
    {
     "data": {
      "text/plain": [
       "count    79886.000000\n",
       "mean        55.083669\n",
       "std        197.899435\n",
       "min          0.000000\n",
       "25%          0.000000\n",
       "50%          0.000000\n",
       "75%          0.000000\n",
       "max       2851.730000\n",
       "Name: SALES_TARGET_N12, dtype: float64"
      ]
     },
     "execution_count": 9,
     "metadata": {},
     "output_type": "execute_result"
    }
   ],
   "source": [
    "base['SALES_TARGET_N12'].describe()"
   ]
  },
  {
   "cell_type": "code",
   "execution_count": 10,
   "metadata": {
    "collapsed": true
   },
   "outputs": [],
   "source": [
    "collist = ['SALES_R12','SALES_R24','SALES_R48','SALES_RLT','FISHING_MARINE_SALES_LT','CAMPING_WATERSPORTS_SALES_LT',\n",
    "         'HUNTING_HUNTCLOTH_SALES_LT','FOOTWEAR_SALES_LT','SHOOTING_SALES_LT','GIFT_SALES_LT','APPAREL_SALES_LT',\n",
    "         'OTHER_SALES_LT','VISITS_LT','FISH_MARINE_PERC','CAMPING_WATERSPORTS_PERC','HUNTING_PERC','FOOTWEAR_PERC',\n",
    "         'SHOOTING_PERC','GIFT_PERC','APPAREL_PERC','OTHER_PERC','DAYS_SINCE_PURCHASE','DAYS_AS_CUSTOMER','REWARDS_CUSTOMER',\n",
    "         'YOY_TREND','SALES_TARGET_N12']\n",
    "collist_X = ['SALES_R12','SALES_R24','SALES_R48','SALES_RLT','FISHING_MARINE_SALES_LT','CAMPING_WATERSPORTS_SALES_LT',\n",
    "         'HUNTING_HUNTCLOTH_SALES_LT','FOOTWEAR_SALES_LT','SHOOTING_SALES_LT','GIFT_SALES_LT','APPAREL_SALES_LT',\n",
    "         'OTHER_SALES_LT','VISITS_LT','FISH_MARINE_PERC','CAMPING_WATERSPORTS_PERC','HUNTING_PERC','FOOTWEAR_PERC',\n",
    "         'SHOOTING_PERC','GIFT_PERC','APPAREL_PERC','OTHER_PERC','DAYS_SINCE_PURCHASE','DAYS_AS_CUSTOMER','REWARDS_CUSTOMER',\n",
    "         'YOY_TREND']\n",
    "#collist_y = ['SALES_TARGET_N12_CBRT']\n",
    "collist_y = ['SALES_TARGET_N12']"
   ]
  },
  {
   "cell_type": "code",
   "execution_count": 11,
   "metadata": {},
   "outputs": [
    {
     "name": "stdout",
     "output_type": "stream",
     "text": [
      "(31954, 26) (31954, 26) (15978, 26)\n"
     ]
    },
    {
     "name": "stderr",
     "output_type": "stream",
     "text": [
      "C:\\ProgramData\\Anaconda3\\lib\\site-packages\\scipy\\stats\\stats.py:5277: RuntimeWarning: invalid value encountered in less\n",
      "  x = np.where(x < 1.0, x, 1.0)  # if x > 1 then return 1.0\n"
     ]
    }
   ],
   "source": [
    "train, test = helper.splitData(base[collist], .8)\n",
    "\n",
    "train, val = helper.splitData(train, 0.5)\n",
    "\n",
    "print(train.shape, val.shape, test.shape)\n",
    "\n",
    "train_X = train[collist_X]\n",
    "\n",
    "train_y = train[collist_y].as_matrix().ravel()\n",
    "val_X = val[collist_X]\n",
    "val_y = val[collist_y].as_matrix().ravel()\n",
    "test_X = test[collist_X]\n",
    "test_y = test[collist_y].as_matrix().ravel()\n",
    "\n",
    "\n",
    "interactions = helper.find_iteractions(train_X, train_y)\n",
    "interactions.to_csv('interactions.csv')"
   ]
  },
  {
   "cell_type": "code",
   "execution_count": 12,
   "metadata": {},
   "outputs": [
    {
     "data": {
      "image/png": "[encoded data removed]",
      "text/plain": [
       "<matplotlib.figure.Figure at 0x34125da0>"
      ]
     },
     "metadata": {},
     "output_type": "display_data"
    }
   ],
   "source": [
    "plt.hist(train_y, bins = 10)\n",
    "plt.show()"
   ]
  },
  {
   "cell_type": "code",
   "execution_count": 13,
   "metadata": {
    "collapsed": true
   },
   "outputs": [],
   "source": [
    "collist_X = ['SALES_R12','SALES_R24','SALES_R48','SALES_RLT','FISHING_MARINE_SALES_LT','CAMPING_WATERSPORTS_SALES_LT',\n",
    "         'HUNTING_HUNTCLOTH_SALES_LT','FOOTWEAR_SALES_LT','SHOOTING_SALES_LT','GIFT_SALES_LT','APPAREL_SALES_LT',\n",
    "         'OTHER_SALES_LT','VISITS_LT','FISH_MARINE_PERC','CAMPING_WATERSPORTS_PERC','HUNTING_PERC','FOOTWEAR_PERC',\n",
    "         'SHOOTING_PERC','GIFT_PERC','APPAREL_PERC','OTHER_PERC','DAYS_SINCE_PURCHASE','DAYS_AS_CUSTOMER','REWARDS_CUSTOMER',\n",
    "         'YOY_TREND', 'SALES_R12*REWARDS_CUSTOMER']\n",
    "\n",
    "train_X['SALES_R12*REWARDS_CUSTOMER'] = train_X['SALES_R12']*train_X['REWARDS_CUSTOMER']\n",
    "val_X['SALES_R12*REWARDS_CUSTOMER'] = val_X['SALES_R12']*val_X['REWARDS_CUSTOMER']\n",
    "test_X['SALES_R12*REWARDS_CUSTOMER'] = test_X['SALES_R12']*test_X['REWARDS_CUSTOMER']\n",
    "\n",
    "imr = Imputer(missing_values='NaN',strategy='median',axis=0)\n",
    "imr = imr.fit(train_X)\n",
    "\n",
    "train_X = pd.DataFrame(imr.transform(train_X.values), columns = collist_X)\n",
    "val_X = pd.DataFrame(imr.transform(val_X.values), columns = collist_X)\n",
    "test_X = pd.DataFrame(imr.transform(test_X.values), columns = collist_X)\n",
    "\n",
    "stdsc = StandardScaler()\n",
    "stdsc.fit(train_X)\n",
    "\n",
    "train_X = pd.DataFrame(stdsc.transform(train_X.values), columns = collist_X)\n",
    "val_X = pd.DataFrame(stdsc.transform(val_X.values), columns = collist_X)\n",
    "test_X = pd.DataFrame(stdsc.transform(test_X.values), columns = collist_X)\n",
    "\n",
    "for var in collist_X:\n",
    "    name = var + '_cbrt'\n",
    "    train_X[name] = np.cbrt(train_X[var])\n",
    "    val_X[name] = np.cbrt(val_X[var])\n",
    "    test_X[name] = np.cbrt(test_X[var])\n",
    "    name = var + '_sq'\n",
    "    train_X[name] = np.power(train_X[var], 2)\n",
    "    val_X[name] = np.power(val_X[var], 2)\n",
    "    test_X[name] = np.power(test_X[var], 2)\n",
    "   \n",
    "    \n",
    "collist_X_expanded = train_X.columns.values\n"
   ]
  },
  {
   "cell_type": "code",
   "execution_count": 14,
   "metadata": {
    "collapsed": true
   },
   "outputs": [],
   "source": [
    "collist_X_expanded = collist_X_expanded.tolist()"
   ]
  },
  {
   "cell_type": "code",
   "execution_count": 15,
   "metadata": {},
   "outputs": [
    {
     "data": {
      "text/html": [
       "<div>\n",
       "<style>\n",
       "    .dataframe thead tr:only-child th {\n",
       "        text-align: right;\n",
       "    }\n",
       "\n",
       "    .dataframe thead th {\n",
       "        text-align: left;\n",
       "    }\n",
       "\n",
       "    .dataframe tbody tr th {\n",
       "        vertical-align: top;\n",
       "    }\n",
       "</style>\n",
       "<table border=\"1\" class=\"dataframe\">\n",
       "  <thead>\n",
       "    <tr style=\"text-align: right;\">\n",
       "      <th></th>\n",
       "      <th>column_name</th>\n",
       "      <th>missing_count</th>\n",
       "      <th>missing_ratio</th>\n",
       "    </tr>\n",
       "  </thead>\n",
       "  <tbody>\n",
       "  </tbody>\n",
       "</table>\n",
       "</div>"
      ],
      "text/plain": [
       "Empty DataFrame\n",
       "Columns: [column_name, missing_count, missing_ratio]\n",
       "Index: []"
      ]
     },
     "execution_count": 15,
     "metadata": {},
     "output_type": "execute_result"
    }
   ],
   "source": [
    "missing_df = train_X.isnull().sum(axis=0).reset_index()\n",
    "missing_df.columns = ['column_name', 'missing_count']\n",
    "missing_df['missing_ratio'] = missing_df['missing_count'] / train_X.shape[0]\n",
    "missing_df.loc[missing_df['missing_ratio']>0.01]\n",
    "\n"
   ]
  },
  {
   "cell_type": "code",
   "execution_count": null,
   "metadata": {
    "collapsed": true
   },
   "outputs": [],
   "source": []
  },
  {
   "cell_type": "code",
   "execution_count": 16,
   "metadata": {},
   "outputs": [
    {
     "name": "stdout",
     "output_type": "stream",
     "text": [
      "Anderson-Darling: 8201.074519303162 Critical Value: 0.787 \n",
      "train_y is not normally distributed\n"
     ]
    },
    {
     "data": {
      "image/png": "[encoded data removed]",
      "text/plain": [
       "<matplotlib.figure.Figure at 0x2aa1a400>"
      ]
     },
     "metadata": {},
     "output_type": "display_data"
    }
   ],
   "source": [
    "stat, cv, sig = stats.anderson(train_y, 'norm')\n",
    "print('Anderson-Darling: {} Critical Value: {} '.format(stat, cv[2]))\n",
    "if stat > cv[2]:\n",
    "    print('train_y is not normally distributed')\n",
    "else:\n",
    "    print('train_y is normally distributed')\n",
    "plt.hist(train_y, bins=25)\n",
    "plt.show()"
   ]
  },
  {
   "cell_type": "code",
   "execution_count": 17,
   "metadata": {
    "scrolled": false
   },
   "outputs": [
    {
     "name": "stdout",
     "output_type": "stream",
     "text": [
      "                                      APPAREL_PERC Corr Coef:   -0.04 - pval:  0.0000\n",
      "                                 APPAREL_PERC_cbrt Corr Coef:   -0.03 - pval:  0.0000\n",
      "                                   APPAREL_PERC_sq Corr Coef:   -0.09 - pval:  0.0000\n",
      "                                  APPAREL_SALES_LT Corr Coef:    0.31 - pval:  0.0000\n",
      "                             APPAREL_SALES_LT_cbrt Corr Coef:    0.32 - pval:  0.0000\n",
      "                               APPAREL_SALES_LT_sq Corr Coef:    0.08 - pval:  0.0000\n",
      "                          CAMPING_WATERSPORTS_PERC Corr Coef:   -0.01 - pval:  0.0109\n",
      "                     CAMPING_WATERSPORTS_PERC_cbrt Corr Coef:    0.03 - pval:  0.0000\n",
      "                       CAMPING_WATERSPORTS_PERC_sq Corr Coef:   -0.05 - pval:  0.0000\n",
      "                      CAMPING_WATERSPORTS_SALES_LT Corr Coef:    0.28 - pval:  0.0000\n",
      "                 CAMPING_WATERSPORTS_SALES_LT_cbrt Corr Coef:    0.31 - pval:  0.0000\n",
      "                   CAMPING_WATERSPORTS_SALES_LT_sq Corr Coef:    0.03 - pval:  0.0000\n",
      "                                  DAYS_AS_CUSTOMER Corr Coef:    0.17 - pval:  0.0000\n",
      "                             DAYS_AS_CUSTOMER_cbrt Corr Coef:    0.16 - pval:  0.0000\n",
      "                               DAYS_AS_CUSTOMER_sq Corr Coef:    0.18 - pval:  0.0000\n",
      "                               DAYS_SINCE_PURCHASE Corr Coef:   -0.24 - pval:  0.0000\n",
      "                          DAYS_SINCE_PURCHASE_cbrt Corr Coef:   -0.22 - pval:  0.0000\n",
      "                            DAYS_SINCE_PURCHASE_sq Corr Coef:    0.06 - pval:  0.0000\n",
      "                                  FISH_MARINE_PERC Corr Coef:    0.06 - pval:  0.0000\n",
      "                             FISH_MARINE_PERC_cbrt Corr Coef:    0.09 - pval:  0.0000\n",
      "                               FISH_MARINE_PERC_sq Corr Coef:   -0.02 - pval:  0.0001\n",
      "                           FISHING_MARINE_SALES_LT Corr Coef:    0.28 - pval:  0.0000\n",
      "                      FISHING_MARINE_SALES_LT_cbrt Corr Coef:    0.36 - pval:  0.0000\n",
      "                        FISHING_MARINE_SALES_LT_sq Corr Coef:    0.04 - pval:  0.0000\n",
      "                                     FOOTWEAR_PERC Corr Coef:   -0.01 - pval:  0.0345\n",
      "                                FOOTWEAR_PERC_cbrt Corr Coef:    0.05 - pval:  0.0000\n",
      "                                  FOOTWEAR_PERC_sq Corr Coef:   -0.05 - pval:  0.0000\n",
      "                                 FOOTWEAR_SALES_LT Corr Coef:    0.34 - pval:  0.0000\n",
      "                            FOOTWEAR_SALES_LT_cbrt Corr Coef:     0.3 - pval:  0.0000\n",
      "                              FOOTWEAR_SALES_LT_sq Corr Coef:    0.17 - pval:  0.0000\n",
      "                                         GIFT_PERC Corr Coef:   -0.07 - pval:  0.0000\n",
      "                                    GIFT_PERC_cbrt Corr Coef:   -0.06 - pval:  0.0000\n",
      "                                      GIFT_PERC_sq Corr Coef:   -0.07 - pval:  0.0000\n",
      "                                     GIFT_SALES_LT Corr Coef:    0.29 - pval:  0.0000\n",
      "                                GIFT_SALES_LT_cbrt Corr Coef:    0.29 - pval:  0.0000\n",
      "                                  GIFT_SALES_LT_sq Corr Coef:    0.13 - pval:  0.0000\n",
      "                        HUNTING_HUNTCLOTH_SALES_LT Corr Coef:    0.33 - pval:  0.0000\n",
      "                   HUNTING_HUNTCLOTH_SALES_LT_cbrt Corr Coef:    0.33 - pval:  0.0000\n",
      "                     HUNTING_HUNTCLOTH_SALES_LT_sq Corr Coef:    0.12 - pval:  0.0000\n",
      "                                      HUNTING_PERC Corr Coef:    0.04 - pval:  0.0000\n",
      "                                 HUNTING_PERC_cbrt Corr Coef:    0.09 - pval:  0.0000\n",
      "                                   HUNTING_PERC_sq Corr Coef:   -0.04 - pval:  0.0000\n",
      "                                        OTHER_PERC Corr Coef:    -0.0 - pval:  0.5858\n",
      "                                   OTHER_PERC_cbrt Corr Coef:    0.06 - pval:  0.0000\n",
      "                                     OTHER_PERC_sq Corr Coef:   -0.02 - pval:  0.0005\n",
      "                                    OTHER_SALES_LT Corr Coef:    0.19 - pval:  0.0000\n",
      "                               OTHER_SALES_LT_cbrt Corr Coef:    0.24 - pval:  0.0000\n",
      "                                 OTHER_SALES_LT_sq Corr Coef:    0.09 - pval:  0.0000\n",
      "                                  REWARDS_CUSTOMER Corr Coef:    0.26 - pval:  0.0000\n",
      "                             REWARDS_CUSTOMER_cbrt Corr Coef:    0.26 - pval:  0.0000\n",
      "                               REWARDS_CUSTOMER_sq Corr Coef:    0.26 - pval:  0.0000\n",
      "                                         SALES_R12 Corr Coef:    0.48 - pval:  0.0000\n",
      "                        SALES_R12*REWARDS_CUSTOMER Corr Coef:    0.49 - pval:  0.0000\n",
      "                   SALES_R12*REWARDS_CUSTOMER_cbrt Corr Coef:    0.46 - pval:  0.0000\n",
      "                     SALES_R12*REWARDS_CUSTOMER_sq Corr Coef:    0.31 - pval:  0.0000\n",
      "                                    SALES_R12_cbrt Corr Coef:    0.43 - pval:  0.0000\n",
      "                                      SALES_R12_sq Corr Coef:     0.3 - pval:  0.0000\n",
      "                                         SALES_R24 Corr Coef:    0.42 - pval:  0.0000\n",
      "                                    SALES_R24_cbrt Corr Coef:    0.44 - pval:  0.0000\n",
      "                                      SALES_R24_sq Corr Coef:    0.04 - pval:  0.0000\n",
      "                                         SALES_R48 Corr Coef:    0.48 - pval:  0.0000\n",
      "                                    SALES_R48_cbrt Corr Coef:    0.44 - pval:  0.0000\n",
      "                                      SALES_R48_sq Corr Coef:    0.11 - pval:  0.0000\n",
      "                                         SALES_RLT Corr Coef:    0.42 - pval:  0.0000\n",
      "                                    SALES_RLT_cbrt Corr Coef:    0.42 - pval:  0.0000\n",
      "                                      SALES_RLT_sq Corr Coef:    0.11 - pval:  0.0000\n",
      "                                     SHOOTING_PERC Corr Coef:    0.02 - pval:  0.0001\n",
      "                                SHOOTING_PERC_cbrt Corr Coef:    0.07 - pval:  0.0000\n",
      "                                  SHOOTING_PERC_sq Corr Coef:   -0.03 - pval:  0.0000\n",
      "                                 SHOOTING_SALES_LT Corr Coef:    0.28 - pval:  0.0000\n",
      "                            SHOOTING_SALES_LT_cbrt Corr Coef:    0.29 - pval:  0.0000\n",
      "                              SHOOTING_SALES_LT_sq Corr Coef:    0.14 - pval:  0.0000\n",
      "                                         VISITS_LT Corr Coef:    0.37 - pval:  0.0000\n",
      "                                    VISITS_LT_cbrt Corr Coef:     0.4 - pval:  0.0000\n",
      "                                      VISITS_LT_sq Corr Coef:     0.1 - pval:  0.0000\n",
      "                                         YOY_TREND Corr Coef:    0.05 - pval:  0.0000\n",
      "                                    YOY_TREND_cbrt Corr Coef:    0.17 - pval:  0.0000\n",
      "                                      YOY_TREND_sq Corr Coef:     0.0 - pval:  0.6035\n"
     ]
    }
   ],
   "source": [
    "matplotlib.rcParams['figure.figsize'] = (5,2)\n",
    "\n",
    "#collist_X_expanded.remove('VISITS_LT_sqrt')\n",
    "#collist_X_expanded.remove('YOY_TREND_log')\n",
    "\n",
    "\n",
    "train_X = train_X[collist_X_expanded]\n",
    "\n",
    "collist_X_expanded = sorted(collist_X_expanded, key=str.lower)\n",
    "\n",
    "\n",
    "\n",
    "for var in collist_X_expanded: \n",
    "    vardf = train_X[var]\n",
    "    #print(vardf.head())\n",
    "    coef, pval = stats.pearsonr(vardf.as_matrix(), train_y)\n",
    "    print('%50s Corr Coef: %7s - pval:  %.4f' % (var, str(round(coef,2)), pval))\n",
    "    #plt.hist(train_X[var], bins = 100)\n",
    "    #plt.show()\n",
    "    \n",
    "matplotlib.rcParams['figure.figsize'] = (11,8)"
   ]
  },
  {
   "cell_type": "code",
   "execution_count": 18,
   "metadata": {
    "collapsed": true
   },
   "outputs": [],
   "source": [
    "collist_X_expanded = ['APPAREL_SALES_LT','CAMPING_WATERSPORTS_PERC_sq','CAMPING_WATERSPORTS_SALES_LT','DAYS_AS_CUSTOMER',\n",
    "                      'DAYS_SINCE_PURCHASE','FISH_MARINE_PERC_cbrt','FISHING_MARINE_SALES_LT','FOOTWEAR_PERC_cbrt',\n",
    "                      'FOOTWEAR_SALES_LT','GIFT_PERC','GIFT_SALES_LT','HUNTING_HUNTCLOTH_SALES_LT','HUNTING_PERC_cbrt',\n",
    "                      'OTHER_PERC_cbrt','OTHER_SALES_LT_cbrt','REWARDS_CUSTOMER','SALES_R12','SALES_R12*REWARDS_CUSTOMER',\n",
    "                      'SALES_R24','SALES_R48','SALES_RLT','SHOOTING_PERC_cbrt','SHOOTING_SALES_LT','VISITS_LT_cbrt',\n",
    "                      'YOY_TREND_cbrt']\n",
    "train_X = train_X[collist_X_expanded]"
   ]
  },
  {
   "cell_type": "code",
   "execution_count": 19,
   "metadata": {
    "scrolled": true
   },
   "outputs": [
    {
     "data": {
      "image/png": "[encoded data removed]",
      "text/plain": [
       "<matplotlib.figure.Figure at 0x3468c908>"
      ]
     },
     "metadata": {},
     "output_type": "display_data"
    }
   ],
   "source": [
    "feat_labels = np.asarray(collist_X_expanded)\n",
    "\n",
    "forests = RandomForestRegressor(n_estimators=100,\n",
    "                                random_state=0,\n",
    "                                n_jobs=-1)\n",
    "forests.fit(train_X, train_y)\n",
    "importances = forests.feature_importances_\n",
    "indices = np.argsort(importances)[::-1]\n",
    "# for f in range(train_X2.shape[1]):\n",
    "#     print(\"%2d) %-*s %f\" % (f + 1, 30, feat_labels[indices[f]],\n",
    "#                                       importances[indices[f]]))\n",
    "    \n",
    "plt.title('Feature Importance')\n",
    "plt.bar(range(train_X.shape[1]), importances[indices], color='lightblue', align='center')\n",
    "plt.xticks(range(train_X.shape[1]), feat_labels[indices], rotation=90)\n",
    "plt.xlim([-1, train_X.shape[1]])\n",
    "plt.tight_layout()\n",
    "plt.show()"
   ]
  },
  {
   "cell_type": "code",
   "execution_count": 20,
   "metadata": {},
   "outputs": [
    {
     "data": {
      "text/plain": [
       "array(['APPAREL_SALES_LT', 'CAMPING_WATERSPORTS_SALES_LT',\n",
       "       'FISHING_MARINE_SALES_LT', 'FOOTWEAR_SALES_LT', 'GIFT_SALES_LT',\n",
       "       'HUNTING_HUNTCLOTH_SALES_LT', 'OTHER_SALES_LT_cbrt',\n",
       "       'REWARDS_CUSTOMER', 'SALES_R12', 'SALES_R12*REWARDS_CUSTOMER',\n",
       "       'SALES_R24', 'SALES_R48', 'SALES_RLT', 'SHOOTING_SALES_LT',\n",
       "       'VISITS_LT_cbrt'],\n",
       "      dtype='<U28')"
      ]
     },
     "execution_count": 20,
     "metadata": {},
     "output_type": "execute_result"
    }
   ],
   "source": [
    "slct = SelectKBest(f_regression, k=15)\n",
    "slct.fit(train_X, train_y)\n",
    "selected = slct.get_support()\n",
    "\n",
    "feat_labels2 = feat_labels[selected]\n",
    "feat_labels2"
   ]
  },
  {
   "cell_type": "markdown",
   "metadata": {},
   "source": [
    "### Calculate Feature Correlations and VIF scores"
   ]
  },
  {
   "cell_type": "code",
   "execution_count": 21,
   "metadata": {
    "scrolled": false
   },
   "outputs": [
    {
     "name": "stdout",
     "output_type": "stream",
     "text": [
      "    VIF Factor                       feature\n",
      "9     2.737289                     SALES_R24\n",
      "11    2.532373                VISITS_LT_cbrt\n",
      "3     2.172197             FOOTWEAR_SALES_LT\n",
      "8     2.136891    SALES_R12*REWARDS_CUSTOMER\n",
      "5     2.029339    HUNTING_HUNTCLOTH_SALES_LT\n",
      "2     1.953993       FISHING_MARINE_SALES_LT\n",
      "1     1.863048  CAMPING_WATERSPORTS_SALES_LT\n",
      "0     1.812108              APPAREL_SALES_LT\n",
      "6     1.611570           OTHER_SALES_LT_cbrt\n",
      "4     1.587089                 GIFT_SALES_LT\n",
      "10    1.456091             SHOOTING_SALES_LT\n",
      "7     1.379583              REWARDS_CUSTOMER\n"
     ]
    },
    {
     "data": {
      "image/png": "[encoded data removed]",
      "text/plain": [
       "<matplotlib.figure.Figure at 0x34115d68>"
      ]
     },
     "metadata": {},
     "output_type": "display_data"
    }
   ],
   "source": [
    "collist_X2 = ['APPAREL_SALES_LT', 'CAMPING_WATERSPORTS_SALES_LT',\n",
    "       'FISHING_MARINE_SALES_LT', 'FOOTWEAR_SALES_LT', 'GIFT_SALES_LT',\n",
    "       'HUNTING_HUNTCLOTH_SALES_LT', 'OTHER_SALES_LT_cbrt',\n",
    "       'REWARDS_CUSTOMER', 'SALES_R12*REWARDS_CUSTOMER',\n",
    "       'SALES_R24', 'SHOOTING_SALES_LT',\n",
    "       'VISITS_LT_cbrt']\n",
    "\n",
    "#collist_X2 = feat_labels2.tolist()\n",
    "\n",
    "train_X2 = train_X[collist_X2]\n",
    "    \n",
    "corr = train_X2.corr()\n",
    "\n",
    "# Generate a mask for the upper triangle\n",
    "mask = np.zeros_like(corr, dtype=np.bool)\n",
    "mask[np.triu_indices_from(mask)] = True\n",
    "\n",
    "# Set up the matplotlib figure\n",
    "f, ax = plt.subplots(figsize=(11, 9))\n",
    "\n",
    "# Generate a custom diverging colormap\n",
    "cmap = sns.diverging_palette(250, 10, as_cmap=True)\n",
    "\n",
    "# Draw the heatmap with the mask and correct aspect ratio\n",
    "sns.heatmap(corr,  cmap=cmap, vmax=.99, center=0,\n",
    "            square=True, linewidths=.5, cbar_kws={\"shrink\": .5})\n",
    "\n",
    "\n",
    "print(helper.calc_VIFs(train_X2))"
   ]
  },
  {
   "cell_type": "code",
   "execution_count": null,
   "metadata": {
    "collapsed": true
   },
   "outputs": [],
   "source": []
  },
  {
   "cell_type": "code",
   "execution_count": null,
   "metadata": {
    "collapsed": true
   },
   "outputs": [],
   "source": []
  },
  {
   "cell_type": "code",
   "execution_count": 22,
   "metadata": {},
   "outputs": [
    {
     "name": "stdout",
     "output_type": "stream",
     "text": [
      "Parameter search took 832.47 seconds for 200 candidate parameter settings.\n",
      "Best Mean validation score: -26116.171 (std: 699.254)\n",
      "Parameters: {'colsample_bytree': 0.74290101336902692, 'gamma': 1.8759549864242049, 'learning_rate': 0.041979921052183171, 'max_depth': 5, 'min_child_weight': 9, 'objective': 'reg:linear', 'reg_alpha': 0.74610391841710699, 'reg_lambda': 0.39772365636506002, 'subsample': 0.50957248212590511}\n"
     ]
    }
   ],
   "source": [
    "param_test1 = {\n",
    "     'learning_rate':uniform(0.01,0.09),\n",
    "     'max_depth':list(range(5,20)),\n",
    "     'min_child_weight':list(range(1,10)),\n",
    "     'colsample_bytree': uniform(0.5,0.4),\n",
    "     'subsample': uniform(0.5,0.4),\n",
    "     'reg_alpha': uniform(0.1, 0.9),\n",
    "     'reg_lambda': uniform(0.1, 0.9),\n",
    "     'objective':['reg:linear'],\n",
    "     'gamma':lognorm(0.1, 1.0)\n",
    "}\n",
    "\n",
    "\n",
    "gsearch1 = RandomizedSearchCV(estimator = xgb.XGBRegressor(), \n",
    "                              param_distributions = param_test1, \n",
    "                              scoring='neg_mean_squared_error',\n",
    "                              n_jobs=-1,\n",
    "                              n_iter=200,\n",
    "                              cv=5)\n",
    "start = time()\n",
    "gsearch1.fit(train_X2.values, train_y)\n",
    "\n",
    "print(\"Parameter search took %.2f seconds for %d candidate parameter settings.\"\n",
    "      % (time() - start, len(gsearch1.cv_results_['params'])))\n",
    "\n",
    "helper.report(gsearch1)    "
   ]
  },
  {
   "cell_type": "code",
   "execution_count": 23,
   "metadata": {
    "scrolled": true
   },
   "outputs": [
    {
     "name": "stdout",
     "output_type": "stream",
     "text": [
      "[0]\tvalidation_0-rmse:199.349\tvalidation_1-rmse:202.097\tvalidation_2-rmse:210.781\n",
      "Multiple eval metrics have been passed: 'validation_2-rmse' will be used for early stopping.\n",
      "\n",
      "Will train until validation_2-rmse hasn't improved in 100 rounds.\n",
      "[1]\tvalidation_0-rmse:197.38\tvalidation_1-rmse:200.301\tvalidation_2-rmse:208.844\n",
      "[2]\tvalidation_0-rmse:194.956\tvalidation_1-rmse:198.029\tvalidation_2-rmse:206.536\n",
      "[3]\tvalidation_0-rmse:192.714\tvalidation_1-rmse:195.906\tvalidation_2-rmse:204.332\n",
      "[4]\tvalidation_0-rmse:190.512\tvalidation_1-rmse:193.896\tvalidation_2-rmse:202.154\n",
      "[5]\tvalidation_0-rmse:188.539\tvalidation_1-rmse:192.013\tvalidation_2-rmse:200.264\n",
      "[6]\tvalidation_0-rmse:186.56\tvalidation_1-rmse:190.219\tvalidation_2-rmse:198.35\n",
      "[7]\tvalidation_0-rmse:184.715\tvalidation_1-rmse:188.507\tvalidation_2-rmse:196.568\n",
      "[8]\tvalidation_0-rmse:182.9\tvalidation_1-rmse:186.832\tvalidation_2-rmse:194.782\n",
      "[9]\tvalidation_0-rmse:181.189\tvalidation_1-rmse:185.26\tvalidation_2-rmse:193.171\n",
      "[10]\tvalidation_0-rmse:179.889\tvalidation_1-rmse:184.171\tvalidation_2-rmse:192.036\n",
      "[11]\tvalidation_0-rmse:178.753\tvalidation_1-rmse:183.215\tvalidation_2-rmse:191.024\n",
      "[12]\tvalidation_0-rmse:177.264\tvalidation_1-rmse:181.921\tvalidation_2-rmse:189.628\n",
      "[13]\tvalidation_0-rmse:175.808\tvalidation_1-rmse:180.701\tvalidation_2-rmse:188.338\n",
      "[14]\tvalidation_0-rmse:174.525\tvalidation_1-rmse:179.601\tvalidation_2-rmse:187.109\n",
      "[15]\tvalidation_0-rmse:173.32\tvalidation_1-rmse:178.545\tvalidation_2-rmse:186.009\n",
      "[16]\tvalidation_0-rmse:172.442\tvalidation_1-rmse:177.847\tvalidation_2-rmse:185.264\n",
      "[17]\tvalidation_0-rmse:171.314\tvalidation_1-rmse:176.836\tvalidation_2-rmse:184.174\n",
      "[18]\tvalidation_0-rmse:170.173\tvalidation_1-rmse:175.84\tvalidation_2-rmse:183.164\n",
      "[19]\tvalidation_0-rmse:169.075\tvalidation_1-rmse:174.943\tvalidation_2-rmse:182.109\n",
      "[20]\tvalidation_0-rmse:168.096\tvalidation_1-rmse:174.089\tvalidation_2-rmse:181.3\n",
      "[21]\tvalidation_0-rmse:167.087\tvalidation_1-rmse:173.225\tvalidation_2-rmse:180.358\n",
      "[22]\tvalidation_0-rmse:166.159\tvalidation_1-rmse:172.437\tvalidation_2-rmse:179.518\n",
      "[23]\tvalidation_0-rmse:165.36\tvalidation_1-rmse:171.797\tvalidation_2-rmse:178.771\n",
      "[24]\tvalidation_0-rmse:164.8\tvalidation_1-rmse:171.355\tvalidation_2-rmse:178.278\n",
      "[25]\tvalidation_0-rmse:164.016\tvalidation_1-rmse:170.698\tvalidation_2-rmse:177.585\n",
      "[26]\tvalidation_0-rmse:163.348\tvalidation_1-rmse:170.143\tvalidation_2-rmse:176.995\n",
      "[27]\tvalidation_0-rmse:162.649\tvalidation_1-rmse:169.563\tvalidation_2-rmse:176.359\n",
      "[28]\tvalidation_0-rmse:162.068\tvalidation_1-rmse:169.143\tvalidation_2-rmse:175.909\n",
      "[29]\tvalidation_0-rmse:161.412\tvalidation_1-rmse:168.619\tvalidation_2-rmse:175.352\n",
      "[30]\tvalidation_0-rmse:160.845\tvalidation_1-rmse:168.167\tvalidation_2-rmse:174.859\n",
      "[31]\tvalidation_0-rmse:160.3\tvalidation_1-rmse:167.685\tvalidation_2-rmse:174.294\n",
      "[32]\tvalidation_0-rmse:159.902\tvalidation_1-rmse:167.432\tvalidation_2-rmse:174.071\n",
      "[33]\tvalidation_0-rmse:159.372\tvalidation_1-rmse:167.12\tvalidation_2-rmse:173.75\n",
      "[34]\tvalidation_0-rmse:158.829\tvalidation_1-rmse:166.676\tvalidation_2-rmse:173.303\n",
      "[35]\tvalidation_0-rmse:158.365\tvalidation_1-rmse:166.305\tvalidation_2-rmse:172.924\n",
      "[36]\tvalidation_0-rmse:157.997\tvalidation_1-rmse:166.113\tvalidation_2-rmse:172.714\n",
      "[37]\tvalidation_0-rmse:157.585\tvalidation_1-rmse:165.809\tvalidation_2-rmse:172.422\n",
      "[38]\tvalidation_0-rmse:157.194\tvalidation_1-rmse:165.552\tvalidation_2-rmse:172.182\n",
      "[39]\tvalidation_0-rmse:156.786\tvalidation_1-rmse:165.29\tvalidation_2-rmse:171.881\n",
      "[40]\tvalidation_0-rmse:156.523\tvalidation_1-rmse:165.164\tvalidation_2-rmse:171.699\n",
      "[41]\tvalidation_0-rmse:156.177\tvalidation_1-rmse:164.976\tvalidation_2-rmse:171.446\n",
      "[42]\tvalidation_0-rmse:155.878\tvalidation_1-rmse:164.714\tvalidation_2-rmse:171.178\n",
      "[43]\tvalidation_0-rmse:155.643\tvalidation_1-rmse:164.578\tvalidation_2-rmse:171.059\n",
      "[44]\tvalidation_0-rmse:155.346\tvalidation_1-rmse:164.466\tvalidation_2-rmse:170.91\n",
      "[45]\tvalidation_0-rmse:155.076\tvalidation_1-rmse:164.276\tvalidation_2-rmse:170.719\n",
      "[46]\tvalidation_0-rmse:154.78\tvalidation_1-rmse:164.218\tvalidation_2-rmse:170.63\n",
      "[47]\tvalidation_0-rmse:154.579\tvalidation_1-rmse:164.152\tvalidation_2-rmse:170.504\n",
      "[48]\tvalidation_0-rmse:154.367\tvalidation_1-rmse:164.047\tvalidation_2-rmse:170.403\n",
      "[49]\tvalidation_0-rmse:154.119\tvalidation_1-rmse:163.834\tvalidation_2-rmse:170.184\n",
      "[50]\tvalidation_0-rmse:153.968\tvalidation_1-rmse:163.737\tvalidation_2-rmse:170.103\n",
      "[51]\tvalidation_0-rmse:153.697\tvalidation_1-rmse:163.614\tvalidation_2-rmse:169.943\n",
      "[52]\tvalidation_0-rmse:153.507\tvalidation_1-rmse:163.505\tvalidation_2-rmse:169.846\n",
      "[53]\tvalidation_0-rmse:153.285\tvalidation_1-rmse:163.372\tvalidation_2-rmse:169.677\n",
      "[54]\tvalidation_0-rmse:153.163\tvalidation_1-rmse:163.312\tvalidation_2-rmse:169.598\n",
      "[55]\tvalidation_0-rmse:152.944\tvalidation_1-rmse:163.221\tvalidation_2-rmse:169.446\n",
      "[56]\tvalidation_0-rmse:152.769\tvalidation_1-rmse:163.094\tvalidation_2-rmse:169.418\n",
      "[57]\tvalidation_0-rmse:152.643\tvalidation_1-rmse:163.057\tvalidation_2-rmse:169.382\n",
      "[58]\tvalidation_0-rmse:152.35\tvalidation_1-rmse:162.894\tvalidation_2-rmse:169.244\n",
      "[59]\tvalidation_0-rmse:152.145\tvalidation_1-rmse:162.801\tvalidation_2-rmse:169.126\n",
      "[60]\tvalidation_0-rmse:151.963\tvalidation_1-rmse:162.709\tvalidation_2-rmse:169.017\n",
      "[61]\tvalidation_0-rmse:151.805\tvalidation_1-rmse:162.601\tvalidation_2-rmse:168.84\n",
      "[62]\tvalidation_0-rmse:151.566\tvalidation_1-rmse:162.496\tvalidation_2-rmse:168.773\n",
      "[63]\tvalidation_0-rmse:151.378\tvalidation_1-rmse:162.423\tvalidation_2-rmse:168.713\n",
      "[64]\tvalidation_0-rmse:151.216\tvalidation_1-rmse:162.337\tvalidation_2-rmse:168.638\n",
      "[65]\tvalidation_0-rmse:151.075\tvalidation_1-rmse:162.255\tvalidation_2-rmse:168.528\n",
      "[66]\tvalidation_0-rmse:150.926\tvalidation_1-rmse:162.226\tvalidation_2-rmse:168.556\n",
      "[67]\tvalidation_0-rmse:150.805\tvalidation_1-rmse:162.14\tvalidation_2-rmse:168.468\n",
      "[68]\tvalidation_0-rmse:150.701\tvalidation_1-rmse:162.127\tvalidation_2-rmse:168.4\n",
      "[69]\tvalidation_0-rmse:150.551\tvalidation_1-rmse:162.01\tvalidation_2-rmse:168.315\n",
      "[70]\tvalidation_0-rmse:150.43\tvalidation_1-rmse:162.032\tvalidation_2-rmse:168.303\n",
      "[71]\tvalidation_0-rmse:150.318\tvalidation_1-rmse:161.958\tvalidation_2-rmse:168.309\n",
      "[72]\tvalidation_0-rmse:150.176\tvalidation_1-rmse:161.947\tvalidation_2-rmse:168.32\n",
      "[73]\tvalidation_0-rmse:150.079\tvalidation_1-rmse:161.911\tvalidation_2-rmse:168.27\n",
      "[74]\tvalidation_0-rmse:149.953\tvalidation_1-rmse:161.904\tvalidation_2-rmse:168.245\n",
      "[75]\tvalidation_0-rmse:149.795\tvalidation_1-rmse:161.839\tvalidation_2-rmse:168.166\n",
      "[76]\tvalidation_0-rmse:149.661\tvalidation_1-rmse:161.809\tvalidation_2-rmse:168.097\n",
      "[77]\tvalidation_0-rmse:149.527\tvalidation_1-rmse:161.76\tvalidation_2-rmse:168.053\n",
      "[78]\tvalidation_0-rmse:149.44\tvalidation_1-rmse:161.762\tvalidation_2-rmse:167.995\n",
      "[79]\tvalidation_0-rmse:149.32\tvalidation_1-rmse:161.753\tvalidation_2-rmse:167.985\n",
      "[80]\tvalidation_0-rmse:149.214\tvalidation_1-rmse:161.758\tvalidation_2-rmse:168.013\n",
      "[81]\tvalidation_0-rmse:149.054\tvalidation_1-rmse:161.727\tvalidation_2-rmse:167.957\n",
      "[82]\tvalidation_0-rmse:148.878\tvalidation_1-rmse:161.656\tvalidation_2-rmse:167.931\n",
      "[83]\tvalidation_0-rmse:148.81\tvalidation_1-rmse:161.653\tvalidation_2-rmse:167.94\n",
      "[84]\tvalidation_0-rmse:148.716\tvalidation_1-rmse:161.645\tvalidation_2-rmse:167.902\n",
      "[85]\tvalidation_0-rmse:148.609\tvalidation_1-rmse:161.638\tvalidation_2-rmse:167.866\n",
      "[86]\tvalidation_0-rmse:148.479\tvalidation_1-rmse:161.598\tvalidation_2-rmse:167.849\n"
     ]
    }
   ],
   "source": [
    "\n",
    "tuned_model = xgb.XGBRegressor( \n",
    "                        learning_rate = 0.036,\n",
    "                        n_estimators = 87,\n",
    "                        max_depth = 5,\n",
    "                        min_child_weight = 6,\n",
    "                        subsample = 0.61,\n",
    "                        colsample_bytree = 0.52,\n",
    "                        objective = 'reg:linear',\n",
    "                        reg_alpha= 0.1033,\n",
    "                        reg_lambda = 0.7064,\n",
    "                        gamma = 2.06,\n",
    "                        seed = 27)\n",
    "xgbmodel = tuned_model.fit(train_X2.values, train_y, \n",
    "                 eval_set=[(train_X2.values, train_y), (val_X[collist_X2].values, val_y), (test_X[collist_X2].values, test_y)], \n",
    "                 eval_metric='rmse',\n",
    "                 early_stopping_rounds=100,                 \n",
    "                 verbose=True)\n",
    "\n",
    "# fig, ax = plt.subplots(figsize=(12,18))\n",
    "# xgb.plot_importance(xgbmodel, height=0.8, ax=ax)\n",
    "# plt.show()"
   ]
  },
  {
   "cell_type": "code",
   "execution_count": 24,
   "metadata": {
    "scrolled": true
   },
   "outputs": [
    {
     "name": "stdout",
     "output_type": "stream",
     "text": [
      "The model is trained on the full development set.\n",
      "The scores are computed on the full evaluation set.\n",
      "\n",
      "R2 Train: 0.418562979429\n",
      "RMSE Train: 148.47875275601123\n",
      "RMSE Val: 161.5981715794903\n",
      "RMSE Test: 167.84897641253747\n"
     ]
    }
   ],
   "source": [
    "print(\"The model is trained on the full development set.\")\n",
    "print(\"The scores are computed on the full evaluation set.\")\n",
    "print()\n",
    "y_true3, y_pred3 = train_y, xgbmodel.predict(train_X[collist_X2].values)\n",
    "y_true, y_pred = val_y, xgbmodel.predict(val_X[collist_X2].values)\n",
    "y_true2, y_pred2 = test_y, xgbmodel.predict(test_X[collist_X2].values)\n",
    "print('R2 Train: ' + str(r2_score(y_true3, y_pred3)))\n",
    "rmse = math.sqrt(mean_squared_error(y_true3, y_pred3))\n",
    "print('RMSE Train: ' + str(rmse))\n",
    "rmse = math.sqrt(mean_squared_error(y_true, y_pred))\n",
    "print('RMSE Val: ' + str(rmse))\n",
    "rmse = math.sqrt(mean_squared_error(y_true2, y_pred2))\n",
    "print('RMSE Test: ' + str(rmse))\n"
   ]
  },
  {
   "cell_type": "code",
   "execution_count": 25,
   "metadata": {},
   "outputs": [
    {
     "data": {
      "image/png": "[encoded data removed]",
      "text/plain": [
       "<matplotlib.figure.Figure at 0x3098fa20>"
      ]
     },
     "metadata": {},
     "output_type": "display_data"
    }
   ],
   "source": [
    "plotdata = pd.DataFrame({'true':y_true.tolist(),'pred':y_pred.tolist()})\n",
    "plotdata['resid'] = plotdata['pred']-plotdata['true']\n",
    "plotdata['stdresid'] = plotdata['resid']/np.std(plotdata['resid'])\n",
    "\n",
    "plt.plot(plotdata['stdresid'], '.', alpha = 0.5, color='black')\n",
    "plt.axhline(y=0, color = 'green')\n",
    "plt.axhline(y=2, color = 'blue', linestyle='--')\n",
    "plt.axhline(y=-2, color = 'blue', linestyle='--')\n",
    "plt.axhline(y=3, color = 'red', linestyle='--')\n",
    "plt.axhline(y=-3, color = 'red', linestyle='--')\n",
    "\n",
    "plt.title('Standardized Residuals')\n",
    "plt.ylabel('Standard Deviations')\n",
    "plt.xlabel('Observation Number')\n",
    "plt.show()"
   ]
  },
  {
   "cell_type": "code",
   "execution_count": 26,
   "metadata": {},
   "outputs": [
    {
     "name": "stdout",
     "output_type": "stream",
     "text": [
      "Parameter search took 118.13 seconds for 200 candidate parameter settings.\n",
      "Best Mean validation score: -28054.153 (std: 2289.335)\n",
      "Parameters: {'boosting_type': 'dart', 'colsample_bytree': 0.98424521701654488, 'learning_rate': 0.095818231291890835, 'max_depth': 7, 'min_child_weight': 0.8651877236426011, 'min_split_gain': 0.54300457073468145, 'num_leaves': 35, 'objective': 'regression', 'reg_alpha': 5.5878382530776456, 'reg_lambda': 0.18939450163261373, 'silent': True, 'subsample': 0.96556918032885775}\n"
     ]
    }
   ],
   "source": [
    "param_test1 = {\n",
    "     'boosting_type':['dart'],\n",
    "     'num_leaves':list(range(10,40)),\n",
    "     'max_depth':[-1,1,2,3,4,5,6,7,8,9,10,11,12,13,14,15],\n",
    "     'objective':[None, 'regression','regression_l1'],\n",
    "     'min_split_gain':uniform(0.0, 1.0),\n",
    "     'min_child_weight':uniform(0.0, 1.0),\n",
    "     'subsample':uniform(0.1, 0.9),\n",
    "     'colsample_bytree':uniform(0.1, 0.9),\n",
    "     'reg_alpha': uniform(0.0, 10.0),\n",
    "     'reg_lambda': uniform(0.0, 10.0),\n",
    "     'learning_rate':uniform(0.01,0.09),\n",
    "     'silent':[True]\n",
    "}\n",
    "\n",
    "\n",
    "gsearch1 = RandomizedSearchCV(estimator = lgbm.LGBMRegressor(), \n",
    "                              param_distributions = param_test1, \n",
    "                              scoring='neg_mean_squared_error',\n",
    "                              n_jobs=-1,\n",
    "                              n_iter=200,\n",
    "                              cv=5)\n",
    "start = time()\n",
    "gsearch1.fit(train_X2.values, train_y)\n",
    "\n",
    "print(\"Parameter search took %.2f seconds for %d candidate parameter settings.\"\n",
    "      % (time() - start, len(gsearch1.cv_results_['params'])))\n",
    "\n",
    "helper.report(gsearch1)   "
   ]
  },
  {
   "cell_type": "code",
   "execution_count": 27,
   "metadata": {
    "scrolled": true
   },
   "outputs": [
    {
     "name": "stdout",
     "output_type": "stream",
     "text": [
      "[1]\tvalid_0's rmse: 189.172\tvalid_1's rmse: 192.012\tvalid_2's rmse: 200.347\n",
      "Training until validation scores don't improve for 100 rounds.\n",
      "[2]\tvalid_0's rmse: 184.142\tvalid_1's rmse: 187.212\tvalid_2's rmse: 195.387\n",
      "[3]\tvalid_0's rmse: 179.851\tvalid_1's rmse: 183.18\tvalid_2's rmse: 191.094\n",
      "[4]\tvalid_0's rmse: 176.606\tvalid_1's rmse: 180.195\tvalid_2's rmse: 187.928\n",
      "[5]\tvalid_0's rmse: 173.428\tvalid_1's rmse: 177.421\tvalid_2's rmse: 184.995\n",
      "[6]\tvalid_0's rmse: 173.798\tvalid_1's rmse: 177.834\tvalid_2's rmse: 185.433\n",
      "[7]\tvalid_0's rmse: 170.905\tvalid_1's rmse: 175.221\tvalid_2's rmse: 182.606\n",
      "[8]\tvalid_0's rmse: 168.587\tvalid_1's rmse: 172.97\tvalid_2's rmse: 180.169\n",
      "[9]\tvalid_0's rmse: 166.716\tvalid_1's rmse: 171.286\tvalid_2's rmse: 178.386\n",
      "[10]\tvalid_0's rmse: 164.973\tvalid_1's rmse: 169.709\tvalid_2's rmse: 176.823\n",
      "[11]\tvalid_0's rmse: 163.527\tvalid_1's rmse: 168.525\tvalid_2's rmse: 175.414\n",
      "[12]\tvalid_0's rmse: 162.22\tvalid_1's rmse: 167.424\tvalid_2's rmse: 174.211\n",
      "[13]\tvalid_0's rmse: 161.169\tvalid_1's rmse: 166.519\tvalid_2's rmse: 173.277\n",
      "[14]\tvalid_0's rmse: 160.231\tvalid_1's rmse: 165.786\tvalid_2's rmse: 172.406\n",
      "[15]\tvalid_0's rmse: 160.241\tvalid_1's rmse: 165.772\tvalid_2's rmse: 172.398\n",
      "[16]\tvalid_0's rmse: 160.394\tvalid_1's rmse: 165.884\tvalid_2's rmse: 172.564\n",
      "[17]\tvalid_0's rmse: 162.045\tvalid_1's rmse: 167.653\tvalid_2's rmse: 174.492\n",
      "[18]\tvalid_0's rmse: 162.446\tvalid_1's rmse: 168.134\tvalid_2's rmse: 175.058\n",
      "[19]\tvalid_0's rmse: 163.518\tvalid_1's rmse: 169.107\tvalid_2's rmse: 176.107\n",
      "[20]\tvalid_0's rmse: 162.15\tvalid_1's rmse: 167.804\tvalid_2's rmse: 174.724\n",
      "[21]\tvalid_0's rmse: 162.434\tvalid_1's rmse: 168.078\tvalid_2's rmse: 175.021\n",
      "[22]\tvalid_0's rmse: 162.405\tvalid_1's rmse: 168.041\tvalid_2's rmse: 174.917\n",
      "[23]\tvalid_0's rmse: 162.311\tvalid_1's rmse: 167.963\tvalid_2's rmse: 174.944\n",
      "[24]\tvalid_0's rmse: 161.145\tvalid_1's rmse: 166.885\tvalid_2's rmse: 173.772\n",
      "[25]\tvalid_0's rmse: 161.411\tvalid_1's rmse: 167.119\tvalid_2's rmse: 174.01\n",
      "[26]\tvalid_0's rmse: 160.387\tvalid_1's rmse: 166.318\tvalid_2's rmse: 173.115\n",
      "[27]\tvalid_0's rmse: 161.292\tvalid_1's rmse: 167.255\tvalid_2's rmse: 174.093\n",
      "[28]\tvalid_0's rmse: 161.672\tvalid_1's rmse: 167.611\tvalid_2's rmse: 174.471\n",
      "[29]\tvalid_0's rmse: 160.512\tvalid_1's rmse: 166.715\tvalid_2's rmse: 173.356\n",
      "[30]\tvalid_0's rmse: 159.495\tvalid_1's rmse: 165.848\tvalid_2's rmse: 172.485\n",
      "[31]\tvalid_0's rmse: 159.828\tvalid_1's rmse: 166.112\tvalid_2's rmse: 172.828\n",
      "[32]\tvalid_0's rmse: 160.114\tvalid_1's rmse: 166.391\tvalid_2's rmse: 173.071\n",
      "[33]\tvalid_0's rmse: 160.557\tvalid_1's rmse: 166.795\tvalid_2's rmse: 173.5\n",
      "[34]\tvalid_0's rmse: 159.557\tvalid_1's rmse: 165.953\tvalid_2's rmse: 172.599\n",
      "[35]\tvalid_0's rmse: 158.673\tvalid_1's rmse: 165.24\tvalid_2's rmse: 171.799\n",
      "[36]\tvalid_0's rmse: 157.897\tvalid_1's rmse: 164.579\tvalid_2's rmse: 171.125\n",
      "[37]\tvalid_0's rmse: 158.159\tvalid_1's rmse: 164.842\tvalid_2's rmse: 171.412\n",
      "[38]\tvalid_0's rmse: 158.506\tvalid_1's rmse: 165.157\tvalid_2's rmse: 171.763\n",
      "[39]\tvalid_0's rmse: 157.682\tvalid_1's rmse: 164.509\tvalid_2's rmse: 171.119\n",
      "[40]\tvalid_0's rmse: 158.052\tvalid_1's rmse: 164.823\tvalid_2's rmse: 171.476\n",
      "[41]\tvalid_0's rmse: 158.839\tvalid_1's rmse: 165.57\tvalid_2's rmse: 172.303\n",
      "[42]\tvalid_0's rmse: 159.294\tvalid_1's rmse: 165.976\tvalid_2's rmse: 172.774\n",
      "[43]\tvalid_0's rmse: 159.582\tvalid_1's rmse: 166.272\tvalid_2's rmse: 173.092\n",
      "[44]\tvalid_0's rmse: 159.886\tvalid_1's rmse: 166.54\tvalid_2's rmse: 173.376\n",
      "[45]\tvalid_0's rmse: 159.919\tvalid_1's rmse: 166.602\tvalid_2's rmse: 173.387\n",
      "[46]\tvalid_0's rmse: 158.994\tvalid_1's rmse: 165.816\tvalid_2's rmse: 172.554\n",
      "[47]\tvalid_0's rmse: 159.239\tvalid_1's rmse: 166.011\tvalid_2's rmse: 172.781\n",
      "[48]\tvalid_0's rmse: 158.349\tvalid_1's rmse: 165.343\tvalid_2's rmse: 171.972\n",
      "[49]\tvalid_0's rmse: 158.399\tvalid_1's rmse: 165.37\tvalid_2's rmse: 171.967\n",
      "[50]\tvalid_0's rmse: 158.613\tvalid_1's rmse: 165.565\tvalid_2's rmse: 172.149\n",
      "[51]\tvalid_0's rmse: 157.853\tvalid_1's rmse: 164.972\tvalid_2's rmse: 171.43\n",
      "[52]\tvalid_0's rmse: 157.719\tvalid_1's rmse: 164.881\tvalid_2's rmse: 171.29\n",
      "[53]\tvalid_0's rmse: 157.915\tvalid_1's rmse: 165.037\tvalid_2's rmse: 171.471\n",
      "[54]\tvalid_0's rmse: 157.209\tvalid_1's rmse: 164.451\tvalid_2's rmse: 170.862\n",
      "[55]\tvalid_0's rmse: 156.583\tvalid_1's rmse: 163.98\tvalid_2's rmse: 170.367\n",
      "[56]\tvalid_0's rmse: 156.871\tvalid_1's rmse: 164.211\tvalid_2's rmse: 170.642\n",
      "[57]\tvalid_0's rmse: 156.224\tvalid_1's rmse: 163.824\tvalid_2's rmse: 170.304\n",
      "[58]\tvalid_0's rmse: 156.454\tvalid_1's rmse: 163.99\tvalid_2's rmse: 170.437\n",
      "[59]\tvalid_0's rmse: 156.01\tvalid_1's rmse: 163.759\tvalid_2's rmse: 170.209\n",
      "[60]\tvalid_0's rmse: 155.393\tvalid_1's rmse: 163.311\tvalid_2's rmse: 169.81\n",
      "[61]\tvalid_0's rmse: 155.656\tvalid_1's rmse: 163.51\tvalid_2's rmse: 170.045\n",
      "[62]\tvalid_0's rmse: 155.228\tvalid_1's rmse: 163.313\tvalid_2's rmse: 169.81\n",
      "[63]\tvalid_0's rmse: 155.498\tvalid_1's rmse: 163.547\tvalid_2's rmse: 170.088\n",
      "[64]\tvalid_0's rmse: 155.087\tvalid_1's rmse: 163.194\tvalid_2's rmse: 169.735\n",
      "[65]\tvalid_0's rmse: 154.634\tvalid_1's rmse: 162.86\tvalid_2's rmse: 169.26\n",
      "[66]\tvalid_0's rmse: 154.249\tvalid_1's rmse: 162.605\tvalid_2's rmse: 169.091\n",
      "[67]\tvalid_0's rmse: 154.008\tvalid_1's rmse: 162.422\tvalid_2's rmse: 168.907\n",
      "[68]\tvalid_0's rmse: 153.625\tvalid_1's rmse: 162.29\tvalid_2's rmse: 168.714\n",
      "[69]\tvalid_0's rmse: 153.84\tvalid_1's rmse: 162.418\tvalid_2's rmse: 168.86\n",
      "[70]\tvalid_0's rmse: 154.054\tvalid_1's rmse: 162.596\tvalid_2's rmse: 169.047\n",
      "[71]\tvalid_0's rmse: 154.163\tvalid_1's rmse: 162.656\tvalid_2's rmse: 169.123\n",
      "[72]\tvalid_0's rmse: 154.154\tvalid_1's rmse: 162.676\tvalid_2's rmse: 169.101\n",
      "[73]\tvalid_0's rmse: 153.877\tvalid_1's rmse: 162.468\tvalid_2's rmse: 168.907\n",
      "[74]\tvalid_0's rmse: 154.057\tvalid_1's rmse: 162.6\tvalid_2's rmse: 169.059\n",
      "[75]\tvalid_0's rmse: 153.769\tvalid_1's rmse: 162.41\tvalid_2's rmse: 168.804\n",
      "[76]\tvalid_0's rmse: 154.061\tvalid_1's rmse: 162.696\tvalid_2's rmse: 169.135\n",
      "[77]\tvalid_0's rmse: 154.268\tvalid_1's rmse: 162.841\tvalid_2's rmse: 169.301\n",
      "[78]\tvalid_0's rmse: 153.811\tvalid_1's rmse: 162.601\tvalid_2's rmse: 168.969\n",
      "[79]\tvalid_0's rmse: 153.514\tvalid_1's rmse: 162.453\tvalid_2's rmse: 168.77\n",
      "[80]\tvalid_0's rmse: 153.203\tvalid_1's rmse: 162.269\tvalid_2's rmse: 168.608\n",
      "[81]\tvalid_0's rmse: 152.93\tvalid_1's rmse: 162.163\tvalid_2's rmse: 168.48\n",
      "[82]\tvalid_0's rmse: 152.599\tvalid_1's rmse: 162.14\tvalid_2's rmse: 168.495\n",
      "[83]\tvalid_0's rmse: 152.734\tvalid_1's rmse: 162.209\tvalid_2's rmse: 168.591\n",
      "[84]\tvalid_0's rmse: 152.903\tvalid_1's rmse: 162.324\tvalid_2's rmse: 168.727\n",
      "[85]\tvalid_0's rmse: 153.107\tvalid_1's rmse: 162.497\tvalid_2's rmse: 168.919\n",
      "[86]\tvalid_0's rmse: 153.378\tvalid_1's rmse: 162.752\tvalid_2's rmse: 169.195\n",
      "[87]\tvalid_0's rmse: 153.013\tvalid_1's rmse: 162.64\tvalid_2's rmse: 169.033\n",
      "[88]\tvalid_0's rmse: 152.706\tvalid_1's rmse: 162.48\tvalid_2's rmse: 168.874\n",
      "[89]\tvalid_0's rmse: 152.391\tvalid_1's rmse: 162.32\tvalid_2's rmse: 168.694\n",
      "[90]\tvalid_0's rmse: 152.056\tvalid_1's rmse: 162.156\tvalid_2's rmse: 168.435\n",
      "[91]\tvalid_0's rmse: 152.22\tvalid_1's rmse: 162.237\tvalid_2's rmse: 168.525\n",
      "[92]\tvalid_0's rmse: 152.332\tvalid_1's rmse: 162.284\tvalid_2's rmse: 168.605\n",
      "[93]\tvalid_0's rmse: 152.04\tvalid_1's rmse: 162.078\tvalid_2's rmse: 168.408\n"
     ]
    },
    {
     "data": {
      "text/plain": [
       "LGBMRegressor(boosting_type='dart', colsample_bytree=0.687, learning_rate=0.1,\n",
       "       max_bin=255, max_depth=5, min_child_samples=10,\n",
       "       min_child_weight=0.68497, min_split_gain=0.2355, n_estimators=93,\n",
       "       n_jobs=-1, num_leaves=13, objective='regression_l1', random_state=0,\n",
       "       reg_alpha=7.796, reg_lambda=1.96, silent=True, subsample=0.705,\n",
       "       subsample_for_bin=50000, subsample_freq=1)"
      ]
     },
     "execution_count": 27,
     "metadata": {},
     "output_type": "execute_result"
    }
   ],
   "source": [
    "lgbmmodel = lgbm.LGBMRegressor( \n",
    "                        boosting_type='dart',\n",
    "                        colsample_bytree=0.687,\n",
    "                        learning_rate=0.1,\n",
    "                        max_depth=5, \n",
    "                        min_child_weight=0.68497,\n",
    "                        min_split_gain=0.2355,\n",
    "                        num_leaves=13,\n",
    "                        objective='regression_l1',\n",
    "                        reg_alpha=7.796,\n",
    "                        reg_lambda=1.96,\n",
    "                        subsample=0.705,\n",
    "                        n_estimators=93)\n",
    "lgbmmodel.fit(train_X2.values, train_y, \n",
    "                 eval_set=[(train_X2.values, train_y), (val_X[collist_X2].values, val_y), (test_X[collist_X2].values, test_y)], \n",
    "                 eval_metric='rmse',\n",
    "                 early_stopping_rounds=100,                 \n",
    "                 verbose=True)"
   ]
  },
  {
   "cell_type": "code",
   "execution_count": 28,
   "metadata": {},
   "outputs": [
    {
     "name": "stdout",
     "output_type": "stream",
     "text": [
      "The model is trained on the full development set.\n",
      "The scores are computed on the full evaluation set.\n",
      "\n",
      "R2 Train: 0.388271434428\n",
      "RMSE Train: 152.29735159400227\n",
      "RMSE Val: 162.20604342892833\n",
      "RMSE Test: 168.58393411147037\n"
     ]
    }
   ],
   "source": [
    "print(\"The model is trained on the full development set.\")\n",
    "print(\"The scores are computed on the full evaluation set.\")\n",
    "print()\n",
    "y_true3, y_pred3 = train_y, lgbmmodel.predict(train_X[collist_X2].values)\n",
    "y_true, y_pred = val_y, lgbmmodel.predict(val_X[collist_X2].values)\n",
    "y_true2, y_pred2 = test_y, lgbmmodel.predict(test_X[collist_X2].values)\n",
    "print('R2 Train: ' + str(r2_score(y_true3, y_pred3)))\n",
    "rmse = math.sqrt(mean_squared_error(y_true3, y_pred3))\n",
    "print('RMSE Train: ' + str(rmse))\n",
    "rmse = math.sqrt(mean_squared_error(y_true, y_pred))\n",
    "print('RMSE Val: ' + str(rmse))\n",
    "rmse = math.sqrt(mean_squared_error(y_true2, y_pred2))\n",
    "print('RMSE Test: ' + str(rmse))\n"
   ]
  },
  {
   "cell_type": "code",
   "execution_count": 29,
   "metadata": {},
   "outputs": [
    {
     "data": {
      "image/png": "[encoded data removed]",
      "text/plain": [
       "<matplotlib.figure.Figure at 0x314ae550>"
      ]
     },
     "metadata": {},
     "output_type": "display_data"
    }
   ],
   "source": [
    "plotdata = pd.DataFrame({'true':y_true.tolist(),'pred':y_pred.tolist()})\n",
    "plotdata['resid'] = plotdata['pred']-plotdata['true']\n",
    "plotdata['stdresid'] = plotdata['resid']/np.std(plotdata['resid'])\n",
    "\n",
    "plt.plot(plotdata['stdresid'], '.', alpha = 0.5, color='black')\n",
    "plt.axhline(y=0, color = 'green')\n",
    "plt.axhline(y=2, color = 'blue', linestyle='--')\n",
    "plt.axhline(y=-2, color = 'blue', linestyle='--')\n",
    "plt.axhline(y=3, color = 'red', linestyle='--')\n",
    "plt.axhline(y=-3, color = 'red', linestyle='--')\n",
    "\n",
    "plt.title('Standardized Residuals')\n",
    "plt.ylabel('Standard Deviations')\n",
    "plt.xlabel('Observation Number')\n",
    "plt.show()"
   ]
  },
  {
   "cell_type": "code",
   "execution_count": 30,
   "metadata": {},
   "outputs": [
    {
     "name": "stdout",
     "output_type": "stream",
     "text": [
      "Parameter search took 15.44 seconds for 500 candidate parameter settings.\n",
      "Best Mean validation score: -27431.735 (std: 0.097)\n",
      "Parameters: {'alpha': 10.085408971192098}\n"
     ]
    }
   ],
   "source": [
    "param_test1 = {\n",
    "     'alpha': uniform(0.1, 10.0)\n",
    "}\n",
    "\n",
    "\n",
    "clf = RandomizedSearchCV(estimator = Ridge(), \n",
    "                              param_distributions = param_test1, \n",
    "                              scoring='neg_mean_squared_error',\n",
    "                              n_jobs=-1,\n",
    "                              n_iter=500)\n",
    "start = time()\n",
    "clf.fit(train_X2.values, train_y)\n",
    "\n",
    "print(\"Parameter search took %.2f seconds for %d candidate parameter settings.\"\n",
    "      % (time() - start, len(clf.cv_results_['params'])))\n",
    "\n",
    "helper.report(clf)    \n",
    "\n",
    "\n"
   ]
  },
  {
   "cell_type": "code",
   "execution_count": 31,
   "metadata": {},
   "outputs": [
    {
     "data": {
      "text/plain": [
       "Ridge(alpha=10.03, copy_X=True, fit_intercept=True, max_iter=None,\n",
       "   normalize=False, random_state=None, solver='auto', tol=0.001)"
      ]
     },
     "execution_count": 31,
     "metadata": {},
     "output_type": "execute_result"
    }
   ],
   "source": [
    "ridgemodel = Ridge(alpha = 10.03)\n",
    "ridgemodel.fit(train_X2.values, train_y)"
   ]
  },
  {
   "cell_type": "code",
   "execution_count": 32,
   "metadata": {},
   "outputs": [
    {
     "name": "stdout",
     "output_type": "stream",
     "text": [
      "\n",
      "The model is trained on the full development set.\n",
      "The scores are computed on the full evaluation set.\n",
      "\n",
      "R2 Train: 0.298850767\n",
      "RMSE Train: 163.04902355015324\n",
      "RMSE Val: 164.3952372596564\n",
      "RMSE Test: 168.4677026585735\n"
     ]
    }
   ],
   "source": [
    "print()\n",
    "print(\"The model is trained on the full development set.\")\n",
    "print(\"The scores are computed on the full evaluation set.\")\n",
    "print()\n",
    "y_true3, y_pred3 = train_y, ridgemodel.predict(train_X2.values)\n",
    "y_true, y_pred = val_y, ridgemodel.predict(val_X[collist_X2].values)\n",
    "y_true2, y_pred2 = test_y, ridgemodel.predict(test_X[collist_X2].values)\n",
    "print('R2 Train: ' + str(r2_score(y_true3, y_pred3)))\n",
    "rmse = math.sqrt(mean_squared_error(y_true3, y_pred3))\n",
    "print('RMSE Train: ' + str(rmse))\n",
    "rmse = math.sqrt(mean_squared_error(y_true, y_pred))\n",
    "print('RMSE Val: ' + str(rmse))\n",
    "rmse = math.sqrt(mean_squared_error(y_true2, y_pred2))\n",
    "print('RMSE Test: ' + str(rmse))"
   ]
  },
  {
   "cell_type": "code",
   "execution_count": 33,
   "metadata": {},
   "outputs": [
    {
     "name": "stdout",
     "output_type": "stream",
     "text": [
      "Parameter search took 25.03 seconds for 300 candidate parameter settings.\n",
      "Best Mean validation score: -27325.074 (std: 1301.445)\n",
      "Parameters: {'alpha': 4.1852021793234426, 'l1_ratio': 0.99919469931488036, 'selection': 'random'}\n"
     ]
    }
   ],
   "source": [
    "param_test1 = {\n",
    "     'alpha': uniform(0.1, 10.0),\n",
    "     'l1_ratio':uniform(0.1, 0.9),\n",
    "     'selection':['random']\n",
    "}\n",
    "\n",
    "\n",
    "clf = RandomizedSearchCV(estimator = ElasticNet(), \n",
    "                              param_distributions = param_test1, \n",
    "                              scoring='neg_mean_squared_error',\n",
    "                              n_jobs=3,\n",
    "                              n_iter=300)\n",
    "start = time()\n",
    "clf.fit(train_X2.values, train_y)\n",
    "\n",
    "print(\"Parameter search took %.2f seconds for %d candidate parameter settings.\"\n",
    "      % (time() - start, len(clf.cv_results_['params'])))\n",
    "\n",
    "helper.report(clf)    \n"
   ]
  },
  {
   "cell_type": "code",
   "execution_count": 34,
   "metadata": {},
   "outputs": [
    {
     "data": {
      "text/plain": [
       "ElasticNet(alpha=0.2153, copy_X=True, fit_intercept=True, l1_ratio=0.5474,\n",
       "      max_iter=1000, normalize=False, positive=False, precompute=False,\n",
       "      random_state=None, selection='random', tol=0.0001, warm_start=False)"
      ]
     },
     "execution_count": 34,
     "metadata": {},
     "output_type": "execute_result"
    }
   ],
   "source": [
    "elasticmodel = ElasticNet(alpha = .2153, l1_ratio=0.5474, selection = 'random')\n",
    "elasticmodel.fit(train_X2.values, train_y)"
   ]
  },
  {
   "cell_type": "code",
   "execution_count": 35,
   "metadata": {},
   "outputs": [
    {
     "name": "stdout",
     "output_type": "stream",
     "text": [
      "\n",
      "The model is trained on the full development set.\n",
      "The scores are computed on the full evaluation set.\n",
      "\n",
      "R2 Train: 0.297035433428\n",
      "RMSE Train: 163.25996083377154\n",
      "RMSE Val: 164.37924580604556\n",
      "RMSE Test: 168.91416438402015\n"
     ]
    }
   ],
   "source": [
    "print()\n",
    "print(\"The model is trained on the full development set.\")\n",
    "print(\"The scores are computed on the full evaluation set.\")\n",
    "print()\n",
    "y_true3, y_pred3 = train_y, elasticmodel.predict(train_X2.values)\n",
    "y_true, y_pred = val_y, elasticmodel.predict(val_X[collist_X2].values)\n",
    "y_true2, y_pred2 = test_y, elasticmodel.predict(test_X[collist_X2].values)\n",
    "print('R2 Train: ' + str(r2_score(y_true3, y_pred3)))\n",
    "rmse = math.sqrt(mean_squared_error(y_true3, y_pred3))\n",
    "print('RMSE Train: ' + str(rmse))\n",
    "rmse = math.sqrt(mean_squared_error(y_true, y_pred))\n",
    "print('RMSE Val: ' + str(rmse))\n",
    "rmse = math.sqrt(mean_squared_error(y_true2, y_pred2))\n",
    "print('RMSE Test: ' + str(rmse))\n"
   ]
  },
  {
   "cell_type": "code",
   "execution_count": 36,
   "metadata": {},
   "outputs": [
    {
     "name": "stdout",
     "output_type": "stream",
     "text": [
      "Parameter search took 1423.61 seconds for 100 candidate parameter settings.\n",
      "Best Mean validation score: -60.910 (std: 0.131)\n",
      "Parameters: {'alpha': 0.80144234663153335}\n"
     ]
    }
   ],
   "source": [
    "param_test1 = {\n",
    "     'alpha':uniform(0.0,1.0),\n",
    "    \n",
    "}\n",
    "\n",
    "\n",
    "clf = RandomizedSearchCV(estimator = MLPRegressor(), \n",
    "                              param_distributions = param_test1, \n",
    "                              scoring='neg_mean_absolute_error',\n",
    "                              n_jobs=3,\n",
    "                              n_iter=100)\n",
    "start = time()\n",
    "clf.fit(train_X2.values, train_y)\n",
    "\n",
    "print(\"Parameter search took %.2f seconds for %d candidate parameter settings.\"\n",
    "      % (time() - start, len(clf.cv_results_['params'])))\n",
    "\n",
    "helper.report(clf)    \n"
   ]
  },
  {
   "cell_type": "code",
   "execution_count": 37,
   "metadata": {},
   "outputs": [
    {
     "data": {
      "text/plain": [
       "MLPRegressor(activation='relu', alpha=0.2131, batch_size='auto', beta_1=0.9,\n",
       "       beta_2=0.999, early_stopping=False, epsilon=1e-08,\n",
       "       hidden_layer_sizes=(100,), learning_rate='constant',\n",
       "       learning_rate_init=0.001, max_iter=200, momentum=0.9,\n",
       "       nesterovs_momentum=True, power_t=0.5, random_state=None,\n",
       "       shuffle=True, solver='adam', tol=0.0001, validation_fraction=0.1,\n",
       "       verbose=False, warm_start=False)"
      ]
     },
     "execution_count": 37,
     "metadata": {},
     "output_type": "execute_result"
    }
   ],
   "source": [
    "mlpmodel = MLPRegressor(alpha=0.2131)\n",
    "mlpmodel.fit(train_X2.values, train_y)"
   ]
  },
  {
   "cell_type": "code",
   "execution_count": 38,
   "metadata": {},
   "outputs": [
    {
     "name": "stdout",
     "output_type": "stream",
     "text": [
      "\n",
      "The model is trained on the full development set.\n",
      "The scores are computed on the full evaluation set.\n",
      "\n",
      "R2 Train: 0.336222911073\n",
      "RMSE Train: 158.644163729416\n",
      "RMSE Val: 160.81075491810773\n",
      "RMSE Test: 167.07685246599618\n"
     ]
    }
   ],
   "source": [
    "print()\n",
    "print(\"The model is trained on the full development set.\")\n",
    "print(\"The scores are computed on the full evaluation set.\")\n",
    "print()\n",
    "y_true3, y_pred3 = train_y, mlpmodel.predict(train_X2.values)\n",
    "y_true, y_pred = val_y, mlpmodel.predict(val_X[collist_X2].values)\n",
    "y_true2, y_pred2 = test_y, mlpmodel.predict(test_X[collist_X2].values)\n",
    "print('R2 Train: ' + str(r2_score(y_true3, y_pred3)))\n",
    "rmse = math.sqrt(mean_squared_error(y_true3, y_pred3))\n",
    "print('RMSE Train: ' + str(rmse))\n",
    "rmse = math.sqrt(mean_squared_error(y_true, y_pred))\n",
    "print('RMSE Val: ' + str(rmse))\n",
    "rmse = math.sqrt(mean_squared_error(y_true2, y_pred2))\n",
    "print('RMSE Test: ' + str(rmse))\n"
   ]
  },
  {
   "cell_type": "code",
   "execution_count": 39,
   "metadata": {},
   "outputs": [
    {
     "name": "stdout",
     "output_type": "stream",
     "text": [
      "Parameter search took 347.46 seconds for 200 candidate parameter settings.\n",
      "Best Mean validation score: -50.034 (std: 6.114)\n",
      "Parameters: {'C': 0.9527881010420205, 'epsilon': 0.045925683721835364, 'loss': 'epsilon_insensitive'}\n"
     ]
    }
   ],
   "source": [
    "param_test1 = {\n",
    "     'C':uniform(0.0,1.0),\n",
    "     'epsilon': uniform(0.0, 1.0),\n",
    "     'loss':['squared_epsilon_insensitive', 'epsilon_insensitive']\n",
    "}\n",
    "\n",
    "\n",
    "clf = RandomizedSearchCV(estimator = LinearSVR(), \n",
    "                              param_distributions = param_test1, \n",
    "                              scoring='neg_mean_absolute_error',\n",
    "                              n_jobs=3,\n",
    "                              n_iter=200)\n",
    "start = time()\n",
    "clf.fit(train_X2.values, train_y)\n",
    "\n",
    "print(\"Parameter search took %.2f seconds for %d candidate parameter settings.\"\n",
    "      % (time() - start, len(clf.cv_results_['params'])))\n",
    "\n",
    "helper.report(clf)    \n"
   ]
  },
  {
   "cell_type": "code",
   "execution_count": 40,
   "metadata": {},
   "outputs": [
    {
     "data": {
      "text/plain": [
       "LinearSVR(C=0.96, dual=True, epsilon=0.7472, fit_intercept=True,\n",
       "     intercept_scaling=1.0, loss='epsilon_insensitive', max_iter=1000,\n",
       "     random_state=None, tol=0.0001, verbose=0)"
      ]
     },
     "execution_count": 40,
     "metadata": {},
     "output_type": "execute_result"
    }
   ],
   "source": [
    "lsvrmodel = LinearSVR(C=0.96, epsilon=0.7472, loss='epsilon_insensitive')\n",
    "lsvrmodel.fit(train_X2.values, train_y)"
   ]
  },
  {
   "cell_type": "code",
   "execution_count": 41,
   "metadata": {},
   "outputs": [
    {
     "name": "stdout",
     "output_type": "stream",
     "text": [
      "\n",
      "The model is trained on the full development set.\n",
      "The scores are computed on the full evaluation set.\n",
      "\n",
      "R2 Train: 0.200307625138\n",
      "RMSE Train: 174.13034005755406\n",
      "RMSE Val: 176.09578625746647\n",
      "RMSE Test: 182.3240677822858\n"
     ]
    }
   ],
   "source": [
    "print()\n",
    "print(\"The model is trained on the full development set.\")\n",
    "print(\"The scores are computed on the full evaluation set.\")\n",
    "print()\n",
    "y_true3, y_pred3 = train_y, lsvrmodel.predict(train_X2.values)\n",
    "y_true, y_pred = val_y, lsvrmodel.predict(val_X[collist_X2].values)\n",
    "y_true2, y_pred2 = test_y, lsvrmodel.predict(test_X[collist_X2].values)\n",
    "print('R2 Train: ' + str(r2_score(y_true3, y_pred3)))\n",
    "rmse = math.sqrt(mean_squared_error(y_true3, y_pred3))\n",
    "print('RMSE Train: ' + str(rmse))\n",
    "rmse = math.sqrt(mean_squared_error(y_true, y_pred))\n",
    "print('RMSE Val: ' + str(rmse))\n",
    "rmse = math.sqrt(mean_squared_error(y_true2, y_pred2))\n",
    "print('RMSE Test: ' + str(rmse))"
   ]
  },
  {
   "cell_type": "code",
   "execution_count": 42,
   "metadata": {
    "collapsed": true
   },
   "outputs": [],
   "source": [
    "#sgdpred = sgdmodel.predict(train_X_std_res)\n",
    "xgbpred = xgbmodel.predict(val_X[collist_X2].values)\n",
    "elasticpred = elasticmodel.predict(val_X[collist_X2].values)\n",
    "lassopred = ridgemodel.predict(val_X[collist_X2].values)\n",
    "mlppred = mlpmodel.predict(val_X[collist_X2].values)\n",
    "lsvrpred = lsvrmodel.predict(val_X[collist_X2].values)\n",
    "lgbmpred = lgbmmodel.predict(val_X[collist_X2].values)\n",
    "\n",
    "resarray = np.array([val_y, xgbpred, elasticpred, lassopred, mlppred, lsvrpred, lgbmpred], np.float64)\n",
    "\n",
    "xgb_test = xgbmodel.predict(test_X[collist_X2].values)\n",
    "elastic_test = elasticmodel.predict(test_X[collist_X2].values)\n",
    "lasso_test = ridgemodel.predict(test_X[collist_X2].values)\n",
    "mlp_test = mlpmodel.predict(test_X[collist_X2].values)\n",
    "lsvr_test = lsvrmodel.predict(test_X[collist_X2].values)\n",
    "lgbm_test = lgbmmodel.predict(test_X[collist_X2].values)\n",
    "\n",
    "res_test = np.array([test_y, xgb_test, elastic_test, lasso_test, mlp_test, lsvr_test, lgbm_test], np.float64)\n",
    "\n",
    "result = pd.DataFrame(resarray.transpose(), columns = ['true_y','xgbpred', 'elasticpred','ridgepred', 'mlppred','lsvrpred','lgbmpred'])\n",
    "result_test = pd.DataFrame(res_test.transpose(), columns = ['true_y','xgbpred', 'elasticpred','ridgepred','mlppred','lsvrpred','lgbmpred'])\n",
    "\n",
    "\n",
    "ensX = result[['xgbpred', 'elasticpred','ridgepred','mlppred','lsvrpred','lgbmpred']].values\n",
    "ensy = result[['true_y']].values\n",
    "\n",
    "finX = result_test[['xgbpred', 'elasticpred','ridgepred','mlppred','lsvrpred','lgbmpred']].values\n",
    "finy = result_test[['true_y']].values"
   ]
  },
  {
   "cell_type": "code",
   "execution_count": 43,
   "metadata": {},
   "outputs": [
    {
     "data": {
      "text/html": [
       "<div>\n",
       "<style>\n",
       "    .dataframe thead tr:only-child th {\n",
       "        text-align: right;\n",
       "    }\n",
       "\n",
       "    .dataframe thead th {\n",
       "        text-align: left;\n",
       "    }\n",
       "\n",
       "    .dataframe tbody tr th {\n",
       "        vertical-align: top;\n",
       "    }\n",
       "</style>\n",
       "<table border=\"1\" class=\"dataframe\">\n",
       "  <thead>\n",
       "    <tr style=\"text-align: right;\">\n",
       "      <th></th>\n",
       "      <th>true_y</th>\n",
       "      <th>xgbpred</th>\n",
       "      <th>elasticpred</th>\n",
       "      <th>ridgepred</th>\n",
       "      <th>mlppred</th>\n",
       "      <th>lsvrpred</th>\n",
       "      <th>lgbmpred</th>\n",
       "      <th>avg</th>\n",
       "      <th>std</th>\n",
       "    </tr>\n",
       "  </thead>\n",
       "  <tbody>\n",
       "    <tr>\n",
       "      <th>0</th>\n",
       "      <td>0.0</td>\n",
       "      <td>72.126007</td>\n",
       "      <td>92.323787</td>\n",
       "      <td>95.968177</td>\n",
       "      <td>98.788376</td>\n",
       "      <td>24.577455</td>\n",
       "      <td>57.816794</td>\n",
       "      <td>73.600099</td>\n",
       "      <td>28.774509</td>\n",
       "    </tr>\n",
       "    <tr>\n",
       "      <th>1</th>\n",
       "      <td>0.0</td>\n",
       "      <td>77.467735</td>\n",
       "      <td>96.660648</td>\n",
       "      <td>105.440062</td>\n",
       "      <td>113.845616</td>\n",
       "      <td>35.923632</td>\n",
       "      <td>65.877568</td>\n",
       "      <td>82.535877</td>\n",
       "      <td>28.914693</td>\n",
       "    </tr>\n",
       "    <tr>\n",
       "      <th>2</th>\n",
       "      <td>0.0</td>\n",
       "      <td>16.231205</td>\n",
       "      <td>14.646304</td>\n",
       "      <td>14.231882</td>\n",
       "      <td>12.594165</td>\n",
       "      <td>-0.279410</td>\n",
       "      <td>13.896364</td>\n",
       "      <td>11.886752</td>\n",
       "      <td>6.075253</td>\n",
       "    </tr>\n",
       "    <tr>\n",
       "      <th>3</th>\n",
       "      <td>0.0</td>\n",
       "      <td>7.171676</td>\n",
       "      <td>7.595241</td>\n",
       "      <td>6.832293</td>\n",
       "      <td>7.621837</td>\n",
       "      <td>-0.848760</td>\n",
       "      <td>9.207025</td>\n",
       "      <td>6.263219</td>\n",
       "      <td>3.578142</td>\n",
       "    </tr>\n",
       "    <tr>\n",
       "      <th>4</th>\n",
       "      <td>0.0</td>\n",
       "      <td>13.771541</td>\n",
       "      <td>13.931547</td>\n",
       "      <td>11.639598</td>\n",
       "      <td>13.012256</td>\n",
       "      <td>0.531018</td>\n",
       "      <td>12.810646</td>\n",
       "      <td>10.949434</td>\n",
       "      <td>5.169068</td>\n",
       "    </tr>\n",
       "  </tbody>\n",
       "</table>\n",
       "</div>"
      ],
      "text/plain": [
       "   true_y    xgbpred  elasticpred   ridgepred     mlppred   lsvrpred  \\\n",
       "0     0.0  72.126007    92.323787   95.968177   98.788376  24.577455   \n",
       "1     0.0  77.467735    96.660648  105.440062  113.845616  35.923632   \n",
       "2     0.0  16.231205    14.646304   14.231882   12.594165  -0.279410   \n",
       "3     0.0   7.171676     7.595241    6.832293    7.621837  -0.848760   \n",
       "4     0.0  13.771541    13.931547   11.639598   13.012256   0.531018   \n",
       "\n",
       "    lgbmpred        avg        std  \n",
       "0  57.816794  73.600099  28.774509  \n",
       "1  65.877568  82.535877  28.914693  \n",
       "2  13.896364  11.886752   6.075253  \n",
       "3   9.207025   6.263219   3.578142  \n",
       "4  12.810646  10.949434   5.169068  "
      ]
     },
     "execution_count": 43,
     "metadata": {},
     "output_type": "execute_result"
    }
   ],
   "source": [
    "result_test['avg'] = (result_test['xgbpred']+result_test['elasticpred']+result_test['ridgepred']+result_test['mlppred']+result_test['lsvrpred']+result_test['lgbmpred'])/6\n",
    "result_test['std'] = result_test[['xgbpred','elasticpred','ridgepred','mlppred','lsvrpred','lgbmpred']].std(axis=1)\n",
    "result_test.head()"
   ]
  },
  {
   "cell_type": "code",
   "execution_count": 44,
   "metadata": {},
   "outputs": [
    {
     "data": {
      "text/html": [
       "<div>\n",
       "<style>\n",
       "    .dataframe thead tr:only-child th {\n",
       "        text-align: right;\n",
       "    }\n",
       "\n",
       "    .dataframe thead th {\n",
       "        text-align: left;\n",
       "    }\n",
       "\n",
       "    .dataframe tbody tr th {\n",
       "        vertical-align: top;\n",
       "    }\n",
       "</style>\n",
       "<table border=\"1\" class=\"dataframe\">\n",
       "  <thead>\n",
       "    <tr style=\"text-align: right;\">\n",
       "      <th></th>\n",
       "      <th>index</th>\n",
       "      <th>true_y</th>\n",
       "      <th>xgbpred</th>\n",
       "      <th>elasticpred</th>\n",
       "      <th>ridgepred</th>\n",
       "      <th>mlppred</th>\n",
       "      <th>lsvrpred</th>\n",
       "      <th>lgbmpred</th>\n",
       "      <th>avg</th>\n",
       "      <th>std</th>\n",
       "    </tr>\n",
       "  </thead>\n",
       "  <tbody>\n",
       "    <tr>\n",
       "      <th>0</th>\n",
       "      <td>0</td>\n",
       "      <td>0.0</td>\n",
       "      <td>72.126007</td>\n",
       "      <td>92.323787</td>\n",
       "      <td>95.968177</td>\n",
       "      <td>98.788376</td>\n",
       "      <td>24.577455</td>\n",
       "      <td>57.816794</td>\n",
       "      <td>73.600099</td>\n",
       "      <td>28.774509</td>\n",
       "    </tr>\n",
       "    <tr>\n",
       "      <th>1</th>\n",
       "      <td>9942</td>\n",
       "      <td>0.0</td>\n",
       "      <td>19.483940</td>\n",
       "      <td>16.945774</td>\n",
       "      <td>15.936637</td>\n",
       "      <td>17.974657</td>\n",
       "      <td>0.388082</td>\n",
       "      <td>15.863918</td>\n",
       "      <td>14.432168</td>\n",
       "      <td>7.013381</td>\n",
       "    </tr>\n",
       "    <tr>\n",
       "      <th>2</th>\n",
       "      <td>9943</td>\n",
       "      <td>0.0</td>\n",
       "      <td>11.954927</td>\n",
       "      <td>10.115836</td>\n",
       "      <td>9.103908</td>\n",
       "      <td>11.114594</td>\n",
       "      <td>-0.438124</td>\n",
       "      <td>11.630299</td>\n",
       "      <td>8.913573</td>\n",
       "      <td>4.699166</td>\n",
       "    </tr>\n",
       "    <tr>\n",
       "      <th>3</th>\n",
       "      <td>9944</td>\n",
       "      <td>0.0</td>\n",
       "      <td>8.926327</td>\n",
       "      <td>13.759544</td>\n",
       "      <td>13.512342</td>\n",
       "      <td>8.950249</td>\n",
       "      <td>0.172646</td>\n",
       "      <td>9.207025</td>\n",
       "      <td>9.088022</td>\n",
       "      <td>4.918149</td>\n",
       "    </tr>\n",
       "    <tr>\n",
       "      <th>4</th>\n",
       "      <td>9945</td>\n",
       "      <td>0.0</td>\n",
       "      <td>7.171676</td>\n",
       "      <td>7.437554</td>\n",
       "      <td>6.616222</td>\n",
       "      <td>7.250312</td>\n",
       "      <td>-0.855745</td>\n",
       "      <td>9.207025</td>\n",
       "      <td>6.137841</td>\n",
       "      <td>3.537079</td>\n",
       "    </tr>\n",
       "  </tbody>\n",
       "</table>\n",
       "</div>"
      ],
      "text/plain": [
       "   index  true_y    xgbpred  elasticpred  ridgepred    mlppred   lsvrpred  \\\n",
       "0      0     0.0  72.126007    92.323787  95.968177  98.788376  24.577455   \n",
       "1   9942     0.0  19.483940    16.945774  15.936637  17.974657   0.388082   \n",
       "2   9943     0.0  11.954927    10.115836   9.103908  11.114594  -0.438124   \n",
       "3   9944     0.0   8.926327    13.759544  13.512342   8.950249   0.172646   \n",
       "4   9945     0.0   7.171676     7.437554   6.616222   7.250312  -0.855745   \n",
       "\n",
       "    lgbmpred        avg        std  \n",
       "0  57.816794  73.600099  28.774509  \n",
       "1  15.863918  14.432168   7.013381  \n",
       "2  11.630299   8.913573   4.699166  \n",
       "3   9.207025   9.088022   4.918149  \n",
       "4   9.207025   6.137841   3.537079  "
      ]
     },
     "execution_count": 44,
     "metadata": {},
     "output_type": "execute_result"
    }
   ],
   "source": [
    "result_test2 = result_test.sort_values(by='true_y').reset_index()\n",
    "result_test2.head()"
   ]
  },
  {
   "cell_type": "code",
   "execution_count": 45,
   "metadata": {},
   "outputs": [
    {
     "data": {
      "image/png": "[encoded data removed]",
      "text/plain": [
       "<matplotlib.figure.Figure at 0x34267f98>"
      ]
     },
     "metadata": {},
     "output_type": "display_data"
    }
   ],
   "source": [
    "plt.plot(result_test2['true_y'])\n",
    "plt.plot(result_test2['avg'], alpha=0.5)\n",
    "plt.show()"
   ]
  },
  {
   "cell_type": "code",
   "execution_count": 46,
   "metadata": {},
   "outputs": [
    {
     "name": "stdout",
     "output_type": "stream",
     "text": [
      "xgbpred\n"
     ]
    },
    {
     "data": {
      "image/png": "[encoded data removed]",
      "text/plain": [
       "<matplotlib.figure.Figure at 0x34ca0dd8>"
      ]
     },
     "metadata": {},
     "output_type": "display_data"
    },
    {
     "name": "stdout",
     "output_type": "stream",
     "text": [
      "elasticpred\n"
     ]
    },
    {
     "data": {
      "image/png": "[encoded data removed]",
      "text/plain": [
       "<matplotlib.figure.Figure at 0x34115668>"
      ]
     },
     "metadata": {},
     "output_type": "display_data"
    },
    {
     "name": "stdout",
     "output_type": "stream",
     "text": [
      "ridgepred\n"
     ]
    },
    {
     "data": {
      "image/png": "[encoded data removed]",
      "text/plain": [
       "<matplotlib.figure.Figure at 0x2f9f4c50>"
      ]
     },
     "metadata": {},
     "output_type": "display_data"
    },
    {
     "name": "stdout",
     "output_type": "stream",
     "text": [
      "mlppred\n"
     ]
    },
    {
     "data": {
      "image/png": "[encoded data removed]",
      "text/plain": [
       "<matplotlib.figure.Figure at 0x2fcfd7f0>"
      ]
     },
     "metadata": {},
     "output_type": "display_data"
    },
    {
     "name": "stdout",
     "output_type": "stream",
     "text": [
      "lsvrpred\n"
     ]
    },
    {
     "data": {
      "image/png": "[encoded data removed]",
      "text/plain": [
       "<matplotlib.figure.Figure at 0x31adde80>"
      ]
     },
     "metadata": {},
     "output_type": "display_data"
    }
   ],
   "source": [
    "matplotlib.rcParams['figure.figsize'] = (5,4)\n",
    "lst = ['xgbpred', 'elasticpred','ridgepred','mlppred','lsvrpred','lgbmpred']\n",
    "\n",
    "for var in range(5):\n",
    "    print(lst[var])\n",
    "    plt.hist(ensX[:, var], bins = 100)\n",
    "    plt.show()\n",
    "    \n",
    "    \n",
    "    \n",
    "matplotlib.rcParams['figure.figsize'] = (11,8)"
   ]
  },
  {
   "cell_type": "code",
   "execution_count": 47,
   "metadata": {},
   "outputs": [
    {
     "name": "stdout",
     "output_type": "stream",
     "text": [
      "Parameter search took 1119.71 seconds for 300 candidate parameter settings.\n",
      "Best Mean validation score: -54.868 (std: 0.167)\n",
      "Parameters: {'colsample_bytree': 0.82506396903485046, 'gamma': 0.11276431999194224, 'learning_rate': 0.01, 'max_depth': 18, 'min_child_weight': 1, 'objective': 'reg:linear', 'reg_alpha': 0.88418380283743891, 'reg_lambda': 0.88508729219273075, 'subsample': 0.62491535181728242}\n"
     ]
    }
   ],
   "source": [
    "param_test1 = {\n",
    "     'learning_rate':[0.01],\n",
    "     'max_depth':list(range(5,20)),\n",
    "     'min_child_weight':list(range(1,10)),\n",
    "     'colsample_bytree': uniform(0.5,0.4),\n",
    "     'subsample': uniform(0.5,0.4),\n",
    "     'reg_alpha': uniform(0.1, 0.9),\n",
    "     'reg_lambda': uniform(0.1, 0.9),\n",
    "     'objective':['reg:linear'],\n",
    "     'gamma': uniform(0.1,0.9)\n",
    "}\n",
    "\n",
    "\n",
    "gsearch1 = RandomizedSearchCV(estimator = xgb.XGBRegressor(), \n",
    "                              param_distributions = param_test1, \n",
    "                              scoring='neg_mean_absolute_error',\n",
    "                              n_jobs=-1,\n",
    "                              n_iter=300,\n",
    "                              cv=5)\n",
    "start = time()\n",
    "gsearch1.fit(ensX, ensy)\n",
    "\n",
    "print(\"Parameter search took %.2f seconds for %d candidate parameter settings.\"\n",
    "      % (time() - start, len(gsearch1.cv_results_['params'])))\n",
    "\n",
    "helper.report(gsearch1)    "
   ]
  },
  {
   "cell_type": "code",
   "execution_count": null,
   "metadata": {},
   "outputs": [],
   "source": []
  },
  {
   "cell_type": "code",
   "execution_count": 48,
   "metadata": {
    "scrolled": true
   },
   "outputs": [
    {
     "name": "stdout",
     "output_type": "stream",
     "text": [
      "[0]\tvalidation_0-rmse:212.615\n",
      "Will train until validation_0-rmse hasn't improved in 100 rounds.\n",
      "[1]\tvalidation_0-rmse:211.919\n",
      "[2]\tvalidation_0-rmse:211.201\n",
      "[3]\tvalidation_0-rmse:210.538\n",
      "[4]\tvalidation_0-rmse:209.86\n",
      "[5]\tvalidation_0-rmse:209.243\n",
      "[6]\tvalidation_0-rmse:208.605\n",
      "[7]\tvalidation_0-rmse:207.941\n",
      "[8]\tvalidation_0-rmse:207.313\n",
      "[9]\tvalidation_0-rmse:206.689\n",
      "[10]\tvalidation_0-rmse:206.105\n",
      "[11]\tvalidation_0-rmse:205.544\n",
      "[12]\tvalidation_0-rmse:204.908\n",
      "[13]\tvalidation_0-rmse:204.384\n",
      "[14]\tvalidation_0-rmse:203.842\n",
      "[15]\tvalidation_0-rmse:203.248\n",
      "[16]\tvalidation_0-rmse:202.655\n",
      "[17]\tvalidation_0-rmse:202.126\n",
      "[18]\tvalidation_0-rmse:201.607\n",
      "[19]\tvalidation_0-rmse:201.045\n",
      "[20]\tvalidation_0-rmse:200.524\n",
      "[21]\tvalidation_0-rmse:200.057\n",
      "[22]\tvalidation_0-rmse:199.581\n",
      "[23]\tvalidation_0-rmse:199.115\n",
      "[24]\tvalidation_0-rmse:198.557\n",
      "[25]\tvalidation_0-rmse:198.081\n",
      "[26]\tvalidation_0-rmse:197.62\n",
      "[27]\tvalidation_0-rmse:197.19\n",
      "[28]\tvalidation_0-rmse:196.715\n",
      "[29]\tvalidation_0-rmse:196.293\n",
      "[30]\tvalidation_0-rmse:195.85\n",
      "[31]\tvalidation_0-rmse:195.387\n",
      "[32]\tvalidation_0-rmse:194.961\n",
      "[33]\tvalidation_0-rmse:194.533\n",
      "[34]\tvalidation_0-rmse:194.148\n",
      "[35]\tvalidation_0-rmse:193.725\n",
      "[36]\tvalidation_0-rmse:193.357\n",
      "[37]\tvalidation_0-rmse:192.996\n",
      "[38]\tvalidation_0-rmse:192.59\n",
      "[39]\tvalidation_0-rmse:192.199\n",
      "[40]\tvalidation_0-rmse:191.837\n",
      "[41]\tvalidation_0-rmse:191.47\n",
      "[42]\tvalidation_0-rmse:191.086\n",
      "[43]\tvalidation_0-rmse:190.685\n",
      "[44]\tvalidation_0-rmse:190.362\n",
      "[45]\tvalidation_0-rmse:190.01\n",
      "[46]\tvalidation_0-rmse:189.701\n",
      "[47]\tvalidation_0-rmse:189.374\n",
      "[48]\tvalidation_0-rmse:189.068\n",
      "[49]\tvalidation_0-rmse:188.788\n",
      "[50]\tvalidation_0-rmse:188.425\n",
      "[51]\tvalidation_0-rmse:188.106\n",
      "[52]\tvalidation_0-rmse:187.789\n",
      "[53]\tvalidation_0-rmse:187.496\n",
      "[54]\tvalidation_0-rmse:187.206\n",
      "[55]\tvalidation_0-rmse:186.885\n",
      "[56]\tvalidation_0-rmse:186.587\n",
      "[57]\tvalidation_0-rmse:186.33\n",
      "[58]\tvalidation_0-rmse:186.059\n",
      "[59]\tvalidation_0-rmse:185.797\n",
      "[60]\tvalidation_0-rmse:185.495\n",
      "[61]\tvalidation_0-rmse:185.231\n",
      "[62]\tvalidation_0-rmse:185.002\n",
      "[63]\tvalidation_0-rmse:184.749\n",
      "[64]\tvalidation_0-rmse:184.504\n",
      "[65]\tvalidation_0-rmse:184.296\n",
      "[66]\tvalidation_0-rmse:184.089\n",
      "[67]\tvalidation_0-rmse:183.863\n",
      "[68]\tvalidation_0-rmse:183.622\n",
      "[69]\tvalidation_0-rmse:183.36\n",
      "[70]\tvalidation_0-rmse:183.123\n",
      "[71]\tvalidation_0-rmse:182.94\n",
      "[72]\tvalidation_0-rmse:182.746\n",
      "[73]\tvalidation_0-rmse:182.516\n",
      "[74]\tvalidation_0-rmse:182.328\n",
      "[75]\tvalidation_0-rmse:182.117\n",
      "[76]\tvalidation_0-rmse:181.885\n",
      "[77]\tvalidation_0-rmse:181.7\n",
      "[78]\tvalidation_0-rmse:181.511\n",
      "[79]\tvalidation_0-rmse:181.313\n",
      "[80]\tvalidation_0-rmse:181.109\n",
      "[81]\tvalidation_0-rmse:180.921\n",
      "[82]\tvalidation_0-rmse:180.734\n",
      "[83]\tvalidation_0-rmse:180.57\n",
      "[84]\tvalidation_0-rmse:180.353\n",
      "[85]\tvalidation_0-rmse:180.166\n",
      "[86]\tvalidation_0-rmse:180\n",
      "[87]\tvalidation_0-rmse:179.815\n",
      "[88]\tvalidation_0-rmse:179.648\n",
      "[89]\tvalidation_0-rmse:179.492\n",
      "[90]\tvalidation_0-rmse:179.328\n",
      "[91]\tvalidation_0-rmse:179.187\n",
      "[92]\tvalidation_0-rmse:179.043\n",
      "[93]\tvalidation_0-rmse:178.891\n",
      "[94]\tvalidation_0-rmse:178.757\n",
      "[95]\tvalidation_0-rmse:178.606\n",
      "[96]\tvalidation_0-rmse:178.483\n",
      "[97]\tvalidation_0-rmse:178.307\n",
      "[98]\tvalidation_0-rmse:178.161\n",
      "[99]\tvalidation_0-rmse:178.021\n",
      "[100]\tvalidation_0-rmse:177.887\n",
      "[101]\tvalidation_0-rmse:177.73\n",
      "[102]\tvalidation_0-rmse:177.635\n",
      "[103]\tvalidation_0-rmse:177.509\n",
      "[104]\tvalidation_0-rmse:177.397\n",
      "[105]\tvalidation_0-rmse:177.241\n",
      "[106]\tvalidation_0-rmse:177.16\n",
      "[107]\tvalidation_0-rmse:177.049\n",
      "[108]\tvalidation_0-rmse:176.934\n",
      "[109]\tvalidation_0-rmse:176.812\n",
      "[110]\tvalidation_0-rmse:176.694\n",
      "[111]\tvalidation_0-rmse:176.547\n",
      "[112]\tvalidation_0-rmse:176.423\n",
      "[113]\tvalidation_0-rmse:176.311\n",
      "[114]\tvalidation_0-rmse:176.227\n",
      "[115]\tvalidation_0-rmse:176.11\n",
      "[116]\tvalidation_0-rmse:176.006\n",
      "[117]\tvalidation_0-rmse:175.893\n",
      "[118]\tvalidation_0-rmse:175.8\n",
      "[119]\tvalidation_0-rmse:175.697\n",
      "[120]\tvalidation_0-rmse:175.626\n",
      "[121]\tvalidation_0-rmse:175.507\n",
      "[122]\tvalidation_0-rmse:175.407\n",
      "[123]\tvalidation_0-rmse:175.299\n",
      "[124]\tvalidation_0-rmse:175.186\n",
      "[125]\tvalidation_0-rmse:175.098\n",
      "[126]\tvalidation_0-rmse:175.055\n",
      "[127]\tvalidation_0-rmse:174.939\n",
      "[128]\tvalidation_0-rmse:174.85\n",
      "[129]\tvalidation_0-rmse:174.767\n",
      "[130]\tvalidation_0-rmse:174.688\n",
      "[131]\tvalidation_0-rmse:174.646\n",
      "[132]\tvalidation_0-rmse:174.572\n",
      "[133]\tvalidation_0-rmse:174.475\n",
      "[134]\tvalidation_0-rmse:174.402\n",
      "[135]\tvalidation_0-rmse:174.361\n",
      "[136]\tvalidation_0-rmse:174.29\n",
      "[137]\tvalidation_0-rmse:174.212\n",
      "[138]\tvalidation_0-rmse:174.138\n",
      "[139]\tvalidation_0-rmse:174.05\n",
      "[140]\tvalidation_0-rmse:174.006\n",
      "[141]\tvalidation_0-rmse:173.93\n",
      "[142]\tvalidation_0-rmse:173.858\n",
      "[143]\tvalidation_0-rmse:173.788\n",
      "[144]\tvalidation_0-rmse:173.742\n",
      "[145]\tvalidation_0-rmse:173.677\n",
      "[146]\tvalidation_0-rmse:173.601\n",
      "[147]\tvalidation_0-rmse:173.546\n",
      "[148]\tvalidation_0-rmse:173.511\n",
      "[149]\tvalidation_0-rmse:173.479\n",
      "[150]\tvalidation_0-rmse:173.425\n",
      "[151]\tvalidation_0-rmse:173.389\n",
      "[152]\tvalidation_0-rmse:173.339\n",
      "[153]\tvalidation_0-rmse:173.287\n",
      "[154]\tvalidation_0-rmse:173.22\n",
      "[155]\tvalidation_0-rmse:173.174\n",
      "[156]\tvalidation_0-rmse:173.109\n",
      "[157]\tvalidation_0-rmse:173.079\n",
      "[158]\tvalidation_0-rmse:173.042\n",
      "[159]\tvalidation_0-rmse:173.008\n",
      "[160]\tvalidation_0-rmse:172.956\n",
      "[161]\tvalidation_0-rmse:172.912\n",
      "[162]\tvalidation_0-rmse:172.865\n",
      "[163]\tvalidation_0-rmse:172.825\n",
      "[164]\tvalidation_0-rmse:172.79\n",
      "[165]\tvalidation_0-rmse:172.763\n",
      "[166]\tvalidation_0-rmse:172.707\n",
      "[167]\tvalidation_0-rmse:172.666\n",
      "[168]\tvalidation_0-rmse:172.644\n",
      "[169]\tvalidation_0-rmse:172.607\n",
      "[170]\tvalidation_0-rmse:172.574\n",
      "[171]\tvalidation_0-rmse:172.545\n",
      "[172]\tvalidation_0-rmse:172.514\n",
      "[173]\tvalidation_0-rmse:172.483\n",
      "[174]\tvalidation_0-rmse:172.456\n",
      "[175]\tvalidation_0-rmse:172.443\n",
      "[176]\tvalidation_0-rmse:172.414\n",
      "[177]\tvalidation_0-rmse:172.379\n",
      "[178]\tvalidation_0-rmse:172.34\n",
      "[179]\tvalidation_0-rmse:172.338\n",
      "[180]\tvalidation_0-rmse:172.313\n",
      "[181]\tvalidation_0-rmse:172.284\n",
      "[182]\tvalidation_0-rmse:172.232\n",
      "[183]\tvalidation_0-rmse:172.208\n",
      "[184]\tvalidation_0-rmse:172.171\n",
      "[185]\tvalidation_0-rmse:172.175\n",
      "[186]\tvalidation_0-rmse:172.156\n",
      "[187]\tvalidation_0-rmse:172.144\n",
      "[188]\tvalidation_0-rmse:172.129\n",
      "[189]\tvalidation_0-rmse:172.121\n",
      "[190]\tvalidation_0-rmse:172.117\n",
      "[191]\tvalidation_0-rmse:172.083\n",
      "[192]\tvalidation_0-rmse:172.074\n",
      "[193]\tvalidation_0-rmse:172.02\n",
      "[194]\tvalidation_0-rmse:172.001\n",
      "[195]\tvalidation_0-rmse:171.989\n",
      "[196]\tvalidation_0-rmse:171.967\n",
      "[197]\tvalidation_0-rmse:171.956\n",
      "[198]\tvalidation_0-rmse:171.952\n",
      "[199]\tvalidation_0-rmse:171.945\n",
      "[200]\tvalidation_0-rmse:171.923\n",
      "[201]\tvalidation_0-rmse:171.905\n",
      "[202]\tvalidation_0-rmse:171.879\n",
      "[203]\tvalidation_0-rmse:171.865\n",
      "[204]\tvalidation_0-rmse:171.849\n",
      "[205]\tvalidation_0-rmse:171.838\n",
      "[206]\tvalidation_0-rmse:171.828\n",
      "[207]\tvalidation_0-rmse:171.808\n",
      "[208]\tvalidation_0-rmse:171.813\n",
      "[209]\tvalidation_0-rmse:171.797\n",
      "[210]\tvalidation_0-rmse:171.77\n",
      "[211]\tvalidation_0-rmse:171.779\n",
      "[212]\tvalidation_0-rmse:171.76\n",
      "[213]\tvalidation_0-rmse:171.753\n",
      "[214]\tvalidation_0-rmse:171.742\n",
      "[215]\tvalidation_0-rmse:171.751\n",
      "[216]\tvalidation_0-rmse:171.743\n",
      "[217]\tvalidation_0-rmse:171.738\n",
      "[218]\tvalidation_0-rmse:171.727\n",
      "[219]\tvalidation_0-rmse:171.711\n",
      "[220]\tvalidation_0-rmse:171.69\n",
      "[221]\tvalidation_0-rmse:171.686\n",
      "[222]\tvalidation_0-rmse:171.687\n",
      "[223]\tvalidation_0-rmse:171.672\n",
      "[224]\tvalidation_0-rmse:171.659\n",
      "[225]\tvalidation_0-rmse:171.652\n",
      "[226]\tvalidation_0-rmse:171.632\n",
      "[227]\tvalidation_0-rmse:171.637\n",
      "[228]\tvalidation_0-rmse:171.622\n",
      "[229]\tvalidation_0-rmse:171.626\n",
      "[230]\tvalidation_0-rmse:171.62\n",
      "[231]\tvalidation_0-rmse:171.612\n",
      "[232]\tvalidation_0-rmse:171.613\n",
      "[233]\tvalidation_0-rmse:171.595\n",
      "[234]\tvalidation_0-rmse:171.599\n",
      "[235]\tvalidation_0-rmse:171.587\n",
      "[236]\tvalidation_0-rmse:171.578\n",
      "[237]\tvalidation_0-rmse:171.575\n",
      "[238]\tvalidation_0-rmse:171.589\n",
      "[239]\tvalidation_0-rmse:171.596\n",
      "[240]\tvalidation_0-rmse:171.616\n",
      "[241]\tvalidation_0-rmse:171.597\n",
      "[242]\tvalidation_0-rmse:171.614\n",
      "[243]\tvalidation_0-rmse:171.613\n",
      "[244]\tvalidation_0-rmse:171.614\n",
      "[245]\tvalidation_0-rmse:171.613\n",
      "[246]\tvalidation_0-rmse:171.615\n",
      "237 171.575073\n"
     ]
    }
   ],
   "source": [
    "#max_depth = 10\n",
    "#min_child_weight = 1\n",
    "#colsample_bytree = 0.7\n",
    "#subsample = 1.0\n",
    "\n",
    "metaxgb = xgb.XGBRegressor( \n",
    "                        learning_rate = 0.01,\n",
    "                        n_estimators = 247,\n",
    "                        max_depth = 16,\n",
    "                        min_child_weight = 1,\n",
    "                        subsample = 0.54,\n",
    "                        colsample_bytree = 0.775,\n",
    "                        objective = 'reg:linear',\n",
    "                        reg_alpha= 0.69,\n",
    "                        reg_lambda = 0.9997,\n",
    "                        gamma = 0.8679,\n",
    "                        seed = 27)\n",
    "metaxgb.fit(ensX, ensy, \n",
    "                 eval_set=[(finX, finy)], \n",
    "                 eval_metric='rmse',\n",
    "                 early_stopping_rounds=100,                 \n",
    "                 verbose=True)\n",
    "\n",
    "print(metaxgb.best_iteration, metaxgb.best_score)"
   ]
  },
  {
   "cell_type": "code",
   "execution_count": 49,
   "metadata": {},
   "outputs": [
    {
     "name": "stdout",
     "output_type": "stream",
     "text": [
      "R2 Train: 0.769598262414\n",
      "RMSE Train: 94.60166505874837\n",
      "MAE Train:  35.8499552813\n",
      "RMSE Val: 171.6151239079561\n",
      "MAE Val:  61.7040445525\n"
     ]
    }
   ],
   "source": [
    "y_true, y_pred = ensy, metaxgb.predict(ensX)\n",
    "y_true2, y_pred2 = finy, metaxgb.predict(finX)\n",
    "# y_true = inv_boxcox(y_true, lmda)\n",
    "# y_pred = inv_boxcox(y_pred, lmda)\n",
    "# y_true2 = inv_boxcox(y_true2, lmda)\n",
    "# y_pred2 = inv_boxcox(y_pred2, lmda)\n",
    "print('R2 Train: ' + str(r2_score(y_true, y_pred)))\n",
    "rmse = math.sqrt(mean_squared_error(y_true, y_pred))\n",
    "print('RMSE Train: ' + str(rmse))\n",
    "mae = mean_absolute_error(y_true, y_pred)\n",
    "print('MAE Train: ', mae)\n",
    "rmse = math.sqrt(mean_squared_error(y_true2, y_pred2))\n",
    "print('RMSE Val: ' + str(rmse))\n",
    "mae = mean_absolute_error(y_true2, y_pred2)\n",
    "print('MAE Val: ', mae)\n",
    "\n",
    "\n",
    "\n",
    "testing = pd.DataFrame({'true':y_true2[:,0], 'pred':y_pred2})\n"
   ]
  },
  {
   "cell_type": "code",
   "execution_count": 50,
   "metadata": {},
   "outputs": [
    {
     "data": {
      "image/png": "[encoded data removed]",
      "text/plain": [
       "<matplotlib.figure.Figure at 0x377bb898>"
      ]
     },
     "metadata": {},
     "output_type": "display_data"
    },
    {
     "name": "stdout",
     "output_type": "stream",
     "text": [
      "Anderson-Darling: 2867.3822929621747 Critical Value: 0.787 \n"
     ]
    },
    {
     "data": {
      "image/png": "[encoded data removed]",
      "text/plain": [
       "<matplotlib.figure.Figure at 0x3425b780>"
      ]
     },
     "metadata": {},
     "output_type": "display_data"
    }
   ],
   "source": [
    "\n",
    "testing['resid'] = testing['pred']-testing['true']\n",
    "testing['stdresid'] = testing['resid']/np.std(testing['resid'])\n",
    "\n",
    "plt.plot(testing['stdresid'], '.', alpha = 0.5, color='black')\n",
    "plt.axhline(y=0, color = 'green')\n",
    "plt.axhline(y=2, color = 'blue', linestyle='--')\n",
    "plt.axhline(y=-2, color = 'blue', linestyle='--')\n",
    "plt.axhline(y=3, color = 'red', linestyle='--')\n",
    "plt.axhline(y=-3, color = 'red', linestyle='--')\n",
    "\n",
    "plt.title('Standardized Residuals')\n",
    "plt.ylabel('Standard Deviations')\n",
    "plt.xlabel('Observation Number')\n",
    "plt.show()\n",
    "\n",
    "stat, cv, sig = stats.anderson(testing['stdresid'], 'norm')\n",
    "print('Anderson-Darling: {} Critical Value: {} '.format(stat, cv[2]))\n",
    "\n",
    "plt.hist(testing['stdresid'], bins=25)\n",
    "plt.show()\n"
   ]
  },
  {
   "cell_type": "code",
   "execution_count": 72,
   "metadata": {},
   "outputs": [
    {
     "name": "stdout",
     "output_type": "stream",
     "text": [
      "INFO:tensorflow:Using default config.\n"
     ]
    },
    {
     "name": "stderr",
     "output_type": "stream",
     "text": [
      "INFO:tensorflow:Using default config.\n"
     ]
    },
    {
     "name": "stdout",
     "output_type": "stream",
     "text": [
      "WARNING:tensorflow:Using temporary folder as model directory: C:\\Temp\\tmp1k5m33sl\n"
     ]
    },
    {
     "name": "stderr",
     "output_type": "stream",
     "text": [
      "WARNING:tensorflow:Using temporary folder as model directory: C:\\Temp\\tmp1k5m33sl\n"
     ]
    },
    {
     "name": "stdout",
     "output_type": "stream",
     "text": [
      "INFO:tensorflow:Using config: {'_model_dir': 'C:\\\\Temp\\\\tmp1k5m33sl', '_tf_random_seed': None, '_save_summary_steps': 100, '_save_checkpoints_steps': None, '_save_checkpoints_secs': 600, '_session_config': None, '_keep_checkpoint_max': 5, '_keep_checkpoint_every_n_hours': 10000, '_log_step_count_steps': 100, '_service': None, '_cluster_spec': <tensorflow.python.training.server_lib.ClusterSpec object at 0x000000002D00EB38>, '_task_type': 'worker', '_task_id': 0, '_master': '', '_is_chief': True, '_num_ps_replicas': 0, '_num_worker_replicas': 1}\n"
     ]
    },
    {
     "name": "stderr",
     "output_type": "stream",
     "text": [
      "INFO:tensorflow:Using config: {'_model_dir': 'C:\\\\Temp\\\\tmp1k5m33sl', '_tf_random_seed': None, '_save_summary_steps': 100, '_save_checkpoints_steps': None, '_save_checkpoints_secs': 600, '_session_config': None, '_keep_checkpoint_max': 5, '_keep_checkpoint_every_n_hours': 10000, '_log_step_count_steps': 100, '_service': None, '_cluster_spec': <tensorflow.python.training.server_lib.ClusterSpec object at 0x000000002D00EB38>, '_task_type': 'worker', '_task_id': 0, '_master': '', '_is_chief': True, '_num_ps_replicas': 0, '_num_worker_replicas': 1}\n"
     ]
    },
    {
     "name": "stdout",
     "output_type": "stream",
     "text": [
      "INFO:tensorflow:Create CheckpointSaverHook.\n"
     ]
    },
    {
     "name": "stderr",
     "output_type": "stream",
     "text": [
      "INFO:tensorflow:Create CheckpointSaverHook.\n"
     ]
    },
    {
     "name": "stdout",
     "output_type": "stream",
     "text": [
      "INFO:tensorflow:Saving checkpoints for 1 into C:\\Temp\\tmp1k5m33sl\\model.ckpt.\n"
     ]
    },
    {
     "name": "stderr",
     "output_type": "stream",
     "text": [
      "INFO:tensorflow:Saving checkpoints for 1 into C:\\Temp\\tmp1k5m33sl\\model.ckpt.\n"
     ]
    },
    {
     "name": "stdout",
     "output_type": "stream",
     "text": [
      "INFO:tensorflow:loss = 0.00306191, step = 1\n"
     ]
    },
    {
     "name": "stderr",
     "output_type": "stream",
     "text": [
      "INFO:tensorflow:loss = 0.00306191, step = 1\n"
     ]
    },
    {
     "name": "stdout",
     "output_type": "stream",
     "text": [
      "INFO:tensorflow:global_step/sec: 884.869\n"
     ]
    },
    {
     "name": "stderr",
     "output_type": "stream",
     "text": [
      "INFO:tensorflow:global_step/sec: 884.869\n"
     ]
    },
    {
     "name": "stdout",
     "output_type": "stream",
     "text": [
      "INFO:tensorflow:loss = 31.2608, step = 101 (0.115 sec)\n"
     ]
    },
    {
     "name": "stderr",
     "output_type": "stream",
     "text": [
      "INFO:tensorflow:loss = 31.2608, step = 101 (0.115 sec)\n"
     ]
    },
    {
     "name": "stdout",
     "output_type": "stream",
     "text": [
      "INFO:tensorflow:global_step/sec: 1249.87\n"
     ]
    },
    {
     "name": "stderr",
     "output_type": "stream",
     "text": [
      "INFO:tensorflow:global_step/sec: 1249.87\n"
     ]
    },
    {
     "name": "stdout",
     "output_type": "stream",
     "text": [
      "INFO:tensorflow:loss = 66.7599, step = 201 (0.080 sec)\n"
     ]
    },
    {
     "name": "stderr",
     "output_type": "stream",
     "text": [
      "INFO:tensorflow:loss = 66.7599, step = 201 (0.080 sec)\n"
     ]
    },
    {
     "name": "stdout",
     "output_type": "stream",
     "text": [
      "INFO:tensorflow:global_step/sec: 1298.57\n"
     ]
    },
    {
     "name": "stderr",
     "output_type": "stream",
     "text": [
      "INFO:tensorflow:global_step/sec: 1298.57\n"
     ]
    },
    {
     "name": "stdout",
     "output_type": "stream",
     "text": [
      "INFO:tensorflow:loss = 249.801, step = 301 (0.077 sec)\n"
     ]
    },
    {
     "name": "stderr",
     "output_type": "stream",
     "text": [
      "INFO:tensorflow:loss = 249.801, step = 301 (0.077 sec)\n"
     ]
    },
    {
     "name": "stdout",
     "output_type": "stream",
     "text": [
      "INFO:tensorflow:global_step/sec: 1265.69\n"
     ]
    },
    {
     "name": "stderr",
     "output_type": "stream",
     "text": [
      "INFO:tensorflow:global_step/sec: 1265.69\n"
     ]
    },
    {
     "name": "stdout",
     "output_type": "stream",
     "text": [
      "INFO:tensorflow:loss = 163.365, step = 401 (0.078 sec)\n"
     ]
    },
    {
     "name": "stderr",
     "output_type": "stream",
     "text": [
      "INFO:tensorflow:loss = 163.365, step = 401 (0.078 sec)\n"
     ]
    },
    {
     "name": "stdout",
     "output_type": "stream",
     "text": [
      "INFO:tensorflow:global_step/sec: 1298.57\n"
     ]
    },
    {
     "name": "stderr",
     "output_type": "stream",
     "text": [
      "INFO:tensorflow:global_step/sec: 1298.57\n"
     ]
    },
    {
     "name": "stdout",
     "output_type": "stream",
     "text": [
      "INFO:tensorflow:loss = 4791.04, step = 501 (0.079 sec)\n"
     ]
    },
    {
     "name": "stderr",
     "output_type": "stream",
     "text": [
      "INFO:tensorflow:loss = 4791.04, step = 501 (0.079 sec)\n"
     ]
    },
    {
     "name": "stdout",
     "output_type": "stream",
     "text": [
      "INFO:tensorflow:global_step/sec: 1265.69\n"
     ]
    },
    {
     "name": "stderr",
     "output_type": "stream",
     "text": [
      "INFO:tensorflow:global_step/sec: 1265.69\n"
     ]
    },
    {
     "name": "stdout",
     "output_type": "stream",
     "text": [
      "INFO:tensorflow:loss = 7.83075, step = 601 (0.078 sec)\n"
     ]
    },
    {
     "name": "stderr",
     "output_type": "stream",
     "text": [
      "INFO:tensorflow:loss = 7.83075, step = 601 (0.078 sec)\n"
     ]
    },
    {
     "name": "stdout",
     "output_type": "stream",
     "text": [
      "INFO:tensorflow:global_step/sec: 1298.57\n"
     ]
    },
    {
     "name": "stderr",
     "output_type": "stream",
     "text": [
      "INFO:tensorflow:global_step/sec: 1298.57\n"
     ]
    },
    {
     "name": "stdout",
     "output_type": "stream",
     "text": [
      "INFO:tensorflow:loss = 152.575, step = 701 (0.077 sec)\n"
     ]
    },
    {
     "name": "stderr",
     "output_type": "stream",
     "text": [
      "INFO:tensorflow:loss = 152.575, step = 701 (0.077 sec)\n"
     ]
    },
    {
     "name": "stdout",
     "output_type": "stream",
     "text": [
      "INFO:tensorflow:global_step/sec: 1265.7\n"
     ]
    },
    {
     "name": "stderr",
     "output_type": "stream",
     "text": [
      "INFO:tensorflow:global_step/sec: 1265.7\n"
     ]
    },
    {
     "name": "stdout",
     "output_type": "stream",
     "text": [
      "INFO:tensorflow:loss = 1647.42, step = 801 (0.078 sec)\n"
     ]
    },
    {
     "name": "stderr",
     "output_type": "stream",
     "text": [
      "INFO:tensorflow:loss = 1647.42, step = 801 (0.078 sec)\n"
     ]
    },
    {
     "name": "stdout",
     "output_type": "stream",
     "text": [
      "INFO:tensorflow:global_step/sec: 1298.57\n"
     ]
    },
    {
     "name": "stderr",
     "output_type": "stream",
     "text": [
      "INFO:tensorflow:global_step/sec: 1298.57\n"
     ]
    },
    {
     "name": "stdout",
     "output_type": "stream",
     "text": [
      "INFO:tensorflow:loss = 210.524, step = 901 (0.078 sec)\n"
     ]
    },
    {
     "name": "stderr",
     "output_type": "stream",
     "text": [
      "INFO:tensorflow:loss = 210.524, step = 901 (0.078 sec)\n"
     ]
    },
    {
     "name": "stdout",
     "output_type": "stream",
     "text": [
      "INFO:tensorflow:global_step/sec: 1298.57\n"
     ]
    },
    {
     "name": "stderr",
     "output_type": "stream",
     "text": [
      "INFO:tensorflow:global_step/sec: 1298.57\n"
     ]
    },
    {
     "name": "stdout",
     "output_type": "stream",
     "text": [
      "INFO:tensorflow:loss = 3810.75, step = 1001 (0.076 sec)\n"
     ]
    },
    {
     "name": "stderr",
     "output_type": "stream",
     "text": [
      "INFO:tensorflow:loss = 3810.75, step = 1001 (0.076 sec)\n"
     ]
    },
    {
     "name": "stdout",
     "output_type": "stream",
     "text": [
      "INFO:tensorflow:global_step/sec: 1315.65\n"
     ]
    },
    {
     "name": "stderr",
     "output_type": "stream",
     "text": [
      "INFO:tensorflow:global_step/sec: 1315.65\n"
     ]
    },
    {
     "name": "stdout",
     "output_type": "stream",
     "text": [
      "INFO:tensorflow:loss = 217.193, step = 1101 (0.077 sec)\n"
     ]
    },
    {
     "name": "stderr",
     "output_type": "stream",
     "text": [
      "INFO:tensorflow:loss = 217.193, step = 1101 (0.077 sec)\n"
     ]
    },
    {
     "name": "stdout",
     "output_type": "stream",
     "text": [
      "INFO:tensorflow:global_step/sec: 1249.88\n"
     ]
    },
    {
     "name": "stderr",
     "output_type": "stream",
     "text": [
      "INFO:tensorflow:global_step/sec: 1249.88\n"
     ]
    },
    {
     "name": "stdout",
     "output_type": "stream",
     "text": [
      "INFO:tensorflow:loss = 240.597, step = 1201 (0.079 sec)\n"
     ]
    },
    {
     "name": "stderr",
     "output_type": "stream",
     "text": [
      "INFO:tensorflow:loss = 240.597, step = 1201 (0.079 sec)\n"
     ]
    },
    {
     "name": "stdout",
     "output_type": "stream",
     "text": [
      "INFO:tensorflow:global_step/sec: 1315.65\n"
     ]
    },
    {
     "name": "stderr",
     "output_type": "stream",
     "text": [
      "INFO:tensorflow:global_step/sec: 1315.65\n"
     ]
    },
    {
     "name": "stdout",
     "output_type": "stream",
     "text": [
      "INFO:tensorflow:loss = 1137.81, step = 1301 (0.077 sec)\n"
     ]
    },
    {
     "name": "stderr",
     "output_type": "stream",
     "text": [
      "INFO:tensorflow:loss = 1137.81, step = 1301 (0.077 sec)\n"
     ]
    },
    {
     "name": "stdout",
     "output_type": "stream",
     "text": [
      "INFO:tensorflow:global_step/sec: 1333.2\n"
     ]
    },
    {
     "name": "stderr",
     "output_type": "stream",
     "text": [
      "INFO:tensorflow:global_step/sec: 1333.2\n"
     ]
    },
    {
     "name": "stdout",
     "output_type": "stream",
     "text": [
      "INFO:tensorflow:loss = 36686.6, step = 1401 (0.074 sec)\n"
     ]
    },
    {
     "name": "stderr",
     "output_type": "stream",
     "text": [
      "INFO:tensorflow:loss = 36686.6, step = 1401 (0.074 sec)\n"
     ]
    },
    {
     "name": "stdout",
     "output_type": "stream",
     "text": [
      "INFO:tensorflow:global_step/sec: 1408.31\n"
     ]
    },
    {
     "name": "stderr",
     "output_type": "stream",
     "text": [
      "INFO:tensorflow:global_step/sec: 1408.31\n"
     ]
    },
    {
     "name": "stdout",
     "output_type": "stream",
     "text": [
      "INFO:tensorflow:loss = 288.273, step = 1501 (0.072 sec)\n"
     ]
    },
    {
     "name": "stderr",
     "output_type": "stream",
     "text": [
      "INFO:tensorflow:loss = 288.273, step = 1501 (0.072 sec)\n"
     ]
    },
    {
     "name": "stdout",
     "output_type": "stream",
     "text": [
      "INFO:tensorflow:global_step/sec: 1388.75\n"
     ]
    },
    {
     "name": "stderr",
     "output_type": "stream",
     "text": [
      "INFO:tensorflow:global_step/sec: 1388.75\n"
     ]
    },
    {
     "name": "stdout",
     "output_type": "stream",
     "text": [
      "INFO:tensorflow:loss = 8311.63, step = 1601 (0.071 sec)\n"
     ]
    },
    {
     "name": "stderr",
     "output_type": "stream",
     "text": [
      "INFO:tensorflow:loss = 8311.63, step = 1601 (0.071 sec)\n"
     ]
    },
    {
     "name": "stdout",
     "output_type": "stream",
     "text": [
      "INFO:tensorflow:global_step/sec: 1281.92\n"
     ]
    },
    {
     "name": "stderr",
     "output_type": "stream",
     "text": [
      "INFO:tensorflow:global_step/sec: 1281.92\n"
     ]
    },
    {
     "name": "stdout",
     "output_type": "stream",
     "text": [
      "INFO:tensorflow:loss = 138.314, step = 1701 (0.078 sec)\n"
     ]
    },
    {
     "name": "stderr",
     "output_type": "stream",
     "text": [
      "INFO:tensorflow:loss = 138.314, step = 1701 (0.078 sec)\n"
     ]
    },
    {
     "name": "stdout",
     "output_type": "stream",
     "text": [
      "INFO:tensorflow:global_step/sec: 1388.75\n"
     ]
    },
    {
     "name": "stderr",
     "output_type": "stream",
     "text": [
      "INFO:tensorflow:global_step/sec: 1388.75\n"
     ]
    },
    {
     "name": "stdout",
     "output_type": "stream",
     "text": [
      "INFO:tensorflow:loss = 134.001, step = 1801 (0.073 sec)\n"
     ]
    },
    {
     "name": "stderr",
     "output_type": "stream",
     "text": [
      "INFO:tensorflow:loss = 134.001, step = 1801 (0.073 sec)\n"
     ]
    },
    {
     "name": "stdout",
     "output_type": "stream",
     "text": [
      "INFO:tensorflow:global_step/sec: 1369.73\n"
     ]
    },
    {
     "name": "stderr",
     "output_type": "stream",
     "text": [
      "INFO:tensorflow:global_step/sec: 1369.73\n"
     ]
    },
    {
     "name": "stdout",
     "output_type": "stream",
     "text": [
      "INFO:tensorflow:loss = 142.463, step = 1901 (0.072 sec)\n"
     ]
    },
    {
     "name": "stderr",
     "output_type": "stream",
     "text": [
      "INFO:tensorflow:loss = 142.463, step = 1901 (0.072 sec)\n"
     ]
    },
    {
     "name": "stdout",
     "output_type": "stream",
     "text": [
      "INFO:tensorflow:global_step/sec: 1388.75\n"
     ]
    },
    {
     "name": "stderr",
     "output_type": "stream",
     "text": [
      "INFO:tensorflow:global_step/sec: 1388.75\n"
     ]
    },
    {
     "name": "stdout",
     "output_type": "stream",
     "text": [
      "INFO:tensorflow:loss = 118.286, step = 2001 (0.073 sec)\n"
     ]
    },
    {
     "name": "stderr",
     "output_type": "stream",
     "text": [
      "INFO:tensorflow:loss = 118.286, step = 2001 (0.073 sec)\n"
     ]
    },
    {
     "name": "stdout",
     "output_type": "stream",
     "text": [
      "INFO:tensorflow:global_step/sec: 1388.75\n"
     ]
    },
    {
     "name": "stderr",
     "output_type": "stream",
     "text": [
      "INFO:tensorflow:global_step/sec: 1388.75\n"
     ]
    },
    {
     "name": "stdout",
     "output_type": "stream",
     "text": [
      "INFO:tensorflow:loss = 113.45, step = 2101 (0.072 sec)\n"
     ]
    },
    {
     "name": "stderr",
     "output_type": "stream",
     "text": [
      "INFO:tensorflow:loss = 113.45, step = 2101 (0.072 sec)\n"
     ]
    },
    {
     "name": "stdout",
     "output_type": "stream",
     "text": [
      "INFO:tensorflow:global_step/sec: 1369.73\n"
     ]
    },
    {
     "name": "stderr",
     "output_type": "stream",
     "text": [
      "INFO:tensorflow:global_step/sec: 1369.73\n"
     ]
    },
    {
     "name": "stdout",
     "output_type": "stream",
     "text": [
      "INFO:tensorflow:loss = 76.365, step = 2201 (0.072 sec)\n"
     ]
    },
    {
     "name": "stderr",
     "output_type": "stream",
     "text": [
      "INFO:tensorflow:loss = 76.365, step = 2201 (0.072 sec)\n"
     ]
    },
    {
     "name": "stdout",
     "output_type": "stream",
     "text": [
      "INFO:tensorflow:global_step/sec: 1428.43\n"
     ]
    },
    {
     "name": "stderr",
     "output_type": "stream",
     "text": [
      "INFO:tensorflow:global_step/sec: 1428.43\n"
     ]
    },
    {
     "name": "stdout",
     "output_type": "stream",
     "text": [
      "INFO:tensorflow:loss = 143.279, step = 2301 (0.070 sec)\n"
     ]
    },
    {
     "name": "stderr",
     "output_type": "stream",
     "text": [
      "INFO:tensorflow:loss = 143.279, step = 2301 (0.070 sec)\n"
     ]
    },
    {
     "name": "stdout",
     "output_type": "stream",
     "text": [
      "INFO:tensorflow:global_step/sec: 1408.31\n"
     ]
    },
    {
     "name": "stderr",
     "output_type": "stream",
     "text": [
      "INFO:tensorflow:global_step/sec: 1408.31\n"
     ]
    },
    {
     "name": "stdout",
     "output_type": "stream",
     "text": [
      "INFO:tensorflow:loss = 3580.23, step = 2401 (0.071 sec)\n"
     ]
    },
    {
     "name": "stderr",
     "output_type": "stream",
     "text": [
      "INFO:tensorflow:loss = 3580.23, step = 2401 (0.071 sec)\n"
     ]
    },
    {
     "name": "stdout",
     "output_type": "stream",
     "text": [
      "INFO:tensorflow:global_step/sec: 1369.73\n"
     ]
    },
    {
     "name": "stderr",
     "output_type": "stream",
     "text": [
      "INFO:tensorflow:global_step/sec: 1369.73\n"
     ]
    },
    {
     "name": "stdout",
     "output_type": "stream",
     "text": [
      "INFO:tensorflow:loss = 142.685, step = 2501 (0.073 sec)\n"
     ]
    },
    {
     "name": "stderr",
     "output_type": "stream",
     "text": [
      "INFO:tensorflow:loss = 142.685, step = 2501 (0.073 sec)\n"
     ]
    },
    {
     "name": "stdout",
     "output_type": "stream",
     "text": [
      "INFO:tensorflow:global_step/sec: 1388.75\n"
     ]
    },
    {
     "name": "stderr",
     "output_type": "stream",
     "text": [
      "INFO:tensorflow:global_step/sec: 1388.75\n"
     ]
    },
    {
     "name": "stdout",
     "output_type": "stream",
     "text": [
      "INFO:tensorflow:loss = 140.03, step = 2601 (0.074 sec)\n"
     ]
    },
    {
     "name": "stderr",
     "output_type": "stream",
     "text": [
      "INFO:tensorflow:loss = 140.03, step = 2601 (0.074 sec)\n"
     ]
    },
    {
     "name": "stdout",
     "output_type": "stream",
     "text": [
      "INFO:tensorflow:global_step/sec: 1369.73\n"
     ]
    },
    {
     "name": "stderr",
     "output_type": "stream",
     "text": [
      "INFO:tensorflow:global_step/sec: 1369.73\n"
     ]
    },
    {
     "name": "stdout",
     "output_type": "stream",
     "text": [
      "INFO:tensorflow:loss = 125.704, step = 2701 (0.072 sec)\n"
     ]
    },
    {
     "name": "stderr",
     "output_type": "stream",
     "text": [
      "INFO:tensorflow:loss = 125.704, step = 2701 (0.072 sec)\n"
     ]
    },
    {
     "name": "stdout",
     "output_type": "stream",
     "text": [
      "INFO:tensorflow:global_step/sec: 1351.21\n"
     ]
    },
    {
     "name": "stderr",
     "output_type": "stream",
     "text": [
      "INFO:tensorflow:global_step/sec: 1351.21\n"
     ]
    },
    {
     "name": "stdout",
     "output_type": "stream",
     "text": [
      "INFO:tensorflow:loss = 124.297, step = 2801 (0.073 sec)\n"
     ]
    },
    {
     "name": "stderr",
     "output_type": "stream",
     "text": [
      "INFO:tensorflow:loss = 124.297, step = 2801 (0.073 sec)\n"
     ]
    },
    {
     "name": "stdout",
     "output_type": "stream",
     "text": [
      "INFO:tensorflow:global_step/sec: 1428.43\n"
     ]
    },
    {
     "name": "stderr",
     "output_type": "stream",
     "text": [
      "INFO:tensorflow:global_step/sec: 1428.43\n"
     ]
    },
    {
     "name": "stdout",
     "output_type": "stream",
     "text": [
      "INFO:tensorflow:loss = 125.382, step = 2901 (0.071 sec)\n"
     ]
    },
    {
     "name": "stderr",
     "output_type": "stream",
     "text": [
      "INFO:tensorflow:loss = 125.382, step = 2901 (0.071 sec)\n"
     ]
    },
    {
     "name": "stdout",
     "output_type": "stream",
     "text": [
      "INFO:tensorflow:global_step/sec: 1428.43\n"
     ]
    },
    {
     "name": "stderr",
     "output_type": "stream",
     "text": [
      "INFO:tensorflow:global_step/sec: 1428.43\n"
     ]
    },
    {
     "name": "stdout",
     "output_type": "stream",
     "text": [
      "INFO:tensorflow:loss = 30960.1, step = 3001 (0.070 sec)\n"
     ]
    },
    {
     "name": "stderr",
     "output_type": "stream",
     "text": [
      "INFO:tensorflow:loss = 30960.1, step = 3001 (0.070 sec)\n"
     ]
    },
    {
     "name": "stdout",
     "output_type": "stream",
     "text": [
      "INFO:tensorflow:global_step/sec: 1388.75\n"
     ]
    },
    {
     "name": "stderr",
     "output_type": "stream",
     "text": [
      "INFO:tensorflow:global_step/sec: 1388.75\n"
     ]
    },
    {
     "name": "stdout",
     "output_type": "stream",
     "text": [
      "INFO:tensorflow:loss = 104547.0, step = 3101 (0.072 sec)\n"
     ]
    },
    {
     "name": "stderr",
     "output_type": "stream",
     "text": [
      "INFO:tensorflow:loss = 104547.0, step = 3101 (0.072 sec)\n"
     ]
    },
    {
     "name": "stdout",
     "output_type": "stream",
     "text": [
      "INFO:tensorflow:global_step/sec: 1408.31\n"
     ]
    },
    {
     "name": "stderr",
     "output_type": "stream",
     "text": [
      "INFO:tensorflow:global_step/sec: 1408.31\n"
     ]
    },
    {
     "name": "stdout",
     "output_type": "stream",
     "text": [
      "INFO:tensorflow:loss = 180.282, step = 3201 (0.071 sec)\n"
     ]
    },
    {
     "name": "stderr",
     "output_type": "stream",
     "text": [
      "INFO:tensorflow:loss = 180.282, step = 3201 (0.071 sec)\n"
     ]
    },
    {
     "name": "stdout",
     "output_type": "stream",
     "text": [
      "INFO:tensorflow:global_step/sec: 1388.75\n"
     ]
    },
    {
     "name": "stderr",
     "output_type": "stream",
     "text": [
      "INFO:tensorflow:global_step/sec: 1388.75\n"
     ]
    },
    {
     "name": "stdout",
     "output_type": "stream",
     "text": [
      "INFO:tensorflow:loss = 13049.4, step = 3301 (0.071 sec)\n"
     ]
    },
    {
     "name": "stderr",
     "output_type": "stream",
     "text": [
      "INFO:tensorflow:loss = 13049.4, step = 3301 (0.071 sec)\n"
     ]
    },
    {
     "name": "stdout",
     "output_type": "stream",
     "text": [
      "INFO:tensorflow:global_step/sec: 1428.43\n"
     ]
    },
    {
     "name": "stderr",
     "output_type": "stream",
     "text": [
      "INFO:tensorflow:global_step/sec: 1428.43\n"
     ]
    },
    {
     "name": "stdout",
     "output_type": "stream",
     "text": [
      "INFO:tensorflow:loss = 213.063, step = 3401 (0.071 sec)\n"
     ]
    },
    {
     "name": "stderr",
     "output_type": "stream",
     "text": [
      "INFO:tensorflow:loss = 213.063, step = 3401 (0.071 sec)\n"
     ]
    },
    {
     "name": "stdout",
     "output_type": "stream",
     "text": [
      "INFO:tensorflow:global_step/sec: 1388.75\n"
     ]
    },
    {
     "name": "stderr",
     "output_type": "stream",
     "text": [
      "INFO:tensorflow:global_step/sec: 1388.75\n"
     ]
    },
    {
     "name": "stdout",
     "output_type": "stream",
     "text": [
      "INFO:tensorflow:loss = 35064.9, step = 3501 (0.072 sec)\n"
     ]
    },
    {
     "name": "stderr",
     "output_type": "stream",
     "text": [
      "INFO:tensorflow:loss = 35064.9, step = 3501 (0.072 sec)\n"
     ]
    },
    {
     "name": "stdout",
     "output_type": "stream",
     "text": [
      "INFO:tensorflow:global_step/sec: 1408.31\n"
     ]
    },
    {
     "name": "stderr",
     "output_type": "stream",
     "text": [
      "INFO:tensorflow:global_step/sec: 1408.31\n"
     ]
    },
    {
     "name": "stdout",
     "output_type": "stream",
     "text": [
      "INFO:tensorflow:loss = 173.044, step = 3601 (0.071 sec)\n"
     ]
    },
    {
     "name": "stderr",
     "output_type": "stream",
     "text": [
      "INFO:tensorflow:loss = 173.044, step = 3601 (0.071 sec)\n"
     ]
    },
    {
     "name": "stdout",
     "output_type": "stream",
     "text": [
      "INFO:tensorflow:global_step/sec: 1428.43\n"
     ]
    },
    {
     "name": "stderr",
     "output_type": "stream",
     "text": [
      "INFO:tensorflow:global_step/sec: 1428.43\n"
     ]
    },
    {
     "name": "stdout",
     "output_type": "stream",
     "text": [
      "INFO:tensorflow:loss = 2684.76, step = 3701 (0.069 sec)\n"
     ]
    },
    {
     "name": "stderr",
     "output_type": "stream",
     "text": [
      "INFO:tensorflow:loss = 2684.76, step = 3701 (0.069 sec)\n"
     ]
    },
    {
     "name": "stdout",
     "output_type": "stream",
     "text": [
      "INFO:tensorflow:global_step/sec: 1219.39\n"
     ]
    },
    {
     "name": "stderr",
     "output_type": "stream",
     "text": [
      "INFO:tensorflow:global_step/sec: 1219.39\n"
     ]
    },
    {
     "name": "stdout",
     "output_type": "stream",
     "text": [
      "INFO:tensorflow:loss = 662.055, step = 3801 (0.082 sec)\n"
     ]
    },
    {
     "name": "stderr",
     "output_type": "stream",
     "text": [
      "INFO:tensorflow:loss = 662.055, step = 3801 (0.082 sec)\n"
     ]
    },
    {
     "name": "stdout",
     "output_type": "stream",
     "text": [
      "INFO:tensorflow:global_step/sec: 1333.2\n"
     ]
    },
    {
     "name": "stderr",
     "output_type": "stream",
     "text": [
      "INFO:tensorflow:global_step/sec: 1333.2\n"
     ]
    },
    {
     "name": "stdout",
     "output_type": "stream",
     "text": [
      "INFO:tensorflow:loss = 21229.4, step = 3901 (0.075 sec)\n"
     ]
    },
    {
     "name": "stderr",
     "output_type": "stream",
     "text": [
      "INFO:tensorflow:loss = 21229.4, step = 3901 (0.075 sec)\n"
     ]
    },
    {
     "name": "stdout",
     "output_type": "stream",
     "text": [
      "INFO:tensorflow:global_step/sec: 1369.73\n"
     ]
    },
    {
     "name": "stderr",
     "output_type": "stream",
     "text": [
      "INFO:tensorflow:global_step/sec: 1369.73\n"
     ]
    },
    {
     "name": "stdout",
     "output_type": "stream",
     "text": [
      "INFO:tensorflow:loss = 133.572, step = 4001 (0.074 sec)\n"
     ]
    },
    {
     "name": "stderr",
     "output_type": "stream",
     "text": [
      "INFO:tensorflow:loss = 133.572, step = 4001 (0.074 sec)\n"
     ]
    },
    {
     "name": "stdout",
     "output_type": "stream",
     "text": [
      "INFO:tensorflow:global_step/sec: 1351.22\n"
     ]
    },
    {
     "name": "stderr",
     "output_type": "stream",
     "text": [
      "INFO:tensorflow:global_step/sec: 1351.22\n"
     ]
    },
    {
     "name": "stdout",
     "output_type": "stream",
     "text": [
      "INFO:tensorflow:loss = 421.967, step = 4101 (0.074 sec)\n"
     ]
    },
    {
     "name": "stderr",
     "output_type": "stream",
     "text": [
      "INFO:tensorflow:loss = 421.967, step = 4101 (0.074 sec)\n"
     ]
    },
    {
     "name": "stdout",
     "output_type": "stream",
     "text": [
      "INFO:tensorflow:global_step/sec: 1369.73\n"
     ]
    },
    {
     "name": "stderr",
     "output_type": "stream",
     "text": [
      "INFO:tensorflow:global_step/sec: 1369.73\n"
     ]
    },
    {
     "name": "stdout",
     "output_type": "stream",
     "text": [
      "INFO:tensorflow:loss = 17765.4, step = 4201 (0.073 sec)\n"
     ]
    },
    {
     "name": "stderr",
     "output_type": "stream",
     "text": [
      "INFO:tensorflow:loss = 17765.4, step = 4201 (0.073 sec)\n"
     ]
    },
    {
     "name": "stdout",
     "output_type": "stream",
     "text": [
      "INFO:tensorflow:global_step/sec: 1388.75\n"
     ]
    },
    {
     "name": "stderr",
     "output_type": "stream",
     "text": [
      "INFO:tensorflow:global_step/sec: 1388.75\n"
     ]
    },
    {
     "name": "stdout",
     "output_type": "stream",
     "text": [
      "INFO:tensorflow:loss = 145.829, step = 4301 (0.071 sec)\n"
     ]
    },
    {
     "name": "stderr",
     "output_type": "stream",
     "text": [
      "INFO:tensorflow:loss = 145.829, step = 4301 (0.071 sec)\n"
     ]
    },
    {
     "name": "stdout",
     "output_type": "stream",
     "text": [
      "INFO:tensorflow:global_step/sec: 1428.43\n"
     ]
    },
    {
     "name": "stderr",
     "output_type": "stream",
     "text": [
      "INFO:tensorflow:global_step/sec: 1428.43\n"
     ]
    },
    {
     "name": "stdout",
     "output_type": "stream",
     "text": [
      "INFO:tensorflow:loss = 139.293, step = 4401 (0.070 sec)\n"
     ]
    },
    {
     "name": "stderr",
     "output_type": "stream",
     "text": [
      "INFO:tensorflow:loss = 139.293, step = 4401 (0.070 sec)\n"
     ]
    },
    {
     "name": "stdout",
     "output_type": "stream",
     "text": [
      "INFO:tensorflow:global_step/sec: 1428.43\n"
     ]
    },
    {
     "name": "stderr",
     "output_type": "stream",
     "text": [
      "INFO:tensorflow:global_step/sec: 1428.43\n"
     ]
    },
    {
     "name": "stdout",
     "output_type": "stream",
     "text": [
      "INFO:tensorflow:loss = 110.006, step = 4501 (0.071 sec)\n"
     ]
    },
    {
     "name": "stderr",
     "output_type": "stream",
     "text": [
      "INFO:tensorflow:loss = 110.006, step = 4501 (0.071 sec)\n"
     ]
    },
    {
     "name": "stdout",
     "output_type": "stream",
     "text": [
      "INFO:tensorflow:global_step/sec: 1351.22\n"
     ]
    },
    {
     "name": "stderr",
     "output_type": "stream",
     "text": [
      "INFO:tensorflow:global_step/sec: 1351.22\n"
     ]
    },
    {
     "name": "stdout",
     "output_type": "stream",
     "text": [
      "INFO:tensorflow:loss = 784.423, step = 4601 (0.073 sec)\n"
     ]
    },
    {
     "name": "stderr",
     "output_type": "stream",
     "text": [
      "INFO:tensorflow:loss = 784.423, step = 4601 (0.073 sec)\n"
     ]
    },
    {
     "name": "stdout",
     "output_type": "stream",
     "text": [
      "INFO:tensorflow:global_step/sec: 1449.14\n"
     ]
    },
    {
     "name": "stderr",
     "output_type": "stream",
     "text": [
      "INFO:tensorflow:global_step/sec: 1449.14\n"
     ]
    },
    {
     "name": "stdout",
     "output_type": "stream",
     "text": [
      "INFO:tensorflow:loss = 114.348, step = 4701 (0.070 sec)\n"
     ]
    },
    {
     "name": "stderr",
     "output_type": "stream",
     "text": [
      "INFO:tensorflow:loss = 114.348, step = 4701 (0.070 sec)\n"
     ]
    },
    {
     "name": "stdout",
     "output_type": "stream",
     "text": [
      "INFO:tensorflow:global_step/sec: 1388.75\n"
     ]
    },
    {
     "name": "stderr",
     "output_type": "stream",
     "text": [
      "INFO:tensorflow:global_step/sec: 1388.75\n"
     ]
    },
    {
     "name": "stdout",
     "output_type": "stream",
     "text": [
      "INFO:tensorflow:loss = 116.635, step = 4801 (0.071 sec)\n"
     ]
    },
    {
     "name": "stderr",
     "output_type": "stream",
     "text": [
      "INFO:tensorflow:loss = 116.635, step = 4801 (0.071 sec)\n"
     ]
    },
    {
     "name": "stdout",
     "output_type": "stream",
     "text": [
      "INFO:tensorflow:global_step/sec: 1388.75\n"
     ]
    },
    {
     "name": "stderr",
     "output_type": "stream",
     "text": [
      "INFO:tensorflow:global_step/sec: 1388.75\n"
     ]
    },
    {
     "name": "stdout",
     "output_type": "stream",
     "text": [
      "INFO:tensorflow:loss = 1434.11, step = 4901 (0.073 sec)\n"
     ]
    },
    {
     "name": "stderr",
     "output_type": "stream",
     "text": [
      "INFO:tensorflow:loss = 1434.11, step = 4901 (0.073 sec)\n"
     ]
    },
    {
     "name": "stdout",
     "output_type": "stream",
     "text": [
      "INFO:tensorflow:Saving checkpoints for 5000 into C:\\Temp\\tmp1k5m33sl\\model.ckpt.\n"
     ]
    },
    {
     "name": "stderr",
     "output_type": "stream",
     "text": [
      "INFO:tensorflow:Saving checkpoints for 5000 into C:\\Temp\\tmp1k5m33sl\\model.ckpt.\n"
     ]
    },
    {
     "name": "stdout",
     "output_type": "stream",
     "text": [
      "INFO:tensorflow:Loss for final step: 7969.08.\n"
     ]
    },
    {
     "name": "stderr",
     "output_type": "stream",
     "text": [
      "INFO:tensorflow:Loss for final step: 7969.08.\n"
     ]
    },
    {
     "name": "stdout",
     "output_type": "stream",
     "text": [
      "INFO:tensorflow:Restoring parameters from C:\\Temp\\tmp1k5m33sl\\model.ckpt-5000\n"
     ]
    },
    {
     "name": "stderr",
     "output_type": "stream",
     "text": [
      "INFO:tensorflow:Restoring parameters from C:\\Temp\\tmp1k5m33sl\\model.ckpt-5000\n"
     ]
    },
    {
     "name": "stdout",
     "output_type": "stream",
     "text": [
      "MSE (sklearn): 28434.710867\n",
      "INFO:tensorflow:Starting evaluation at 2017-11-08-22:26:34\n"
     ]
    },
    {
     "name": "stderr",
     "output_type": "stream",
     "text": [
      "INFO:tensorflow:Starting evaluation at 2017-11-08-22:26:34\n"
     ]
    },
    {
     "name": "stdout",
     "output_type": "stream",
     "text": [
      "INFO:tensorflow:Restoring parameters from C:\\Temp\\tmp1k5m33sl\\model.ckpt-5000\n"
     ]
    },
    {
     "name": "stderr",
     "output_type": "stream",
     "text": [
      "INFO:tensorflow:Restoring parameters from C:\\Temp\\tmp1k5m33sl\\model.ckpt-5000\n"
     ]
    },
    {
     "name": "stdout",
     "output_type": "stream",
     "text": [
      "INFO:tensorflow:Finished evaluation at 2017-11-08-22:26:34\n"
     ]
    },
    {
     "name": "stderr",
     "output_type": "stream",
     "text": [
      "INFO:tensorflow:Finished evaluation at 2017-11-08-22:26:34\n"
     ]
    },
    {
     "name": "stdout",
     "output_type": "stream",
     "text": [
      "INFO:tensorflow:Saving dict for global step 5000: average_loss = 28434.7, global_step = 5000, loss = 3.63452e+06\n"
     ]
    },
    {
     "name": "stderr",
     "output_type": "stream",
     "text": [
      "INFO:tensorflow:Saving dict for global step 5000: average_loss = 28434.7, global_step = 5000, loss = 3.63452e+06\n"
     ]
    },
    {
     "name": "stdout",
     "output_type": "stream",
     "text": [
      "MSE (tensorflow): 28434.708984\n"
     ]
    }
   ],
   "source": [
    "x, y = train_X2, train_y\n",
    "x_train, x_test, y_train, y_test = helper.splitData2(x, y, 0.2, 42)\n",
    "\n",
    "scaler = StandardScaler()\n",
    "x_train = scaler.fit_transform(x_train)\n",
    "\n",
    "feature_columns = [tf.feature_column.numeric_column('x', shape=np.array(x_train).shape[1:])]\n",
    "regressor = tf.estimator.DNNRegressor(\n",
    "    feature_columns = feature_columns, hidden_units=[10,10,10])\n",
    "\n",
    "train_input_fn = tf.estimator.inputs.numpy_input_fn(x={'x': x_train}, y=y_train, batch_size=1, num_epochs=None,shuffle=True)\n",
    "regressor.train(input_fn= train_input_fn, steps=5000)\n",
    "\n",
    "x_transformed = scaler.transform(x_test)\n",
    "test_input_fn = tf.estimator.inputs.numpy_input_fn(\n",
    "  x={'x': x_transformed}, y=y_test, num_epochs=1, shuffle=False)\n",
    "predictions = regressor.predict(input_fn=test_input_fn)\n",
    "y_predicted = np.array(list(p['predictions'] for p in predictions))\n",
    "y_predicted = y_predicted.reshape(np.array(y_test).shape)\n",
    "\n",
    "# Score with sklearn.\n",
    "score_sklearn = mean_squared_error(y_predicted, y_test)\n",
    "print('MSE (sklearn): {0:f}'.format(score_sklearn))\n",
    "\n",
    "# Score with tensorflow.\n",
    "scores = regressor.evaluate(input_fn=test_input_fn)\n",
    "print('MSE (tensorflow): {0:f}'.format(scores['average_loss']))\n"
   ]
  },
  {
   "cell_type": "code",
   "execution_count": 52,
   "metadata": {
    "collapsed": true
   },
   "outputs": [],
   "source": [
    "testing['decile'] = pd.qcut(testing['pred'], 10, labels=False)\n",
    "testing.to_csv('predictiontesting.csv')                        "
   ]
  }
 ],
 "metadata": {
  "kernelspec": {
   "display_name": "Python 3",
   "language": "python",
   "name": "python3"
  },
  "language_info": {
   "codemirror_mode": {
    "name": "ipython",
    "version": 3
   },
   "file_extension": ".py",
   "mimetype": "text/x-python",
   "name": "python",
   "nbconvert_exporter": "python",
   "pygments_lexer": "ipython3",
   "version": "3.6.1"
  }
 },
 "nbformat": 4,
 "nbformat_minor": 2
}

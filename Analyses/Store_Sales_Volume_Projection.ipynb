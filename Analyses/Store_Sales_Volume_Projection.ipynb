{
 "cells": [
  {
   "cell_type": "code",
   "execution_count": 131,
   "metadata": {},
   "outputs": [],
   "source": [
    "import sys\n",
    "import importlib as imp\n",
    "sys.path.insert(0, r\"C:\\users\\pairwin\\Documents\\Github\\HelperPI\")\n",
    "#sys.path.insert(0, r'/home/pirwin/Git/HelperPI')\n",
    "#imp.reload(HelperPI)\n",
    "import HelperPI\n",
    "import itertools\n",
    "import seaborn as sns\n",
    "import pandas as pd\n",
    "import scipy.stats as stats\n",
    "from scipy.special import inv_boxcox\n",
    "from scipy.stats.distributions import uniform, lognorm\n",
    "import matplotlib.pyplot as plt\n",
    "import matplotlib\n",
    "import statsmodels.formula.api as sts\n",
    "import numpy as np\n",
    "import math\n",
    "import xgboost as xgb\n",
    "from sklearn.ensemble import RandomForestRegressor\n",
    "#from sklearn.preprocessing import Imputer, MinMaxScaler\n",
    "from sklearn.impute import SimpleImputer\n",
    "from sklearn.model_selection import GridSearchCV, cross_val_score, RandomizedSearchCV\n",
    "#from sklearn.externals import joblib\n",
    "from sklearn.preprocessing import StandardScaler, Normalizer, RobustScaler\n",
    "from scipy import interp\n",
    "from sklearn.metrics import r2_score, mean_squared_error, mean_absolute_error\n",
    "from sklearn.linear_model import LinearRegression, LassoLars, HuberRegressor, ElasticNet, Ridge\n",
    "from sklearn.svm import LinearSVR\n",
    "from sklearn.kernel_ridge import KernelRidge\n",
    "from time import time\n",
    "from sklearn.neural_network import MLPRegressor\n",
    "from sklearn.feature_selection import SelectKBest, f_regression"
   ]
  },
  {
   "cell_type": "code",
   "execution_count": 132,
   "metadata": {},
   "outputs": [],
   "source": [
    "%matplotlib inline\n",
    "\n",
    "matplotlib.rcParams['figure.figsize'] = (11,8)\n",
    "\n",
    "pd.options.mode.chained_assignment = None\n",
    "pd.options.display.max_columns = 999"
   ]
  },
  {
   "cell_type": "code",
   "execution_count": 133,
   "metadata": {},
   "outputs": [
    {
     "name": "stderr",
     "output_type": "stream",
     "text": [
      "INFO:root:Initializing...\n"
     ]
    }
   ],
   "source": [
    "helper = HelperPI.Helper()"
   ]
  },
  {
   "cell_type": "code",
   "execution_count": 134,
   "metadata": {},
   "outputs": [],
   "source": [
    "impdata = pd.read_excel(r'B:\\Phillip\\Mapping\\CBSA_Analysis\\Modeling\\ModelDataV4.xlsx')"
   ]
  },
  {
   "cell_type": "code",
   "execution_count": 157,
   "metadata": {},
   "outputs": [
    {
     "data": {
      "text/html": [
       "<div>\n",
       "<style scoped>\n",
       "    .dataframe tbody tr th:only-of-type {\n",
       "        vertical-align: middle;\n",
       "    }\n",
       "\n",
       "    .dataframe tbody tr th {\n",
       "        vertical-align: top;\n",
       "    }\n",
       "\n",
       "    .dataframe thead th {\n",
       "        text-align: right;\n",
       "    }\n",
       "</style>\n",
       "<table border=\"1\" class=\"dataframe\">\n",
       "  <thead>\n",
       "    <tr style=\"text-align: right;\">\n",
       "      <th></th>\n",
       "      <th>STORE_ID</th>\n",
       "      <th>TARGET_SALESPOS</th>\n",
       "      <th>AVG_HH_SIZE</th>\n",
       "      <th>BPS_CAB</th>\n",
       "      <th>BPS_IND</th>\n",
       "      <th>DICKS</th>\n",
       "      <th>DIVIND</th>\n",
       "      <th>MEDAGE</th>\n",
       "      <th>MEDDISINC_2018</th>\n",
       "      <th>PCAP_AFFH_NAICS</th>\n",
       "      <th>PCAP_CC_DEBT</th>\n",
       "      <th>PCAP_CONTR_POL</th>\n",
       "      <th>PCAP_CONTR_RELIG</th>\n",
       "      <th>PCAP_OUTDOOR_SPEND</th>\n",
       "      <th>PCAP_PART_WAVG</th>\n",
       "      <th>PCAP_RTS_NAICS</th>\n",
       "      <th>PCT_CONS_MEDIA</th>\n",
       "      <th>PCT_HH_FOODSTAMPS</th>\n",
       "      <th>PCT_HH_LOW_INCOME</th>\n",
       "      <th>PCT_HH_TRK_OR_ATV</th>\n",
       "      <th>PCT_HS_DIPLOMA</th>\n",
       "      <th>PCT_MARRIED</th>\n",
       "      <th>PCT_PROB_REPUB</th>\n",
       "      <th>POPGRWTH</th>\n",
       "      <th>SCHEELS</th>\n",
       "      <th>SPORTS_WHSE</th>\n",
       "      <th>SQMI_PARKS</th>\n",
       "      <th>SQMI_WATER</th>\n",
       "      <th>TOTHH_2018</th>\n",
       "      <th>TOTPOT_2018</th>\n",
       "      <th>WALMART_SUPERCENTERS</th>\n",
       "      <th>STORE_SQFT</th>\n",
       "      <th>TARGET_SALESPOS_CBRT</th>\n",
       "    </tr>\n",
       "  </thead>\n",
       "  <tbody>\n",
       "    <tr>\n",
       "      <th>count</th>\n",
       "      <td>145.000000</td>\n",
       "      <td>1.450000e+02</td>\n",
       "      <td>145.000000</td>\n",
       "      <td>145.000000</td>\n",
       "      <td>145.000000</td>\n",
       "      <td>145.000000</td>\n",
       "      <td>145.000000</td>\n",
       "      <td>145.000000</td>\n",
       "      <td>145.000000</td>\n",
       "      <td>145.000000</td>\n",
       "      <td>145.000000</td>\n",
       "      <td>145.000000</td>\n",
       "      <td>145.000000</td>\n",
       "      <td>145.000000</td>\n",
       "      <td>145.000000</td>\n",
       "      <td>145.000000</td>\n",
       "      <td>145.000000</td>\n",
       "      <td>145.000000</td>\n",
       "      <td>145.000000</td>\n",
       "      <td>145.000000</td>\n",
       "      <td>145.000000</td>\n",
       "      <td>145.000000</td>\n",
       "      <td>145.000000</td>\n",
       "      <td>145.000000</td>\n",
       "      <td>145.000000</td>\n",
       "      <td>145.000000</td>\n",
       "      <td>145.000000</td>\n",
       "      <td>145.000000</td>\n",
       "      <td>1.450000e+02</td>\n",
       "      <td>1.450000e+02</td>\n",
       "      <td>145.000000</td>\n",
       "      <td>145.000000</td>\n",
       "      <td>145.000000</td>\n",
       "    </tr>\n",
       "    <tr>\n",
       "      <th>mean</th>\n",
       "      <td>240.862069</td>\n",
       "      <td>2.116031e+07</td>\n",
       "      <td>2.554138</td>\n",
       "      <td>0.386207</td>\n",
       "      <td>0.510345</td>\n",
       "      <td>3.289655</td>\n",
       "      <td>54.001379</td>\n",
       "      <td>37.789655</td>\n",
       "      <td>48095.234483</td>\n",
       "      <td>0.204390</td>\n",
       "      <td>219.252497</td>\n",
       "      <td>6.433489</td>\n",
       "      <td>362.677327</td>\n",
       "      <td>3998.839761</td>\n",
       "      <td>4.187792</td>\n",
       "      <td>17.167279</td>\n",
       "      <td>0.234116</td>\n",
       "      <td>0.122783</td>\n",
       "      <td>0.241297</td>\n",
       "      <td>0.302753</td>\n",
       "      <td>0.148870</td>\n",
       "      <td>0.396349</td>\n",
       "      <td>0.495231</td>\n",
       "      <td>0.992207</td>\n",
       "      <td>0.124138</td>\n",
       "      <td>0.400000</td>\n",
       "      <td>848.239918</td>\n",
       "      <td>14.013517</td>\n",
       "      <td>4.661293e+05</td>\n",
       "      <td>1.233562e+06</td>\n",
       "      <td>11.337931</td>\n",
       "      <td>92331.986207</td>\n",
       "      <td>273.506107</td>\n",
       "    </tr>\n",
       "    <tr>\n",
       "      <th>std</th>\n",
       "      <td>202.493883</td>\n",
       "      <td>6.643102e+06</td>\n",
       "      <td>0.185800</td>\n",
       "      <td>0.636682</td>\n",
       "      <td>0.501626</td>\n",
       "      <td>2.753577</td>\n",
       "      <td>16.478778</td>\n",
       "      <td>3.406932</td>\n",
       "      <td>7536.624292</td>\n",
       "      <td>0.336123</td>\n",
       "      <td>35.009381</td>\n",
       "      <td>1.298732</td>\n",
       "      <td>49.256217</td>\n",
       "      <td>725.653348</td>\n",
       "      <td>0.567886</td>\n",
       "      <td>2.587420</td>\n",
       "      <td>0.032008</td>\n",
       "      <td>0.037916</td>\n",
       "      <td>0.049325</td>\n",
       "      <td>0.059159</td>\n",
       "      <td>0.031060</td>\n",
       "      <td>0.028427</td>\n",
       "      <td>0.029475</td>\n",
       "      <td>0.657121</td>\n",
       "      <td>0.330882</td>\n",
       "      <td>0.802773</td>\n",
       "      <td>1911.530532</td>\n",
       "      <td>24.040859</td>\n",
       "      <td>3.707237e+05</td>\n",
       "      <td>1.006624e+06</td>\n",
       "      <td>8.514873</td>\n",
       "      <td>54039.678493</td>\n",
       "      <td>29.351320</td>\n",
       "    </tr>\n",
       "    <tr>\n",
       "      <th>min</th>\n",
       "      <td>3.000000</td>\n",
       "      <td>9.598016e+06</td>\n",
       "      <td>2.280000</td>\n",
       "      <td>0.000000</td>\n",
       "      <td>0.000000</td>\n",
       "      <td>0.000000</td>\n",
       "      <td>15.900000</td>\n",
       "      <td>29.200000</td>\n",
       "      <td>32924.000000</td>\n",
       "      <td>0.012742</td>\n",
       "      <td>107.956969</td>\n",
       "      <td>3.468858</td>\n",
       "      <td>199.310225</td>\n",
       "      <td>1786.632681</td>\n",
       "      <td>2.653688</td>\n",
       "      <td>9.478178</td>\n",
       "      <td>0.156947</td>\n",
       "      <td>0.040331</td>\n",
       "      <td>0.077201</td>\n",
       "      <td>0.188145</td>\n",
       "      <td>0.086969</td>\n",
       "      <td>0.321826</td>\n",
       "      <td>0.389679</td>\n",
       "      <td>-0.420000</td>\n",
       "      <td>0.000000</td>\n",
       "      <td>0.000000</td>\n",
       "      <td>0.000000</td>\n",
       "      <td>0.000000</td>\n",
       "      <td>6.276000e+03</td>\n",
       "      <td>1.449800e+04</td>\n",
       "      <td>0.000000</td>\n",
       "      <td>24523.000000</td>\n",
       "      <td>212.517071</td>\n",
       "    </tr>\n",
       "    <tr>\n",
       "      <th>25%</th>\n",
       "      <td>40.000000</td>\n",
       "      <td>1.617908e+07</td>\n",
       "      <td>2.430000</td>\n",
       "      <td>0.000000</td>\n",
       "      <td>0.000000</td>\n",
       "      <td>1.000000</td>\n",
       "      <td>44.100000</td>\n",
       "      <td>35.700000</td>\n",
       "      <td>42888.000000</td>\n",
       "      <td>0.050127</td>\n",
       "      <td>195.425005</td>\n",
       "      <td>5.522277</td>\n",
       "      <td>331.633499</td>\n",
       "      <td>3560.773041</td>\n",
       "      <td>3.797422</td>\n",
       "      <td>15.814347</td>\n",
       "      <td>0.213399</td>\n",
       "      <td>0.095727</td>\n",
       "      <td>0.210926</td>\n",
       "      <td>0.265665</td>\n",
       "      <td>0.127577</td>\n",
       "      <td>0.380102</td>\n",
       "      <td>0.481414</td>\n",
       "      <td>0.480000</td>\n",
       "      <td>0.000000</td>\n",
       "      <td>0.000000</td>\n",
       "      <td>2.506550</td>\n",
       "      <td>0.000000</td>\n",
       "      <td>1.586030e+05</td>\n",
       "      <td>4.185510e+05</td>\n",
       "      <td>6.000000</td>\n",
       "      <td>53319.000000</td>\n",
       "      <td>252.920834</td>\n",
       "    </tr>\n",
       "    <tr>\n",
       "      <th>50%</th>\n",
       "      <td>92.000000</td>\n",
       "      <td>2.028905e+07</td>\n",
       "      <td>2.520000</td>\n",
       "      <td>0.000000</td>\n",
       "      <td>1.000000</td>\n",
       "      <td>3.000000</td>\n",
       "      <td>56.000000</td>\n",
       "      <td>37.400000</td>\n",
       "      <td>46719.000000</td>\n",
       "      <td>0.094096</td>\n",
       "      <td>215.521471</td>\n",
       "      <td>6.153438</td>\n",
       "      <td>357.883913</td>\n",
       "      <td>3888.557042</td>\n",
       "      <td>4.150461</td>\n",
       "      <td>16.902252</td>\n",
       "      <td>0.231863</td>\n",
       "      <td>0.119451</td>\n",
       "      <td>0.242502</td>\n",
       "      <td>0.289211</td>\n",
       "      <td>0.142238</td>\n",
       "      <td>0.392778</td>\n",
       "      <td>0.493176</td>\n",
       "      <td>1.000000</td>\n",
       "      <td>0.000000</td>\n",
       "      <td>0.000000</td>\n",
       "      <td>20.257820</td>\n",
       "      <td>4.430000</td>\n",
       "      <td>3.716910e+05</td>\n",
       "      <td>9.512320e+05</td>\n",
       "      <td>10.000000</td>\n",
       "      <td>78956.000000</td>\n",
       "      <td>272.743197</td>\n",
       "    </tr>\n",
       "    <tr>\n",
       "      <th>75%</th>\n",
       "      <td>443.000000</td>\n",
       "      <td>2.595933e+07</td>\n",
       "      <td>2.620000</td>\n",
       "      <td>1.000000</td>\n",
       "      <td>1.000000</td>\n",
       "      <td>5.000000</td>\n",
       "      <td>64.900000</td>\n",
       "      <td>39.400000</td>\n",
       "      <td>51466.000000</td>\n",
       "      <td>0.192881</td>\n",
       "      <td>239.630634</td>\n",
       "      <td>7.215735</td>\n",
       "      <td>392.702153</td>\n",
       "      <td>4410.169969</td>\n",
       "      <td>4.498188</td>\n",
       "      <td>18.454695</td>\n",
       "      <td>0.253373</td>\n",
       "      <td>0.140591</td>\n",
       "      <td>0.277821</td>\n",
       "      <td>0.324863</td>\n",
       "      <td>0.168920</td>\n",
       "      <td>0.412891</td>\n",
       "      <td>0.509372</td>\n",
       "      <td>1.460000</td>\n",
       "      <td>0.000000</td>\n",
       "      <td>1.000000</td>\n",
       "      <td>189.652110</td>\n",
       "      <td>15.580000</td>\n",
       "      <td>6.892700e+05</td>\n",
       "      <td>1.781417e+06</td>\n",
       "      <td>16.000000</td>\n",
       "      <td>131591.000000</td>\n",
       "      <td>296.095058</td>\n",
       "    </tr>\n",
       "    <tr>\n",
       "      <th>max</th>\n",
       "      <td>484.000000</td>\n",
       "      <td>3.774414e+07</td>\n",
       "      <td>3.450000</td>\n",
       "      <td>3.000000</td>\n",
       "      <td>1.000000</td>\n",
       "      <td>12.000000</td>\n",
       "      <td>85.200000</td>\n",
       "      <td>48.500000</td>\n",
       "      <td>86693.000000</td>\n",
       "      <td>2.023619</td>\n",
       "      <td>353.906574</td>\n",
       "      <td>11.579367</td>\n",
       "      <td>587.287202</td>\n",
       "      <td>7228.219689</td>\n",
       "      <td>5.869894</td>\n",
       "      <td>26.255373</td>\n",
       "      <td>0.317387</td>\n",
       "      <td>0.275883</td>\n",
       "      <td>0.380931</td>\n",
       "      <td>0.550455</td>\n",
       "      <td>0.262954</td>\n",
       "      <td>0.478063</td>\n",
       "      <td>0.589143</td>\n",
       "      <td>2.620000</td>\n",
       "      <td>1.000000</td>\n",
       "      <td>4.000000</td>\n",
       "      <td>10307.454670</td>\n",
       "      <td>171.180000</td>\n",
       "      <td>1.973876e+06</td>\n",
       "      <td>5.447307e+06</td>\n",
       "      <td>59.000000</td>\n",
       "      <td>448731.000000</td>\n",
       "      <td>335.441272</td>\n",
       "    </tr>\n",
       "  </tbody>\n",
       "</table>\n",
       "</div>"
      ],
      "text/plain": [
       "         STORE_ID  TARGET_SALESPOS  AVG_HH_SIZE     BPS_CAB     BPS_IND  \\\n",
       "count  145.000000     1.450000e+02   145.000000  145.000000  145.000000   \n",
       "mean   240.862069     2.116031e+07     2.554138    0.386207    0.510345   \n",
       "std    202.493883     6.643102e+06     0.185800    0.636682    0.501626   \n",
       "min      3.000000     9.598016e+06     2.280000    0.000000    0.000000   \n",
       "25%     40.000000     1.617908e+07     2.430000    0.000000    0.000000   \n",
       "50%     92.000000     2.028905e+07     2.520000    0.000000    1.000000   \n",
       "75%    443.000000     2.595933e+07     2.620000    1.000000    1.000000   \n",
       "max    484.000000     3.774414e+07     3.450000    3.000000    1.000000   \n",
       "\n",
       "            DICKS      DIVIND      MEDAGE  MEDDISINC_2018  PCAP_AFFH_NAICS  \\\n",
       "count  145.000000  145.000000  145.000000      145.000000       145.000000   \n",
       "mean     3.289655   54.001379   37.789655    48095.234483         0.204390   \n",
       "std      2.753577   16.478778    3.406932     7536.624292         0.336123   \n",
       "min      0.000000   15.900000   29.200000    32924.000000         0.012742   \n",
       "25%      1.000000   44.100000   35.700000    42888.000000         0.050127   \n",
       "50%      3.000000   56.000000   37.400000    46719.000000         0.094096   \n",
       "75%      5.000000   64.900000   39.400000    51466.000000         0.192881   \n",
       "max     12.000000   85.200000   48.500000    86693.000000         2.023619   \n",
       "\n",
       "       PCAP_CC_DEBT  PCAP_CONTR_POL  PCAP_CONTR_RELIG  PCAP_OUTDOOR_SPEND  \\\n",
       "count    145.000000      145.000000        145.000000          145.000000   \n",
       "mean     219.252497        6.433489        362.677327         3998.839761   \n",
       "std       35.009381        1.298732         49.256217          725.653348   \n",
       "min      107.956969        3.468858        199.310225         1786.632681   \n",
       "25%      195.425005        5.522277        331.633499         3560.773041   \n",
       "50%      215.521471        6.153438        357.883913         3888.557042   \n",
       "75%      239.630634        7.215735        392.702153         4410.169969   \n",
       "max      353.906574       11.579367        587.287202         7228.219689   \n",
       "\n",
       "       PCAP_PART_WAVG  PCAP_RTS_NAICS  PCT_CONS_MEDIA  PCT_HH_FOODSTAMPS  \\\n",
       "count      145.000000      145.000000      145.000000         145.000000   \n",
       "mean         4.187792       17.167279        0.234116           0.122783   \n",
       "std          0.567886        2.587420        0.032008           0.037916   \n",
       "min          2.653688        9.478178        0.156947           0.040331   \n",
       "25%          3.797422       15.814347        0.213399           0.095727   \n",
       "50%          4.150461       16.902252        0.231863           0.119451   \n",
       "75%          4.498188       18.454695        0.253373           0.140591   \n",
       "max          5.869894       26.255373        0.317387           0.275883   \n",
       "\n",
       "       PCT_HH_LOW_INCOME  PCT_HH_TRK_OR_ATV  PCT_HS_DIPLOMA  PCT_MARRIED  \\\n",
       "count         145.000000         145.000000      145.000000   145.000000   \n",
       "mean            0.241297           0.302753        0.148870     0.396349   \n",
       "std             0.049325           0.059159        0.031060     0.028427   \n",
       "min             0.077201           0.188145        0.086969     0.321826   \n",
       "25%             0.210926           0.265665        0.127577     0.380102   \n",
       "50%             0.242502           0.289211        0.142238     0.392778   \n",
       "75%             0.277821           0.324863        0.168920     0.412891   \n",
       "max             0.380931           0.550455        0.262954     0.478063   \n",
       "\n",
       "       PCT_PROB_REPUB    POPGRWTH     SCHEELS  SPORTS_WHSE    SQMI_PARKS  \\\n",
       "count      145.000000  145.000000  145.000000   145.000000    145.000000   \n",
       "mean         0.495231    0.992207    0.124138     0.400000    848.239918   \n",
       "std          0.029475    0.657121    0.330882     0.802773   1911.530532   \n",
       "min          0.389679   -0.420000    0.000000     0.000000      0.000000   \n",
       "25%          0.481414    0.480000    0.000000     0.000000      2.506550   \n",
       "50%          0.493176    1.000000    0.000000     0.000000     20.257820   \n",
       "75%          0.509372    1.460000    0.000000     1.000000    189.652110   \n",
       "max          0.589143    2.620000    1.000000     4.000000  10307.454670   \n",
       "\n",
       "       SQMI_WATER    TOTHH_2018   TOTPOT_2018  WALMART_SUPERCENTERS  \\\n",
       "count  145.000000  1.450000e+02  1.450000e+02            145.000000   \n",
       "mean    14.013517  4.661293e+05  1.233562e+06             11.337931   \n",
       "std     24.040859  3.707237e+05  1.006624e+06              8.514873   \n",
       "min      0.000000  6.276000e+03  1.449800e+04              0.000000   \n",
       "25%      0.000000  1.586030e+05  4.185510e+05              6.000000   \n",
       "50%      4.430000  3.716910e+05  9.512320e+05             10.000000   \n",
       "75%     15.580000  6.892700e+05  1.781417e+06             16.000000   \n",
       "max    171.180000  1.973876e+06  5.447307e+06             59.000000   \n",
       "\n",
       "          STORE_SQFT  TARGET_SALESPOS_CBRT  \n",
       "count     145.000000            145.000000  \n",
       "mean    92331.986207            273.506107  \n",
       "std     54039.678493             29.351320  \n",
       "min     24523.000000            212.517071  \n",
       "25%     53319.000000            252.920834  \n",
       "50%     78956.000000            272.743197  \n",
       "75%    131591.000000            296.095058  \n",
       "max    448731.000000            335.441272  "
      ]
     },
     "execution_count": 157,
     "metadata": {},
     "output_type": "execute_result"
    }
   ],
   "source": [
    "mean = np.mean(impdata['TARGET_SALESPOS'])\n",
    "std = np.std(impdata['TARGET_SALESPOS'])\n",
    "mean, std\n",
    "\n",
    "base = impdata[impdata['TARGET_SALESPOS'] < mean+std*2]\n",
    "\n",
    "base['TARGET_SALESPOS_CBRT'] = np.cbrt(base['TARGET_SALESPOS'])\n",
    "\n",
    "#base['TARGET_SALESPOS_LOG'] = np.log(base['TARGET_SALESPOS'])\n",
    "\n",
    "#base['SALES_TARGET_N12_CBRT'], lmda = stats.boxcox(base['SALES_TARGET_N12'])\n",
    "base.describe()"
   ]
  },
  {
   "cell_type": "code",
   "execution_count": 162,
   "metadata": {},
   "outputs": [
    {
     "data": {
      "text/plain": [
       "count    1.450000e+02\n",
       "mean     2.116031e+07\n",
       "std      6.643102e+06\n",
       "min      9.598016e+06\n",
       "25%      1.617908e+07\n",
       "50%      2.028905e+07\n",
       "75%      2.595933e+07\n",
       "max      3.774414e+07\n",
       "Name: TARGET_SALESPOS, dtype: float64"
      ]
     },
     "execution_count": 162,
     "metadata": {},
     "output_type": "execute_result"
    }
   ],
   "source": [
    "base['TARGET_SALESPOS'].describe()"
   ]
  },
  {
   "cell_type": "code",
   "execution_count": 163,
   "metadata": {},
   "outputs": [
    {
     "data": {
      "text/plain": [
       "['STORE_ID',\n",
       " 'TARGET_SALESPOS',\n",
       " 'AVG_HH_SIZE',\n",
       " 'BPS_CAB',\n",
       " 'BPS_IND',\n",
       " 'DICKS',\n",
       " 'DIVIND',\n",
       " 'MEDAGE',\n",
       " 'MEDDISINC_2018',\n",
       " 'PCAP_AFFH_NAICS',\n",
       " 'PCAP_CC_DEBT',\n",
       " 'PCAP_CONTR_POL',\n",
       " 'PCAP_CONTR_RELIG',\n",
       " 'PCAP_OUTDOOR_SPEND',\n",
       " 'PCAP_PART_WAVG',\n",
       " 'PCAP_RTS_NAICS',\n",
       " 'PCT_CONS_MEDIA',\n",
       " 'PCT_HH_FOODSTAMPS',\n",
       " 'PCT_HH_LOW_INCOME',\n",
       " 'PCT_HH_TRK_OR_ATV',\n",
       " 'PCT_HS_DIPLOMA',\n",
       " 'PCT_MARRIED',\n",
       " 'PCT_PROB_REPUB',\n",
       " 'POPGRWTH',\n",
       " 'SCHEELS',\n",
       " 'SPORTS_WHSE',\n",
       " 'SQMI_PARKS',\n",
       " 'SQMI_WATER',\n",
       " 'TOTHH_2018',\n",
       " 'TOTPOT_2018',\n",
       " 'WALMART_SUPERCENTERS',\n",
       " 'STORE_SQFT',\n",
       " 'TARGET_SALESPOS_CBRT']"
      ]
     },
     "execution_count": 163,
     "metadata": {},
     "output_type": "execute_result"
    }
   ],
   "source": [
    "list(base.columns)"
   ]
  },
  {
   "cell_type": "code",
   "execution_count": 164,
   "metadata": {},
   "outputs": [],
   "source": [
    "collist = ['TARGET_SALESPOS', 'AVG_HH_SIZE', 'BPS_CAB', 'BPS_IND', 'DICKS', 'DIVIND', 'MEDAGE', 'MEDDISINC_2018',\n",
    "           'PCAP_AFFH_NAICS', 'PCAP_CC_DEBT', 'PCAP_CONTR_POL', 'PCAP_CONTR_RELIG', 'PCAP_OUTDOOR_SPEND', 'PCAP_PART_WAVG',\n",
    "            'PCAP_RTS_NAICS', 'PCT_CONS_MEDIA', 'PCT_HH_FOODSTAMPS', 'PCT_HH_LOW_INCOME', 'PCT_HH_TRK_OR_ATV', 'PCT_HS_DIPLOMA',\n",
    "            'PCT_MARRIED', 'PCT_PROB_REPUB', 'POPGRWTH', 'SCHEELS', 'SPORTS_WHSE', 'SQMI_PARKS', 'SQMI_WATER', 'TOTHH_2018',\n",
    "            'TOTPOT_2018', 'WALMART_SUPERCENTERS', 'STORE_SQFT']\n",
    "\n",
    "collist_X = ['BPS_CAB', 'BPS_IND','PCT_HS_DIPLOMA','TOTPOT_2018', 'STORE_SQFT']\n",
    "\n",
    "#collist_y = ['SALES_TARGET_N12_CBRT']\n",
    "\n",
    "collist_y = ['TARGET_SALESPOS']"
   ]
  },
  {
   "cell_type": "code",
   "execution_count": 165,
   "metadata": {},
   "outputs": [
    {
     "name": "stdout",
     "output_type": "stream",
     "text": [
      "(72, 31) (37, 31) (36, 31)\n"
     ]
    }
   ],
   "source": [
    "train, test = helper.splitData(base[collist], .5)\n",
    "\n",
    "test, val = helper.splitData(test, 0.5)\n",
    "\n",
    "print(train.shape, val.shape, test.shape)\n",
    "\n",
    "train_X = train[collist_X]\n",
    "\n",
    "train_y = train[collist_y].to_numpy().ravel()\n",
    "val_X = val[collist_X]\n",
    "val_y = val[collist_y].to_numpy().ravel()\n",
    "test_X = test[collist_X]\n",
    "test_y = test[collist_y].to_numpy().ravel()\n",
    "\n",
    "interactions = helper.find_iteractions(train_X, train_y)\n",
    "interactions.to_csv('interactions.csv')"
   ]
  },
  {
   "cell_type": "code",
   "execution_count": 166,
   "metadata": {},
   "outputs": [
    {
     "data": {
      "image/png": "[encoded data removed]",
      "text/plain": [
       "<Figure size 792x576 with 1 Axes>"
      ]
     },
     "metadata": {
      "needs_background": "light"
     },
     "output_type": "display_data"
    }
   ],
   "source": [
    "plt.hist(train_y, bins = 20)\n",
    "plt.show()"
   ]
  },
  {
   "cell_type": "code",
   "execution_count": null,
   "metadata": {},
   "outputs": [],
   "source": []
  },
  {
   "cell_type": "code",
   "execution_count": 167,
   "metadata": {},
   "outputs": [],
   "source": [
    "collist_X = ['BPS_CAB', 'BPS_IND','PCT_HS_DIPLOMA','TOTPOT_2018', 'STORE_SQFT']\n",
    "\n",
    "for var in collist_X:\n",
    "    name = var + '_cbrt'\n",
    "    train_X[name] = np.cbrt(train_X[var])\n",
    "    val_X[name] = np.cbrt(val_X[var])\n",
    "    test_X[name] = np.cbrt(test_X[var])\n",
    "    name = var + '_sq'\n",
    "    train_X[name] = np.power(train_X[var], 2)\n",
    "    val_X[name] = np.power(val_X[var], 2)\n",
    "    test_X[name] = np.power(test_X[var], 2)\n",
    "    name = var + '_log'\n",
    "    train_X[name] = np.log(train_X[var]+1)\n",
    "    val_X[name] = np.log(val_X[var]+1)\n",
    "    test_X[name] = np.log(test_X[var]+1)\n",
    "    \n",
    "collist_X_expanded = list(train_X.columns.values)\n",
    "\n",
    "\n",
    "#imr = SimpleImputer(strategy='median')\n",
    "#imr = imr.fit(train_X)\n",
    "\n",
    "#train_X = pd.DataFrame(imr.transform(train_X.values), columns = collist_X)\n",
    "#val_X = pd.DataFrame(imr.transform(val_X.values), columns = collist_X)\n",
    "#test_X = pd.DataFrame(imr.transform(test_X.values), columns = collist_X)\n",
    "\n",
    "#stdsc = StandardScaler()\n",
    "#stdsc.fit(train_X)\n",
    "\n",
    "#train_X = pd.DataFrame(stdsc.transform(train_X), columns = collist_X_expanded)\n",
    "#val_X = pd.DataFrame(stdsc.transform(val_X), columns = collist_X_expanded)\n",
    "#test_X = pd.DataFrame(stdsc.transform(test_X), columns = collist_X_expanded)\n",
    "\n",
    "\n"
   ]
  },
  {
   "cell_type": "code",
   "execution_count": 168,
   "metadata": {},
   "outputs": [
    {
     "data": {
      "text/html": [
       "<div>\n",
       "<style scoped>\n",
       "    .dataframe tbody tr th:only-of-type {\n",
       "        vertical-align: middle;\n",
       "    }\n",
       "\n",
       "    .dataframe tbody tr th {\n",
       "        vertical-align: top;\n",
       "    }\n",
       "\n",
       "    .dataframe thead th {\n",
       "        text-align: right;\n",
       "    }\n",
       "</style>\n",
       "<table border=\"1\" class=\"dataframe\">\n",
       "  <thead>\n",
       "    <tr style=\"text-align: right;\">\n",
       "      <th></th>\n",
       "      <th>column_name</th>\n",
       "      <th>missing_count</th>\n",
       "      <th>missing_ratio</th>\n",
       "    </tr>\n",
       "  </thead>\n",
       "  <tbody>\n",
       "  </tbody>\n",
       "</table>\n",
       "</div>"
      ],
      "text/plain": [
       "Empty DataFrame\n",
       "Columns: [column_name, missing_count, missing_ratio]\n",
       "Index: []"
      ]
     },
     "execution_count": 168,
     "metadata": {},
     "output_type": "execute_result"
    }
   ],
   "source": [
    "missing_df = train_X.isnull().sum(axis=0).reset_index()\n",
    "missing_df.columns = ['column_name', 'missing_count']\n",
    "missing_df['missing_ratio'] = missing_df['missing_count'] / train_X.shape[0]\n",
    "missing_df.loc[missing_df['missing_ratio']>0.01]\n"
   ]
  },
  {
   "cell_type": "code",
   "execution_count": 169,
   "metadata": {
    "scrolled": true
   },
   "outputs": [
    {
     "name": "stdout",
     "output_type": "stream",
     "text": [
      "Anderson-Darling: 0.7282842767428406 Critical Value: 0.749 \n",
      "train_y is normally distributed\n"
     ]
    },
    {
     "data": {
      "image/png": "[encoded data removed]",
      "text/plain": [
       "<Figure size 792x576 with 1 Axes>"
      ]
     },
     "metadata": {
      "needs_background": "light"
     },
     "output_type": "display_data"
    }
   ],
   "source": [
    "stat, cv, sig = stats.anderson(train_y, 'norm')\n",
    "print('Anderson-Darling: {} Critical Value: {} '.format(stat, cv[2]))\n",
    "if stat > cv[2]:\n",
    "    print('train_y is not normally distributed')\n",
    "else:\n",
    "    print('train_y is normally distributed')\n",
    "plt.hist(train_y, bins=25)\n",
    "plt.show()"
   ]
  },
  {
   "cell_type": "code",
   "execution_count": 171,
   "metadata": {
    "scrolled": true
   },
   "outputs": [
    {
     "name": "stdout",
     "output_type": "stream",
     "text": [
      "                                           BPS_CAB Corr Coef:     0.0 - pval:  0.9885\n",
      "                                      BPS_CAB_cbrt Corr Coef:   -0.03 - pval:  0.8008\n",
      "                                       BPS_CAB_log Corr Coef:   -0.02 - pval:  0.8758\n",
      "                                        BPS_CAB_sq Corr Coef:    0.06 - pval:  0.6305\n",
      "                                           BPS_IND Corr Coef:   -0.16 - pval:  0.1796\n",
      "                                      BPS_IND_cbrt Corr Coef:   -0.16 - pval:  0.1796\n",
      "                                       BPS_IND_log Corr Coef:   -0.16 - pval:  0.1796\n",
      "                                        BPS_IND_sq Corr Coef:   -0.16 - pval:  0.1796\n",
      "                                    PCT_HS_DIPLOMA Corr Coef:   -0.03 - pval:  0.8308\n",
      "                               PCT_HS_DIPLOMA_cbrt Corr Coef:   -0.05 - pval:  0.6902\n",
      "                                PCT_HS_DIPLOMA_log Corr Coef:   -0.03 - pval:  0.7973\n",
      "                                 PCT_HS_DIPLOMA_sq Corr Coef:    0.01 - pval:  0.9162\n",
      "                                        STORE_SQFT Corr Coef:    0.18 - pval:  0.1215\n",
      "                                   STORE_SQFT_cbrt Corr Coef:    0.26 - pval:  0.0285\n",
      "                                    STORE_SQFT_log Corr Coef:    0.29 - pval:  0.0120\n",
      "                                     STORE_SQFT_sq Corr Coef:    0.09 - pval:  0.4579\n",
      "                                       TOTPOT_2018 Corr Coef:    0.42 - pval:  0.0002\n",
      "                                  TOTPOT_2018_cbrt Corr Coef:    0.42 - pval:  0.0002\n",
      "                                   TOTPOT_2018_log Corr Coef:    0.41 - pval:  0.0003\n",
      "                                    TOTPOT_2018_sq Corr Coef:    0.41 - pval:  0.0003\n"
     ]
    }
   ],
   "source": [
    "matplotlib.rcParams['figure.figsize'] = (5,2)\n",
    "\n",
    "#collist_X_expanded.remove('VISITS_LT_sqrt')\n",
    "#collist_X_expanded.remove('YOY_TREND_log')\n",
    "\n",
    "\n",
    "train_X = train_X[collist_X_expanded]\n",
    "\n",
    "collist_X_expanded = sorted(collist_X_expanded, key=str.lower)\n",
    "\n",
    "varlist = []\n",
    "\n",
    "for var in collist_X_expanded: \n",
    "    vardf = train_X[var]\n",
    "    #print(vardf.head())\n",
    "    coef, pval = stats.pearsonr(vardf.to_numpy(), train_y)\n",
    "    if pval < 10:\n",
    "        varlist.append(var)\n",
    "        print('%50s Corr Coef: %7s - pval:  %.4f' % (var, str(round(coef,2)), pval))\n",
    "    #plt.hist(train_X[var], bins = 100)\n",
    "    #plt.show()\n",
    "    \n",
    "#print(varlist)\n",
    "    \n",
    "matplotlib.rcParams['figure.figsize'] = (11,8)"
   ]
  },
  {
   "cell_type": "code",
   "execution_count": 172,
   "metadata": {},
   "outputs": [],
   "source": [
    "collist_X_expanded = ['BPS_CAB', 'BPS_IND','PCT_HS_DIPLOMA','STORE_SQFT','TOTPOT_2018']\n",
    "train_X = train_X[collist_X_expanded]"
   ]
  },
  {
   "cell_type": "code",
   "execution_count": 173,
   "metadata": {},
   "outputs": [
    {
     "data": {
      "image/png": "[encoded data removed]",
      "text/plain": [
       "<Figure size 792x576 with 1 Axes>"
      ]
     },
     "metadata": {
      "needs_background": "light"
     },
     "output_type": "display_data"
    }
   ],
   "source": [
    "feat_labels = np.asarray(collist_X_expanded)\n",
    "\n",
    "forests = RandomForestRegressor(n_estimators=500,\n",
    "                                random_state=0,\n",
    "                                n_jobs=-1)\n",
    "forests.fit(train_X, train_y)\n",
    "importances = forests.feature_importances_\n",
    "indices = np.argsort(importances)[::-1]\n",
    "# for f in range(train_X2.shape[1]):\n",
    "#     print(\"%2d) %-*s %f\" % (f + 1, 30, feat_labels[indices[f]],\n",
    "#                                       importances[indices[f]]))\n",
    "    \n",
    "plt.title('Feature Importance')\n",
    "plt.bar(range(train_X.shape[1]), importances[indices], color='lightblue', align='center')\n",
    "plt.xticks(range(train_X.shape[1]), feat_labels[indices], rotation=90)\n",
    "plt.xlim([-1, train_X.shape[1]])\n",
    "plt.tight_layout()\n",
    "plt.show()"
   ]
  },
  {
   "cell_type": "code",
   "execution_count": 174,
   "metadata": {},
   "outputs": [
    {
     "data": {
      "text/plain": [
       "array(['BPS_CAB', 'BPS_IND', 'PCT_HS_DIPLOMA', 'STORE_SQFT',\n",
       "       'TOTPOT_2018'], dtype='<U14')"
      ]
     },
     "execution_count": 174,
     "metadata": {},
     "output_type": "execute_result"
    }
   ],
   "source": [
    "slct = SelectKBest(f_regression, k=5)\n",
    "slct.fit(train_X, train_y)\n",
    "selected = slct.get_support()\n",
    "feat_labels2 = feat_labels[selected]\n",
    "feat_labels2"
   ]
  },
  {
   "cell_type": "code",
   "execution_count": 175,
   "metadata": {
    "scrolled": false
   },
   "outputs": [
    {
     "name": "stdout",
     "output_type": "stream",
     "text": [
      "   VIF Factor         feature\n",
      "3   13.194371      STORE_SQFT\n",
      "2    5.347466  PCT_HS_DIPLOMA\n",
      "1    4.481249         BPS_IND\n",
      "4    3.437571     TOTPOT_2018\n",
      "0    1.788366         BPS_CAB\n"
     ]
    },
    {
     "data": {
      "image/png": "[encoded data removed]",
      "text/plain": [
       "<Figure size 792x648 with 2 Axes>"
      ]
     },
     "metadata": {
      "needs_background": "light"
     },
     "output_type": "display_data"
    }
   ],
   "source": [
    "collist_X2 = ['BPS_CAB', 'BPS_IND', 'PCT_HS_DIPLOMA', 'STORE_SQFT',\n",
    "       'TOTPOT_2018']\n",
    "\n",
    "#collist_X2 = feat_labels2.tolist()\n",
    "\n",
    "train_X2 = train_X[collist_X2]\n",
    "    \n",
    "corr = train_X2.corr()\n",
    "\n",
    "# Generate a mask for the upper triangle\n",
    "mask = np.zeros_like(corr, dtype=np.bool)\n",
    "mask[np.triu_indices_from(mask)] = True\n",
    "\n",
    "# Set up the matplotlib figure\n",
    "f, ax = plt.subplots(figsize=(11, 9))\n",
    "\n",
    "# Generate a custom diverging colormap\n",
    "cmap = sns.diverging_palette(250, 10, as_cmap=True)\n",
    "\n",
    "# Draw the heatmap with the mask and correct aspect ratio\n",
    "sns.heatmap(corr,  cmap=cmap, vmax=.99, center=0,\n",
    "            square=True, linewidths=.5, cbar_kws={\"shrink\": .5})\n",
    "\n",
    "\n",
    "print(helper.calc_VIFs(train_X2))"
   ]
  },
  {
   "cell_type": "code",
   "execution_count": 176,
   "metadata": {},
   "outputs": [
    {
     "name": "stdout",
     "output_type": "stream",
     "text": [
      "                                 OLS Regression Results                                \n",
      "=======================================================================================\n",
      "Dep. Variable:                      y   R-squared (uncentered):                   0.940\n",
      "Model:                            OLS   Adj. R-squared (uncentered):              0.936\n",
      "Method:                 Least Squares   F-statistic:                              211.7\n",
      "Date:                Tue, 25 Aug 2020   Prob (F-statistic):                    1.27e-39\n",
      "Time:                        15:55:25   Log-Likelihood:                         -1221.6\n",
      "No. Observations:                  72   AIC:                                      2453.\n",
      "Df Residuals:                      67   BIC:                                      2465.\n",
      "Df Model:                           5                                                  \n",
      "Covariance Type:            nonrobust                                                  \n",
      "==================================================================================\n",
      "                     coef    std err          t      P>|t|      [0.025      0.975]\n",
      "----------------------------------------------------------------------------------\n",
      "BPS_CAB        -2.811e+06   1.08e+06     -2.612      0.011   -4.96e+06   -6.63e+05\n",
      "BPS_IND        -1.161e+07   2.19e+06     -5.295      0.000    -1.6e+07   -7.23e+06\n",
      "PCT_HS_DIPLOMA  8.708e+07   1.04e+07      8.385      0.000    6.64e+07    1.08e+08\n",
      "STORE_SQFT       110.0866     25.036      4.397      0.000      60.115     160.058\n",
      "TOTPOT_2018        4.7285      0.909      5.200      0.000       2.913       6.543\n",
      "==============================================================================\n",
      "Omnibus:                        1.852   Durbin-Watson:                   2.279\n",
      "Prob(Omnibus):                  0.396   Jarque-Bera (JB):                1.297\n",
      "Skew:                           0.003   Prob(JB):                        0.523\n",
      "Kurtosis:                       2.343   Cond. No.                     2.12e+07\n",
      "==============================================================================\n",
      "\n",
      "Warnings:\n",
      "[1] Standard Errors assume that the covariance matrix of the errors is correctly specified.\n",
      "[2] The condition number is large, 2.12e+07. This might indicate that there are\n",
      "strong multicollinearity or other numerical problems.\n"
     ]
    }
   ],
   "source": [
    "import statsmodels.api as sm\n",
    "\n",
    "mod = sm.OLS(train_y, train_X2)\n",
    "res = mod.fit()\n",
    "print(res.summary())"
   ]
  },
  {
   "cell_type": "code",
   "execution_count": 177,
   "metadata": {},
   "outputs": [
    {
     "name": "stdout",
     "output_type": "stream",
     "text": [
      "R2 Train: 0.37309198865752935\n",
      "R2 Val: 0.18689801969886677\n"
     ]
    }
   ],
   "source": [
    "y_true3, y_pred3 = train_y, res.predict(train_X[collist_X2].values)\n",
    "y_true, y_pred = val_y, res.predict(val_X[collist_X2].values)\n",
    "y_true2, y_pred2 = test_y, res.predict(test_X[collist_X2].values)\n",
    "print('R2 Train: ' + str(r2_score(y_true3, y_pred3)))\n",
    "print('R2 Val: ' + str(r2_score(y_true, y_pred)))"
   ]
  },
  {
   "cell_type": "code",
   "execution_count": 178,
   "metadata": {},
   "outputs": [
    {
     "name": "stdout",
     "output_type": "stream",
     "text": [
      "Coefficients: \n",
      " [-2.84454852e+06 -1.03493994e+07  2.91619119e+07  9.84404672e+01\n",
      "  3.93647376e+00]\n",
      "Mean squared error: 28179229862465.9492\n",
      "Train Coefficient of determination: 0.4286\n",
      "Val Coefficient of determination: 0.2497\n",
      "Test Coefficient of determination: -0.1300\n"
     ]
    }
   ],
   "source": [
    "from sklearn import linear_model\n",
    "\n",
    "regr = linear_model.LinearRegression()\n",
    "regr.fit(train_X2.values, train_y)\n",
    "\n",
    "train_y_pred = regr.predict(train_X2.values)\n",
    "val_y_pred = regr.predict(val_X[collist_X2].values)\n",
    "test_y_pred = regr.predict(test_X[collist_X2].values)\n",
    "\n",
    "# The coefficients\n",
    "print('Coefficients: \\n', regr.coef_)\n",
    "# The mean squared error\n",
    "print('Mean squared error: %.4f'\n",
    "      % mean_squared_error(val_y, val_y_pred))\n",
    "# The coefficient of determination: 1 is perfect prediction\n",
    "print('Train Coefficient of determination: %.4f'\n",
    "      % r2_score(train_y, train_y_pred))\n",
    "print('Val Coefficient of determination: %.4f'\n",
    "      % r2_score(val_y, val_y_pred))\n",
    "print('Test Coefficient of determination: %.4f'\n",
    "      % r2_score(test_y, test_y_pred))"
   ]
  },
  {
   "cell_type": "code",
   "execution_count": 179,
   "metadata": {},
   "outputs": [
    {
     "name": "stdout",
     "output_type": "stream",
     "text": [
      "Parameter search took 37.94 seconds for 2000 candidate parameter settings.\n",
      "Best Mean validation score: -26921632931528.242 (std: nan)\n",
      "Parameters: {'booster': 'gbtree', 'colsample_bytree': 0.8869029349768421, 'feature_selector': 'shuffle', 'gamma': 4.60409780260729, 'learning_rate': 0.07899999070695632, 'max_depth': 17, 'min_child_weight': 9, 'n_estimators': 154, 'objective': 'reg:squarederror', 'reg_alpha': 0.9841607133324347, 'reg_lambda': 0.7456902183153057, 'subsample': 0.5927081958084135}\n"
     ]
    }
   ],
   "source": [
    "param_test1 = {\n",
    "     'learning_rate':uniform(0.01,0.09),\n",
    "     'max_depth':list(range(5,20)),\n",
    "     'min_child_weight':list(range(1,10)),\n",
    "     'colsample_bytree': uniform(0.1,0.99),\n",
    "     'subsample': uniform(0.1,0.99),\n",
    "     'reg_alpha': uniform(0.1, 0.9),\n",
    "     'reg_lambda': uniform(0.1, 0.9),\n",
    "     'objective':['reg:squarederror'],\n",
    "     'gamma':uniform(0.1, 5.0),\n",
    "     'n_estimators':range(10,200,2),\n",
    "     #'booster':['gblinear'],\n",
    "     'booster':['gbtree'],\n",
    "     'feature_selector':['cyclic','shuffle','random']\n",
    "}\n",
    "\n",
    "\n",
    "gsearch1 = RandomizedSearchCV(estimator = xgb.XGBRegressor(), \n",
    "                              param_distributions = param_test1, \n",
    "                              scoring='neg_mean_squared_error',\n",
    "                              n_jobs=-1,\n",
    "                              n_iter=2000,\n",
    "                              cv=5)\n",
    "start = time()\n",
    "gsearch1.fit(train_X2.values, train_y)\n",
    "\n",
    "print(\"Parameter search took %.2f seconds for %d candidate parameter settings.\"\n",
    "      % (time() - start, len(gsearch1.cv_results_['params'])))\n",
    "\n",
    "helper.report(gsearch1) "
   ]
  },
  {
   "cell_type": "code",
   "execution_count": 180,
   "metadata": {},
   "outputs": [
    {
     "name": "stdout",
     "output_type": "stream",
     "text": [
      "[0]\tvalidation_0-rmse:2.15565e+07\tvalidation_1-rmse:1.9409e+07\tvalidation_2-rmse:1.96366e+07\n",
      "Multiple eval metrics have been passed: 'validation_2-rmse' will be used for early stopping.\n",
      "\n",
      "Will train until validation_2-rmse hasn't improved in 10 rounds.\n",
      "[1]\tvalidation_0-rmse:2.00387e+07\tvalidation_1-rmse:1.7874e+07\tvalidation_2-rmse:1.80992e+07\n",
      "[2]\tvalidation_0-rmse:1.86194e+07\tvalidation_1-rmse:1.65315e+07\tvalidation_2-rmse:1.68424e+07\n",
      "[3]\tvalidation_0-rmse:1.72864e+07\tvalidation_1-rmse:1.51579e+07\tvalidation_2-rmse:1.54744e+07\n",
      "[4]\tvalidation_0-rmse:1.60811e+07\tvalidation_1-rmse:1.39639e+07\tvalidation_2-rmse:1.42872e+07\n",
      "[5]\tvalidation_0-rmse:1.50874e+07\tvalidation_1-rmse:1.29716e+07\tvalidation_2-rmse:1.32592e+07\n",
      "[6]\tvalidation_0-rmse:1.41643e+07\tvalidation_1-rmse:1.20646e+07\tvalidation_2-rmse:1.22906e+07\n",
      "[7]\tvalidation_0-rmse:1.32031e+07\tvalidation_1-rmse:1.1093e+07\tvalidation_2-rmse:1.12766e+07\n",
      "[8]\tvalidation_0-rmse:1.23611e+07\tvalidation_1-rmse:1.02427e+07\tvalidation_2-rmse:1.03749e+07\n",
      "[9]\tvalidation_0-rmse:1.15862e+07\tvalidation_1-rmse:9.54231e+06\tvalidation_2-rmse:9.72077e+06\n",
      "[10]\tvalidation_0-rmse:1.09234e+07\tvalidation_1-rmse:8.94822e+06\tvalidation_2-rmse:9.14468e+06\n",
      "[11]\tvalidation_0-rmse:1.03504e+07\tvalidation_1-rmse:8.37516e+06\tvalidation_2-rmse:8.45481e+06\n",
      "[12]\tvalidation_0-rmse:9.72621e+06\tvalidation_1-rmse:7.69654e+06\tvalidation_2-rmse:7.7721e+06\n",
      "[13]\tvalidation_0-rmse:9.19931e+06\tvalidation_1-rmse:7.21677e+06\tvalidation_2-rmse:7.33674e+06\n",
      "[14]\tvalidation_0-rmse:8.72066e+06\tvalidation_1-rmse:6.74516e+06\tvalidation_2-rmse:6.87011e+06\n",
      "[15]\tvalidation_0-rmse:8.28466e+06\tvalidation_1-rmse:6.31335e+06\tvalidation_2-rmse:6.47937e+06\n",
      "[16]\tvalidation_0-rmse:7.86888e+06\tvalidation_1-rmse:5.93033e+06\tvalidation_2-rmse:6.12143e+06\n",
      "[17]\tvalidation_0-rmse:7.48257e+06\tvalidation_1-rmse:5.60003e+06\tvalidation_2-rmse:5.82065e+06\n",
      "[18]\tvalidation_0-rmse:7.19347e+06\tvalidation_1-rmse:5.3474e+06\tvalidation_2-rmse:5.51633e+06\n",
      "[19]\tvalidation_0-rmse:6.83783e+06\tvalidation_1-rmse:5.12753e+06\tvalidation_2-rmse:5.31039e+06\n",
      "[20]\tvalidation_0-rmse:6.5761e+06\tvalidation_1-rmse:4.95559e+06\tvalidation_2-rmse:5.12055e+06\n",
      "[21]\tvalidation_0-rmse:6.32361e+06\tvalidation_1-rmse:4.82077e+06\tvalidation_2-rmse:4.94774e+06\n",
      "[22]\tvalidation_0-rmse:6.13785e+06\tvalidation_1-rmse:4.68342e+06\tvalidation_2-rmse:4.74938e+06\n",
      "[23]\tvalidation_0-rmse:5.94125e+06\tvalidation_1-rmse:4.60476e+06\tvalidation_2-rmse:4.70655e+06\n",
      "[24]\tvalidation_0-rmse:5.80066e+06\tvalidation_1-rmse:4.55942e+06\tvalidation_2-rmse:4.64061e+06\n",
      "[25]\tvalidation_0-rmse:5.60636e+06\tvalidation_1-rmse:4.39548e+06\tvalidation_2-rmse:4.51644e+06\n",
      "[26]\tvalidation_0-rmse:5.49385e+06\tvalidation_1-rmse:4.33967e+06\tvalidation_2-rmse:4.45541e+06\n",
      "[27]\tvalidation_0-rmse:5.35734e+06\tvalidation_1-rmse:4.24218e+06\tvalidation_2-rmse:4.40006e+06\n",
      "[28]\tvalidation_0-rmse:5.19576e+06\tvalidation_1-rmse:4.11755e+06\tvalidation_2-rmse:4.29915e+06\n",
      "[29]\tvalidation_0-rmse:5.12455e+06\tvalidation_1-rmse:4.11752e+06\tvalidation_2-rmse:4.28334e+06\n",
      "[30]\tvalidation_0-rmse:5.00368e+06\tvalidation_1-rmse:4.04161e+06\tvalidation_2-rmse:4.23836e+06\n",
      "[31]\tvalidation_0-rmse:4.94367e+06\tvalidation_1-rmse:4.0345e+06\tvalidation_2-rmse:4.27554e+06\n",
      "[32]\tvalidation_0-rmse:4.81762e+06\tvalidation_1-rmse:3.97322e+06\tvalidation_2-rmse:4.21176e+06\n",
      "[33]\tvalidation_0-rmse:4.76517e+06\tvalidation_1-rmse:4.00400e+06\tvalidation_2-rmse:4.20756e+06\n",
      "[34]\tvalidation_0-rmse:4.71386e+06\tvalidation_1-rmse:3.98803e+06\tvalidation_2-rmse:4.2326e+06\n",
      "[35]\tvalidation_0-rmse:4.64654e+06\tvalidation_1-rmse:3.98111e+06\tvalidation_2-rmse:4.26292e+06\n",
      "[36]\tvalidation_0-rmse:4.59167e+06\tvalidation_1-rmse:3.9754e+06\tvalidation_2-rmse:4.30958e+06\n",
      "[37]\tvalidation_0-rmse:4.55963e+06\tvalidation_1-rmse:3.95219e+06\tvalidation_2-rmse:4.26396e+06\n",
      "[38]\tvalidation_0-rmse:4.49354e+06\tvalidation_1-rmse:3.97191e+06\tvalidation_2-rmse:4.31524e+06\n",
      "[39]\tvalidation_0-rmse:4.45516e+06\tvalidation_1-rmse:3.96101e+06\tvalidation_2-rmse:4.2793e+06\n",
      "[40]\tvalidation_0-rmse:4.41585e+06\tvalidation_1-rmse:3.95446e+06\tvalidation_2-rmse:4.29673e+06\n",
      "[41]\tvalidation_0-rmse:4.39776e+06\tvalidation_1-rmse:3.94092e+06\tvalidation_2-rmse:4.27722e+06\n",
      "[42]\tvalidation_0-rmse:4.35994e+06\tvalidation_1-rmse:3.94241e+06\tvalidation_2-rmse:4.31708e+06\n",
      "[43]\tvalidation_0-rmse:4.29903e+06\tvalidation_1-rmse:3.91917e+06\tvalidation_2-rmse:4.28225e+06\n",
      "Stopping. Best iteration:\n",
      "[33]\tvalidation_0-rmse:4.76517e+06\tvalidation_1-rmse:4.00400e+06\tvalidation_2-rmse:4.20756e+06\n",
      "\n"
     ]
    }
   ],
   "source": [
    "\n",
    "\n",
    "bestpar = gsearch1.best_params_\n",
    "\n",
    "tuned_model = xgb.XGBRegressor( booster = bestpar['booster'],\n",
    "                               colsample_bytree = bestpar['colsample_bytree'],\n",
    "                               feature_selector = bestpar['feature_selector'],\n",
    "                               gamma = bestpar['gamma'],\n",
    "                               learning_rate = bestpar['learning_rate'],\n",
    "                               max_depth = bestpar['max_depth'],\n",
    "                               min_child_weight = bestpar['min_child_weight'],\n",
    "                               n_estimators = bestpar['n_estimators'],\n",
    "                               objective = bestpar['objective'],\n",
    "                               reg_alpha = bestpar['reg_alpha'],\n",
    "                               reg_lambda = bestpar['reg_lambda'],\n",
    "                               subsample = bestpar['subsample'])\n",
    "\n",
    "xgbmodel = tuned_model.fit(train_X2.values, train_y, \n",
    "                 eval_set=[(train_X2.values, train_y), (val_X[collist_X2].values, val_y), (test_X[collist_X2].values, test_y)], \n",
    "                 eval_metric='rmse',\n",
    "                 early_stopping_rounds=10,                 \n",
    "                 verbose=True)\n"
   ]
  },
  {
   "cell_type": "code",
   "execution_count": null,
   "metadata": {},
   "outputs": [],
   "source": []
  },
  {
   "cell_type": "code",
   "execution_count": 119,
   "metadata": {},
   "outputs": [
    {
     "data": {
      "text/plain": [
       "0.34248657228215507"
      ]
     },
     "execution_count": 119,
     "metadata": {},
     "output_type": "execute_result"
    }
   ],
   "source": [
    "y_true, y_pred = train_y, xgbmodel.predict(train_X2.values, ntree_limit = xgbmodel.best_ntree_limit)\n",
    "                                         \n",
    "r2 = r2_score(y_true, y_pred)                                  \n",
    "r2"
   ]
  },
  {
   "cell_type": "code",
   "execution_count": 120,
   "metadata": {},
   "outputs": [
    {
     "name": "stdout",
     "output_type": "stream",
     "text": [
      "The model is trained on the full development set.\n",
      "The scores are computed on the full evaluation set.\n",
      "\n",
      "R2 Train: 0.34248657228215507\n",
      "R2 Val: 0.24083018286171765\n",
      "R2 Test: 0.021090826406725327\n",
      "RMSE Train: 24.352417245399472\n",
      "RMSE Val: 25.253366278306935\n",
      "RMSE Test: 27.498661987361533\n",
      "MAE Train: 20.826605699046997\n",
      "MAE Val: 22.05480386553459\n",
      "MAE Test: 20.513585501609626\n"
     ]
    }
   ],
   "source": [
    "print(\"The model is trained on the full development set.\")\n",
    "print(\"The scores are computed on the full evaluation set.\")\n",
    "print()\n",
    "y_true3, y_pred3 = train_y, xgbmodel.predict(train_X[collist_X2].values, ntree_limit = xgbmodel.best_ntree_limit)\n",
    "y_true, y_pred = val_y, xgbmodel.predict(val_X[collist_X2].values, ntree_limit = xgbmodel.best_ntree_limit)\n",
    "y_true2, y_pred2 = test_y, xgbmodel.predict(test_X[collist_X2].values, ntree_limit = xgbmodel.best_ntree_limit)\n",
    "\n",
    "#y_true3, y_pred3 = train_y, xgbmodel.predict(train_X[collist_X2].values, ntree_limit = 0)\n",
    "#y_true, y_pred = val_y, xgbmodel.predict(val_X[collist_X2].values, ntree_limit = 0)\n",
    "#y_true2, y_pred2 = test_y, xgbmodel.predict(test_X[collist_X2].values, ntree_limit = 0)\n",
    "print('R2 Train: ' + str(r2_score(y_true3, y_pred3)))\n",
    "print('R2 Val: ' + str(r2_score(y_true, y_pred)))\n",
    "print('R2 Test: ' + str(r2_score(y_true2, y_pred2)))\n",
    "\n",
    "rmse = math.sqrt(mean_squared_error(y_true3, y_pred3))\n",
    "print('RMSE Train: ' + str(rmse))\n",
    "rmse = math.sqrt(mean_squared_error(y_true, y_pred))\n",
    "print('RMSE Val: ' + str(rmse))\n",
    "rmse = math.sqrt(mean_squared_error(y_true2, y_pred2))\n",
    "print('RMSE Test: ' + str(rmse))\n",
    "\n",
    "rmse = mean_absolute_error(y_true3, y_pred3)\n",
    "print('MAE Train: ' + str(rmse))\n",
    "rmse = mean_absolute_error(y_true, y_pred)\n",
    "print('MAE Val: ' + str(rmse))\n",
    "rmse = mean_absolute_error(y_true2, y_pred2)\n",
    "print('MAE Test: ' + str(rmse))"
   ]
  },
  {
   "cell_type": "code",
   "execution_count": 181,
   "metadata": {},
   "outputs": [
    {
     "data": {
      "image/png": "[encoded data removed]",
      "text/plain": [
       "<Figure size 792x576 with 1 Axes>"
      ]
     },
     "metadata": {
      "needs_background": "light"
     },
     "output_type": "display_data"
    }
   ],
   "source": [
    "plotdata = pd.DataFrame({'true':y_true3.tolist(),'pred':y_pred3.tolist()})\n",
    "plotdata['resid'] = plotdata['pred']-plotdata['true']\n",
    "plotdata['stdresid'] = plotdata['resid']/np.std(plotdata['resid'])\n",
    "\n",
    "plt.plot(plotdata['stdresid'], '.', alpha = 0.5, color='black')\n",
    "plt.axhline(y=0, color = 'green')\n",
    "plt.axhline(y=2, color = 'blue', linestyle='--')\n",
    "plt.axhline(y=-2, color = 'blue', linestyle='--')\n",
    "plt.axhline(y=3, color = 'red', linestyle='--')\n",
    "plt.axhline(y=-3, color = 'red', linestyle='--')\n",
    "\n",
    "plt.title('Standardized Residuals')\n",
    "plt.ylabel('Standard Deviations')\n",
    "plt.xlabel('Observation Number')\n",
    "plt.show()"
   ]
  },
  {
   "cell_type": "code",
   "execution_count": 183,
   "metadata": {},
   "outputs": [],
   "source": [
    "def un_cbrt(y_test, y_pred):\n",
    "    '''\n",
    "    Convert values back to actual dollar values.\n",
    "    \n",
    "    INPUTS:\n",
    "        - y_test\n",
    "        - y_predictions\n",
    "    OUTPUT:\n",
    "        - converted y_test\n",
    "        - converted y_predictions\n",
    "    '''\n",
    "    return np.power(y_test,3), np.power(y_pred,3)\n",
    "\n",
    "def un_log(y_test, y_pred):\n",
    "    '''\n",
    "    Convert values back to actual dollar values from log values.\n",
    "    \n",
    "    INPUTS:\n",
    "        - y_test\n",
    "        - y_predictions\n",
    "    OUTPUT:\n",
    "        - converted y_test\n",
    "        - converted y_predictions\n",
    "    '''\n",
    "    return np.exp(y_test), np.exp(y_pred)\n",
    "\n",
    "\n",
    "\n",
    "\n",
    "def get_prediction_interval(y_test, test_predictions, pi=.95):\n",
    "    '''\n",
    "    Get a prediction interval for a linear regression.\n",
    "    \n",
    "    INPUTS: \n",
    "        - Single prediction, \n",
    "        - y_test\n",
    "        - All test set predictions,\n",
    "        - Prediction interval threshold (default = .95) \n",
    "    OUTPUT: \n",
    "        - Prediction interval for single prediction\n",
    "    '''\n",
    "    \n",
    "    #get standard deviation of y_test\n",
    "    sum_errs = np.sum((y_test - test_predictions)**2)\n",
    "    stdev = np.sqrt(1 / (len(y_test) - 2) * sum_errs)\n",
    "#get interval from standard deviation\n",
    "    one_minus_pi = 1 - pi\n",
    "    ppf_lookup = 1 - (one_minus_pi / 2)\n",
    "    z_score = stats.norm.ppf(ppf_lookup)\n",
    "    interval = z_score * stdev\n",
    "#generate prediction interval lower and upper bound\n",
    "    return interval"
   ]
  },
  {
   "cell_type": "code",
   "execution_count": 184,
   "metadata": {},
   "outputs": [
    {
     "data": {
      "text/plain": [
       "2.1058222503813544e+22"
      ]
     },
     "execution_count": 184,
     "metadata": {},
     "output_type": "execute_result"
    }
   ],
   "source": [
    "y_true_conv, y_pred_conv = un_cbrt(y_true3, y_pred3)\n",
    "\n",
    "get_prediction_interval(y_true_conv, y_pred_conv)"
   ]
  },
  {
   "cell_type": "code",
   "execution_count": 186,
   "metadata": {},
   "outputs": [
    {
     "name": "stdout",
     "output_type": "stream",
     "text": [
      "Parameter search took 3.23 seconds for 2000 candidate parameter settings.\n",
      "Best Mean validation score: -35034586245373.977 (std: 5989569443452.157)\n",
      "Parameters: {'alpha': 0.09151827101535652, 'fit_intercept': True, 'l1_ratio': 0.5582026996726094, 'normalize': False, 'selection': 'random'}\n"
     ]
    }
   ],
   "source": [
    "param_test2 = {\n",
    "     'alpha':uniform(0.01,0.99),\n",
    "     'l1_ratio':uniform(0.01,0.99),\n",
    "     'fit_intercept':[True],\n",
    "     'normalize':[True, False],\n",
    "     'selection':['cyclic','random']\n",
    "}\n",
    "\n",
    "\n",
    "gsearch2 = RandomizedSearchCV(estimator = ElasticNet(), \n",
    "                              param_distributions = param_test2, \n",
    "                              scoring='neg_mean_squared_error',\n",
    "                              n_jobs=-1,\n",
    "                              n_iter=2000,\n",
    "                              cv=5)\n",
    "start = time()\n",
    "gsearch2.fit(train_X2.values, train_y)\n",
    "\n",
    "print(\"Parameter search took %.2f seconds for %d candidate parameter settings.\"\n",
    "      % (time() - start, len(gsearch2.cv_results_['params'])))\n",
    "\n",
    "helper.report(gsearch2) "
   ]
  },
  {
   "cell_type": "code",
   "execution_count": 188,
   "metadata": {},
   "outputs": [],
   "source": [
    "tuned_net = ElasticNet(alpha = 0.02144,\n",
    "                       l1_ratio = 0.0915,\n",
    "                       normalize = True,\n",
    "                       selection='random')\n",
    "\n",
    "enet_model = tuned_net.fit(train_X2.values, train_y)\n"
   ]
  },
  {
   "cell_type": "code",
   "execution_count": 189,
   "metadata": {},
   "outputs": [
    {
     "name": "stdout",
     "output_type": "stream",
     "text": [
      "The model is trained on the full development set.\n",
      "The scores are computed on the full evaluation set.\n",
      "\n",
      "R2 Train: 0.18009370625089316\n",
      "R2 Val: 0.12584608052843893\n",
      "R2 Test: 0.2319263640672251\n",
      "RMSE Train: 6461766.204100549\n",
      "RMSE Val: 5729947.521184134\n",
      "RMSE Test: 5035036.979054423\n",
      "MAE Train: 5539072.096685444\n",
      "MAE Val: 4827248.850010545\n",
      "MAE Test: 4168583.5051334137\n"
     ]
    }
   ],
   "source": [
    "print(\"The model is trained on the full development set.\")\n",
    "print(\"The scores are computed on the full evaluation set.\")\n",
    "print()\n",
    "\n",
    "y_true3, y_pred3 = train_y, enet_model.predict(train_X[collist_X2].values)\n",
    "y_true, y_pred = val_y, enet_model.predict(val_X[collist_X2].values)\n",
    "y_true2, y_pred2 = test_y, enet_model.predict(test_X[collist_X2].values)\n",
    "print('R2 Train: ' + str(r2_score(y_true3, y_pred3)))\n",
    "print('R2 Val: ' + str(r2_score(y_true, y_pred)))\n",
    "print('R2 Test: ' + str(r2_score(y_true2, y_pred2)))\n",
    "\n",
    "rmse = math.sqrt(mean_squared_error(y_true3, y_pred3))\n",
    "print('RMSE Train: ' + str(rmse))\n",
    "rmse = math.sqrt(mean_squared_error(y_true, y_pred))\n",
    "print('RMSE Val: ' + str(rmse))\n",
    "rmse = math.sqrt(mean_squared_error(y_true2, y_pred2))\n",
    "print('RMSE Test: ' + str(rmse))\n",
    "\n",
    "rmse = mean_absolute_error(y_true3, y_pred3)\n",
    "print('MAE Train: ' + str(rmse))\n",
    "rmse = mean_absolute_error(y_true, y_pred)\n",
    "print('MAE Val: ' + str(rmse))\n",
    "rmse = mean_absolute_error(y_true2, y_pred2)\n",
    "print('MAE Test: ' + str(rmse))"
   ]
  },
  {
   "cell_type": "code",
   "execution_count": 190,
   "metadata": {},
   "outputs": [
    {
     "data": {
      "image/png": "[encoded data removed]",
      "text/plain": [
       "<Figure size 792x576 with 1 Axes>"
      ]
     },
     "metadata": {
      "needs_background": "light"
     },
     "output_type": "display_data"
    }
   ],
   "source": [
    "plotdata = pd.DataFrame({'true':y_true.tolist(),'pred':y_pred.tolist()})\n",
    "plotdata['resid'] = plotdata['pred']-plotdata['true']\n",
    "plotdata['stdresid'] = plotdata['resid']/np.std(plotdata['resid'])\n",
    "\n",
    "plt.plot(plotdata['stdresid'], '.', alpha = 0.5, color='black')\n",
    "plt.axhline(y=0, color = 'green')\n",
    "plt.axhline(y=2, color = 'blue', linestyle='--')\n",
    "plt.axhline(y=-2, color = 'blue', linestyle='--')\n",
    "plt.axhline(y=3, color = 'red', linestyle='--')\n",
    "plt.axhline(y=-3, color = 'red', linestyle='--')\n",
    "\n",
    "plt.title('Standardized Residuals')\n",
    "plt.ylabel('Standard Deviations')\n",
    "plt.xlabel('Observation Number')\n",
    "plt.show()"
   ]
  },
  {
   "cell_type": "code",
   "execution_count": 192,
   "metadata": {},
   "outputs": [
    {
     "data": {
      "text/plain": [
       "12844480.974784635"
      ]
     },
     "execution_count": 192,
     "metadata": {},
     "output_type": "execute_result"
    }
   ],
   "source": [
    "y_true_conv, y_pred_conv = y_true3, y_pred3\n",
    "\n",
    "get_prediction_interval(y_true_conv, y_pred_conv)"
   ]
  },
  {
   "cell_type": "code",
   "execution_count": 193,
   "metadata": {},
   "outputs": [
    {
     "data": {
      "text/plain": [
       "array([-3.69918819e+05, -1.50088924e+06,  2.47886622e+06,  1.42284864e+01,\n",
       "        1.45139899e+00])"
      ]
     },
     "execution_count": 193,
     "metadata": {},
     "output_type": "execute_result"
    }
   ],
   "source": [
    "enet_model.coef_"
   ]
  },
  {
   "cell_type": "code",
   "execution_count": null,
   "metadata": {},
   "outputs": [],
   "source": []
  }
 ],
 "metadata": {
  "kernelspec": {
   "display_name": "Python 3",
   "language": "python",
   "name": "python3"
  },
  "language_info": {
   "codemirror_mode": {
    "name": "ipython",
    "version": 3
   },
   "file_extension": ".py",
   "mimetype": "text/x-python",
   "name": "python",
   "nbconvert_exporter": "python",
   "pygments_lexer": "ipython3",
   "version": "3.7.6"
  }
 },
 "nbformat": 4,
 "nbformat_minor": 4
}

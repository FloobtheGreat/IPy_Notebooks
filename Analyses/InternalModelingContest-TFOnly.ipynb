{
 "cells": [
  {
   "cell_type": "code",
   "execution_count": 1,
   "metadata": {},
   "outputs": [
    {
     "name": "stderr",
     "output_type": "stream",
     "text": [
      "C:\\ProgramData\\Anaconda3\\lib\\site-packages\\sklearn\\cross_validation.py:44: DeprecationWarning: This module was deprecated in version 0.18 in favor of the model_selection module into which all the refactored classes and functions are moved. Also note that the interface of the new CV iterators are different from that of this module. This module will be removed in 0.20.\n",
      "  \"This module will be removed in 0.20.\", DeprecationWarning)\n"
     ]
    }
   ],
   "source": [
    "import sys\n",
    "import importlib as imp\n",
    "sys.path.insert(0, r\"C:\\users\\pairwin\\Documents\\Github\\HelperPI\")\n",
    "#sys.path.insert(0, r'/home/pirwin/Git/HelperPI')\n",
    "#imp.reload(HelperPI)\n",
    "import HelperPI\n",
    "import itertools\n",
    "import seaborn as sns\n",
    "import pandas as pd\n",
    "import scipy.stats as stats\n",
    "from scipy.special import inv_boxcox\n",
    "from scipy.stats.distributions import uniform, lognorm\n",
    "import matplotlib.pyplot as plt\n",
    "import matplotlib\n",
    "import statsmodels.formula.api as sts\n",
    "import numpy as np\n",
    "import math\n",
    "from sklearn.ensemble import RandomForestRegressor\n",
    "from sklearn.preprocessing import Imputer, StandardScaler\n",
    "from sklearn.externals import joblib\n",
    "from scipy import interp\n",
    "from sklearn.metrics import r2_score, mean_squared_error, mean_absolute_error\n",
    "from time import time\n",
    "from sklearn.feature_selection import SelectKBest, f_regression\n",
    "import tensorflow as tf\n",
    "\n",
    "%matplotlib notebook\n",
    "\n",
    "\n",
    "pd.options.mode.chained_assignment = None\n",
    "pd.options.display.max_columns = 999\n"
   ]
  },
  {
   "cell_type": "code",
   "execution_count": 2,
   "metadata": {},
   "outputs": [
    {
     "name": "stderr",
     "output_type": "stream",
     "text": [
      "INFO:root:Initializing...\n"
     ]
    }
   ],
   "source": [
    "helper = HelperPI.Helper()"
   ]
  },
  {
   "cell_type": "code",
   "execution_count": 3,
   "metadata": {
    "scrolled": true
   },
   "outputs": [
    {
     "name": "stderr",
     "output_type": "stream",
     "text": [
      "INFO:root:Reading data...\n",
      "INFO:root:Data read complete...\n",
      "INFO:root:Read: 80000 rows.\n"
     ]
    },
    {
     "name": "stdout",
     "output_type": "stream",
     "text": [
      "                           Count Column Type\n",
      "0                      LAST_NAME      object\n",
      "1                 ADDRESS_LINE_1      object\n",
      "2                 ADDRESS_LINE_2      object\n",
      "3                      CITY_NAME      object\n",
      "4                     STATE_CODE      object\n",
      "5                   COUNTRY_CODE      object\n",
      "6                            ZIP      object\n",
      "7                        ZIP_EXT      object\n",
      "8                      SALES_R12     float64\n",
      "9                      SALES_R24     float64\n",
      "10                     SALES_R48     float64\n",
      "11                     SALES_RLT     float64\n",
      "12       FISHING_MARINE_SALES_LT     float64\n",
      "13  CAMPING_WATERSPORTS_SALES_LT     float64\n",
      "14    HUNTING_HUNTCLOTH_SALES_LT     float64\n",
      "15             FOOTWEAR_SALES_LT     float64\n",
      "16             SHOOTING_SALES_LT     float64\n",
      "17                 GIFT_SALES_LT     float64\n",
      "18              APPAREL_SALES_LT     float64\n",
      "19                OTHER_SALES_LT     float64\n",
      "20                     VISITS_LT     float64\n",
      "21              FISH_MARINE_PERC     float64\n",
      "22      CAMPING_WATERSPORTS_PERC     float64\n",
      "23                  HUNTING_PERC     float64\n",
      "24                 FOOTWEAR_PERC     float64\n",
      "25                 SHOOTING_PERC     float64\n",
      "26                     GIFT_PERC     float64\n",
      "27                  APPAREL_PERC     float64\n",
      "28                    OTHER_PERC     float64\n",
      "29           DAYS_SINCE_PURCHASE     float64\n",
      "30              DAYS_AS_CUSTOMER     float64\n",
      "31              REWARDS_CUSTOMER       int64\n",
      "32                     YOY_TREND     float64\n",
      "33              SALES_TARGET_N12     float64\n"
     ]
    }
   ],
   "source": [
    "sql = helper.getSQL(path=r'C:\\Users\\pairwin\\Documents\\GitHub\\IPy_Notebooks\\SQL\\Contest_Sql.sql')\n",
    "base, dtypedf = helper.readData(sql)"
   ]
  },
  {
   "cell_type": "code",
   "execution_count": 256,
   "metadata": {},
   "outputs": [
    {
     "data": {
      "text/html": [
       "<div>\n",
       "<style>\n",
       "    .dataframe thead tr:only-child th {\n",
       "        text-align: right;\n",
       "    }\n",
       "\n",
       "    .dataframe thead th {\n",
       "        text-align: left;\n",
       "    }\n",
       "\n",
       "    .dataframe tbody tr th {\n",
       "        vertical-align: top;\n",
       "    }\n",
       "</style>\n",
       "<table border=\"1\" class=\"dataframe\">\n",
       "  <thead>\n",
       "    <tr style=\"text-align: right;\">\n",
       "      <th></th>\n",
       "      <th>SALES_R12</th>\n",
       "      <th>SALES_R24</th>\n",
       "      <th>SALES_R48</th>\n",
       "      <th>SALES_RLT</th>\n",
       "      <th>FISHING_MARINE_SALES_LT</th>\n",
       "      <th>CAMPING_WATERSPORTS_SALES_LT</th>\n",
       "      <th>HUNTING_HUNTCLOTH_SALES_LT</th>\n",
       "      <th>FOOTWEAR_SALES_LT</th>\n",
       "      <th>SHOOTING_SALES_LT</th>\n",
       "      <th>GIFT_SALES_LT</th>\n",
       "      <th>APPAREL_SALES_LT</th>\n",
       "      <th>OTHER_SALES_LT</th>\n",
       "      <th>VISITS_LT</th>\n",
       "      <th>FISH_MARINE_PERC</th>\n",
       "      <th>CAMPING_WATERSPORTS_PERC</th>\n",
       "      <th>HUNTING_PERC</th>\n",
       "      <th>FOOTWEAR_PERC</th>\n",
       "      <th>SHOOTING_PERC</th>\n",
       "      <th>GIFT_PERC</th>\n",
       "      <th>APPAREL_PERC</th>\n",
       "      <th>OTHER_PERC</th>\n",
       "      <th>DAYS_SINCE_PURCHASE</th>\n",
       "      <th>DAYS_AS_CUSTOMER</th>\n",
       "      <th>REWARDS_CUSTOMER</th>\n",
       "      <th>YOY_TREND</th>\n",
       "      <th>SALES_TARGET_N12</th>\n",
       "    </tr>\n",
       "  </thead>\n",
       "  <tbody>\n",
       "    <tr>\n",
       "      <th>count</th>\n",
       "      <td>17219.000000</td>\n",
       "      <td>17219.000000</td>\n",
       "      <td>17219.000000</td>\n",
       "      <td>17219.000000</td>\n",
       "      <td>17219.000000</td>\n",
       "      <td>17219.000000</td>\n",
       "      <td>17219.000000</td>\n",
       "      <td>17219.000000</td>\n",
       "      <td>17219.000000</td>\n",
       "      <td>17219.000000</td>\n",
       "      <td>17219.000000</td>\n",
       "      <td>17219.000000</td>\n",
       "      <td>17219.000000</td>\n",
       "      <td>17179.000000</td>\n",
       "      <td>17179.000000</td>\n",
       "      <td>17179.000000</td>\n",
       "      <td>17179.000000</td>\n",
       "      <td>17179.000000</td>\n",
       "      <td>17179.000000</td>\n",
       "      <td>17179.000000</td>\n",
       "      <td>17179.000000</td>\n",
       "      <td>17179.000000</td>\n",
       "      <td>17179.000000</td>\n",
       "      <td>17219.000000</td>\n",
       "      <td>17219.000000</td>\n",
       "      <td>17219.000000</td>\n",
       "    </tr>\n",
       "    <tr>\n",
       "      <th>mean</th>\n",
       "      <td>248.651153</td>\n",
       "      <td>478.416928</td>\n",
       "      <td>895.308090</td>\n",
       "      <td>1804.996911</td>\n",
       "      <td>545.475718</td>\n",
       "      <td>156.164958</td>\n",
       "      <td>379.500681</td>\n",
       "      <td>122.505474</td>\n",
       "      <td>251.809651</td>\n",
       "      <td>74.697069</td>\n",
       "      <td>245.612566</td>\n",
       "      <td>29.230794</td>\n",
       "      <td>17.545328</td>\n",
       "      <td>0.251668</td>\n",
       "      <td>0.097096</td>\n",
       "      <td>0.171530</td>\n",
       "      <td>0.081092</td>\n",
       "      <td>0.119252</td>\n",
       "      <td>0.072116</td>\n",
       "      <td>0.189451</td>\n",
       "      <td>0.017795</td>\n",
       "      <td>668.551953</td>\n",
       "      <td>2501.868735</td>\n",
       "      <td>0.696905</td>\n",
       "      <td>0.725800</td>\n",
       "      <td>262.680140</td>\n",
       "    </tr>\n",
       "    <tr>\n",
       "      <th>std</th>\n",
       "      <td>511.957543</td>\n",
       "      <td>923.929217</td>\n",
       "      <td>1644.605586</td>\n",
       "      <td>3841.247516</td>\n",
       "      <td>2574.891754</td>\n",
       "      <td>368.355857</td>\n",
       "      <td>1005.702208</td>\n",
       "      <td>320.936210</td>\n",
       "      <td>785.828299</td>\n",
       "      <td>177.029740</td>\n",
       "      <td>503.739463</td>\n",
       "      <td>103.453574</td>\n",
       "      <td>30.252441</td>\n",
       "      <td>0.308010</td>\n",
       "      <td>0.176435</td>\n",
       "      <td>0.235512</td>\n",
       "      <td>0.155769</td>\n",
       "      <td>0.219060</td>\n",
       "      <td>0.155663</td>\n",
       "      <td>0.247109</td>\n",
       "      <td>0.072302</td>\n",
       "      <td>340.864176</td>\n",
       "      <td>1361.081308</td>\n",
       "      <td>0.459609</td>\n",
       "      <td>8.081475</td>\n",
       "      <td>412.448219</td>\n",
       "    </tr>\n",
       "    <tr>\n",
       "      <th>min</th>\n",
       "      <td>0.000000</td>\n",
       "      <td>0.000000</td>\n",
       "      <td>0.990000</td>\n",
       "      <td>0.000000</td>\n",
       "      <td>0.000000</td>\n",
       "      <td>0.000000</td>\n",
       "      <td>0.000000</td>\n",
       "      <td>0.000000</td>\n",
       "      <td>0.000000</td>\n",
       "      <td>0.000000</td>\n",
       "      <td>0.000000</td>\n",
       "      <td>0.000000</td>\n",
       "      <td>0.000000</td>\n",
       "      <td>0.000000</td>\n",
       "      <td>0.000000</td>\n",
       "      <td>0.000000</td>\n",
       "      <td>0.000000</td>\n",
       "      <td>0.000000</td>\n",
       "      <td>0.000000</td>\n",
       "      <td>0.000000</td>\n",
       "      <td>0.000000</td>\n",
       "      <td>365.000000</td>\n",
       "      <td>365.000000</td>\n",
       "      <td>0.000000</td>\n",
       "      <td>-1.000000</td>\n",
       "      <td>0.590000</td>\n",
       "    </tr>\n",
       "    <tr>\n",
       "      <th>25%</th>\n",
       "      <td>0.000000</td>\n",
       "      <td>44.940000</td>\n",
       "      <td>109.990000</td>\n",
       "      <td>178.930000</td>\n",
       "      <td>0.000000</td>\n",
       "      <td>0.000000</td>\n",
       "      <td>0.000000</td>\n",
       "      <td>0.000000</td>\n",
       "      <td>0.000000</td>\n",
       "      <td>0.000000</td>\n",
       "      <td>0.000000</td>\n",
       "      <td>0.000000</td>\n",
       "      <td>3.000000</td>\n",
       "      <td>0.000000</td>\n",
       "      <td>0.000000</td>\n",
       "      <td>0.000000</td>\n",
       "      <td>0.000000</td>\n",
       "      <td>0.000000</td>\n",
       "      <td>0.000000</td>\n",
       "      <td>0.000000</td>\n",
       "      <td>0.000000</td>\n",
       "      <td>409.000000</td>\n",
       "      <td>1213.500000</td>\n",
       "      <td>0.000000</td>\n",
       "      <td>-0.682809</td>\n",
       "      <td>47.945000</td>\n",
       "    </tr>\n",
       "    <tr>\n",
       "      <th>50%</th>\n",
       "      <td>76.850000</td>\n",
       "      <td>180.640000</td>\n",
       "      <td>361.950000</td>\n",
       "      <td>664.460000</td>\n",
       "      <td>66.570000</td>\n",
       "      <td>24.470000</td>\n",
       "      <td>39.990000</td>\n",
       "      <td>15.980000</td>\n",
       "      <td>1.990000</td>\n",
       "      <td>15.560000</td>\n",
       "      <td>73.710000</td>\n",
       "      <td>0.000000</td>\n",
       "      <td>7.000000</td>\n",
       "      <td>0.104902</td>\n",
       "      <td>0.026721</td>\n",
       "      <td>0.060164</td>\n",
       "      <td>0.013753</td>\n",
       "      <td>0.001501</td>\n",
       "      <td>0.019224</td>\n",
       "      <td>0.094907</td>\n",
       "      <td>0.000000</td>\n",
       "      <td>541.000000</td>\n",
       "      <td>2529.000000</td>\n",
       "      <td>1.000000</td>\n",
       "      <td>0.000000</td>\n",
       "      <td>118.870000</td>\n",
       "    </tr>\n",
       "    <tr>\n",
       "      <th>75%</th>\n",
       "      <td>273.415000</td>\n",
       "      <td>543.880000</td>\n",
       "      <td>1025.625000</td>\n",
       "      <td>2062.110000</td>\n",
       "      <td>424.755000</td>\n",
       "      <td>159.855000</td>\n",
       "      <td>299.325000</td>\n",
       "      <td>140.895000</td>\n",
       "      <td>147.950000</td>\n",
       "      <td>73.830000</td>\n",
       "      <td>269.815000</td>\n",
       "      <td>9.980000</td>\n",
       "      <td>20.000000</td>\n",
       "      <td>0.437574</td>\n",
       "      <td>0.111061</td>\n",
       "      <td>0.268331</td>\n",
       "      <td>0.095194</td>\n",
       "      <td>0.136368</td>\n",
       "      <td>0.067721</td>\n",
       "      <td>0.262861</td>\n",
       "      <td>0.003842</td>\n",
       "      <td>788.000000</td>\n",
       "      <td>3928.000000</td>\n",
       "      <td>1.000000</td>\n",
       "      <td>0.000000</td>\n",
       "      <td>293.440000</td>\n",
       "    </tr>\n",
       "    <tr>\n",
       "      <th>max</th>\n",
       "      <td>12874.510000</td>\n",
       "      <td>33118.450000</td>\n",
       "      <td>67565.740000</td>\n",
       "      <td>293528.250000</td>\n",
       "      <td>286704.730000</td>\n",
       "      <td>16604.000000</td>\n",
       "      <td>30944.240000</td>\n",
       "      <td>27590.760000</td>\n",
       "      <td>38411.590000</td>\n",
       "      <td>4537.490000</td>\n",
       "      <td>19485.150000</td>\n",
       "      <td>2184.370000</td>\n",
       "      <td>878.000000</td>\n",
       "      <td>1.000000</td>\n",
       "      <td>1.000000</td>\n",
       "      <td>1.000000</td>\n",
       "      <td>1.000000</td>\n",
       "      <td>1.000000</td>\n",
       "      <td>1.000000</td>\n",
       "      <td>1.000000</td>\n",
       "      <td>1.000000</td>\n",
       "      <td>3413.000000</td>\n",
       "      <td>4362.000000</td>\n",
       "      <td>1.000000</td>\n",
       "      <td>616.719298</td>\n",
       "      <td>3992.400000</td>\n",
       "    </tr>\n",
       "  </tbody>\n",
       "</table>\n",
       "</div>"
      ],
      "text/plain": [
       "          SALES_R12     SALES_R24     SALES_R48      SALES_RLT  \\\n",
       "count  17219.000000  17219.000000  17219.000000   17219.000000   \n",
       "mean     248.651153    478.416928    895.308090    1804.996911   \n",
       "std      511.957543    923.929217   1644.605586    3841.247516   \n",
       "min        0.000000      0.000000      0.990000       0.000000   \n",
       "25%        0.000000     44.940000    109.990000     178.930000   \n",
       "50%       76.850000    180.640000    361.950000     664.460000   \n",
       "75%      273.415000    543.880000   1025.625000    2062.110000   \n",
       "max    12874.510000  33118.450000  67565.740000  293528.250000   \n",
       "\n",
       "       FISHING_MARINE_SALES_LT  CAMPING_WATERSPORTS_SALES_LT  \\\n",
       "count             17219.000000                  17219.000000   \n",
       "mean                545.475718                    156.164958   \n",
       "std                2574.891754                    368.355857   \n",
       "min                   0.000000                      0.000000   \n",
       "25%                   0.000000                      0.000000   \n",
       "50%                  66.570000                     24.470000   \n",
       "75%                 424.755000                    159.855000   \n",
       "max              286704.730000                  16604.000000   \n",
       "\n",
       "       HUNTING_HUNTCLOTH_SALES_LT  FOOTWEAR_SALES_LT  SHOOTING_SALES_LT  \\\n",
       "count                17219.000000       17219.000000       17219.000000   \n",
       "mean                   379.500681         122.505474         251.809651   \n",
       "std                   1005.702208         320.936210         785.828299   \n",
       "min                      0.000000           0.000000           0.000000   \n",
       "25%                      0.000000           0.000000           0.000000   \n",
       "50%                     39.990000          15.980000           1.990000   \n",
       "75%                    299.325000         140.895000         147.950000   \n",
       "max                  30944.240000       27590.760000       38411.590000   \n",
       "\n",
       "       GIFT_SALES_LT  APPAREL_SALES_LT  OTHER_SALES_LT     VISITS_LT  \\\n",
       "count   17219.000000      17219.000000    17219.000000  17219.000000   \n",
       "mean       74.697069        245.612566       29.230794     17.545328   \n",
       "std       177.029740        503.739463      103.453574     30.252441   \n",
       "min         0.000000          0.000000        0.000000      0.000000   \n",
       "25%         0.000000          0.000000        0.000000      3.000000   \n",
       "50%        15.560000         73.710000        0.000000      7.000000   \n",
       "75%        73.830000        269.815000        9.980000     20.000000   \n",
       "max      4537.490000      19485.150000     2184.370000    878.000000   \n",
       "\n",
       "       FISH_MARINE_PERC  CAMPING_WATERSPORTS_PERC  HUNTING_PERC  \\\n",
       "count      17179.000000              17179.000000  17179.000000   \n",
       "mean           0.251668                  0.097096      0.171530   \n",
       "std            0.308010                  0.176435      0.235512   \n",
       "min            0.000000                  0.000000      0.000000   \n",
       "25%            0.000000                  0.000000      0.000000   \n",
       "50%            0.104902                  0.026721      0.060164   \n",
       "75%            0.437574                  0.111061      0.268331   \n",
       "max            1.000000                  1.000000      1.000000   \n",
       "\n",
       "       FOOTWEAR_PERC  SHOOTING_PERC     GIFT_PERC  APPAREL_PERC    OTHER_PERC  \\\n",
       "count   17179.000000   17179.000000  17179.000000  17179.000000  17179.000000   \n",
       "mean        0.081092       0.119252      0.072116      0.189451      0.017795   \n",
       "std         0.155769       0.219060      0.155663      0.247109      0.072302   \n",
       "min         0.000000       0.000000      0.000000      0.000000      0.000000   \n",
       "25%         0.000000       0.000000      0.000000      0.000000      0.000000   \n",
       "50%         0.013753       0.001501      0.019224      0.094907      0.000000   \n",
       "75%         0.095194       0.136368      0.067721      0.262861      0.003842   \n",
       "max         1.000000       1.000000      1.000000      1.000000      1.000000   \n",
       "\n",
       "       DAYS_SINCE_PURCHASE  DAYS_AS_CUSTOMER  REWARDS_CUSTOMER     YOY_TREND  \\\n",
       "count         17179.000000      17179.000000      17219.000000  17219.000000   \n",
       "mean            668.551953       2501.868735          0.696905      0.725800   \n",
       "std             340.864176       1361.081308          0.459609      8.081475   \n",
       "min             365.000000        365.000000          0.000000     -1.000000   \n",
       "25%             409.000000       1213.500000          0.000000     -0.682809   \n",
       "50%             541.000000       2529.000000          1.000000      0.000000   \n",
       "75%             788.000000       3928.000000          1.000000      0.000000   \n",
       "max            3413.000000       4362.000000          1.000000    616.719298   \n",
       "\n",
       "       SALES_TARGET_N12  \n",
       "count      17219.000000  \n",
       "mean         262.680140  \n",
       "std          412.448219  \n",
       "min            0.590000  \n",
       "25%           47.945000  \n",
       "50%          118.870000  \n",
       "75%          293.440000  \n",
       "max         3992.400000  "
      ]
     },
     "execution_count": 256,
     "metadata": {},
     "output_type": "execute_result"
    }
   ],
   "source": [
    "mean = np.mean(base['SALES_TARGET_N12'])\n",
    "std = np.std(base['SALES_TARGET_N12'])\n",
    "mean, std\n",
    "\n",
    "base = base[base['SALES_TARGET_N12'] < mean+std*10]\n",
    "\n",
    "base = base[base['SALES_TARGET_N12'] > 0]\n",
    "\n",
    "#base['SALES_TARGET_N12_CBRT'], lmda = stats.boxcox(base['SALES_TARGET_N12'])\n",
    "base.describe()"
   ]
  },
  {
   "cell_type": "code",
   "execution_count": 258,
   "metadata": {
    "collapsed": true
   },
   "outputs": [],
   "source": [
    "# plt.hist(base['SALES_TARGET_N12_CBRT'], bins=20)\n",
    "# plt.show()\n",
    "# print(lmda)"
   ]
  },
  {
   "cell_type": "code",
   "execution_count": 259,
   "metadata": {},
   "outputs": [
    {
     "data": {
      "text/plain": [
       "count    17219.000000\n",
       "mean       262.680140\n",
       "std        412.448219\n",
       "min          0.590000\n",
       "25%         47.945000\n",
       "50%        118.870000\n",
       "75%        293.440000\n",
       "max       3992.400000\n",
       "Name: SALES_TARGET_N12, dtype: float64"
      ]
     },
     "execution_count": 259,
     "metadata": {},
     "output_type": "execute_result"
    }
   ],
   "source": [
    "base['SALES_TARGET_N12'].describe()"
   ]
  },
  {
   "cell_type": "code",
   "execution_count": 295,
   "metadata": {
    "collapsed": true
   },
   "outputs": [],
   "source": [
    "collist = ['SALES_R12','SALES_R24','SALES_R48','SALES_RLT','FISHING_MARINE_SALES_LT','CAMPING_WATERSPORTS_SALES_LT',\n",
    "         'HUNTING_HUNTCLOTH_SALES_LT','FOOTWEAR_SALES_LT','SHOOTING_SALES_LT','GIFT_SALES_LT','APPAREL_SALES_LT',\n",
    "         'OTHER_SALES_LT','VISITS_LT','FISH_MARINE_PERC','CAMPING_WATERSPORTS_PERC','HUNTING_PERC','FOOTWEAR_PERC',\n",
    "         'SHOOTING_PERC','GIFT_PERC','APPAREL_PERC','OTHER_PERC','DAYS_SINCE_PURCHASE','DAYS_AS_CUSTOMER','REWARDS_CUSTOMER',\n",
    "         'YOY_TREND','SALES_TARGET_N12']\n",
    "collist_X = ['SALES_R12','SALES_R24','SALES_R48','SALES_RLT','FISHING_MARINE_SALES_LT','CAMPING_WATERSPORTS_SALES_LT',\n",
    "         'HUNTING_HUNTCLOTH_SALES_LT','FOOTWEAR_SALES_LT','SHOOTING_SALES_LT','GIFT_SALES_LT','APPAREL_SALES_LT',\n",
    "         'OTHER_SALES_LT','VISITS_LT','FISH_MARINE_PERC','CAMPING_WATERSPORTS_PERC','HUNTING_PERC','FOOTWEAR_PERC',\n",
    "         'SHOOTING_PERC','GIFT_PERC','APPAREL_PERC','OTHER_PERC','DAYS_SINCE_PURCHASE','DAYS_AS_CUSTOMER','REWARDS_CUSTOMER',\n",
    "         'YOY_TREND']\n",
    "#collist_y = ['SALES_TARGET_N12_CBRT']\n",
    "collist_y = ['SALES_TARGET_N12']"
   ]
  },
  {
   "cell_type": "code",
   "execution_count": 296,
   "metadata": {},
   "outputs": [
    {
     "name": "stdout",
     "output_type": "stream",
     "text": [
      "(6887, 26) (6888, 26) (3444, 26)\n"
     ]
    },
    {
     "name": "stderr",
     "output_type": "stream",
     "text": [
      "C:\\ProgramData\\Anaconda3\\lib\\site-packages\\scipy\\stats\\stats.py:5277: RuntimeWarning: invalid value encountered in less\n",
      "  x = np.where(x < 1.0, x, 1.0)  # if x > 1 then return 1.0\n"
     ]
    }
   ],
   "source": [
    "train, test = helper.splitData(base[collist], .8)\n",
    "\n",
    "train, val = helper.splitData(train, 0.5)\n",
    "\n",
    "print(train.shape, val.shape, test.shape)\n",
    "\n",
    "train_X = train[collist_X]\n",
    "\n",
    "train_y = train[collist_y].as_matrix().ravel()\n",
    "\n",
    "train_y_box, lmda = stats.boxcox(train_y)\n",
    "\n",
    "val_X = val[collist_X]\n",
    "val_y = val[collist_y].as_matrix().ravel()\n",
    "test_X = test[collist_X]\n",
    "test_y = test[collist_y].as_matrix().ravel()\n",
    "\n",
    "test_y_box = stats.boxcox(test_y,lmbda=lmda)\n",
    "\n",
    "interactions = helper.find_iteractions(train_X, train_y)\n",
    "interactions.to_csv('interactions.csv')"
   ]
  },
  {
   "cell_type": "code",
   "execution_count": 297,
   "metadata": {},
   "outputs": [
    {
     "data": {
      "image/png": "[encoded data removed]",
      "text/plain": [
       "<matplotlib.figure.Figure at 0x4dbe0c88>"
      ]
     },
     "metadata": {},
     "output_type": "display_data"
    }
   ],
   "source": [
    "plt.hist(train_y_box, bins = 10)\n",
    "plt.show()"
   ]
  },
  {
   "cell_type": "code",
   "execution_count": 298,
   "metadata": {},
   "outputs": [],
   "source": [
    "collist_X = ['SALES_R12','SALES_R24','SALES_R48','SALES_RLT','FISHING_MARINE_SALES_LT','CAMPING_WATERSPORTS_SALES_LT',\n",
    "         'HUNTING_HUNTCLOTH_SALES_LT','FOOTWEAR_SALES_LT','SHOOTING_SALES_LT','GIFT_SALES_LT','APPAREL_SALES_LT',\n",
    "         'OTHER_SALES_LT','VISITS_LT','FISH_MARINE_PERC','CAMPING_WATERSPORTS_PERC','HUNTING_PERC','FOOTWEAR_PERC',\n",
    "         'SHOOTING_PERC','GIFT_PERC','APPAREL_PERC','OTHER_PERC','DAYS_SINCE_PURCHASE','DAYS_AS_CUSTOMER','REWARDS_CUSTOMER',\n",
    "         'YOY_TREND', 'SALES_R12*REWARDS_CUSTOMER']\n",
    "\n",
    "train_X['SALES_R12*REWARDS_CUSTOMER'] = train_X['SALES_R12']*train_X['REWARDS_CUSTOMER']\n",
    "val_X['SALES_R12*REWARDS_CUSTOMER'] = val_X['SALES_R12']*val_X['REWARDS_CUSTOMER']\n",
    "test_X['SALES_R12*REWARDS_CUSTOMER'] = test_X['SALES_R12']*test_X['REWARDS_CUSTOMER']\n",
    "\n",
    "imr = Imputer(missing_values='NaN',strategy='median',axis=0)\n",
    "imr = imr.fit(train_X)\n",
    "\n",
    "train_X = pd.DataFrame(imr.transform(train_X.values), columns = collist_X)\n",
    "val_X = pd.DataFrame(imr.transform(val_X.values), columns = collist_X)\n",
    "test_X = pd.DataFrame(imr.transform(test_X.values), columns = collist_X)\n",
    "\n",
    "stdsc = StandardScaler()\n",
    "stdsc.fit(train_X)\n",
    "\n",
    "train_X = pd.DataFrame(stdsc.transform(train_X.values), columns = collist_X)\n",
    "val_X = pd.DataFrame(stdsc.transform(val_X.values), columns = collist_X)\n",
    "test_X = pd.DataFrame(stdsc.transform(test_X.values), columns = collist_X)\n",
    "\n",
    "for var in collist_X:\n",
    "    name = var + '_cbrt'\n",
    "    train_X[name] = np.cbrt(train_X[var])\n",
    "    val_X[name] = np.cbrt(val_X[var])\n",
    "    test_X[name] = np.cbrt(test_X[var])\n",
    "    name = var + '_sq'\n",
    "    train_X[name] = np.power(train_X[var], 2)\n",
    "    val_X[name] = np.power(val_X[var], 2)\n",
    "    test_X[name] = np.power(test_X[var], 2)\n",
    "   \n",
    "    \n",
    "collist_X_expanded = train_X.columns.values\n"
   ]
  },
  {
   "cell_type": "code",
   "execution_count": 299,
   "metadata": {},
   "outputs": [],
   "source": [
    "collist_X_expanded = collist_X_expanded.tolist()"
   ]
  },
  {
   "cell_type": "code",
   "execution_count": 300,
   "metadata": {},
   "outputs": [
    {
     "data": {
      "text/html": [
       "<div>\n",
       "<style>\n",
       "    .dataframe thead tr:only-child th {\n",
       "        text-align: right;\n",
       "    }\n",
       "\n",
       "    .dataframe thead th {\n",
       "        text-align: left;\n",
       "    }\n",
       "\n",
       "    .dataframe tbody tr th {\n",
       "        vertical-align: top;\n",
       "    }\n",
       "</style>\n",
       "<table border=\"1\" class=\"dataframe\">\n",
       "  <thead>\n",
       "    <tr style=\"text-align: right;\">\n",
       "      <th></th>\n",
       "      <th>column_name</th>\n",
       "      <th>missing_count</th>\n",
       "      <th>missing_ratio</th>\n",
       "    </tr>\n",
       "  </thead>\n",
       "  <tbody>\n",
       "  </tbody>\n",
       "</table>\n",
       "</div>"
      ],
      "text/plain": [
       "Empty DataFrame\n",
       "Columns: [column_name, missing_count, missing_ratio]\n",
       "Index: []"
      ]
     },
     "execution_count": 300,
     "metadata": {},
     "output_type": "execute_result"
    }
   ],
   "source": [
    "missing_df = train_X.isnull().sum(axis=0).reset_index()\n",
    "missing_df.columns = ['column_name', 'missing_count']\n",
    "missing_df['missing_ratio'] = missing_df['missing_count'] / train_X.shape[0]\n",
    "missing_df.loc[missing_df['missing_ratio']>0.01]\n",
    "\n"
   ]
  },
  {
   "cell_type": "code",
   "execution_count": null,
   "metadata": {
    "collapsed": true
   },
   "outputs": [],
   "source": []
  },
  {
   "cell_type": "code",
   "execution_count": 301,
   "metadata": {},
   "outputs": [
    {
     "name": "stdout",
     "output_type": "stream",
     "text": [
      "Anderson-Darling: 0.8788667351718686 Critical Value: 0.787 \n",
      "train_y is not normally distributed\n"
     ]
    },
    {
     "data": {
      "image/png": "[encoded data removed]",
      "text/plain": [
       "<matplotlib.figure.Figure at 0x2587de80>"
      ]
     },
     "metadata": {},
     "output_type": "display_data"
    }
   ],
   "source": [
    "stat, cv, sig = stats.anderson(train_y_box, 'norm')\n",
    "print('Anderson-Darling: {} Critical Value: {} '.format(stat, cv[2]))\n",
    "if stat > cv[2]:\n",
    "    print('train_y is not normally distributed')\n",
    "else:\n",
    "    print('train_y is normally distributed')\n",
    "plt.hist(train_y_box, bins=25)\n",
    "plt.show()"
   ]
  },
  {
   "cell_type": "code",
   "execution_count": 302,
   "metadata": {
    "scrolled": false
   },
   "outputs": [
    {
     "name": "stdout",
     "output_type": "stream",
     "text": [
      "                                      APPAREL_PERC Corr Coef:   -0.07 - pval:  0.0000\n",
      "                                 APPAREL_PERC_cbrt Corr Coef:   -0.08 - pval:  0.0000\n",
      "                                   APPAREL_PERC_sq Corr Coef:   -0.09 - pval:  0.0000\n",
      "                                  APPAREL_SALES_LT Corr Coef:    0.25 - pval:  0.0000\n",
      "                             APPAREL_SALES_LT_cbrt Corr Coef:    0.29 - pval:  0.0000\n",
      "                               APPAREL_SALES_LT_sq Corr Coef:    0.05 - pval:  0.0001\n",
      "                          CAMPING_WATERSPORTS_PERC Corr Coef:   -0.01 - pval:  0.2331\n",
      "                     CAMPING_WATERSPORTS_PERC_cbrt Corr Coef:    0.02 - pval:  0.1336\n",
      "                       CAMPING_WATERSPORTS_PERC_sq Corr Coef:   -0.06 - pval:  0.0000\n",
      "                      CAMPING_WATERSPORTS_SALES_LT Corr Coef:     0.3 - pval:  0.0000\n",
      "                 CAMPING_WATERSPORTS_SALES_LT_cbrt Corr Coef:    0.31 - pval:  0.0000\n",
      "                   CAMPING_WATERSPORTS_SALES_LT_sq Corr Coef:    0.15 - pval:  0.0000\n",
      "                                  DAYS_AS_CUSTOMER Corr Coef:    0.13 - pval:  0.0000\n",
      "                             DAYS_AS_CUSTOMER_cbrt Corr Coef:    0.12 - pval:  0.0000\n",
      "                               DAYS_AS_CUSTOMER_sq Corr Coef:    0.04 - pval:  0.0011\n",
      "                               DAYS_SINCE_PURCHASE Corr Coef:    -0.2 - pval:  0.0000\n",
      "                          DAYS_SINCE_PURCHASE_cbrt Corr Coef:   -0.21 - pval:  0.0000\n",
      "                            DAYS_SINCE_PURCHASE_sq Corr Coef:   -0.07 - pval:  0.0000\n",
      "                                  FISH_MARINE_PERC Corr Coef:    0.05 - pval:  0.0000\n",
      "                             FISH_MARINE_PERC_cbrt Corr Coef:    0.06 - pval:  0.0000\n",
      "                               FISH_MARINE_PERC_sq Corr Coef:   -0.02 - pval:  0.1547\n",
      "                           FISHING_MARINE_SALES_LT Corr Coef:    0.22 - pval:  0.0000\n",
      "                      FISHING_MARINE_SALES_LT_cbrt Corr Coef:    0.31 - pval:  0.0000\n",
      "                        FISHING_MARINE_SALES_LT_sq Corr Coef:    0.11 - pval:  0.0000\n",
      "                                     FOOTWEAR_PERC Corr Coef:   -0.02 - pval:  0.0381\n",
      "                                FOOTWEAR_PERC_cbrt Corr Coef:     0.0 - pval:  0.9432\n",
      "                                  FOOTWEAR_PERC_sq Corr Coef:   -0.06 - pval:  0.0000\n",
      "                                 FOOTWEAR_SALES_LT Corr Coef:    0.29 - pval:  0.0000\n",
      "                            FOOTWEAR_SALES_LT_cbrt Corr Coef:    0.28 - pval:  0.0000\n",
      "                              FOOTWEAR_SALES_LT_sq Corr Coef:    0.18 - pval:  0.0000\n",
      "                                         GIFT_PERC Corr Coef:   -0.09 - pval:  0.0000\n",
      "                                    GIFT_PERC_cbrt Corr Coef:    -0.1 - pval:  0.0000\n",
      "                                      GIFT_PERC_sq Corr Coef:   -0.07 - pval:  0.0000\n",
      "                                     GIFT_SALES_LT Corr Coef:    0.24 - pval:  0.0000\n",
      "                                GIFT_SALES_LT_cbrt Corr Coef:    0.24 - pval:  0.0000\n",
      "                                  GIFT_SALES_LT_sq Corr Coef:    0.14 - pval:  0.0000\n",
      "                        HUNTING_HUNTCLOTH_SALES_LT Corr Coef:    0.33 - pval:  0.0000\n",
      "                   HUNTING_HUNTCLOTH_SALES_LT_cbrt Corr Coef:    0.33 - pval:  0.0000\n",
      "                     HUNTING_HUNTCLOTH_SALES_LT_sq Corr Coef:    0.18 - pval:  0.0000\n",
      "                                      HUNTING_PERC Corr Coef:    0.07 - pval:  0.0000\n",
      "                                 HUNTING_PERC_cbrt Corr Coef:    0.11 - pval:  0.0000\n",
      "                                   HUNTING_PERC_sq Corr Coef:   -0.03 - pval:  0.0188\n",
      "                                        OTHER_PERC Corr Coef:     0.0 - pval:  0.9751\n",
      "                                   OTHER_PERC_cbrt Corr Coef:    0.06 - pval:  0.0000\n",
      "                                     OTHER_PERC_sq Corr Coef:   -0.02 - pval:  0.0544\n",
      "                                    OTHER_SALES_LT Corr Coef:    0.21 - pval:  0.0000\n",
      "                               OTHER_SALES_LT_cbrt Corr Coef:    0.23 - pval:  0.0000\n",
      "                                 OTHER_SALES_LT_sq Corr Coef:    0.12 - pval:  0.0000\n",
      "                                  REWARDS_CUSTOMER Corr Coef:    0.21 - pval:  0.0000\n",
      "                             REWARDS_CUSTOMER_cbrt Corr Coef:    0.21 - pval:  0.0000\n",
      "                               REWARDS_CUSTOMER_sq Corr Coef:   -0.21 - pval:  0.0000\n",
      "                                         SALES_R12 Corr Coef:    0.49 - pval:  0.0000\n",
      "                        SALES_R12*REWARDS_CUSTOMER Corr Coef:    0.48 - pval:  0.0000\n",
      "                   SALES_R12*REWARDS_CUSTOMER_cbrt Corr Coef:    0.43 - pval:  0.0000\n",
      "                     SALES_R12*REWARDS_CUSTOMER_sq Corr Coef:    0.29 - pval:  0.0000\n",
      "                                    SALES_R12_cbrt Corr Coef:    0.44 - pval:  0.0000\n",
      "                                      SALES_R12_sq Corr Coef:    0.28 - pval:  0.0000\n",
      "                                         SALES_R24 Corr Coef:    0.51 - pval:  0.0000\n",
      "                                    SALES_R24_cbrt Corr Coef:    0.45 - pval:  0.0000\n",
      "                                      SALES_R24_sq Corr Coef:    0.25 - pval:  0.0000\n",
      "                                         SALES_R48 Corr Coef:    0.48 - pval:  0.0000\n",
      "                                    SALES_R48_cbrt Corr Coef:    0.44 - pval:  0.0000\n",
      "                                      SALES_R48_sq Corr Coef:    0.18 - pval:  0.0000\n",
      "                                         SALES_RLT Corr Coef:    0.37 - pval:  0.0000\n",
      "                                    SALES_RLT_cbrt Corr Coef:     0.4 - pval:  0.0000\n",
      "                                      SALES_RLT_sq Corr Coef:    0.12 - pval:  0.0000\n",
      "                                     SHOOTING_PERC Corr Coef:    0.03 - pval:  0.0055\n",
      "                                SHOOTING_PERC_cbrt Corr Coef:    0.08 - pval:  0.0000\n",
      "                                  SHOOTING_PERC_sq Corr Coef:   -0.03 - pval:  0.0257\n",
      "                                 SHOOTING_SALES_LT Corr Coef:    0.28 - pval:  0.0000\n",
      "                            SHOOTING_SALES_LT_cbrt Corr Coef:    0.27 - pval:  0.0000\n",
      "                              SHOOTING_SALES_LT_sq Corr Coef:    0.15 - pval:  0.0000\n",
      "                                         VISITS_LT Corr Coef:    0.34 - pval:  0.0000\n",
      "                                    VISITS_LT_cbrt Corr Coef:    0.33 - pval:  0.0000\n",
      "                                      VISITS_LT_sq Corr Coef:    0.19 - pval:  0.0000\n",
      "                                         YOY_TREND Corr Coef:    0.08 - pval:  0.0000\n",
      "                                    YOY_TREND_cbrt Corr Coef:    0.14 - pval:  0.0000\n",
      "                                      YOY_TREND_sq Corr Coef:    0.04 - pval:  0.0021\n"
     ]
    }
   ],
   "source": [
    "#matplotlib.rcParams['figure.figsize'] = (5,2)\n",
    "\n",
    "#collist_X_expanded.remove('VISITS_LT_sqrt')\n",
    "#collist_X_expanded.remove('YOY_TREND_log')\n",
    "\n",
    "\n",
    "train_X = train_X[collist_X_expanded]\n",
    "\n",
    "collist_X_expanded = sorted(collist_X_expanded, key=str.lower)\n",
    "\n",
    "\n",
    "\n",
    "for var in collist_X_expanded: \n",
    "    vardf = train_X[var]\n",
    "    #print(vardf.head())\n",
    "    coef, pval = stats.pearsonr(vardf.as_matrix(), train_y)\n",
    "    print('%50s Corr Coef: %7s - pval:  %.4f' % (var, str(round(coef,2)), pval))\n",
    "    #plt.hist(train_X[var], bins = 100)\n",
    "    #plt.show()\n",
    "    \n",
    "#matplotlib.rcParams['figure.figsize'] = (11,8)"
   ]
  },
  {
   "cell_type": "code",
   "execution_count": 303,
   "metadata": {
    "collapsed": true
   },
   "outputs": [],
   "source": [
    "collist_X_expanded = ['APPAREL_SALES_LT','CAMPING_WATERSPORTS_SALES_LT','DAYS_SINCE_PURCHASE','FISHING_MARINE_SALES_LT',\n",
    "                      'FOOTWEAR_SALES_LT_cbrt','GIFT_SALES_LT','HUNTING_HUNTCLOTH_SALES_LT','OTHER_SALES_LT',\n",
    "                      'REWARDS_CUSTOMER','SALES_R12','SALES_R12*REWARDS_CUSTOMER','SALES_R24',\n",
    "                      'SALES_R48','SALES_RLT','SHOOTING_SALES_LT','VISITS_LT','YOY_TREND_cbrt']\n",
    "train_X = train_X[collist_X_expanded]"
   ]
  },
  {
   "cell_type": "code",
   "execution_count": 304,
   "metadata": {
    "scrolled": false
   },
   "outputs": [
    {
     "data": {
      "image/png": "[encoded data removed]",
      "text/plain": [
       "<matplotlib.figure.Figure at 0x25993cf8>"
      ]
     },
     "metadata": {},
     "output_type": "display_data"
    }
   ],
   "source": [
    "feat_labels = np.asarray(collist_X_expanded)\n",
    "\n",
    "forests = RandomForestRegressor(n_estimators=100,\n",
    "                                random_state=0,\n",
    "                                n_jobs=-1)\n",
    "forests.fit(train_X, train_y)\n",
    "importances = forests.feature_importances_\n",
    "indices = np.argsort(importances)[::-1]\n",
    "# for f in range(train_X2.shape[1]):\n",
    "#     print(\"%2d) %-*s %f\" % (f + 1, 30, feat_labels[indices[f]],\n",
    "#                                       importances[indices[f]]))\n",
    "    \n",
    "plt.title('Feature Importance')\n",
    "plt.bar(range(train_X.shape[1]), importances[indices], color='lightblue', align='center')\n",
    "plt.xticks(range(train_X.shape[1]), feat_labels[indices], rotation=90)\n",
    "plt.xlim([-1, train_X.shape[1]])\n",
    "plt.tight_layout()\n",
    "plt.show()"
   ]
  },
  {
   "cell_type": "code",
   "execution_count": 306,
   "metadata": {},
   "outputs": [
    {
     "data": {
      "text/plain": [
       "array(['APPAREL_SALES_LT', 'CAMPING_WATERSPORTS_SALES_LT',\n",
       "       'DAYS_SINCE_PURCHASE', 'FOOTWEAR_SALES_LT_cbrt', 'GIFT_SALES_LT',\n",
       "       'HUNTING_HUNTCLOTH_SALES_LT', 'OTHER_SALES_LT', 'REWARDS_CUSTOMER',\n",
       "       'SALES_R12', 'SALES_R12*REWARDS_CUSTOMER', 'SALES_R24', 'SALES_R48',\n",
       "       'SALES_RLT', 'SHOOTING_SALES_LT', 'VISITS_LT'],\n",
       "      dtype='<U28')"
      ]
     },
     "execution_count": 306,
     "metadata": {},
     "output_type": "execute_result"
    }
   ],
   "source": [
    "slct = SelectKBest(f_regression, k=15)\n",
    "slct.fit(train_X, train_y_box)\n",
    "selected = slct.get_support()\n",
    "feat_labels2 = feat_labels[selected]\n",
    "feat_labels2"
   ]
  },
  {
   "cell_type": "markdown",
   "metadata": {},
   "source": [
    "### Calculate Feature Correlations and VIF scores"
   ]
  },
  {
   "cell_type": "code",
   "execution_count": 309,
   "metadata": {
    "scrolled": false
   },
   "outputs": [
    {
     "name": "stdout",
     "output_type": "stream",
     "text": [
      "    VIF Factor                       feature\n",
      "8     6.658873                     SALES_R24\n",
      "7     4.180508    SALES_R12*REWARDS_CUSTOMER\n",
      "10    2.176836                     VISITS_LT\n",
      "3     2.077729       FISHING_MARINE_SALES_LT\n",
      "5     1.835437    HUNTING_HUNTCLOTH_SALES_LT\n",
      "1     1.634650  CAMPING_WATERSPORTS_SALES_LT\n",
      "0     1.610981              APPAREL_SALES_LT\n",
      "4     1.586195        FOOTWEAR_SALES_LT_cbrt\n",
      "9     1.429048             SHOOTING_SALES_LT\n",
      "6     1.256929              REWARDS_CUSTOMER\n",
      "2     1.198536           DAYS_SINCE_PURCHASE\n"
     ]
    },
    {
     "data": {
      "image/png": "[encoded data removed]",
      "text/plain": [
       "<matplotlib.figure.Figure at 0x49d5cc18>"
      ]
     },
     "metadata": {},
     "output_type": "display_data"
    }
   ],
   "source": [
    "%matplotlib inline\n",
    "\n",
    "collist_X2 = ['APPAREL_SALES_LT', 'CAMPING_WATERSPORTS_SALES_LT',\n",
    "       'DAYS_SINCE_PURCHASE', 'FISHING_MARINE_SALES_LT',\n",
    "       'FOOTWEAR_SALES_LT_cbrt',\n",
    "       'HUNTING_HUNTCLOTH_SALES_LT', 'REWARDS_CUSTOMER', \n",
    "       'SALES_R12*REWARDS_CUSTOMER', 'SALES_R24', \n",
    "       'SHOOTING_SALES_LT', 'VISITS_LT']\n",
    "\n",
    "#collist_X2 = feat_labels2.tolist()\n",
    "\n",
    "train_X2 = train_X[collist_X2]\n",
    "    \n",
    "corr = train_X2.corr()\n",
    "\n",
    "# Generate a mask for the upper triangle\n",
    "mask = np.zeros_like(corr, dtype=np.bool)\n",
    "mask[np.triu_indices_from(mask)] = True\n",
    "\n",
    "# Set up the matplotlib figure\n",
    "f, ax = plt.subplots(figsize=(11, 9))\n",
    "\n",
    "# Generate a custom diverging colormap\n",
    "cmap = sns.diverging_palette(250, 10, as_cmap=True)\n",
    "\n",
    "# Draw the heatmap with the mask and correct aspect ratio\n",
    "sns.heatmap(corr,  cmap=cmap, vmax=.99, center=0,\n",
    "            square=True, linewidths=.5, cbar_kws={\"shrink\": .5})\n",
    "\n",
    "\n",
    "print(helper.calc_VIFs(train_X2))"
   ]
  },
  {
   "cell_type": "code",
   "execution_count": 310,
   "metadata": {},
   "outputs": [
    {
     "name": "stdout",
     "output_type": "stream",
     "text": [
      "                            OLS Regression Results                            \n",
      "==============================================================================\n",
      "Dep. Variable:                      y   R-squared:                       0.250\n",
      "Model:                            OLS   Adj. R-squared:                  0.249\n",
      "Method:                 Least Squares   F-statistic:                     208.3\n",
      "Date:                Tue, 12 Dec 2017   Prob (F-statistic):               0.00\n",
      "Time:                        15:04:09   Log-Likelihood:                -51552.\n",
      "No. Observations:                6887   AIC:                         1.031e+05\n",
      "Df Residuals:                    6876   BIC:                         1.032e+05\n",
      "Df Model:                          11                                         \n",
      "Covariance Type:            nonrobust                                         \n",
      "================================================================================================\n",
      "                                   coef    std err          t      P>|t|      [0.025      0.975]\n",
      "------------------------------------------------------------------------------------------------\n",
      "APPAREL_SALES_LT                23.2058      6.599      3.516      0.000      10.269      36.142\n",
      "CAMPING_WATERSPORTS_SALES_LT    12.6891      6.647      1.909      0.056      -0.342      25.720\n",
      "DAYS_SINCE_PURCHASE            -14.1942      5.692     -2.494      0.013     -25.352      -3.036\n",
      "FISHING_MARINE_SALES_LT          9.2139      7.494      1.229      0.219      -5.478      23.905\n",
      "FOOTWEAR_SALES_LT_cbrt        -157.5676      8.094    -19.468      0.000    -173.434    -141.701\n",
      "HUNTING_HUNTCLOTH_SALES_LT      56.5340      7.044      8.026      0.000      42.726      70.342\n",
      "REWARDS_CUSTOMER                33.1585      5.829      5.688      0.000      21.732      44.585\n",
      "SALES_R12*REWARDS_CUSTOMER      78.6162     10.631      7.395      0.000      57.777      99.456\n",
      "SALES_R24                       99.6417     13.417      7.427      0.000      73.341     125.943\n",
      "SHOOTING_SALES_LT               26.4366      6.215      4.253      0.000      14.253      38.621\n",
      "VISITS_LT                       49.5608      7.671      6.461      0.000      34.523      64.599\n",
      "==============================================================================\n",
      "Omnibus:                     5041.976   Durbin-Watson:                   1.429\n",
      "Prob(Omnibus):                  0.000   Jarque-Bera (JB):           140803.437\n",
      "Skew:                           3.206   Prob(JB):                         0.00\n",
      "Kurtosis:                      24.203   Cond. No.                         6.92\n",
      "==============================================================================\n",
      "\n",
      "Warnings:\n",
      "[1] Standard Errors assume that the covariance matrix of the errors is correctly specified.\n"
     ]
    }
   ],
   "source": [
    "import statsmodels.api as sm\n",
    "\n",
    "mod = sm.OLS(train_y, train_X2)\n",
    "res = mod.fit()\n",
    "print(res.summary())\n",
    "\n",
    "\n"
   ]
  },
  {
   "cell_type": "code",
   "execution_count": 318,
   "metadata": {},
   "outputs": [
    {
     "data": {
      "text/plain": [
       "(<tf.Tensor 'Placeholder_114:0' shape=(?, 11) dtype=float32>,\n",
       " <tf.Tensor 'Placeholder_115:0' shape=(?, 1) dtype=float32>)"
      ]
     },
     "execution_count": 318,
     "metadata": {},
     "output_type": "execute_result"
    }
   ],
   "source": [
    "X_train = train_X2\n",
    "y_train = train_y_box.reshape(train_y.shape[0], 1)\n",
    "\n",
    "X_test = test_X[collist_X2].values\n",
    "y_test = test_y_box.reshape(test_y.shape[0], 1)\n",
    "\n",
    "TRAINING_EPOCHS = 150\n",
    "START_LEARN_RATE = 0.001\n",
    "BATCH_SIZE = 64\n",
    "BETA = 0.01\n",
    "DECAY_STEPS = 10000\n",
    "DECAY_RATE = 0.96\n",
    "TRAIN_SIZE = X_train.shape[0]\n",
    "\n",
    "\n",
    "INPUT_UNITS = 11\n",
    "H1_UNITS = 18\n",
    "H2_UNITS = 11\n",
    "OUTPUT_UNITS = 1\n",
    "\n",
    "learning = list()\n",
    "\n",
    "x = tf.placeholder(tf.float32, [None, X_train.shape[1]])\n",
    "y = tf.placeholder(tf.float32, [None, 1]) \n",
    "x, y"
   ]
  },
  {
   "cell_type": "code",
   "execution_count": 319,
   "metadata": {
    "collapsed": true
   },
   "outputs": [],
   "source": [
    "weights = {\n",
    "    'h1': tf.Variable(tf.random_normal([INPUT_UNITS, H1_UNITS], 0, 0.1)),\n",
    "    'h2': tf.Variable(tf.random_normal([H1_UNITS, H2_UNITS], 0, 0.1)),\n",
    "    'h3': tf.Variable(tf.random_normal([H2_UNITS, H3_UNITS], 0, 0.1)),\n",
    "    #'h4': tf.Variable(tf.random_normal([H3_UNITS, H4_UNITS], 0, 0.1)),\n",
    "    'out': tf.Variable(tf.random_normal([H3_UNITS, OUTPUT_UNITS], 0, 0.1))\n",
    "}\n",
    "biases = {\n",
    "    'b1': tf.Variable(tf.random_normal([H1_UNITS], 0, 0.1)),\n",
    "    'b2': tf.Variable(tf.random_normal([H2_UNITS], 0, 0.1)),\n",
    "    'b3': tf.Variable(tf.random_normal([H3_UNITS], 0, 0.1)),\n",
    "    #'b4': tf.Variable(tf.random_normal([H4_UNITS], 0, 0.1)),\n",
    "    'out': tf.Variable(tf.random_normal([OUTPUT_UNITS], 0, 0.1))\n",
    "}\n",
    "\n",
    "def model(data): \n",
    "    \n",
    "    #Hidden layer 1\n",
    "    layer_1 = tf.add(tf.matmul(data, weights['h1']), biases['b1'])\n",
    "    layer_1 = tf.nn.relu(layer_1)\n",
    "\n",
    "    #hidden layer 2\n",
    "    layer_2 = tf.add(tf.matmul(layer_1, weights['h2']), biases['b2'])\n",
    "    layer_2 = tf.nn.relu(layer_2)\n",
    "    \n",
    "    layer_3 = tf.add(tf.matmul(layer_2, weights['h3']), biases['b3'])\n",
    "    layer_3 = tf.nn.relu(layer_3)\n",
    "    \n",
    "#     layer_4 = tf.add(tf.matmul(layer_3, weights['h4']), biases['b4'])\n",
    "#     layer_4 = tf.nn.relu(layer_4)\n",
    "    \n",
    "    #output layer\n",
    "    out_layer = tf.add(tf.matmul(layer_3, weights['out']), biases['out'])\n",
    "    return out_layer"
   ]
  },
  {
   "cell_type": "code",
   "execution_count": 320,
   "metadata": {
    "collapsed": true
   },
   "outputs": [],
   "source": [
    "def train_NNet_model(datax, datay):\n",
    "    total_batch = int(TRAIN_SIZE/BATCH_SIZE)\n",
    "    predictor = model(x)\n",
    "    \n",
    "    global_step = tf.Variable(0)\n",
    "    learn_rate = tf.train.exponential_decay(START_LEARN_RATE, global_step, DECAY_STEPS, DECAY_RATE, staircase=True)\n",
    "    \n",
    "    cost = tf.reduce_mean(tf.squared_difference(y, predictor)) # rmse\n",
    "    reg = tf.nn.l2_loss(weights['h1']) + tf.nn.l2_loss(weights['h2']) + tf.nn.l2_loss(weights['h3']) + tf.nn.l2_loss(weights['out'])\n",
    "    cost = tf.reduce_mean(cost + reg * BETA)\n",
    "    #cost = tf.reduce_mean(tf.nn.l2_loss(predictor))\n",
    "    #mse = tf.reduce_mean(tf.squared_difference(y, predictor))\n",
    "    optimizer = tf.train.AdamOptimizer(learning_rate=learn_rate).minimize(cost, global_step=global_step)\n",
    "\n",
    "    learning = list()\n",
    "    \n",
    "    with tf.Session() as sess:\n",
    "        sess.run(tf.global_variables_initializer())\n",
    "        \n",
    "#         shuffle_indices = np.random.permutation(np.arange(len(datay)))\n",
    "#         datax = datax[shuffle_indices]\n",
    "#         datay = datay[shuffle_indices]\n",
    "\n",
    "        for epoch in range(TRAINING_EPOCHS):\n",
    "            epoch_loss = 0.            \n",
    "            for i in range(total_batch-1):\n",
    "                batch_x = datax[i*BATCH_SIZE:(i+1)*BATCH_SIZE]\n",
    "                batch_y = datay[i*BATCH_SIZE:(i+1)*BATCH_SIZE]\n",
    "                _, c = sess.run([optimizer, cost], feed_dict={x:batch_x, y: batch_y})\n",
    "                epoch_loss += c/total_batch\n",
    "            test_loss = cost.eval({x:X_test, y:y_test})\n",
    "            learning.append((np.sqrt(epoch_loss), np.sqrt(test_loss)))\n",
    "            if (epoch+1)%10 == 0:                \n",
    "                print('Epoch', (epoch+1), 'completed out of', TRAINING_EPOCHS, 'Train RMSE:', \n",
    "                      np.sqrt(epoch_loss), 'Test RMSE:', np.sqrt(test_loss))\n",
    "        \n",
    "        #rmse = np.sqrt(mean_squared_error(y_train, predictor.eval({x:X_test})))\n",
    "\n",
    "        \n",
    "    plt.plot([x[0] for x in learning], label='Train')\n",
    "    plt.plot([x[1] for x in learning], label='Test')\n",
    "    plt.legend()\n",
    "    plt.title(\"Learning Curve\")\n",
    "    plt.show()\n",
    "    "
   ]
  },
  {
   "cell_type": "code",
   "execution_count": 321,
   "metadata": {
    "scrolled": false
   },
   "outputs": [
    {
     "name": "stdout",
     "output_type": "stream",
     "text": [
      "Epoch 10 completed out of 150 Train RMSE: 1.34891087386 Test RMSE: 1.38538\n",
      "Epoch 20 completed out of 150 Train RMSE: 1.33308165942 Test RMSE: 1.37373\n",
      "Epoch 30 completed out of 150 Train RMSE: 1.32618388237 Test RMSE: 1.36991\n",
      "Epoch 40 completed out of 150 Train RMSE: 1.32072805076 Test RMSE: 1.36674\n",
      "Epoch 50 completed out of 150 Train RMSE: 1.31702390769 Test RMSE: 1.36357\n",
      "Epoch 60 completed out of 150 Train RMSE: 1.31517426821 Test RMSE: 1.3619\n",
      "Epoch 70 completed out of 150 Train RMSE: 1.31372692464 Test RMSE: 1.3612\n",
      "Epoch 80 completed out of 150 Train RMSE: 1.31272669219 Test RMSE: 1.36117\n",
      "Epoch 90 completed out of 150 Train RMSE: 1.31199525941 Test RMSE: 1.36069\n",
      "Epoch 100 completed out of 150 Train RMSE: 1.31091840808 Test RMSE: 1.36036\n",
      "Epoch 110 completed out of 150 Train RMSE: 1.31053833012 Test RMSE: 1.36013\n",
      "Epoch 120 completed out of 150 Train RMSE: 1.30999135068 Test RMSE: 1.36032\n",
      "Epoch 130 completed out of 150 Train RMSE: 1.30951033302 Test RMSE: 1.36008\n",
      "Epoch 140 completed out of 150 Train RMSE: 1.3096979885 Test RMSE: 1.35973\n",
      "Epoch 150 completed out of 150 Train RMSE: 1.30879832396 Test RMSE: 1.3595\n"
     ]
    },
    {
     "data": {
      "image/png": "[encoded data removed]",
      "text/plain": [
       "<matplotlib.figure.Figure at 0x2f2e2080>"
      ]
     },
     "metadata": {},
     "output_type": "display_data"
    }
   ],
   "source": [
    "train_NNet_model(X_train, y_train)"
   ]
  },
  {
   "cell_type": "code",
   "execution_count": null,
   "metadata": {
    "collapsed": true
   },
   "outputs": [],
   "source": []
  }
 ],
 "metadata": {
  "kernelspec": {
   "display_name": "Python 3",
   "language": "python",
   "name": "python3"
  },
  "language_info": {
   "codemirror_mode": {
    "name": "ipython",
    "version": 3
   },
   "file_extension": ".py",
   "mimetype": "text/x-python",
   "name": "python",
   "nbconvert_exporter": "python",
   "pygments_lexer": "ipython3",
   "version": "3.6.1"
  }
 },
 "nbformat": 4,
 "nbformat_minor": 2
}

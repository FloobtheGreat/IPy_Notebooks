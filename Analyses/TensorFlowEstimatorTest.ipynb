{
 "cells": [
  {
   "cell_type": "code",
   "execution_count": 90,
   "metadata": {},
   "outputs": [],
   "source": [
    "from sklearn.datasets import make_regression\n",
    "import tensorflow as tf\n",
    "import sys\n",
    "import importlib as imp\n",
    "sys.path.insert(0, r\"C:\\users\\pairwin\\Documents\\Github\\HelperPI\")\n",
    "#sys.path.insert(0, r'/home/pirwin/Git/HelperPI')\n",
    "#imp.reload(HelperPI)\n",
    "import HelperPI\n",
    "import numpy as np\n",
    "import pandas as pd\n",
    "from sklearn.metrics import mean_absolute_error, mean_squared_error\n",
    "import scipy.stats as stats\n",
    "import matplotlib.pyplot as plt\n",
    "\n",
    "\n",
    "tf.logging.set_verbosity(tf.logging.ERROR)"
   ]
  },
  {
   "cell_type": "code",
   "execution_count": 91,
   "metadata": {},
   "outputs": [
    {
     "name": "stderr",
     "output_type": "stream",
     "text": [
      "INFO:root:Initializing...\n"
     ]
    }
   ],
   "source": [
    "helper = HelperPI.Helper()\n",
    "\n",
    "X, y = make_regression(n_samples=100, n_features=10, n_informative=10)\n",
    "\n",
    "X_train, X_test, y_train, y_test = helper.splitData2(X=X, y=y, testsize=.20)"
   ]
  },
  {
   "cell_type": "code",
   "execution_count": 92,
   "metadata": {},
   "outputs": [
    {
     "data": {
      "text/plain": [
       "[_NumericColumn(key='x', shape=(10,), default_value=None, dtype=tf.float32, normalizer_fn=None)]"
      ]
     },
     "execution_count": 92,
     "metadata": {},
     "output_type": "execute_result"
    }
   ],
   "source": [
    "COLUMNS = ['x1','x2','x3','x4','x5','x6','x7','x8','x9','x10']\n",
    "FEATURES = ['x1','x2','x3','x4','x5','x6','x7','x8','x9','x10']\n",
    "LABEL = 'y'\n",
    "\n",
    "feature_columns = [tf.feature_column.numeric_column('x', shape=[10])]\n",
    "feature_columns\n"
   ]
  },
  {
   "cell_type": "code",
   "execution_count": 98,
   "metadata": {},
   "outputs": [],
   "source": [
    "regressor = tf.estimator.DNNRegressor(\n",
    "    feature_columns = feature_columns,\n",
    "    hidden_units=[200,200,20])\n",
    "\n"
   ]
  },
  {
   "cell_type": "code",
   "execution_count": 99,
   "metadata": {},
   "outputs": [
    {
     "data": {
      "text/plain": [
       "<tensorflow.python.estimator.canned.dnn.DNNRegressor at 0x24484048>"
      ]
     },
     "execution_count": 99,
     "metadata": {},
     "output_type": "execute_result"
    }
   ],
   "source": [
    "train_input_fn = tf.estimator.inputs.numpy_input_fn(\n",
    "    x={'x': X_train}, \n",
    "    y=y_train, \n",
    "    batch_size=10, \n",
    "    num_epochs=None,\n",
    "    shuffle=True)\n",
    "            \n",
    "regressor.train(input_fn= train_input_fn,\n",
    "                steps=10000)"
   ]
  },
  {
   "cell_type": "code",
   "execution_count": 100,
   "metadata": {},
   "outputs": [
    {
     "name": "stdout",
     "output_type": "stream",
     "text": [
      "Loss: 3995.233154\n"
     ]
    }
   ],
   "source": [
    "test_input_fn = tf.estimator.inputs.numpy_input_fn(\n",
    "    x={'x': X_test}, \n",
    "    y=y_test, \n",
    "    batch_size=100, \n",
    "    num_epochs=1,\n",
    "    shuffle=False)\n",
    "\n",
    "\n",
    "ev = regressor.evaluate(\n",
    "    input_fn = test_input_fn)\n",
    "\n",
    "loss_score = ev[\"loss\"]\n",
    "print(\"Loss: {0:f}\".format(loss_score))"
   ]
  },
  {
   "cell_type": "code",
   "execution_count": 101,
   "metadata": {},
   "outputs": [
    {
     "name": "stdout",
     "output_type": "stream",
     "text": [
      "RMSE test: 14.133705922\n",
      "MAE test: 10.5446091598\n"
     ]
    }
   ],
   "source": [
    "\n",
    "predictions = regressor.predict(input_fn=test_input_fn)\n",
    "y_predicted = np.array(list(p['predictions'] for p in predictions))\n",
    "y_predicted = y_predicted.reshape(y_test.shape)\n",
    "\n",
    "rmse1 = np.sqrt(mean_squared_error(y_test, y_predicted))\n",
    "mae1 = mean_absolute_error(y_test, y_predicted)\n",
    "\n",
    "print('RMSE test: ' + str(rmse1))\n",
    "print('MAE test: ' + str(mae1))"
   ]
  },
  {
   "cell_type": "code",
   "execution_count": 102,
   "metadata": {},
   "outputs": [
    {
     "data": {
      "image/png": "[encoded data removed]",
      "text/plain": [
       "<matplotlib.figure.Figure at 0x1ae2c908>"
      ]
     },
     "metadata": {},
     "output_type": "display_data"
    },
    {
     "name": "stdout",
     "output_type": "stream",
     "text": [
      "Anderson-Darling: 0.6036088657717897 Critical Value: 0.692 \n"
     ]
    },
    {
     "data": {
      "image/png": "[encoded data removed]",
      "text/plain": [
       "<matplotlib.figure.Figure at 0x240fdf28>"
      ]
     },
     "metadata": {},
     "output_type": "display_data"
    }
   ],
   "source": [
    "tfmodel = regressor\n",
    "testing = pd.DataFrame({'true':y_test, 'pred':y_predicted})\n",
    "\n",
    "testing['resid'] = testing['pred']-testing['true']\n",
    "testing['stdresid'] = testing['resid']/np.std(testing['resid'])\n",
    "\n",
    "plt.plot(testing['stdresid'], '.', alpha = 0.5, color='black')\n",
    "plt.axhline(y=0, color = 'green')\n",
    "plt.axhline(y=2, color = 'blue', linestyle='--')\n",
    "plt.axhline(y=-2, color = 'blue', linestyle='--')\n",
    "plt.axhline(y=3, color = 'red', linestyle='--')\n",
    "plt.axhline(y=-3, color = 'red', linestyle='--')\n",
    "\n",
    "plt.title('Standardized Residuals')\n",
    "plt.ylabel('Standard Deviations')\n",
    "plt.xlabel('Observation Number')\n",
    "plt.show()\n",
    "\n",
    "stat, cv, sig = stats.anderson(testing['stdresid'], 'norm')\n",
    "print('Anderson-Darling: {} Critical Value: {} '.format(stat, cv[2]))\n",
    "\n",
    "plt.hist(testing['stdresid'], bins=25)\n",
    "plt.show()"
   ]
  },
  {
   "cell_type": "code",
   "execution_count": null,
   "metadata": {
    "collapsed": true
   },
   "outputs": [],
   "source": []
  }
 ],
 "metadata": {
  "kernelspec": {
   "display_name": "Python 3",
   "language": "python",
   "name": "python3"
  },
  "language_info": {
   "codemirror_mode": {
    "name": "ipython",
    "version": 3
   },
   "file_extension": ".py",
   "mimetype": "text/x-python",
   "name": "python",
   "nbconvert_exporter": "python",
   "pygments_lexer": "ipython3",
   "version": "3.6.1"
  }
 },
 "nbformat": 4,
 "nbformat_minor": 2
}
